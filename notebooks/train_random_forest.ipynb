{
 "cells": [
  {
   "cell_type": "code",
   "execution_count": 8,
   "outputs": [],
   "source": [
    "from drowsiness_detection.data import load_engineered_60_sec_data\n",
    "from sklearn.ensemble import RandomForestClassifier\n",
    "import numpy as np\n",
    "from drowsiness_detection import config\n",
    "from joblib import dump\n",
    "import time"
   ],
   "metadata": {
    "collapsed": false,
    "pycharm": {
     "name": "#%%\n"
    }
   }
  },
  {
   "cell_type": "code",
   "execution_count": 2,
   "outputs": [],
   "source": [
    "data = load_engineered_60_sec_data()\n",
    "\n",
    "data.X_train = np.concatenate([data.X_train, data.X_val])\n",
    "data.y_train = np.concatenate([data.y_train, data.y_val])"
   ],
   "metadata": {
    "collapsed": false,
    "pycharm": {
     "name": "#%%\n"
    }
   }
  },
  {
   "cell_type": "code",
   "execution_count": 3,
   "outputs": [],
   "source": [
    "best_params=  {\n",
    "    \"class_weight\": \"balanced\",\n",
    "    \"criterion\": \"entropy\",\n",
    "    \"max_depth\": 3,\n",
    "    \"max_features\": \"sqrt\",\n",
    "    \"min_samples_split\": 0.02671651604985316,\n",
    "    \"n_estimators\": 512\n",
    "  }\n",
    "\n",
    "model = RandomForestClassifier(**best_params, verbose=1, n_jobs=-2)\n"
   ],
   "metadata": {
    "collapsed": false,
    "pycharm": {
     "name": "#%%\n"
    }
   }
  },
  {
   "cell_type": "code",
   "execution_count": 4,
   "outputs": [
    {
     "name": "stderr",
     "output_type": "stream",
     "text": [
      "[Parallel(n_jobs=-2)]: Using backend ThreadingBackend with 7 concurrent workers.\n",
      "[Parallel(n_jobs=-2)]: Done  36 tasks      | elapsed:    2.1s\n",
      "[Parallel(n_jobs=-2)]: Done 186 tasks      | elapsed:    9.7s\n",
      "[Parallel(n_jobs=-2)]: Done 436 tasks      | elapsed:   22.1s\n",
      "[Parallel(n_jobs=-2)]: Done 512 out of 512 | elapsed:   25.9s finished\n"
     ]
    },
    {
     "data": {
      "text/plain": "RandomForestClassifier(class_weight='balanced', criterion='entropy',\n                       max_depth=3, max_features='sqrt',\n                       min_samples_split=0.02671651604985316, n_estimators=512,\n                       n_jobs=-2, verbose=1)"
     },
     "execution_count": 4,
     "metadata": {},
     "output_type": "execute_result"
    }
   ],
   "source": [
    "model.fit(X=data.X_train, y=data.y_train)"
   ],
   "metadata": {
    "collapsed": false,
    "pycharm": {
     "name": "#%%\n"
    }
   }
  },
  {
   "cell_type": "code",
   "execution_count": 9,
   "outputs": [
    {
     "data": {
      "text/plain": "['/home/tim/IM/data/models/60sec/random_forest_20220728-115935.joblib']"
     },
     "execution_count": 9,
     "metadata": {},
     "output_type": "execute_result"
    }
   ],
   "source": [
    "dump(model, str(config.MODEL_DIR_PATH.joinpath(f\"random_forest_{time.strftime('%Y%m%d-%H%M%S')}.joblib\")))"
   ],
   "metadata": {
    "collapsed": false,
    "pycharm": {
     "name": "#%%\n"
    }
   }
  },
  {
   "cell_type": "code",
   "execution_count": 21,
   "outputs": [
    {
     "name": "stderr",
     "output_type": "stream",
     "text": [
      "[Parallel(n_jobs=7)]: Using backend ThreadingBackend with 7 concurrent workers.\n",
      "[Parallel(n_jobs=7)]: Done  36 tasks      | elapsed:    0.0s\n",
      "[Parallel(n_jobs=7)]: Done 186 tasks      | elapsed:    0.1s\n",
      "[Parallel(n_jobs=7)]: Done 436 tasks      | elapsed:    0.2s\n",
      "[Parallel(n_jobs=7)]: Done 512 out of 512 | elapsed:    0.2s finished\n",
      "[Parallel(n_jobs=7)]: Using backend ThreadingBackend with 7 concurrent workers.\n",
      "[Parallel(n_jobs=7)]: Done  36 tasks      | elapsed:    0.0s\n",
      "[Parallel(n_jobs=7)]: Done 186 tasks      | elapsed:    0.2s\n",
      "[Parallel(n_jobs=7)]: Done 436 tasks      | elapsed:    0.4s\n",
      "[Parallel(n_jobs=7)]: Done 512 out of 512 | elapsed:    0.4s finished\n"
     ]
    }
   ],
   "source": [
    "y_pred_test = model.predict_proba(data.X_test)[:,1]\n",
    "y_pred_train = model.predict_proba(data.X_train)[:,1]"
   ],
   "metadata": {
    "collapsed": false,
    "pycharm": {
     "name": "#%%\n"
    }
   }
  },
  {
   "cell_type": "code",
   "execution_count": 22,
   "outputs": [
    {
     "name": "stdout",
     "output_type": "stream",
     "text": [
      "0.7006006468504543\n"
     ]
    }
   ],
   "source": [
    "print(np.mean((y_pred_test > .5) == data.y_test))"
   ],
   "metadata": {
    "collapsed": false,
    "pycharm": {
     "name": "#%%\n"
    }
   }
  },
  {
   "cell_type": "code",
   "execution_count": 23,
   "outputs": [],
   "source": [
    "np.save(str(config.PREDICTION_DIR_PATH.joinpath(f\"rf_y_pred_test_{time.strftime('%Y%m%d-%H%M%S')}.npy\")), y_pred_test)\n",
    "np.save(str(config.PREDICTION_DIR_PATH.joinpath(f\"rf_y_pred_train_{time.strftime('%Y%m%d-%H%M%S')}.npy\")), y_pred_train)"
   ],
   "metadata": {
    "collapsed": false,
    "pycharm": {
     "name": "#%%\n"
    }
   }
  },
  {
   "cell_type": "code",
   "execution_count": null,
   "outputs": [],
   "source": [],
   "metadata": {
    "collapsed": false,
    "pycharm": {
     "name": "#%%\n"
    }
   }
  }
 ],
 "metadata": {
  "kernelspec": {
   "display_name": "Python 3",
   "language": "python",
   "name": "python3"
  },
  "language_info": {
   "codemirror_mode": {
    "name": "ipython",
    "version": 2
   },
   "file_extension": ".py",
   "mimetype": "text/x-python",
   "name": "python",
   "nbconvert_exporter": "python",
   "pygments_lexer": "ipython2",
   "version": "2.7.6"
  }
 },
 "nbformat": 4,
 "nbformat_minor": 0
}