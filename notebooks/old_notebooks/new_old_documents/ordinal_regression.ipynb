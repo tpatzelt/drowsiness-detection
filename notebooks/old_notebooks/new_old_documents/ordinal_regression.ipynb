{
 "cells": [
  {
   "cell_type": "code",
   "execution_count": 1,
   "metadata": {
    "collapsed": true
   },
   "outputs": [],
   "source": [
    "import pandas as pd\n",
    "from statsmodels.miscmodels.ordinal_model import OrderedModel\n",
    "\n",
    "from drowsiness_detection.data import create_handcrafted_data"
   ]
  },
  {
   "cell_type": "code",
   "execution_count": 2,
   "outputs": [
    {
     "name": "stdout",
     "output_type": "stream",
     "text": [
      "Extracting file ../data/potsdam_aeye_112020/001_1_a.json and response file: ../data/sleep_alc_labels/001_1_a_karolinska.csv.\n",
      "Extracting file ../data/potsdam_aeye_112020/001_2_s.json and response file: ../data/sleep_alc_labels/001_2_s_karolinska.csv.\n",
      "Extracting file ../data/potsdam_aeye_112020/001_3_b.json and response file: ../data/sleep_alc_labels/001_3_b_karolinska.csv.\n",
      "Extracting file ../data/potsdam_aeye_112020/002_1_b.json and response file: ../data/sleep_alc_labels/002_1_b_karolinska.csv.\n",
      "Extracting file ../data/potsdam_aeye_112020/002_2_a.json and response file: ../data/sleep_alc_labels/002_2_a_karolinska.csv.\n",
      "Extracting file ../data/potsdam_aeye_112020/002_3_s.json and response file: ../data/sleep_alc_labels/002_3_s_karolinska.csv.\n",
      "Extracting file ../data/potsdam_aeye_112020/003_1_b.json and response file: ../data/sleep_alc_labels/003_1_b_karolinska.csv.\n",
      "Extracting file ../data/potsdam_aeye_112020/003_2_s.json and response file: ../data/sleep_alc_labels/003_2_s_karolinska.csv.\n",
      "Extracting file ../data/potsdam_aeye_112020/003_3_a.json and response file: ../data/sleep_alc_labels/003_3_a_karolinska.csv.\n",
      "Extracting file ../data/potsdam_aeye_112020/004_1_s.json and response file: ../data/sleep_alc_labels/004_1_s_karolinska.csv.\n",
      "Extracting file ../data/potsdam_aeye_112020/004_2_a.json and response file: ../data/sleep_alc_labels/004_2_a_karolinska.csv.\n",
      "Extracting file ../data/potsdam_aeye_112020/004_3_b.json and response file: ../data/sleep_alc_labels/004_3_b_karolinska.csv.\n",
      "Extracting file ../data/potsdam_aeye_112020/005_1_s.json and response file: ../data/sleep_alc_labels/005_1_s_karolinska.csv.\n",
      "Extracting file ../data/potsdam_aeye_112020/005_2_b.json and response file: ../data/sleep_alc_labels/005_2_b_karolinska.csv.\n",
      "Extracting file ../data/potsdam_aeye_112020/005_3_a.json and response file: ../data/sleep_alc_labels/005_3_a_karolinska.csv.\n",
      "Extracting file ../data/potsdam_aeye_112020/008_1_b.json and response file: ../data/sleep_alc_labels/008_1_b_karolinska.csv.\n",
      "Extracting file ../data/potsdam_aeye_112020/008_2_a.json and response file: ../data/sleep_alc_labels/008_2_a_karolinska.csv.\n",
      "Extracting file ../data/potsdam_aeye_112020/008_3_s.json and response file: ../data/sleep_alc_labels/008_3_s_karolinska.csv.\n",
      "Extracting file ../data/potsdam_aeye_112020/009_1_b.json and response file: ../data/sleep_alc_labels/009_1_b_karolinska.csv.\n",
      "Extracting file ../data/potsdam_aeye_112020/011_1_s.json and response file: ../data/sleep_alc_labels/011_1_s_karolinska.csv.\n",
      "Extracting file ../data/potsdam_aeye_112020/011_2_b.json and response file: ../data/sleep_alc_labels/011_2_b_karolinska.csv.\n",
      "Extracting file ../data/potsdam_aeye_112020/011_3_a.json and response file: ../data/sleep_alc_labels/011_3_a_karolinska.csv.\n",
      "Extracting file ../data/potsdam_aeye_112020/014_1_b.json and response file: ../data/sleep_alc_labels/014_1_b_karolinska.csv.\n"
     ]
    },
    {
     "name": "stderr",
     "output_type": "stream",
     "text": [
      "100%|██████████| 137537/137537 [00:15<00:00, 8719.84it/s] \n",
      "100%|██████████| 150047/150047 [00:29<00:00, 5007.76it/s]\n",
      "100%|██████████| 175077/175077 [00:27<00:00, 6325.56it/s]\n",
      "100%|██████████| 156257/156257 [00:28<00:00, 5467.32it/s]\n",
      " 55%|█████▌    | 91682/165426 [00:21<00:17, 4246.59it/s]\n"
     ]
    },
    {
     "ename": "KeyboardInterrupt",
     "evalue": "",
     "output_type": "error",
     "traceback": [
      "\u001B[0;31m---------------------------------------------------------------------------\u001B[0m",
      "\u001B[0;31mKeyboardInterrupt\u001B[0m                         Traceback (most recent call last)",
      "\u001B[0;32m<ipython-input-2-4dad2394c78b>\u001B[0m in \u001B[0;36m<module>\u001B[0;34m\u001B[0m\n\u001B[1;32m      1\u001B[0m \u001B[0minterval\u001B[0m \u001B[0;34m=\u001B[0m \u001B[0;36m60\u001B[0m\u001B[0;34m\u001B[0m\u001B[0;34m\u001B[0m\u001B[0m\n\u001B[0;32m----> 2\u001B[0;31m \u001B[0mfull_df\u001B[0m \u001B[0;34m=\u001B[0m \u001B[0mcreate_handcrafted_data\u001B[0m\u001B[0;34m(\u001B[0m\u001B[0minterval\u001B[0m\u001B[0;34m)\u001B[0m\u001B[0;34m\u001B[0m\u001B[0;34m\u001B[0m\u001B[0m\n\u001B[0m",
      "\u001B[0;32m~/IM/drowsiness_detection/data.py\u001B[0m in \u001B[0;36mcreate_handcrafted_data\u001B[0;34m(interval)\u001B[0m\n\u001B[1;32m     77\u001B[0m         \u001B[0mdf_view\u001B[0m \u001B[0;34m=\u001B[0m \u001B[0mfull_df\u001B[0m\u001B[0;34m.\u001B[0m\u001B[0mloc\u001B[0m\u001B[0;34m[\u001B[0m\u001B[0mlevel\u001B[0m\u001B[0;34m]\u001B[0m\u001B[0;34m.\u001B[0m\u001B[0mcopy\u001B[0m\u001B[0;34m(\u001B[0m\u001B[0;34m)\u001B[0m\u001B[0;34m\u001B[0m\u001B[0;34m\u001B[0m\u001B[0m\n\u001B[1;32m     78\u001B[0m         \u001B[0mdf_view\u001B[0m \u001B[0;34m=\u001B[0m \u001B[0madd_perclos_features_to_df\u001B[0m\u001B[0;34m(\u001B[0m\u001B[0mfeature_df\u001B[0m\u001B[0;34m=\u001B[0m\u001B[0mdf_view\u001B[0m\u001B[0;34m)\u001B[0m\u001B[0;34m\u001B[0m\u001B[0;34m\u001B[0m\u001B[0m\n\u001B[0;32m---> 79\u001B[0;31m         \u001B[0mdf_view\u001B[0m \u001B[0;34m=\u001B[0m \u001B[0madd_blink_features_by_eye_state\u001B[0m\u001B[0;34m(\u001B[0m\u001B[0mfeature_df\u001B[0m\u001B[0;34m=\u001B[0m\u001B[0mdf_view\u001B[0m\u001B[0;34m,\u001B[0m \u001B[0minterval_in_sec\u001B[0m\u001B[0;34m=\u001B[0m\u001B[0minterval\u001B[0m\u001B[0;34m)\u001B[0m\u001B[0;34m\u001B[0m\u001B[0;34m\u001B[0m\u001B[0m\n\u001B[0m\u001B[1;32m     80\u001B[0m         df_view = df_view[['perclos_combined', 'num_blinks',\n\u001B[1;32m     81\u001B[0m                            \u001B[0;34m'mean_blink_length'\u001B[0m\u001B[0;34m,\u001B[0m \u001B[0;34m'mean_opening_velocity'\u001B[0m\u001B[0;34m,\u001B[0m \u001B[0;34m'mean_closing_velocity'\u001B[0m\u001B[0;34m,\u001B[0m\u001B[0;34m\u001B[0m\u001B[0;34m\u001B[0m\u001B[0m\n",
      "\u001B[0;32m~/IM/drowsiness_detection/blink_features.py\u001B[0m in \u001B[0;36madd_blink_features_by_eye_state\u001B[0;34m(feature_df, interval_in_sec, fps)\u001B[0m\n\u001B[1;32m    107\u001B[0m             \u001B[0maverage_blink_length\u001B[0m \u001B[0;34m=\u001B[0m \u001B[0mfloat\u001B[0m\u001B[0;34m(\u001B[0m\u001B[0mnp\u001B[0m\u001B[0;34m.\u001B[0m\u001B[0mnansum\u001B[0m\u001B[0;34m(\u001B[0m\u001B[0;34m[\u001B[0m\u001B[0mblinks\u001B[0m\u001B[0;34m[\u001B[0m\u001B[0mkey\u001B[0m\u001B[0;34m]\u001B[0m\u001B[0;34m[\u001B[0m\u001B[0;34m\"total_length\"\u001B[0m\u001B[0;34m]\u001B[0m \u001B[0;32mfor\u001B[0m \u001B[0mkey\u001B[0m \u001B[0;32min\u001B[0m \u001B[0mkeys_in_range\u001B[0m\u001B[0;34m]\u001B[0m\u001B[0;34m)\u001B[0m\u001B[0;34m)\u001B[0m \u001B[0;34m/\u001B[0m \u001B[0mnum_blinks\u001B[0m\u001B[0;34m\u001B[0m\u001B[0;34m\u001B[0m\u001B[0m\n\u001B[1;32m    108\u001B[0m             \u001B[0maverage_opening_velocity\u001B[0m \u001B[0;34m=\u001B[0m \u001B[0mfloat\u001B[0m\u001B[0;34m(\u001B[0m\u001B[0mnp\u001B[0m\u001B[0;34m.\u001B[0m\u001B[0mnansum\u001B[0m\u001B[0;34m(\u001B[0m\u001B[0;34m[\u001B[0m\u001B[0mblinks\u001B[0m\u001B[0;34m[\u001B[0m\u001B[0mkey\u001B[0m\u001B[0;34m]\u001B[0m\u001B[0;34m[\u001B[0m\u001B[0;34m\"opening_velocity\"\u001B[0m\u001B[0;34m]\u001B[0m \u001B[0;32mfor\u001B[0m \u001B[0mkey\u001B[0m \u001B[0;32min\u001B[0m \u001B[0mkeys_in_range\u001B[0m\u001B[0;34m]\u001B[0m\u001B[0;34m)\u001B[0m\u001B[0;34m)\u001B[0m \u001B[0;34m/\u001B[0m \u001B[0mnum_blinks\u001B[0m\u001B[0;34m\u001B[0m\u001B[0;34m\u001B[0m\u001B[0m\n\u001B[0;32m--> 109\u001B[0;31m             \u001B[0maverage_closing_velocity\u001B[0m \u001B[0;34m=\u001B[0m \u001B[0mfloat\u001B[0m\u001B[0;34m(\u001B[0m\u001B[0mnp\u001B[0m\u001B[0;34m.\u001B[0m\u001B[0mnansum\u001B[0m\u001B[0;34m(\u001B[0m\u001B[0;34m[\u001B[0m\u001B[0mblinks\u001B[0m\u001B[0;34m[\u001B[0m\u001B[0mkey\u001B[0m\u001B[0;34m]\u001B[0m\u001B[0;34m[\u001B[0m\u001B[0;34m\"closing_velocity\"\u001B[0m\u001B[0;34m]\u001B[0m \u001B[0;32mfor\u001B[0m \u001B[0mkey\u001B[0m \u001B[0;32min\u001B[0m \u001B[0mkeys_in_range\u001B[0m\u001B[0;34m]\u001B[0m\u001B[0;34m)\u001B[0m\u001B[0;34m)\u001B[0m \u001B[0;34m/\u001B[0m \u001B[0mnum_blinks\u001B[0m\u001B[0;34m\u001B[0m\u001B[0;34m\u001B[0m\u001B[0m\n\u001B[0m\u001B[1;32m    110\u001B[0m \u001B[0;34m\u001B[0m\u001B[0m\n\u001B[1;32m    111\u001B[0m         \u001B[0;32mexcept\u001B[0m \u001B[0mZeroDivisionError\u001B[0m\u001B[0;34m:\u001B[0m\u001B[0;34m\u001B[0m\u001B[0;34m\u001B[0m\u001B[0m\n",
      "\u001B[0;32m~/IM/venv/lib/python3.9/site-packages/numpy/core/overrides.py\u001B[0m in \u001B[0;36mnansum\u001B[0;34m(*args, **kwargs)\u001B[0m\n",
      "\u001B[0;32m~/IM/venv/lib/python3.9/site-packages/numpy/lib/nanfunctions.py\u001B[0m in \u001B[0;36mnansum\u001B[0;34m(a, axis, dtype, out, keepdims, initial, where)\u001B[0m\n\u001B[1;32m    721\u001B[0m \u001B[0;34m\u001B[0m\u001B[0m\n\u001B[1;32m    722\u001B[0m     \"\"\"\n\u001B[0;32m--> 723\u001B[0;31m     \u001B[0ma\u001B[0m\u001B[0;34m,\u001B[0m \u001B[0mmask\u001B[0m \u001B[0;34m=\u001B[0m \u001B[0m_replace_nan\u001B[0m\u001B[0;34m(\u001B[0m\u001B[0ma\u001B[0m\u001B[0;34m,\u001B[0m \u001B[0;36m0\u001B[0m\u001B[0;34m)\u001B[0m\u001B[0;34m\u001B[0m\u001B[0;34m\u001B[0m\u001B[0m\n\u001B[0m\u001B[1;32m    724\u001B[0m     return np.sum(a, axis=axis, dtype=dtype, out=out, keepdims=keepdims,\n\u001B[1;32m    725\u001B[0m                   initial=initial, where=where)\n",
      "\u001B[0;32m~/IM/venv/lib/python3.9/site-packages/numpy/lib/nanfunctions.py\u001B[0m in \u001B[0;36m_replace_nan\u001B[0;34m(a, val)\u001B[0m\n\u001B[1;32m    100\u001B[0m         \u001B[0mmask\u001B[0m \u001B[0;34m=\u001B[0m \u001B[0mnp\u001B[0m\u001B[0;34m.\u001B[0m\u001B[0mnot_equal\u001B[0m\u001B[0;34m(\u001B[0m\u001B[0ma\u001B[0m\u001B[0;34m,\u001B[0m \u001B[0ma\u001B[0m\u001B[0;34m,\u001B[0m \u001B[0mdtype\u001B[0m\u001B[0;34m=\u001B[0m\u001B[0mbool\u001B[0m\u001B[0;34m)\u001B[0m\u001B[0;34m\u001B[0m\u001B[0;34m\u001B[0m\u001B[0m\n\u001B[1;32m    101\u001B[0m     \u001B[0;32melif\u001B[0m \u001B[0missubclass\u001B[0m\u001B[0;34m(\u001B[0m\u001B[0ma\u001B[0m\u001B[0;34m.\u001B[0m\u001B[0mdtype\u001B[0m\u001B[0;34m.\u001B[0m\u001B[0mtype\u001B[0m\u001B[0;34m,\u001B[0m \u001B[0mnp\u001B[0m\u001B[0;34m.\u001B[0m\u001B[0minexact\u001B[0m\u001B[0;34m)\u001B[0m\u001B[0;34m:\u001B[0m\u001B[0;34m\u001B[0m\u001B[0;34m\u001B[0m\u001B[0m\n\u001B[0;32m--> 102\u001B[0;31m         \u001B[0mmask\u001B[0m \u001B[0;34m=\u001B[0m \u001B[0mnp\u001B[0m\u001B[0;34m.\u001B[0m\u001B[0misnan\u001B[0m\u001B[0;34m(\u001B[0m\u001B[0ma\u001B[0m\u001B[0;34m)\u001B[0m\u001B[0;34m\u001B[0m\u001B[0;34m\u001B[0m\u001B[0m\n\u001B[0m\u001B[1;32m    103\u001B[0m     \u001B[0;32melse\u001B[0m\u001B[0;34m:\u001B[0m\u001B[0;34m\u001B[0m\u001B[0;34m\u001B[0m\u001B[0m\n\u001B[1;32m    104\u001B[0m         \u001B[0mmask\u001B[0m \u001B[0;34m=\u001B[0m \u001B[0;32mNone\u001B[0m\u001B[0;34m\u001B[0m\u001B[0;34m\u001B[0m\u001B[0m\n",
      "\u001B[0;31mKeyboardInterrupt\u001B[0m: "
     ]
    }
   ],
   "source": [
    "interval = 60\n",
    "full_df = create_handcrafted_data(interval)"
   ],
   "metadata": {
    "collapsed": false,
    "pycharm": {
     "name": "#%%\n"
    }
   }
  },
  {
   "cell_type": "code",
   "execution_count": null,
   "outputs": [],
   "source": [
    "full_df[\"karolinska_response_linear_interpolation\"] = full_df[\"karolinska_response_linear_interpolation\"].astype(\"category\")\n",
    "full_df[full_df.columns[:-1]] = full_df[full_df.columns[:-1]].astype(float)\n"
   ],
   "metadata": {
    "collapsed": false,
    "pycharm": {
     "name": "#%%\n"
    }
   }
  },
  {
   "cell_type": "code",
   "execution_count": null,
   "outputs": [],
   "source": [
    "full_df[\"karolinska_response_linear_interpolation\"].unique()"
   ],
   "metadata": {
    "collapsed": false,
    "pycharm": {
     "name": "#%%\n"
    }
   }
  },
  {
   "cell_type": "code",
   "execution_count": null,
   "outputs": [],
   "source": [
    "mod_log = OrderedModel(full_df[\"karolinska_response_linear_interpolation\"].to_numpy(),\n",
    "                       full_df[full_df.columns[:-1]].to_numpy(),\n",
    "                       distr='logit')"
   ],
   "metadata": {
    "collapsed": false,
    "pycharm": {
     "name": "#%%\n"
    }
   }
  },
  {
   "cell_type": "code",
   "execution_count": null,
   "outputs": [],
   "source": [
    "res_log = mod_log.fit(method='bfgs', disp=False)\n",
    "res_log.summary()"
   ],
   "metadata": {
    "collapsed": false,
    "pycharm": {
     "name": "#%%\n"
    }
   }
  },
  {
   "cell_type": "code",
   "execution_count": null,
   "outputs": [],
   "source": [
    "predicted = res_log.model.predict(res_log.params, exog=full_df[full_df.columns[:-1]])\n",
    "predicted"
   ],
   "metadata": {
    "collapsed": false,
    "pycharm": {
     "name": "#%%\n"
    }
   }
  },
  {
   "cell_type": "code",
   "execution_count": null,
   "outputs": [],
   "source": [
    "pred_choice = predicted.argmax(1)\n",
    "print('Fraction of correct choice predictions')\n",
    "print((full_df[\"karolinska_response_linear_interpolation\"].to_numpy() == pred_choice).mean())"
   ],
   "metadata": {
    "collapsed": false,
    "pycharm": {
     "name": "#%%\n"
    }
   }
  },
  {
   "cell_type": "code",
   "execution_count": 95,
   "outputs": [
    {
     "data": {
      "text/plain": "array([ 2.07353765e-03,  4.83485043e+00, -3.57397729e-01, -7.17429395e-01,\n       -7.76437910e-01, -1.56366125e+00, -8.58210735e-01])"
     },
     "execution_count": 95,
     "metadata": {},
     "output_type": "execute_result"
    }
   ],
   "source": [
    "res_log"
   ],
   "metadata": {
    "collapsed": false,
    "pycharm": {
     "name": "#%%\n"
    }
   }
  },
  {
   "cell_type": "code",
   "execution_count": null,
   "outputs": [],
   "source": [],
   "metadata": {
    "collapsed": false,
    "pycharm": {
     "name": "#%%\n"
    }
   }
  },
  {
   "cell_type": "code",
   "execution_count": 10,
   "outputs": [],
   "source": [
    "kss_dtype = pd.CategoricalDtype(categories=list(range(1, 10)), ordered=True)\n",
    "full_df[\"karolinska_response_linear_interpolation\"] = full_df[\"karolinska_response_linear_interpolation\"].astype(kss_dtype)"
   ],
   "metadata": {
    "collapsed": false,
    "pycharm": {
     "name": "#%%\n"
    }
   }
  },
  {
   "cell_type": "code",
   "execution_count": 43,
   "outputs": [
    {
     "data": {
      "text/plain": "0      1799\n1      1800\n2      1801\n3      1802\n4      1803\n       ... \n995    2794\n996    2795\n997    2796\n998    2797\n999    2798\nName: frame, Length: 1000, dtype: int64"
     },
     "execution_count": 43,
     "metadata": {},
     "output_type": "execute_result"
    }
   ],
   "source": [
    "df = full_df.copy().iloc[:1000]\n",
    "target_df = df.pop('karolinska_response_linear_interpolation')\n",
    "df.pop(\"frame\")"
   ],
   "metadata": {
    "collapsed": false,
    "pycharm": {
     "name": "#%%\n"
    }
   }
  },
  {
   "cell_type": "code",
   "execution_count": 46,
   "outputs": [
    {
     "name": "stdout",
     "output_type": "stream",
     "text": [
      "(1000,)\n",
      "(1000, 7)\n"
     ]
    }
   ],
   "source": [
    "print(target_df.shape)\n",
    "print(df.shape)\n",
    "df = df.astype(float)"
   ],
   "metadata": {
    "collapsed": false,
    "pycharm": {
     "name": "#%%\n"
    }
   }
  },
  {
   "cell_type": "code",
   "execution_count": 52,
   "outputs": [],
   "source": [
    "target_df = target_df.astype(\"category\")"
   ],
   "metadata": {
    "collapsed": false,
    "pycharm": {
     "name": "#%%\n"
    }
   }
  },
  {
   "cell_type": "code",
   "execution_count": null,
   "outputs": [],
   "source": [],
   "metadata": {
    "collapsed": false,
    "pycharm": {
     "name": "#%%\n"
    }
   }
  },
  {
   "cell_type": "code",
   "execution_count": 67,
   "outputs": [],
   "source": [],
   "metadata": {
    "collapsed": false,
    "pycharm": {
     "name": "#%%\n"
    }
   }
  },
  {
   "cell_type": "code",
   "execution_count": 73,
   "outputs": [],
   "source": [],
   "metadata": {
    "collapsed": false,
    "pycharm": {
     "name": "#%%\n"
    }
   }
  },
  {
   "cell_type": "code",
   "execution_count": 74,
   "outputs": [
    {
     "data": {
      "text/plain": "perclos_combined                             float64\nnum_blinks                                   float64\nmean_blink_length                            float64\nmean_opening_velocity                        float64\nmean_closing_velocity                        float64\nmax_blink_length                             float64\nmin_blink_length                             float64\nkarolinska_response_linear_interpolation    category\ndtype: object"
     },
     "execution_count": 74,
     "metadata": {},
     "output_type": "execute_result"
    }
   ],
   "source": [
    "full_df.dtypes"
   ],
   "metadata": {
    "collapsed": false,
    "pycharm": {
     "name": "#%%\n"
    }
   }
  },
  {
   "cell_type": "code",
   "execution_count": 80,
   "outputs": [],
   "source": [
    "mod_log = OrderedModel(full_df[\"karolinska_response_linear_interpolation\"].to_numpy(),\n",
    "                       full_df[[\"mean_blink_length\", \"mean_closing_velocity\"]].to_numpy(),\n",
    "                       distr='logit')\n"
   ],
   "metadata": {
    "collapsed": false,
    "pycharm": {
     "name": "#%%\n"
    }
   }
  },
  {
   "cell_type": "code",
   "execution_count": 81,
   "outputs": [
    {
     "name": "stderr",
     "output_type": "stream",
     "text": [
      "/home/tim/IM/venv/lib/python3.9/site-packages/statsmodels/base/model.py:604: ConvergenceWarning: Maximum Likelihood optimization failed to converge. Check mle_retvals\n",
      "  warnings.warn(\"Maximum Likelihood optimization failed to \"\n"
     ]
    },
    {
     "data": {
      "text/plain": "<class 'statsmodels.iolib.summary.Summary'>\n\"\"\"\n                             OrderedModel Results                             \n==============================================================================\nDep. Variable:                      y   Log-Likelihood:            -4.4973e+05\nModel:                   OrderedModel   AIC:                         8.995e+05\nMethod:            Maximum Likelihood   BIC:                         8.995e+05\nDate:                Sat, 08 Jan 2022                                         \nTime:                        17:20:55                                         \nNo. Observations:              283986                                         \nDf Residuals:                  283979                                         \nDf Model:                           7                                         \n==============================================================================\n                 coef    std err          z      P>|z|      [0.025      0.975]\n------------------------------------------------------------------------------\nx1             0.0020      0.000      8.665      0.000       0.002       0.002\nx2             4.8649      0.061     79.535      0.000       4.745       4.985\n1/2           -0.3557      0.007    -49.046      0.000      -0.370      -0.341\n2/3           -0.7185      0.005   -131.957      0.000      -0.729      -0.708\n3/5           -0.7764      0.005   -146.311      0.000      -0.787      -0.766\n5/6           -1.5615      0.008   -194.534      0.000      -1.577      -1.546\n6/7           -0.8587      0.006   -149.956      0.000      -0.870      -0.848\n==============================================================================\n\"\"\"",
      "text/html": "<table class=\"simpletable\">\n<caption>OrderedModel Results</caption>\n<tr>\n  <th>Dep. Variable:</th>             <td>y</td>         <th>  Log-Likelihood:    </th> <td>-4.4973e+05</td>\n</tr>\n<tr>\n  <th>Model:</th>               <td>OrderedModel</td>    <th>  AIC:               </th>  <td>8.995e+05</td> \n</tr>\n<tr>\n  <th>Method:</th>           <td>Maximum Likelihood</td> <th>  BIC:               </th>  <td>8.995e+05</td> \n</tr>\n<tr>\n  <th>Date:</th>              <td>Sat, 08 Jan 2022</td>  <th>                     </th>      <td> </td>     \n</tr>\n<tr>\n  <th>Time:</th>                  <td>17:20:55</td>      <th>                     </th>      <td> </td>     \n</tr>\n<tr>\n  <th>No. Observations:</th>       <td>283986</td>       <th>                     </th>      <td> </td>     \n</tr>\n<tr>\n  <th>Df Residuals:</th>           <td>283979</td>       <th>                     </th>      <td> </td>     \n</tr>\n<tr>\n  <th>Df Model:</th>               <td>     7</td>       <th>                     </th>      <td> </td>     \n</tr>\n</table>\n<table class=\"simpletable\">\n<tr>\n   <td></td>      <th>coef</th>     <th>std err</th>      <th>z</th>      <th>P>|z|</th>  <th>[0.025</th>    <th>0.975]</th>  \n</tr>\n<tr>\n  <th>x1</th>  <td>    0.0020</td> <td>    0.000</td> <td>    8.665</td> <td> 0.000</td> <td>    0.002</td> <td>    0.002</td>\n</tr>\n<tr>\n  <th>x2</th>  <td>    4.8649</td> <td>    0.061</td> <td>   79.535</td> <td> 0.000</td> <td>    4.745</td> <td>    4.985</td>\n</tr>\n<tr>\n  <th>1/2</th> <td>   -0.3557</td> <td>    0.007</td> <td>  -49.046</td> <td> 0.000</td> <td>   -0.370</td> <td>   -0.341</td>\n</tr>\n<tr>\n  <th>2/3</th> <td>   -0.7185</td> <td>    0.005</td> <td> -131.957</td> <td> 0.000</td> <td>   -0.729</td> <td>   -0.708</td>\n</tr>\n<tr>\n  <th>3/5</th> <td>   -0.7764</td> <td>    0.005</td> <td> -146.311</td> <td> 0.000</td> <td>   -0.787</td> <td>   -0.766</td>\n</tr>\n<tr>\n  <th>5/6</th> <td>   -1.5615</td> <td>    0.008</td> <td> -194.534</td> <td> 0.000</td> <td>   -1.577</td> <td>   -1.546</td>\n</tr>\n<tr>\n  <th>6/7</th> <td>   -0.8587</td> <td>    0.006</td> <td> -149.956</td> <td> 0.000</td> <td>   -0.870</td> <td>   -0.848</td>\n</tr>\n</table>"
     },
     "execution_count": 81,
     "metadata": {},
     "output_type": "execute_result"
    }
   ],
   "source": [
    "res_log = mod_log.fit(method='nm', disp=False)\n",
    "res_log.summary()"
   ],
   "metadata": {
    "collapsed": false,
    "pycharm": {
     "name": "#%%\n"
    }
   }
  },
  {
   "cell_type": "code",
   "execution_count": null,
   "outputs": [],
   "source": [],
   "metadata": {
    "collapsed": false,
    "pycharm": {
     "name": "#%%\n"
    }
   }
  }
 ],
 "metadata": {
  "kernelspec": {
   "display_name": "Python 3",
   "language": "python",
   "name": "python3"
  },
  "language_info": {
   "codemirror_mode": {
    "name": "ipython",
    "version": 2
   },
   "file_extension": ".py",
   "mimetype": "text/x-python",
   "name": "python",
   "nbconvert_exporter": "python",
   "pygments_lexer": "ipython2",
   "version": "2.7.6"
  }
 },
 "nbformat": 4,
 "nbformat_minor": 0
}