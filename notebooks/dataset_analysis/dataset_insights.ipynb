{
 "cells": [
  {
   "cell_type": "code",
   "execution_count": null,
   "outputs": [],
   "source": [
    "from drowsiness_detection import config\n",
    "config.set_paths(30,10)"
   ],
   "metadata": {
    "collapsed": false
   }
  },
  {
   "cell_type": "code",
   "execution_count": null,
   "outputs": [],
   "source": [
    "path_strings = [str(x) for x in config.PATHS.WINDOW_DATA.iterdir()]\n"
   ],
   "metadata": {
    "collapsed": false
   }
  },
  {
   "cell_type": "code",
   "execution_count": null,
   "outputs": [],
   "source": [
    "num_subjects = len(set([path.split(\"_\")[-4] for path in path_strings]))\n",
    "print(num_subjects)"
   ],
   "metadata": {
    "collapsed": false
   }
  },
  {
   "cell_type": "code",
   "execution_count": null,
   "outputs": [],
   "source": [
    "with open(config.PATHS.DATA.joinpath(\"feature_names_full.txt\")) as fp:\n",
    "    file = fp.read()\n"
   ],
   "metadata": {
    "collapsed": false
   }
  },
  {
   "cell_type": "code",
   "execution_count": null,
   "outputs": [],
   "source": [
    "names = sorted(file.split('\\n'))\n",
    "names"
   ],
   "metadata": {
    "collapsed": false
   }
  },
  {
   "cell_type": "code",
   "execution_count": null,
   "outputs": [],
   "source": [
    "len(names)"
   ],
   "metadata": {
    "collapsed": false
   }
  },
  {
   "cell_type": "code",
   "execution_count": null,
   "outputs": [],
   "source": [
    "count_names = [name for name in names if \"count_\" in name]\n",
    "names = [name for name in names if name not in count_names]\n",
    "\n",
    "closure_names = [\"eye_closure_LC\", \"eye_closure_TEC\"]\n",
    "names = [name for name in names if name not in closure_names]\n",
    "\n",
    "gaze_features = ['fixation_feature_GTE',\n",
    " 'fixation_feature_SGE']\n",
    "names = [name for name in names if name not in gaze_features]"
   ],
   "metadata": {
    "collapsed": false
   }
  },
  {
   "cell_type": "code",
   "execution_count": null,
   "outputs": [],
   "source": [
    "for name in count_names:\n",
    "    print(name.replace(\"count_\", \"\"))"
   ],
   "metadata": {
    "collapsed": false
   }
  },
  {
   "cell_type": "code",
   "execution_count": null,
   "outputs": [],
   "source": [
    "cats = [\"saccade_texas\", \"saccade_\", \"fixation_texas\", \"eye_closure_\"]\n",
    "aggs = [\"mean\", \"median\", \"skew\", \"kurtosis\", \"std\"]\n",
    "no_agg_names = names.copy()\n",
    "for cat in cats:\n",
    "    for agg in aggs:\n",
    "        no_agg_names = [name.replace(f\"{cat}_{agg}\", cat) for name in no_agg_names]"
   ],
   "metadata": {
    "collapsed": false
   }
  },
  {
   "cell_type": "code",
   "execution_count": null,
   "outputs": [],
   "source": [
    "no_agg_names = list(set(no_agg_names))"
   ],
   "metadata": {
    "collapsed": false
   }
  },
  {
   "cell_type": "code",
   "execution_count": null,
   "outputs": [],
   "source": [
    "no_agg_names"
   ],
   "metadata": {
    "collapsed": false
   }
  },
  {
   "cell_type": "code",
   "execution_count": null,
   "outputs": [],
   "source": [
    "cat_names = []\n",
    "for cat in cats:\n",
    "    one_cat_names = [name for name in no_agg_names if cat in name]\n",
    "    no_agg_names = [name for name in no_agg_names if name not in one_cat_names]\n",
    "    cat_names.append(one_cat_names)"
   ],
   "metadata": {
    "collapsed": false
   }
  },
  {
   "cell_type": "code",
   "execution_count": null,
   "outputs": [],
   "source": [
    "texas_saccade_names, saccade_names, texas_fixation_names, eye_closure_names = cat_names"
   ],
   "metadata": {
    "collapsed": false
   }
  },
  {
   "cell_type": "code",
   "execution_count": null,
   "outputs": [],
   "source": [
    "len(texas_saccade_names)\n"
   ],
   "metadata": {
    "collapsed": false
   }
  },
  {
   "cell_type": "code",
   "execution_count": null,
   "outputs": [],
   "source": [
    "for cat_name, cat in zip(cat_names, cats):\n",
    "    cat_name = sorted([name.replace(cat+\"_\", \"\") for name in cat_name])\n",
    "    with open(config.PATHS.DATA.joinpath(f\"features_{cat}.txt\"), \"w\") as fp:\n",
    "        fp.write(\"\\n\".join(cat_name))\n"
   ],
   "metadata": {
    "collapsed": false
   }
  },
  {
   "cell_type": "code",
   "execution_count": null,
   "outputs": [],
   "source": [
    "[name for name in names if name.startswith(\"saccade__\")]"
   ],
   "metadata": {
    "collapsed": false
   }
  },
  {
   "cell_type": "code",
   "execution_count": null,
   "outputs": [],
   "source": [],
   "metadata": {
    "collapsed": false
   }
  }
 ],
 "metadata": {
  "kernelspec": {
   "display_name": "Python 3",
   "language": "python",
   "name": "python3"
  },
  "language_info": {
   "codemirror_mode": {
    "name": "ipython",
    "version": 2
   },
   "file_extension": ".py",
   "mimetype": "text/x-python",
   "name": "python",
   "nbconvert_exporter": "python",
   "pygments_lexer": "ipython2",
   "version": "2.7.6"
  }
 },
 "nbformat": 4,
 "nbformat_minor": 0
}
