{
 "cells": [
  {
   "cell_type": "code",
   "execution_count": 2,
   "metadata": {},
   "outputs": [],
   "source": [
    "import json\n",
    "from pathlib import Path\n",
    "import pandas as pd"
   ]
  },
  {
   "cell_type": "code",
   "execution_count": 11,
   "metadata": {},
   "outputs": [],
   "source": [
    "import json\n",
    "from pathlib import Path\n",
    "\n",
    "indices_with_negatives = dict()\n",
    "files = [str(p) for p in Path(\"potsdam_aeye_112020/\").iterdir()]\n",
    "\n",
    "for name in sorted(files):\n",
    "    indices = []\n",
    "    with open(name) as fp:\n",
    "        data = json.loads(fp.read())\n",
    "    for sample in data:\n",
    "        closure = sample[\"eye_closure\"]\n",
    "        if closure[\"left_image\"] and closure[\"left_image\"] < 0:\n",
    "            indices.append(sample[\"index\"])\n",
    "            continue\n",
    "        if closure[\"right_image\"] and closure[\"right_image\"] < 0:\n",
    "            indices.append(sample[\"index\"])\n",
    "    if indices:\n",
    "        indices_with_negatives[name] = indices\n",
    "\n",
    "with open(\"files_with_negative_values.json\",\"w\") as fp:\n",
    "    json.dump(indices_with_negatives, fp)"
   ]
  },
  {
   "cell_type": "code",
   "execution_count": 13,
   "metadata": {},
   "outputs": [
    {
     "data": {
      "text/plain": [
       "dict_keys(['potsdam_aeye_112020/001_1_a.json', 'potsdam_aeye_112020/001_3_b.json', 'potsdam_aeye_112020/002_1_b.json', 'potsdam_aeye_112020/002_2_a.json', 'potsdam_aeye_112020/002_3_s.json', 'potsdam_aeye_112020/003_1_b.json', 'potsdam_aeye_112020/003_2_s.json', 'potsdam_aeye_112020/003_3_a.json', 'potsdam_aeye_112020/004_1_s.json', 'potsdam_aeye_112020/004_2_a.json', 'potsdam_aeye_112020/004_3_b.json', 'potsdam_aeye_112020/005_1_s.json', 'potsdam_aeye_112020/005_2_b.json', 'potsdam_aeye_112020/005_3_a.json', 'potsdam_aeye_112020/008_1_b.json', 'potsdam_aeye_112020/008_2_a.json', 'potsdam_aeye_112020/008_3_s.json', 'potsdam_aeye_112020/009_1_b.json', 'potsdam_aeye_112020/011_1_s.json', 'potsdam_aeye_112020/011_2_b.json', 'potsdam_aeye_112020/011_3_a.json', 'potsdam_aeye_112020/014_1_b.json'])"
      ]
     },
     "execution_count": 13,
     "metadata": {},
     "output_type": "execute_result"
    }
   ],
   "source": [
    "indices_with_negatives.keys()"
   ]
  },
  {
   "cell_type": "code",
   "execution_count": null,
   "metadata": {},
   "outputs": [],
   "source": []
  }
 ],
 "metadata": {
  "kernelspec": {
   "display_name": "Python 3",
   "language": "python",
   "name": "python3"
  },
  "language_info": {
   "codemirror_mode": {
    "name": "ipython",
    "version": 3
   },
   "file_extension": ".py",
   "mimetype": "text/x-python",
   "name": "python",
   "nbconvert_exporter": "python",
   "pygments_lexer": "ipython3",
   "version": "3.6.9"
  }
 },
 "nbformat": 4,
 "nbformat_minor": 4
}
