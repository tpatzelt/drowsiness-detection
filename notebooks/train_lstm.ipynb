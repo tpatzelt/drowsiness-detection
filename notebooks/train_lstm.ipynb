{
 "cells": [
  {
   "cell_type": "code",
   "execution_count": 2,
   "outputs": [
    {
     "name": "stderr",
     "output_type": "stream",
     "text": [
      "Intel(R) Extension for Scikit-learn* enabled (https://github.com/intel/scikit-learn-intelex)\n"
     ]
    }
   ],
   "source": [
    "from drowsiness_detection.data import load_experiment_objects_nn\n",
    "from drowsiness_detection.run_grid_search_experiment import load_experiment_data\n",
    "from drowsiness_detection import config\n",
    "from drowsiness_detection.models import build_lstm_model"
   ],
   "metadata": {
    "collapsed": false,
    "pycharm": {
     "name": "#%%\n"
    }
   }
  },
  {
   "cell_type": "code",
   "execution_count": 3,
   "outputs": [
    {
     "name": "stdout",
     "output_type": "stream",
     "text": [
      "loading from experiment with id:  115\n",
      "X_train shape: (25642, 1800, 7), y_train shape: (25642,)\n",
      "X_test shape: (6494, 1800, 7), y_test shape: (6494,)\n"
     ]
    }
   ],
   "source": [
    "experiment_id = 115\n",
    "exp_config, best_estimator, search_results, history = load_experiment_objects_nn(\n",
    "    experiment_id=experiment_id,\n",
    "    log_dir=\"../logs/\")\n",
    "window_size = exp_config[\"window_in_sec\"]\n",
    "config.set_paths(30, window_size)\n",
    "\n",
    "# load data\n",
    "X_train, X_test, y_train, y_test, _ = load_experiment_data(\n",
    "    exclude_by=exp_config[\"exclude_by\"],\n",
    "    num_targets=exp_config[\"num_targets\"],\n",
    "    seed=exp_config[\"seed\"],\n",
    "    test_size=exp_config[\"test_size\"],\n",
    "    split_by_subjects=exp_config[\"split_by_subjects\"],\n",
    "    use_dummy_data=exp_config[\"use_dummy_data\"],\n",
    "    nn_experiment=exp_config[\"nn_experiment\"],\n",
    "    feature_col_indices=exp_config[\"feature_col_indices\"])\n"
   ],
   "metadata": {
    "collapsed": false,
    "pycharm": {
     "name": "#%%\n"
    }
   }
  },
  {
   "cell_type": "code",
   "execution_count": 4,
   "outputs": [
    {
     "name": "stdout",
     "output_type": "stream",
     "text": [
      "Model: \"model\"\n",
      "_________________________________________________________________\n",
      " Layer (type)                Output Shape              Param #   \n",
      "=================================================================\n",
      " input_1 (InputLayer)        [(None, 1800, 7)]         0         \n",
      "                                                                 \n",
      " lstm (LSTM)                 (None, 42)                8400      \n",
      "                                                                 \n",
      " flatten (Flatten)           (None, 42)                0         \n",
      "                                                                 \n",
      " dropout (Dropout)           (None, 42)                0         \n",
      "                                                                 \n",
      " dense (Dense)               (None, 1)                 43        \n",
      "                                                                 \n",
      "=================================================================\n",
      "Total params: 8,443\n",
      "Trainable params: 8,443\n",
      "Non-trainable params: 0\n",
      "_________________________________________________________________\n",
      "None\n"
     ]
    }
   ],
   "source": [
    "model = build_lstm_model(input_shape=(20,1800,7), lstm_units=42, learning_rate=0.02, dropout_rate=0.5, num_lstm_layers=1)"
   ],
   "metadata": {
    "collapsed": false,
    "pycharm": {
     "name": "#%%\n"
    }
   }
  },
  {
   "cell_type": "code",
   "execution_count": 6,
   "outputs": [
    {
     "name": "stdout",
     "output_type": "stream",
     "text": [
      "Epoch 1/5\n",
      "642/642 [==============================] - 340s 529ms/step - loss: 0.6223 - accuracy: 0.6699 - val_loss: 0.6854 - val_accuracy: 0.5719\n",
      "Epoch 2/5\n",
      "642/642 [==============================] - 334s 520ms/step - loss: 0.6155 - accuracy: 0.6676 - val_loss: 0.6992 - val_accuracy: 0.5722\n",
      "Epoch 3/5\n",
      "642/642 [==============================] - 2087s 3s/step - loss: 0.6193 - accuracy: 0.6634 - val_loss: 0.6842 - val_accuracy: 0.5576\n",
      "Epoch 4/5\n",
      "642/642 [==============================] - 326s 508ms/step - loss: 0.6057 - accuracy: 0.6849 - val_loss: 0.7368 - val_accuracy: 0.5674\n",
      "Epoch 5/5\n",
      "642/642 [==============================] - 327s 509ms/step - loss: 0.6080 - accuracy: 0.6850 - val_loss: 0.7419 - val_accuracy: 0.5608\n"
     ]
    }
   ],
   "source": [
    "history_obj = model.fit(X_train, y_train, batch_size=40, epochs=5, validation_data=(X_test, y_test))\n"
   ],
   "metadata": {
    "collapsed": false,
    "pycharm": {
     "name": "#%%\n"
    }
   }
  },
  {
   "cell_type": "code",
   "execution_count": 7,
   "outputs": [
    {
     "data": {
      "text/plain": "{'loss': [0.6222869157791138,\n  0.6154911518096924,\n  0.6192513108253479,\n  0.605682909488678,\n  0.6079771518707275],\n 'accuracy': [0.669916570186615,\n  0.6675766110420227,\n  0.6633647680282593,\n  0.6848919987678528,\n  0.68504798412323],\n 'val_loss': [0.6854428052902222,\n  0.6991549134254456,\n  0.6841892600059509,\n  0.736807107925415,\n  0.7419285178184509],\n 'val_accuracy': [0.5719125270843506,\n  0.572220504283905,\n  0.5575916171073914,\n  0.5674468874931335,\n  0.5608253479003906]}"
     },
     "execution_count": 7,
     "metadata": {},
     "output_type": "execute_result"
    }
   ],
   "source": [
    "history_obj.history\n"
   ],
   "metadata": {
    "collapsed": false,
    "pycharm": {
     "name": "#%%\n"
    }
   }
  },
  {
   "cell_type": "code",
   "execution_count": 8,
   "outputs": [],
   "source": [
    "y_test_predicted = model.predict(X_test)\n"
   ],
   "metadata": {
    "collapsed": false,
    "pycharm": {
     "name": "#%%\n"
    }
   }
  },
  {
   "cell_type": "code",
   "execution_count": 11,
   "outputs": [
    {
     "data": {
      "text/plain": "<sklearn.metrics._plot.roc_curve.RocCurveDisplay at 0x7fa449fa10d0>"
     },
     "execution_count": 11,
     "metadata": {},
     "output_type": "execute_result"
    },
    {
     "data": {
      "text/plain": "<Figure size 432x288 with 1 Axes>",
      "image/png": "[encoded data removed]"
     },
     "metadata": {
      "needs_background": "light"
     },
     "output_type": "display_data"
    }
   ],
   "source": [
    "from sklearn.metrics import RocCurveDisplay\n",
    "RocCurveDisplay.from_predictions(y_test, y_test_predicted)"
   ],
   "metadata": {
    "collapsed": false,
    "pycharm": {
     "name": "#%%\n"
    }
   }
  },
  {
   "cell_type": "code",
   "execution_count": 10,
   "outputs": [
    {
     "name": "stderr",
     "output_type": "stream",
     "text": [
      "WARNING:absl:Found untraced functions such as lstm_cell_1_layer_call_fn, lstm_cell_1_layer_call_and_return_conditional_losses while saving (showing 2 of 2). These functions will not be directly callable after loading.\n"
     ]
    },
    {
     "name": "stdout",
     "output_type": "stream",
     "text": [
      "INFO:tensorflow:Assets written to: ../../logs/115/best_model/assets\n"
     ]
    },
    {
     "name": "stderr",
     "output_type": "stream",
     "text": [
      "INFO:tensorflow:Assets written to: ../../logs/115/best_model/assets\n",
      "WARNING:absl:<keras.layers.recurrent.LSTMCell object at 0x7fa575994940> has the same name 'LSTMCell' as a built-in Keras object. Consider renaming <class 'keras.layers.recurrent.LSTMCell'> to avoid naming conflicts when loading with `tf.keras.models.load_model`. If renaming is not possible, pass the object in the `custom_objects` parameter of the load function.\n"
     ]
    }
   ],
   "source": [
    "model.save(\"../../logs/115/best_model/\")\n"
   ],
   "metadata": {
    "collapsed": false,
    "pycharm": {
     "name": "#%%\n"
    }
   }
  },
  {
   "cell_type": "code",
   "execution_count": null,
   "outputs": [],
   "source": [],
   "metadata": {
    "collapsed": false,
    "pycharm": {
     "name": "#%%\n"
    }
   }
  }
 ],
 "metadata": {
  "kernelspec": {
   "display_name": "Python 3",
   "language": "python",
   "name": "python3"
  },
  "language_info": {
   "codemirror_mode": {
    "name": "ipython",
    "version": 2
   },
   "file_extension": ".py",
   "mimetype": "text/x-python",
   "name": "python",
   "nbconvert_exporter": "python",
   "pygments_lexer": "ipython2",
   "version": "2.7.6"
  }
 },
 "nbformat": 4,
 "nbformat_minor": 0
}