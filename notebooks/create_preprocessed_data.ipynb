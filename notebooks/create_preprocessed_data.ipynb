{
 "cells": [
  {
   "cell_type": "code",
   "execution_count": null,
   "metadata": {
    "collapsed": true,
    "pycharm": {
     "name": "#%%\n"
    }
   },
   "outputs": [],
   "source": []
  },
  {
   "cell_type": "code",
   "execution_count": null,
   "outputs": [],
   "source": [
    "\n",
    "import numpy as np\n",
    "from sklearn.metrics import RocCurveDisplay\n",
    "from drowsiness_detection import config\n",
    "from dataclasses import dataclass"
   ],
   "metadata": {
    "collapsed": false,
    "pycharm": {
     "name": "#%%\n"
    }
   }
  },
  {
   "cell_type": "code",
   "execution_count": null,
   "outputs": [],
   "source": [
    "prepr_path = config.SOURCES_ROOT_PATH.parent.joinpath(\"data/preprocessed/60sec\")"
   ],
   "metadata": {
    "collapsed": false,
    "pycharm": {
     "name": "#%%\n"
    }
   }
  },
  {
   "cell_type": "code",
   "execution_count": null,
   "outputs": [],
   "source": [
    "\n",
    "\n",
    "data = load_engineered_60_sec_data()"
   ],
   "metadata": {
    "collapsed": false,
    "pycharm": {
     "name": "#%%\n"
    }
   }
  },
  {
   "cell_type": "code",
   "execution_count": null,
   "outputs": [],
   "source": [],
   "metadata": {
    "collapsed": false,
    "pycharm": {
     "name": "#%%\n"
    }
   }
  },
  {
   "cell_type": "code",
   "execution_count": null,
   "outputs": [],
   "source": [],
   "metadata": {
    "collapsed": false,
    "pycharm": {
     "name": "#%%\n"
    }
   }
  },
  {
   "cell_type": "code",
   "execution_count": null,
   "outputs": [],
   "source": [
    "# X_train, X_test, y_train, y_test, _ = load_preprocessed_train_test_splits(\n",
    "#     data_path=config.PATHS.WINDOW_FEATURES,\n",
    "#     exclude_sess_type=session_type_mapping[\"a\"],\n",
    "#     num_targets=2,\n",
    "#     seed=42,\n",
    "#     test_size=.2,\n",
    "#     split_by_subjects=True,\n",
    "# )\n",
    "prepr_path = config.SOURCES_ROOT_PATH.parent.joinpath(\"data/preprocessed/60sec\")\n",
    "prepr_path.mkdir(exist_ok=1)\n",
    "\n",
    "prepr_path"
   ],
   "metadata": {
    "collapsed": false,
    "pycharm": {
     "name": "#%%\n"
    }
   }
  },
  {
   "cell_type": "markdown",
   "source": [],
   "metadata": {
    "collapsed": false,
    "pycharm": {
     "name": "#%% md\n"
    }
   }
  },
  {
   "cell_type": "code",
   "execution_count": null,
   "outputs": [],
   "source": [
    "X_train, X_val, X_test, y_train, y_val, y_test, (\n",
    "train_ids, val_ids, test_ids) = load_preprocessed_train_val_test_splits(\n",
    "    data_path=config.PATHS.WINDOW_FEATURES,\n",
    "    exclude_sess_type=session_type_mapping[\"a\"],\n",
    "    num_targets=2,\n",
    "    seed=42,\n",
    "    test_size=.2,\n",
    "    split_by_subjects=True,\n",
    ")"
   ],
   "metadata": {
    "collapsed": false,
    "pycharm": {
     "name": "#%%\n"
    }
   }
  },
  {
   "cell_type": "code",
   "execution_count": null,
   "outputs": [],
   "source": [
    "print(train_ids, val_ids, test_ids)"
   ],
   "metadata": {
    "collapsed": false,
    "pycharm": {
     "name": "#%%\n"
    }
   }
  },
  {
   "cell_type": "code",
   "execution_count": null,
   "outputs": [],
   "source": [
    "seed = 42\n",
    "\n",
    "import random\n",
    "from drowsiness_detection.data import  get_feature_data, preprocess_feature_data\n",
    "exclude_sess_type = session_type_mapping[\"a\"]\n",
    "data_path = config.PATHS.WINDOW_FEATURES\n",
    "num_targets = 2\n",
    "\n",
    "np.random.seed(seed)\n",
    "random.seed(seed)\n",
    "\n",
    "data = get_feature_data(data_path=data_path)\n",
    "X, y, subject_data = preprocess_feature_data(feature_data=data,\n",
    "                                             exclude_sess_type=exclude_sess_type,\n",
    "                                             num_targets=num_targets)\n",
    "# subject data is sess_type + subject id"
   ],
   "metadata": {
    "collapsed": false,
    "pycharm": {
     "name": "#%%\n"
    }
   }
  },
  {
   "cell_type": "code",
   "execution_count": null,
   "outputs": [],
   "source": [
    "print(f\"{len(X_train)=}\")\n",
    "print(f\"{len(X_val)=}\")\n",
    "print(f\"{len(X_test)=}\")\n"
   ],
   "metadata": {
    "collapsed": false,
    "pycharm": {
     "name": "#%%\n"
    }
   }
  },
  {
   "cell_type": "code",
   "execution_count": null,
   "outputs": [],
   "source": [
    "print(f\"{len(subject_data[np.isin(subject_data[:,1], train_ids)])=}\")\n",
    "print(f\"{len(subject_data[np.isin(subject_data[:,1], val_ids)])=}\")\n",
    "print(f\"{len(subject_data[np.isin(subject_data[:,1], test_ids)])=}\")\n"
   ],
   "metadata": {
    "collapsed": false,
    "pycharm": {
     "name": "#%%\n"
    }
   }
  },
  {
   "cell_type": "code",
   "execution_count": null,
   "outputs": [],
   "source": [
    "engineered_feature_data_path = prepr_path.joinpath(\"engineered_features\")\n",
    "engineered_feature_data_path.mkdir(exist_ok=1)"
   ],
   "metadata": {
    "collapsed": false,
    "pycharm": {
     "name": "#%%\n"
    }
   }
  },
  {
   "cell_type": "code",
   "execution_count": null,
   "outputs": [],
   "source": [
    "np.save(str(engineered_feature_data_path.joinpath(\"X_train.npy\")), X_train)\n",
    "np.save(str(engineered_feature_data_path.joinpath(\"X_val.npy\")), X_val)\n",
    "np.save(str(engineered_feature_data_path.joinpath(\"X_test.npy\")), X_test)\n",
    "\n",
    "np.save(str(engineered_feature_data_path.joinpath(\"y_train.npy\")), y_train)\n",
    "np.save(str(engineered_feature_data_path.joinpath(\"y_val.npy\")), y_val)\n",
    "np.save(str(engineered_feature_data_path.joinpath(\"y_test.npy\")), y_test)"
   ],
   "metadata": {
    "collapsed": false,
    "pycharm": {
     "name": "#%%\n"
    }
   }
  },
  {
   "cell_type": "code",
   "execution_count": null,
   "outputs": [],
   "source": [],
   "metadata": {
    "collapsed": false,
    "pycharm": {
     "name": "#%%\n"
    }
   }
  },
  {
   "cell_type": "code",
   "execution_count": null,
   "outputs": [],
   "source": [
    "raw_feature_data_path = prepr_path.joinpath(\"raw_features\")\n",
    "raw_feature_data_path.mkdir(exist_ok=1)"
   ],
   "metadata": {
    "collapsed": false,
    "pycharm": {
     "name": "#%%\n"
    }
   }
  },
  {
   "cell_type": "code",
   "execution_count": null,
   "outputs": [],
   "source": [
    "X,y, subject_data = load_nn_data(data_path=config.PATHS.WINDOW_DATA)"
   ],
   "metadata": {
    "collapsed": false,
    "pycharm": {
     "name": "#%%\n"
    }
   }
  },
  {
   "cell_type": "code",
   "execution_count": null,
   "outputs": [],
   "source": [
    "train_mask = np.isin(subject_data[:,1],train_ids)\n",
    "val_mask = np.isin(subject_data[:,1],val_ids)\n",
    "test_mask = np.isin(subject_data[:,1],test_ids)\n"
   ],
   "metadata": {
    "collapsed": false,
    "pycharm": {
     "name": "#%%\n"
    }
   }
  },
  {
   "cell_type": "code",
   "execution_count": null,
   "outputs": [],
   "source": [
    "X_train = X[train_mask]\n",
    "X_val = X[val_mask]\n",
    "X_test = X[test_mask]\n",
    "\n",
    "y_train = y[train_mask]\n",
    "y_val = y[val_mask]\n",
    "y_test = y[test_mask]"
   ],
   "metadata": {
    "collapsed": false,
    "pycharm": {
     "name": "#%%\n"
    }
   }
  },
  {
   "cell_type": "code",
   "execution_count": null,
   "outputs": [],
   "source": [
    "np.save(str(raw_feature_data_path.joinpath(\"X_train.npy\")), X_train)\n",
    "np.save(str(raw_feature_data_path.joinpath(\"X_val.npy\")), X_val)\n",
    "np.save(str(raw_feature_data_path.joinpath(\"X_test.npy\")), X_test)\n",
    "\n",
    "np.save(str(raw_feature_data_path.joinpath(\"y_train.npy\")), y_train)\n",
    "np.save(str(raw_feature_data_path.joinpath(\"y_val.npy\")), y_val)\n",
    "np.save(str(raw_feature_data_path.joinpath(\"y_test.npy\")), y_test)\n"
   ],
   "metadata": {
    "collapsed": false,
    "pycharm": {
     "name": "#%%\n"
    }
   }
  }
 ],
 "metadata": {
  "kernelspec": {
   "display_name": "Python 3",
   "language": "python",
   "name": "python3"
  },
  "language_info": {
   "codemirror_mode": {
    "name": "ipython",
    "version": 2
   },
   "file_extension": ".py",
   "mimetype": "text/x-python",
   "name": "python",
   "nbconvert_exporter": "python",
   "pygments_lexer": "ipython2",
   "version": "2.7.6"
  }
 },
 "nbformat": 4,
 "nbformat_minor": 0
}