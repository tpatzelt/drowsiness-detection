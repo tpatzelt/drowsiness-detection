{
 "cells": [
  {
   "cell_type": "code",
   "execution_count": 62,
   "metadata": {
    "pycharm": {
     "name": "#%%\n"
    }
   },
   "outputs": [],
   "source": [
    "from functools import cache\n",
    "from typing import List, Tuple, Set\n",
    "\n",
    "import numpy as np\n",
    "import pandas as pd\n",
    "from sortedcontainers import SortedSet\n",
    "from tqdm import tqdm\n",
    "\n",
    "from drowsiness_detection.config import PREPROCESSED_DATA_PATH\n",
    "from drowsiness_detection.data import create_eye_closure_karolinksa_dataset\n",
    "from drowsiness_detection.data_models import BlinkEvent\n",
    "from drowsiness_detection.data_models import PreComputedSlicer\n",
    "\n",
    "np.random.seed(42)"
   ]
  },
  {
   "cell_type": "markdown",
   "source": [
    "### 2. Identify Blink Events"
   ],
   "metadata": {
    "collapsed": false
   }
  },
  {
   "cell_type": "code",
   "execution_count": 71,
   "outputs": [],
   "source": [
    "interval_in_min = 5\n",
    "interval_in_frames = interval_in_min * (60 * 30)\n",
    "global_mean, global_std = 0.25191899173446713, 0.12801327657273856\n",
    "\n",
    "MIN_CLOSURE_FOR_BLINK = global_mean + 2 * global_std\n",
    "MIN_BLINK_LENGTH = 2\n",
    "MIN_CHANGE_OF_BLINK = .01\n",
    "MIN_AMPLITUDE_HEIGHT = global_std\n",
    "MAX_START_END_DELTA = global_std\n",
    "REOPENING_THRESHOLD = .05\n",
    "\n",
    "features_names = [\"blink_duration\", \"blink_interval\", \"lid_opening_delay\", \"closing_speed\", \"max_closing_speed\"]"
   ],
   "metadata": {
    "collapsed": false,
    "pycharm": {
     "name": "#%%\n"
    }
   }
  },
  {
   "cell_type": "code",
   "execution_count": 114,
   "outputs": [],
   "source": [
    "def filter_points_above_threshold(threshold: float, data: np.ndarray) -> list:\n",
    "    \"\"\"\n",
    "    \"\"\"\n",
    "    above_std_sets = []\n",
    "    new_set = SortedSet()\n",
    "    it = np.nditer(data, flags=[\"f_index\"])\n",
    "    for value in it:\n",
    "        if value > threshold:\n",
    "            new_set.add(it.index)\n",
    "        else:\n",
    "            if new_set:\n",
    "                above_std_sets.append(new_set)\n",
    "                new_set = SortedSet()\n",
    "    return above_std_sets\n",
    "\n",
    "\n",
    "def filter_blink_sets_by_length(min_len: int, sets: list):\n",
    "    return [s for s in sets if len(s) > min_len]\n",
    "\n",
    "\n",
    "def extend_start_stop(blink_sets: List[Set], data: np.ndarray):\n",
    "    for index_set in blink_sets:\n",
    "        start, stop = index_set[0], index_set[-1]\n",
    "        while (data[start] - data[start - 1]) > MIN_CHANGE_OF_BLINK:\n",
    "            index_set.add(start - 1)\n",
    "            start -= 1\n",
    "        while (data[stop] - data[stop + 1]) > MIN_CHANGE_OF_BLINK:\n",
    "            index_set.add(stop + 1)\n",
    "            stop += 1\n",
    "    return blink_sets\n",
    "\n",
    "\n",
    "def filter_blink_sets_by_amplitude(data: np.ndarray, blink_sets: List[Set], min_amplitude_heigth: float):\n",
    "    new_blink_sets = []\n",
    "    for blink_set in blink_sets:\n",
    "        values = data[blink_set]\n",
    "        height = max(values) - min(values)\n",
    "        if height > min_amplitude_heigth:\n",
    "            new_blink_sets.append(blink_set)\n",
    "    return new_blink_sets\n",
    "\n",
    "\n",
    "def filter_blink_sets_by_start_end_delta(data: np.ndarray, blink_sets: List[Set], max_start_end_delta: float):\n",
    "    new_blink_sets = []\n",
    "    for blink_set in blink_sets:\n",
    "        start = data[blink_set[0]]\n",
    "        end = data[blink_set[-1]]\n",
    "        if abs(start - end) < max_start_end_delta:\n",
    "            new_blink_sets.append(blink_set)\n",
    "    return new_blink_sets\n",
    "\n",
    "\n",
    "def set_blink_intervals(blink_events: List[BlinkEvent]):\n",
    "    for i, be in enumerate(blink_events):\n",
    "        if i == 0:\n",
    "            be._blink_interval = 300  # mean of the first session\n",
    "            continue\n",
    "        be._blink_interval = abs(be.start_idx - blink_events[i - 1].end_idx)  # abs() because there were negative blinks\n",
    "    # mean_blink_interal = np.nanmean([be.blink_interval for be in blink_events])\n",
    "    # for be in blink_events:\n",
    "    #     if np.isnan(be._blink_interval):\n",
    "    #         be.blink_interval = mean_blink_interal\n",
    "    return blink_events\n",
    "\n",
    "\n",
    "@cache\n",
    "def calculate_blink_event_statistics(events: Tuple[BlinkEvent]):\n",
    "    feature_values = np.array([[be.__getattribute__(feature_name) for be in events] for feature_name in features_names], dtype=float)\n",
    "    if feature_values.size == 0:\n",
    "        return np.zeros(4 * feature_values.shape[0])\n",
    "    means = np.nanmean(feature_values, axis=1)\n",
    "    medians = np.nanmedian(feature_values, axis=1)\n",
    "    stds = np.nanstd(feature_values, axis=1)\n",
    "    if np.any((stds == 0)):\n",
    "        stds[(stds == 0)] = float(\"inf\")\n",
    "    skews = 3 * (means - medians) / stds\n",
    "    return np.concatenate([means, medians, stds, skews])\n",
    "\n",
    "\n",
    "def create_slicer(eye_closure_data: pd.DataFrame, blink_events: List[BlinkEvent], interval: int) -> PreComputedSlicer:\n",
    "    # take index of peak closure as identifier for each blink event\n",
    "    blink_event_dict = {int(be.full_closure_idx): be for be in blink_events}\n",
    "    blink_event_slicer = PreComputedSlicer(indices=[idx for idx in eye_closure_data.index], object_dict=blink_event_dict, index_interval=interval)\n",
    "    return blink_event_slicer\n",
    "\n",
    "\n",
    "def create_feature_array(eye_closure_data: pd.DataFrame, num_features: int, slicer: PreComputedSlicer):\n",
    "    feature_array = np.zeros(shape=(len(eye_closure_data), num_features))\n",
    "    indices = eye_closure_data.index[interval_in_frames:]\n",
    "    for index in tqdm(indices):\n",
    "        past_events = slicer[index]\n",
    "        feature_array[index] = calculate_blink_event_statistics(events=tuple(past_events))\n",
    "    return feature_array\n",
    "\n",
    "\n",
    "def create_feature_df(feature_array: np.ndarray, feature_names: List[str]):\n",
    "    feature_df = pd.DataFrame(feature_array, columns=[name + kind for kind in [\"_mean\", \"_median\", \"_std\", \"_skew\"] for name in feature_names], dtype=\"float\")\n",
    "    return feature_df\n",
    "\n",
    "\n",
    "def binarize_targets(target_array: np.ndarray) -> np.ndarray:\n",
    "    return (target_array > 6).astype(int)\n",
    "\n",
    "\n",
    "def process_raw_data_to_features_and_targets(filename: str):\n",
    "    all_features, all_targets = [], []\n",
    "    for loaded_df in create_eye_closure_karolinksa_dataset():\n",
    "        target_array = loaded_df[\"kss\"].to_numpy()\n",
    "        data_df = loaded_df[\"eye_closure\"]\n",
    "        data = data_df.to_numpy()\n",
    "\n",
    "        blink_sets = filter_points_above_threshold(threshold=MIN_CLOSURE_FOR_BLINK, data=data)\n",
    "        blink_sets = filter_blink_sets_by_length(min_len=MIN_BLINK_LENGTH, sets=blink_sets)\n",
    "        blink_sets = extend_start_stop(blink_sets=blink_sets, data=data)\n",
    "        blink_sets = filter_blink_sets_by_amplitude(data=data, blink_sets=blink_sets, min_amplitude_heigth=MIN_AMPLITUDE_HEIGHT)\n",
    "        blink_sets = filter_blink_sets_by_start_end_delta(data=data, blink_sets=blink_sets, max_start_end_delta=MAX_START_END_DELTA)\n",
    "\n",
    "        blink_events = [BlinkEvent(indices=index_set, data=data_df, reopening_threshold=REOPENING_THRESHOLD) for index_set in blink_sets]\n",
    "        blink_events = set_blink_intervals(blink_events=blink_events)\n",
    "        blink_event_slicer = create_slicer(eye_closure_data=data_df, blink_events=blink_events, interval=interval_in_frames)\n",
    "\n",
    "        feature_array = create_feature_array(eye_closure_data=data_df, num_features=len(features_names) * 4, slicer=blink_event_slicer)\n",
    "\n",
    "        target_array = binarize_targets(target_array=target_array)\n",
    "        target_array = target_array[interval_in_frames:]\n",
    "        feature_array = feature_array[interval_in_frames:]\n",
    "\n",
    "        assert feature_array.shape[0] == target_array.shape[0]\n",
    "\n",
    "        all_features.append(feature_array)\n",
    "        all_targets.append(target_array)\n",
    "        break\n",
    "\n",
    "    abs_path = PREPROCESSED_DATA_PATH.joinpath(filename+\".npy\").absolute()\n",
    "    features = np.concatenate(all_features)\n",
    "    targets = np.concatenate(all_targets)\n",
    "    np.save(file=abs_path, arr=np.c_[features,targets])\n",
    "    return abs_path\n"
   ],
   "metadata": {
    "collapsed": false,
    "pycharm": {
     "name": "#%%\n"
    }
   }
  },
  {
   "cell_type": "code",
   "execution_count": 115,
   "outputs": [
    {
     "name": "stdout",
     "output_type": "stream",
     "text": [
      "Extracting file /home/tim/IM/data/potsdam_aeye_112020/001_1_a.json and response file: /home/tim/IM/data/sleep_alc_labels/001_1_a_karolinska.csv.\n"
     ]
    },
    {
     "name": "stderr",
     "output_type": "stream",
     "text": [
      "100%|██████████| 159847/159847 [00:00<00:00, 171997.09it/s]\n"
     ]
    }
   ],
   "source": [
    "path = process_raw_data_to_features_and_targets(filename=\"220130_features_targets\")"
   ],
   "metadata": {
    "collapsed": false,
    "pycharm": {
     "name": "#%%\n"
    }
   }
  },
  {
   "cell_type": "code",
   "execution_count": 116,
   "outputs": [],
   "source": [
    "d = np.load(path)"
   ],
   "metadata": {
    "collapsed": false,
    "pycharm": {
     "name": "#%%\n"
    }
   }
  },
  {
   "cell_type": "code",
   "execution_count": 117,
   "outputs": [],
   "source": [
    "X,y = d[:,:-1], d[:,-1].astype(int)"
   ],
   "metadata": {
    "collapsed": false,
    "pycharm": {
     "name": "#%%\n"
    }
   }
  },
  {
   "cell_type": "code",
   "execution_count": 118,
   "outputs": [
    {
     "name": "stderr",
     "output_type": "stream",
     "text": [
      "/home/tim/IM/venv/lib/python3.9/site-packages/numpy/lib/function_base.py:4486: RuntimeWarning: invalid value encountered in subtract\n",
      "  diff_b_a = subtract(b, a)\n"
     ]
    },
    {
     "data": {
      "text/plain": "                  0              1              2              3         4   \\\ncount  159847.000000  159847.000000  159847.000000  159847.000000  159847.0   \nmean        5.072181     364.201565       2.668044       0.168963       0.0   \nstd         1.718202     141.983100       2.897849       0.028892       0.0   \nmin         2.931034     139.227273       0.266667       0.069600       0.0   \n25%         3.923077     265.878788       0.944444       0.155755       0.0   \n50%         4.707317     336.500000       1.685714       0.169675       0.0   \n75%         5.777778     442.695652       2.500000       0.190679       0.0   \nmax        12.615385    1020.111111      19.000000       0.233708       0.0   \n\n                  5              6              7              8         9   \\\ncount  159847.000000  159847.000000  159847.000000  159847.000000  159847.0   \nmean        4.210417     162.726823       0.716779       0.161706       0.0   \nstd         2.043624     133.507933       0.577889       0.034918       0.0   \nmin         3.000000      21.000000       0.000000       0.034444       0.0   \n25%         3.500000      69.000000       0.000000       0.150430       0.0   \n50%         4.000000     147.000000       1.000000       0.170258       0.0   \n75%         4.000000     218.000000       1.000000       0.182640       0.0   \nmax        14.000000    1098.000000       2.500000       0.238665       0.0   \n\n                  10             11             12             13        14  \\\ncount  159847.000000  159847.000000  159847.000000  159847.000000  159847.0   \nmean        4.168729     563.236911       5.591111       0.077971       inf   \nstd         3.224864     270.833695       6.928764       0.017287       NaN   \nmin         0.759203     116.070919       0.442217       0.039318       inf   \n25%         1.274101     345.915230       1.587936       0.068338       NaN   \n50%         3.346234     529.889581       2.723037       0.077162       NaN   \n75%         6.110450     739.021014       4.980503       0.083103       NaN   \nmax        12.190869    1422.333983      37.138255       0.134696       inf   \n\n                  15             16             17             18        19  \ncount  159847.000000  159847.000000  159847.000000  159847.000000  159847.0  \nmean        0.589715       1.045406       1.045156       0.277935       0.0  \nstd         0.650901       0.422359       0.592603       0.540993       0.0  \nmin        -1.488417      -0.330503      -2.846050      -1.096013       0.0  \n25%         0.329293       0.769438       0.780197      -0.047074       0.0  \n50%         0.667762       1.071886       1.088320       0.206726       0.0  \n75%         0.973415       1.383879       1.364097       0.641167       0.0  \nmax         2.422934       2.216638       2.846050       2.031025       0.0  ",
      "text/html": "<div>\n<style scoped>\n    .dataframe tbody tr th:only-of-type {\n        vertical-align: middle;\n    }\n\n    .dataframe tbody tr th {\n        vertical-align: top;\n    }\n\n    .dataframe thead th {\n        text-align: right;\n    }\n</style>\n<table border=\"1\" class=\"dataframe\">\n  <thead>\n    <tr style=\"text-align: right;\">\n      <th></th>\n      <th>0</th>\n      <th>1</th>\n      <th>2</th>\n      <th>3</th>\n      <th>4</th>\n      <th>5</th>\n      <th>6</th>\n      <th>7</th>\n      <th>8</th>\n      <th>9</th>\n      <th>10</th>\n      <th>11</th>\n      <th>12</th>\n      <th>13</th>\n      <th>14</th>\n      <th>15</th>\n      <th>16</th>\n      <th>17</th>\n      <th>18</th>\n      <th>19</th>\n    </tr>\n  </thead>\n  <tbody>\n    <tr>\n      <th>count</th>\n      <td>159847.000000</td>\n      <td>159847.000000</td>\n      <td>159847.000000</td>\n      <td>159847.000000</td>\n      <td>159847.0</td>\n      <td>159847.000000</td>\n      <td>159847.000000</td>\n      <td>159847.000000</td>\n      <td>159847.000000</td>\n      <td>159847.0</td>\n      <td>159847.000000</td>\n      <td>159847.000000</td>\n      <td>159847.000000</td>\n      <td>159847.000000</td>\n      <td>159847.0</td>\n      <td>159847.000000</td>\n      <td>159847.000000</td>\n      <td>159847.000000</td>\n      <td>159847.000000</td>\n      <td>159847.0</td>\n    </tr>\n    <tr>\n      <th>mean</th>\n      <td>5.072181</td>\n      <td>364.201565</td>\n      <td>2.668044</td>\n      <td>0.168963</td>\n      <td>0.0</td>\n      <td>4.210417</td>\n      <td>162.726823</td>\n      <td>0.716779</td>\n      <td>0.161706</td>\n      <td>0.0</td>\n      <td>4.168729</td>\n      <td>563.236911</td>\n      <td>5.591111</td>\n      <td>0.077971</td>\n      <td>inf</td>\n      <td>0.589715</td>\n      <td>1.045406</td>\n      <td>1.045156</td>\n      <td>0.277935</td>\n      <td>0.0</td>\n    </tr>\n    <tr>\n      <th>std</th>\n      <td>1.718202</td>\n      <td>141.983100</td>\n      <td>2.897849</td>\n      <td>0.028892</td>\n      <td>0.0</td>\n      <td>2.043624</td>\n      <td>133.507933</td>\n      <td>0.577889</td>\n      <td>0.034918</td>\n      <td>0.0</td>\n      <td>3.224864</td>\n      <td>270.833695</td>\n      <td>6.928764</td>\n      <td>0.017287</td>\n      <td>NaN</td>\n      <td>0.650901</td>\n      <td>0.422359</td>\n      <td>0.592603</td>\n      <td>0.540993</td>\n      <td>0.0</td>\n    </tr>\n    <tr>\n      <th>min</th>\n      <td>2.931034</td>\n      <td>139.227273</td>\n      <td>0.266667</td>\n      <td>0.069600</td>\n      <td>0.0</td>\n      <td>3.000000</td>\n      <td>21.000000</td>\n      <td>0.000000</td>\n      <td>0.034444</td>\n      <td>0.0</td>\n      <td>0.759203</td>\n      <td>116.070919</td>\n      <td>0.442217</td>\n      <td>0.039318</td>\n      <td>inf</td>\n      <td>-1.488417</td>\n      <td>-0.330503</td>\n      <td>-2.846050</td>\n      <td>-1.096013</td>\n      <td>0.0</td>\n    </tr>\n    <tr>\n      <th>25%</th>\n      <td>3.923077</td>\n      <td>265.878788</td>\n      <td>0.944444</td>\n      <td>0.155755</td>\n      <td>0.0</td>\n      <td>3.500000</td>\n      <td>69.000000</td>\n      <td>0.000000</td>\n      <td>0.150430</td>\n      <td>0.0</td>\n      <td>1.274101</td>\n      <td>345.915230</td>\n      <td>1.587936</td>\n      <td>0.068338</td>\n      <td>NaN</td>\n      <td>0.329293</td>\n      <td>0.769438</td>\n      <td>0.780197</td>\n      <td>-0.047074</td>\n      <td>0.0</td>\n    </tr>\n    <tr>\n      <th>50%</th>\n      <td>4.707317</td>\n      <td>336.500000</td>\n      <td>1.685714</td>\n      <td>0.169675</td>\n      <td>0.0</td>\n      <td>4.000000</td>\n      <td>147.000000</td>\n      <td>1.000000</td>\n      <td>0.170258</td>\n      <td>0.0</td>\n      <td>3.346234</td>\n      <td>529.889581</td>\n      <td>2.723037</td>\n      <td>0.077162</td>\n      <td>NaN</td>\n      <td>0.667762</td>\n      <td>1.071886</td>\n      <td>1.088320</td>\n      <td>0.206726</td>\n      <td>0.0</td>\n    </tr>\n    <tr>\n      <th>75%</th>\n      <td>5.777778</td>\n      <td>442.695652</td>\n      <td>2.500000</td>\n      <td>0.190679</td>\n      <td>0.0</td>\n      <td>4.000000</td>\n      <td>218.000000</td>\n      <td>1.000000</td>\n      <td>0.182640</td>\n      <td>0.0</td>\n      <td>6.110450</td>\n      <td>739.021014</td>\n      <td>4.980503</td>\n      <td>0.083103</td>\n      <td>NaN</td>\n      <td>0.973415</td>\n      <td>1.383879</td>\n      <td>1.364097</td>\n      <td>0.641167</td>\n      <td>0.0</td>\n    </tr>\n    <tr>\n      <th>max</th>\n      <td>12.615385</td>\n      <td>1020.111111</td>\n      <td>19.000000</td>\n      <td>0.233708</td>\n      <td>0.0</td>\n      <td>14.000000</td>\n      <td>1098.000000</td>\n      <td>2.500000</td>\n      <td>0.238665</td>\n      <td>0.0</td>\n      <td>12.190869</td>\n      <td>1422.333983</td>\n      <td>37.138255</td>\n      <td>0.134696</td>\n      <td>inf</td>\n      <td>2.422934</td>\n      <td>2.216638</td>\n      <td>2.846050</td>\n      <td>2.031025</td>\n      <td>0.0</td>\n    </tr>\n  </tbody>\n</table>\n</div>"
     },
     "execution_count": 118,
     "metadata": {},
     "output_type": "execute_result"
    }
   ],
   "source": [
    "pd.DataFrame(X).describe()"
   ],
   "metadata": {
    "collapsed": false,
    "pycharm": {
     "name": "#%%\n"
    }
   }
  },
  {
   "cell_type": "code",
   "execution_count": null,
   "outputs": [],
   "source": [],
   "metadata": {
    "collapsed": false,
    "pycharm": {
     "name": "#%%\n"
    }
   }
  }
 ],
 "metadata": {
  "kernelspec": {
   "display_name": "Python 3",
   "language": "python",
   "name": "python3"
  },
  "language_info": {
   "codemirror_mode": {
    "name": "ipython",
    "version": 3
   },
   "file_extension": ".py",
   "mimetype": "text/x-python",
   "name": "python",
   "nbconvert_exporter": "python",
   "pygments_lexer": "ipython3",
   "version": "3.9.7"
  }
 },
 "nbformat": 4,
 "nbformat_minor": 1
}