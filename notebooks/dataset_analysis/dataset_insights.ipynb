{
 "cells": [
  {
   "cell_type": "code",
   "execution_count": 1,
   "outputs": [],
   "source": [
    "from drowsiness_detection import config\n",
    "config.set_paths(30,10)"
   ],
   "metadata": {
    "collapsed": false
   }
  },
  {
   "cell_type": "code",
   "execution_count": 2,
   "outputs": [],
   "source": [
    "path_strings = [str(x) for x in config.PATHS.WINDOW_DATA.iterdir()]\n"
   ],
   "metadata": {
    "collapsed": false
   }
  },
  {
   "cell_type": "code",
   "execution_count": 3,
   "outputs": [
    {
     "name": "stdout",
     "output_type": "stream",
     "text": [
      "47\n"
     ]
    }
   ],
   "source": [
    "num_subjects = len(set([path.split(\"_\")[-4] for path in path_strings]))\n",
    "print(num_subjects)"
   ],
   "metadata": {
    "collapsed": false
   }
  },
  {
   "cell_type": "code",
   "execution_count": 4,
   "outputs": [],
   "source": [
    "with open(config.PATHS.DATA.joinpath(\"feature_names_full.txt\")) as fp:\n",
    "    file = fp.read()\n"
   ],
   "metadata": {
    "collapsed": false
   }
  },
  {
   "cell_type": "code",
   "execution_count": 5,
   "outputs": [
    {
     "data": {
      "text/plain": "['count_blinks',\n 'count_corrupt',\n 'count_errors',\n 'count_eye_states_0',\n 'count_eye_states_1',\n 'count_eye_states_2',\n 'count_eye_states_3',\n 'count_eye_states_4',\n 'count_eye_states_5',\n 'count_fixations',\n 'count_saccades',\n 'eye_closure_LC',\n 'eye_closure_TEC',\n 'eye_closure__kurtosis_+AVR',\n 'eye_closure__kurtosis_-AVR',\n 'eye_closure__kurtosis_BTD',\n 'eye_closure__kurtosis_IED',\n 'eye_closure__kurtosis_blink_duration',\n 'eye_closure__kurtosis_blink_intervals',\n 'eye_closure__kurtosis_closure_speed_max',\n 'eye_closure__kurtosis_closure_speed_mean',\n 'eye_closure__kurtosis_delay_reopening',\n 'eye_closure__kurtosis_standard_blink_duration',\n 'eye_closure__kurtosis_standard_closure_speed_max',\n 'eye_closure__kurtosis_standard_closure_speed_mean',\n 'eye_closure__kurtosis_standard_lid_reopening_durations',\n 'eye_closure__mean_+AVR',\n 'eye_closure__mean_-AVR',\n 'eye_closure__mean_BTD',\n 'eye_closure__mean_IED',\n 'eye_closure__mean_blink_duration',\n 'eye_closure__mean_blink_intervals',\n 'eye_closure__mean_closure_speed_max',\n 'eye_closure__mean_closure_speed_mean',\n 'eye_closure__mean_delay_reopening',\n 'eye_closure__mean_standard_blink_duration',\n 'eye_closure__mean_standard_closure_speed_max',\n 'eye_closure__mean_standard_closure_speed_mean',\n 'eye_closure__mean_standard_lid_reopening_durations',\n 'eye_closure__median_+AVR',\n 'eye_closure__median_-AVR',\n 'eye_closure__median_BTD',\n 'eye_closure__median_IED',\n 'eye_closure__median_blink_duration',\n 'eye_closure__median_blink_intervals',\n 'eye_closure__median_closure_speed_max',\n 'eye_closure__median_closure_speed_mean',\n 'eye_closure__median_delay_reopening',\n 'eye_closure__median_standard_blink_duration',\n 'eye_closure__median_standard_closure_speed_max',\n 'eye_closure__median_standard_closure_speed_mean',\n 'eye_closure__median_standard_lid_reopening_durations',\n 'eye_closure__skew_+AVR',\n 'eye_closure__skew_-AVR',\n 'eye_closure__skew_BTD',\n 'eye_closure__skew_IED',\n 'eye_closure__skew_blink_duration',\n 'eye_closure__skew_blink_intervals',\n 'eye_closure__skew_closure_speed_max',\n 'eye_closure__skew_closure_speed_mean',\n 'eye_closure__skew_delay_reopening',\n 'eye_closure__skew_standard_blink_duration',\n 'eye_closure__skew_standard_closure_speed_max',\n 'eye_closure__skew_standard_closure_speed_mean',\n 'eye_closure__skew_standard_lid_reopening_durations',\n 'eye_closure__std_+AVR',\n 'eye_closure__std_-AVR',\n 'eye_closure__std_BTD',\n 'eye_closure__std_IED',\n 'eye_closure__std_blink_duration',\n 'eye_closure__std_blink_intervals',\n 'eye_closure__std_closure_speed_max',\n 'eye_closure__std_closure_speed_mean',\n 'eye_closure__std_delay_reopening',\n 'eye_closure__std_standard_blink_duration',\n 'eye_closure__std_standard_closure_speed_max',\n 'eye_closure__std_standard_closure_speed_mean',\n 'eye_closure__std_standard_lid_reopening_durations',\n 'fixation_feature_GTE',\n 'fixation_feature_SGE',\n 'fixation_texas_kurtosis_AccProfKu_H',\n 'fixation_texas_kurtosis_AccProfKu_R',\n 'fixation_texas_kurtosis_AccProfKu_V',\n 'fixation_texas_kurtosis_AccProfMd_H',\n 'fixation_texas_kurtosis_AccProfMd_R',\n 'fixation_texas_kurtosis_AccProfMd_V',\n 'fixation_texas_kurtosis_AccProfMn_H',\n 'fixation_texas_kurtosis_AccProfMn_R',\n 'fixation_texas_kurtosis_AccProfMn_V',\n 'fixation_texas_kurtosis_AccProfSd_H',\n 'fixation_texas_kurtosis_AccProfSd_R',\n 'fixation_texas_kurtosis_AccProfSd_V',\n 'fixation_texas_kurtosis_AccProfSk_H',\n 'fixation_texas_kurtosis_AccProfSk_R',\n 'fixation_texas_kurtosis_AccProfSk_V',\n 'fixation_texas_kurtosis_DriftAvgSpeed_H',\n 'fixation_texas_kurtosis_DriftAvgSpeed_R',\n 'fixation_texas_kurtosis_DriftAvgSpeed_V',\n 'fixation_texas_kurtosis_DriftDisp_H',\n 'fixation_texas_kurtosis_DriftDisp_R',\n 'fixation_texas_kurtosis_DriftDisp_V',\n 'fixation_texas_kurtosis_DriftDist_H',\n 'fixation_texas_kurtosis_DriftDist_R',\n 'fixation_texas_kurtosis_DriftDist_V',\n 'fixation_texas_kurtosis_DriftFitLn_R2_H',\n 'fixation_texas_kurtosis_DriftFitLn_R2_V',\n 'fixation_texas_kurtosis_DriftFitLn_Slope_H',\n 'fixation_texas_kurtosis_DriftFitLn_Slope_V',\n 'fixation_texas_kurtosis_DriftFitQd_R2_H',\n 'fixation_texas_kurtosis_DriftFitQd_R2_V',\n 'fixation_texas_kurtosis_PosCentroid_H',\n 'fixation_texas_kurtosis_PosCentroid_V',\n 'fixation_texas_kurtosis_PrAbP90VelThr_R',\n 'fixation_texas_kurtosis_VelProfKu_H',\n 'fixation_texas_kurtosis_VelProfKu_R',\n 'fixation_texas_kurtosis_VelProfKu_V',\n 'fixation_texas_kurtosis_VelProfMd_H',\n 'fixation_texas_kurtosis_VelProfMd_R',\n 'fixation_texas_kurtosis_VelProfMd_V',\n 'fixation_texas_kurtosis_VelProfMn_H',\n 'fixation_texas_kurtosis_VelProfMn_R',\n 'fixation_texas_kurtosis_VelProfMn_V',\n 'fixation_texas_kurtosis_VelProfSd_H',\n 'fixation_texas_kurtosis_VelProfSd_R',\n 'fixation_texas_kurtosis_VelProfSd_V',\n 'fixation_texas_kurtosis_VelProfSk_H',\n 'fixation_texas_kurtosis_VelProfSk_R',\n 'fixation_texas_kurtosis_VelProfSk_V',\n 'fixation_texas_kurtosis_duration',\n 'fixation_texas_mean_AccProfKu_H',\n 'fixation_texas_mean_AccProfKu_R',\n 'fixation_texas_mean_AccProfKu_V',\n 'fixation_texas_mean_AccProfMd_H',\n 'fixation_texas_mean_AccProfMd_R',\n 'fixation_texas_mean_AccProfMd_V',\n 'fixation_texas_mean_AccProfMn_H',\n 'fixation_texas_mean_AccProfMn_R',\n 'fixation_texas_mean_AccProfMn_V',\n 'fixation_texas_mean_AccProfSd_H',\n 'fixation_texas_mean_AccProfSd_R',\n 'fixation_texas_mean_AccProfSd_V',\n 'fixation_texas_mean_AccProfSk_H',\n 'fixation_texas_mean_AccProfSk_R',\n 'fixation_texas_mean_AccProfSk_V',\n 'fixation_texas_mean_DriftAvgSpeed_H',\n 'fixation_texas_mean_DriftAvgSpeed_R',\n 'fixation_texas_mean_DriftAvgSpeed_V',\n 'fixation_texas_mean_DriftDisp_H',\n 'fixation_texas_mean_DriftDisp_R',\n 'fixation_texas_mean_DriftDisp_V',\n 'fixation_texas_mean_DriftDist_H',\n 'fixation_texas_mean_DriftDist_R',\n 'fixation_texas_mean_DriftDist_V',\n 'fixation_texas_mean_DriftFitLn_R2_H',\n 'fixation_texas_mean_DriftFitLn_R2_V',\n 'fixation_texas_mean_DriftFitLn_Slope_H',\n 'fixation_texas_mean_DriftFitLn_Slope_V',\n 'fixation_texas_mean_DriftFitQd_R2_H',\n 'fixation_texas_mean_DriftFitQd_R2_V',\n 'fixation_texas_mean_PosCentroid_H',\n 'fixation_texas_mean_PosCentroid_V',\n 'fixation_texas_mean_PrAbP90VelThr_R',\n 'fixation_texas_mean_VelProfKu_H',\n 'fixation_texas_mean_VelProfKu_R',\n 'fixation_texas_mean_VelProfKu_V',\n 'fixation_texas_mean_VelProfMd_H',\n 'fixation_texas_mean_VelProfMd_R',\n 'fixation_texas_mean_VelProfMd_V',\n 'fixation_texas_mean_VelProfMn_H',\n 'fixation_texas_mean_VelProfMn_R',\n 'fixation_texas_mean_VelProfMn_V',\n 'fixation_texas_mean_VelProfSd_H',\n 'fixation_texas_mean_VelProfSd_R',\n 'fixation_texas_mean_VelProfSd_V',\n 'fixation_texas_mean_VelProfSk_H',\n 'fixation_texas_mean_VelProfSk_R',\n 'fixation_texas_mean_VelProfSk_V',\n 'fixation_texas_mean_duration',\n 'fixation_texas_median_AccProfKu_H',\n 'fixation_texas_median_AccProfKu_R',\n 'fixation_texas_median_AccProfKu_V',\n 'fixation_texas_median_AccProfMd_H',\n 'fixation_texas_median_AccProfMd_R',\n 'fixation_texas_median_AccProfMd_V',\n 'fixation_texas_median_AccProfMn_H',\n 'fixation_texas_median_AccProfMn_R',\n 'fixation_texas_median_AccProfMn_V',\n 'fixation_texas_median_AccProfSd_H',\n 'fixation_texas_median_AccProfSd_R',\n 'fixation_texas_median_AccProfSd_V',\n 'fixation_texas_median_AccProfSk_H',\n 'fixation_texas_median_AccProfSk_R',\n 'fixation_texas_median_AccProfSk_V',\n 'fixation_texas_median_DriftAvgSpeed_H',\n 'fixation_texas_median_DriftAvgSpeed_R',\n 'fixation_texas_median_DriftAvgSpeed_V',\n 'fixation_texas_median_DriftDisp_H',\n 'fixation_texas_median_DriftDisp_R',\n 'fixation_texas_median_DriftDisp_V',\n 'fixation_texas_median_DriftDist_H',\n 'fixation_texas_median_DriftDist_R',\n 'fixation_texas_median_DriftDist_V',\n 'fixation_texas_median_DriftFitLn_R2_H',\n 'fixation_texas_median_DriftFitLn_R2_V',\n 'fixation_texas_median_DriftFitLn_Slope_H',\n 'fixation_texas_median_DriftFitLn_Slope_V',\n 'fixation_texas_median_DriftFitQd_R2_H',\n 'fixation_texas_median_DriftFitQd_R2_V',\n 'fixation_texas_median_PosCentroid_H',\n 'fixation_texas_median_PosCentroid_V',\n 'fixation_texas_median_PrAbP90VelThr_R',\n 'fixation_texas_median_VelProfKu_H',\n 'fixation_texas_median_VelProfKu_R',\n 'fixation_texas_median_VelProfKu_V',\n 'fixation_texas_median_VelProfMd_H',\n 'fixation_texas_median_VelProfMd_R',\n 'fixation_texas_median_VelProfMd_V',\n 'fixation_texas_median_VelProfMn_H',\n 'fixation_texas_median_VelProfMn_R',\n 'fixation_texas_median_VelProfMn_V',\n 'fixation_texas_median_VelProfSd_H',\n 'fixation_texas_median_VelProfSd_R',\n 'fixation_texas_median_VelProfSd_V',\n 'fixation_texas_median_VelProfSk_H',\n 'fixation_texas_median_VelProfSk_R',\n 'fixation_texas_median_VelProfSk_V',\n 'fixation_texas_median_duration',\n 'fixation_texas_skew_AccProfKu_H',\n 'fixation_texas_skew_AccProfKu_R',\n 'fixation_texas_skew_AccProfKu_V',\n 'fixation_texas_skew_AccProfMd_H',\n 'fixation_texas_skew_AccProfMd_R',\n 'fixation_texas_skew_AccProfMd_V',\n 'fixation_texas_skew_AccProfMn_H',\n 'fixation_texas_skew_AccProfMn_R',\n 'fixation_texas_skew_AccProfMn_V',\n 'fixation_texas_skew_AccProfSd_H',\n 'fixation_texas_skew_AccProfSd_R',\n 'fixation_texas_skew_AccProfSd_V',\n 'fixation_texas_skew_AccProfSk_H',\n 'fixation_texas_skew_AccProfSk_R',\n 'fixation_texas_skew_AccProfSk_V',\n 'fixation_texas_skew_DriftAvgSpeed_H',\n 'fixation_texas_skew_DriftAvgSpeed_R',\n 'fixation_texas_skew_DriftAvgSpeed_V',\n 'fixation_texas_skew_DriftDisp_H',\n 'fixation_texas_skew_DriftDisp_R',\n 'fixation_texas_skew_DriftDisp_V',\n 'fixation_texas_skew_DriftDist_H',\n 'fixation_texas_skew_DriftDist_R',\n 'fixation_texas_skew_DriftDist_V',\n 'fixation_texas_skew_DriftFitLn_R2_H',\n 'fixation_texas_skew_DriftFitLn_R2_V',\n 'fixation_texas_skew_DriftFitLn_Slope_H',\n 'fixation_texas_skew_DriftFitLn_Slope_V',\n 'fixation_texas_skew_DriftFitQd_R2_H',\n 'fixation_texas_skew_DriftFitQd_R2_V',\n 'fixation_texas_skew_PosCentroid_H',\n 'fixation_texas_skew_PosCentroid_V',\n 'fixation_texas_skew_PrAbP90VelThr_R',\n 'fixation_texas_skew_VelProfKu_H',\n 'fixation_texas_skew_VelProfKu_R',\n 'fixation_texas_skew_VelProfKu_V',\n 'fixation_texas_skew_VelProfMd_H',\n 'fixation_texas_skew_VelProfMd_R',\n 'fixation_texas_skew_VelProfMd_V',\n 'fixation_texas_skew_VelProfMn_H',\n 'fixation_texas_skew_VelProfMn_R',\n 'fixation_texas_skew_VelProfMn_V',\n 'fixation_texas_skew_VelProfSd_H',\n 'fixation_texas_skew_VelProfSd_R',\n 'fixation_texas_skew_VelProfSd_V',\n 'fixation_texas_skew_VelProfSk_H',\n 'fixation_texas_skew_VelProfSk_R',\n 'fixation_texas_skew_VelProfSk_V',\n 'fixation_texas_skew_duration',\n 'fixation_texas_std_AccProfKu_H',\n 'fixation_texas_std_AccProfKu_R',\n 'fixation_texas_std_AccProfKu_V',\n 'fixation_texas_std_AccProfMd_H',\n 'fixation_texas_std_AccProfMd_R',\n 'fixation_texas_std_AccProfMd_V',\n 'fixation_texas_std_AccProfMn_H',\n 'fixation_texas_std_AccProfMn_R',\n 'fixation_texas_std_AccProfMn_V',\n 'fixation_texas_std_AccProfSd_H',\n 'fixation_texas_std_AccProfSd_R',\n 'fixation_texas_std_AccProfSd_V',\n 'fixation_texas_std_AccProfSk_H',\n 'fixation_texas_std_AccProfSk_R',\n 'fixation_texas_std_AccProfSk_V',\n 'fixation_texas_std_DriftAvgSpeed_H',\n 'fixation_texas_std_DriftAvgSpeed_R',\n 'fixation_texas_std_DriftAvgSpeed_V',\n 'fixation_texas_std_DriftDisp_H',\n 'fixation_texas_std_DriftDisp_R',\n 'fixation_texas_std_DriftDisp_V',\n 'fixation_texas_std_DriftDist_H',\n 'fixation_texas_std_DriftDist_R',\n 'fixation_texas_std_DriftDist_V',\n 'fixation_texas_std_DriftFitLn_R2_H',\n 'fixation_texas_std_DriftFitLn_R2_V',\n 'fixation_texas_std_DriftFitLn_Slope_H',\n 'fixation_texas_std_DriftFitLn_Slope_V',\n 'fixation_texas_std_DriftFitQd_R2_H',\n 'fixation_texas_std_DriftFitQd_R2_V',\n 'fixation_texas_std_PosCentroid_H',\n 'fixation_texas_std_PosCentroid_V',\n 'fixation_texas_std_PrAbP90VelThr_R',\n 'fixation_texas_std_VelProfKu_H',\n 'fixation_texas_std_VelProfKu_R',\n 'fixation_texas_std_VelProfKu_V',\n 'fixation_texas_std_VelProfMd_H',\n 'fixation_texas_std_VelProfMd_R',\n 'fixation_texas_std_VelProfMd_V',\n 'fixation_texas_std_VelProfMn_H',\n 'fixation_texas_std_VelProfMn_R',\n 'fixation_texas_std_VelProfMn_V',\n 'fixation_texas_std_VelProfSd_H',\n 'fixation_texas_std_VelProfSd_R',\n 'fixation_texas_std_VelProfSd_V',\n 'fixation_texas_std_VelProfSk_H',\n 'fixation_texas_std_VelProfSk_R',\n 'fixation_texas_std_VelProfSk_V',\n 'fixation_texas_std_duration',\n 'saccade__kurtosis_saccadic_amplitude_mean',\n 'saccade__kurtosis_saccadic_duration_mean',\n 'saccade__kurtosis_saccadic_velocity_max',\n 'saccade__kurtosis_saccadic_velocity_mean',\n 'saccade__kurtosis_standard_saccadic_duration_mean',\n 'saccade__kurtosis_standard_saccadic_velocity_max',\n 'saccade__kurtosis_standard_saccadic_velocity_mean',\n 'saccade__mean_saccadic_amplitude_mean',\n 'saccade__mean_saccadic_duration_mean',\n 'saccade__mean_saccadic_velocity_max',\n 'saccade__mean_saccadic_velocity_mean',\n 'saccade__mean_standard_saccadic_duration_mean',\n 'saccade__mean_standard_saccadic_velocity_max',\n 'saccade__mean_standard_saccadic_velocity_mean',\n 'saccade__median_saccadic_amplitude_mean',\n 'saccade__median_saccadic_duration_mean',\n 'saccade__median_saccadic_velocity_max',\n 'saccade__median_saccadic_velocity_mean',\n 'saccade__median_standard_saccadic_duration_mean',\n 'saccade__median_standard_saccadic_velocity_max',\n 'saccade__median_standard_saccadic_velocity_mean',\n 'saccade__skew_saccadic_amplitude_mean',\n 'saccade__skew_saccadic_duration_mean',\n 'saccade__skew_saccadic_velocity_max',\n 'saccade__skew_saccadic_velocity_mean',\n 'saccade__skew_standard_saccadic_duration_mean',\n 'saccade__skew_standard_saccadic_velocity_max',\n 'saccade__skew_standard_saccadic_velocity_mean',\n 'saccade__std_saccadic_amplitude_mean',\n 'saccade__std_saccadic_duration_mean',\n 'saccade__std_saccadic_velocity_max',\n 'saccade__std_saccadic_velocity_mean',\n 'saccade__std_standard_saccadic_duration_mean',\n 'saccade__std_standard_saccadic_velocity_max',\n 'saccade__std_standard_saccadic_velocity_mean',\n 'saccade_texas_kurtosis_CurveArea',\n 'saccade_texas_kurtosis_IniAD',\n 'saccade_texas_kurtosis_IniDev',\n 'saccade_texas_kurtosis_POC30',\n 'saccade_texas_kurtosis_POC31',\n 'saccade_texas_kurtosis_POC3MaxIndex',\n 'saccade_texas_kurtosis_RawDev',\n 'saccade_texas_kurtosis_RawPOC',\n 'saccade_texas_kurtosis_acc_dec_duration_ratio',\n 'saccade_texas_kurtosis_acc_profile_kurtosis_h',\n 'saccade_texas_kurtosis_acc_profile_kurtosis_r',\n 'saccade_texas_kurtosis_acc_profile_kurtosis_v',\n 'saccade_texas_kurtosis_acc_profile_mean_h',\n 'saccade_texas_kurtosis_acc_profile_mean_r',\n 'saccade_texas_kurtosis_acc_profile_mean_v',\n 'saccade_texas_kurtosis_acc_profile_median_h',\n 'saccade_texas_kurtosis_acc_profile_median_r',\n 'saccade_texas_kurtosis_acc_profile_median_v',\n 'saccade_texas_kurtosis_acc_profile_skew_h',\n 'saccade_texas_kurtosis_acc_profile_skew_r',\n 'saccade_texas_kurtosis_acc_profile_skew_v',\n 'saccade_texas_kurtosis_acc_profile_std_h',\n 'saccade_texas_kurtosis_acc_profile_std_r',\n 'saccade_texas_kurtosis_acc_profile_std_v',\n 'saccade_texas_kurtosis_amp_duration_ratio_h',\n 'saccade_texas_kurtosis_amp_duration_ratio_r',\n 'saccade_texas_kurtosis_amp_duration_ratio_v',\n 'saccade_texas_kurtosis_amp_h',\n 'saccade_texas_kurtosis_amp_r',\n 'saccade_texas_kurtosis_amp_v',\n 'saccade_texas_kurtosis_centroid_h',\n 'saccade_texas_kurtosis_centroid_v',\n 'saccade_texas_kurtosis_curve30',\n 'saccade_texas_kurtosis_curve31',\n 'saccade_texas_kurtosis_curve3MaxIndex',\n 'saccade_texas_kurtosis_direction',\n 'saccade_texas_kurtosis_direction_h',\n 'saccade_texas_kurtosis_dispersion',\n 'saccade_texas_kurtosis_duration',\n 'saccade_texas_kurtosis_efficiency',\n 'saccade_texas_kurtosis_mean_vel_h',\n 'saccade_texas_kurtosis_mean_vel_r',\n 'saccade_texas_kurtosis_mean_vel_v',\n 'saccade_texas_kurtosis_num_vel_loc_min',\n 'saccade_texas_kurtosis_peak_acc_h',\n 'saccade_texas_kurtosis_peak_acc_peak_dec_ratio_h',\n 'saccade_texas_kurtosis_peak_acc_peak_dec_ratio_r',\n 'saccade_texas_kurtosis_peak_acc_peak_dec_ratio_v',\n 'saccade_texas_kurtosis_peak_acc_r',\n 'saccade_texas_kurtosis_peak_acc_v',\n 'saccade_texas_kurtosis_peak_deacc_h',\n 'saccade_texas_kurtosis_peak_deacc_r',\n 'saccade_texas_kurtosis_peak_deacc_v',\n 'saccade_texas_kurtosis_peak_vel_amp_ratio_h',\n 'saccade_texas_kurtosis_peak_vel_amp_ratio_r',\n 'saccade_texas_kurtosis_peak_vel_amp_ratio_v',\n 'saccade_texas_kurtosis_peak_vel_duration_ratio_h',\n 'saccade_texas_kurtosis_peak_vel_duration_ratio_r',\n 'saccade_texas_kurtosis_peak_vel_duration_ratio_v',\n 'saccade_texas_kurtosis_peak_vel_h',\n 'saccade_texas_kurtosis_peak_vel_r',\n 'saccade_texas_kurtosis_peak_vel_v',\n 'saccade_texas_kurtosis_peak_velocity_loc_noise_ratio_r',\n 'saccade_texas_kurtosis_pol20',\n 'saccade_texas_kurtosis_pos_trace_sd_h',\n 'saccade_texas_kurtosis_pos_trace_sd_v',\n 'saccade_texas_kurtosis_sac_angle',\n 'saccade_texas_kurtosis_tail_efficiency',\n 'saccade_texas_kurtosis_tail_pr_inconsist',\n 'saccade_texas_kurtosis_trav_dist',\n 'saccade_texas_kurtosis_vel_profile_kurtosis_h',\n 'saccade_texas_kurtosis_vel_profile_kurtosis_r',\n 'saccade_texas_kurtosis_vel_profile_kurtosis_v',\n 'saccade_texas_kurtosis_vel_profile_mean_h',\n 'saccade_texas_kurtosis_vel_profile_mean_r',\n 'saccade_texas_kurtosis_vel_profile_mean_v',\n 'saccade_texas_kurtosis_vel_profile_median_h',\n 'saccade_texas_kurtosis_vel_profile_median_r',\n 'saccade_texas_kurtosis_vel_profile_median_v',\n 'saccade_texas_kurtosis_vel_profile_skew_h',\n 'saccade_texas_kurtosis_vel_profile_skew_r',\n 'saccade_texas_kurtosis_vel_profile_skew_v',\n 'saccade_texas_kurtosis_vel_profile_std_h',\n 'saccade_texas_kurtosis_vel_profile_std_r',\n 'saccade_texas_kurtosis_vel_profile_std_v',\n 'saccade_texas_mean_CurveArea',\n 'saccade_texas_mean_IniAD',\n 'saccade_texas_mean_IniDev',\n 'saccade_texas_mean_POC30',\n 'saccade_texas_mean_POC31',\n 'saccade_texas_mean_POC3MaxIndex',\n 'saccade_texas_mean_RawDev',\n 'saccade_texas_mean_RawPOC',\n 'saccade_texas_mean_acc_dec_duration_ratio',\n 'saccade_texas_mean_acc_profile_kurtosis_h',\n 'saccade_texas_mean_acc_profile_kurtosis_r',\n 'saccade_texas_mean_acc_profile_kurtosis_v',\n 'saccade_texas_mean_acc_profile_mean_h',\n 'saccade_texas_mean_acc_profile_mean_r',\n 'saccade_texas_mean_acc_profile_mean_v',\n 'saccade_texas_mean_acc_profile_median_h',\n 'saccade_texas_mean_acc_profile_median_r',\n 'saccade_texas_mean_acc_profile_median_v',\n 'saccade_texas_mean_acc_profile_skew_h',\n 'saccade_texas_mean_acc_profile_skew_r',\n 'saccade_texas_mean_acc_profile_skew_v',\n 'saccade_texas_mean_acc_profile_std_h',\n 'saccade_texas_mean_acc_profile_std_r',\n 'saccade_texas_mean_acc_profile_std_v',\n 'saccade_texas_mean_amp_duration_ratio_h',\n 'saccade_texas_mean_amp_duration_ratio_r',\n 'saccade_texas_mean_amp_duration_ratio_v',\n 'saccade_texas_mean_amp_h',\n 'saccade_texas_mean_amp_r',\n 'saccade_texas_mean_amp_v',\n 'saccade_texas_mean_centroid_h',\n 'saccade_texas_mean_centroid_v',\n 'saccade_texas_mean_curve30',\n 'saccade_texas_mean_curve31',\n 'saccade_texas_mean_curve3MaxIndex',\n 'saccade_texas_mean_direction',\n 'saccade_texas_mean_direction_h',\n 'saccade_texas_mean_dispersion',\n 'saccade_texas_mean_duration',\n 'saccade_texas_mean_efficiency',\n 'saccade_texas_mean_mean_vel_h',\n 'saccade_texas_mean_mean_vel_r',\n 'saccade_texas_mean_mean_vel_v',\n 'saccade_texas_mean_num_vel_loc_min',\n 'saccade_texas_mean_peak_acc_h',\n 'saccade_texas_mean_peak_acc_peak_dec_ratio_h',\n 'saccade_texas_mean_peak_acc_peak_dec_ratio_r',\n 'saccade_texas_mean_peak_acc_peak_dec_ratio_v',\n 'saccade_texas_mean_peak_acc_r',\n 'saccade_texas_mean_peak_acc_v',\n 'saccade_texas_mean_peak_deacc_h',\n 'saccade_texas_mean_peak_deacc_r',\n 'saccade_texas_mean_peak_deacc_v',\n 'saccade_texas_mean_peak_vel_amp_ratio_h',\n 'saccade_texas_mean_peak_vel_amp_ratio_r',\n 'saccade_texas_mean_peak_vel_amp_ratio_v',\n 'saccade_texas_mean_peak_vel_duration_ratio_h',\n 'saccade_texas_mean_peak_vel_duration_ratio_r',\n 'saccade_texas_mean_peak_vel_duration_ratio_v',\n 'saccade_texas_mean_peak_vel_h',\n 'saccade_texas_mean_peak_vel_r',\n 'saccade_texas_mean_peak_vel_v',\n 'saccade_texas_mean_peak_velocity_loc_noise_ratio_r',\n 'saccade_texas_mean_pol20',\n 'saccade_texas_mean_pos_trace_sd_h',\n 'saccade_texas_mean_pos_trace_sd_v',\n 'saccade_texas_mean_sac_angle',\n 'saccade_texas_mean_tail_efficiency',\n 'saccade_texas_mean_tail_pr_inconsist',\n 'saccade_texas_mean_trav_dist',\n 'saccade_texas_mean_vel_profile_kurtosis_h',\n 'saccade_texas_mean_vel_profile_kurtosis_r',\n 'saccade_texas_mean_vel_profile_kurtosis_v',\n 'saccade_texas_mean_vel_profile_mean_h',\n 'saccade_texas_mean_vel_profile_mean_r',\n 'saccade_texas_mean_vel_profile_mean_v',\n 'saccade_texas_mean_vel_profile_median_h',\n 'saccade_texas_mean_vel_profile_median_r',\n 'saccade_texas_mean_vel_profile_median_v',\n 'saccade_texas_mean_vel_profile_skew_h',\n 'saccade_texas_mean_vel_profile_skew_r',\n 'saccade_texas_mean_vel_profile_skew_v',\n 'saccade_texas_mean_vel_profile_std_h',\n 'saccade_texas_mean_vel_profile_std_r',\n 'saccade_texas_mean_vel_profile_std_v',\n 'saccade_texas_median_CurveArea',\n 'saccade_texas_median_IniAD',\n 'saccade_texas_median_IniDev',\n 'saccade_texas_median_POC30',\n 'saccade_texas_median_POC31',\n 'saccade_texas_median_POC3MaxIndex',\n 'saccade_texas_median_RawDev',\n 'saccade_texas_median_RawPOC',\n 'saccade_texas_median_acc_dec_duration_ratio',\n 'saccade_texas_median_acc_profile_kurtosis_h',\n 'saccade_texas_median_acc_profile_kurtosis_r',\n 'saccade_texas_median_acc_profile_kurtosis_v',\n 'saccade_texas_median_acc_profile_mean_h',\n 'saccade_texas_median_acc_profile_mean_r',\n 'saccade_texas_median_acc_profile_mean_v',\n 'saccade_texas_median_acc_profile_median_h',\n 'saccade_texas_median_acc_profile_median_r',\n 'saccade_texas_median_acc_profile_median_v',\n 'saccade_texas_median_acc_profile_skew_h',\n 'saccade_texas_median_acc_profile_skew_r',\n 'saccade_texas_median_acc_profile_skew_v',\n 'saccade_texas_median_acc_profile_std_h',\n 'saccade_texas_median_acc_profile_std_r',\n 'saccade_texas_median_acc_profile_std_v',\n 'saccade_texas_median_amp_duration_ratio_h',\n 'saccade_texas_median_amp_duration_ratio_r',\n 'saccade_texas_median_amp_duration_ratio_v',\n 'saccade_texas_median_amp_h',\n 'saccade_texas_median_amp_r',\n 'saccade_texas_median_amp_v',\n 'saccade_texas_median_centroid_h',\n 'saccade_texas_median_centroid_v',\n 'saccade_texas_median_curve30',\n 'saccade_texas_median_curve31',\n 'saccade_texas_median_curve3MaxIndex',\n 'saccade_texas_median_direction',\n 'saccade_texas_median_direction_h',\n 'saccade_texas_median_dispersion',\n 'saccade_texas_median_duration',\n 'saccade_texas_median_efficiency',\n 'saccade_texas_median_mean_vel_h',\n 'saccade_texas_median_mean_vel_r',\n 'saccade_texas_median_mean_vel_v',\n 'saccade_texas_median_num_vel_loc_min',\n 'saccade_texas_median_peak_acc_h',\n 'saccade_texas_median_peak_acc_peak_dec_ratio_h',\n 'saccade_texas_median_peak_acc_peak_dec_ratio_r',\n 'saccade_texas_median_peak_acc_peak_dec_ratio_v',\n 'saccade_texas_median_peak_acc_r',\n 'saccade_texas_median_peak_acc_v',\n 'saccade_texas_median_peak_deacc_h',\n 'saccade_texas_median_peak_deacc_r',\n 'saccade_texas_median_peak_deacc_v',\n 'saccade_texas_median_peak_vel_amp_ratio_h',\n 'saccade_texas_median_peak_vel_amp_ratio_r',\n 'saccade_texas_median_peak_vel_amp_ratio_v',\n 'saccade_texas_median_peak_vel_duration_ratio_h',\n 'saccade_texas_median_peak_vel_duration_ratio_r',\n 'saccade_texas_median_peak_vel_duration_ratio_v',\n 'saccade_texas_median_peak_vel_h',\n 'saccade_texas_median_peak_vel_r',\n 'saccade_texas_median_peak_vel_v',\n 'saccade_texas_median_peak_velocity_loc_noise_ratio_r',\n 'saccade_texas_median_pol20',\n 'saccade_texas_median_pos_trace_sd_h',\n 'saccade_texas_median_pos_trace_sd_v',\n 'saccade_texas_median_sac_angle',\n 'saccade_texas_median_tail_efficiency',\n 'saccade_texas_median_tail_pr_inconsist',\n 'saccade_texas_median_trav_dist',\n 'saccade_texas_median_vel_profile_kurtosis_h',\n 'saccade_texas_median_vel_profile_kurtosis_r',\n 'saccade_texas_median_vel_profile_kurtosis_v',\n 'saccade_texas_median_vel_profile_mean_h',\n 'saccade_texas_median_vel_profile_mean_r',\n 'saccade_texas_median_vel_profile_mean_v',\n 'saccade_texas_median_vel_profile_median_h',\n 'saccade_texas_median_vel_profile_median_r',\n 'saccade_texas_median_vel_profile_median_v',\n 'saccade_texas_median_vel_profile_skew_h',\n 'saccade_texas_median_vel_profile_skew_r',\n 'saccade_texas_median_vel_profile_skew_v',\n 'saccade_texas_median_vel_profile_std_h',\n 'saccade_texas_median_vel_profile_std_r',\n 'saccade_texas_median_vel_profile_std_v',\n 'saccade_texas_skew_CurveArea',\n 'saccade_texas_skew_IniAD',\n 'saccade_texas_skew_IniDev',\n 'saccade_texas_skew_POC30',\n 'saccade_texas_skew_POC31',\n 'saccade_texas_skew_POC3MaxIndex',\n 'saccade_texas_skew_RawDev',\n 'saccade_texas_skew_RawPOC',\n 'saccade_texas_skew_acc_dec_duration_ratio',\n 'saccade_texas_skew_acc_profile_kurtosis_h',\n 'saccade_texas_skew_acc_profile_kurtosis_r',\n 'saccade_texas_skew_acc_profile_kurtosis_v',\n 'saccade_texas_skew_acc_profile_mean_h',\n 'saccade_texas_skew_acc_profile_mean_r',\n 'saccade_texas_skew_acc_profile_mean_v',\n 'saccade_texas_skew_acc_profile_median_h',\n 'saccade_texas_skew_acc_profile_median_r',\n 'saccade_texas_skew_acc_profile_median_v',\n 'saccade_texas_skew_acc_profile_skew_h',\n 'saccade_texas_skew_acc_profile_skew_r',\n 'saccade_texas_skew_acc_profile_skew_v',\n 'saccade_texas_skew_acc_profile_std_h',\n 'saccade_texas_skew_acc_profile_std_r',\n 'saccade_texas_skew_acc_profile_std_v',\n 'saccade_texas_skew_amp_duration_ratio_h',\n 'saccade_texas_skew_amp_duration_ratio_r',\n 'saccade_texas_skew_amp_duration_ratio_v',\n 'saccade_texas_skew_amp_h',\n 'saccade_texas_skew_amp_r',\n 'saccade_texas_skew_amp_v',\n 'saccade_texas_skew_centroid_h',\n 'saccade_texas_skew_centroid_v',\n 'saccade_texas_skew_curve30',\n 'saccade_texas_skew_curve31',\n 'saccade_texas_skew_curve3MaxIndex',\n 'saccade_texas_skew_direction',\n 'saccade_texas_skew_direction_h',\n 'saccade_texas_skew_dispersion',\n 'saccade_texas_skew_duration',\n 'saccade_texas_skew_efficiency',\n 'saccade_texas_skew_mean_vel_h',\n 'saccade_texas_skew_mean_vel_r',\n 'saccade_texas_skew_mean_vel_v',\n 'saccade_texas_skew_num_vel_loc_min',\n 'saccade_texas_skew_peak_acc_h',\n 'saccade_texas_skew_peak_acc_peak_dec_ratio_h',\n 'saccade_texas_skew_peak_acc_peak_dec_ratio_r',\n 'saccade_texas_skew_peak_acc_peak_dec_ratio_v',\n 'saccade_texas_skew_peak_acc_r',\n 'saccade_texas_skew_peak_acc_v',\n 'saccade_texas_skew_peak_deacc_h',\n 'saccade_texas_skew_peak_deacc_r',\n 'saccade_texas_skew_peak_deacc_v',\n 'saccade_texas_skew_peak_vel_amp_ratio_h',\n 'saccade_texas_skew_peak_vel_amp_ratio_r',\n 'saccade_texas_skew_peak_vel_amp_ratio_v',\n 'saccade_texas_skew_peak_vel_duration_ratio_h',\n 'saccade_texas_skew_peak_vel_duration_ratio_r',\n 'saccade_texas_skew_peak_vel_duration_ratio_v',\n 'saccade_texas_skew_peak_vel_h',\n 'saccade_texas_skew_peak_vel_r',\n 'saccade_texas_skew_peak_vel_v',\n 'saccade_texas_skew_peak_velocity_loc_noise_ratio_r',\n 'saccade_texas_skew_pol20',\n 'saccade_texas_skew_pos_trace_sd_h',\n 'saccade_texas_skew_pos_trace_sd_v',\n 'saccade_texas_skew_sac_angle',\n 'saccade_texas_skew_tail_efficiency',\n 'saccade_texas_skew_tail_pr_inconsist',\n 'saccade_texas_skew_trav_dist',\n 'saccade_texas_skew_vel_profile_kurtosis_h',\n 'saccade_texas_skew_vel_profile_kurtosis_r',\n 'saccade_texas_skew_vel_profile_kurtosis_v',\n 'saccade_texas_skew_vel_profile_mean_h',\n 'saccade_texas_skew_vel_profile_mean_r',\n 'saccade_texas_skew_vel_profile_mean_v',\n 'saccade_texas_skew_vel_profile_median_h',\n 'saccade_texas_skew_vel_profile_median_r',\n 'saccade_texas_skew_vel_profile_median_v',\n 'saccade_texas_skew_vel_profile_skew_h',\n 'saccade_texas_skew_vel_profile_skew_r',\n 'saccade_texas_skew_vel_profile_skew_v',\n 'saccade_texas_skew_vel_profile_std_h',\n 'saccade_texas_skew_vel_profile_std_r',\n 'saccade_texas_skew_vel_profile_std_v',\n 'saccade_texas_std_CurveArea',\n 'saccade_texas_std_IniAD',\n 'saccade_texas_std_IniDev',\n 'saccade_texas_std_POC30',\n 'saccade_texas_std_POC31',\n 'saccade_texas_std_POC3MaxIndex',\n 'saccade_texas_std_RawDev',\n 'saccade_texas_std_RawPOC',\n 'saccade_texas_std_acc_dec_duration_ratio',\n 'saccade_texas_std_acc_profile_kurtosis_h',\n 'saccade_texas_std_acc_profile_kurtosis_r',\n 'saccade_texas_std_acc_profile_kurtosis_v',\n 'saccade_texas_std_acc_profile_mean_h',\n 'saccade_texas_std_acc_profile_mean_r',\n 'saccade_texas_std_acc_profile_mean_v',\n 'saccade_texas_std_acc_profile_median_h',\n 'saccade_texas_std_acc_profile_median_r',\n 'saccade_texas_std_acc_profile_median_v',\n 'saccade_texas_std_acc_profile_skew_h',\n 'saccade_texas_std_acc_profile_skew_r',\n 'saccade_texas_std_acc_profile_skew_v',\n 'saccade_texas_std_acc_profile_std_h',\n 'saccade_texas_std_acc_profile_std_r',\n 'saccade_texas_std_acc_profile_std_v',\n 'saccade_texas_std_amp_duration_ratio_h',\n 'saccade_texas_std_amp_duration_ratio_r',\n 'saccade_texas_std_amp_duration_ratio_v',\n 'saccade_texas_std_amp_h',\n 'saccade_texas_std_amp_r',\n 'saccade_texas_std_amp_v',\n 'saccade_texas_std_centroid_h',\n 'saccade_texas_std_centroid_v',\n 'saccade_texas_std_curve30',\n 'saccade_texas_std_curve31',\n 'saccade_texas_std_curve3MaxIndex',\n 'saccade_texas_std_direction',\n 'saccade_texas_std_direction_h',\n 'saccade_texas_std_dispersion',\n 'saccade_texas_std_duration',\n 'saccade_texas_std_efficiency',\n 'saccade_texas_std_mean_vel_h',\n 'saccade_texas_std_mean_vel_r',\n 'saccade_texas_std_mean_vel_v',\n 'saccade_texas_std_num_vel_loc_min',\n 'saccade_texas_std_peak_acc_h',\n 'saccade_texas_std_peak_acc_peak_dec_ratio_h',\n 'saccade_texas_std_peak_acc_peak_dec_ratio_r',\n 'saccade_texas_std_peak_acc_peak_dec_ratio_v',\n 'saccade_texas_std_peak_acc_r',\n 'saccade_texas_std_peak_acc_v',\n 'saccade_texas_std_peak_deacc_h',\n 'saccade_texas_std_peak_deacc_r',\n 'saccade_texas_std_peak_deacc_v',\n 'saccade_texas_std_peak_vel_amp_ratio_h',\n 'saccade_texas_std_peak_vel_amp_ratio_r',\n 'saccade_texas_std_peak_vel_amp_ratio_v',\n 'saccade_texas_std_peak_vel_duration_ratio_h',\n 'saccade_texas_std_peak_vel_duration_ratio_r',\n 'saccade_texas_std_peak_vel_duration_ratio_v',\n 'saccade_texas_std_peak_vel_h',\n 'saccade_texas_std_peak_vel_r',\n 'saccade_texas_std_peak_vel_v',\n 'saccade_texas_std_peak_velocity_loc_noise_ratio_r',\n 'saccade_texas_std_pol20',\n 'saccade_texas_std_pos_trace_sd_h',\n 'saccade_texas_std_pos_trace_sd_v',\n 'saccade_texas_std_sac_angle',\n 'saccade_texas_std_tail_efficiency',\n 'saccade_texas_std_tail_pr_inconsist',\n 'saccade_texas_std_trav_dist',\n 'saccade_texas_std_vel_profile_kurtosis_h',\n 'saccade_texas_std_vel_profile_kurtosis_r',\n 'saccade_texas_std_vel_profile_kurtosis_v',\n 'saccade_texas_std_vel_profile_mean_h',\n 'saccade_texas_std_vel_profile_mean_r',\n 'saccade_texas_std_vel_profile_mean_v',\n 'saccade_texas_std_vel_profile_median_h',\n 'saccade_texas_std_vel_profile_median_r',\n 'saccade_texas_std_vel_profile_median_v',\n 'saccade_texas_std_vel_profile_skew_h',\n 'saccade_texas_std_vel_profile_skew_r',\n 'saccade_texas_std_vel_profile_skew_v',\n 'saccade_texas_std_vel_profile_std_h',\n 'saccade_texas_std_vel_profile_std_r',\n 'saccade_texas_std_vel_profile_std_v']"
     },
     "execution_count": 5,
     "metadata": {},
     "output_type": "execute_result"
    }
   ],
   "source": [
    "names = sorted(file.split('\\n'))\n",
    "names"
   ],
   "metadata": {
    "collapsed": false
   }
  },
  {
   "cell_type": "code",
   "execution_count": 6,
   "outputs": [
    {
     "data": {
      "text/plain": "785"
     },
     "execution_count": 6,
     "metadata": {},
     "output_type": "execute_result"
    }
   ],
   "source": [
    "len(names)"
   ],
   "metadata": {
    "collapsed": false
   }
  },
  {
   "cell_type": "code",
   "execution_count": 7,
   "outputs": [],
   "source": [
    "count_names = [name for name in names if \"count_\" in name]\n",
    "names = [name for name in names if name not in count_names]\n",
    "\n",
    "closure_names = [\"eye_closure_LC\", \"eye_closure_TEC\"]\n",
    "names = [name for name in names if name not in closure_names]\n",
    "\n",
    "gaze_features = ['fixation_feature_GTE',\n",
    " 'fixation_feature_SGE']\n",
    "names = [name for name in names if name not in gaze_features]"
   ],
   "metadata": {
    "collapsed": false
   }
  },
  {
   "cell_type": "code",
   "execution_count": 8,
   "outputs": [
    {
     "name": "stdout",
     "output_type": "stream",
     "text": [
      "blinks\n",
      "corrupt\n",
      "errors\n",
      "eye_states_0\n",
      "eye_states_1\n",
      "eye_states_2\n",
      "eye_states_3\n",
      "eye_states_4\n",
      "eye_states_5\n",
      "fixations\n",
      "saccades\n"
     ]
    }
   ],
   "source": [
    "for name in count_names:\n",
    "    print(name.replace(\"count_\", \"\"))"
   ],
   "metadata": {
    "collapsed": false
   }
  },
  {
   "cell_type": "code",
   "execution_count": 91,
   "outputs": [],
   "source": [
    "cats = [\"saccade_texas\", \"saccade_\", \"fixation_texas\", \"eye_closure_\"]\n",
    "aggs = [\"mean\", \"median\", \"skew\", \"kurtosis\", \"std\"]\n",
    "no_agg_names = names.copy()\n",
    "for cat in cats:\n",
    "    for agg in aggs:\n",
    "        no_agg_names = [name.replace(f\"{cat}_{agg}\", cat) for name in no_agg_names]"
   ],
   "metadata": {
    "collapsed": false
   }
  },
  {
   "cell_type": "code",
   "execution_count": 92,
   "outputs": [],
   "source": [
    "no_agg_names = list(set(no_agg_names))"
   ],
   "metadata": {
    "collapsed": false
   }
  },
  {
   "cell_type": "code",
   "execution_count": 93,
   "outputs": [
    {
     "data": {
      "text/plain": "['saccade_texas_trav_dist',\n 'fixation_texas_AccProfMn_R',\n 'fixation_texas_VelProfKu_H',\n 'saccade_texas_peak_vel_amp_ratio_v',\n 'saccade_texas_acc_profile_skew_r',\n 'saccade_texas_amp_r',\n 'saccade_texas_peak_acc_peak_dec_ratio_h',\n 'fixation_texas_AccProfMd_R',\n 'fixation_texas_DriftFitLn_Slope_H',\n 'saccade_texas_vel_profile_std_v',\n 'saccade_texas_acc_dec_duration_ratio',\n 'fixation_texas_PosCentroid_H',\n 'saccade_texas_acc_profile_kurtosis_h',\n 'fixation_texas_DriftAvgSpeed_H',\n 'saccade__saccadic_velocity_mean',\n 'saccade_texas_vel_profile_mean_v',\n 'fixation_texas_AccProfMd_H',\n 'fixation_texas_VelProfMn_H',\n 'fixation_texas_AccProfKu_H',\n 'saccade_texas_acc_profile_mean_v',\n 'saccade_texas_acc_profile_median_r',\n 'saccade_texas_vel_profile_skew_h',\n 'saccade_texas_peak_vel_amp_ratio_h',\n 'eye_closure__standard_blink_duration',\n 'fixation_texas_DriftFitQd_R2_V',\n 'eye_closure__closure_speed_mean',\n 'eye_closure__closure_speed_max',\n 'fixation_texas_AccProfSd_H',\n 'saccade_texas_acc_profile_std_h',\n 'saccade_texas_amp_duration_ratio_v',\n 'saccade_texas_vel_profile_std_h',\n 'saccade_texas_efficiency',\n 'saccade_texas_peak_acc_peak_dec_ratio_r',\n 'fixation_texas_AccProfSk_V',\n 'saccade_texas_peak_vel_r',\n 'fixation_texas_VelProfSd_H',\n 'saccade_texas_peak_acc_h',\n 'fixation_texas_AccProfKu_V',\n 'saccade_texas_amp_duration_ratio_r',\n 'saccade_texas_RawPOC',\n 'eye_closure__standard_lid_reopening_durations',\n 'saccade_texas_peak_velocity_loc_noise_ratio_r',\n 'fixation_texas_DriftFitLn_R2_H',\n 'fixation_texas_VelProfMn_V',\n 'fixation_texas_AccProfMn_V',\n 'saccade_texas_peak_acc_v',\n 'saccade_texas_acc_profile_median_v',\n 'fixation_texas_VelProfSk_R',\n 'fixation_texas_DriftAvgSpeed_R',\n 'saccade_texas_acc_profile_skew_h',\n 'fixation_texas_AccProfMd_V',\n 'fixation_texas_DriftDist_R',\n 'saccade_texas_centroid_v',\n 'saccade_texas_duration',\n 'saccade_texas_peak_vel_duration_ratio_r',\n 'saccade_texas_dispersion',\n 'saccade__saccadic_velocity_max',\n 'fixation_texas_VelProfKu_R',\n 'saccade_texas_vel_profile_mean_r',\n 'saccade__saccadic_duration_mean',\n 'saccade_texas_IniDev',\n 'saccade_texas_vel_profile_skew_v',\n 'saccade_texas_vel_profile_kurtosis_r',\n 'saccade_texas_acc_profile_skew_v',\n 'saccade_texas_vel_profile_skew_r',\n 'saccade_texas_vel_profile_std_r',\n 'saccade_texas_POC3MaxIndex',\n 'saccade_texas_vel_profile_median_r',\n 'saccade_texas_acc_profile_std_v',\n 'saccade_texas_IniAD',\n 'saccade_texas_amp_h',\n 'saccade_texas_acc_profile_kurtosis_v',\n 'saccade_texas_pol20',\n 'saccade_texas_amp_duration_ratio_h',\n 'fixation_texas_AccProfMn_H',\n 'saccade__standard_saccadic_velocity_mean',\n 'saccade_texas_mean_vel_h',\n 'saccade_texas_tail_efficiency',\n 'saccade_texas_POC31',\n 'eye_closure__BTD',\n 'eye_closure__blink_duration',\n 'fixation_texas_DriftDisp_H',\n 'saccade_texas_acc_profile_std_r',\n 'fixation_texas_DriftFitLn_R2_V',\n 'fixation_texas_VelProfMd_R',\n 'saccade_texas_vel_profile_kurtosis_v',\n 'eye_closure__-AVR',\n 'fixation_texas_DriftDisp_R',\n 'fixation_texas_DriftDisp_V',\n 'eye_closure__delay_reopening',\n 'eye_closure__blink_intervals',\n 'saccade_texas_num_vel_loc_min',\n 'saccade_texas_sac_angle',\n 'saccade_texas_direction',\n 'saccade_texas_direction_h',\n 'fixation_texas_DriftDist_V',\n 'saccade_texas_peak_acc_peak_dec_ratio_v',\n 'saccade_texas_peak_vel_amp_ratio_r',\n 'fixation_texas_AccProfSk_H',\n 'fixation_texas_DriftFitLn_Slope_V',\n 'fixation_texas_VelProfMn_R',\n 'saccade_texas_acc_profile_median_h',\n 'fixation_texas_AccProfSd_R',\n 'fixation_texas_AccProfSk_R',\n 'fixation_texas_VelProfMd_V',\n 'saccade__saccadic_amplitude_mean',\n 'saccade_texas_centroid_h',\n 'saccade_texas_vel_profile_median_v',\n 'saccade_texas_peak_vel_duration_ratio_v',\n 'saccade_texas_peak_vel_h',\n 'fixation_texas_PosCentroid_V',\n 'saccade_texas_RawDev',\n 'fixation_texas_VelProfKu_V',\n 'eye_closure__+AVR',\n 'saccade__standard_saccadic_duration_mean',\n 'saccade_texas_mean_vel_v',\n 'saccade_texas_pos_trace_sd_h',\n 'saccade_texas_vel_profile_mean_h',\n 'saccade_texas_peak_deacc_h',\n 'saccade_texas_acc_profile_mean_r',\n 'fixation_texas_DriftFitQd_R2_H',\n 'fixation_texas_duration',\n 'saccade__standard_saccadic_velocity_max',\n 'saccade_texas_peak_vel_duration_ratio_h',\n 'eye_closure__standard_closure_speed_mean',\n 'saccade_texas_curve30',\n 'fixation_texas_VelProfSd_R',\n 'saccade_texas_pos_trace_sd_v',\n 'saccade_texas_vel_profile_median_h',\n 'eye_closure__standard_closure_speed_max',\n 'fixation_texas_VelProfSk_H',\n 'eye_closure__IED',\n 'saccade_texas_vel_profile_kurtosis_h',\n 'saccade_texas_peak_deacc_v',\n 'saccade_texas_acc_profile_kurtosis_r',\n 'saccade_texas_acc_profile_mean_h',\n 'fixation_texas_AccProfSd_V',\n 'saccade_texas_peak_deacc_r',\n 'fixation_texas_VelProfMd_H',\n 'saccade_texas_tail_pr_inconsist',\n 'saccade_texas_amp_v',\n 'fixation_texas_DriftDist_H',\n 'saccade_texas_mean_vel_r',\n 'fixation_texas_PrAbP90VelThr_R',\n 'saccade_texas_curve3MaxIndex',\n 'fixation_texas_VelProfSd_V',\n 'fixation_texas_VelProfSk_V',\n 'saccade_texas_curve31',\n 'fixation_texas_AccProfKu_R',\n 'saccade_texas_CurveArea',\n 'saccade_texas_peak_vel_v',\n 'fixation_texas_DriftAvgSpeed_V',\n 'saccade_texas_POC30',\n 'saccade_texas_peak_acc_r']"
     },
     "execution_count": 93,
     "metadata": {},
     "output_type": "execute_result"
    }
   ],
   "source": [
    "no_agg_names"
   ],
   "metadata": {
    "collapsed": false
   }
  },
  {
   "cell_type": "code",
   "execution_count": 94,
   "outputs": [],
   "source": [
    "cat_names = []\n",
    "for cat in cats:\n",
    "    one_cat_names = [name for name in no_agg_names if cat in name]\n",
    "    no_agg_names = [name for name in no_agg_names if name not in one_cat_names]\n",
    "    cat_names.append(one_cat_names)"
   ],
   "metadata": {
    "collapsed": false
   }
  },
  {
   "cell_type": "code",
   "execution_count": 97,
   "outputs": [],
   "source": [
    "texas_saccade_names, saccade_names, texas_fixation_names, eye_closure_names = cat_names"
   ],
   "metadata": {
    "collapsed": false
   }
  },
  {
   "cell_type": "code",
   "execution_count": 100,
   "outputs": [
    {
     "data": {
      "text/plain": "85"
     },
     "execution_count": 100,
     "metadata": {},
     "output_type": "execute_result"
    }
   ],
   "source": [
    "len(texas_saccade_names)\n"
   ],
   "metadata": {
    "collapsed": false
   }
  },
  {
   "cell_type": "code",
   "execution_count": 106,
   "outputs": [],
   "source": [
    "for cat_name, cat in zip(cat_names, cats):\n",
    "    cat_name = sorted([name.replace(cat+\"_\", \"\") for name in cat_name])\n",
    "    with open(config.PATHS.DATA.joinpath(f\"features_{cat}.txt\"), \"w\") as fp:\n",
    "        fp.write(\"\\n\".join(cat_name))\n"
   ],
   "metadata": {
    "collapsed": false
   }
  },
  {
   "cell_type": "code",
   "execution_count": 12,
   "outputs": [
    {
     "data": {
      "text/plain": "['saccade__kurtosis_saccadic_amplitude_mean',\n 'saccade__kurtosis_saccadic_duration_mean',\n 'saccade__kurtosis_saccadic_velocity_max',\n 'saccade__kurtosis_saccadic_velocity_mean',\n 'saccade__kurtosis_standard_saccadic_duration_mean',\n 'saccade__kurtosis_standard_saccadic_velocity_max',\n 'saccade__kurtosis_standard_saccadic_velocity_mean',\n 'saccade__mean_saccadic_amplitude_mean',\n 'saccade__mean_saccadic_duration_mean',\n 'saccade__mean_saccadic_velocity_max',\n 'saccade__mean_saccadic_velocity_mean',\n 'saccade__mean_standard_saccadic_duration_mean',\n 'saccade__mean_standard_saccadic_velocity_max',\n 'saccade__mean_standard_saccadic_velocity_mean',\n 'saccade__median_saccadic_amplitude_mean',\n 'saccade__median_saccadic_duration_mean',\n 'saccade__median_saccadic_velocity_max',\n 'saccade__median_saccadic_velocity_mean',\n 'saccade__median_standard_saccadic_duration_mean',\n 'saccade__median_standard_saccadic_velocity_max',\n 'saccade__median_standard_saccadic_velocity_mean',\n 'saccade__skew_saccadic_amplitude_mean',\n 'saccade__skew_saccadic_duration_mean',\n 'saccade__skew_saccadic_velocity_max',\n 'saccade__skew_saccadic_velocity_mean',\n 'saccade__skew_standard_saccadic_duration_mean',\n 'saccade__skew_standard_saccadic_velocity_max',\n 'saccade__skew_standard_saccadic_velocity_mean',\n 'saccade__std_saccadic_amplitude_mean',\n 'saccade__std_saccadic_duration_mean',\n 'saccade__std_saccadic_velocity_max',\n 'saccade__std_saccadic_velocity_mean',\n 'saccade__std_standard_saccadic_duration_mean',\n 'saccade__std_standard_saccadic_velocity_max',\n 'saccade__std_standard_saccadic_velocity_mean']"
     },
     "execution_count": 12,
     "metadata": {},
     "output_type": "execute_result"
    }
   ],
   "source": [
    "[name for name in names if name.startswith(\"saccade__\")]"
   ],
   "metadata": {
    "collapsed": false
   }
  },
  {
   "cell_type": "code",
   "execution_count": null,
   "outputs": [],
   "source": [],
   "metadata": {
    "collapsed": false
   }
  }
 ],
 "metadata": {
  "kernelspec": {
   "display_name": "Python 3",
   "language": "python",
   "name": "python3"
  },
  "language_info": {
   "codemirror_mode": {
    "name": "ipython",
    "version": 2
   },
   "file_extension": ".py",
   "mimetype": "text/x-python",
   "name": "python",
   "nbconvert_exporter": "python",
   "pygments_lexer": "ipython2",
   "version": "2.7.6"
  }
 },
 "nbformat": 4,
 "nbformat_minor": 0
}
