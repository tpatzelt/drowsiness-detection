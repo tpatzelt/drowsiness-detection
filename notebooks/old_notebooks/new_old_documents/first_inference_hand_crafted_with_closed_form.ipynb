{
 "cells": [
  {
   "cell_type": "code",
   "execution_count": 2,
   "metadata": {
    "ExecuteTime": {
     "end_time": "2021-05-02T15:52:00.467029Z",
     "start_time": "2021-05-02T15:52:00.461843Z"
    }
   },
   "outputs": [],
   "source": [
    "from tensorflow.keras import backend as K\n",
    "import pandas as pd\n",
    "import numpy as np\n",
    "import matplotlib.pyplot as plt\n",
    "from keras_balanced_batch_generator import make_generator\n",
    "\n",
    "pd.set_option(\"display.precision\", 2)\n",
    "from pathlib import Path\n",
    "from tqdm import tqdm\n",
    "import tensorflow as tf\n",
    "import tensorflow.keras as keras\n",
    "from sklearn.model_selection import train_test_split\n",
    "from tensorflow.keras.layers import Dense, Input\n",
    "from tensorflow.keras.models import Sequential\n",
    "from tensorflow.keras.utils import to_categorical\n",
    "import random\n",
    "import math\n",
    "from numpy.linalg import inv\n",
    "\n",
    "from imblearn.over_sampling import RandomOverSampler\n",
    "from helpers import (ordinal_to_label, digitize, plot_confusion_matrix, plot_model_history,\n",
    "                     label_to_one_hot_like, one_hot_like_to_label, plot_cm_matrix)"
   ]
  },
  {
   "cell_type": "code",
   "execution_count": 3,
   "metadata": {
    "ExecuteTime": {
     "end_time": "2021-05-02T15:52:00.731456Z",
     "start_time": "2021-05-02T15:52:00.728838Z"
    }
   },
   "outputs": [],
   "source": [
    "np.set_printoptions(precision=2)\n",
    "plt.rcParams[\"figure.figsize\"] = (10, 10)"
   ]
  },
  {
   "cell_type": "markdown",
   "metadata": {},
   "source": [
    "### load data"
   ]
  },
  {
   "cell_type": "code",
   "execution_count": 4,
   "metadata": {
    "ExecuteTime": {
     "end_time": "2021-05-02T15:52:01.745946Z",
     "start_time": "2021-05-02T15:52:01.444150Z"
    }
   },
   "outputs": [
    {
     "data": {
      "text/html": [
       "<div>\n",
       "<style scoped>\n",
       "    .dataframe tbody tr th:only-of-type {\n",
       "        vertical-align: middle;\n",
       "    }\n",
       "\n",
       "    .dataframe tbody tr th {\n",
       "        vertical-align: top;\n",
       "    }\n",
       "\n",
       "    .dataframe thead th {\n",
       "        text-align: right;\n",
       "    }\n",
       "</style>\n",
       "<table border=\"1\" class=\"dataframe\">\n",
       "  <thead>\n",
       "    <tr style=\"text-align: right;\">\n",
       "      <th></th>\n",
       "      <th></th>\n",
       "      <th>combined_eye_closure</th>\n",
       "      <th>left_image_eye_closure</th>\n",
       "      <th>right_image_eye_closure</th>\n",
       "      <th>combined_eye_state</th>\n",
       "      <th>left_image_eye_state</th>\n",
       "      <th>right_image_eye_state</th>\n",
       "      <th>subject_id</th>\n",
       "      <th>session_id</th>\n",
       "      <th>session_type</th>\n",
       "      <th>num_blinks</th>\n",
       "      <th>mean_blink_length</th>\n",
       "      <th>mean_opening_velocity</th>\n",
       "      <th>mean_closing_velocity</th>\n",
       "      <th>karolinska_response_nearest_interpolation</th>\n",
       "      <th>karolinska_response_linear_interpolation</th>\n",
       "    </tr>\n",
       "    <tr>\n",
       "      <th>filename</th>\n",
       "      <th>frame</th>\n",
       "      <th></th>\n",
       "      <th></th>\n",
       "      <th></th>\n",
       "      <th></th>\n",
       "      <th></th>\n",
       "      <th></th>\n",
       "      <th></th>\n",
       "      <th></th>\n",
       "      <th></th>\n",
       "      <th></th>\n",
       "      <th></th>\n",
       "      <th></th>\n",
       "      <th></th>\n",
       "      <th></th>\n",
       "      <th></th>\n",
       "    </tr>\n",
       "  </thead>\n",
       "  <tbody>\n",
       "    <tr>\n",
       "      <th rowspan=\"5\" valign=\"top\">001_1_a</th>\n",
       "      <th>0</th>\n",
       "      <td>0.26</td>\n",
       "      <td>0.25</td>\n",
       "      <td>0.28</td>\n",
       "      <td>0</td>\n",
       "      <td>0</td>\n",
       "      <td>0</td>\n",
       "      <td>1</td>\n",
       "      <td>1</td>\n",
       "      <td>0</td>\n",
       "      <td>0</td>\n",
       "      <td>0.0</td>\n",
       "      <td>0.0</td>\n",
       "      <td>0.0</td>\n",
       "      <td>6</td>\n",
       "      <td>6</td>\n",
       "    </tr>\n",
       "    <tr>\n",
       "      <th>1</th>\n",
       "      <td>0.27</td>\n",
       "      <td>0.22</td>\n",
       "      <td>0.31</td>\n",
       "      <td>0</td>\n",
       "      <td>0</td>\n",
       "      <td>0</td>\n",
       "      <td>1</td>\n",
       "      <td>1</td>\n",
       "      <td>0</td>\n",
       "      <td>0</td>\n",
       "      <td>0.0</td>\n",
       "      <td>0.0</td>\n",
       "      <td>0.0</td>\n",
       "      <td>6</td>\n",
       "      <td>6</td>\n",
       "    </tr>\n",
       "    <tr>\n",
       "      <th>2</th>\n",
       "      <td>0.27</td>\n",
       "      <td>0.23</td>\n",
       "      <td>0.32</td>\n",
       "      <td>0</td>\n",
       "      <td>0</td>\n",
       "      <td>0</td>\n",
       "      <td>1</td>\n",
       "      <td>1</td>\n",
       "      <td>0</td>\n",
       "      <td>0</td>\n",
       "      <td>0.0</td>\n",
       "      <td>0.0</td>\n",
       "      <td>0.0</td>\n",
       "      <td>6</td>\n",
       "      <td>6</td>\n",
       "    </tr>\n",
       "    <tr>\n",
       "      <th>3</th>\n",
       "      <td>0.27</td>\n",
       "      <td>0.22</td>\n",
       "      <td>0.32</td>\n",
       "      <td>0</td>\n",
       "      <td>0</td>\n",
       "      <td>0</td>\n",
       "      <td>1</td>\n",
       "      <td>1</td>\n",
       "      <td>0</td>\n",
       "      <td>0</td>\n",
       "      <td>0.0</td>\n",
       "      <td>0.0</td>\n",
       "      <td>0.0</td>\n",
       "      <td>6</td>\n",
       "      <td>6</td>\n",
       "    </tr>\n",
       "    <tr>\n",
       "      <th>4</th>\n",
       "      <td>0.26</td>\n",
       "      <td>0.22</td>\n",
       "      <td>0.31</td>\n",
       "      <td>0</td>\n",
       "      <td>0</td>\n",
       "      <td>0</td>\n",
       "      <td>1</td>\n",
       "      <td>1</td>\n",
       "      <td>0</td>\n",
       "      <td>0</td>\n",
       "      <td>0.0</td>\n",
       "      <td>0.0</td>\n",
       "      <td>0.0</td>\n",
       "      <td>6</td>\n",
       "      <td>6</td>\n",
       "    </tr>\n",
       "  </tbody>\n",
       "</table>\n",
       "</div>"
      ],
      "text/plain": [
       "                combined_eye_closure  left_image_eye_closure  \\\n",
       "filename frame                                                 \n",
       "001_1_a  0                      0.26                    0.25   \n",
       "         1                      0.27                    0.22   \n",
       "         2                      0.27                    0.23   \n",
       "         3                      0.27                    0.22   \n",
       "         4                      0.26                    0.22   \n",
       "\n",
       "                right_image_eye_closure  combined_eye_state  \\\n",
       "filename frame                                                \n",
       "001_1_a  0                         0.28                   0   \n",
       "         1                         0.31                   0   \n",
       "         2                         0.32                   0   \n",
       "         3                         0.32                   0   \n",
       "         4                         0.31                   0   \n",
       "\n",
       "                left_image_eye_state  right_image_eye_state  subject_id  \\\n",
       "filename frame                                                            \n",
       "001_1_a  0                         0                      0           1   \n",
       "         1                         0                      0           1   \n",
       "         2                         0                      0           1   \n",
       "         3                         0                      0           1   \n",
       "         4                         0                      0           1   \n",
       "\n",
       "                session_id  session_type  num_blinks  mean_blink_length  \\\n",
       "filename frame                                                            \n",
       "001_1_a  0               1             0           0                0.0   \n",
       "         1               1             0           0                0.0   \n",
       "         2               1             0           0                0.0   \n",
       "         3               1             0           0                0.0   \n",
       "         4               1             0           0                0.0   \n",
       "\n",
       "                mean_opening_velocity  mean_closing_velocity  \\\n",
       "filename frame                                                 \n",
       "001_1_a  0                        0.0                    0.0   \n",
       "         1                        0.0                    0.0   \n",
       "         2                        0.0                    0.0   \n",
       "         3                        0.0                    0.0   \n",
       "         4                        0.0                    0.0   \n",
       "\n",
       "                karolinska_response_nearest_interpolation  \\\n",
       "filename frame                                              \n",
       "001_1_a  0                                              6   \n",
       "         1                                              6   \n",
       "         2                                              6   \n",
       "         3                                              6   \n",
       "         4                                              6   \n",
       "\n",
       "                karolinska_response_linear_interpolation  \n",
       "filename frame                                            \n",
       "001_1_a  0                                             6  \n",
       "         1                                             6  \n",
       "         2                                             6  \n",
       "         3                                             6  \n",
       "         4                                             6  "
      ]
     },
     "execution_count": 4,
     "metadata": {},
     "output_type": "execute_result"
    }
   ],
   "source": [
    "df = pd.read_pickle(\"./all_features_120s.pkl\")\n",
    "df.head()"
   ]
  },
  {
   "cell_type": "code",
   "execution_count": 5,
   "metadata": {
    "ExecuteTime": {
     "end_time": "2021-05-02T15:52:04.316865Z",
     "start_time": "2021-05-02T15:52:04.313098Z"
    }
   },
   "outputs": [
    {
     "name": "stdout",
     "output_type": "stream",
     "text": [
      "Index(['combined_eye_closure', 'left_image_eye_closure',\n",
      "       'right_image_eye_closure', 'combined_eye_state', 'left_image_eye_state',\n",
      "       'right_image_eye_state', 'subject_id', 'session_id', 'session_type',\n",
      "       'num_blinks', 'mean_blink_length', 'mean_opening_velocity',\n",
      "       'mean_closing_velocity', 'karolinska_response_nearest_interpolation',\n",
      "       'karolinska_response_linear_interpolation'],\n",
      "      dtype='object')\n"
     ]
    }
   ],
   "source": [
    "# columns\n",
    "print(df.columns)"
   ]
  },
  {
   "cell_type": "markdown",
   "metadata": {},
   "source": [
    "### train and test split"
   ]
  },
  {
   "cell_type": "code",
   "execution_count": 6,
   "metadata": {
    "ExecuteTime": {
     "end_time": "2021-05-02T15:52:05.072575Z",
     "start_time": "2021-05-02T15:52:04.835016Z"
    }
   },
   "outputs": [
    {
     "name": "stdout",
     "output_type": "stream",
     "text": [
      "['004', '009'] ['008', '003', '005', '014', '011'] ['002', '001']\n"
     ]
    }
   ],
   "source": [
    "# filter out alcohol sessions\n",
    "unique_indices = list(\n",
    "    filter(lambda x: not \"a\" in x,\n",
    "           df.index.get_level_values('filename').unique()))\n",
    "subjects = list(set([filename.split(\"_\")[0] for filename in unique_indices]))\n",
    "random.shuffle(subjects)\n",
    "\n",
    "test_size = .2\n",
    "split_index = math.ceil(test_size * len(subjects))\n",
    "test_subjects = subjects[:split_index]\n",
    "train_subjects = subjects[split_index:]\n",
    "val_subjects = train_subjects[:2]\n",
    "train_subjects = train_subjects[2:]\n",
    "print(test_subjects, train_subjects, val_subjects)\n"
   ]
  },
  {
   "cell_type": "code",
   "execution_count": 7,
   "metadata": {
    "ExecuteTime": {
     "end_time": "2021-05-02T15:52:05.436867Z",
     "start_time": "2021-05-02T15:52:05.433132Z"
    }
   },
   "outputs": [],
   "source": [
    "train_subjects = [\"001\", \"002\", \"003\", \"004\", \"009\"]\n",
    "val_subjects = [\"005\", \"008\"]\n",
    "test_subjecst = [\"011\", \"014\"]"
   ]
  },
  {
   "cell_type": "code",
   "execution_count": 8,
   "metadata": {
    "ExecuteTime": {
     "end_time": "2021-05-02T15:52:14.029356Z",
     "start_time": "2021-05-02T15:52:07.926655Z"
    }
   },
   "outputs": [],
   "source": [
    "# create boolean index mask\n",
    "test_subject_mask = df.index.to_frame().filename.str.contains(\n",
    "    \"|\".join(test_subjects))\n",
    "train_subject_mask = df.index.to_frame().filename.str.contains(\n",
    "    \"|\".join(train_subjects))\n",
    "val_subject_mask = df.index.to_frame().filename.str.contains(\n",
    "    \"|\".join(val_subjects))"
   ]
  },
  {
   "cell_type": "code",
   "execution_count": 9,
   "metadata": {
    "ExecuteTime": {
     "end_time": "2021-05-02T15:52:15.060372Z",
     "start_time": "2021-05-02T15:52:14.084253Z"
    }
   },
   "outputs": [
    {
     "name": "stdout",
     "output_type": "stream",
     "text": [
      "X_train.shape = (1336295, 4)\n",
      "X_test.shape = (463008, 4)\n",
      "y_train.shape = (1336295, 1)\n",
      "y_test.shape = (463008, 1)\n"
     ]
    }
   ],
   "source": [
    "test_df = df[test_subject_mask]\n",
    "test_df = test_df.copy()\n",
    "test_df = test_df[test_df[\"session_type\"] != 0]\n",
    "test_df = test_df.dropna()\n",
    "#test_df = test_df.sample(frac=1)\n",
    "# print(len(test_df))\n",
    "\n",
    "train_df = df[train_subject_mask]\n",
    "train_df = train_df.copy()\n",
    "train_df = train_df[train_df[\"session_type\"] != 0]\n",
    "train_df = train_df.dropna()\n",
    "#treain_df = train_df.sample(frac=1)\n",
    "#print(len(train_df))\n",
    "\n",
    "val_df = df[val_subject_mask]\n",
    "val_df = val_df.copy()\n",
    "val_df = val_df[val_df[\"session_type\"] != 0]\n",
    "val_df = val_df.dropna()\n",
    "#treain_df = train_df.sample(frac=1)\n",
    "#print(len(train_df))\n",
    "\n",
    "feature_columns = [\n",
    "    'num_blinks', 'mean_blink_length', 'mean_opening_velocity',\n",
    "    'mean_closing_velocity'\n",
    "]\n",
    "target_columns = [\"karolinska_response_linear_interpolation\"]\n",
    "\n",
    "X_train = train_df[feature_columns].astype(float).to_numpy()\n",
    "X_test = test_df[feature_columns].astype(float).to_numpy()\n",
    "X_val = val_df[feature_columns].astype(float).to_numpy()\n",
    "\n",
    "y_train = train_df[target_columns].astype(float).to_numpy()\n",
    "y_test = test_df[target_columns].astype(float).to_numpy()\n",
    "y_val = val_df[target_columns].astype(float).to_numpy()\n",
    "\n",
    "print(f\"X_train.shape = {X_train.shape}\")\n",
    "print(f\"X_test.shape = {X_test.shape}\")\n",
    "print(f\"y_train.shape = {y_train.shape}\")\n",
    "print(f\"y_test.shape = {y_test.shape}\")"
   ]
  },
  {
   "cell_type": "code",
   "execution_count": 10,
   "metadata": {
    "ExecuteTime": {
     "end_time": "2021-05-02T15:52:15.176957Z",
     "start_time": "2021-05-02T15:52:15.170065Z"
    }
   },
   "outputs": [],
   "source": [
    "# set labels to [0, 8]\n",
    "y_train = y_train - 1\n",
    "y_test = y_test - 1\n",
    "y_val = y_val - 1"
   ]
  },
  {
   "cell_type": "code",
   "execution_count": 11,
   "metadata": {
    "ExecuteTime": {
     "end_time": "2021-05-02T15:52:35.449599Z",
     "start_time": "2021-05-02T15:52:34.732076Z"
    }
   },
   "outputs": [],
   "source": [
    "# normalize\n",
    "norm_layer = tf.keras.layers.experimental.preprocessing.Normalization()\n",
    "norm_layer.adapt(X_train)\n",
    "X_train = norm_layer(X_train)\n",
    "X_test = norm_layer(X_test)\n",
    "X_val = norm_layer(X_val)"
   ]
  },
  {
   "cell_type": "code",
   "execution_count": 12,
   "metadata": {
    "ExecuteTime": {
     "end_time": "2021-05-02T15:52:35.874739Z",
     "start_time": "2021-05-02T15:52:35.515462Z"
    }
   },
   "outputs": [
    {
     "data": {
      "image/png": "[encoded data removed]",
      "text/plain": [
       "<Figure size 720x720 with 3 Axes>"
      ]
     },
     "metadata": {
      "needs_background": "light"
     },
     "output_type": "display_data"
    }
   ],
   "source": [
    "f, (ax1, ax2, ax3) = plt.subplots(3, 1)\n",
    "bins = [x - .5 for x in range(0, 10)]\n",
    "ax1.hist(y_test, bins=bins)\n",
    "ax1.set_title(\"test set\")\n",
    "ax2.hist(y_train, bins=bins)\n",
    "ax2.set_title(\"train set\")\n",
    "ax3.hist(y_test, bins=bins)\n",
    "ax3.set_title(\"val set\")\n",
    "\n",
    "plt.xticks(range(1, 9))\n",
    "plt.show()"
   ]
  },
  {
   "cell_type": "code",
   "execution_count": 16,
   "metadata": {
    "ExecuteTime": {
     "end_time": "2021-05-02T15:52:53.389601Z",
     "start_time": "2021-05-02T15:52:53.376364Z"
    },
    "scrolled": false
   },
   "outputs": [],
   "source": [
    "def casted_accuracy(y_true, y_pred):\n",
    "    y_true = tf.cast(y_true, tf.int32)\n",
    "    y_pred = tf.cast(tf.add(y_pred, 0.5), tf.int32)\n",
    "    return tf.divide(\n",
    "        tf.reduce_sum(tf.cast(tf.equal(y_pred, y_true), tf.int32)),\n",
    "        tf.size(y_true))"
   ]
  },
  {
   "cell_type": "code",
   "execution_count": null,
   "metadata": {},
   "outputs": [],
   "source": []
  },
  {
   "cell_type": "code",
   "execution_count": 17,
   "metadata": {
    "ExecuteTime": {
     "end_time": "2021-05-02T15:52:53.926256Z",
     "start_time": "2021-05-02T15:52:53.896930Z"
    }
   },
   "outputs": [
    {
     "ename": "NameError",
     "evalue": "name 'regression_model' is not defined",
     "output_type": "error",
     "traceback": [
      "\u001b[0;31m---------------------------------------------------------------------------\u001b[0m",
      "\u001b[0;31mNameError\u001b[0m                                 Traceback (most recent call last)",
      "\u001b[0;32m<ipython-input-17-61b3c7d54a0f>\u001b[0m in \u001b[0;36m<module>\u001b[0;34m\u001b[0m\n\u001b[0;32m----> 1\u001b[0;31m \u001b[0;32mfor\u001b[0m \u001b[0mname\u001b[0m\u001b[0;34m,\u001b[0m \u001b[0mweigth\u001b[0m \u001b[0;32min\u001b[0m \u001b[0mzip\u001b[0m\u001b[0;34m(\u001b[0m\u001b[0mfeature_columns\u001b[0m\u001b[0;34m,\u001b[0m \u001b[0mregression_model\u001b[0m\u001b[0;34m.\u001b[0m\u001b[0mweights\u001b[0m\u001b[0;34m[\u001b[0m\u001b[0;36m0\u001b[0m\u001b[0;34m]\u001b[0m\u001b[0;34m.\u001b[0m\u001b[0mnumpy\u001b[0m\u001b[0;34m(\u001b[0m\u001b[0;34m)\u001b[0m\u001b[0;34m)\u001b[0m\u001b[0;34m:\u001b[0m\u001b[0;34m\u001b[0m\u001b[0;34m\u001b[0m\u001b[0m\n\u001b[0m\u001b[1;32m      2\u001b[0m     \u001b[0mprint\u001b[0m\u001b[0;34m(\u001b[0m\u001b[0mname\u001b[0m\u001b[0;34m,\u001b[0m \u001b[0mweigth\u001b[0m\u001b[0;34m)\u001b[0m\u001b[0;34m\u001b[0m\u001b[0;34m\u001b[0m\u001b[0m\n\u001b[1;32m      3\u001b[0m \u001b[0;34m\u001b[0m\u001b[0m\n\u001b[1;32m      4\u001b[0m \u001b[0mprint\u001b[0m\u001b[0;34m(\u001b[0m\u001b[0;34m\"bias\"\u001b[0m\u001b[0;34m,\u001b[0m \u001b[0mregression_model\u001b[0m\u001b[0;34m.\u001b[0m\u001b[0mweights\u001b[0m\u001b[0;34m[\u001b[0m\u001b[0;36m1\u001b[0m\u001b[0;34m]\u001b[0m\u001b[0;34m.\u001b[0m\u001b[0mnumpy\u001b[0m\u001b[0;34m(\u001b[0m\u001b[0;34m)\u001b[0m\u001b[0;34m)\u001b[0m\u001b[0;34m\u001b[0m\u001b[0;34m\u001b[0m\u001b[0m\n",
      "\u001b[0;31mNameError\u001b[0m: name 'regression_model' is not defined"
     ]
    }
   ],
   "source": [
    "for name, weigth in zip(feature_columns, regression_model.weights[0].numpy()):\n",
    "    print(name, weigth)\n",
    "\n",
    "print(\"bias\", regression_model.weights[1].numpy())"
   ]
  },
  {
   "cell_type": "code",
   "execution_count": 15,
   "metadata": {
    "ExecuteTime": {
     "end_time": "2021-05-02T15:52:36.542070Z",
     "start_time": "2021-05-02T15:52:36.520058Z"
    }
   },
   "outputs": [
    {
     "ename": "NameError",
     "evalue": "name 'results' is not defined",
     "output_type": "error",
     "traceback": [
      "\u001b[0;31m---------------------------------------------------------------------------\u001b[0m",
      "\u001b[0;31mNameError\u001b[0m                                 Traceback (most recent call last)",
      "\u001b[0;32m<ipython-input-15-5027a8a4328a>\u001b[0m in \u001b[0;36m<module>\u001b[0;34m\u001b[0m\n\u001b[0;32m----> 1\u001b[0;31m \u001b[0mprint\u001b[0m\u001b[0;34m(\u001b[0m\u001b[0;34mf\"Test MAE: {results[0]}\"\u001b[0m\u001b[0;34m)\u001b[0m\u001b[0;34m\u001b[0m\u001b[0;34m\u001b[0m\u001b[0m\n\u001b[0m\u001b[1;32m      2\u001b[0m \u001b[0mprint\u001b[0m\u001b[0;34m(\u001b[0m\u001b[0;34mf\"Test Accuracy {results[1]}\"\u001b[0m\u001b[0;34m)\u001b[0m\u001b[0;34m\u001b[0m\u001b[0;34m\u001b[0m\u001b[0m\n",
      "\u001b[0;31mNameError\u001b[0m: name 'results' is not defined"
     ]
    }
   ],
   "source": [
    "print(f\"Test MAE: {results[0]}\")\n",
    "print(f\"Test Accuracy {results[1]}\")"
   ]
  },
  {
   "cell_type": "code",
   "execution_count": 43,
   "metadata": {
    "ExecuteTime": {
     "end_time": "2021-04-23T13:40:22.086173Z",
     "start_time": "2021-04-23T13:40:17.627909Z"
    }
   },
   "outputs": [
    {
     "name": "stdout",
     "output_type": "stream",
     "text": [
      "Confusion matrix, without normalization\n"
     ]
    },
    {
     "data": {
      "image/png": "[encoded data removed]",
      "text/plain": [
       "<Figure size 720x720 with 2 Axes>"
      ]
     },
     "metadata": {
      "needs_background": "light"
     },
     "output_type": "display_data"
    }
   ],
   "source": [
    "plot_cm_matrix(regression_model, X_test, y_test, output_kind=\"digitize\")"
   ]
  },
  {
   "cell_type": "markdown",
   "metadata": {
    "ExecuteTime": {
     "end_time": "2021-04-09T11:14:50.763620Z",
     "start_time": "2021-04-09T11:14:50.725537Z"
    }
   },
   "source": [
    "### closed form solution\n",
    "$$\n",
    "\\beta = (X X^T)^{-1} X^T y\n",
    "$$"
   ]
  },
  {
   "cell_type": "code",
   "execution_count": 18,
   "metadata": {
    "ExecuteTime": {
     "end_time": "2021-05-02T15:53:44.804040Z",
     "start_time": "2021-05-02T15:53:44.792604Z"
    }
   },
   "outputs": [],
   "source": [
    "def closed_form_ols(X, y):\n",
    "    # calculate coefficients using closed-form solution\n",
    "    coeffs = inv(X.transpose().dot(X)).dot(X.transpose()).dot(y)\n",
    "    return coeffs\n"
   ]
  },
  {
   "cell_type": "code",
   "execution_count": 19,
   "metadata": {
    "ExecuteTime": {
     "end_time": "2021-05-02T15:53:45.218198Z",
     "start_time": "2021-05-02T15:53:45.210598Z"
    }
   },
   "outputs": [
    {
     "ename": "SyntaxError",
     "evalue": "invalid character in identifier (<ipython-input-19-175a858c2124>, line 1)",
     "output_type": "error",
     "traceback": [
      "\u001b[0;36m  File \u001b[0;32m\"<ipython-input-19-175a858c2124>\"\u001b[0;36m, line \u001b[0;32m1\u001b[0m\n\u001b[0;31m    ￼\u001b[0m\n\u001b[0m    ^\u001b[0m\n\u001b[0;31mSyntaxError\u001b[0m\u001b[0;31m:\u001b[0m invalid character in identifier\n"
     ]
    }
   ],
   "source": [
    "￼\n",
    "# normalize\n",
    "norm_layer = tf.keras.layers.experimental.preprocessing.Normalization()\n",
    "norm_layer.adapt(X_train)\n",
    "X_train = norm_layer(X_train)\n",
    "X_test = norm_layer(X_test)\n",
    "X_val = norm_layer(X_val)\n",
    "#original dataset with bias feature\n",
    "bias_ones = np.ones(shape=(len(X_train)))\n",
    "X_train_with_bias = np.c_[ X_train.numpy(), bias_ones]\n",
    "\n",
    "coeffs_with_bias = closed_form_ols(X_train_with_bias, y_train)\n",
    "# print(coeffs_with_bias)\n",
    "for name, weigth in zip(feature_columns + [\"bias\"], coeffs_with_bias):\n",
    "    print(name, weigth[0])\n"
   ]
  },
  {
   "cell_type": "code",
   "execution_count": 20,
   "metadata": {
    "ExecuteTime": {
     "end_time": "2021-05-02T15:53:45.817859Z",
     "start_time": "2021-05-02T15:53:45.744082Z"
    }
   },
   "outputs": [
    {
     "name": "stdout",
     "output_type": "stream",
     "text": [
      "Model: \"sequential\"\n",
      "_________________________________________________________________\n",
      "Layer (type)                 Output Shape              Param #   \n",
      "=================================================================\n",
      "dense (Dense)                (None, 1)                 5         \n",
      "=================================================================\n",
      "Total params: 5\n",
      "Trainable params: 5\n",
      "Non-trainable params: 0\n",
      "_________________________________________________________________\n"
     ]
    },
    {
     "ename": "NameError",
     "evalue": "name 'coeffs_with_bias' is not defined",
     "output_type": "error",
     "traceback": [
      "\u001b[0;31m---------------------------------------------------------------------------\u001b[0m",
      "\u001b[0;31mNameError\u001b[0m                                 Traceback (most recent call last)",
      "\u001b[0;32m<ipython-input-20-41e2466ac211>\u001b[0m in \u001b[0;36m<module>\u001b[0;34m\u001b[0m\n\u001b[1;32m     12\u001b[0m \u001b[0;34m\u001b[0m\u001b[0m\n\u001b[1;32m     13\u001b[0m \u001b[0;31m# set weights\u001b[0m\u001b[0;34m\u001b[0m\u001b[0;34m\u001b[0m\u001b[0;34m\u001b[0m\u001b[0m\n\u001b[0;32m---> 14\u001b[0;31m \u001b[0mclosed_form_model\u001b[0m\u001b[0;34m.\u001b[0m\u001b[0mset_weights\u001b[0m\u001b[0;34m(\u001b[0m\u001b[0;34m[\u001b[0m\u001b[0mcoeffs_with_bias\u001b[0m\u001b[0;34m[\u001b[0m\u001b[0;34m:\u001b[0m\u001b[0;34m-\u001b[0m\u001b[0;36m1\u001b[0m\u001b[0;34m]\u001b[0m\u001b[0;34m,\u001b[0m \u001b[0mcoeffs_with_bias\u001b[0m\u001b[0;34m[\u001b[0m\u001b[0;34m-\u001b[0m\u001b[0;36m1\u001b[0m\u001b[0;34m]\u001b[0m\u001b[0;34m]\u001b[0m\u001b[0;34m)\u001b[0m\u001b[0;34m\u001b[0m\u001b[0;34m\u001b[0m\u001b[0m\n\u001b[0m\u001b[1;32m     15\u001b[0m \u001b[0;34m\u001b[0m\u001b[0m\n\u001b[1;32m     16\u001b[0m \u001b[0;31m# evaluate and save model\u001b[0m\u001b[0;34m\u001b[0m\u001b[0;34m\u001b[0m\u001b[0;34m\u001b[0m\u001b[0m\n",
      "\u001b[0;31mNameError\u001b[0m: name 'coeffs_with_bias' is not defined"
     ]
    }
   ],
   "source": [
    "# create model from ols weights\n",
    "BATCH_SIZE = 256\n",
    "loss = \"mae\"\n",
    "optimizer = \"sgd\"\n",
    "\n",
    "closed_form_model = Sequential()\n",
    "closed_form_model.add(Dense(1, input_dim=X_train.shape[-1]))\n",
    "closed_form_model.compile(loss=loss,\n",
    "                         optimizer=optimizer,\n",
    "                         metrics=[casted_accuracy, loss])\n",
    "closed_form_model.summary()\n",
    "\n",
    "# set weights\n",
    "closed_form_model.set_weights([coeffs_with_bias[:-1], coeffs_with_bias[-1]])\n",
    "\n",
    "# evaluate and save model\n",
    "results = closed_form_model.evaluate(X_test, y_test, batch_size=BATCH_SIZE)\n",
    "print(\"test loss, test acc:\", results)\n",
    "model_name = f\"./models/closed_form_model_{int(results[-1] * 100)}\"\n",
    "print(model_name)\n",
    "closed_form_model.save(\n",
    "    model_name\n",
    ")\n",
    "\n",
    "\n",
    "# plot confusion matrix\n",
    "plot_cm_matrix(closed_form_model, X_test, y_test, output_kind=\"digitize\")"
   ]
  },
  {
   "cell_type": "code",
   "execution_count": null,
   "metadata": {},
   "outputs": [],
   "source": []
  },
  {
   "cell_type": "code",
   "execution_count": null,
   "metadata": {},
   "outputs": [],
   "source": []
  }
 ],
 "metadata": {
  "kernelspec": {
   "display_name": "Python 3",
   "language": "python",
   "name": "python3"
  },
  "language_info": {
   "codemirror_mode": {
    "name": "ipython",
    "version": 3
   },
   "file_extension": ".py",
   "mimetype": "text/x-python",
   "name": "python",
   "nbconvert_exporter": "python",
   "pygments_lexer": "ipython3",
   "version": "3.6.9"
  },
  "varInspector": {
   "cols": {
    "lenName": 16,
    "lenType": 16,
    "lenVar": 40
   },
   "kernels_config": {
    "python": {
     "delete_cmd_postfix": "",
     "delete_cmd_prefix": "del ",
     "library": "var_list.py",
     "varRefreshCmd": "print(var_dic_list())"
    },
    "r": {
     "delete_cmd_postfix": ") ",
     "delete_cmd_prefix": "rm(",
     "library": "var_list.r",
     "varRefreshCmd": "cat(var_dic_list()) "
    }
   },
   "position": {
    "height": "605px",
    "left": "1550px",
    "right": "20px",
    "top": "120px",
    "width": "350px"
   },
   "types_to_exclude": [
    "module",
    "function",
    "builtin_function_or_method",
    "instance",
    "_Feature"
   ],
   "window_display": true
  }
 },
 "nbformat": 4,
 "nbformat_minor": 1
}
