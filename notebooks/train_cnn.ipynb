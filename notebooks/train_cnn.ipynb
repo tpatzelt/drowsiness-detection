{
 "cells": [
  {
   "cell_type": "code",
   "execution_count": 1,
   "outputs": [],
   "source": [
    "from drowsiness_detection.data import load_raw_60_sec_data\n",
    "import numpy as np\n",
    "from drowsiness_detection import config\n",
    "from joblib import dump\n",
    "import time\n",
    "from drowsiness_detection.models import build_cnn_model"
   ],
   "metadata": {
    "collapsed": false,
    "pycharm": {
     "name": "#%%\n"
    }
   }
  },
  {
   "cell_type": "code",
   "execution_count": 2,
   "outputs": [],
   "source": [
    "data = load_raw_60_sec_data()\n",
    "\n",
    "data.X_train = np.concatenate([data.X_train, data.X_val])\n",
    "data.y_train = np.concatenate([data.y_train, data.y_val])\n"
   ],
   "metadata": {
    "collapsed": false,
    "pycharm": {
     "name": "#%%\n"
    }
   }
  },
  {
   "cell_type": "code",
   "execution_count": 3,
   "outputs": [
    {
     "name": "stdout",
     "output_type": "stream",
     "text": [
      "Model: \"model\"\n",
      "_________________________________________________________________\n",
      " Layer (type)                Output Shape              Param #   \n",
      "=================================================================\n",
      " input_1 (InputLayer)        [(None, 1800, 7)]         0         \n",
      "                                                                 \n",
      " conv1d (Conv1D)             (None, 600, 44)           1584      \n",
      "                                                                 \n",
      " batch_normalization (BatchN  (None, 600, 44)          176       \n",
      " ormalization)                                                   \n",
      "                                                                 \n",
      " re_lu (ReLU)                (None, 600, 44)           0         \n",
      "                                                                 \n",
      " conv1d_1 (Conv1D)           (None, 200, 44)           9724      \n",
      "                                                                 \n",
      " batch_normalization_1 (Batc  (None, 200, 44)          176       \n",
      " hNormalization)                                                 \n",
      "                                                                 \n",
      " re_lu_1 (ReLU)              (None, 200, 44)           0         \n",
      "                                                                 \n",
      " global_max_pooling1d (Globa  (None, 44)               0         \n",
      " lMaxPooling1D)                                                  \n",
      "                                                                 \n",
      " dense (Dense)               (None, 32)                1440      \n",
      "                                                                 \n",
      " dropout (Dropout)           (None, 32)                0         \n",
      "                                                                 \n",
      " dense_1 (Dense)             (None, 1)                 33        \n",
      "                                                                 \n",
      "=================================================================\n",
      "Total params: 13,133\n",
      "Trainable params: 12,957\n",
      "Non-trainable params: 176\n",
      "_________________________________________________________________\n",
      "None\n"
     ]
    }
   ],
   "source": [
    "model_name = \"cnn\"\n",
    "\n",
    "best_params = {\n",
    "    \"input_shape\": (20, 1800, 7),\n",
    "    \"dropout_rate\": 0.725,\n",
    "    \"kernel_size\": 5,\n",
    "    \"learning_rate\": 0.009,\n",
    "    \"num_conv_layers\": 2,\n",
    "    \"num_filters\": 44,\n",
    "    \"pooling\": \"max\",\n",
    "    \"stride\": 3\n",
    "  }\n",
    "model = build_cnn_model(**best_params)"
   ],
   "metadata": {
    "collapsed": false,
    "pycharm": {
     "name": "#%%\n"
    }
   }
  },
  {
   "cell_type": "code",
   "execution_count": 4,
   "outputs": [
    {
     "name": "stdout",
     "output_type": "stream",
     "text": [
      "Epoch 1/150\n",
      "1283/1283 [==============================] - 25s 19ms/step - loss: 0.6718 - accuracy: 0.5733 - val_loss: 0.6795 - val_accuracy: 0.6328\n",
      "Epoch 2/150\n",
      "1283/1283 [==============================] - 23s 18ms/step - loss: 0.6585 - accuracy: 0.5447 - val_loss: 0.6986 - val_accuracy: 0.4185\n",
      "Epoch 3/150\n",
      "1283/1283 [==============================] - 20s 16ms/step - loss: 0.6531 - accuracy: 0.5267 - val_loss: 0.6993 - val_accuracy: 0.4195\n",
      "Epoch 4/150\n",
      "1283/1283 [==============================] - 19s 15ms/step - loss: 0.6406 - accuracy: 0.5755 - val_loss: 0.6643 - val_accuracy: 0.6239\n",
      "Epoch 5/150\n",
      "1283/1283 [==============================] - 19s 15ms/step - loss: 0.6293 - accuracy: 0.6026 - val_loss: 0.6628 - val_accuracy: 0.6336\n",
      "Epoch 6/150\n",
      "1283/1283 [==============================] - 19s 15ms/step - loss: 0.6169 - accuracy: 0.6169 - val_loss: 0.9343 - val_accuracy: 0.6817\n",
      "Epoch 7/150\n",
      "1283/1283 [==============================] - 19s 15ms/step - loss: 0.6010 - accuracy: 0.6327 - val_loss: 0.7213 - val_accuracy: 0.4375\n",
      "Epoch 8/150\n",
      "1283/1283 [==============================] - 19s 15ms/step - loss: 0.5823 - accuracy: 0.6515 - val_loss: 0.7639 - val_accuracy: 0.6898\n",
      "Epoch 9/150\n",
      "1283/1283 [==============================] - 19s 15ms/step - loss: 0.5734 - accuracy: 0.6657 - val_loss: 0.6861 - val_accuracy: 0.5903\n",
      "Epoch 10/150\n",
      "1283/1283 [==============================] - 19s 15ms/step - loss: 0.5634 - accuracy: 0.6745 - val_loss: 0.7238 - val_accuracy: 0.4981\n",
      "Epoch 11/150\n",
      "1283/1283 [==============================] - 17s 13ms/step - loss: 0.5523 - accuracy: 0.6850 - val_loss: 0.7640 - val_accuracy: 0.6148\n",
      "Epoch 12/150\n",
      "1283/1283 [==============================] - 17s 13ms/step - loss: 0.5448 - accuracy: 0.6943 - val_loss: 0.7502 - val_accuracy: 0.6561\n",
      "Epoch 13/150\n",
      "1283/1283 [==============================] - 17s 13ms/step - loss: 0.5412 - accuracy: 0.6995 - val_loss: 0.8123 - val_accuracy: 0.4010\n",
      "Epoch 14/150\n",
      "1283/1283 [==============================] - 17s 13ms/step - loss: 0.5319 - accuracy: 0.7037 - val_loss: 0.7664 - val_accuracy: 0.4639\n",
      "Epoch 15/150\n",
      "1283/1283 [==============================] - 17s 13ms/step - loss: 0.5326 - accuracy: 0.7010 - val_loss: 0.7157 - val_accuracy: 0.6184\n",
      "Epoch 16/150\n",
      "1283/1283 [==============================] - 17s 13ms/step - loss: 0.5215 - accuracy: 0.7117 - val_loss: 0.9056 - val_accuracy: 0.4012\n",
      "Epoch 17/150\n",
      "1283/1283 [==============================] - 17s 13ms/step - loss: 0.5163 - accuracy: 0.7182 - val_loss: 0.7379 - val_accuracy: 0.4873\n",
      "Epoch 18/150\n",
      "1283/1283 [==============================] - 17s 13ms/step - loss: 0.5122 - accuracy: 0.7199 - val_loss: 0.8289 - val_accuracy: 0.6191\n",
      "Epoch 19/150\n",
      "1283/1283 [==============================] - 17s 13ms/step - loss: 0.5096 - accuracy: 0.7200 - val_loss: 0.9223 - val_accuracy: 0.6752\n",
      "Epoch 20/150\n",
      "1283/1283 [==============================] - 17s 13ms/step - loss: 0.5103 - accuracy: 0.7207 - val_loss: 0.9106 - val_accuracy: 0.4009\n",
      "Epoch 21/150\n",
      "1283/1283 [==============================] - 17s 13ms/step - loss: 0.5038 - accuracy: 0.7257 - val_loss: 0.7774 - val_accuracy: 0.6054\n",
      "Epoch 22/150\n",
      "1283/1283 [==============================] - 17s 13ms/step - loss: 0.5024 - accuracy: 0.7224 - val_loss: 1.1082 - val_accuracy: 0.6837\n",
      "Epoch 23/150\n",
      "1283/1283 [==============================] - 17s 13ms/step - loss: 0.4965 - accuracy: 0.7275 - val_loss: 0.7793 - val_accuracy: 0.6351\n",
      "Epoch 24/150\n",
      "1283/1283 [==============================] - 17s 13ms/step - loss: 0.4941 - accuracy: 0.7315 - val_loss: 0.8198 - val_accuracy: 0.4625\n",
      "Epoch 25/150\n",
      "1283/1283 [==============================] - 17s 13ms/step - loss: 0.4889 - accuracy: 0.7366 - val_loss: 0.9317 - val_accuracy: 0.6441\n",
      "Epoch 26/150\n",
      "1283/1283 [==============================] - 17s 13ms/step - loss: 0.4826 - accuracy: 0.7348 - val_loss: 0.8056 - val_accuracy: 0.4850\n",
      "Epoch 27/150\n",
      "1283/1283 [==============================] - 17s 13ms/step - loss: 0.4859 - accuracy: 0.7379 - val_loss: 0.8228 - val_accuracy: 0.4879\n",
      "Epoch 28/150\n",
      "1283/1283 [==============================] - 17s 13ms/step - loss: 0.4799 - accuracy: 0.7446 - val_loss: 0.8194 - val_accuracy: 0.5718\n",
      "Epoch 29/150\n",
      "1283/1283 [==============================] - 18s 14ms/step - loss: 0.4798 - accuracy: 0.7376 - val_loss: 0.9071 - val_accuracy: 0.4265\n",
      "Epoch 30/150\n",
      "1283/1283 [==============================] - 19s 15ms/step - loss: 0.4803 - accuracy: 0.7438 - val_loss: 0.7796 - val_accuracy: 0.5591\n",
      "Epoch 31/150\n",
      "1283/1283 [==============================] - 19s 15ms/step - loss: 0.4744 - accuracy: 0.7441 - val_loss: 0.8640 - val_accuracy: 0.4596\n",
      "Epoch 32/150\n",
      "1283/1283 [==============================] - 19s 15ms/step - loss: 0.4759 - accuracy: 0.7419 - val_loss: 0.8602 - val_accuracy: 0.4694\n",
      "Epoch 33/150\n",
      "1283/1283 [==============================] - 19s 15ms/step - loss: 0.4700 - accuracy: 0.7485 - val_loss: 1.6737 - val_accuracy: 0.6499\n",
      "Epoch 34/150\n",
      "1283/1283 [==============================] - 19s 15ms/step - loss: 0.4654 - accuracy: 0.7512 - val_loss: 0.8832 - val_accuracy: 0.5324\n",
      "Epoch 35/150\n",
      "1283/1283 [==============================] - 19s 15ms/step - loss: 0.4681 - accuracy: 0.7493 - val_loss: 0.9953 - val_accuracy: 0.6384\n",
      "Epoch 36/150\n",
      "1283/1283 [==============================] - 19s 15ms/step - loss: 0.4631 - accuracy: 0.7524 - val_loss: 0.9794 - val_accuracy: 0.5966\n",
      "Epoch 37/150\n",
      "1283/1283 [==============================] - 19s 15ms/step - loss: 0.4649 - accuracy: 0.7531 - val_loss: 1.1694 - val_accuracy: 0.5985\n",
      "Epoch 38/150\n",
      "1283/1283 [==============================] - 19s 15ms/step - loss: 0.4627 - accuracy: 0.7552 - val_loss: 1.8142 - val_accuracy: 0.6547\n",
      "Epoch 39/150\n",
      "1283/1283 [==============================] - 19s 15ms/step - loss: 0.4575 - accuracy: 0.7536 - val_loss: 0.8185 - val_accuracy: 0.4765\n",
      "Epoch 40/150\n",
      "1283/1283 [==============================] - 19s 15ms/step - loss: 0.4563 - accuracy: 0.7571 - val_loss: 1.0196 - val_accuracy: 0.5497\n",
      "Epoch 41/150\n",
      "1283/1283 [==============================] - 19s 15ms/step - loss: 0.4601 - accuracy: 0.7554 - val_loss: 0.8126 - val_accuracy: 0.5494\n",
      "Epoch 42/150\n",
      "1283/1283 [==============================] - 19s 15ms/step - loss: 0.4571 - accuracy: 0.7567 - val_loss: 1.4025 - val_accuracy: 0.6327\n",
      "Epoch 43/150\n",
      "1283/1283 [==============================] - 19s 15ms/step - loss: 0.4495 - accuracy: 0.7643 - val_loss: 0.9158 - val_accuracy: 0.4448\n",
      "Epoch 44/150\n",
      "1283/1283 [==============================] - 20s 15ms/step - loss: 0.4479 - accuracy: 0.7599 - val_loss: 0.8459 - val_accuracy: 0.5061\n",
      "Epoch 45/150\n",
      "1283/1283 [==============================] - 19s 15ms/step - loss: 0.4451 - accuracy: 0.7640 - val_loss: 0.8570 - val_accuracy: 0.5021\n",
      "Epoch 46/150\n",
      "1283/1283 [==============================] - 20s 15ms/step - loss: 0.4496 - accuracy: 0.7631 - val_loss: 0.8825 - val_accuracy: 0.4562\n",
      "Epoch 47/150\n",
      "1283/1283 [==============================] - 19s 15ms/step - loss: 0.4437 - accuracy: 0.7687 - val_loss: 0.8731 - val_accuracy: 0.5335\n",
      "Epoch 48/150\n",
      "1283/1283 [==============================] - 19s 15ms/step - loss: 0.4384 - accuracy: 0.7688 - val_loss: 0.8407 - val_accuracy: 0.5574\n",
      "Epoch 49/150\n",
      "1283/1283 [==============================] - 19s 15ms/step - loss: 0.4370 - accuracy: 0.7708 - val_loss: 0.9947 - val_accuracy: 0.5763\n",
      "Epoch 50/150\n",
      "1283/1283 [==============================] - 19s 15ms/step - loss: 0.4368 - accuracy: 0.7708 - val_loss: 1.2738 - val_accuracy: 0.6530\n",
      "Epoch 51/150\n",
      "1283/1283 [==============================] - 19s 15ms/step - loss: 0.4347 - accuracy: 0.7764 - val_loss: 0.9024 - val_accuracy: 0.5563\n",
      "Epoch 52/150\n",
      "1283/1283 [==============================] - 19s 15ms/step - loss: 0.4326 - accuracy: 0.7749 - val_loss: 1.1113 - val_accuracy: 0.4097\n",
      "Epoch 53/150\n",
      "1283/1283 [==============================] - 19s 15ms/step - loss: 0.4373 - accuracy: 0.7723 - val_loss: 1.0835 - val_accuracy: 0.4115\n",
      "Epoch 54/150\n",
      "1283/1283 [==============================] - 19s 15ms/step - loss: 0.4309 - accuracy: 0.7767 - val_loss: 0.9250 - val_accuracy: 0.4591\n",
      "Epoch 55/150\n",
      "1283/1283 [==============================] - 19s 15ms/step - loss: 0.4338 - accuracy: 0.7752 - val_loss: 0.9540 - val_accuracy: 0.5466\n",
      "Epoch 56/150\n",
      "1283/1283 [==============================] - 19s 15ms/step - loss: 0.4288 - accuracy: 0.7787 - val_loss: 1.0053 - val_accuracy: 0.5199\n",
      "Epoch 57/150\n",
      "1283/1283 [==============================] - 19s 15ms/step - loss: 0.4321 - accuracy: 0.7760 - val_loss: 1.0665 - val_accuracy: 0.6404\n",
      "Epoch 58/150\n",
      "1283/1283 [==============================] - 19s 15ms/step - loss: 0.4236 - accuracy: 0.7822 - val_loss: 0.9728 - val_accuracy: 0.5049\n",
      "Epoch 59/150\n",
      "1283/1283 [==============================] - 19s 15ms/step - loss: 0.4280 - accuracy: 0.7756 - val_loss: 0.9596 - val_accuracy: 0.4690\n",
      "Epoch 60/150\n",
      "1283/1283 [==============================] - 19s 15ms/step - loss: 0.4230 - accuracy: 0.7761 - val_loss: 1.0010 - val_accuracy: 0.5501\n",
      "Epoch 61/150\n",
      "1283/1283 [==============================] - 19s 15ms/step - loss: 0.4326 - accuracy: 0.7751 - val_loss: 0.9434 - val_accuracy: 0.5769\n",
      "Epoch 62/150\n",
      "1283/1283 [==============================] - 19s 15ms/step - loss: 0.4226 - accuracy: 0.7794 - val_loss: 0.9850 - val_accuracy: 0.5760\n",
      "Epoch 63/150\n",
      "1283/1283 [==============================] - 19s 15ms/step - loss: 0.4221 - accuracy: 0.7797 - val_loss: 1.3940 - val_accuracy: 0.6134\n",
      "Epoch 64/150\n",
      "1283/1283 [==============================] - 19s 15ms/step - loss: 0.4278 - accuracy: 0.7749 - val_loss: 0.9568 - val_accuracy: 0.5401\n",
      "Epoch 65/150\n",
      "1283/1283 [==============================] - 19s 15ms/step - loss: 0.4213 - accuracy: 0.7842 - val_loss: 1.1127 - val_accuracy: 0.5734\n",
      "Epoch 66/150\n",
      "1283/1283 [==============================] - 19s 15ms/step - loss: 0.4205 - accuracy: 0.7821 - val_loss: 1.1330 - val_accuracy: 0.4221\n",
      "Epoch 67/150\n",
      "1283/1283 [==============================] - 19s 15ms/step - loss: 0.4215 - accuracy: 0.7829 - val_loss: 0.9773 - val_accuracy: 0.4864\n",
      "Epoch 68/150\n",
      "1283/1283 [==============================] - 19s 15ms/step - loss: 0.4180 - accuracy: 0.7836 - val_loss: 0.9831 - val_accuracy: 0.5383\n",
      "Epoch 69/150\n",
      "1283/1283 [==============================] - 19s 15ms/step - loss: 0.4207 - accuracy: 0.7840 - val_loss: 1.1528 - val_accuracy: 0.5983\n",
      "Epoch 70/150\n",
      "1283/1283 [==============================] - 19s 15ms/step - loss: 0.4209 - accuracy: 0.7804 - val_loss: 1.0304 - val_accuracy: 0.5401\n",
      "Epoch 71/150\n",
      "1283/1283 [==============================] - 19s 15ms/step - loss: 0.4162 - accuracy: 0.7858 - val_loss: 0.9535 - val_accuracy: 0.5434\n",
      "Epoch 72/150\n",
      "1283/1283 [==============================] - 19s 15ms/step - loss: 0.4136 - accuracy: 0.7882 - val_loss: 0.9566 - val_accuracy: 0.5669\n",
      "Epoch 73/150\n",
      "1283/1283 [==============================] - 19s 15ms/step - loss: 0.4159 - accuracy: 0.7894 - val_loss: 0.9552 - val_accuracy: 0.4776\n",
      "Epoch 74/150\n",
      "1283/1283 [==============================] - 19s 15ms/step - loss: 0.4088 - accuracy: 0.7907 - val_loss: 0.9562 - val_accuracy: 0.4810\n",
      "Epoch 75/150\n",
      "1283/1283 [==============================] - 20s 15ms/step - loss: 0.4174 - accuracy: 0.7843 - val_loss: 0.9838 - val_accuracy: 0.5933\n",
      "Epoch 76/150\n",
      "1283/1283 [==============================] - 20s 15ms/step - loss: 0.4108 - accuracy: 0.7875 - val_loss: 1.2301 - val_accuracy: 0.5651\n",
      "Epoch 77/150\n",
      "1283/1283 [==============================] - 19s 15ms/step - loss: 0.4177 - accuracy: 0.7831 - val_loss: 0.9798 - val_accuracy: 0.5320\n",
      "Epoch 78/150\n",
      "1283/1283 [==============================] - 19s 15ms/step - loss: 0.4121 - accuracy: 0.7873 - val_loss: 0.8593 - val_accuracy: 0.4985\n",
      "Epoch 79/150\n",
      "1283/1283 [==============================] - 19s 15ms/step - loss: 0.4098 - accuracy: 0.7920 - val_loss: 1.1819 - val_accuracy: 0.5800\n",
      "Epoch 80/150\n",
      "1283/1283 [==============================] - 19s 15ms/step - loss: 0.4134 - accuracy: 0.7880 - val_loss: 0.9828 - val_accuracy: 0.4830\n",
      "Epoch 81/150\n",
      "1283/1283 [==============================] - 19s 15ms/step - loss: 0.4114 - accuracy: 0.7900 - val_loss: 1.1516 - val_accuracy: 0.4389\n",
      "Epoch 82/150\n",
      "1283/1283 [==============================] - 19s 15ms/step - loss: 0.4086 - accuracy: 0.7912 - val_loss: 1.0109 - val_accuracy: 0.4905\n",
      "Epoch 83/150\n",
      "1283/1283 [==============================] - 19s 15ms/step - loss: 0.4032 - accuracy: 0.7932 - val_loss: 1.0647 - val_accuracy: 0.5093\n",
      "Epoch 84/150\n",
      "1283/1283 [==============================] - 19s 15ms/step - loss: 0.4041 - accuracy: 0.7941 - val_loss: 1.0116 - val_accuracy: 0.4694\n",
      "Epoch 85/150\n",
      "1283/1283 [==============================] - 19s 15ms/step - loss: 0.4058 - accuracy: 0.7958 - val_loss: 0.9831 - val_accuracy: 0.4811\n",
      "Epoch 86/150\n",
      "1283/1283 [==============================] - 19s 15ms/step - loss: 0.4044 - accuracy: 0.7926 - val_loss: 0.9383 - val_accuracy: 0.4905\n",
      "Epoch 87/150\n",
      "1283/1283 [==============================] - 19s 15ms/step - loss: 0.4061 - accuracy: 0.7927 - val_loss: 1.2891 - val_accuracy: 0.6043\n",
      "Epoch 88/150\n",
      "1283/1283 [==============================] - 19s 15ms/step - loss: 0.4055 - accuracy: 0.7905 - val_loss: 1.0616 - val_accuracy: 0.4516\n",
      "Epoch 89/150\n",
      "1283/1283 [==============================] - 19s 15ms/step - loss: 0.4011 - accuracy: 0.7940 - val_loss: 1.0716 - val_accuracy: 0.5227\n",
      "Epoch 90/150\n",
      "1283/1283 [==============================] - 19s 15ms/step - loss: 0.4006 - accuracy: 0.7939 - val_loss: 1.0546 - val_accuracy: 0.5401\n",
      "Epoch 91/150\n",
      "1283/1283 [==============================] - 19s 15ms/step - loss: 0.3965 - accuracy: 0.7975 - val_loss: 1.0452 - val_accuracy: 0.5223\n",
      "Epoch 92/150\n",
      "1283/1283 [==============================] - 19s 15ms/step - loss: 0.4048 - accuracy: 0.7947 - val_loss: 1.0190 - val_accuracy: 0.5244\n",
      "Epoch 93/150\n",
      "1283/1283 [==============================] - 19s 15ms/step - loss: 0.4009 - accuracy: 0.7946 - val_loss: 1.4732 - val_accuracy: 0.6164\n",
      "Epoch 94/150\n",
      "1283/1283 [==============================] - 19s 15ms/step - loss: 0.4011 - accuracy: 0.7976 - val_loss: 1.0417 - val_accuracy: 0.5421\n",
      "Epoch 95/150\n",
      "1283/1283 [==============================] - 19s 15ms/step - loss: 0.3955 - accuracy: 0.7972 - val_loss: 1.5672 - val_accuracy: 0.6350\n",
      "Epoch 96/150\n",
      "1283/1283 [==============================] - 20s 15ms/step - loss: 0.3970 - accuracy: 0.7952 - val_loss: 1.1747 - val_accuracy: 0.5514\n",
      "Epoch 97/150\n",
      "1283/1283 [==============================] - 20s 16ms/step - loss: 0.4036 - accuracy: 0.7962 - val_loss: 1.0338 - val_accuracy: 0.5038\n",
      "Epoch 98/150\n",
      "1283/1283 [==============================] - 19s 15ms/step - loss: 0.3970 - accuracy: 0.7987 - val_loss: 1.0716 - val_accuracy: 0.5503\n",
      "Epoch 99/150\n",
      "1283/1283 [==============================] - 21s 16ms/step - loss: 0.3934 - accuracy: 0.7989 - val_loss: 1.2409 - val_accuracy: 0.5591\n",
      "Epoch 100/150\n",
      "1283/1283 [==============================] - 20s 16ms/step - loss: 0.4021 - accuracy: 0.7936 - val_loss: 1.0624 - val_accuracy: 0.5293\n",
      "Epoch 101/150\n",
      "1283/1283 [==============================] - 20s 16ms/step - loss: 0.3966 - accuracy: 0.7962 - val_loss: 1.2600 - val_accuracy: 0.5609\n",
      "Epoch 102/150\n",
      "1283/1283 [==============================] - 21s 16ms/step - loss: 0.3930 - accuracy: 0.7997 - val_loss: 0.9666 - val_accuracy: 0.5557\n",
      "Epoch 103/150\n",
      "1283/1283 [==============================] - 21s 16ms/step - loss: 0.3915 - accuracy: 0.8036 - val_loss: 1.1929 - val_accuracy: 0.5494\n",
      "Epoch 104/150\n",
      "1283/1283 [==============================] - 20s 16ms/step - loss: 0.3962 - accuracy: 0.7977 - val_loss: 1.4057 - val_accuracy: 0.6294\n",
      "Epoch 105/150\n",
      "1283/1283 [==============================] - 20s 16ms/step - loss: 0.3903 - accuracy: 0.8051 - val_loss: 1.1188 - val_accuracy: 0.5070\n",
      "Epoch 106/150\n",
      "1283/1283 [==============================] - 20s 16ms/step - loss: 0.3862 - accuracy: 0.8047 - val_loss: 1.8048 - val_accuracy: 0.6364\n",
      "Epoch 107/150\n",
      "1283/1283 [==============================] - 20s 16ms/step - loss: 0.3930 - accuracy: 0.8011 - val_loss: 0.9695 - val_accuracy: 0.5372\n",
      "Epoch 108/150\n",
      "1283/1283 [==============================] - 20s 16ms/step - loss: 0.3871 - accuracy: 0.8033 - val_loss: 1.1128 - val_accuracy: 0.5480\n",
      "Epoch 109/150\n",
      "1283/1283 [==============================] - 20s 16ms/step - loss: 0.3956 - accuracy: 0.7991 - val_loss: 1.4574 - val_accuracy: 0.4262\n",
      "Epoch 110/150\n",
      "1283/1283 [==============================] - 21s 16ms/step - loss: 0.3908 - accuracy: 0.8044 - val_loss: 1.1205 - val_accuracy: 0.5417\n",
      "Epoch 111/150\n",
      "1283/1283 [==============================] - 20s 16ms/step - loss: 0.4005 - accuracy: 0.7909 - val_loss: 1.1750 - val_accuracy: 0.5831\n",
      "Epoch 112/150\n",
      "1283/1283 [==============================] - 20s 16ms/step - loss: 0.3867 - accuracy: 0.8076 - val_loss: 1.2086 - val_accuracy: 0.5994\n",
      "Epoch 113/150\n",
      "1283/1283 [==============================] - 20s 16ms/step - loss: 0.3807 - accuracy: 0.8090 - val_loss: 1.2350 - val_accuracy: 0.5905\n",
      "Epoch 114/150\n",
      "1283/1283 [==============================] - 20s 16ms/step - loss: 0.3793 - accuracy: 0.8091 - val_loss: 1.1530 - val_accuracy: 0.5406\n",
      "Epoch 115/150\n",
      "1283/1283 [==============================] - 21s 16ms/step - loss: 0.3858 - accuracy: 0.8079 - val_loss: 1.2636 - val_accuracy: 0.5472\n",
      "Epoch 116/150\n",
      "1283/1283 [==============================] - 21s 16ms/step - loss: 0.3864 - accuracy: 0.8083 - val_loss: 1.6206 - val_accuracy: 0.6208\n",
      "Epoch 117/150\n",
      "1283/1283 [==============================] - 20s 16ms/step - loss: 0.3843 - accuracy: 0.8072 - val_loss: 1.0535 - val_accuracy: 0.4685\n",
      "Epoch 118/150\n",
      "1283/1283 [==============================] - 20s 16ms/step - loss: 0.3840 - accuracy: 0.8082 - val_loss: 1.1217 - val_accuracy: 0.5296\n",
      "Epoch 119/150\n",
      "1283/1283 [==============================] - 21s 16ms/step - loss: 0.3832 - accuracy: 0.8091 - val_loss: 1.1534 - val_accuracy: 0.5387\n",
      "Epoch 120/150\n",
      "1283/1283 [==============================] - 21s 16ms/step - loss: 0.3820 - accuracy: 0.8075 - val_loss: 1.5770 - val_accuracy: 0.6314\n",
      "Epoch 121/150\n",
      "1283/1283 [==============================] - 21s 16ms/step - loss: 0.3842 - accuracy: 0.8088 - val_loss: 1.1912 - val_accuracy: 0.5574\n",
      "Epoch 122/150\n",
      "1283/1283 [==============================] - 20s 16ms/step - loss: 0.3894 - accuracy: 0.8043 - val_loss: 1.0646 - val_accuracy: 0.4593\n",
      "Epoch 123/150\n",
      "1283/1283 [==============================] - 22s 17ms/step - loss: 0.3820 - accuracy: 0.8065 - val_loss: 1.0535 - val_accuracy: 0.4788\n",
      "Epoch 124/150\n",
      "1283/1283 [==============================] - 22s 17ms/step - loss: 0.3832 - accuracy: 0.8084 - val_loss: 1.0141 - val_accuracy: 0.5212\n",
      "Epoch 125/150\n",
      "1283/1283 [==============================] - 21s 16ms/step - loss: 0.3751 - accuracy: 0.8134 - val_loss: 1.0658 - val_accuracy: 0.5347\n",
      "Epoch 126/150\n",
      "1283/1283 [==============================] - 21s 16ms/step - loss: 0.3820 - accuracy: 0.8083 - val_loss: 1.4523 - val_accuracy: 0.5686\n",
      "Epoch 127/150\n",
      "1283/1283 [==============================] - 21s 17ms/step - loss: 0.3792 - accuracy: 0.8086 - val_loss: 1.2426 - val_accuracy: 0.5443\n",
      "Epoch 128/150\n",
      "1283/1283 [==============================] - 21s 17ms/step - loss: 0.3837 - accuracy: 0.8085 - val_loss: 1.1323 - val_accuracy: 0.5851\n",
      "Epoch 129/150\n",
      "1283/1283 [==============================] - 22s 17ms/step - loss: 0.3754 - accuracy: 0.8111 - val_loss: 1.5105 - val_accuracy: 0.5957\n",
      "Epoch 130/150\n",
      "1283/1283 [==============================] - 22s 17ms/step - loss: 0.3764 - accuracy: 0.8123 - val_loss: 1.3846 - val_accuracy: 0.6054\n",
      "Epoch 131/150\n",
      "1283/1283 [==============================] - 22s 17ms/step - loss: 0.3729 - accuracy: 0.8159 - val_loss: 1.4165 - val_accuracy: 0.5777\n",
      "Epoch 132/150\n",
      "1283/1283 [==============================] - 22s 17ms/step - loss: 0.3822 - accuracy: 0.8107 - val_loss: 1.5273 - val_accuracy: 0.6139\n",
      "Epoch 133/150\n",
      "1283/1283 [==============================] - 22s 17ms/step - loss: 0.3768 - accuracy: 0.8131 - val_loss: 1.2315 - val_accuracy: 0.4680\n",
      "Epoch 134/150\n",
      "1283/1283 [==============================] - 22s 17ms/step - loss: 0.3732 - accuracy: 0.8159 - val_loss: 1.6870 - val_accuracy: 0.6045\n",
      "Epoch 135/150\n",
      "1283/1283 [==============================] - 22s 17ms/step - loss: 0.3705 - accuracy: 0.8164 - val_loss: 1.3118 - val_accuracy: 0.5623\n",
      "Epoch 136/150\n",
      "1283/1283 [==============================] - 22s 17ms/step - loss: 0.3774 - accuracy: 0.8134 - val_loss: 1.1802 - val_accuracy: 0.5323\n",
      "Epoch 137/150\n",
      "1283/1283 [==============================] - 22s 17ms/step - loss: 0.3769 - accuracy: 0.8153 - val_loss: 1.3259 - val_accuracy: 0.5779\n",
      "Epoch 138/150\n",
      "1283/1283 [==============================] - 22s 17ms/step - loss: 0.3770 - accuracy: 0.8121 - val_loss: 1.0452 - val_accuracy: 0.5186\n",
      "Epoch 139/150\n",
      "1283/1283 [==============================] - 22s 17ms/step - loss: 0.3759 - accuracy: 0.8138 - val_loss: 1.2041 - val_accuracy: 0.5421\n",
      "Epoch 140/150\n",
      "1283/1283 [==============================] - 22s 17ms/step - loss: 0.3725 - accuracy: 0.8136 - val_loss: 1.2585 - val_accuracy: 0.5574\n",
      "Epoch 141/150\n",
      "1283/1283 [==============================] - 22s 17ms/step - loss: 0.3728 - accuracy: 0.8135 - val_loss: 1.3157 - val_accuracy: 0.5096\n",
      "Epoch 142/150\n",
      "1283/1283 [==============================] - 22s 17ms/step - loss: 0.3785 - accuracy: 0.8123 - val_loss: 1.3887 - val_accuracy: 0.5204\n",
      "Epoch 143/150\n",
      "1283/1283 [==============================] - 22s 17ms/step - loss: 0.3712 - accuracy: 0.8157 - val_loss: 1.4686 - val_accuracy: 0.5786\n",
      "Epoch 144/150\n",
      "1283/1283 [==============================] - 22s 17ms/step - loss: 0.3677 - accuracy: 0.8169 - val_loss: 1.2586 - val_accuracy: 0.5578\n",
      "Epoch 145/150\n",
      "1283/1283 [==============================] - 25s 20ms/step - loss: 0.3727 - accuracy: 0.8132 - val_loss: 1.2203 - val_accuracy: 0.5447\n",
      "Epoch 146/150\n",
      "1283/1283 [==============================] - 25s 20ms/step - loss: 0.3735 - accuracy: 0.8135 - val_loss: 1.4128 - val_accuracy: 0.5603\n",
      "Epoch 147/150\n",
      "1283/1283 [==============================] - 25s 20ms/step - loss: 0.3687 - accuracy: 0.8183 - val_loss: 1.1843 - val_accuracy: 0.5432\n",
      "Epoch 148/150\n",
      "1283/1283 [==============================] - 25s 20ms/step - loss: 0.3699 - accuracy: 0.8169 - val_loss: 1.3792 - val_accuracy: 0.5577\n",
      "Epoch 149/150\n",
      "1283/1283 [==============================] - 26s 20ms/step - loss: 0.3650 - accuracy: 0.8217 - val_loss: 1.3680 - val_accuracy: 0.5483\n",
      "Epoch 150/150\n",
      "1283/1283 [==============================] - 25s 20ms/step - loss: 0.3663 - accuracy: 0.8191 - val_loss: 1.0850 - val_accuracy: 0.4748\n"
     ]
    }
   ],
   "source": [
    "history = model.fit(x=data.X_train, y=data.y_train, validation_data=(data.X_test, data.y_test) , verbose=1, class_weight={0: 0.84, 1: 1.14},\n",
    "                    epochs=150, batch_size=20)\n"
   ],
   "metadata": {
    "collapsed": false,
    "pycharm": {
     "name": "#%%\n"
    }
   }
  },
  {
   "cell_type": "code",
   "execution_count": 5,
   "outputs": [],
   "source": [
    "time_string = time.strftime('%Y%m%d-%H%M%S')\n",
    "model.save(str(config.MODEL_DIR_PATH.joinpath(f\"{model_name}_{time_string}.h5\")))\n"
   ],
   "metadata": {
    "collapsed": false,
    "pycharm": {
     "name": "#%%\n"
    }
   }
  },
  {
   "cell_type": "code",
   "execution_count": 6,
   "outputs": [
    {
     "name": "stdout",
     "output_type": "stream",
     "text": [
      "INFO:tensorflow:Assets written to: ram://323a35cf-2293-4290-8b14-8560887b14d7/assets\n"
     ]
    },
    {
     "data": {
      "text/plain": "['/home/tim/IM/data/models/60sec/histories/cnn_20220728-212244.joblib']"
     },
     "execution_count": 6,
     "metadata": {},
     "output_type": "execute_result"
    }
   ],
   "source": [
    "dump(history, str(config.MODEL_DIR_PATH.joinpath(f\"histories/{model_name}_{time_string}.joblib\")))"
   ],
   "metadata": {
    "collapsed": false,
    "pycharm": {
     "name": "#%%\n"
    }
   }
  },
  {
   "cell_type": "code",
   "execution_count": 7,
   "outputs": [],
   "source": [
    "y_pred_test = model.predict(data.X_test)\n",
    "y_pred_train = model.predict(data.X_train)"
   ],
   "metadata": {
    "collapsed": false,
    "pycharm": {
     "name": "#%%\n"
    }
   }
  },
  {
   "cell_type": "code",
   "execution_count": 8,
   "outputs": [
    {
     "name": "stdout",
     "output_type": "stream",
     "text": [
      "0.43691542947280426\n"
     ]
    }
   ],
   "source": [
    "print(np.mean((y_pred_test > .5) == data.y_test))\n"
   ],
   "metadata": {
    "collapsed": false,
    "pycharm": {
     "name": "#%%\n"
    }
   }
  },
  {
   "cell_type": "code",
   "execution_count": 9,
   "outputs": [],
   "source": [
    "np.save(str(config.PREDICTION_DIR_PATH.joinpath(f\"{model_name}_y_pred_test_{time.strftime('%Y%m%d-%H%M%S')}.npy\")), y_pred_test)\n",
    "np.save(str(config.PREDICTION_DIR_PATH.joinpath(f\"{model_name}_y_pred_train_{time.strftime('%Y%m%d-%H%M%S')}.npy\")), y_pred_train)\n"
   ],
   "metadata": {
    "collapsed": false,
    "pycharm": {
     "name": "#%%\n"
    }
   }
  },
  {
   "cell_type": "code",
   "execution_count": 10,
   "outputs": [],
   "source": [
    "exit()\n"
   ],
   "metadata": {
    "collapsed": false,
    "pycharm": {
     "name": "#%%\n"
    }
   }
  },
  {
   "cell_type": "code",
   "execution_count": null,
   "outputs": [],
   "source": [],
   "metadata": {
    "collapsed": false,
    "pycharm": {
     "name": "#%%\n"
    }
   }
  }
 ],
 "metadata": {
  "kernelspec": {
   "display_name": "Python 3",
   "language": "python",
   "name": "python3"
  },
  "language_info": {
   "codemirror_mode": {
    "name": "ipython",
    "version": 2
   },
   "file_extension": ".py",
   "mimetype": "text/x-python",
   "name": "python",
   "nbconvert_exporter": "python",
   "pygments_lexer": "ipython2",
   "version": "2.7.6"
  }
 },
 "nbformat": 4,
 "nbformat_minor": 0
}