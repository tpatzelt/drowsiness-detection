{
 "cells": [
  {
   "cell_type": "code",
   "execution_count": 5,
   "metadata": {
    "collapsed": true,
    "pycharm": {
     "name": "#%%\n"
    }
   },
   "outputs": [],
   "source": [
    "import numpy as np\n",
    "from random import choice\n",
    "from drowsiness_detection import config\n",
    "from drowsiness_detection.data import get_train_test_splits, feature_array_to_df, FEATURE_NAMES\n",
    "from drowsiness_detection.helpers import binarize\n",
    "from sklearn.linear_model import LogisticRegression\n",
    "from sklearn.impute import SimpleImputer\n",
    "from prettytable import PrettyTable"
   ]
  },
  {
   "cell_type": "code",
   "execution_count": 20,
   "outputs": [],
   "source": [
    "def accuracy_vanilla_logistic_regression(X_train, y_train, X_test, y_test):\n",
    "    log_reg = LogisticRegression(max_iter=1000)\n",
    "    log_reg.fit(X_train, y_train)\n",
    "    y_pred = log_reg.predict(X_test)\n",
    "    return np.mean(y_pred == y_test)"
   ],
   "metadata": {
    "collapsed": false,
    "pycharm": {
     "name": "#%%\n"
    }
   }
  },
  {
   "cell_type": "code",
   "execution_count": 21,
   "outputs": [
    {
     "name": "stdout",
     "output_type": "stream",
     "text": [
      "(32834, 68) (16102, 68)\n"
     ]
    }
   ],
   "source": [
    "# load train and test data\n",
    "train, test = get_train_test_splits()\n",
    "print(train.shape, test.shape)\n",
    "X_train, y_train = train[:, :-1], train[:, -1]\n",
    "X_test, y_test = test[:, :-1], test[:, -1]\n",
    "\n",
    "# binarize y to represent not drowsy vs drowsy\n",
    "threshold = 7\n",
    "y_train, y_test = binarize(y_train, threshold), binarize(y_test, threshold)"
   ],
   "metadata": {
    "collapsed": false,
    "pycharm": {
     "name": "#%%\n"
    }
   }
  },
  {
   "cell_type": "code",
   "execution_count": 22,
   "outputs": [
    {
     "name": "stdout",
     "output_type": "stream",
     "text": [
      "+--------------------------------------------+---------+\n",
      "|                  Field 1                   | Field 2 |\n",
      "+--------------------------------------------+---------+\n",
      "|                     LC                     |    0    |\n",
      "|                 _mean_IED                  |   8179  |\n",
      "|                  _std_IED                  |   8179  |\n",
      "|                _median_IED                 |   8179  |\n",
      "|                 _skew_IED                  |   8179  |\n",
      "|               _kurtosis_IED                |   8179  |\n",
      "|                    TEC                     |    0    |\n",
      "|                 _mean_BTD                  |   8115  |\n",
      "|                  _std_BTD                  |   8115  |\n",
      "|                _median_BTD                 |   8115  |\n",
      "|                 _skew_BTD                  |   8115  |\n",
      "|               _kurtosis_BTD                |   8115  |\n",
      "|                 _mean_-AVR                 |   8342  |\n",
      "|                 _std_-AVR                  |   8342  |\n",
      "|                _median_-AVR                |   8342  |\n",
      "|                 _skew_-AVR                 |   8342  |\n",
      "|               _kurtosis_-AVR               |   8342  |\n",
      "|                 _mean_+AVR                 |   8128  |\n",
      "|                 _std_+AVR                  |   8128  |\n",
      "|                _median_+AVR                |   8128  |\n",
      "|                 _skew_+AVR                 |   8128  |\n",
      "|               _kurtosis_+AVR               |   8128  |\n",
      "|            _mean_blink_duration            |   8115  |\n",
      "|            _std_blink_duration             |   8115  |\n",
      "|           _median_blink_duration           |   8115  |\n",
      "|            _skew_blink_duration            |   8115  |\n",
      "|          _kurtosis_blink_duration          |   8115  |\n",
      "|       _mean_standard_blink_duration        |   8126  |\n",
      "|        _std_standard_blink_duration        |   8126  |\n",
      "|      _median_standard_blink_duration       |   8126  |\n",
      "|       _skew_standard_blink_duration        |   8126  |\n",
      "|     _kurtosis_standard_blink_duration      |   8126  |\n",
      "|           _mean_blink_intervals            |  14562  |\n",
      "|            _std_blink_intervals            |  14562  |\n",
      "|          _median_blink_intervals           |  14562  |\n",
      "|           _skew_blink_intervals            |  14562  |\n",
      "|         _kurtosis_blink_intervals          |  14562  |\n",
      "|           _mean_delay_reopening            |   8115  |\n",
      "|            _std_delay_reopening            |   8115  |\n",
      "|          _median_delay_reopening           |   8115  |\n",
      "|           _skew_delay_reopening            |   8115  |\n",
      "|         _kurtosis_delay_reopening          |   8115  |\n",
      "|   _mean_standard_lid_reopening_durations   |   8126  |\n",
      "|   _std_standard_lid_reopening_durations    |   8126  |\n",
      "|  _median_standard_lid_reopening_durations  |   8126  |\n",
      "|   _skew_standard_lid_reopening_durations   |   8126  |\n",
      "| _kurtosis_standard_lid_reopening_durations |   8126  |\n",
      "|      _mean_standard_closure_speed_max      |   8185  |\n",
      "|      _std_standard_closure_speed_max       |   8185  |\n",
      "|     _median_standard_closure_speed_max     |   8185  |\n",
      "|      _skew_standard_closure_speed_max      |   8185  |\n",
      "|    _kurtosis_standard_closure_speed_max    |   8185  |\n",
      "|          _mean_closure_speed_max           |   8185  |\n",
      "|           _std_closure_speed_max           |   8185  |\n",
      "|         _median_closure_speed_max          |   8185  |\n",
      "|          _skew_closure_speed_max           |   8185  |\n",
      "|        _kurtosis_closure_speed_max         |   8185  |\n",
      "|     _mean_standard_closure_speed_mean      |   8185  |\n",
      "|      _std_standard_closure_speed_mean      |   8185  |\n",
      "|    _median_standard_closure_speed_mean     |   8185  |\n",
      "|     _skew_standard_closure_speed_mean      |   8185  |\n",
      "|   _kurtosis_standard_closure_speed_mean    |   8185  |\n",
      "|          _mean_closure_speed_mean          |   8185  |\n",
      "|          _std_closure_speed_mean           |   8185  |\n",
      "|         _median_closure_speed_mean         |   8185  |\n",
      "|          _skew_closure_speed_mean          |   8185  |\n",
      "|        _kurtosis_closure_speed_mean        |   8185  |\n",
      "+--------------------------------------------+---------+\n"
     ]
    }
   ],
   "source": [
    "table = PrettyTable()\n",
    "table.add_rows(zip(FEATURE_NAMES,np.isnan(X_train).sum(axis=0)))\n",
    "print(table)"
   ],
   "metadata": {
    "collapsed": false,
    "pycharm": {
     "name": "#%%\n"
    }
   }
  },
  {
   "cell_type": "code",
   "execution_count": 23,
   "outputs": [
    {
     "name": "stderr",
     "output_type": "stream",
     "text": [
      "/home/tim/IM/venv/lib/python3.9/site-packages/sklearn/linear_model/_logistic.py:763: ConvergenceWarning: lbfgs failed to converge (status=1):\n",
      "STOP: TOTAL NO. of ITERATIONS REACHED LIMIT.\n",
      "\n",
      "Increase the number of iterations (max_iter) or scale the data as shown in:\n",
      "    https://scikit-learn.org/stable/modules/preprocessing.html\n",
      "Please also refer to the documentation for alternative solver options:\n",
      "    https://scikit-learn.org/stable/modules/linear_model.html#logistic-regression\n",
      "  n_iter_i = _check_optimize_result(\n"
     ]
    },
    {
     "data": {
      "text/plain": "0.6766240218606384"
     },
     "execution_count": 23,
     "metadata": {},
     "output_type": "execute_result"
    }
   ],
   "source": [
    "# imputing -1\n",
    "X_train_minus1 = np.nan_to_num(X_train, nan=-1)\n",
    "X_test_minus1 = np.nan_to_num(X_test, nan=-1)\n",
    "accuracy_vanilla_logistic_regression(X_train_minus1, y_train, X_test_minus1, y_test)"
   ],
   "metadata": {
    "collapsed": false,
    "pycharm": {
     "name": "#%%\n"
    }
   }
  },
  {
   "cell_type": "code",
   "execution_count": 24,
   "outputs": [
    {
     "data": {
      "text/plain": "0.6833312631971183"
     },
     "execution_count": 24,
     "metadata": {},
     "output_type": "execute_result"
    }
   ],
   "source": [
    "# imputing mean\n",
    "imp_mean = SimpleImputer(missing_values=np.nan, strategy='mean')\n",
    "imp_mean.fit(X_train)\n",
    "X_train_mean = imp_mean.transform(X_train)\n",
    "X_test_mean = imp_mean.transform(X_test)\n",
    "accuracy_vanilla_logistic_regression(X_train_mean, y_train, X_test_mean, y_test)"
   ],
   "metadata": {
    "collapsed": false,
    "pycharm": {
     "name": "#%%\n"
    }
   }
  },
  {
   "cell_type": "code",
   "execution_count": null,
   "outputs": [],
   "source": [],
   "metadata": {
    "collapsed": false,
    "pycharm": {
     "name": "#%%\n"
    }
   }
  }
 ],
 "metadata": {
  "kernelspec": {
   "display_name": "Python 3",
   "language": "python",
   "name": "python3"
  },
  "language_info": {
   "codemirror_mode": {
    "name": "ipython",
    "version": 2
   },
   "file_extension": ".py",
   "mimetype": "text/x-python",
   "name": "python",
   "nbconvert_exporter": "python",
   "pygments_lexer": "ipython2",
   "version": "2.7.6"
  }
 },
 "nbformat": 4,
 "nbformat_minor": 0
}