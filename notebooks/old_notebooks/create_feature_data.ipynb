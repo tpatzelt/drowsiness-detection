{
 "cells": [
  {
   "cell_type": "code",
   "execution_count": 1,
   "metadata": {},
   "outputs": [],
   "source": [
    "import json\n",
    "from pathlib import Path\n",
    "import pandas as pd\n",
    "from functools import reduce\n",
    "from itertools import repeat\n",
    "import numpy as np\n",
    "%config Completer.use_jedi = False\n",
    "from tqdm import tqdm"
   ]
  },
  {
   "cell_type": "code",
   "execution_count": 2,
   "metadata": {},
   "outputs": [
    {
     "name": "stdout",
     "output_type": "stream",
     "text": [
      "sleep_alc_labels/001_1_a_karolinska.csv\n",
      "sleep_alc_labels/001_2_s_karolinska.csv\n",
      "sleep_alc_labels/001_3_b_karolinska.csv\n",
      "sleep_alc_labels/002_1_b_karolinska.csv\n",
      "sleep_alc_labels/002_2_a_karolinska.csv\n",
      "sleep_alc_labels/002_3_s_karolinska.csv\n",
      "sleep_alc_labels/003_1_b_karolinska.csv\n",
      "sleep_alc_labels/003_2_s_karolinska.csv\n",
      "sleep_alc_labels/003_3_a_karolinska.csv\n",
      "sleep_alc_labels/004_1_s_karolinska.csv\n",
      "sleep_alc_labels/004_2_a_karolinska.csv\n",
      "sleep_alc_labels/004_3_b_karolinska.csv\n",
      "sleep_alc_labels/005_1_s_karolinska.csv\n",
      "sleep_alc_labels/005_2_b_karolinska.csv\n",
      "sleep_alc_labels/005_3_a_karolinska.csv\n",
      "sleep_alc_labels/008_1_b_karolinska.csv\n",
      "sleep_alc_labels/008_2_a_karolinska.csv\n",
      "sleep_alc_labels/008_3_s_karolinska.csv\n",
      "sleep_alc_labels/009_1_b_karolinska.csv\n",
      "sleep_alc_labels/011_1_s_karolinska.csv\n",
      "sleep_alc_labels/011_2_b_karolinska.csv\n",
      "sleep_alc_labels/011_3_a_karolinska.csv\n",
      "sleep_alc_labels/014_1_b_karolinska.csv\n"
     ]
    }
   ],
   "source": [
    "session_identifier = \"karolinska\"\n",
    "files = [str(p) for p in Path(\"sleep_alc_labels/\").iterdir()]\n",
    "    \n",
    "session_files = sorted([file for file in files if session_identifier in file])\n",
    "print(\"\\n\".join(session_files))"
   ]
  },
  {
   "cell_type": "code",
   "execution_count": 3,
   "metadata": {},
   "outputs": [
    {
     "name": "stdout",
     "output_type": "stream",
     "text": [
      "{'eye_closure': {'combined': 0.26446233811198994, 'left_image': 0.24725983222991488, 'right_image': 0.281664843994065}, 'eye_state': {'combined': 0, 'left_image': 0, 'right_image': 0}, 'index': 0}\n"
     ]
    }
   ],
   "source": [
    "feature_files = sorted([str(p) for p in Path(\"potsdam_aeye_112020/\").iterdir()])\n",
    "with open(feature_files[0]) as fp:\n",
    "    data = json.loads(fp.read())\n",
    "print(data[0])"
   ]
  },
  {
   "cell_type": "code",
   "execution_count": 4,
   "metadata": {},
   "outputs": [],
   "source": [
    "def print_nan_intersections(df: pd.DataFrame):\n",
    "    nan_indices = dict()\n",
    "    for column in df.columns:\n",
    "        nan_indices[column] = set(df.loc[df[column].isna()].index)\n",
    "    \n",
    "    for column in df.columns:\n",
    "        nan_indices_copy = nan_indices.copy()\n",
    "        col_indices = set(nan_indices_copy.pop(column))\n",
    "        other_indices = reduce(lambda x,y: set(x) | set(y), nan_indices_copy.values())\n",
    "        unique_nans = col_indices - other_indices\n",
    "        print(f\"Column {column} has {len(unique_nans)} nans that appear in no other column.\")\n",
    "    "
   ]
  },
  {
   "cell_type": "code",
   "execution_count": 178,
   "metadata": {},
   "outputs": [],
   "source": [
    "def add_karolinska_file_to_feature_df(filepath: str, feature_df: pd.DataFrame):\n",
    "    df = pd.read_csv(filepath)\n",
    "    \n",
    "    # add nearest neighbor response to frames\n",
    "    begin = 0\n",
    "    responses = []\n",
    "    for index, row in df.iterrows():\n",
    "        frame_end = row[\"frame_end\"]\n",
    "        response = row[\"response_karolinska\"]\n",
    "        if index < len(df) - 1:\n",
    "            next_frame_begin = df.iloc[index + 1][\"frame_begin\"]\n",
    "            end = int((frame_end + next_frame_begin) / 2)\n",
    "            \n",
    "        else:\n",
    "            end = max(feature_df.index) + 1\n",
    "        some_responses = list(zip(range(begin, end), repeat(response)))\n",
    "        responses.extend(some_responses)\n",
    "        begin = end\n",
    "    response_index, responses = zip(*responses)\n",
    "    \n",
    "    target_df = pd.DataFrame(responses, columns=[\"karolinska_response_nearest_interpolation\"], index=response_index)\n",
    "    feature_df = feature_df.join(target_df)\n",
    "    \n",
    "    # add linear interpolation\n",
    "    begin = 0\n",
    "    responses = []\n",
    "    for index, row in df.iterrows():\n",
    "        frame_end = row[\"frame_end\"]\n",
    "        if index < len(df) - 1:\n",
    "            next_frame_begin = df.iloc[index + 1][\"frame_begin\"]\n",
    "            end = int((frame_end + next_frame_begin) / 2)\n",
    "            \n",
    "        else:\n",
    "            end = max(feature_df.index) + 1\n",
    "        if index == df.index[0]:\n",
    "            first_response = row[\"response_karolinska\"]\n",
    "            second_response = row[\"response_karolinska\"]\n",
    "        elif index == df.index[-1]:\n",
    "            first_response = row[\"response_karolinska\"]\n",
    "            second_response = row[\"response_karolinska\"]\n",
    "        else:\n",
    "            first_response = row[\"response_karolinska\"]\n",
    "            second_response = df.iloc[index][\"response_karolinska\"]\n",
    "        \n",
    "        \n",
    "        some_responses = np.linspace(first_response, second_response, end-begin, dtype=int).tolist()\n",
    "        some_responses = list(zip(range(begin, end), some_responses))\n",
    "        responses.extend(some_responses)\n",
    "        begin = end\n",
    "    response_index, responses = zip(*responses)\n",
    "    target_df = pd.DataFrame(responses, columns=[\"karolinska_response_linear_interpolation\"], index=response_index)\n",
    "    feature_df = feature_df.join(target_df)\n",
    "    \n",
    "    return feature_df\n",
    "    \n",
    "    \n",
    "def add_perclos_features_to_df(feature_df: pd.DataFrame, interval_in_sec: int = 60, fps: int = 30, closed_threshold: float =  .8):\n",
    "    \n",
    "    # add perclos column\n",
    "    feature_df[\"perclos_closed_combined\"] = feature_df[\"combined_eye_closure\"] >= closed_threshold\n",
    "    \n",
    "    # add perclos interval\n",
    "    num_interval_frames = interval_in_sec * fps\n",
    "    perclos = feature_df[\"perclos_closed_combined\"].to_numpy()\n",
    "    \n",
    "    conv_filter = np.ones((num_interval_frames))\n",
    "    res = np.convolve(perclos, conv_filter, \"valid\") # divide\n",
    "    res = np.concatenate(([np.NaN] * (len(conv_filter) - 1), res))\n",
    "    assert perclos.shape == res.shape\n",
    "\n",
    "    feature_df[\"perclos_combined_60s_interval\"] = res\n",
    "    return feature_df\n",
    "\n",
    "def add_blink_features(feature_df: pd.DataFrame, interval_in_sec: int = 60, fps: int = 30):\n",
    "    num_interval_frames = interval_in_sec * fps \n",
    "    perclos = feature_df[\"perclos_closed_combined\"].to_numpy()\n",
    "    all_blink_properties = np.empty(perclos.shape + (4,))\n",
    "    all_blink_properties[:] = np.NaN\n",
    "    \n",
    "#     print(\"calculating blink properties\")\n",
    "#     print(\"perclos shape: \", perclos.shape)\n",
    "#     print(\"empty blink shape\", all_blink_properties.shape)\n",
    "    \n",
    "    \n",
    "    for index in tqdm(list(range(len(perclos)))[num_interval_frames:]):\n",
    "        condition = perclos[index-num_interval_frames:index]\n",
    "        if not np.any(condition):\n",
    "            blink_durations = np.array([0,0,0,0])\n",
    "        else:\n",
    "            blink_durations = np.diff(np.where(np.concatenate(([condition[0]],\n",
    "                                     condition[:-1] != condition[1:],\n",
    "                                     [True])))[0])[::2]\n",
    "        all_blink_properties[index, :] = (blink_durations.max(), blink_durations.min(), blink_durations.mean(), len(blink_durations))\n",
    "\n",
    "    \n",
    "    feature_df[\"max_blink_duration_60s_interval\"] = all_blink_properties[:,0]\n",
    "    feature_df[\"min_blink_duration_60s_interval\"] = all_blink_properties[:,1]    \n",
    "    feature_df[\"mean_blink_duration_60s_interval\"] = all_blink_properties[:,2]    \n",
    "    feature_df[\"blink_counts_60s_interval\"] = all_blink_properties[:,3]    \n",
    "    \n",
    "    return feature_df\n",
    "    \n",
    "\n",
    "def session_file_to_df(filepath: str, filepath_response: str) -> pd.DataFrame:\n",
    "    print(f\"Extracting file {filepath} and response file: {filepath_response}.\")\n",
    "    with open(filepath) as fp:\n",
    "        data = json.loads(fp.read())\n",
    "    \n",
    "    # join data\n",
    "    df_eye_closure = pd.DataFrame([item[\"eye_closure\"] for item in data])\n",
    "    df_eye_closure[df_eye_closure < 0] = 0 # some values are negative and need to be set to zero\n",
    "    df_eye_state = pd.DataFrame([item[\"eye_state\"] for item in data])\n",
    "    df_closure_and_state = df_eye_closure.join(df_eye_state, rsuffix=\"_eye_state\", lsuffix=\"_eye_closure\")\n",
    "    \n",
    "    #check nan intersection\n",
    "    #print()\n",
    "    #print_nan_intersections(df_closure_and_state)\n",
    "    #print()\n",
    "    \n",
    "    # add meta data\n",
    "    filename = Path(filepath).stem\n",
    "    subject_id, session_id, session_type = filename.split(\"_\")\n",
    "    df_closure_and_state[\"subject_id\"] = subject_id\n",
    "    df_closure_and_state[\"session_id\"] = session_id\n",
    "    df_closure_and_state[\"session_type\"] = session_type\n",
    "    \n",
    "    # drop rows with NaN\n",
    "#     num_with_nan = len(df_closure_and_state)\n",
    "#     df_closure_and_state.dropna(inplace=True)\n",
    "#     num_without_nan = len(df_closure_and_state)\n",
    "#     print(f\"Dropped {num_with_nan - num_without_nan} rows with nans.\\n\")\n",
    "    \n",
    "    # add perclos features\n",
    "    PERCLOS_THRESHOLD = .8\n",
    "    df_closure_and_state = add_perclos_features_to_df(df_closure_and_state, closed_threshold=PERCLOS_THRESHOLD)\n",
    "    df_closure_and_state = add_blink_features(df_closure_and_state)\n",
    "    \n",
    "    # add karolinksa response\n",
    "    df_closure_and_state = add_karolinska_file_to_feature_df(filepath=filepath_response, feature_df=df_closure_and_state)\n",
    "    \n",
    "    \n",
    "    # assign dtypes\n",
    "    df_closure_and_state[\"subject_id\"] = df_closure_and_state[\"subject_id\"].astype(\"float\").astype(\"Int8\", copy=False)\n",
    "    df_closure_and_state[\"session_id\"] = df_closure_and_state[\"session_id\"].astype(\"float\").astype(\"Int8\", copy=False)\n",
    "    df_closure_and_state[\"session_type\"] = df_closure_and_state[\"session_type\"].apply(lambda x: (ord(x)- 97)).astype(\"float\").astype(\"Int8\", copy=False)\n",
    "    df_closure_and_state[[\"combined_eye_state\", \"left*Ä_image_eye_state\", \"right_image_eye_state\"]] = df_closure_and_state[[\"combined_eye_state\", \"left_image_eye_state\", \"right_image_eye_state\"]].astype(\"float\").astype(\"Int8\", copy=False)\n",
    "    df_closure_and_state[\"karolinska_response_nearest_interpolation\"] = df_closure_and_state[\"karolinska_response_nearest_interpolation\"].astype(\"float\").astype(\"Int8\", copy=False)\n",
    "    df_closure_and_state[\"karolinska_response_linear_interpolation\"] = df_closure_and_state[\"karolinska_response_linear_interpolation\"].astype(\"float\").astype(\"Int8\", copy=False)\n",
    "    df_closure_and_state[\"perclos_combined_60s_interval\"] = df_closure_and_state[\"perclos_combined_60s_interval\"].astype(\"Int16\", copy=False)\n",
    "    df_closure_and_state['max_blink_duration_60s_interval'] = df_closure_and_state['max_blink_duration_60s_interval'].astype(\"Int16\", copy=False)\n",
    "    df_closure_and_state['min_blink_duration_60s_interval'] = df_closure_and_state['min_blink_duration_60s_interval'].astype(\"Int16\", copy=False)\n",
    "    df_closure_and_state['mean_blink_duration_60s_interval'] = df_closure_and_state['mean_blink_duration_60s_interval'].astype(\"Float16\", copy=False)\n",
    "    df_closure_and_state['blink_counts_60s_interval'] = df_closure_and_state['blink_counts_60s_interval'].astype(\"Int16\", copy=False)\n",
    "    \n",
    "    # create multi-index\n",
    "    multi_index = pd.MultiIndex.from_product([[filename], df_closure_and_state.index], names=[\"filename\", \"frame\"])    \n",
    "    df_closure_and_state.index = multi_index\n",
    "    \n",
    "    return df_closure_and_state"
   ]
  },
  {
   "cell_type": "code",
   "execution_count": 179,
   "metadata": {},
   "outputs": [],
   "source": [
    "\n",
    "#df = session_file_to_df(feature_files[0], session_files[0])"
   ]
  },
  {
   "cell_type": "code",
   "execution_count": 181,
   "metadata": {},
   "outputs": [
    {
     "name": "stdout",
     "output_type": "stream",
     "text": [
      "Extracting file potsdam_aeye_112020/001_1_a.json and response file: sleep_alc_labels/001_1_a_karolinska.csv.\n"
     ]
    },
    {
     "name": "stderr",
     "output_type": "stream",
     "text": [
      "100%|██████████| 167047/167047 [00:06<00:00, 26881.96it/s]\n"
     ]
    },
    {
     "name": "stdout",
     "output_type": "stream",
     "text": [
      "Extracting file potsdam_aeye_112020/001_2_s.json and response file: sleep_alc_labels/001_2_s_karolinska.csv.\n"
     ]
    },
    {
     "name": "stderr",
     "output_type": "stream",
     "text": [
      "100%|██████████| 135737/135737 [00:04<00:00, 28174.83it/s]\n"
     ]
    },
    {
     "name": "stdout",
     "output_type": "stream",
     "text": [
      "Extracting file potsdam_aeye_112020/001_3_b.json and response file: sleep_alc_labels/001_3_b_karolinska.csv.\n"
     ]
    },
    {
     "name": "stderr",
     "output_type": "stream",
     "text": [
      "100%|██████████| 148247/148247 [00:05<00:00, 28605.23it/s]\n"
     ]
    },
    {
     "name": "stdout",
     "output_type": "stream",
     "text": [
      "Extracting file potsdam_aeye_112020/002_1_b.json and response file: sleep_alc_labels/002_1_b_karolinska.csv.\n"
     ]
    },
    {
     "name": "stderr",
     "output_type": "stream",
     "text": [
      "100%|██████████| 173277/173277 [00:06<00:00, 27889.73it/s]\n"
     ]
    },
    {
     "name": "stdout",
     "output_type": "stream",
     "text": [
      "Extracting file potsdam_aeye_112020/002_2_a.json and response file: sleep_alc_labels/002_2_a_karolinska.csv.\n"
     ]
    },
    {
     "name": "stderr",
     "output_type": "stream",
     "text": [
      "100%|██████████| 210282/210282 [00:08<00:00, 26068.49it/s]\n"
     ]
    },
    {
     "name": "stdout",
     "output_type": "stream",
     "text": [
      "Extracting file potsdam_aeye_112020/002_3_s.json and response file: sleep_alc_labels/002_3_s_karolinska.csv.\n"
     ]
    },
    {
     "name": "stderr",
     "output_type": "stream",
     "text": [
      "100%|██████████| 154457/154457 [00:05<00:00, 28653.23it/s]\n"
     ]
    },
    {
     "name": "stdout",
     "output_type": "stream",
     "text": [
      "Extracting file potsdam_aeye_112020/003_1_b.json and response file: sleep_alc_labels/003_1_b_karolinska.csv.\n"
     ]
    },
    {
     "name": "stderr",
     "output_type": "stream",
     "text": [
      "100%|██████████| 163626/163626 [00:06<00:00, 24861.32it/s]\n"
     ]
    },
    {
     "name": "stdout",
     "output_type": "stream",
     "text": [
      "Extracting file potsdam_aeye_112020/003_2_s.json and response file: sleep_alc_labels/003_2_s_karolinska.csv.\n"
     ]
    },
    {
     "name": "stderr",
     "output_type": "stream",
     "text": [
      "100%|██████████| 167353/167353 [00:07<00:00, 23867.65it/s]\n"
     ]
    },
    {
     "name": "stdout",
     "output_type": "stream",
     "text": [
      "Extracting file potsdam_aeye_112020/003_3_a.json and response file: sleep_alc_labels/003_3_a_karolinska.csv.\n"
     ]
    },
    {
     "name": "stderr",
     "output_type": "stream",
     "text": [
      "100%|██████████| 183325/183325 [00:07<00:00, 24356.84it/s]\n"
     ]
    },
    {
     "name": "stdout",
     "output_type": "stream",
     "text": [
      "Extracting file potsdam_aeye_112020/004_1_s.json and response file: sleep_alc_labels/004_1_s_karolinska.csv.\n"
     ]
    },
    {
     "name": "stderr",
     "output_type": "stream",
     "text": [
      "100%|██████████| 167308/167308 [00:06<00:00, 24120.70it/s]\n"
     ]
    },
    {
     "name": "stdout",
     "output_type": "stream",
     "text": [
      "Extracting file potsdam_aeye_112020/004_2_a.json and response file: sleep_alc_labels/004_2_a_karolinska.csv.\n"
     ]
    },
    {
     "name": "stderr",
     "output_type": "stream",
     "text": [
      "100%|██████████| 168213/168213 [00:06<00:00, 25313.20it/s]\n"
     ]
    },
    {
     "name": "stdout",
     "output_type": "stream",
     "text": [
      "Extracting file potsdam_aeye_112020/004_3_b.json and response file: sleep_alc_labels/004_3_b_karolinska.csv.\n"
     ]
    },
    {
     "name": "stderr",
     "output_type": "stream",
     "text": [
      "100%|██████████| 147716/147716 [00:05<00:00, 25295.26it/s]\n"
     ]
    },
    {
     "name": "stdout",
     "output_type": "stream",
     "text": [
      "Extracting file potsdam_aeye_112020/005_1_s.json and response file: sleep_alc_labels/005_1_s_karolinska.csv.\n"
     ]
    },
    {
     "name": "stderr",
     "output_type": "stream",
     "text": [
      "100%|██████████| 158235/158235 [00:06<00:00, 25070.93it/s]\n"
     ]
    },
    {
     "name": "stdout",
     "output_type": "stream",
     "text": [
      "Extracting file potsdam_aeye_112020/005_2_b.json and response file: sleep_alc_labels/005_2_b_karolinska.csv.\n"
     ]
    },
    {
     "name": "stderr",
     "output_type": "stream",
     "text": [
      "100%|██████████| 145573/145573 [00:05<00:00, 24895.90it/s]\n"
     ]
    },
    {
     "name": "stdout",
     "output_type": "stream",
     "text": [
      "Extracting file potsdam_aeye_112020/005_3_a.json and response file: sleep_alc_labels/005_3_a_karolinska.csv.\n"
     ]
    },
    {
     "name": "stderr",
     "output_type": "stream",
     "text": [
      "100%|██████████| 188828/188828 [00:07<00:00, 26140.46it/s]\n"
     ]
    },
    {
     "name": "stdout",
     "output_type": "stream",
     "text": [
      "Extracting file potsdam_aeye_112020/008_1_b.json and response file: sleep_alc_labels/008_1_b_karolinska.csv.\n"
     ]
    },
    {
     "name": "stderr",
     "output_type": "stream",
     "text": [
      "100%|██████████| 166151/166151 [00:06<00:00, 24982.45it/s]\n"
     ]
    },
    {
     "name": "stdout",
     "output_type": "stream",
     "text": [
      "Extracting file potsdam_aeye_112020/008_2_a.json and response file: sleep_alc_labels/008_2_a_karolinska.csv.\n"
     ]
    },
    {
     "name": "stderr",
     "output_type": "stream",
     "text": [
      "100%|██████████| 179933/179933 [00:07<00:00, 25419.36it/s]\n"
     ]
    },
    {
     "name": "stdout",
     "output_type": "stream",
     "text": [
      "Extracting file potsdam_aeye_112020/008_3_s.json and response file: sleep_alc_labels/008_3_s_karolinska.csv.\n"
     ]
    },
    {
     "name": "stderr",
     "output_type": "stream",
     "text": [
      "100%|██████████| 156711/156711 [00:06<00:00, 25988.45it/s]\n"
     ]
    },
    {
     "name": "stdout",
     "output_type": "stream",
     "text": [
      "Extracting file potsdam_aeye_112020/009_1_b.json and response file: sleep_alc_labels/009_1_b_karolinska.csv.\n"
     ]
    },
    {
     "name": "stderr",
     "output_type": "stream",
     "text": [
      "100%|██████████| 159957/159957 [00:05<00:00, 27960.76it/s]\n"
     ]
    },
    {
     "name": "stdout",
     "output_type": "stream",
     "text": [
      "Extracting file potsdam_aeye_112020/011_1_s.json and response file: sleep_alc_labels/011_1_s_karolinska.csv.\n"
     ]
    },
    {
     "name": "stderr",
     "output_type": "stream",
     "text": [
      "100%|██████████| 148083/148083 [00:05<00:00, 26203.94it/s]\n"
     ]
    },
    {
     "name": "stdout",
     "output_type": "stream",
     "text": [
      "Extracting file potsdam_aeye_112020/011_2_b.json and response file: sleep_alc_labels/011_2_b_karolinska.csv.\n"
     ]
    },
    {
     "name": "stderr",
     "output_type": "stream",
     "text": [
      "100%|██████████| 143578/143578 [00:05<00:00, 25961.13it/s]\n"
     ]
    },
    {
     "name": "stdout",
     "output_type": "stream",
     "text": [
      "Extracting file potsdam_aeye_112020/011_3_a.json and response file: sleep_alc_labels/011_3_a_karolinska.csv.\n"
     ]
    },
    {
     "name": "stderr",
     "output_type": "stream",
     "text": [
      "100%|██████████| 160519/160519 [00:06<00:00, 25932.07it/s]\n"
     ]
    },
    {
     "name": "stdout",
     "output_type": "stream",
     "text": [
      "Extracting file potsdam_aeye_112020/014_1_b.json and response file: sleep_alc_labels/014_1_b_karolinska.csv.\n"
     ]
    },
    {
     "name": "stderr",
     "output_type": "stream",
     "text": [
      "100%|██████████| 145555/145555 [00:06<00:00, 24058.46it/s]\n"
     ]
    }
   ],
   "source": [
    "feature_df = pd.concat(list(map(session_file_to_df,feature_files, session_files)))"
   ]
  },
  {
   "cell_type": "code",
   "execution_count": 182,
   "metadata": {
    "scrolled": true
   },
   "outputs": [
    {
     "name": "stdout",
     "output_type": "stream",
     "text": [
      "<class 'pandas.core.frame.DataFrame'>\n",
      "MultiIndex: 3781111 entries, ('001_1_a', 0) to ('014_1_b', 147354)\n",
      "Data columns (total 17 columns):\n",
      " #   Column                                     Dtype  \n",
      "---  ------                                     -----  \n",
      " 0   combined_eye_closure                       float64\n",
      " 1   left_image_eye_closure                     float64\n",
      " 2   right_image_eye_closure                    float64\n",
      " 3   combined_eye_state                         Int8   \n",
      " 4   left_image_eye_state                       Int8   \n",
      " 5   right_image_eye_state                      Int8   \n",
      " 6   subject_id                                 Int8   \n",
      " 7   session_id                                 Int8   \n",
      " 8   session_type                               Int8   \n",
      " 9   perclos_closed_combined                    bool   \n",
      " 10  perclos_combined_60s_interval              Int16  \n",
      " 11  max_blink_duration_60s_interval            Int16  \n",
      " 12  min_blink_duration_60s_interval            Int16  \n",
      " 13  mean_blink_duration_60s_interval           float16\n",
      " 14  blink_counts_60s_interval                  Int16  \n",
      " 15  karolinska_response_nearest_interpolation  Int8   \n",
      " 16  karolinska_response_linear_interpolation   Int8   \n",
      "dtypes: Int16(4), Int8(8), bool(1), float16(1), float64(3)\n",
      "memory usage: 228.0 MB\n"
     ]
    }
   ],
   "source": [
    "feature_df.info(memory_usage=\"deep\")"
   ]
  },
  {
   "cell_type": "code",
   "execution_count": 183,
   "metadata": {},
   "outputs": [],
   "source": [
    "feature_df.to_pickle(\"./all_session.pkl\")"
   ]
  },
  {
   "cell_type": "code",
   "execution_count": null,
   "metadata": {},
   "outputs": [],
   "source": []
  }
 ],
 "metadata": {
  "kernelspec": {
   "display_name": "Python 3",
   "language": "python",
   "name": "python3"
  },
  "language_info": {
   "codemirror_mode": {
    "name": "ipython",
    "version": 3
   },
   "file_extension": ".py",
   "mimetype": "text/x-python",
   "name": "python",
   "nbconvert_exporter": "python",
   "pygments_lexer": "ipython3",
   "version": "3.6.9"
  }
 },
 "nbformat": 4,
 "nbformat_minor": 4
}