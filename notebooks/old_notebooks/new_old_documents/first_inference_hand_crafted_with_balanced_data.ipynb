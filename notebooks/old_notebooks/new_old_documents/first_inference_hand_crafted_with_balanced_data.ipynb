{
 "cells": [
  {
   "cell_type": "code",
   "execution_count": 1,
   "metadata": {
    "ExecuteTime": {
     "end_time": "2021-04-23T13:28:36.123141Z",
     "start_time": "2021-04-23T13:28:33.703605Z"
    }
   },
   "outputs": [],
   "source": [
    "from tensorflow.keras import backend as K\n",
    "import pandas as pd\n",
    "import numpy as np\n",
    "import matplotlib.pyplot as plt\n",
    "from keras_balanced_batch_generator import make_generator\n",
    "\n",
    "pd.set_option(\"display.precision\", 2)\n",
    "from pathlib import Path\n",
    "from tqdm import tqdm\n",
    "import tensorflow as tf\n",
    "import tensorflow.keras as keras\n",
    "from sklearn.model_selection import train_test_split\n",
    "from tensorflow.keras.layers import Dense, Input\n",
    "from tensorflow.keras.models import Sequential\n",
    "from tensorflow.keras.utils import to_categorical\n",
    "import random\n",
    "import math\n",
    "from numpy.linalg import inv\n",
    "\n",
    "from imblearn.over_sampling import RandomOverSampler\n",
    "from helpers import ordinal_to_label, digitize, plot_confusion_matrix, plot_model_history, label_to_one_hot_like, one_hot_like_to_label, plot_cm_matrix"
   ]
  },
  {
   "cell_type": "code",
   "execution_count": 2,
   "metadata": {
    "ExecuteTime": {
     "end_time": "2021-04-23T13:28:36.127175Z",
     "start_time": "2021-04-23T13:28:36.124665Z"
    }
   },
   "outputs": [],
   "source": [
    "np.set_printoptions(precision=2)\n",
    "plt.rcParams[\"figure.figsize\"] = (10, 10)"
   ]
  },
  {
   "cell_type": "markdown",
   "metadata": {},
   "source": [
    "### load data"
   ]
  },
  {
   "cell_type": "code",
   "execution_count": 3,
   "metadata": {
    "ExecuteTime": {
     "end_time": "2021-04-23T13:28:36.489212Z",
     "start_time": "2021-04-23T13:28:36.130658Z"
    }
   },
   "outputs": [
    {
     "data": {
      "text/html": [
       "<div>\n",
       "<style scoped>\n",
       "    .dataframe tbody tr th:only-of-type {\n",
       "        vertical-align: middle;\n",
       "    }\n",
       "\n",
       "    .dataframe tbody tr th {\n",
       "        vertical-align: top;\n",
       "    }\n",
       "\n",
       "    .dataframe thead th {\n",
       "        text-align: right;\n",
       "    }\n",
       "</style>\n",
       "<table border=\"1\" class=\"dataframe\">\n",
       "  <thead>\n",
       "    <tr style=\"text-align: right;\">\n",
       "      <th></th>\n",
       "      <th></th>\n",
       "      <th>combined_eye_closure</th>\n",
       "      <th>left_image_eye_closure</th>\n",
       "      <th>right_image_eye_closure</th>\n",
       "      <th>combined_eye_state</th>\n",
       "      <th>left_image_eye_state</th>\n",
       "      <th>right_image_eye_state</th>\n",
       "      <th>subject_id</th>\n",
       "      <th>session_id</th>\n",
       "      <th>session_type</th>\n",
       "      <th>num_blinks</th>\n",
       "      <th>mean_blink_length</th>\n",
       "      <th>mean_opening_velocity</th>\n",
       "      <th>mean_closing_velocity</th>\n",
       "      <th>karolinska_response_nearest_interpolation</th>\n",
       "      <th>karolinska_response_linear_interpolation</th>\n",
       "    </tr>\n",
       "    <tr>\n",
       "      <th>filename</th>\n",
       "      <th>frame</th>\n",
       "      <th></th>\n",
       "      <th></th>\n",
       "      <th></th>\n",
       "      <th></th>\n",
       "      <th></th>\n",
       "      <th></th>\n",
       "      <th></th>\n",
       "      <th></th>\n",
       "      <th></th>\n",
       "      <th></th>\n",
       "      <th></th>\n",
       "      <th></th>\n",
       "      <th></th>\n",
       "      <th></th>\n",
       "      <th></th>\n",
       "    </tr>\n",
       "  </thead>\n",
       "  <tbody>\n",
       "    <tr>\n",
       "      <th rowspan=\"5\" valign=\"top\">001_1_a</th>\n",
       "      <th>0</th>\n",
       "      <td>0.26</td>\n",
       "      <td>0.25</td>\n",
       "      <td>0.28</td>\n",
       "      <td>0</td>\n",
       "      <td>0</td>\n",
       "      <td>0</td>\n",
       "      <td>1</td>\n",
       "      <td>1</td>\n",
       "      <td>0</td>\n",
       "      <td>0</td>\n",
       "      <td>0.0</td>\n",
       "      <td>0.0</td>\n",
       "      <td>0.0</td>\n",
       "      <td>6</td>\n",
       "      <td>6</td>\n",
       "    </tr>\n",
       "    <tr>\n",
       "      <th>1</th>\n",
       "      <td>0.27</td>\n",
       "      <td>0.22</td>\n",
       "      <td>0.31</td>\n",
       "      <td>0</td>\n",
       "      <td>0</td>\n",
       "      <td>0</td>\n",
       "      <td>1</td>\n",
       "      <td>1</td>\n",
       "      <td>0</td>\n",
       "      <td>0</td>\n",
       "      <td>0.0</td>\n",
       "      <td>0.0</td>\n",
       "      <td>0.0</td>\n",
       "      <td>6</td>\n",
       "      <td>6</td>\n",
       "    </tr>\n",
       "    <tr>\n",
       "      <th>2</th>\n",
       "      <td>0.27</td>\n",
       "      <td>0.23</td>\n",
       "      <td>0.32</td>\n",
       "      <td>0</td>\n",
       "      <td>0</td>\n",
       "      <td>0</td>\n",
       "      <td>1</td>\n",
       "      <td>1</td>\n",
       "      <td>0</td>\n",
       "      <td>0</td>\n",
       "      <td>0.0</td>\n",
       "      <td>0.0</td>\n",
       "      <td>0.0</td>\n",
       "      <td>6</td>\n",
       "      <td>6</td>\n",
       "    </tr>\n",
       "    <tr>\n",
       "      <th>3</th>\n",
       "      <td>0.27</td>\n",
       "      <td>0.22</td>\n",
       "      <td>0.32</td>\n",
       "      <td>0</td>\n",
       "      <td>0</td>\n",
       "      <td>0</td>\n",
       "      <td>1</td>\n",
       "      <td>1</td>\n",
       "      <td>0</td>\n",
       "      <td>0</td>\n",
       "      <td>0.0</td>\n",
       "      <td>0.0</td>\n",
       "      <td>0.0</td>\n",
       "      <td>6</td>\n",
       "      <td>6</td>\n",
       "    </tr>\n",
       "    <tr>\n",
       "      <th>4</th>\n",
       "      <td>0.26</td>\n",
       "      <td>0.22</td>\n",
       "      <td>0.31</td>\n",
       "      <td>0</td>\n",
       "      <td>0</td>\n",
       "      <td>0</td>\n",
       "      <td>1</td>\n",
       "      <td>1</td>\n",
       "      <td>0</td>\n",
       "      <td>0</td>\n",
       "      <td>0.0</td>\n",
       "      <td>0.0</td>\n",
       "      <td>0.0</td>\n",
       "      <td>6</td>\n",
       "      <td>6</td>\n",
       "    </tr>\n",
       "  </tbody>\n",
       "</table>\n",
       "</div>"
      ],
      "text/plain": [
       "                combined_eye_closure  left_image_eye_closure  \\\n",
       "filename frame                                                 \n",
       "001_1_a  0                      0.26                    0.25   \n",
       "         1                      0.27                    0.22   \n",
       "         2                      0.27                    0.23   \n",
       "         3                      0.27                    0.22   \n",
       "         4                      0.26                    0.22   \n",
       "\n",
       "                right_image_eye_closure  combined_eye_state  \\\n",
       "filename frame                                                \n",
       "001_1_a  0                         0.28                   0   \n",
       "         1                         0.31                   0   \n",
       "         2                         0.32                   0   \n",
       "         3                         0.32                   0   \n",
       "         4                         0.31                   0   \n",
       "\n",
       "                left_image_eye_state  right_image_eye_state  subject_id  \\\n",
       "filename frame                                                            \n",
       "001_1_a  0                         0                      0           1   \n",
       "         1                         0                      0           1   \n",
       "         2                         0                      0           1   \n",
       "         3                         0                      0           1   \n",
       "         4                         0                      0           1   \n",
       "\n",
       "                session_id  session_type  num_blinks  mean_blink_length  \\\n",
       "filename frame                                                            \n",
       "001_1_a  0               1             0           0                0.0   \n",
       "         1               1             0           0                0.0   \n",
       "         2               1             0           0                0.0   \n",
       "         3               1             0           0                0.0   \n",
       "         4               1             0           0                0.0   \n",
       "\n",
       "                mean_opening_velocity  mean_closing_velocity  \\\n",
       "filename frame                                                 \n",
       "001_1_a  0                        0.0                    0.0   \n",
       "         1                        0.0                    0.0   \n",
       "         2                        0.0                    0.0   \n",
       "         3                        0.0                    0.0   \n",
       "         4                        0.0                    0.0   \n",
       "\n",
       "                karolinska_response_nearest_interpolation  \\\n",
       "filename frame                                              \n",
       "001_1_a  0                                              6   \n",
       "         1                                              6   \n",
       "         2                                              6   \n",
       "         3                                              6   \n",
       "         4                                              6   \n",
       "\n",
       "                karolinska_response_linear_interpolation  \n",
       "filename frame                                            \n",
       "001_1_a  0                                             6  \n",
       "         1                                             6  \n",
       "         2                                             6  \n",
       "         3                                             6  \n",
       "         4                                             6  "
      ]
     },
     "execution_count": 3,
     "metadata": {},
     "output_type": "execute_result"
    }
   ],
   "source": [
    "df = pd.read_pickle(\"./all_session.pkl\")\n",
    "df.head()"
   ]
  },
  {
   "cell_type": "code",
   "execution_count": 4,
   "metadata": {
    "ExecuteTime": {
     "end_time": "2021-04-23T13:28:36.493541Z",
     "start_time": "2021-04-23T13:28:36.490568Z"
    }
   },
   "outputs": [
    {
     "name": "stdout",
     "output_type": "stream",
     "text": [
      "Index(['combined_eye_closure', 'left_image_eye_closure',\n",
      "       'right_image_eye_closure', 'combined_eye_state', 'left_image_eye_state',\n",
      "       'right_image_eye_state', 'subject_id', 'session_id', 'session_type',\n",
      "       'num_blinks', 'mean_blink_length', 'mean_opening_velocity',\n",
      "       'mean_closing_velocity', 'karolinska_response_nearest_interpolation',\n",
      "       'karolinska_response_linear_interpolation'],\n",
      "      dtype='object')\n"
     ]
    }
   ],
   "source": [
    "# columns\n",
    "print(df.columns)"
   ]
  },
  {
   "cell_type": "markdown",
   "metadata": {},
   "source": [
    "### train and test split"
   ]
  },
  {
   "cell_type": "code",
   "execution_count": 5,
   "metadata": {
    "ExecuteTime": {
     "end_time": "2021-04-23T13:28:36.675784Z",
     "start_time": "2021-04-23T13:28:36.494856Z"
    }
   },
   "outputs": [
    {
     "name": "stdout",
     "output_type": "stream",
     "text": [
      "['009', '002'] ['001', '003', '011', '005', '008'] ['004', '014']\n"
     ]
    }
   ],
   "source": [
    "# filter out alcohol sessions\n",
    "unique_indices = list(\n",
    "    filter(lambda x: not \"a\" in x,\n",
    "           df.index.get_level_values('filename').unique()))\n",
    "subjects = list(set([filename.split(\"_\")[0] for filename in unique_indices]))\n",
    "random.shuffle(subjects)\n",
    "\n",
    "test_size = .2\n",
    "split_index = math.ceil(test_size * len(subjects))\n",
    "test_subjects = subjects[:split_index]\n",
    "train_subjects = subjects[split_index:]\n",
    "val_subjects = train_subjects[:2]\n",
    "train_subjects = train_subjects[2:]\n",
    "print(test_subjects, train_subjects, val_subjects)\n"
   ]
  },
  {
   "cell_type": "code",
   "execution_count": 30,
   "metadata": {
    "ExecuteTime": {
     "end_time": "2021-04-23T13:39:31.088223Z",
     "start_time": "2021-04-23T13:39:31.079286Z"
    }
   },
   "outputs": [],
   "source": [
    "train_subjects = [\"001\", \"002\", \"003\", \"004\", \"009\"]\n",
    "val_subjects = [\"005\", \"008\"]\n",
    "test_subjecst = [\"011\", \"014\"]"
   ]
  },
  {
   "cell_type": "code",
   "execution_count": 31,
   "metadata": {
    "ExecuteTime": {
     "end_time": "2021-04-23T13:39:36.187908Z",
     "start_time": "2021-04-23T13:39:31.520522Z"
    }
   },
   "outputs": [],
   "source": [
    "# create boolean index mask\n",
    "test_subject_mask = df.index.to_frame().filename.str.contains(\n",
    "    \"|\".join(test_subjects))\n",
    "train_subject_mask = df.index.to_frame().filename.str.contains(\n",
    "    \"|\".join(train_subjects))\n",
    "val_subject_mask = df.index.to_frame().filename.str.contains(\n",
    "    \"|\".join(val_subjects))"
   ]
  },
  {
   "cell_type": "code",
   "execution_count": 32,
   "metadata": {
    "ExecuteTime": {
     "end_time": "2021-04-23T13:39:37.499692Z",
     "start_time": "2021-04-23T13:39:36.585699Z"
    }
   },
   "outputs": [
    {
     "name": "stdout",
     "output_type": "stream",
     "text": [
      "X_train.shape = (1336295, 4)\n",
      "X_test.shape = (440478, 4)\n",
      "y_train.shape = (1336295, 1)\n",
      "y_test.shape = (440478, 1)\n"
     ]
    }
   ],
   "source": [
    "test_df = df[test_subject_mask]\n",
    "test_df = test_df.copy()\n",
    "test_df = test_df[test_df[\"session_type\"] != 0]\n",
    "test_df = test_df.dropna()\n",
    "#test_df = test_df.sample(frac=1)\n",
    "# print(len(test_df))\n",
    "\n",
    "train_df = df[train_subject_mask]\n",
    "train_df = train_df.copy()\n",
    "train_df = train_df[train_df[\"session_type\"] != 0]\n",
    "train_df = train_df.dropna()\n",
    "#treain_df = train_df.sample(frac=1)\n",
    "#print(len(train_df))\n",
    "\n",
    "val_df = df[val_subject_mask]\n",
    "val_df = val_df.copy()\n",
    "val_df = val_df[val_df[\"session_type\"] != 0]\n",
    "val_df = val_df.dropna()\n",
    "#treain_df = train_df.sample(frac=1)\n",
    "#print(len(train_df))\n",
    "\n",
    "feature_columns = [\n",
    "    'num_blinks', 'mean_blink_length', 'mean_opening_velocity',\n",
    "    'mean_closing_velocity'\n",
    "]\n",
    "target_columns = [\"karolinska_response_linear_interpolation\"]\n",
    "\n",
    "X_train = train_df[feature_columns].astype(float).to_numpy()\n",
    "X_test = test_df[feature_columns].astype(float).to_numpy()\n",
    "X_val = val_df[feature_columns].astype(float).to_numpy()\n",
    "\n",
    "y_train = train_df[target_columns].astype(float).to_numpy()\n",
    "y_test = test_df[target_columns].astype(float).to_numpy()\n",
    "y_val = val_df[target_columns].astype(float).to_numpy()\n",
    "\n",
    "print(f\"X_train.shape = {X_train.shape}\")\n",
    "print(f\"X_test.shape = {X_test.shape}\")\n",
    "print(f\"y_train.shape = {y_train.shape}\")\n",
    "print(f\"y_test.shape = {y_test.shape}\")"
   ]
  },
  {
   "cell_type": "code",
   "execution_count": 33,
   "metadata": {
    "ExecuteTime": {
     "end_time": "2021-04-23T13:39:37.884314Z",
     "start_time": "2021-04-23T13:39:37.879495Z"
    }
   },
   "outputs": [],
   "source": [
    "# set labels to [0, 8]\n",
    "y_train = y_train - 1\n",
    "y_test = y_test - 1\n",
    "y_val = y_val - 1"
   ]
  },
  {
   "cell_type": "code",
   "execution_count": 34,
   "metadata": {
    "ExecuteTime": {
     "end_time": "2021-04-23T13:39:38.889575Z",
     "start_time": "2021-04-23T13:39:38.239688Z"
    }
   },
   "outputs": [],
   "source": [
    "# normalize\n",
    "norm_layer = tf.keras.layers.experimental.preprocessing.Normalization()\n",
    "norm_layer.adapt(X_train)\n",
    "X_train = norm_layer(X_train)\n",
    "X_test = norm_layer(X_test)\n",
    "X_val = norm_layer(X_val)"
   ]
  },
  {
   "cell_type": "code",
   "execution_count": 35,
   "metadata": {
    "ExecuteTime": {
     "end_time": "2021-04-23T13:39:39.582330Z",
     "start_time": "2021-04-23T13:39:39.239786Z"
    }
   },
   "outputs": [
    {
     "data": {
      "image/png": "[encoded data removed]",
      "text/plain": [
       "<Figure size 720x720 with 3 Axes>"
      ]
     },
     "metadata": {
      "needs_background": "light"
     },
     "output_type": "display_data"
    }
   ],
   "source": [
    "f, (ax1, ax2, ax3) = plt.subplots(3, 1)\n",
    "bins = [x - .5 for x in range(0, 10)]\n",
    "ax1.hist(y_test, bins=bins)\n",
    "ax1.set_title(\"test set\")\n",
    "ax2.hist(y_train, bins=bins)\n",
    "ax2.set_title(\"train set\")\n",
    "ax3.hist(y_test, bins=bins)\n",
    "ax3.set_title(\"val set\")\n",
    "\n",
    "plt.xticks(range(1, 9))\n",
    "plt.show()"
   ]
  },
  {
   "cell_type": "code",
   "execution_count": 36,
   "metadata": {
    "ExecuteTime": {
     "end_time": "2021-04-23T13:39:39.979625Z",
     "start_time": "2021-04-23T13:39:39.950541Z"
    }
   },
   "outputs": [],
   "source": [
    "BATCH_SIZE = 256\n",
    "\n",
    "# create data generator yielding balanced batches\n",
    "y_train_categorical = keras.utils.to_categorical(y_train)\n",
    "# data_generator = make_generator(X_train.numpy(), y_train_categorical, batch_size=BATCH_SIZE, categorical=False)"
   ]
  },
  {
   "cell_type": "code",
   "execution_count": 37,
   "metadata": {
    "ExecuteTime": {
     "end_time": "2021-04-23T13:39:40.750458Z",
     "start_time": "2021-04-23T13:39:40.369190Z"
    }
   },
   "outputs": [],
   "source": [
    "oversample = RandomOverSampler()\n",
    "X_train_over, y_train_over = oversample.fit_resample(X_train, y_train)\n",
    "y_train_over = np.expand_dims(y_train_over, 1)"
   ]
  },
  {
   "cell_type": "code",
   "execution_count": 38,
   "metadata": {
    "ExecuteTime": {
     "end_time": "2021-04-23T13:39:41.366178Z",
     "start_time": "2021-04-23T13:39:41.098837Z"
    }
   },
   "outputs": [
    {
     "name": "stdout",
     "output_type": "stream",
     "text": [
      "original: (1336295, 4), (1336295, 1)\n",
      "oversampled : (2299680, 4), (2299680, 1)\n"
     ]
    },
    {
     "data": {
      "image/png": "[encoded data removed]",
      "text/plain": [
       "<Figure size 720x720 with 2 Axes>"
      ]
     },
     "metadata": {
      "needs_background": "light"
     },
     "output_type": "display_data"
    }
   ],
   "source": [
    "print(f\"original: {X_train.shape}, {y_train.shape}\")\n",
    "f, (ax1, ax2) = plt.subplots(2, 1)\n",
    "bins = [x - .5 for x in range(0, 10)]\n",
    "ax1.hist(y_train, bins=bins)\n",
    "ax1.set_title(\"train set\")\n",
    "print(f\"oversampled : {X_train_over.shape}, {y_train_over.shape}\")\n",
    "\n",
    "ax2.hist(y_train_over, bins=bins)\n",
    "ax2.set_title(\"train over set\")\n",
    "\n",
    "plt.xticks(range(1, 9))\n",
    "plt.show()"
   ]
  },
  {
   "cell_type": "code",
   "execution_count": 39,
   "metadata": {
    "ExecuteTime": {
     "end_time": "2021-04-23T13:40:15.553929Z",
     "start_time": "2021-04-23T13:39:41.714580Z"
    },
    "scrolled": false
   },
   "outputs": [
    {
     "name": "stdout",
     "output_type": "stream",
     "text": [
      "Model: \"sequential_3\"\n",
      "_________________________________________________________________\n",
      "Layer (type)                 Output Shape              Param #   \n",
      "=================================================================\n",
      "dense_3 (Dense)              (None, 1)                 5         \n",
      "=================================================================\n",
      "Total params: 5\n",
      "Trainable params: 5\n",
      "Non-trainable params: 0\n",
      "_________________________________________________________________\n",
      "Epoch 1/5\n",
      "10439/10439 [==============================] - 7s 617us/step - loss: 2.3899 - casted_accuracy: 0.1221 - mae: 2.3899 - val_loss: 2.4029 - val_casted_accuracy: 0.0110 - val_mae: 2.4029\n",
      "Epoch 2/5\n",
      "10439/10439 [==============================] - 6s 590us/step - loss: 2.1875 - casted_accuracy: 0.1193 - mae: 2.1875 - val_loss: 2.4088 - val_casted_accuracy: 0.0096 - val_mae: 2.4088\n",
      "Epoch 3/5\n",
      "10439/10439 [==============================] - 8s 798us/step - loss: 2.1886 - casted_accuracy: 0.1186 - mae: 2.1886 - val_loss: 2.3977 - val_casted_accuracy: 0.0112 - val_mae: 2.3977\n",
      "Epoch 4/5\n",
      "10439/10439 [==============================] - 8s 768us/step - loss: 2.1898 - casted_accuracy: 0.1190 - mae: 2.1898 - val_loss: 2.3964 - val_casted_accuracy: 0.0116 - val_mae: 2.3964\n",
      "Epoch 5/5\n",
      " 3108/10439 [=======>......................] - ETA: 4s - loss: 2.1856 - casted_accuracy: 0.1180 - mae: 2.1856WARNING:tensorflow:Your input ran out of data; interrupting training. Make sure that your dataset or generator can generate at least `steps_per_epoch * epochs` batches (in this case, 52199.0234375 batches). You may need to use the repeat() function when building your dataset.\n",
      "10439/10439 [==============================] - 3s 307us/step - loss: 2.1879 - casted_accuracy: 0.1181 - mae: 2.1879 - val_loss: 2.4006 - val_casted_accuracy: 0.0111 - val_mae: 2.4006\n",
      "1721/1721 [==============================] - 1s 568us/step - loss: 1.7906 - casted_accuracy: 0.1413 - mae: 1.7906\n",
      "test loss, test acc: [1.7905734777450562, 0.14129935204982758, 1.7905734777450562]\n",
      "./models/regression_model_mae_sgd_256_5_179\n",
      "INFO:tensorflow:Assets written to: ./models/regression_model_mae_sgd_256_5_179/assets\n"
     ]
    }
   ],
   "source": [
    "def casted_accuracy(y_true, y_pred):\n",
    "    y_true = tf.cast(y_true, tf.int32)\n",
    "    y_pred = tf.cast(tf.add(y_pred, 0.5), tf.int32)\n",
    "    return tf.divide(\n",
    "        tf.reduce_sum(tf.cast(tf.equal(y_pred, y_true), tf.int32)),\n",
    "        tf.size(y_true))\n",
    "\n",
    "\n",
    "EPOCHS = 5\n",
    "callback = tf.keras.callbacks.EarlyStopping(monitor='loss', patience=2)\n",
    "loss = \"mae\"\n",
    "optimizer = \"sgd\"\n",
    "#optimizer = tf.keras.optimizers.Adam()\n",
    "\n",
    "regression_model = Sequential()\n",
    "regression_model.add(Dense(1, input_dim=X_train.shape[-1]))\n",
    "regression_model.compile(loss=loss,\n",
    "                         optimizer=optimizer,\n",
    "                         metrics=[casted_accuracy, \"mae\"])\n",
    "regression_model.summary()\n",
    "with tf.device(\"cpu:0\"):\n",
    "    regression_history = regression_model.fit(X_train_over, y_train_over,\n",
    "                                              epochs=EPOCHS,\n",
    "                                              batch_size=BATCH_SIZE,\n",
    "                                              validation_data=(X_val, y_val),\n",
    "                                              callbacks=[callback],\n",
    "                                              steps_per_epoch=(len(y_train) / BATCH_SIZE)*2)\n",
    "    \n",
    "    results = regression_model.evaluate(X_test, y_test, batch_size=BATCH_SIZE)\n",
    "    print(\"test loss, test acc:\", results)\n",
    "model_name = f\"./models/regression_model_{loss}_{optimizer}_{BATCH_SIZE}_{EPOCHS}_{int(results[-1] * 100)}\"\n",
    "print(model_name)\n",
    "regression_model.save(\n",
    "    model_name\n",
    ")"
   ]
  },
  {
   "cell_type": "markdown",
   "metadata": {},
   "source": [
    "keras unbalanced batch generator, 5 epochs, sgd, mae\n",
    "* test loss, test acc: [2.565487861633301, 0.09800824522972107, 2.565487861633301]  \n",
    "learn imbalanced, 5 epochs, sgd, mae, minority oversampling\n",
    "* test loss, test acc: [2.3827099800109863, 0.10097184032201767, 2.3827099800109863]  \n",
    "learn imbalanced, 5 epochs, sgd, mae, default oversampling  \n",
    "* test loss, test acc: [2.559556722640991, 0.09821943938732147, 2.559556722640991]\n"
   ]
  },
  {
   "cell_type": "code",
   "execution_count": 40,
   "metadata": {
    "ExecuteTime": {
     "end_time": "2021-04-23T13:40:16.210527Z",
     "start_time": "2021-04-23T13:40:15.985566Z"
    }
   },
   "outputs": [
    {
     "data": {
      "image/png": "[encoded data removed]",
      "text/plain": [
       "<Figure size 720x720 with 1 Axes>"
      ]
     },
     "metadata": {
      "needs_background": "light"
     },
     "output_type": "display_data"
    }
   ],
   "source": [
    "plot_model_history(regression_history)"
   ]
  },
  {
   "cell_type": "code",
   "execution_count": 41,
   "metadata": {
    "ExecuteTime": {
     "end_time": "2021-04-23T13:40:16.663685Z",
     "start_time": "2021-04-23T13:40:16.657104Z"
    }
   },
   "outputs": [
    {
     "name": "stdout",
     "output_type": "stream",
     "text": [
      "num_blinks [0.65]\n",
      "mean_blink_length [0.29]\n",
      "mean_opening_velocity [-0.16]\n",
      "mean_closing_velocity [0.18]\n",
      "bias [4.08]\n"
     ]
    }
   ],
   "source": [
    "for name, weigth in zip(feature_columns, regression_model.weights[0].numpy()):\n",
    "    print(name, weigth)\n",
    "\n",
    "print(\"bias\", regression_model.weights[1].numpy())"
   ]
  },
  {
   "cell_type": "code",
   "execution_count": 42,
   "metadata": {
    "ExecuteTime": {
     "end_time": "2021-04-23T13:40:17.142093Z",
     "start_time": "2021-04-23T13:40:17.137013Z"
    }
   },
   "outputs": [
    {
     "name": "stdout",
     "output_type": "stream",
     "text": [
      "Test MAE: 1.7905734777450562\n",
      "Test Accuracy 0.14129935204982758\n"
     ]
    }
   ],
   "source": [
    "print(f\"Test MAE: {results[0]}\")\n",
    "print(f\"Test Accuracy {results[1]}\")"
   ]
  },
  {
   "cell_type": "code",
   "execution_count": 43,
   "metadata": {
    "ExecuteTime": {
     "end_time": "2021-04-23T13:40:22.086173Z",
     "start_time": "2021-04-23T13:40:17.627909Z"
    }
   },
   "outputs": [
    {
     "name": "stdout",
     "output_type": "stream",
     "text": [
      "Confusion matrix, without normalization\n"
     ]
    },
    {
     "data": {
      "image/png": "[encoded data removed]",
      "text/plain": [
       "<Figure size 720x720 with 2 Axes>"
      ]
     },
     "metadata": {
      "needs_background": "light"
     },
     "output_type": "display_data"
    }
   ],
   "source": [
    "plot_cm_matrix(regression_model, X_test, y_test, output_kind=\"digitize\")"
   ]
  },
  {
   "cell_type": "markdown",
   "metadata": {
    "ExecuteTime": {
     "end_time": "2021-04-09T11:14:50.763620Z",
     "start_time": "2021-04-09T11:14:50.725537Z"
    }
   },
   "source": [
    "### closed form solution\n",
    "$$\n",
    "\\beta = (X X^T)^{-1} X^T y\n",
    "$$"
   ]
  },
  {
   "cell_type": "code",
   "execution_count": 44,
   "metadata": {
    "ExecuteTime": {
     "end_time": "2021-04-23T13:40:22.519688Z",
     "start_time": "2021-04-23T13:40:22.516746Z"
    }
   },
   "outputs": [],
   "source": [
    "def closed_form_ols(X, y):\n",
    "    # calculate coefficients using closed-form solution\n",
    "    coeffs = inv(X.transpose().dot(X)).dot(X.transpose()).dot(y)\n",
    "    return coeffs\n"
   ]
  },
  {
   "cell_type": "code",
   "execution_count": 45,
   "metadata": {
    "ExecuteTime": {
     "end_time": "2021-04-23T13:40:23.021445Z",
     "start_time": "2021-04-23T13:40:22.969763Z"
    }
   },
   "outputs": [
    {
     "name": "stdout",
     "output_type": "stream",
     "text": [
      "[[ 0.54]\n",
      " [ 0.25]\n",
      " [-0.31]\n",
      " [ 0.19]]\n",
      "num_blinks 0.542881919228816\n",
      "mean_blink_length 0.2546260718631034\n",
      "mean_opening_velocity -0.30945487121410475\n",
      "mean_closing_velocity 0.18711760620240306\n"
     ]
    }
   ],
   "source": [
    "# original dataset no bias\n",
    "coeffs = closed_form_ols(X_train.numpy(), y_train)\n",
    "print(coeffs)\n",
    "for name, weigth in zip(feature_columns, coeffs):\n",
    "    print(name, weigth[0])"
   ]
  },
  {
   "cell_type": "code",
   "execution_count": 46,
   "metadata": {
    "ExecuteTime": {
     "end_time": "2021-04-23T13:40:23.675692Z",
     "start_time": "2021-04-23T13:40:23.580696Z"
    }
   },
   "outputs": [
    {
     "name": "stdout",
     "output_type": "stream",
     "text": [
      "[[ 0.54]\n",
      " [ 0.25]\n",
      " [-0.31]\n",
      " [ 0.19]\n",
      " [ 4.48]]\n",
      "num_blinks 0.5428808754694787\n",
      "mean_blink_length 0.25462532481566713\n",
      "mean_opening_velocity -0.3094545730273751\n",
      "mean_closing_velocity 0.18711822610521048\n",
      "bias 4.484595113206529\n"
     ]
    }
   ],
   "source": [
    "#original dataset with bias feature\n",
    "bias_ones = np.ones(shape=(len(X_train)))\n",
    "X_train_with_bias = np.c_[ X_train.numpy(), bias_ones]\n",
    "\n",
    "coeffs_with_bias = closed_form_ols(X_train_with_bias, y_train)\n",
    "print(coeffs_with_bias)\n",
    "for name, weigth in zip(feature_columns + [\"bias\"], coeffs_with_bias):\n",
    "    print(name, weigth[0])\n"
   ]
  },
  {
   "cell_type": "code",
   "execution_count": 47,
   "metadata": {
    "ExecuteTime": {
     "end_time": "2021-04-23T13:40:24.295212Z",
     "start_time": "2021-04-23T13:40:24.235639Z"
    }
   },
   "outputs": [
    {
     "name": "stdout",
     "output_type": "stream",
     "text": [
      "num_blinks [0.09]\n",
      "mean_blink_length [0.18]\n",
      "mean_opening_velocity [-0.17]\n",
      "mean_closing_velocity [-0.]\n"
     ]
    }
   ],
   "source": [
    "# oversampled data without bias feature\n",
    "coeffs = closed_form_ols(X_train_over, y_train_over)\n",
    "for name, weigth in zip(feature_columns, coeffs):\n",
    "    print(name, weigth)"
   ]
  },
  {
   "cell_type": "code",
   "execution_count": 48,
   "metadata": {
    "ExecuteTime": {
     "end_time": "2021-04-23T13:40:24.956664Z",
     "start_time": "2021-04-23T13:40:24.828697Z"
    }
   },
   "outputs": [
    {
     "name": "stdout",
     "output_type": "stream",
     "text": [
      "[[ 0.45]\n",
      " [ 0.08]\n",
      " [-0.29]\n",
      " [ 0.45]\n",
      " [ 4.07]]\n",
      "num_blinks 0.4506882579183497\n",
      "mean_blink_length 0.07602234670514206\n",
      "mean_opening_velocity -0.2894829730247614\n",
      "mean_closing_velocity 0.4505760953548977\n",
      "bias 4.074387726258293\n"
     ]
    }
   ],
   "source": [
    "# oversampled data with bias feature\n",
    "bias_over_ones = np.ones(shape=(len(X_train_over)))\n",
    "X_train_over_with_bias = np.c_[ X_train_over, bias_over_ones]\n",
    "coeffs_over_with_bias = closed_form_ols(X_train_over_with_bias, y_train_over)\n",
    "print(coeffs_over_with_bias)\n",
    "for name, weigth in zip(feature_columns + [\"bias\"], coeffs_over_with_bias):\n",
    "    print(name, weigth[0])"
   ]
  },
  {
   "cell_type": "code",
   "execution_count": 49,
   "metadata": {
    "ExecuteTime": {
     "end_time": "2021-04-23T13:40:31.406450Z",
     "start_time": "2021-04-23T13:40:25.520358Z"
    }
   },
   "outputs": [
    {
     "name": "stdout",
     "output_type": "stream",
     "text": [
      "Model: \"sequential_4\"\n",
      "_________________________________________________________________\n",
      "Layer (type)                 Output Shape              Param #   \n",
      "=================================================================\n",
      "dense_4 (Dense)              (None, 1)                 5         \n",
      "=================================================================\n",
      "Total params: 5\n",
      "Trainable params: 5\n",
      "Non-trainable params: 0\n",
      "_________________________________________________________________\n",
      "1721/1721 [==============================] - 1s 630us/step - loss: 1.9355 - casted_accuracy: 0.0756 - mae: 1.9355\n",
      "test loss, test acc: [1.8157179355621338, 0.12538163363933563, 1.8157179355621338]\n",
      "./models/regression_model_mae_sgd_256_5_181\n",
      "INFO:tensorflow:Assets written to: ./models/regression_model_mae_sgd_256_5_181/assets\n",
      "Confusion matrix, without normalization\n"
     ]
    },
    {
     "data": {
      "image/png": "[encoded data removed]",
      "text/plain": [
       "<Figure size 720x720 with 2 Axes>"
      ]
     },
     "metadata": {
      "needs_background": "light"
     },
     "output_type": "display_data"
    }
   ],
   "source": [
    "# create model from ols weights\n",
    "\n",
    "EPOCHS = 5\n",
    "callback = tf.keras.callbacks.EarlyStopping(monitor='loss', patience=2)\n",
    "loss = \"mae\"\n",
    "optimizer = \"sgd\"\n",
    "#optimizer = tf.keras.optimizers.Adam()\n",
    "\n",
    "closed_form_model = Sequential()\n",
    "closed_form_model.add(Dense(1, input_dim=X_train.shape[-1]))\n",
    "closed_form_model.compile(loss=loss,\n",
    "                         optimizer=optimizer,\n",
    "                         metrics=[casted_accuracy, \"mae\"])\n",
    "closed_form_model.summary()\n",
    "\n",
    "# set weights\n",
    "closed_form_model.set_weights([coeffs_over_with_bias[:-1], coeffs_over_with_bias[-1]])\n",
    "\n",
    "# evaluate and save model\n",
    "results = closed_form_model.evaluate(X_test, y_test, batch_size=BATCH_SIZE)\n",
    "print(\"test loss, test acc:\", results)\n",
    "model_name = f\"./models/regression_model_{loss}_{optimizer}_{BATCH_SIZE}_{EPOCHS}_{int(results[-1] * 100)}\"\n",
    "print(model_name)\n",
    "closed_form_model.save(\n",
    "    model_name\n",
    ")\n",
    "\n",
    "\n",
    "# plot confusion matrix\n",
    "plot_cm_matrix(closed_form_model, X_test, y_test, output_kind=\"digitize\")"
   ]
  },
  {
   "cell_type": "code",
   "execution_count": 50,
   "metadata": {
    "ExecuteTime": {
     "end_time": "2021-04-23T13:40:37.879944Z",
     "start_time": "2021-04-23T13:40:31.837791Z"
    }
   },
   "outputs": [
    {
     "name": "stdout",
     "output_type": "stream",
     "text": [
      "Model: \"sequential_5\"\n",
      "_________________________________________________________________\n",
      "Layer (type)                 Output Shape              Param #   \n",
      "=================================================================\n",
      "dense_5 (Dense)              (None, 1)                 5         \n",
      "=================================================================\n",
      "Total params: 5\n",
      "Trainable params: 5\n",
      "Non-trainable params: 0\n",
      "_________________________________________________________________\n",
      "1721/1721 [==============================] - 1s 633us/step - loss: 1.9633 - casted_accuracy: 0.0163 - mae: 1.9633\n",
      "test loss, test acc: [1.9218543767929077, 0.03220125660300255, 1.9218543767929077]\n",
      "./models/regression_model_mae_sgd_256_5_192\n",
      "INFO:tensorflow:Assets written to: ./models/regression_model_mae_sgd_256_5_192/assets\n",
      "Confusion matrix, without normalization\n"
     ]
    },
    {
     "data": {
      "image/png": "[encoded data removed]",
      "text/plain": [
       "<Figure size 720x720 with 2 Axes>"
      ]
     },
     "metadata": {
      "needs_background": "light"
     },
     "output_type": "display_data"
    }
   ],
   "source": [
    "# create model from ols weights\n",
    "\n",
    "EPOCHS = 5\n",
    "callback = tf.keras.callbacks.EarlyStopping(monitor='loss', patience=2)\n",
    "loss = \"mae\"\n",
    "optimizer = \"sgd\"\n",
    "#optimizer = tf.keras.optimizers.Adam()\n",
    "\n",
    "closed_form_model = Sequential()\n",
    "closed_form_model.add(Dense(1, input_dim=X_train.shape[-1]))\n",
    "closed_form_model.compile(loss=loss,\n",
    "                         optimizer=optimizer,\n",
    "                         metrics=[casted_accuracy, \"mae\"])\n",
    "closed_form_model.summary()\n",
    "\n",
    "# set weights\n",
    "closed_form_model.set_weights([coeffs_with_bias[:-1], coeffs_with_bias[-1]])\n",
    "\n",
    "# evaluate and save model\n",
    "results = closed_form_model.evaluate(X_test, y_test, batch_size=BATCH_SIZE)\n",
    "print(\"test loss, test acc:\", results)\n",
    "model_name = f\"./models/regression_model_{loss}_{optimizer}_{BATCH_SIZE}_{EPOCHS}_{int(results[-1] * 100)}\"\n",
    "print(model_name)\n",
    "closed_form_model.save(\n",
    "    model_name\n",
    ")\n",
    "\n",
    "\n",
    "# plot confusion matrix\n",
    "plot_cm_matrix(closed_form_model, X_test, y_test, output_kind=\"digitize\")"
   ]
  },
  {
   "cell_type": "code",
   "execution_count": 57,
   "metadata": {
    "ExecuteTime": {
     "end_time": "2021-04-23T13:46:08.435213Z",
     "start_time": "2021-04-23T13:46:08.215590Z"
    }
   },
   "outputs": [
    {
     "name": "stdout",
     "output_type": "stream",
     "text": [
      "[1 1 1]\n",
      "Confusion matrix, without normalization\n"
     ]
    },
    {
     "data": {
      "image/png": "[encoded data removed]",
      "text/plain": [
       "<Figure size 720x720 with 2 Axes>"
      ]
     },
     "metadata": {
      "needs_background": "light"
     },
     "output_type": "display_data"
    }
   ],
   "source": [
    "from sklearn.metrics import confusion_matrix\n",
    "\n",
    "\n",
    "y_test = np.array([1,2,1])\n",
    "y_pred = np.array([1,0,1])\n",
    "\n",
    "y_pred = np.clip(y_pred,1,2)\n",
    "print(y_pred)\n",
    "c_matrix = confusion_matrix(y_test, y_pred)\n",
    "plt.figure()\n",
    "plot_confusion_matrix(c_matrix,\n",
    "                          classes=list(\"123\"),\n",
    "                          normalize=False)"
   ]
  },
  {
   "cell_type": "code",
   "execution_count": null,
   "metadata": {},
   "outputs": [],
   "source": []
  }
 ],
 "metadata": {
  "kernelspec": {
   "display_name": "Python 3",
   "language": "python",
   "name": "python3"
  },
  "language_info": {
   "codemirror_mode": {
    "name": "ipython",
    "version": 3
   },
   "file_extension": ".py",
   "mimetype": "text/x-python",
   "name": "python",
   "nbconvert_exporter": "python",
   "pygments_lexer": "ipython3",
   "version": "3.6.9"
  },
  "varInspector": {
   "cols": {
    "lenName": 16,
    "lenType": 16,
    "lenVar": 40
   },
   "kernels_config": {
    "python": {
     "delete_cmd_postfix": "",
     "delete_cmd_prefix": "del ",
     "library": "var_list.py",
     "varRefreshCmd": "print(var_dic_list())"
    },
    "r": {
     "delete_cmd_postfix": ") ",
     "delete_cmd_prefix": "rm(",
     "library": "var_list.r",
     "varRefreshCmd": "cat(var_dic_list()) "
    }
   },
   "position": {
    "height": "605px",
    "left": "1550px",
    "right": "20px",
    "top": "120px",
    "width": "350px"
   },
   "types_to_exclude": [
    "module",
    "function",
    "builtin_function_or_method",
    "instance",
    "_Feature"
   ],
   "window_display": true
  }
 },
 "nbformat": 4,
 "nbformat_minor": 1
}
