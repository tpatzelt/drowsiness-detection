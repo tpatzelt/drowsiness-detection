{
 "cells": [
  {
   "cell_type": "code",
   "execution_count": 1,
   "metadata": {},
   "outputs": [],
   "source": [
    "import json\n",
    "from pathlib import Path\n",
    "import pandas as pd"
   ]
  },
  {
   "cell_type": "markdown",
   "metadata": {},
   "source": [
    "### Eye Closure Signal Files\n",
    "\n",
    "file pattern: {subject_id}{session_id}{session_type}.json"
   ]
  },
  {
   "cell_type": "markdown",
   "metadata": {},
   "source": [
    "### general\n",
    "* 9 subjects\n",
    "* 3 session with each subject except subject 9 and 14\n",
    "* all 3 session types for each except subject 9 and 14 only type 'b'\n",
    "* index 0 corresponds to the first frame of the experiment (?)\n",
    "* some entries can be none if no eye is detected (?)\n"
   ]
  },
  {
   "cell_type": "code",
   "execution_count": 2,
   "metadata": {},
   "outputs": [
    {
     "name": "stdout",
     "output_type": "stream",
     "text": [
      "001_1_a.json\n",
      "001_2_s.json\n",
      "001_3_b.json\n",
      "002_1_b.json\n",
      "002_2_a.json\n",
      "002_3_s.json\n",
      "003_1_b.json\n",
      "003_2_s.json\n",
      "003_3_a.json\n",
      "004_1_s.json\n",
      "004_2_a.json\n",
      "004_3_b.json\n",
      "005_1_s.json\n",
      "005_2_b.json\n",
      "005_3_a.json\n",
      "008_1_b.json\n",
      "008_2_a.json\n",
      "008_3_s.json\n",
      "009_1_b.json\n",
      "011_1_s.json\n",
      "011_2_b.json\n",
      "011_3_a.json\n",
      "014_1_b.json\n"
     ]
    }
   ],
   "source": [
    "files = [str(p) for p in Path(\"potsdam_aeye_112020/\").iterdir()]\n",
    "for name in sorted(files):\n",
    "    print(name.split(\"/\")[1])\n"
   ]
  },
  {
   "cell_type": "markdown",
   "metadata": {},
   "source": [
    "### Take a look at the data"
   ]
  },
  {
   "cell_type": "markdown",
   "metadata": {},
   "source": [
    "### one sample:\n",
    "* eye_closure for left and right image + combined \n",
    "* eye_state for left and right image + combined\n"
   ]
  },
  {
   "cell_type": "code",
   "execution_count": 3,
   "metadata": {},
   "outputs": [
    {
     "name": "stdout",
     "output_type": "stream",
     "text": [
      "{'eye_closure': {'combined': 0.39254617901185185, 'left_image': 0.3144874699612785, 'right_image': 0.4706048880624252}, 'eye_state': {'combined': 0, 'left_image': 0, 'right_image': 0}, 'index': 0}\n"
     ]
    }
   ],
   "source": [
    "with open(files[0]) as fp:\n",
    "    data = json.loads(fp.read())\n",
    "print(data[0])\n"
   ]
  },
  {
   "cell_type": "code",
   "execution_count": 4,
   "metadata": {},
   "outputs": [],
   "source": [
    "df_eye_closure = pd.DataFrame([item[\"eye_closure\"] for item in data])\n",
    "df_eye_state = pd.DataFrame([item[\"eye_state\"] for item in data], dtype=\"category\")\n"
   ]
  },
  {
   "cell_type": "code",
   "execution_count": 5,
   "metadata": {},
   "outputs": [
    {
     "data": {
      "text/plain": "            combined     left_image    right_image\ncount  148169.000000  148082.000000  148106.000000\nmean        0.130700       0.151940       0.108870\nstd         0.112435       0.115879       0.111870\nmin        -0.338873      -0.436677      -0.310959\n25%         0.077563       0.093926       0.055606\n50%         0.103476       0.119726       0.087553\n75%         0.139770       0.164167       0.124435\nmax         1.000000       1.000000       1.000000",
      "text/html": "<div>\n<style scoped>\n    .dataframe tbody tr th:only-of-type {\n        vertical-align: middle;\n    }\n\n    .dataframe tbody tr th {\n        vertical-align: top;\n    }\n\n    .dataframe thead th {\n        text-align: right;\n    }\n</style>\n<table border=\"1\" class=\"dataframe\">\n  <thead>\n    <tr style=\"text-align: right;\">\n      <th></th>\n      <th>combined</th>\n      <th>left_image</th>\n      <th>right_image</th>\n    </tr>\n  </thead>\n  <tbody>\n    <tr>\n      <th>count</th>\n      <td>148169.000000</td>\n      <td>148082.000000</td>\n      <td>148106.000000</td>\n    </tr>\n    <tr>\n      <th>mean</th>\n      <td>0.130700</td>\n      <td>0.151940</td>\n      <td>0.108870</td>\n    </tr>\n    <tr>\n      <th>std</th>\n      <td>0.112435</td>\n      <td>0.115879</td>\n      <td>0.111870</td>\n    </tr>\n    <tr>\n      <th>min</th>\n      <td>-0.338873</td>\n      <td>-0.436677</td>\n      <td>-0.310959</td>\n    </tr>\n    <tr>\n      <th>25%</th>\n      <td>0.077563</td>\n      <td>0.093926</td>\n      <td>0.055606</td>\n    </tr>\n    <tr>\n      <th>50%</th>\n      <td>0.103476</td>\n      <td>0.119726</td>\n      <td>0.087553</td>\n    </tr>\n    <tr>\n      <th>75%</th>\n      <td>0.139770</td>\n      <td>0.164167</td>\n      <td>0.124435</td>\n    </tr>\n    <tr>\n      <th>max</th>\n      <td>1.000000</td>\n      <td>1.000000</td>\n      <td>1.000000</td>\n    </tr>\n  </tbody>\n</table>\n</div>"
     },
     "execution_count": 5,
     "metadata": {},
     "output_type": "execute_result"
    }
   ],
   "source": [
    "df_eye_closure.describe()"
   ]
  },
  {
   "cell_type": "code",
   "execution_count": 6,
   "metadata": {},
   "outputs": [
    {
     "name": "stdout",
     "output_type": "stream",
     "text": [
      "[0.0, 1.0, 2.0, NaN, 5.0, 4.0]\n",
      "Categories (5, float64): [0.0, 1.0, 2.0, 5.0, 4.0]\n"
     ]
    },
    {
     "data": {
      "text/plain": "        combined  left_image  right_image\ncount   148200.0    148200.0     148200.0\nunique       5.0         5.0          6.0\ntop          0.0         0.0          0.0\nfreq    146176.0    146015.0     146471.0",
      "text/html": "<div>\n<style scoped>\n    .dataframe tbody tr th:only-of-type {\n        vertical-align: middle;\n    }\n\n    .dataframe tbody tr th {\n        vertical-align: top;\n    }\n\n    .dataframe thead th {\n        text-align: right;\n    }\n</style>\n<table border=\"1\" class=\"dataframe\">\n  <thead>\n    <tr style=\"text-align: right;\">\n      <th></th>\n      <th>combined</th>\n      <th>left_image</th>\n      <th>right_image</th>\n    </tr>\n  </thead>\n  <tbody>\n    <tr>\n      <th>count</th>\n      <td>148200.0</td>\n      <td>148200.0</td>\n      <td>148200.0</td>\n    </tr>\n    <tr>\n      <th>unique</th>\n      <td>5.0</td>\n      <td>5.0</td>\n      <td>6.0</td>\n    </tr>\n    <tr>\n      <th>top</th>\n      <td>0.0</td>\n      <td>0.0</td>\n      <td>0.0</td>\n    </tr>\n    <tr>\n      <th>freq</th>\n      <td>146176.0</td>\n      <td>146015.0</td>\n      <td>146471.0</td>\n    </tr>\n  </tbody>\n</table>\n</div>"
     },
     "execution_count": 6,
     "metadata": {},
     "output_type": "execute_result"
    }
   ],
   "source": [
    "print(df_eye_state[\"combined\"].unique())\n",
    "df_eye_state.describe()"
   ]
  },
  {
   "cell_type": "code",
   "execution_count": 7,
   "metadata": {},
   "outputs": [],
   "source": [
    "df_closure_and_state = df_eye_closure.join(df_eye_state, rsuffix=\"_eye_state\", lsuffix=\"_eye_closure\")"
   ]
  },
  {
   "cell_type": "markdown",
   "metadata": {},
   "source": [
    "### Questions:\n",
    "- What does it mean if the eye_closure value is negative? -- shouldnt be the case -> set to zero\n",
    "- What does the 'eye_state' represent? --> documentation (should be available in moodle soon)\n",
    "- What are session types: a,b,s ? (alcohol, baseline, sleep deprived)\n",
    "- Why are some entries None ? -> no eyes in the image\n"
   ]
  },
  {
   "cell_type": "markdown",
   "metadata": {},
   "source": [
    "### Further steps\n",
    "\n",
    "- labels are not given for all frames -> how to interpolate labels?\n",
    "    * split frames between end of first block and beginning of second block into the labels which are closer\n",
    "    * linear interpolation\n",
    "- calculate features like blink properties and time of closed pair of eyes\n",
    "    - train linear classifier on these features\n",
    "- train neural network on eye closure signal and compare to linear classifier"
   ]
  },
  {
   "cell_type": "code",
   "execution_count": 8,
   "metadata": {},
   "outputs": [
    {
     "name": "stdout",
     "output_type": "stream",
     "text": [
      "Column combined_eye_closure has 0 nans that appear in no other column.\n",
      "Column left_image_eye_closure has 87 nans that appear in no other column.\n",
      "Column right_image_eye_closure has 63 nans that appear in no other column.\n",
      "Column combined_eye_state has 0 nans that appear in no other column.\n",
      "Column left_image_eye_state has 0 nans that appear in no other column.\n",
      "Column right_image_eye_state has 0 nans that appear in no other column.\n"
     ]
    }
   ],
   "source": [
    "from functools import reduce\n",
    "\n",
    "#combined_nans = set(df_eye_closure.loc[df_eye_closure[\"combined\"].isna()].index)\n",
    "\n",
    "def get_nan_intersections(df: pd.DataFrame):\n",
    "    nan_indices = dict()\n",
    "    for column in df.columns:\n",
    "        nan_indices[column] = set(df.loc[df[column].isna()].index)\n",
    "    \n",
    "    for column in df.columns:\n",
    "        nan_indices_copy = nan_indices.copy()\n",
    "        col_indices = set(nan_indices_copy.pop(column))\n",
    "        other_indices = reduce(lambda x,y: set(x) | set(y), nan_indices_copy.values())\n",
    "        unique_nans = col_indices - other_indices\n",
    "        print(f\"Column {column} has {len(unique_nans)} nans that appear in no other column.\")\n",
    "    \n",
    "        \n",
    "        \n",
    "get_nan_intersections(df_closure_and_state)"
   ]
  },
  {
   "cell_type": "code",
   "execution_count": 9,
   "metadata": {},
   "outputs": [
    {
     "data": {
      "text/plain": "{1, 2}"
     },
     "execution_count": 9,
     "metadata": {},
     "output_type": "execute_result"
    }
   ],
   "source": [
    "reduce(lambda x,y: set(x) | set(y), [[1], [2]])"
   ]
  },
  {
   "cell_type": "markdown",
   "metadata": {},
   "source": [
    "## Target data "
   ]
  },
  {
   "cell_type": "code",
   "execution_count": 10,
   "metadata": {
    "scrolled": true
   },
   "outputs": [
    {
     "name": "stdout",
     "output_type": "stream",
     "text": [
      "sleep_alc_labels/001_1_a_alcohol_consumptions.csv\n",
      "sleep_alc_labels/001_1_a_karolinska.csv\n",
      "sleep_alc_labels/001_1_a_pvt_scores.csv\n",
      "sleep_alc_labels/001_1_a_pvt_reaction_times.csv\n",
      "sleep_alc_labels/001_1_a_alcohol_measurements.csv\n"
     ]
    }
   ],
   "source": [
    "session_identifier = \"001_1_a\"\n",
    "files = [str(p) for p in Path(\"sleep_alc_labels/\").iterdir()]\n",
    "    \n",
    "session_files = [file for file in files if session_identifier in file]\n",
    "print(\"\\n\".join(session_files))"
   ]
  },
  {
   "cell_type": "code",
   "execution_count": 11,
   "metadata": {},
   "outputs": [],
   "source": [
    "df_pvt_reaction_times = pd.read_csv(\"sleep_alc_labels/001_1_a_pvt_reaction_times.csv\")\n",
    "df_alcohol_measurement = pd.read_csv(\"sleep_alc_labels/001_1_a_alcohol_measurements.csv\")\n",
    "df_karolinka = pd.read_csv(\"sleep_alc_labels/001_1_a_karolinska.csv\")\n",
    "df_alcohol_consumptions = pd.read_csv(\"sleep_alc_labels/001_1_a_alcohol_consumptions.csv\")\n",
    "df_pvt_scores = pd.read_csv(\"sleep_alc_labels/001_1_a_pvt_scores.csv\")"
   ]
  },
  {
   "cell_type": "code",
   "execution_count": 12,
   "metadata": {},
   "outputs": [
    {
     "data": {
      "text/plain": "   frame_begin  frame_end\n0        13397      14760\n1        38835      40104",
      "text/html": "<div>\n<style scoped>\n    .dataframe tbody tr th:only-of-type {\n        vertical-align: middle;\n    }\n\n    .dataframe tbody tr th {\n        vertical-align: top;\n    }\n\n    .dataframe thead th {\n        text-align: right;\n    }\n</style>\n<table border=\"1\" class=\"dataframe\">\n  <thead>\n    <tr style=\"text-align: right;\">\n      <th></th>\n      <th>frame_begin</th>\n      <th>frame_end</th>\n    </tr>\n  </thead>\n  <tbody>\n    <tr>\n      <th>0</th>\n      <td>13397</td>\n      <td>14760</td>\n    </tr>\n    <tr>\n      <th>1</th>\n      <td>38835</td>\n      <td>40104</td>\n    </tr>\n  </tbody>\n</table>\n</div>"
     },
     "execution_count": 12,
     "metadata": {},
     "output_type": "execute_result"
    }
   ],
   "source": [
    "df_alcohol_consumptions.head(2)"
   ]
  },
  {
   "cell_type": "code",
   "execution_count": 18,
   "metadata": {},
   "outputs": [
    {
     "data": {
      "text/plain": "   frame_begin  frame_end  promille\n0         9480      13377      0.00\n1        37520      38814      0.08",
      "text/html": "<div>\n<style scoped>\n    .dataframe tbody tr th:only-of-type {\n        vertical-align: middle;\n    }\n\n    .dataframe tbody tr th {\n        vertical-align: top;\n    }\n\n    .dataframe thead th {\n        text-align: right;\n    }\n</style>\n<table border=\"1\" class=\"dataframe\">\n  <thead>\n    <tr style=\"text-align: right;\">\n      <th></th>\n      <th>frame_begin</th>\n      <th>frame_end</th>\n      <th>promille</th>\n    </tr>\n  </thead>\n  <tbody>\n    <tr>\n      <th>0</th>\n      <td>9480</td>\n      <td>13377</td>\n      <td>0.00</td>\n    </tr>\n    <tr>\n      <th>1</th>\n      <td>37520</td>\n      <td>38814</td>\n      <td>0.08</td>\n    </tr>\n  </tbody>\n</table>\n</div>"
     },
     "execution_count": 18,
     "metadata": {},
     "output_type": "execute_result"
    }
   ],
   "source": [
    "df_alcohol_measurement.head(2)"
   ]
  },
  {
   "cell_type": "code",
   "execution_count": 14,
   "metadata": {},
   "outputs": [
    {
     "data": {
      "text/plain": "   frame_begin  frame_end  response_karolinska\n0         8976       9457                    6\n1        37179      37497                    4\n2        46970      47153                    4\n3        49657      49757                    4\n4        55587      55757                    3",
      "text/html": "<div>\n<style scoped>\n    .dataframe tbody tr th:only-of-type {\n        vertical-align: middle;\n    }\n\n    .dataframe tbody tr th {\n        vertical-align: top;\n    }\n\n    .dataframe thead th {\n        text-align: right;\n    }\n</style>\n<table border=\"1\" class=\"dataframe\">\n  <thead>\n    <tr style=\"text-align: right;\">\n      <th></th>\n      <th>frame_begin</th>\n      <th>frame_end</th>\n      <th>response_karolinska</th>\n    </tr>\n  </thead>\n  <tbody>\n    <tr>\n      <th>0</th>\n      <td>8976</td>\n      <td>9457</td>\n      <td>6</td>\n    </tr>\n    <tr>\n      <th>1</th>\n      <td>37179</td>\n      <td>37497</td>\n      <td>4</td>\n    </tr>\n    <tr>\n      <th>2</th>\n      <td>46970</td>\n      <td>47153</td>\n      <td>4</td>\n    </tr>\n    <tr>\n      <th>3</th>\n      <td>49657</td>\n      <td>49757</td>\n      <td>4</td>\n    </tr>\n    <tr>\n      <th>4</th>\n      <td>55587</td>\n      <td>55757</td>\n      <td>3</td>\n    </tr>\n  </tbody>\n</table>\n</div>"
     },
     "execution_count": 14,
     "metadata": {},
     "output_type": "execute_result"
    }
   ],
   "source": [
    "df_karolinka.head()"
   ]
  },
  {
   "cell_type": "code",
   "execution_count": 15,
   "metadata": {},
   "outputs": [
    {
     "data": {
      "text/plain": "     frame_begin  frame_end  reaction_time  block_id\n0          17639      17767         266.39         1\n1          17767      18107         278.11         1\n2          18107      18265         259.19         1\n3          18265      18514         266.58         1\n4          18514      18703         271.66         1\n..           ...        ...            ...       ...\n239       166823     167105         360.59         3\n240       167105     167326         315.04         3\n241       167326     167667         331.77         3\n242       167667     167830         403.87         3\n243       167830     168110         317.64         3\n\n[244 rows x 4 columns]",
      "text/html": "<div>\n<style scoped>\n    .dataframe tbody tr th:only-of-type {\n        vertical-align: middle;\n    }\n\n    .dataframe tbody tr th {\n        vertical-align: top;\n    }\n\n    .dataframe thead th {\n        text-align: right;\n    }\n</style>\n<table border=\"1\" class=\"dataframe\">\n  <thead>\n    <tr style=\"text-align: right;\">\n      <th></th>\n      <th>frame_begin</th>\n      <th>frame_end</th>\n      <th>reaction_time</th>\n      <th>block_id</th>\n    </tr>\n  </thead>\n  <tbody>\n    <tr>\n      <th>0</th>\n      <td>17639</td>\n      <td>17767</td>\n      <td>266.39</td>\n      <td>1</td>\n    </tr>\n    <tr>\n      <th>1</th>\n      <td>17767</td>\n      <td>18107</td>\n      <td>278.11</td>\n      <td>1</td>\n    </tr>\n    <tr>\n      <th>2</th>\n      <td>18107</td>\n      <td>18265</td>\n      <td>259.19</td>\n      <td>1</td>\n    </tr>\n    <tr>\n      <th>3</th>\n      <td>18265</td>\n      <td>18514</td>\n      <td>266.58</td>\n      <td>1</td>\n    </tr>\n    <tr>\n      <th>4</th>\n      <td>18514</td>\n      <td>18703</td>\n      <td>271.66</td>\n      <td>1</td>\n    </tr>\n    <tr>\n      <th>...</th>\n      <td>...</td>\n      <td>...</td>\n      <td>...</td>\n      <td>...</td>\n    </tr>\n    <tr>\n      <th>239</th>\n      <td>166823</td>\n      <td>167105</td>\n      <td>360.59</td>\n      <td>3</td>\n    </tr>\n    <tr>\n      <th>240</th>\n      <td>167105</td>\n      <td>167326</td>\n      <td>315.04</td>\n      <td>3</td>\n    </tr>\n    <tr>\n      <th>241</th>\n      <td>167326</td>\n      <td>167667</td>\n      <td>331.77</td>\n      <td>3</td>\n    </tr>\n    <tr>\n      <th>242</th>\n      <td>167667</td>\n      <td>167830</td>\n      <td>403.87</td>\n      <td>3</td>\n    </tr>\n    <tr>\n      <th>243</th>\n      <td>167830</td>\n      <td>168110</td>\n      <td>317.64</td>\n      <td>3</td>\n    </tr>\n  </tbody>\n</table>\n<p>244 rows × 4 columns</p>\n</div>"
     },
     "execution_count": 15,
     "metadata": {},
     "output_type": "execute_result"
    }
   ],
   "source": [
    "df_pvt_reaction_times"
   ]
  },
  {
   "cell_type": "code",
   "execution_count": 16,
   "metadata": {},
   "outputs": [
    {
     "data": {
      "text/plain": "   frame_begin  frame_end  pvt_n_lapses_500ms  pvt_n_lapses_60s  \\\n0        14762      35638                   1                 0   \n1        83408     102683                   0                 0   \n2       147900     168111                   2                 0   \n\n   pvt_median_rt  pvt_mean_rt  pvt_mean_log_rt  \\\n0        304.860   313.137590         5.738631   \n1        304.095   311.455976         5.734481   \n2        310.120   333.161266         5.778298   \n\n   pvt_mean_slowest_10_percent_rt  pvt_mean_fastest_10_percent_rt  \n0                      398.075556                      266.249000  \n1                      396.156667                      265.771000  \n2                      543.625000                      246.265556  ",
      "text/html": "<div>\n<style scoped>\n    .dataframe tbody tr th:only-of-type {\n        vertical-align: middle;\n    }\n\n    .dataframe tbody tr th {\n        vertical-align: top;\n    }\n\n    .dataframe thead th {\n        text-align: right;\n    }\n</style>\n<table border=\"1\" class=\"dataframe\">\n  <thead>\n    <tr style=\"text-align: right;\">\n      <th></th>\n      <th>frame_begin</th>\n      <th>frame_end</th>\n      <th>pvt_n_lapses_500ms</th>\n      <th>pvt_n_lapses_60s</th>\n      <th>pvt_median_rt</th>\n      <th>pvt_mean_rt</th>\n      <th>pvt_mean_log_rt</th>\n      <th>pvt_mean_slowest_10_percent_rt</th>\n      <th>pvt_mean_fastest_10_percent_rt</th>\n    </tr>\n  </thead>\n  <tbody>\n    <tr>\n      <th>0</th>\n      <td>14762</td>\n      <td>35638</td>\n      <td>1</td>\n      <td>0</td>\n      <td>304.860</td>\n      <td>313.137590</td>\n      <td>5.738631</td>\n      <td>398.075556</td>\n      <td>266.249000</td>\n    </tr>\n    <tr>\n      <th>1</th>\n      <td>83408</td>\n      <td>102683</td>\n      <td>0</td>\n      <td>0</td>\n      <td>304.095</td>\n      <td>311.455976</td>\n      <td>5.734481</td>\n      <td>396.156667</td>\n      <td>265.771000</td>\n    </tr>\n    <tr>\n      <th>2</th>\n      <td>147900</td>\n      <td>168111</td>\n      <td>2</td>\n      <td>0</td>\n      <td>310.120</td>\n      <td>333.161266</td>\n      <td>5.778298</td>\n      <td>543.625000</td>\n      <td>246.265556</td>\n    </tr>\n  </tbody>\n</table>\n</div>"
     },
     "execution_count": 16,
     "metadata": {},
     "output_type": "execute_result"
    }
   ],
   "source": [
    "df_pvt_scores"
   ]
  },
  {
   "cell_type": "code",
   "execution_count": 16,
   "metadata": {},
   "outputs": [],
   "source": []
  },
  {
   "cell_type": "code",
   "execution_count": 16,
   "metadata": {},
   "outputs": [],
   "source": []
  }
 ],
 "metadata": {
  "kernelspec": {
   "display_name": "Python 3",
   "language": "python",
   "name": "python3"
  },
  "language_info": {
   "codemirror_mode": {
    "name": "ipython",
    "version": 3
   },
   "file_extension": ".py",
   "mimetype": "text/x-python",
   "name": "python",
   "nbconvert_exporter": "python",
   "pygments_lexer": "ipython3",
   "version": "3.6.9"
  }
 },
 "nbformat": 4,
 "nbformat_minor": 4
}