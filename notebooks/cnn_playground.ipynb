{
 "cells": [
  {
   "cell_type": "code",
   "execution_count": 1,
   "outputs": [],
   "source": [
    "\n",
    "from tensorflow import keras as keras\n",
    "\n",
    "from drowsiness_detection import config\n",
    "from drowsiness_detection.data import load_experiment_data\n",
    "from drowsiness_detection.models import ThreeDStandardScaler\n",
    "import matplotlib.pyplot as plt\n",
    "import numpy as np\n",
    "from contextlib import redirect_stdout\n",
    "from sklearn.metrics import classification_report\n",
    "from drowsiness_detection.data import session_type_mapping, label_names_dict"
   ],
   "metadata": {
    "collapsed": false,
    "pycharm": {
     "name": "#%%\n"
    }
   }
  },
  {
   "cell_type": "code",
   "execution_count": null,
   "outputs": [],
   "source": [
    "# load data\n",
    "config.set_paths(30, 60)\n",
    "X_train, X_test, y_train, y_test, cv_splits = load_experiment_data(\n",
    "    exclude_by=\"a\",\n",
    "    num_targets=2,\n",
    "    seed=45,\n",
    "    test_size=.2,\n",
    "    split_by_subjects=True,\n",
    "    use_dummy_data=False,\n",
    "    nn_experiment=True,\n",
    "    feature_col_indices=(5, 8, 9, 14, 15, 16, 19),\n",
    "    model_name=\"mvts_transformer\")"
   ],
   "metadata": {
    "collapsed": false,
    "pycharm": {
     "name": "#%%\n",
     "is_executing": true
    }
   }
  },
  {
   "cell_type": "code",
   "execution_count": null,
   "outputs": [],
   "source": [
    "num_samples = None\n",
    "X_train = X_train[:num_samples]\n",
    "X_test = X_test[:num_samples]\n",
    "y_test = y_test[:num_samples]\n",
    "y_train = y_train[:num_samples]\n",
    "\n"
   ],
   "metadata": {
    "collapsed": false,
    "pycharm": {
     "name": "#%%\n",
     "is_executing": true
    }
   }
  },
  {
   "cell_type": "code",
   "execution_count": null,
   "outputs": [],
   "source": [
    "scaler = ThreeDStandardScaler(feature_axis=-1)\n",
    "\n",
    "X_train_scaled = scaler.fit_transform(X_train, y_train)\n",
    "X_test_scaled = scaler.transform(X_test)"
   ],
   "metadata": {
    "collapsed": false,
    "pycharm": {
     "name": "#%%\n",
     "is_executing": true
    }
   }
  },
  {
   "cell_type": "code",
   "execution_count": null,
   "outputs": [],
   "source": [
    "input_shape = (100, 1800, 7)\n",
    "\n",
    "num_filters = 64,16,4\n",
    "kernel_sizes =  5, 3, 3\n",
    "strides = 3,1,1\n",
    "\n",
    "input_layer = keras.layers.Input(input_shape[1:])\n",
    "conv_layer1 = keras.layers.Conv1D(filters=num_filters[0], kernel_size=kernel_sizes[0],\n",
    "                                  strides=strides[0],\n",
    "                                  padding=\"same\")(input_layer)\n",
    "conv_layer1 = keras.layers.BatchNormalization()(conv_layer1)\n",
    "conv_layer1 = keras.layers.ReLU()(conv_layer1)\n",
    "\n",
    "conv_layer2 = keras.layers.Conv1D(filters=num_filters[1], kernel_size=kernel_sizes[1],\n",
    "                                  strides=strides[1],\n",
    "                                  padding=\"same\")(conv_layer1)\n",
    "conv_layer2 = keras.layers.BatchNormalization()(conv_layer2)\n",
    "conv_layer2 = keras.layers.ReLU()(conv_layer2)\n",
    "\n",
    "conv_layer3 = keras.layers.Conv1D(filters=num_filters[2], kernel_size=kernel_sizes[2],\n",
    "                                  strides=strides[2],\n",
    "                                  padding=\"same\")(conv_layer2)\n",
    "conv_layer3 = keras.layers.BatchNormalization()(conv_layer3)\n",
    "conv_layer3 = keras.layers.ReLU()(conv_layer3)\n",
    "\n",
    "pool_layer = keras.layers.GlobalMaxPool1D()(conv_layer3)\n",
    "# pool_layer = keras.layers.GlobalAvgPool1D()(conv_layer3)\n",
    "\n",
    "dense_layer = keras.layers.Dense(64, activation='relu')(pool_layer)\n",
    "dropout_layer = keras.layers.Dropout(0.8)(dense_layer)\n",
    "output_layer = keras.layers.Dense(1, activation=\"sigmoid\")(dropout_layer)\n",
    "\n",
    "model = keras.models.Model(inputs=input_layer, outputs=output_layer)\n",
    "\n",
    "optimizer = keras.optimizers.Adam(learning_rate=0.001)\n",
    "model.compile(loss='binary_crossentropy', optimizer=optimizer, metrics=['accuracy'])\n",
    "print(model.summary())\n",
    "\n"
   ],
   "metadata": {
    "collapsed": false,
    "pycharm": {
     "name": "#%%\n",
     "is_executing": true
    }
   }
  },
  {
   "cell_type": "code",
   "execution_count": null,
   "outputs": [],
   "source": [
    "history = model.fit(\n",
    "    x=X_train_scaled,\n",
    "    y=y_train,\n",
    "    epochs=3,\n",
    "    class_weight={0: 0.84, 1: 1.14},\n",
    "    batch_size=16,\n",
    "    validation_data=(X_test_scaled, y_test),\n",
    "    # use_multiprocessing=False,\n",
    "    # workers=7\n",
    "\n",
    ")"
   ],
   "metadata": {
    "collapsed": false,
    "pycharm": {
     "name": "#%%\n",
     "is_executing": true
    }
   }
  },
  {
   "cell_type": "code",
   "execution_count": null,
   "outputs": [],
   "source": [
    "def plot_history(history):\n",
    "    # summarize history for accuracy\n",
    "    plt.plot(history.history['accuracy'])\n",
    "    plt.plot(history.history['val_accuracy'])\n",
    "    plt.title('model accuracy')\n",
    "    plt.ylabel('accuracy')\n",
    "    plt.xlabel('epoch')\n",
    "    plt.legend(['train', 'test'], loc='upper left')\n",
    "    plt.show()\n",
    "    # summarize history for loss\n",
    "    plt.plot(history.history['loss'])\n",
    "    plt.plot(history.history['val_loss'])\n",
    "    plt.title('model loss')\n",
    "    plt.ylabel('loss')\n",
    "    plt.xlabel('epoch')\n",
    "    plt.legend(['train', 'test'], loc='upper left')\n",
    "    plt.show()\n",
    "\n",
    "def save_summary(model):\n",
    "    y_hat = (model.predict(X_test_scaled)>.5)\n",
    "    acc = np.mean(y_hat == y_test)\n",
    "\n",
    "    print(\"mean-prediction\", np.mean(y_hat))\n",
    "    with open(\"summaries.csv\", \"a\") as fp:\n",
    "        fp.write(str(round(acc,4)) + \"\\n\")\n",
    "        with redirect_stdout(fp):\n",
    "             model.summary()\n",
    "        fp.write(\"\\n\")\n",
    "\n",
    "    report = classification_report(y_true=y_test, y_pred=y_hat,\n",
    "                                   target_names=label_names_dict[2])\n",
    "    print(report)\n",
    "\n",
    "\n",
    "\n",
    "save_summary(model)\n",
    "plot_history(history)"
   ],
   "metadata": {
    "collapsed": false,
    "pycharm": {
     "name": "#%%\n",
     "is_executing": true
    }
   }
  },
  {
   "cell_type": "markdown",
   "source": [],
   "metadata": {
    "collapsed": false,
    "pycharm": {
     "name": "#%% md\n"
    }
   }
  },
  {
   "cell_type": "code",
   "execution_count": null,
   "outputs": [],
   "source": [
    "from sklearn.metrics import RocCurveDisplay\n",
    "\n",
    "y_hat = model.predict(X_test_scaled)\n",
    "\n",
    "RocCurveDisplay.from_predictions( y_pred=y_hat, y_true=y_test, pos_label=1)"
   ],
   "metadata": {
    "collapsed": false,
    "pycharm": {
     "name": "#%%\n",
     "is_executing": true
    }
   }
  },
  {
   "cell_type": "code",
   "execution_count": null,
   "outputs": [],
   "source": [],
   "metadata": {
    "collapsed": false,
    "pycharm": {
     "name": "#%%\n",
     "is_executing": true
    }
   }
  },
  {
   "cell_type": "code",
   "execution_count": null,
   "outputs": [],
   "source": [],
   "metadata": {
    "collapsed": false,
    "pycharm": {
     "name": "#%%\n",
     "is_executing": true
    }
   }
  }
 ],
 "metadata": {
  "kernelspec": {
   "display_name": "Python 3",
   "language": "python",
   "name": "python3"
  },
  "language_info": {
   "codemirror_mode": {
    "name": "ipython",
    "version": 2
   },
   "file_extension": ".py",
   "mimetype": "text/x-python",
   "name": "python",
   "nbconvert_exporter": "python",
   "pygments_lexer": "ipython2",
   "version": "2.7.6"
  }
 },
 "nbformat": 4,
 "nbformat_minor": 0
}