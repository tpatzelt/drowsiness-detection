{
 "cells": [
  {
   "cell_type": "code",
   "execution_count": null,
   "metadata": {
    "collapsed": true
   },
   "outputs": [],
   "source": [
    "from pprint import pprint\n",
    "\n",
    "from sklearnex import patch_sklearn\n",
    "\n",
    "from drowsiness_detection.run_grid_search_experiment import base\n",
    "\n",
    "from sklearn.experimental import enable_halving_search_cv  # noqa\n",
    "import matplotlib.pyplot as plt\n",
    "from drowsiness_detection import config\n",
    "\n",
    "from drowsiness_detection.data import (session_type_mapping, get_feature_data,\n",
    "    preprocess_feature_data, label_names_dict)\n",
    "import math"
   ]
  },
  {
   "cell_type": "code",
   "execution_count": null,
   "outputs": [],
   "source": [
    "config.set_paths(30, 20)\n"
   ],
   "metadata": {
    "collapsed": false
   }
  },
  {
   "cell_type": "code",
   "execution_count": null,
   "outputs": [],
   "source": [
    "data = get_feature_data(data_path=config.PATHS.WINDOW_FEATURES)\n"
   ],
   "metadata": {
    "collapsed": false
   }
  },
  {
   "cell_type": "code",
   "execution_count": null,
   "outputs": [],
   "source": [
    "data.shape"
   ],
   "metadata": {
    "collapsed": false
   }
  },
  {
   "cell_type": "code",
   "execution_count": null,
   "outputs": [],
   "source": [
    "base_config = base()\n",
    "pprint(base_config)"
   ],
   "metadata": {
    "collapsed": false
   }
  },
  {
   "cell_type": "code",
   "execution_count": null,
   "outputs": [],
   "source": [
    "plt.rcParams[\"figure.figsize\"] = 10,10\n",
    "num_targets_options = 2,3,5,9\n",
    "rows = math.floor(len(num_targets_options)/2)\n",
    "cols = math.ceil(len(num_targets_options)/2)\n",
    "fig,axes = plt.subplots(rows, cols)\n",
    "\n",
    "\n",
    "for num_targets,ax in zip(num_targets_options, axes.flatten()):\n",
    "    data = get_feature_data(data_path=config.PATHS.WINDOW_FEATURES)\n",
    "    X, y = preprocess_feature_data(feature_data=data,\n",
    "                                   exclude_sess_type=session_type_mapping[base_config[\"exclude_by\"]], num_targets=num_targets)\n",
    "\n",
    "    ax.hist(y, bins=[x-.5 for x in range(num_targets+1)], align='mid', rwidth=.8)\n",
    "    ax.set_xticks(range(num_targets))\n",
    "    ax.set_xticklabels(label_names_dict[num_targets])\n",
    "    ax.set_title(f\"Num Classes: {num_targets}\")\n",
    "plt.suptitle(\"Distribution of labels in dataset.\")\n",
    "plt.tight_layout()\n",
    "plt.show()"
   ],
   "metadata": {
    "collapsed": false
   }
  },
  {
   "cell_type": "code",
   "execution_count": null,
   "outputs": [],
   "source": [],
   "metadata": {
    "collapsed": false,
    "pycharm": {
     "is_executing": true
    }
   }
  }
 ],
 "metadata": {
  "kernelspec": {
   "display_name": "Python 3",
   "language": "python",
   "name": "python3"
  },
  "language_info": {
   "codemirror_mode": {
    "name": "ipython",
    "version": 2
   },
   "file_extension": ".py",
   "mimetype": "text/x-python",
   "name": "python",
   "nbconvert_exporter": "python",
   "pygments_lexer": "ipython2",
   "version": "2.7.6"
  }
 },
 "nbformat": 4,
 "nbformat_minor": 0
}
