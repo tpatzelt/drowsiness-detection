{
 "cells": [
  {
   "cell_type": "code",
   "execution_count": 1,
   "outputs": [
    {
     "name": "stderr",
     "output_type": "stream",
     "text": [
      "Intel(R) Extension for Scikit-learn* enabled (https://github.com/intel/scikit-learn-intelex)\n",
      "Intel(R) Extension for Scikit-learn* enabled (https://github.com/intel/scikit-learn-intelex)\n"
     ]
    }
   ],
   "source": [
    "from sklearnex import patch_sklearn\n",
    "\n",
    "patch_sklearn()\n",
    "\n",
    "from drowsiness_detection.visualize import (plot_roc_curve_from_log_dir,\n",
    "                                            load_experiment_objects, plot_cv_test_train_scores_as_scatter)\n",
    "\n"
   ],
   "metadata": {
    "collapsed": false,
    "pycharm": {
     "name": "#%%\n"
    }
   }
  },
  {
   "cell_type": "markdown",
   "source": [
    "plot roc curve and show classification report"
   ],
   "metadata": {
    "collapsed": false,
    "pycharm": {
     "name": "#%% md\n"
    }
   }
  },
  {
   "cell_type": "code",
   "execution_count": 2,
   "outputs": [],
   "source": [
    "minirocket_experiment_id = 117"
   ],
   "metadata": {
    "collapsed": false,
    "pycharm": {
     "name": "#%%\n"
    }
   }
  },
  {
   "cell_type": "code",
   "execution_count": 3,
   "outputs": [
    {
     "name": "stdout",
     "output_type": "stream",
     "text": [
      "loading from experiment with id:  117\n"
     ]
    }
   ],
   "source": [
    "config, best_model, search_results = load_experiment_objects(experiment_id=minirocket_experiment_id,\n",
    "                                                             log_dir=\"../../logs_to_keep/\")"
   ],
   "metadata": {
    "collapsed": false,
    "pycharm": {
     "name": "#%%\n"
    }
   }
  },
  {
   "cell_type": "code",
   "execution_count": 4,
   "outputs": [
    {
     "name": "stdout",
     "output_type": "stream",
     "text": [
      "{'classifier__alpha': 2.154807546828438, 'classifier__class_weight': 'balanced'}\n"
     ]
    }
   ],
   "source": [
    "print(search_results.best_params_)"
   ],
   "metadata": {
    "collapsed": false,
    "pycharm": {
     "name": "#%%\n"
    }
   }
  },
  {
   "cell_type": "code",
   "execution_count": 5,
   "outputs": [
    {
     "data": {
      "text/plain": "{'mean_fit_time': array([525.36720896, 545.75071311, 540.6481688 , 544.77238989,\n        543.81977248]),\n 'std_fit_time': array([0., 0., 0., 0., 0.]),\n 'mean_score_time': array([188.26467347, 191.6729176 , 190.052706  , 192.71143889,\n        190.56609988]),\n 'std_score_time': array([0., 0., 0., 0., 0.]),\n 'param_classifier__alpha': masked_array(data=[92.69035391921814, 4.452810166265693,\n                    0.6987823160859715, 0.17055666611404552,\n                    2.154807546828438],\n              mask=[False, False, False, False, False],\n        fill_value='?',\n             dtype=object),\n 'param_classifier__class_weight': masked_array(data=['balanced', 'balanced', 'balanced', 'balanced',\n                    'balanced'],\n              mask=[False, False, False, False, False],\n        fill_value='?',\n             dtype=object),\n 'params': [{'classifier__alpha': 92.69035391921814,\n   'classifier__class_weight': 'balanced'},\n  {'classifier__alpha': 4.452810166265693,\n   'classifier__class_weight': 'balanced'},\n  {'classifier__alpha': 0.6987823160859715,\n   'classifier__class_weight': 'balanced'},\n  {'classifier__alpha': 0.17055666611404552,\n   'classifier__class_weight': 'balanced'},\n  {'classifier__alpha': 2.154807546828438,\n   'classifier__class_weight': 'balanced'}],\n 'split0_test_score': array([0.70904825, 0.71286112, 0.70787505, 0.69057046, 0.7172606 ]),\n 'mean_test_score': array([0.70904825, 0.71286112, 0.70787505, 0.69057046, 0.7172606 ]),\n 'std_test_score': array([0., 0., 0., 0., 0.]),\n 'rank_test_score': array([3, 2, 4, 5, 1], dtype=int32),\n 'split0_train_score': array([0.78669713, 0.8451894 , 0.92031026, 0.96573341, 0.87132763]),\n 'mean_train_score': array([0.78669713, 0.8451894 , 0.92031026, 0.96573341, 0.87132763]),\n 'std_train_score': array([0., 0., 0., 0., 0.])}"
     },
     "execution_count": 5,
     "metadata": {},
     "output_type": "execute_result"
    }
   ],
   "source": [
    "search_results.cv_results_"
   ],
   "metadata": {
    "collapsed": false,
    "pycharm": {
     "name": "#%%\n"
    }
   }
  },
  {
   "cell_type": "code",
   "execution_count": 6,
   "outputs": [
    {
     "data": {
      "text/plain": "<Figure size 432x288 with 1 Axes>",
      "image/png": "[encoded data removed]"
     },
     "metadata": {
      "needs_background": "light"
     },
     "output_type": "display_data"
    }
   ],
   "source": [
    "plot_cv_test_train_scores_as_scatter(search_results=search_results, model_type=\"MINIROCKET\")"
   ],
   "metadata": {
    "collapsed": false,
    "pycharm": {
     "name": "#%%\n"
    }
   }
  },
  {
   "cell_type": "code",
   "execution_count": 7,
   "outputs": [
    {
     "name": "stdout",
     "output_type": "stream",
     "text": [
      "loading from experiment with id:  117\n",
      "X_train shape: (26642, 7, 1800), y_train shape: (26642,)\n",
      "X_test shape: (6494, 7, 1800), y_test shape: (6494,)\n",
      "ID 117\n",
      "mean-prediction 1.0\n",
      "              precision    recall  f1-score   support\n",
      "\n",
      "  not drowsy       0.00      0.00      0.00      3633\n",
      "      drowsy       0.44      1.00      0.61      2861\n",
      "\n",
      "    accuracy                           0.44      6494\n",
      "   macro avg       0.22      0.50      0.31      6494\n",
      "weighted avg       0.19      0.44      0.27      6494\n",
      "\n"
     ]
    },
    {
     "name": "stderr",
     "output_type": "stream",
     "text": [
      "/home/tim/IM/venv/lib/python3.9/site-packages/sklearn/metrics/_classification.py:1318: UndefinedMetricWarning: Precision and F-score are ill-defined and being set to 0.0 in labels with no predicted samples. Use `zero_division` parameter to control this behavior.\n",
      "  _warn_prf(average, modifier, msg_start, len(result))\n",
      "/home/tim/IM/venv/lib/python3.9/site-packages/sklearn/metrics/_classification.py:1318: UndefinedMetricWarning: Precision and F-score are ill-defined and being set to 0.0 in labels with no predicted samples. Use `zero_division` parameter to control this behavior.\n",
      "  _warn_prf(average, modifier, msg_start, len(result))\n",
      "/home/tim/IM/venv/lib/python3.9/site-packages/sklearn/metrics/_classification.py:1318: UndefinedMetricWarning: Precision and F-score are ill-defined and being set to 0.0 in labels with no predicted samples. Use `zero_division` parameter to control this behavior.\n",
      "  _warn_prf(average, modifier, msg_start, len(result))\n"
     ]
    },
    {
     "data": {
      "text/plain": "<Figure size 432x288 with 1 Axes>",
      "image/png": "[encoded data removed]"
     },
     "metadata": {
      "needs_background": "light"
     },
     "output_type": "display_data"
    }
   ],
   "source": [
    "plot_roc_curve_from_log_dir(experiment_id=minirocket_experiment_id, log_dir=\"../../logs_to_keep/\")"
   ],
   "metadata": {
    "collapsed": false,
    "pycharm": {
     "name": "#%%\n"
    }
   }
  },
  {
   "cell_type": "code",
   "execution_count": 7,
   "outputs": [],
   "source": [],
   "metadata": {
    "collapsed": false,
    "pycharm": {
     "name": "#%%\n"
    }
   }
  },
  {
   "cell_type": "code",
   "execution_count": 7,
   "outputs": [],
   "source": [],
   "metadata": {
    "collapsed": false,
    "pycharm": {
     "name": "#%%\n"
    }
   }
  },
  {
   "cell_type": "code",
   "execution_count": 7,
   "outputs": [],
   "source": [],
   "metadata": {
    "collapsed": false,
    "pycharm": {
     "name": "#%%\n"
    }
   }
  }
 ],
 "metadata": {
  "kernelspec": {
   "display_name": "Python 3",
   "language": "python",
   "name": "python3"
  },
  "language_info": {
   "codemirror_mode": {
    "name": "ipython",
    "version": 3
   },
   "file_extension": ".py",
   "mimetype": "text/x-python",
   "name": "python",
   "nbconvert_exporter": "python",
   "pygments_lexer": "ipython3",
   "version": "3.9.7"
  }
 },
 "nbformat": 4,
 "nbformat_minor": 1
}