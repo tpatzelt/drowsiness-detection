{
 "cells": [
  {
   "cell_type": "markdown",
   "source": [
    "## Blink Features\n",
    "The notebook should show how each of the features is calculated from the raw eye closure signal.\n",
    "1. Test data is created\n",
    "2. Blink events are identified\n",
    "3. Blink events are validated visually\n",
    "4. Start and Stop of each event is adjusted\n",
    "5. Different Variables are calculated from eye closure signal and blink events."
   ],
   "metadata": {
    "collapsed": false
   }
  },
  {
   "cell_type": "code",
   "execution_count": 66,
   "metadata": {
    "pycharm": {
     "name": "#%%\n"
    }
   },
   "outputs": [],
   "source": [
    "import copy\n",
    "from functools import cached_property, cache\n",
    "from typing import List, Set, Dict, Tuple\n",
    "\n",
    "import matplotlib\n",
    "import matplotlib.pyplot as plt\n",
    "import numpy as np\n",
    "import pandas as pd\n",
    "from sortedcontainers import SortedSet\n",
    "from tqdm import tqdm\n",
    "\n",
    "from drowsiness_detection.data import create_eye_closure_karolinksa_dataset\n",
    "from drowsiness_detection.visualize import show_frame_slider\n",
    "\n",
    "np.random.seed(42)"
   ]
  },
  {
   "cell_type": "code",
   "execution_count": 67,
   "metadata": {},
   "outputs": [],
   "source": [
    "matplotlib.use(\"TkAgg\")  ## needed to spawn an external interactive plot"
   ]
  },
  {
   "cell_type": "markdown",
   "source": [
    "### 1. Create Test Data"
   ],
   "metadata": {
    "collapsed": false
   }
  },
  {
   "cell_type": "code",
   "execution_count": 128,
   "outputs": [
    {
     "name": "stdout",
     "output_type": "stream",
     "text": [
      "Extracting file /home/tim/IM/data/potsdam_aeye_112020/001_1_a.json and response file: /home/tim/IM/data/sleep_alc_labels/001_1_a_karolinska.csv.\n",
      "(168847,) [0.26446234 0.26638446 0.27353404 0.27267501 0.26480057]\n",
      "data for 93 mins.\n"
     ]
    }
   ],
   "source": [
    "n_samples = -1\n",
    "data = next(create_eye_closure_karolinksa_dataset())\n",
    "targets = data[\"kss\"].to_numpy()\n",
    "data = data[\"eye_closure\"].to_numpy()\n",
    "print(data.shape, data[:5])\n",
    "data_mins = len(data) // 1800\n",
    "print(f\"data for {data_mins} mins.\")\n",
    "data_copy = data.copy()"
   ],
   "metadata": {
    "collapsed": false,
    "pycharm": {
     "name": "#%%\n"
    }
   }
  },
  {
   "cell_type": "markdown",
   "source": [
    "### 2. Identify Blink Events"
   ],
   "metadata": {
    "collapsed": false
   }
  },
  {
   "cell_type": "markdown",
   "source": [
    "Check for NaNs:"
   ],
   "metadata": {
    "collapsed": false
   }
  },
  {
   "cell_type": "code",
   "execution_count": 69,
   "outputs": [
    {
     "name": "stdout",
     "output_type": "stream",
     "text": [
      "18913\n"
     ]
    }
   ],
   "source": [
    "nan_mask = np.isnan(data)\n",
    "print(sum(nan_mask))"
   ],
   "metadata": {
    "collapsed": false,
    "pycharm": {
     "name": "#%%\n"
    }
   }
  },
  {
   "cell_type": "code",
   "execution_count": 70,
   "outputs": [
    {
     "name": "stdout",
     "output_type": "stream",
     "text": [
      "std=0.09638660623372379, mean=0.29620456096475956\n"
     ]
    }
   ],
   "source": [
    "std = np.nanstd(data)\n",
    "mean = np.nanmean(data)\n",
    "print(f\"{std=}, {mean=}\")"
   ],
   "metadata": {
    "collapsed": false,
    "pycharm": {
     "name": "#%%\n"
    }
   }
  },
  {
   "cell_type": "code",
   "execution_count": 71,
   "metadata": {
    "pycharm": {
     "name": "#%%\n"
    }
   },
   "outputs": [],
   "source": [
    "slider, ax = show_frame_slider(data=data)\n",
    "ax.axhline(mean)\n",
    "ax.axhline(mean + 2 * std)\n",
    "ax.axhline(mean + 1 * std)\n",
    "ax.axhline(mean + 0.5 * std)\n",
    "plt.show(block=True)"
   ]
  },
  {
   "cell_type": "markdown",
   "metadata": {
    "pycharm": {
     "name": "#%% md\n"
    }
   },
   "source": [
    "### Validate Blink events manually\n",
    "By manually looking at some blinks in the data along with different standard deviations it seems reasonable to mark every value which is 1 std. above the mean of the signal as interesting. As next step we try to find the maximum value for each group of interesting indices."
   ]
  },
  {
   "cell_type": "code",
   "execution_count": 72,
   "outputs": [],
   "source": [
    "def blink_set_statistics(blink_sets: List[Set]):\n",
    "    num_blink_events = len(blink_sets)\n",
    "    mean_len = np.mean([len(s) for s in blink_sets])\n",
    "    print(f\"There are {num_blink_events} blink events with a mean length of {round(mean_len, 2)}.\")"
   ],
   "metadata": {
    "collapsed": false,
    "pycharm": {
     "name": "#%%\n"
    }
   }
  },
  {
   "cell_type": "code",
   "execution_count": 73,
   "outputs": [
    {
     "name": "stdout",
     "output_type": "stream",
     "text": [
      "There are 888 blink events with a mean length of 6.21.\n",
      "Found an average of 9 blinks per minute.\n"
     ]
    }
   ],
   "source": [
    "def filter_points_above_threshold(threshold: float, data: np.ndarray) -> list:\n",
    "    \"\"\"\n",
    "    \"\"\"\n",
    "    above_std_sets = []\n",
    "    new_set = SortedSet()\n",
    "    it = np.nditer(data, flags=[\"f_index\"])\n",
    "    for value in it:\n",
    "        if value > threshold:\n",
    "            new_set.add(it.index)\n",
    "        else:\n",
    "            if new_set:\n",
    "                above_std_sets.append(new_set)\n",
    "                new_set = SortedSet()\n",
    "    return above_std_sets\n",
    "\n",
    "\n",
    "MIN_CLOSURE_FOR_BLINK = mean + 2 * std\n",
    "blink_sets = filter_points_above_threshold(threshold=MIN_CLOSURE_FOR_BLINK, data=data_copy.copy())\n",
    "\n",
    "blink_set_statistics(blink_sets)\n",
    "print(f\"Found an average of {len(blink_sets) // data_mins} blinks per minute.\")"
   ],
   "metadata": {
    "collapsed": false,
    "pycharm": {
     "name": "#%%\n"
    }
   }
  },
  {
   "cell_type": "code",
   "execution_count": 74,
   "outputs": [
    {
     "name": "stdout",
     "output_type": "stream",
     "text": [
      "After removing blinks shorter than 2 frames there are still a total of 691 blinks.\n",
      "There are 691 blink events with a mean length of 7.58.\n"
     ]
    }
   ],
   "source": [
    "def filter_blink_sets_by_length(min_len: int, sets: list):\n",
    "    return [s for s in sets if len(s) > min_len]\n",
    "\n",
    "\n",
    "MIN_BLINK_LENGTH = 2\n",
    "blink_sets = filter_blink_sets_by_length(min_len=MIN_BLINK_LENGTH, sets=blink_sets)\n",
    "print(f\"After removing blinks shorter than {MIN_BLINK_LENGTH} frames there are still a total of {len(blink_sets)} blinks.\")\n",
    "blink_set_statistics(blink_sets)"
   ],
   "metadata": {
    "collapsed": false,
    "pycharm": {
     "name": "#%%\n"
    }
   }
  },
  {
   "cell_type": "markdown",
   "source": [
    "Visualize the center of each blink event:"
   ],
   "metadata": {
    "collapsed": false,
    "pycharm": {
     "name": "#%% md\n"
    }
   }
  },
  {
   "cell_type": "code",
   "execution_count": 75,
   "outputs": [],
   "source": [
    "blink_sets_means = [np.mean(list(s)) for s in blink_sets]\n",
    "matplotlib.rcParams[\"figure.figsize\"] = 5, 10\n",
    "fig, ax = plt.subplots()\n",
    "ax.set_ylim(0, 2)\n",
    "ax.axhline(1, lw=5)\n",
    "for mean in blink_sets_means:\n",
    "    ax.axvline(mean, c=\"r\", lw=.5)\n",
    "ax.get_xaxis().set_visible(False)\n",
    "ax.get_yaxis().set_visible(False)\n",
    "plt.show(block=True)"
   ],
   "metadata": {
    "collapsed": false,
    "pycharm": {
     "name": "#%%\n"
    }
   }
  },
  {
   "cell_type": "markdown",
   "source": [
    "### Adjust Start and Stop of each Blink event\n",
    "Because the start or stop of a blink event can be below the threshold used for finding blinks, each blink event needs to be extended such that all eye closure changes different from the resting state are included."
   ],
   "metadata": {
    "collapsed": false,
    "pycharm": {
     "name": "#%% md\n"
    }
   }
  },
  {
   "cell_type": "code",
   "execution_count": 76,
   "outputs": [
    {
     "name": "stdout",
     "output_type": "stream",
     "text": [
      "After extending the blink event intervals the mean length changed from 7.58 to 12.8.\n",
      "There are 691 blink events with a mean length of 12.8.\n"
     ]
    }
   ],
   "source": [
    "extended_blink_sets = copy.deepcopy(blink_sets)\n",
    "\n",
    "MIN_CHANGE_OF_BLINK = .01\n",
    "for index_set in extended_blink_sets:\n",
    "    start, stop = index_set[0], index_set[-1]\n",
    "    while (data[start] - data[start - 1]) > MIN_CHANGE_OF_BLINK:\n",
    "        index_set.add(start - 1)\n",
    "        start -= 1\n",
    "    while (data[stop] - data[stop + 1]) > MIN_CHANGE_OF_BLINK:\n",
    "        index_set.add(stop + 1)\n",
    "        stop += 1\n",
    "\n",
    "mean_len = np.mean([len(s) for s in blink_sets])\n",
    "new_mean_len = np.mean([len(s) for s in extended_blink_sets])\n",
    "print(f\"After extending the blink event intervals the mean length changed from {round(mean_len, 2)} to {round(new_mean_len, 2)}.\")\n",
    "blink_set_statistics(extended_blink_sets)"
   ],
   "metadata": {
    "collapsed": false,
    "pycharm": {
     "name": "#%%\n"
    }
   }
  },
  {
   "cell_type": "code",
   "execution_count": 77,
   "outputs": [],
   "source": [
    "# # show new boundaries with horizontal lines\n",
    "# slider, ax = show_frame_slider(data=data)\n",
    "# for index_set in above_std_sets_extended:\n",
    "#     start, stop = index_set[0], index_set[-1]\n",
    "#     ax.axvline(start, c=\"orange\")\n",
    "#     ax.axvline(stop, c=\"orange\")\n",
    "# for index_set in above_std_sets:\n",
    "#     index_list = list(index_set)\n",
    "#     start, stop = index_set[0], index_set[-1]\n",
    "#     ax.axvline(start, c=\"g\")\n",
    "#     ax.axvline(stop, c=\"g\")\n",
    "#\n",
    "#\n",
    "# plt.show(block=True)"
   ],
   "metadata": {
    "collapsed": false,
    "pycharm": {
     "name": "#%%\n"
    }
   }
  },
  {
   "cell_type": "markdown",
   "source": [
    "### Plot old and extended boundaries of each blink event"
   ],
   "metadata": {
    "collapsed": false,
    "pycharm": {
     "name": "#%% md\n"
    }
   }
  },
  {
   "cell_type": "code",
   "execution_count": 78,
   "outputs": [],
   "source": [
    "# show new boundaries with green crosses\n",
    "def plot_blink_sets_start_stop(*args, blink_sets: List[Set], data: np.ndarray, slider=None, ax=None, **kwargs):\n",
    "    if not slider and not ax:\n",
    "        slider, ax = show_frame_slider(data=data)\n",
    "    boundaries = []\n",
    "    for index_set in blink_sets:\n",
    "        start, stop = index_set[0], index_set[-1]\n",
    "        boundaries.append(start)\n",
    "        boundaries.append(stop)\n",
    "    values = [data[index] for index in boundaries]\n",
    "    ax.plot(boundaries, values, *args, **kwargs)\n",
    "    return slider, ax\n",
    "\n",
    "\n",
    "slider, ax = plot_blink_sets_start_stop(\"bo\", blink_sets=blink_sets, data=data, ms=10)\n",
    "\n",
    "plot_blink_sets_start_stop(\"g+\", blink_sets=extended_blink_sets, data=data, slider=slider, ax=ax, mew=3, ms=20)\n",
    "plt.show(block=True)"
   ],
   "metadata": {
    "collapsed": false,
    "pycharm": {
     "name": "#%%\n"
    }
   }
  },
  {
   "cell_type": "code",
   "execution_count": 79,
   "outputs": [],
   "source": [
    "blink_sets = extended_blink_sets"
   ],
   "metadata": {
    "collapsed": false,
    "pycharm": {
     "name": "#%%\n"
    }
   }
  },
  {
   "cell_type": "markdown",
   "source": [
    "### Filter out blink events with an low amplitude height"
   ],
   "metadata": {
    "collapsed": false,
    "pycharm": {
     "name": "#%% md\n"
    }
   }
  },
  {
   "cell_type": "code",
   "execution_count": 155,
   "outputs": [
    {
     "name": "stdout",
     "output_type": "stream",
     "text": [
      "There are 520 blink events with a mean length of 13.11.\n"
     ]
    }
   ],
   "source": [
    "def filter_blink_sets_by_amplitude(data: np.ndarray, blink_sets: List[Set], min_amplitude_heigth: float):\n",
    "    new_blink_sets = []\n",
    "    for blink_set in blink_sets:\n",
    "        values = data[blink_set]\n",
    "        height = max(values) - min(values)\n",
    "        if height > min_amplitude_heigth:\n",
    "            new_blink_sets.append(blink_set)\n",
    "    return new_blink_sets\n",
    "\n",
    "\n",
    "MIN_AMPLITUDE_HEIGHT = std\n",
    "blink_sets_by_amplitude = filter_blink_sets_by_amplitude(data=data_copy.copy(), blink_sets=blink_sets, min_amplitude_heigth=MIN_AMPLITUDE_HEIGHT)\n",
    "blink_set_statistics(blink_sets_by_amplitude)"
   ],
   "metadata": {
    "collapsed": false,
    "pycharm": {
     "name": "#%%\n"
    }
   }
  },
  {
   "cell_type": "code",
   "execution_count": 156,
   "outputs": [],
   "source": [
    "slider, ax = plot_blink_sets_start_stop(\"bo\", blink_sets=blink_sets_by_amplitude, data=data, ms=10)\n",
    "plt.show(block=True)"
   ],
   "metadata": {
    "collapsed": false,
    "pycharm": {
     "name": "#%%\n"
    }
   }
  },
  {
   "cell_type": "code",
   "execution_count": 157,
   "outputs": [],
   "source": [
    "blink_sets = blink_sets_by_amplitude"
   ],
   "metadata": {
    "collapsed": false,
    "pycharm": {
     "name": "#%%\n"
    }
   }
  },
  {
   "cell_type": "markdown",
   "source": [
    "### Filter out blink events where first and last value are more than delta away"
   ],
   "metadata": {
    "collapsed": false,
    "pycharm": {
     "name": "#%% md\n"
    }
   }
  },
  {
   "cell_type": "code",
   "execution_count": 158,
   "outputs": [
    {
     "name": "stdout",
     "output_type": "stream",
     "text": [
      "There are 520 blink events with a mean length of 13.11.\n"
     ]
    }
   ],
   "source": [
    "def filter_blink_sets_by_start_end_delta(data: np.ndarray, blink_sets: List[Set], max_start_end_delta: float):\n",
    "    new_blink_sets = []\n",
    "    for blink_set in blink_sets:\n",
    "        start = data[blink_set[0]]\n",
    "        end = data[blink_set[-1]]\n",
    "        if abs(start - end) < max_start_end_delta:\n",
    "            new_blink_sets.append(blink_set)\n",
    "    return new_blink_sets\n",
    "\n",
    "\n",
    "MAX_START_END_DELTA = std\n",
    "blink_sets = filter_blink_sets_by_start_end_delta(data=data.copy(), blink_sets=blink_sets, max_start_end_delta=MAX_START_END_DELTA)\n",
    "blink_set_statistics(blink_sets)"
   ],
   "metadata": {
    "collapsed": false,
    "pycharm": {
     "name": "#%%\n"
    }
   }
  },
  {
   "cell_type": "code",
   "execution_count": 159,
   "outputs": [],
   "source": [
    "slider, ax = plot_blink_sets_start_stop(\"bo\", blink_sets=blink_sets, data=data, ms=10)\n",
    "plt.show(block=True)"
   ],
   "metadata": {
    "collapsed": false,
    "pycharm": {
     "name": "#%%\n"
    }
   }
  },
  {
   "cell_type": "markdown",
   "source": [
    "### Calculate Basic Features"
   ],
   "metadata": {
    "collapsed": false,
    "pycharm": {
     "name": "#%% md\n"
    }
   }
  },
  {
   "cell_type": "code",
   "execution_count": 160,
   "outputs": [],
   "source": [
    "REOPENING_THRESHOLD = .05\n",
    "eye_closure_data = pd.DataFrame(data_copy.copy())\n",
    "\n",
    "\n",
    "class BlinkEvent:\n",
    "    eye_closure_data = eye_closure_data\n",
    "\n",
    "    def __init__(self, indices: List[int]):\n",
    "        \"\"\"indices contains the index of each value of one blink event. The first\n",
    "        marks the start and the last one the end.\"\"\"\n",
    "        self.indices = indices\n",
    "        self.event_data: pd.DataFrame = self.eye_closure_data.iloc[self.indices]\n",
    "        self._reopen_idx = None\n",
    "        self._closing_end_idx = None\n",
    "        self._blink_interval = -1\n",
    "        self._max_closing_speed_idx = None\n",
    "\n",
    "    @cached_property\n",
    "    def full_closure_idx(self):\n",
    "        return self.event_data.idxmax(axis=\"index\")\n",
    "\n",
    "    @cached_property\n",
    "    def full_closure(self):\n",
    "        return self.event_data[self.full_closure_idx]\n",
    "\n",
    "    @cached_property\n",
    "    def amplitude(self):\n",
    "        return (self.event_data.max() - self.event_data.min())  #[0]\n",
    "\n",
    "    @cached_property\n",
    "    def start_idx(self):\n",
    "        return self.indices[0]\n",
    "\n",
    "    @cached_property\n",
    "    def start(self):\n",
    "        return self.event_data.loc[self.start_idx, 0]\n",
    "\n",
    "    @cached_property\n",
    "    def end_idx(self):\n",
    "        return self.indices[-1]\n",
    "\n",
    "    @cached_property\n",
    "    def end(self):\n",
    "        return self.event_data.loc[self.end_idx, 0]\n",
    "\n",
    "    @cached_property\n",
    "    def reopen_start_idx(self):\n",
    "        if self._reopen_idx:\n",
    "            return self._reopen_idx\n",
    "        reopen_idx = self.full_closure_idx[0]\n",
    "        try:\n",
    "            for idx in self.indices[self.indices.index(reopen_idx + 1):]:\n",
    "                if abs(self.event_data.loc[reopen_idx, 0] - self.event_data.loc[idx, 0]) < REOPENING_THRESHOLD:\n",
    "                    reopen_idx = idx\n",
    "                else:\n",
    "                    break\n",
    "            self._reopen_idx = reopen_idx\n",
    "        except ValueError as e:\n",
    "            # self.plot()\n",
    "            self._reopen_idx = reopen_idx\n",
    "\n",
    "        closing_end_idx = self.full_closure_idx[0]\n",
    "        try:\n",
    "            for idx in self.indices[self.indices.index(reopen_idx - 1)::-1]:\n",
    "                if abs(self.event_data.loc[closing_end_idx, 0] - self.event_data.loc[idx, 0]) < REOPENING_THRESHOLD:\n",
    "                    closing_end_idx = idx\n",
    "                else:\n",
    "                    break\n",
    "            self._closing_end_idx = closing_end_idx\n",
    "        except ValueError as e:\n",
    "            self._closing_end_idx = closing_end_idx\n",
    "        return self._reopen_idx\n",
    "\n",
    "    @cached_property\n",
    "    def closing_end_idx(self):\n",
    "        if self._closing_end_idx:\n",
    "            return self._closing_end_idx\n",
    "        _ = self.reopen_start_idx\n",
    "        return self._closing_end_idx\n",
    "\n",
    "    @cached_property\n",
    "    def blink_interval(self):\n",
    "        if self._blink_interval == -1:\n",
    "            raise ValueError(\"blink interval can only be set externally.\")\n",
    "        return self._blink_interval\n",
    "\n",
    "    @cached_property\n",
    "    def closing_speed(self):\n",
    "        time = self.closing_end_idx - self.start_idx\n",
    "        if time == 0:\n",
    "            return 0\n",
    "        return self.amplitude[0] / time\n",
    "\n",
    "    @cached_property\n",
    "    def max_closing_speed(self):\n",
    "        closing_data = self.event_data.loc[self.start_idx:self.closing_end_idx, 0]\n",
    "        if len(closing_data) < 2:\n",
    "            self._max_closing_speed_idx = self.closing_end_idx\n",
    "            return 0\n",
    "        else:\n",
    "            z = closing_data.diff()\n",
    "            self._max_closing_speed_idx = z[z == z.max()].index[0]\n",
    "            return z.max()\n",
    "\n",
    "    @cached_property\n",
    "    def max_closing_speed_idx(self):\n",
    "        if self._max_closing_speed_idx:\n",
    "            return self._max_closing_speed_idx\n",
    "        _ = self.max_closing_speed\n",
    "        return self._max_closing_speed_idx\n",
    "\n",
    "    @cached_property\n",
    "    def blink_duration(self):\n",
    "        return self.max_closing_speed_idx - self.start_idx\n",
    "\n",
    "    @cached_property\n",
    "    def lid_opening_delay(self):\n",
    "        return  self.reopen_start_idx - self.closing_end_idx\n",
    "\n",
    "    def plot(self, num_extra_frames: int = 60):\n",
    "        fig, ax = plt.subplots()\n",
    "        ax.plot(self.eye_closure_data[max(0, self.start_idx - num_extra_frames): min(len(self.eye_closure_data), self.end_idx + num_extra_frames)])\n",
    "        ax.plot([self.start_idx, self.end_idx], [self.eye_closure_data.loc[self.start_idx, 0], self.eye_closure_data.loc[self.end_idx, 0]], \"ro\", ms=5)\n",
    "        plt.show()\n",
    "\n",
    "\n",
    "blink_events = [BlinkEvent(indices=index_set) for index_set in blink_sets]"
   ],
   "metadata": {
    "collapsed": false,
    "pycharm": {
     "name": "#%%\n"
    }
   }
  },
  {
   "cell_type": "markdown",
   "source": [
    "### Add Blink Interval\n",
    "The Blink Interval can only be set from outside of a BlinkEvent because it needs the end index of the previous blink event"
   ],
   "metadata": {
    "collapsed": false
   }
  },
  {
   "cell_type": "code",
   "execution_count": 161,
   "outputs": [],
   "source": [
    "def set_blink_intervals(blink_events: List[BlinkEvent]):\n",
    "    for i, be in enumerate(blink_events):\n",
    "        if i == 0:\n",
    "            be._blink_interval = np.nan\n",
    "            continue\n",
    "        be._blink_interval = abs(be.start_idx - blink_events[i - 1].end_idx)\n",
    "    return blink_events\n",
    "\n",
    "\n",
    "blink_events = set_blink_intervals(blink_events=blink_events)"
   ],
   "metadata": {
    "collapsed": false,
    "pycharm": {
     "name": "#%%\n"
    }
   }
  },
  {
   "cell_type": "code",
   "execution_count": 162,
   "outputs": [
    {
     "name": "stdout",
     "output_type": "stream",
     "text": [
      "1\n",
      "0\n"
     ]
    }
   ],
   "source": [
    "print(np.sum(np.isnan([be.blink_interval for be in blink_events])))\n",
    "mean_blink_interal = np.nanmean([be.blink_interval for be in blink_events])\n",
    "for be in blink_events:\n",
    "    if np.isnan(be._blink_interval):\n",
    "        be.blink_interval = mean_blink_interal\n",
    "print(np.sum(np.isnan([be.blink_interval for be in blink_events])))\n"
   ],
   "metadata": {
    "collapsed": false,
    "pycharm": {
     "name": "#%%\n"
    }
   }
  },
  {
   "cell_type": "markdown",
   "source": [
    "### Aggregate features over time interval"
   ],
   "metadata": {
    "collapsed": false,
    "pycharm": {
     "name": "#%% md\n"
    }
   }
  },
  {
   "cell_type": "code",
   "execution_count": 163,
   "outputs": [],
   "source": [
    "# take index of peak closure as identifier for each blink event\n",
    "blink_event_dict = {be.full_closure_idx[0]: be for be in blink_events}\n",
    "interval_in_min = 5\n",
    "interval_in_frames = interval_in_min * (60 * 30)"
   ],
   "metadata": {
    "collapsed": false,
    "pycharm": {
     "name": "#%%\n"
    }
   }
  },
  {
   "cell_type": "code",
   "execution_count": 164,
   "outputs": [],
   "source": [
    "class PreComputedSlicer:\n",
    "    def __init__(self, indices: List[int], object_dict: Dict[int, object], index_interval: int):\n",
    "        indices_dict = {}\n",
    "        for index in indices:\n",
    "            objects = []\n",
    "            for key, object in object_dict.items():\n",
    "                if key < index and (index - key) <= index_interval:\n",
    "                    objects.append(object)\n",
    "                if key > index:\n",
    "                    break\n",
    "            indices_dict[index] = objects\n",
    "        self.indices_dict = indices_dict\n",
    "\n",
    "    def __getitem__(self, item):\n",
    "        return self.indices_dict[item]\n",
    "\n",
    "\n",
    "blink_event_slicer = PreComputedSlicer(indices=eye_closure_data.index, object_dict=blink_event_dict, index_interval=interval_in_frames)"
   ],
   "metadata": {
    "collapsed": false,
    "pycharm": {
     "name": "#%%\n"
    }
   }
  },
  {
   "cell_type": "code",
   "execution_count": 165,
   "outputs": [],
   "source": [
    "features_names = [\"blink_duration\", \"blink_interval\", \"lid_opening_delay\", \"closing_speed\", \"max_closing_speed\"]\n",
    "\n",
    "@cache\n",
    "def calculate_blink_event_statistics(events: Tuple[BlinkEvent]):\n",
    "    feature_values = np.array([[be.__getattribute__(feature_name) for be in events] for feature_name in features_names], dtype=float)\n",
    "    if feature_values.size == 0:\n",
    "        return np.zeros( 4 * feature_values.shape[0])\n",
    "    means = np.nanmean(feature_values, axis=1)\n",
    "    medians = np.nanmedian(feature_values, axis=1)\n",
    "    stds = np.nanstd(feature_values, axis=1)\n",
    "    if np.any((stds == 0)):\n",
    "        stds[(stds == 0)] = float(\"inf\")\n",
    "    skews = 3 * (means - medians) / stds\n",
    "    return np.concatenate([means, medians, stds, skews])"
   ],
   "metadata": {
    "collapsed": false,
    "pycharm": {
     "name": "#%%\n"
    }
   }
  },
  {
   "cell_type": "code",
   "execution_count": 169,
   "outputs": [
    {
     "name": "stderr",
     "output_type": "stream",
     "text": [
      "100%|██████████| 159847/159847 [00:00<00:00, 687298.09it/s]\n"
     ]
    }
   ],
   "source": [
    "feature_array = np.empty(shape=(len(eye_closure_data), len(features_names) * 4))\n",
    "for index in tqdm(eye_closure_data.index[interval_in_frames:]):\n",
    "    past_events = blink_event_slicer[index]\n",
    "    feature_array[index] = calculate_blink_event_statistics(events=tuple(past_events))"
   ],
   "metadata": {
    "collapsed": false,
    "pycharm": {
     "name": "#%%\n"
    }
   }
  },
  {
   "cell_type": "markdown",
   "source": [
    "* naive version: 25 it/s\n",
    "* with smart slicer: 25 it/s\n",
    "* with aggregate operations on 2d array by removing inner for loop: 28 -40 it/s\n",
    "* with cached properties for each blink event: 1750 it/s\n",
    "* with caching of results for same blink events: 177618 it/s\n"
   ],
   "metadata": {
    "collapsed": false
   }
  },
  {
   "cell_type": "code",
   "execution_count": 170,
   "outputs": [],
   "source": [
    "feature_df = pd.DataFrame(feature_array, columns=[name + kind for kind in [\"_mean\", \"_median\", \"_std\", \"_skew\"] for name in features_names], dtype=\"float\")"
   ],
   "metadata": {
    "collapsed": false,
    "pycharm": {
     "name": "#%%\n"
    }
   }
  },
  {
   "cell_type": "code",
   "execution_count": 176,
   "outputs": [],
   "source": [
    "feature_df[\"kss\"] = targets\n",
    "data_df = feature_df.truncate(before=interval_in_frames)"
   ],
   "metadata": {
    "collapsed": false,
    "pycharm": {
     "name": "#%%\n"
    }
   }
  },
  {
   "cell_type": "code",
   "execution_count": 177,
   "outputs": [
    {
     "data": {
      "text/plain": "       blink_duration_mean  blink_interval_mean  lid_opening_delay_mean  \\\ncount            159847.00            159847.00               159847.00   \nmean                  4.22               356.73                    2.29   \nstd                   1.61               137.50                    1.96   \nmin                   2.53               142.84                    0.35   \n25%                   3.29               266.72                    1.00   \n50%                   3.76               320.32                    1.86   \n75%                   4.48               422.91                    2.40   \nmax                  11.54              1163.12                    9.67   \n\n       closing_speed_mean  max_closing_speed_mean  blink_duration_median  \\\ncount           159847.00               159847.00              159847.00   \nmean                 0.16                    0.28                   3.39   \nstd                  0.03                    0.05                   1.46   \nmin                  0.05                    0.13                   2.00   \n25%                  0.15                    0.26                   3.00   \n50%                  0.17                    0.29                   3.00   \n75%                  0.18                    0.31                   3.00   \nmax                  0.23                    0.36                  14.00   \n\n       blink_interval_median  lid_opening_delay_median  closing_speed_median  \\\ncount              159847.00                 159847.00             159847.00   \nmean                  159.56                      0.73                  0.16   \nstd                   112.87                      0.51                  0.03   \nmin                    26.00                      0.00                  0.03   \n25%                    74.00                      0.00                  0.15   \n50%                   148.00                      1.00                  0.17   \n75%                   224.50                      1.00                  0.18   \nmax                  1217.00                      2.00                  0.22   \n\n       max_closing_speed_median  blink_duration_std  blink_interval_std  \\\ncount                 159847.00           159847.00           159847.00   \nmean                       0.27                3.76              533.38   \nstd                        0.05                3.31              257.08   \nmin                        0.10                0.64              116.25   \n25%                        0.25                1.09              334.38   \n50%                        0.28                2.31              488.65   \n75%                        0.31                5.50              695.33   \nmax                        0.36               13.05             1390.58   \n\n       lid_opening_delay_std  closing_speed_std  max_closing_speed_std  \\\ncount              159847.00          159847.00              159847.00   \nmean                    4.47               0.08                   0.11   \nstd                     4.37               0.02                   0.03   \nmin                     0.48               0.04                   0.04   \n25%                     1.68               0.06                   0.10   \n50%                     2.87               0.07                   0.11   \n75%                     4.39               0.08                   0.13   \nmax                    20.77               0.14                   0.21   \n\n       blink_duration_skew  blink_interval_skew  lid_opening_delay_skew  \\\ncount            159847.00            159847.00               159847.00   \nmean                  0.49                 1.05                    0.98   \nstd                   0.70                 0.41                    0.57   \nmin                  -1.94                -0.18                   -2.13   \n25%                   0.31                 0.79                    0.70   \n50%                   0.66                 1.06                    1.03   \n75%                   0.89                 1.36                    1.37   \nmax                   2.36                 2.21                    2.81   \n\n       closing_speed_skew  max_closing_speed_skew  \ncount           159847.00               159847.00  \nmean                 0.22                    0.28  \nstd                  0.56                    0.60  \nmin                 -1.32                   -1.54  \n25%                 -0.06                   -0.04  \n50%                  0.19                    0.23  \n75%                  0.57                    0.53  \nmax                  1.88                    2.16  ",
      "text/html": "<div>\n<style scoped>\n    .dataframe tbody tr th:only-of-type {\n        vertical-align: middle;\n    }\n\n    .dataframe tbody tr th {\n        vertical-align: top;\n    }\n\n    .dataframe thead th {\n        text-align: right;\n    }\n</style>\n<table border=\"1\" class=\"dataframe\">\n  <thead>\n    <tr style=\"text-align: right;\">\n      <th></th>\n      <th>blink_duration_mean</th>\n      <th>blink_interval_mean</th>\n      <th>lid_opening_delay_mean</th>\n      <th>closing_speed_mean</th>\n      <th>max_closing_speed_mean</th>\n      <th>blink_duration_median</th>\n      <th>blink_interval_median</th>\n      <th>lid_opening_delay_median</th>\n      <th>closing_speed_median</th>\n      <th>max_closing_speed_median</th>\n      <th>blink_duration_std</th>\n      <th>blink_interval_std</th>\n      <th>lid_opening_delay_std</th>\n      <th>closing_speed_std</th>\n      <th>max_closing_speed_std</th>\n      <th>blink_duration_skew</th>\n      <th>blink_interval_skew</th>\n      <th>lid_opening_delay_skew</th>\n      <th>closing_speed_skew</th>\n      <th>max_closing_speed_skew</th>\n    </tr>\n  </thead>\n  <tbody>\n    <tr>\n      <th>count</th>\n      <td>159847.00</td>\n      <td>159847.00</td>\n      <td>159847.00</td>\n      <td>159847.00</td>\n      <td>159847.00</td>\n      <td>159847.00</td>\n      <td>159847.00</td>\n      <td>159847.00</td>\n      <td>159847.00</td>\n      <td>159847.00</td>\n      <td>159847.00</td>\n      <td>159847.00</td>\n      <td>159847.00</td>\n      <td>159847.00</td>\n      <td>159847.00</td>\n      <td>159847.00</td>\n      <td>159847.00</td>\n      <td>159847.00</td>\n      <td>159847.00</td>\n      <td>159847.00</td>\n    </tr>\n    <tr>\n      <th>mean</th>\n      <td>4.22</td>\n      <td>356.73</td>\n      <td>2.29</td>\n      <td>0.16</td>\n      <td>0.28</td>\n      <td>3.39</td>\n      <td>159.56</td>\n      <td>0.73</td>\n      <td>0.16</td>\n      <td>0.27</td>\n      <td>3.76</td>\n      <td>533.38</td>\n      <td>4.47</td>\n      <td>0.08</td>\n      <td>0.11</td>\n      <td>0.49</td>\n      <td>1.05</td>\n      <td>0.98</td>\n      <td>0.22</td>\n      <td>0.28</td>\n    </tr>\n    <tr>\n      <th>std</th>\n      <td>1.61</td>\n      <td>137.50</td>\n      <td>1.96</td>\n      <td>0.03</td>\n      <td>0.05</td>\n      <td>1.46</td>\n      <td>112.87</td>\n      <td>0.51</td>\n      <td>0.03</td>\n      <td>0.05</td>\n      <td>3.31</td>\n      <td>257.08</td>\n      <td>4.37</td>\n      <td>0.02</td>\n      <td>0.03</td>\n      <td>0.70</td>\n      <td>0.41</td>\n      <td>0.57</td>\n      <td>0.56</td>\n      <td>0.60</td>\n    </tr>\n    <tr>\n      <th>min</th>\n      <td>2.53</td>\n      <td>142.84</td>\n      <td>0.35</td>\n      <td>0.05</td>\n      <td>0.13</td>\n      <td>2.00</td>\n      <td>26.00</td>\n      <td>0.00</td>\n      <td>0.03</td>\n      <td>0.10</td>\n      <td>0.64</td>\n      <td>116.25</td>\n      <td>0.48</td>\n      <td>0.04</td>\n      <td>0.04</td>\n      <td>-1.94</td>\n      <td>-0.18</td>\n      <td>-2.13</td>\n      <td>-1.32</td>\n      <td>-1.54</td>\n    </tr>\n    <tr>\n      <th>25%</th>\n      <td>3.29</td>\n      <td>266.72</td>\n      <td>1.00</td>\n      <td>0.15</td>\n      <td>0.26</td>\n      <td>3.00</td>\n      <td>74.00</td>\n      <td>0.00</td>\n      <td>0.15</td>\n      <td>0.25</td>\n      <td>1.09</td>\n      <td>334.38</td>\n      <td>1.68</td>\n      <td>0.06</td>\n      <td>0.10</td>\n      <td>0.31</td>\n      <td>0.79</td>\n      <td>0.70</td>\n      <td>-0.06</td>\n      <td>-0.04</td>\n    </tr>\n    <tr>\n      <th>50%</th>\n      <td>3.76</td>\n      <td>320.32</td>\n      <td>1.86</td>\n      <td>0.17</td>\n      <td>0.29</td>\n      <td>3.00</td>\n      <td>148.00</td>\n      <td>1.00</td>\n      <td>0.17</td>\n      <td>0.28</td>\n      <td>2.31</td>\n      <td>488.65</td>\n      <td>2.87</td>\n      <td>0.07</td>\n      <td>0.11</td>\n      <td>0.66</td>\n      <td>1.06</td>\n      <td>1.03</td>\n      <td>0.19</td>\n      <td>0.23</td>\n    </tr>\n    <tr>\n      <th>75%</th>\n      <td>4.48</td>\n      <td>422.91</td>\n      <td>2.40</td>\n      <td>0.18</td>\n      <td>0.31</td>\n      <td>3.00</td>\n      <td>224.50</td>\n      <td>1.00</td>\n      <td>0.18</td>\n      <td>0.31</td>\n      <td>5.50</td>\n      <td>695.33</td>\n      <td>4.39</td>\n      <td>0.08</td>\n      <td>0.13</td>\n      <td>0.89</td>\n      <td>1.36</td>\n      <td>1.37</td>\n      <td>0.57</td>\n      <td>0.53</td>\n    </tr>\n    <tr>\n      <th>max</th>\n      <td>11.54</td>\n      <td>1163.12</td>\n      <td>9.67</td>\n      <td>0.23</td>\n      <td>0.36</td>\n      <td>14.00</td>\n      <td>1217.00</td>\n      <td>2.00</td>\n      <td>0.22</td>\n      <td>0.36</td>\n      <td>13.05</td>\n      <td>1390.58</td>\n      <td>20.77</td>\n      <td>0.14</td>\n      <td>0.21</td>\n      <td>2.36</td>\n      <td>2.21</td>\n      <td>2.81</td>\n      <td>1.88</td>\n      <td>2.16</td>\n    </tr>\n  </tbody>\n</table>\n</div>"
     },
     "execution_count": 177,
     "metadata": {},
     "output_type": "execute_result"
    }
   ],
   "source": [
    "data_df.describe()"
   ],
   "metadata": {
    "collapsed": false,
    "pycharm": {
     "name": "#%%\n"
    }
   }
  },
  {
   "cell_type": "code",
   "execution_count": 178,
   "outputs": [
    {
     "data": {
      "text/plain": "      blink_duration_mean  blink_interval_mean  lid_opening_delay_mean  \\\n9000                 3.41                273.9                    1.78   \n9001                 3.41                273.9                    1.78   \n9002                 3.41                273.9                    1.78   \n9003                 3.41                273.9                    1.78   \n9004                 3.41                273.9                    1.78   \n\n      closing_speed_mean  max_closing_speed_mean  blink_duration_median  \\\n9000                0.16                    0.28                    3.0   \n9001                0.16                    0.28                    3.0   \n9002                0.16                    0.28                    3.0   \n9003                0.16                    0.28                    3.0   \n9004                0.16                    0.28                    3.0   \n\n      blink_interval_median  lid_opening_delay_median  closing_speed_median  \\\n9000                  151.0                       0.0                  0.17   \n9001                  151.0                       0.0                  0.17   \n9002                  151.0                       0.0                  0.17   \n9003                  151.0                       0.0                  0.17   \n9004                  151.0                       0.0                  0.17   \n\n      max_closing_speed_median  ...  blink_interval_std  \\\n9000                      0.28  ...              329.71   \n9001                      0.28  ...              329.71   \n9002                      0.28  ...              329.71   \n9003                      0.28  ...              329.71   \n9004                      0.28  ...              329.71   \n\n      lid_opening_delay_std  closing_speed_std  max_closing_speed_std  \\\n9000                   7.44               0.07                   0.11   \n9001                   7.44               0.07                   0.11   \n9002                   7.44               0.07                   0.11   \n9003                   7.44               0.07                   0.11   \n9004                   7.44               0.07                   0.11   \n\n      blink_duration_skew  blink_interval_skew  lid_opening_delay_skew  \\\n9000                 0.45                 1.12                    0.72   \n9001                 0.45                 1.12                    0.72   \n9002                 0.45                 1.12                    0.72   \n9003                 0.45                 1.12                    0.72   \n9004                 0.45                 1.12                    0.72   \n\n      closing_speed_skew  max_closing_speed_skew  kss  \n9000               -0.52                   -0.13    6  \n9001               -0.52                   -0.13    6  \n9002               -0.52                   -0.13    6  \n9003               -0.52                   -0.13    6  \n9004               -0.52                   -0.13    6  \n\n[5 rows x 21 columns]",
      "text/html": "<div>\n<style scoped>\n    .dataframe tbody tr th:only-of-type {\n        vertical-align: middle;\n    }\n\n    .dataframe tbody tr th {\n        vertical-align: top;\n    }\n\n    .dataframe thead th {\n        text-align: right;\n    }\n</style>\n<table border=\"1\" class=\"dataframe\">\n  <thead>\n    <tr style=\"text-align: right;\">\n      <th></th>\n      <th>blink_duration_mean</th>\n      <th>blink_interval_mean</th>\n      <th>lid_opening_delay_mean</th>\n      <th>closing_speed_mean</th>\n      <th>max_closing_speed_mean</th>\n      <th>blink_duration_median</th>\n      <th>blink_interval_median</th>\n      <th>lid_opening_delay_median</th>\n      <th>closing_speed_median</th>\n      <th>max_closing_speed_median</th>\n      <th>...</th>\n      <th>blink_interval_std</th>\n      <th>lid_opening_delay_std</th>\n      <th>closing_speed_std</th>\n      <th>max_closing_speed_std</th>\n      <th>blink_duration_skew</th>\n      <th>blink_interval_skew</th>\n      <th>lid_opening_delay_skew</th>\n      <th>closing_speed_skew</th>\n      <th>max_closing_speed_skew</th>\n      <th>kss</th>\n    </tr>\n  </thead>\n  <tbody>\n    <tr>\n      <th>9000</th>\n      <td>3.41</td>\n      <td>273.9</td>\n      <td>1.78</td>\n      <td>0.16</td>\n      <td>0.28</td>\n      <td>3.0</td>\n      <td>151.0</td>\n      <td>0.0</td>\n      <td>0.17</td>\n      <td>0.28</td>\n      <td>...</td>\n      <td>329.71</td>\n      <td>7.44</td>\n      <td>0.07</td>\n      <td>0.11</td>\n      <td>0.45</td>\n      <td>1.12</td>\n      <td>0.72</td>\n      <td>-0.52</td>\n      <td>-0.13</td>\n      <td>6</td>\n    </tr>\n    <tr>\n      <th>9001</th>\n      <td>3.41</td>\n      <td>273.9</td>\n      <td>1.78</td>\n      <td>0.16</td>\n      <td>0.28</td>\n      <td>3.0</td>\n      <td>151.0</td>\n      <td>0.0</td>\n      <td>0.17</td>\n      <td>0.28</td>\n      <td>...</td>\n      <td>329.71</td>\n      <td>7.44</td>\n      <td>0.07</td>\n      <td>0.11</td>\n      <td>0.45</td>\n      <td>1.12</td>\n      <td>0.72</td>\n      <td>-0.52</td>\n      <td>-0.13</td>\n      <td>6</td>\n    </tr>\n    <tr>\n      <th>9002</th>\n      <td>3.41</td>\n      <td>273.9</td>\n      <td>1.78</td>\n      <td>0.16</td>\n      <td>0.28</td>\n      <td>3.0</td>\n      <td>151.0</td>\n      <td>0.0</td>\n      <td>0.17</td>\n      <td>0.28</td>\n      <td>...</td>\n      <td>329.71</td>\n      <td>7.44</td>\n      <td>0.07</td>\n      <td>0.11</td>\n      <td>0.45</td>\n      <td>1.12</td>\n      <td>0.72</td>\n      <td>-0.52</td>\n      <td>-0.13</td>\n      <td>6</td>\n    </tr>\n    <tr>\n      <th>9003</th>\n      <td>3.41</td>\n      <td>273.9</td>\n      <td>1.78</td>\n      <td>0.16</td>\n      <td>0.28</td>\n      <td>3.0</td>\n      <td>151.0</td>\n      <td>0.0</td>\n      <td>0.17</td>\n      <td>0.28</td>\n      <td>...</td>\n      <td>329.71</td>\n      <td>7.44</td>\n      <td>0.07</td>\n      <td>0.11</td>\n      <td>0.45</td>\n      <td>1.12</td>\n      <td>0.72</td>\n      <td>-0.52</td>\n      <td>-0.13</td>\n      <td>6</td>\n    </tr>\n    <tr>\n      <th>9004</th>\n      <td>3.41</td>\n      <td>273.9</td>\n      <td>1.78</td>\n      <td>0.16</td>\n      <td>0.28</td>\n      <td>3.0</td>\n      <td>151.0</td>\n      <td>0.0</td>\n      <td>0.17</td>\n      <td>0.28</td>\n      <td>...</td>\n      <td>329.71</td>\n      <td>7.44</td>\n      <td>0.07</td>\n      <td>0.11</td>\n      <td>0.45</td>\n      <td>1.12</td>\n      <td>0.72</td>\n      <td>-0.52</td>\n      <td>-0.13</td>\n      <td>6</td>\n    </tr>\n  </tbody>\n</table>\n<p>5 rows × 21 columns</p>\n</div>"
     },
     "execution_count": 178,
     "metadata": {},
     "output_type": "execute_result"
    }
   ],
   "source": [
    "data_df.head()"
   ],
   "metadata": {
    "collapsed": false,
    "pycharm": {
     "name": "#%%\n"
    }
   }
  },
  {
   "cell_type": "code",
   "execution_count": 190,
   "outputs": [],
   "source": [
    "from sklearn.model_selection import train_test_split\n",
    "from sklearn.linear_model import SGDClassifier\n",
    "X = data_df[data_df.columns[:-1]].to_numpy()\n",
    "Y = data_df[\"kss\"].to_numpy().astype(int)"
   ],
   "metadata": {
    "collapsed": false,
    "pycharm": {
     "name": "#%%\n"
    }
   }
  },
  {
   "cell_type": "code",
   "execution_count": 191,
   "outputs": [],
   "source": [
    "X_train, X_test, y_train, y_test = train_test_split(X, Y, test_size=0.33, random_state=42)"
   ],
   "metadata": {
    "collapsed": false,
    "pycharm": {
     "name": "#%%\n"
    }
   }
  },
  {
   "cell_type": "code",
   "execution_count": 193,
   "outputs": [
    {
     "data": {
      "text/plain": "SGDClassifier(alpha=0.01)"
     },
     "execution_count": 193,
     "metadata": {},
     "output_type": "execute_result"
    }
   ],
   "source": [
    "clf = SGDClassifier(alpha=0.01, max_iter=1000)\n",
    "clf.fit(X_train, y_train)"
   ],
   "metadata": {
    "collapsed": false,
    "pycharm": {
     "name": "#%%\n"
    }
   }
  },
  {
   "cell_type": "code",
   "execution_count": 195,
   "outputs": [
    {
     "name": "stdout",
     "output_type": "stream",
     "text": [
      "0.6261421800947867\n"
     ]
    }
   ],
   "source": [
    "y_pred = clf.predict(X_test)\n",
    "print(np.mean(y_pred == y_test))"
   ],
   "metadata": {
    "collapsed": false,
    "pycharm": {
     "name": "#%%\n"
    }
   }
  },
  {
   "cell_type": "code",
   "execution_count": 203,
   "outputs": [],
   "source": [
    "Y_binary = np.array(Y < 6).astype(int)"
   ],
   "metadata": {
    "collapsed": false,
    "pycharm": {
     "name": "#%%\n"
    }
   }
  },
  {
   "cell_type": "code",
   "execution_count": 204,
   "outputs": [
    {
     "data": {
      "text/plain": "0.910426845671173"
     },
     "execution_count": 204,
     "metadata": {},
     "output_type": "execute_result"
    }
   ],
   "source": [
    "np.mean(Y_binary)"
   ],
   "metadata": {
    "collapsed": false,
    "pycharm": {
     "name": "#%%\n"
    }
   }
  },
  {
   "cell_type": "code",
   "execution_count": null,
   "outputs": [],
   "source": [],
   "metadata": {
    "collapsed": false,
    "pycharm": {
     "name": "#%%\n"
    }
   }
  }
 ],
 "metadata": {
  "kernelspec": {
   "display_name": "Python 3",
   "language": "python",
   "name": "python3"
  },
  "language_info": {
   "codemirror_mode": {
    "name": "ipython",
    "version": 3
   },
   "file_extension": ".py",
   "mimetype": "text/x-python",
   "name": "python",
   "nbconvert_exporter": "python",
   "pygments_lexer": "ipython3",
   "version": "3.9.7"
  }
 },
 "nbformat": 4,
 "nbformat_minor": 1
}