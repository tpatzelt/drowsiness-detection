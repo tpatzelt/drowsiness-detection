{
 "cells": [
  {
   "cell_type": "code",
   "execution_count": 1,
   "metadata": {
    "collapsed": true
   },
   "outputs": [],
   "source": [
    "import numpy as np\n",
    "from sklearn.ensemble import RandomForestClassifier\n",
    "from sklearn.linear_model import LogisticRegression\n",
    "from sklearn.model_selection import GridSearchCV\n",
    "from sklearn.model_selection import RepeatedStratifiedKFold\n",
    "\n",
    "import pickle\n",
    "from drowsiness_detection.data import get_train_test_splits\n",
    "from drowsiness_detection.helpers import binarize"
   ]
  },
  {
   "cell_type": "code",
   "execution_count": 1,
   "outputs": [],
   "source": [],
   "metadata": {
    "collapsed": false,
    "pycharm": {
     "name": "#%%\n"
    }
   }
  },
  {
   "cell_type": "code",
   "execution_count": 2,
   "outputs": [
    {
     "name": "stdout",
     "output_type": "stream",
     "text": [
      "(32834, 68) (16102, 68)\n"
     ]
    }
   ],
   "source": [
    "threshold = 7\n",
    "\n",
    "# load train and test data\n",
    "train, test = get_train_test_splits()\n",
    "print(train.shape, test.shape)\n",
    "\n",
    "# X still contains NaNs\n",
    "train = np.nan_to_num(train, nan=-1)\n",
    "test = np.nan_to_num(test, nan=-1)\n",
    "\n",
    "# split in full data for CV\n",
    "full = np.concatenate([train, test])\n",
    "X = full[:, :-1]\n",
    "y = full[:, -1]\n",
    "# binarize y to represent not drowsy vs drowsy\n",
    "y = binarize(y, threshold)\n",
    "\n",
    "# X_train, y_train = train[:, :-1], train[:, -1]\n",
    "# X_test, y_test = test[:, :-1], test[:, -1]\n",
    "#\n",
    "# y_train, y_test = binarize(y_train, threshold), binarize(y_test, threshold)"
   ],
   "metadata": {
    "collapsed": false,
    "pycharm": {
     "name": "#%%\n"
    }
   }
  },
  {
   "cell_type": "code",
   "execution_count": 10,
   "outputs": [
    {
     "name": "stdout",
     "output_type": "stream",
     "text": [
      "Best: 0.694683 using {'C': 100, 'max_iter': 1000, 'penalty': 'l1', 'solver': 'liblinear'}\n",
      "0.473251 (0.004809) with: {'C': 100, 'max_iter': 1000, 'penalty': 'l2', 'solver': 'saga'}\n",
      "0.691638 (0.004721) with: {'C': 100, 'max_iter': 1000, 'penalty': 'l2', 'solver': 'liblinear'}\n",
      "0.473251 (0.004809) with: {'C': 100, 'max_iter': 1000, 'penalty': 'l1', 'solver': 'saga'}\n",
      "0.694683 (0.004664) with: {'C': 100, 'max_iter': 1000, 'penalty': 'l1', 'solver': 'liblinear'}\n",
      "0.473251 (0.004809) with: {'C': 10, 'max_iter': 1000, 'penalty': 'l2', 'solver': 'saga'}\n",
      "0.691338 (0.004178) with: {'C': 10, 'max_iter': 1000, 'penalty': 'l2', 'solver': 'liblinear'}\n",
      "0.473251 (0.004809) with: {'C': 10, 'max_iter': 1000, 'penalty': 'l1', 'solver': 'saga'}\n",
      "0.694608 (0.004730) with: {'C': 10, 'max_iter': 1000, 'penalty': 'l1', 'solver': 'liblinear'}\n",
      "0.473251 (0.004809) with: {'C': 1.0, 'max_iter': 1000, 'penalty': 'l2', 'solver': 'saga'}\n",
      "0.691815 (0.004230) with: {'C': 1.0, 'max_iter': 1000, 'penalty': 'l2', 'solver': 'liblinear'}\n",
      "0.473251 (0.004809) with: {'C': 1.0, 'max_iter': 1000, 'penalty': 'l1', 'solver': 'saga'}\n",
      "0.694349 (0.004456) with: {'C': 1.0, 'max_iter': 1000, 'penalty': 'l1', 'solver': 'liblinear'}\n",
      "0.473251 (0.004809) with: {'C': 0.1, 'max_iter': 1000, 'penalty': 'l2', 'solver': 'saga'}\n",
      "0.691093 (0.004424) with: {'C': 0.1, 'max_iter': 1000, 'penalty': 'l2', 'solver': 'liblinear'}\n",
      "0.473251 (0.004809) with: {'C': 0.1, 'max_iter': 1000, 'penalty': 'l1', 'solver': 'saga'}\n",
      "0.694117 (0.004660) with: {'C': 0.1, 'max_iter': 1000, 'penalty': 'l1', 'solver': 'liblinear'}\n",
      "0.473251 (0.004809) with: {'C': 0.01, 'max_iter': 1000, 'penalty': 'l2', 'solver': 'saga'}\n",
      "0.691618 (0.004853) with: {'C': 0.01, 'max_iter': 1000, 'penalty': 'l2', 'solver': 'liblinear'}\n",
      "0.473251 (0.004809) with: {'C': 0.01, 'max_iter': 1000, 'penalty': 'l1', 'solver': 'saga'}\n",
      "0.691665 (0.003857) with: {'C': 0.01, 'max_iter': 1000, 'penalty': 'l1', 'solver': 'liblinear'}\n"
     ]
    }
   ],
   "source": [
    "\n",
    "# define models and parameters\n",
    "model = LogisticRegression()\n",
    "solvers = ['saga', 'liblinear']\n",
    "penalty = ['l2', \"l1\"]\n",
    "c_values = [100, 10, 1.0, 0.1, 0.01]\n",
    "max_iters = [1000]\n",
    "# define grid search\n",
    "grid = dict(solver=solvers, penalty=penalty, C=c_values, max_iter=max_iters)\n",
    "cv = RepeatedStratifiedKFold(n_splits=10, n_repeats=3, random_state=1)\n",
    "grid_search = GridSearchCV(estimator=model, param_grid=grid, n_jobs=-1, cv=cv, scoring='accuracy', error_score=0)\n",
    "grid_result = grid_search.fit(X, y)\n",
    "log_reg_grid_result = grid_result\n",
    "# summarize results\n",
    "print(\"Best: %f using %s\" % (grid_result.best_score_, grid_result.best_params_))\n",
    "means = grid_result.cv_results_['mean_test_score']\n",
    "stds = grid_result.cv_results_['std_test_score']\n",
    "params = grid_result.cv_results_['params']\n",
    "for mean, stdev, param in zip(means, stds, params):\n",
    "    print(\"%f (%f) with: %r\" % (mean, stdev, param))"
   ],
   "metadata": {
    "collapsed": false,
    "pycharm": {
     "name": "#%%\n"
    }
   }
  },
  {
   "cell_type": "code",
   "execution_count": 12,
   "outputs": [],
   "source": [
    "with open(\"log_reg_result.pkl\", \"wb\") as fp:\n",
    "    pickle.dump(file=fp, obj=log_reg_grid_result)"
   ],
   "metadata": {
    "collapsed": false,
    "pycharm": {
     "name": "#%%\n"
    }
   }
  },
  {
   "cell_type": "code",
   "execution_count": null,
   "outputs": [],
   "source": [
    "model = RandomForestClassifier()\n",
    "# define grid search\n",
    "param_grid = {'n_estimators': [10, 100, 1000], 'max_depth': [2, 5, 10, None], 'min_samples_leaf': [1, 10, 100, 1000], \"max_features\": ['sqrt', 'log2'],\n",
    "              'criterion': ['gini', 'entropy']}\n",
    "cv = RepeatedStratifiedKFold(n_splits=10, n_repeats=3, random_state=1)\n",
    "grid_search = GridSearchCV(estimator=model, param_grid=param_grid, n_jobs=-1, cv=cv, scoring='accuracy', error_score=0)\n",
    "grid_result = grid_search.fit(X, y)\n",
    "rf_grid_result = grid_result\n",
    "# summarize results\n",
    "print(\"Best: %f using %s\" % (grid_result.best_score_, grid_result.best_params_))\n",
    "means = grid_result.cv_results_['mean_test_score']\n",
    "stds = grid_result.cv_results_['std_test_score']\n",
    "params = grid_result.cv_results_['params']\n",
    "for mean, stdev, param in zip(means, stds, params):\n",
    "    print(\"%f (%f) with: %r\" % (mean, stdev, param))"
   ],
   "metadata": {
    "collapsed": false,
    "pycharm": {
     "name": "#%%\n",
     "is_executing": true
    }
   }
  },
  {
   "cell_type": "code",
   "execution_count": 4,
   "outputs": [
    {
     "ename": "NameError",
     "evalue": "name 'rf_grid_result' is not defined",
     "output_type": "error",
     "traceback": [
      "\u001B[0;31m---------------------------------------------------------------------------\u001B[0m",
      "\u001B[0;31mNameError\u001B[0m                                 Traceback (most recent call last)",
      "\u001B[0;32m<ipython-input-4-d83c57ffde46>\u001B[0m in \u001B[0;36m<module>\u001B[0;34m\u001B[0m\n\u001B[1;32m      1\u001B[0m \u001B[0;32mwith\u001B[0m \u001B[0mopen\u001B[0m\u001B[0;34m(\u001B[0m\u001B[0;34m\"rf_result.pkl\"\u001B[0m\u001B[0;34m,\u001B[0m \u001B[0;34m\"wb\"\u001B[0m\u001B[0;34m)\u001B[0m \u001B[0;32mas\u001B[0m \u001B[0mfp\u001B[0m\u001B[0;34m:\u001B[0m\u001B[0;34m\u001B[0m\u001B[0;34m\u001B[0m\u001B[0m\n\u001B[0;32m----> 2\u001B[0;31m     \u001B[0mpickle\u001B[0m\u001B[0;34m.\u001B[0m\u001B[0mdump\u001B[0m\u001B[0;34m(\u001B[0m\u001B[0mfile\u001B[0m\u001B[0;34m=\u001B[0m\u001B[0mfp\u001B[0m\u001B[0;34m,\u001B[0m \u001B[0mobj\u001B[0m\u001B[0;34m=\u001B[0m\u001B[0mrf_grid_result\u001B[0m\u001B[0;34m)\u001B[0m\u001B[0;34m\u001B[0m\u001B[0;34m\u001B[0m\u001B[0m\n\u001B[0m",
      "\u001B[0;31mNameError\u001B[0m: name 'rf_grid_result' is not defined"
     ]
    }
   ],
   "source": [
    "with open(\"rf_result.pkl\", \"wb\") as fp:\n",
    "    pickle.dump(file=fp, obj=rf_grid_result)"
   ],
   "metadata": {
    "collapsed": false,
    "pycharm": {
     "name": "#%%\n"
    }
   }
  },
  {
   "cell_type": "code",
   "execution_count": null,
   "outputs": [],
   "source": [],
   "metadata": {
    "collapsed": false,
    "pycharm": {
     "name": "#%%\n"
    }
   }
  }
 ],
 "metadata": {
  "kernelspec": {
   "display_name": "Python 3",
   "language": "python",
   "name": "python3"
  },
  "language_info": {
   "codemirror_mode": {
    "name": "ipython",
    "version": 2
   },
   "file_extension": ".py",
   "mimetype": "text/x-python",
   "name": "python",
   "nbconvert_exporter": "python",
   "pygments_lexer": "ipython2",
   "version": "2.7.6"
  }
 },
 "nbformat": 4,
 "nbformat_minor": 0
}