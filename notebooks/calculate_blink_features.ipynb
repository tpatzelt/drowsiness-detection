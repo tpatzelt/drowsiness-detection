{
 "cells": [
  {
   "cell_type": "markdown",
   "metadata": {
    "collapsed": true,
    "pycharm": {
     "name": "#%% md\n"
    }
   },
   "source": [
    "## Blink Features\n",
    "The notebook should show how each of the features is calculated from the raw eye closure signal.\n",
    "1. Test data is created\n",
    "2. Blink events are identified\n",
    "3. Blink events are validated visually\n",
    "4. Start and Stop of each event is adjusted\n",
    "5. Different Variables are calculated from eye closure signal and blink events."
   ]
  },
  {
   "cell_type": "code",
   "execution_count": 238,
   "metadata": {
    "pycharm": {
     "name": "#%%\n"
    }
   },
   "outputs": [],
   "source": [
    "import numpy as np\n",
    "from drowsiness_detection.data import create_eye_closure_karolinksa_dataset\n",
    "from drowsiness_detection.visualize import show_frame_slider\n",
    "import matplotlib.pyplot as plt\n",
    "import matplotlib\n",
    "from sortedcontainers import SortedSet\n",
    "import copy\n",
    "import pandas as pd\n",
    "from typing import List, Set\n",
    "\n",
    "\n",
    "np.random.seed(42)"
   ]
  },
  {
   "cell_type": "code",
   "execution_count": 239,
   "metadata": {},
   "outputs": [],
   "source": [
    "matplotlib.use(\"TkAgg\") ## needed to spawn an external interactive plot"
   ]
  },
  {
   "cell_type": "markdown",
   "source": [
    "### 1. Create Test Data"
   ],
   "metadata": {
    "collapsed": false
   }
  },
  {
   "cell_type": "code",
   "execution_count": 240,
   "outputs": [
    {
     "name": "stdout",
     "output_type": "stream",
     "text": [
      "Extracting file /home/tim/IM/data/potsdam_aeye_112020/001_1_a.json and response file: /home/tim/IM/data/sleep_alc_labels/001_1_a_karolinska.csv.\n",
      "(168846,) [0.26446234 0.26638446 0.27353404 0.27267501 0.26480057]\n",
      "data for 93 mins.\n"
     ]
    }
   ],
   "source": [
    "n_samples = -1\n",
    "data = next(create_eye_closure_karolinksa_dataset())\n",
    "data = data[\"eye_closure\"].to_numpy()[:n_samples]\n",
    "print(data.shape, data[:5])\n",
    "data_mins = len(data)//1800\n",
    "print(f\"data for {data_mins} mins.\")\n",
    "data_copy = data.copy()"
   ],
   "metadata": {
    "collapsed": false,
    "pycharm": {
     "name": "#%%\n"
    }
   }
  },
  {
   "cell_type": "markdown",
   "source": [
    "### 2. Identify Blink Events"
   ],
   "metadata": {
    "collapsed": false
   }
  },
  {
   "cell_type": "markdown",
   "source": [
    "Check for NaNs:"
   ],
   "metadata": {
    "collapsed": false
   }
  },
  {
   "cell_type": "code",
   "execution_count": 241,
   "outputs": [
    {
     "name": "stdout",
     "output_type": "stream",
     "text": [
      "18913\n"
     ]
    }
   ],
   "source": [
    "nan_mask = np.isnan(data)\n",
    "print(sum(nan_mask))"
   ],
   "metadata": {
    "collapsed": false,
    "pycharm": {
     "name": "#%%\n"
    }
   }
  },
  {
   "cell_type": "code",
   "execution_count": 242,
   "outputs": [
    {
     "name": "stdout",
     "output_type": "stream",
     "text": [
      "std=0.09638660623372379, mean=0.29620456096475956\n"
     ]
    }
   ],
   "source": [
    "std = np.nanstd(data)\n",
    "mean = np.nanmean(data)\n",
    "print(f\"{std=}, {mean=}\")"
   ],
   "metadata": {
    "collapsed": false,
    "pycharm": {
     "name": "#%%\n"
    }
   }
  },
  {
   "cell_type": "code",
   "execution_count": 243,
   "metadata": {
    "pycharm": {
     "name": "#%%\n"
    }
   },
   "outputs": [],
   "source": [
    "slider, ax = show_frame_slider(data=data)\n",
    "ax.axhline(mean)\n",
    "ax.axhline(mean+2*std)\n",
    "ax.axhline(mean+1*std)\n",
    "ax.axhline(mean+0.5*std)\n",
    "plt.show(block=True)"
   ]
  },
  {
   "cell_type": "markdown",
   "metadata": {
    "pycharm": {
     "name": "#%% md\n"
    }
   },
   "source": [
    "### Validate Blink events manually\n",
    "By manually looking at some blinks in the data along with different standard deviations it seems reasonable to mark every value which is 1 std. above the mean of the signal as interesting. As next step we try to find the maximum value for each group of interesting indices."
   ]
  },
  {
   "cell_type": "code",
   "execution_count": 244,
   "outputs": [],
   "source": [
    "def blink_set_statistics(blink_sets: List[Set]):\n",
    "    num_blink_events = len(blink_sets)\n",
    "    mean_len = np.mean([len(s) for s in blink_sets])\n",
    "    print(f\"There are {num_blink_events} blink events with a mean length of {round(mean_len,2)}.\")"
   ],
   "metadata": {
    "collapsed": false,
    "pycharm": {
     "name": "#%%\n"
    }
   }
  },
  {
   "cell_type": "code",
   "execution_count": 245,
   "outputs": [
    {
     "name": "stdout",
     "output_type": "stream",
     "text": [
      "There are 888 blink events with a mean length of 6.21.\n",
      "Found an average of 9 blinks per minute.\n"
     ]
    }
   ],
   "source": [
    "def filter_points_above_threshold(threshold: float, data: np.ndarray) -> list:\n",
    "    \"\"\"\n",
    "    \"\"\"\n",
    "    above_std_sets = []\n",
    "    new_set = SortedSet()\n",
    "    it = np.nditer(data, flags=[\"f_index\"])\n",
    "    for value in it:\n",
    "        if value > threshold:\n",
    "            new_set.add(it.index)\n",
    "        else:\n",
    "            if new_set:\n",
    "                above_std_sets.append(new_set)\n",
    "                new_set = SortedSet()\n",
    "    return above_std_sets\n",
    "\n",
    "MIN_CLOSURE_FOR_BLINK = mean + 2 * std\n",
    "blink_sets = filter_points_above_threshold(threshold=MIN_CLOSURE_FOR_BLINK, data=data_copy.copy())\n",
    "\n",
    "blink_set_statistics(blink_sets)\n",
    "print(f\"Found an average of {len(blink_sets) // data_mins} blinks per minute.\")"
   ],
   "metadata": {
    "collapsed": false,
    "pycharm": {
     "name": "#%%\n"
    }
   }
  },
  {
   "cell_type": "code",
   "execution_count": 246,
   "outputs": [
    {
     "name": "stdout",
     "output_type": "stream",
     "text": [
      "After removing blinks shorter than 2 frames there are still a total of 691 blinks.\n",
      "There are 691 blink events with a mean length of 7.58.\n"
     ]
    }
   ],
   "source": [
    "def filter_blink_sets_by_length(min_len: int, sets: list):\n",
    "    return [s for s in sets if len(s) > min_len]\n",
    "MIN_BLINK_LENGTH = 2\n",
    "blink_sets = filter_blink_sets_by_length(min_len=MIN_BLINK_LENGTH, sets=blink_sets)\n",
    "print(f\"After removing blinks shorter than {MIN_BLINK_LENGTH} frames there are still a total of {len(blink_sets)} blinks.\")\n",
    "blink_set_statistics(blink_sets)"
   ],
   "metadata": {
    "collapsed": false,
    "pycharm": {
     "name": "#%%\n"
    }
   }
  },
  {
   "cell_type": "markdown",
   "source": [
    "Visualize the center of each blink event:"
   ],
   "metadata": {
    "collapsed": false,
    "pycharm": {
     "name": "#%% md\n"
    }
   }
  },
  {
   "cell_type": "code",
   "execution_count": 247,
   "outputs": [],
   "source": [
    "blink_sets_means = [np.mean(list(s)) for s in blink_sets]\n",
    "matplotlib.rcParams[\"figure.figsize\"] = 5,10\n",
    "fig, ax = plt.subplots()\n",
    "ax.set_ylim(0,2)\n",
    "ax.axhline(1, lw=5)\n",
    "for mean in blink_sets_means:\n",
    "    ax.axvline(mean, c=\"r\", lw=.5)\n",
    "ax.get_xaxis().set_visible(False)\n",
    "ax.get_yaxis().set_visible(False)\n",
    "plt.show(block=True)"
   ],
   "metadata": {
    "collapsed": false,
    "pycharm": {
     "name": "#%%\n"
    }
   }
  },
  {
   "cell_type": "markdown",
   "source": [
    "### Adjust Start and Stop of each Blink event\n",
    "Because the start or stop of a blink event can be below the threshold used for finding blinks, each blink event needs to be extended such that all eye closure changes different from the resting state are included."
   ],
   "metadata": {
    "collapsed": false,
    "pycharm": {
     "name": "#%% md\n"
    }
   }
  },
  {
   "cell_type": "code",
   "execution_count": 248,
   "outputs": [
    {
     "name": "stdout",
     "output_type": "stream",
     "text": [
      "After extending the blink event intervals the mean length changed from 7.58 to 12.8.\n",
      "There are 691 blink events with a mean length of 12.8.\n"
     ]
    }
   ],
   "source": [
    "extended_blink_sets = copy.deepcopy(blink_sets)\n",
    "\n",
    "MIN_CHANGE_OF_BLINK = .01\n",
    "for index_set in extended_blink_sets:\n",
    "    start, stop = index_set[0], index_set[-1]\n",
    "    while (data[start] - data[start-1]) > MIN_CHANGE_OF_BLINK:\n",
    "        index_set.add(start-1)\n",
    "        start -= 1\n",
    "    while (data[stop] - data[stop+1]) > MIN_CHANGE_OF_BLINK:\n",
    "        index_set.add(stop+1)\n",
    "        stop +=1\n",
    "\n",
    "mean_len = np.mean([len(s) for s in blink_sets])\n",
    "new_mean_len = np.mean([len(s) for s in extended_blink_sets])\n",
    "print(f\"After extending the blink event intervals the mean length changed from {round(mean_len, 2)} to {round(new_mean_len, 2)}.\")\n",
    "blink_set_statistics(extended_blink_sets)"
   ],
   "metadata": {
    "collapsed": false,
    "pycharm": {
     "name": "#%%\n"
    }
   }
  },
  {
   "cell_type": "code",
   "execution_count": 249,
   "outputs": [],
   "source": [
    "# # show new boundaries with horizontal lines\n",
    "# slider, ax = show_frame_slider(data=data)\n",
    "# for index_set in above_std_sets_extended:\n",
    "#     start, stop = index_set[0], index_set[-1]\n",
    "#     ax.axvline(start, c=\"orange\")\n",
    "#     ax.axvline(stop, c=\"orange\")\n",
    "# for index_set in above_std_sets:\n",
    "#     index_list = list(index_set)\n",
    "#     start, stop = index_set[0], index_set[-1]\n",
    "#     ax.axvline(start, c=\"g\")\n",
    "#     ax.axvline(stop, c=\"g\")\n",
    "#\n",
    "#\n",
    "# plt.show(block=True)"
   ],
   "metadata": {
    "collapsed": false,
    "pycharm": {
     "name": "#%%\n"
    }
   }
  },
  {
   "cell_type": "markdown",
   "source": [
    "### Plot old and extended boundaries of each blink event"
   ],
   "metadata": {
    "collapsed": false,
    "pycharm": {
     "name": "#%% md\n"
    }
   }
  },
  {
   "cell_type": "code",
   "execution_count": 250,
   "outputs": [],
   "source": [
    "# show new boundaries with green crosses\n",
    "def plot_blink_sets_start_stop(*args, blink_sets: List[Set], data: np.ndarray, slider = None, ax= None, **kwargs):\n",
    "    if not slider and not ax:\n",
    "        slider, ax = show_frame_slider(data=data)\n",
    "    boundaries = []\n",
    "    for index_set in blink_sets:\n",
    "        start, stop = index_set[0], index_set[-1]\n",
    "        boundaries.append(start)\n",
    "        boundaries.append(stop)\n",
    "    values = [data[index] for index in boundaries]\n",
    "    ax.plot(boundaries, values, *args, **kwargs)\n",
    "    return slider, ax\n",
    "\n",
    "slider, ax = plot_blink_sets_start_stop(\"bo\", blink_sets=blink_sets, data=data, ms=10)\n",
    "\n",
    "plot_blink_sets_start_stop(\"g+\", blink_sets=extended_blink_sets, data=data, slider=slider, ax=ax, mew=3, ms=20)\n",
    "plt.show(block=True)"
   ],
   "metadata": {
    "collapsed": false,
    "pycharm": {
     "name": "#%%\n"
    }
   }
  },
  {
   "cell_type": "code",
   "execution_count": 251,
   "outputs": [],
   "source": [
    "blink_sets = extended_blink_sets"
   ],
   "metadata": {
    "collapsed": false,
    "pycharm": {
     "name": "#%%\n"
    }
   }
  },
  {
   "cell_type": "markdown",
   "source": [
    "### Filter out blink events with an low amplitude height"
   ],
   "metadata": {
    "collapsed": false,
    "pycharm": {
     "name": "#%% md\n"
    }
   }
  },
  {
   "cell_type": "code",
   "execution_count": 252,
   "outputs": [
    {
     "name": "stdout",
     "output_type": "stream",
     "text": [
      "There are 658 blink events with a mean length of 13.09.\n"
     ]
    }
   ],
   "source": [
    "def filter_blink_sets_by_amplitude(data: np.ndarray, blink_sets: List[Set], min_amplitude_heigth: float):\n",
    "    new_blink_sets = []\n",
    "    for blink_set in blink_sets:\n",
    "        values = data[blink_set]\n",
    "        height = max(values) - min(values)\n",
    "        if height > min_amplitude_heigth:\n",
    "            new_blink_sets.append(blink_set)\n",
    "    return new_blink_sets\n",
    "\n",
    "\n",
    "MIN_AMPLITUDE_HEIGHT =  std\n",
    "blink_sets_by_amplitude = filter_blink_sets_by_amplitude(data=data_copy.copy(), blink_sets=blink_sets, min_amplitude_heigth=MIN_AMPLITUDE_HEIGHT)\n",
    "blink_set_statistics(blink_sets_by_amplitude)"
   ],
   "metadata": {
    "collapsed": false,
    "pycharm": {
     "name": "#%%\n"
    }
   }
  },
  {
   "cell_type": "code",
   "execution_count": 253,
   "outputs": [],
   "source": [
    "slider, ax = plot_blink_sets_start_stop(\"bo\", blink_sets=blink_sets_by_amplitude, data=data, ms=10)\n",
    "plt.show(block=True)"
   ],
   "metadata": {
    "collapsed": false,
    "pycharm": {
     "name": "#%%\n"
    }
   }
  },
  {
   "cell_type": "code",
   "execution_count": 254,
   "outputs": [],
   "source": [
    "blink_sets = blink_sets_by_amplitude"
   ],
   "metadata": {
    "collapsed": false,
    "pycharm": {
     "name": "#%%\n"
    }
   }
  },
  {
   "cell_type": "markdown",
   "source": [
    "### Filter out blink events where first and last value are more than delta away"
   ],
   "metadata": {
    "collapsed": false,
    "pycharm": {
     "name": "#%% md\n"
    }
   }
  },
  {
   "cell_type": "code",
   "execution_count": 259,
   "outputs": [
    {
     "name": "stdout",
     "output_type": "stream",
     "text": [
      "There are 520 blink events with a mean length of 13.11.\n"
     ]
    }
   ],
   "source": [
    "def filter_blink_sets_by_start_end_delta(data: np.ndarray, blink_sets: List[Set], max_start_end_delta: float):\n",
    "    new_blink_sets = []\n",
    "    for blink_set in blink_sets:\n",
    "        start = data[blink_set[0]]\n",
    "        end = data[blink_set[-1]]\n",
    "        if abs(start - end) < max_start_end_delta:\n",
    "            new_blink_sets.append(blink_set)\n",
    "    return new_blink_sets\n",
    "\n",
    "MAX_START_END_DELTA = std\n",
    "blink_sets = filter_blink_sets_by_start_end_delta(data=data.copy(), blink_sets=blink_sets, max_start_end_delta=MAX_START_END_DELTA)\n",
    "blink_set_statistics(blink_sets)"
   ],
   "metadata": {
    "collapsed": false,
    "pycharm": {
     "name": "#%%\n"
    }
   }
  },
  {
   "cell_type": "markdown",
   "source": [
    "### Calculate Basic Features"
   ],
   "metadata": {
    "collapsed": false,
    "pycharm": {
     "name": "#%% md\n"
    }
   }
  },
  {
   "cell_type": "code",
   "execution_count": 347,
   "outputs": [],
   "source": [
    "REOPENING_THRESHOLD = .05\n",
    "\n",
    "class BlinkEvent:\n",
    "    eye_closure_data = pd.DataFrame(data_copy.copy())\n",
    "    def __init__(self, indices: List[int]):\n",
    "        \"\"\"indices contains the index of each value of one blink event. The first\n",
    "        marks the start and the last one the end.\"\"\"\n",
    "        self.indices = indices\n",
    "        self.event_data: pd.DataFrame = self.eye_closure_data.iloc[self.indices]\n",
    "        self._reopen_idx = None\n",
    "        self._closing_end_idx = None\n",
    "        self._blink_interval= None\n",
    "        self._max_closing_speed_idx = None\n",
    "\n",
    "\n",
    "    @property\n",
    "    def full_closure_idx(self):\n",
    "        return self.event_data.idxmax(axis=\"index\")\n",
    "\n",
    "    @property\n",
    "    def full_closure(self):\n",
    "        return self.event_data[self.full_closure_idx]\n",
    "\n",
    "    @property\n",
    "    def amplitude(self):\n",
    "        return (self.event_data.max() - self.event_data.min())#[0]\n",
    "\n",
    "    @property\n",
    "    def start_idx(self):\n",
    "        return self.indices[0]\n",
    "\n",
    "    @property\n",
    "    def start(self):\n",
    "        return self.event_data[self.start_idx]\n",
    "\n",
    "    @property\n",
    "    def end_idx(self):\n",
    "        return self.indices[-1]\n",
    "\n",
    "    @property\n",
    "    def end(self):\n",
    "        return self.event_data[self.end_idx]\n",
    "\n",
    "    @property\n",
    "    def reopen_start_idx(self):\n",
    "        if self._reopen_idx:\n",
    "            return self._reopen_idx\n",
    "        reopen_idx = self.full_closure_idx[0]\n",
    "        for idx in self.indices[self.indices.index(reopen_idx + 1):]:\n",
    "            if abs(self.event_data.loc[reopen_idx, 0] - self.event_data.loc[idx,0]) < REOPENING_THRESHOLD:\n",
    "                reopen_idx = idx\n",
    "            else:\n",
    "                break\n",
    "        self._reopen_idx = reopen_idx\n",
    "\n",
    "        closing_end_idx = self.full_closure_idx[0]\n",
    "        for idx in self.indices[self.indices.index(reopen_idx - 1)::-1]:\n",
    "            if abs(self.event_data.loc[closing_end_idx, 0] - self.event_data.loc[idx,0]) < REOPENING_THRESHOLD:\n",
    "                closing_end_idx = idx\n",
    "            else:\n",
    "                break\n",
    "\n",
    "        self._closing_end_idx = closing_end_idx\n",
    "        return self._reopen_idx\n",
    "\n",
    "    @property\n",
    "    def closing_end_idx(self):\n",
    "        if self._closing_end_idx:\n",
    "            return self._closing_end_idx\n",
    "        _ = self.reopen_start_idx\n",
    "        return self._closing_end_idx\n",
    "\n",
    "    @property\n",
    "    def blink_interval(self):\n",
    "        if self._blink_interval is None:\n",
    "            raise ValueError(\"blink interval can only be set externally.\")\n",
    "        return self._blink_interval\n",
    "\n",
    "    @property\n",
    "    def closing_speed(self):\n",
    "        distance = self.event_data.loc[self.closing_end_idx, 0] - self.event_data.loc[self.start_idx, 0]\n",
    "        time = self.closing_end_idx - self.start_idx\n",
    "        return distance/time\n",
    "\n",
    "    @property\n",
    "    def max_closing_speed(self):\n",
    "        closing_data = self.event_data.loc[self.start_idx:self.closing_end_idx, 0]\n",
    "        z =  closing_data.diff()\n",
    "        self._max_closing_speed_idx = z[z==z.max()].index[0]\n",
    "        return z.max()\n",
    "\n",
    "    @property\n",
    "    def max_closing_speed_idx(self):\n",
    "        if self._max_closing_speed_idx:\n",
    "            return self._max_closing_speed_idx\n",
    "        _ = self.max_closing_speed_idx\n",
    "        return self._max_closing_speed_idx\n",
    "\n",
    "    @property\n",
    "    def lid_opening_delay(self):\n",
    "        return self.closing_end_idx - self.reopen_start_idx\n",
    "\n",
    "blink_events = [BlinkEvent(indices=index_set) for index_set in blink_sets]"
   ],
   "metadata": {
    "collapsed": false,
    "pycharm": {
     "name": "#%%\n"
    }
   }
  },
  {
   "cell_type": "code",
   "execution_count": 355,
   "outputs": [],
   "source": [
    "def set_blink_intervalls(blink_events: List[BlinkEvent]):\n",
    "    for i, be in enumerate(blink_events):\n",
    "        if i == 0:\n",
    "            be._blink_interval = 0\n",
    "            continue\n",
    "        be._blink_interval = be.start_idx - blink_events[i-1].end_idx\n",
    "    return blink_events\n",
    "\n",
    "blink_events = set_blink_intervalls(blink_events=blink_events)"
   ],
   "metadata": {
    "collapsed": false,
    "pycharm": {
     "name": "#%%\n"
    }
   }
  },
  {
   "cell_type": "code",
   "execution_count": 356,
   "outputs": [
    {
     "name": "stdout",
     "output_type": "stream",
     "text": [
      "0\n",
      "97\n",
      "186\n",
      "62\n",
      "115\n",
      "27\n",
      "129\n",
      "16\n",
      "143\n",
      "276\n",
      "75\n",
      "149\n",
      "722\n",
      "34\n",
      "297\n",
      "238\n",
      "153\n",
      "112\n",
      "519\n",
      "302\n",
      "298\n",
      "161\n",
      "1640\n",
      "26\n",
      "9\n",
      "1\n",
      "502\n",
      "921\n",
      "129\n",
      "79\n",
      "678\n",
      "356\n",
      "89\n",
      "288\n",
      "3379\n",
      "0\n",
      "0\n",
      "327\n",
      "233\n",
      "1003\n",
      "70\n",
      "5\n",
      "62\n",
      "36\n",
      "280\n",
      "96\n",
      "69\n",
      "349\n",
      "48\n",
      "17\n",
      "48\n",
      "227\n",
      "289\n",
      "205\n",
      "38\n",
      "20\n",
      "135\n",
      "157\n",
      "228\n",
      "0\n",
      "32\n",
      "2\n",
      "46\n",
      "52\n",
      "265\n",
      "7\n",
      "259\n",
      "24\n",
      "176\n",
      "69\n",
      "206\n",
      "161\n",
      "65\n",
      "341\n",
      "148\n",
      "58\n",
      "303\n",
      "231\n",
      "388\n",
      "23\n",
      "137\n",
      "212\n",
      "415\n",
      "60\n",
      "280\n",
      "255\n",
      "290\n",
      "243\n",
      "256\n",
      "230\n",
      "962\n",
      "23\n",
      "50\n",
      "94\n",
      "18\n",
      "161\n",
      "19\n",
      "205\n",
      "292\n",
      "2\n",
      "161\n",
      "37\n",
      "36\n",
      "129\n",
      "210\n",
      "156\n",
      "183\n",
      "39\n",
      "623\n",
      "431\n",
      "241\n",
      "414\n",
      "399\n",
      "280\n",
      "393\n",
      "1603\n",
      "686\n",
      "439\n",
      "318\n",
      "33\n",
      "0\n",
      "81\n",
      "1055\n",
      "188\n",
      "26\n",
      "95\n",
      "22\n",
      "2\n",
      "60\n",
      "48\n",
      "49\n",
      "71\n",
      "512\n",
      "240\n",
      "325\n",
      "24\n",
      "280\n",
      "722\n",
      "58\n",
      "26\n",
      "37\n",
      "225\n",
      "0\n",
      "22\n",
      "81\n",
      "6\n",
      "282\n",
      "531\n",
      "28\n",
      "247\n",
      "19\n",
      "8\n",
      "40\n",
      "78\n",
      "32\n",
      "0\n",
      "864\n",
      "209\n",
      "114\n",
      "70\n",
      "97\n",
      "2\n",
      "90\n",
      "966\n",
      "281\n",
      "23\n",
      "2\n",
      "11\n",
      "231\n",
      "204\n",
      "40\n",
      "58\n",
      "50\n",
      "89\n",
      "5\n",
      "82\n",
      "229\n",
      "221\n",
      "7\n",
      "8\n",
      "469\n",
      "3864\n",
      "1165\n",
      "336\n",
      "380\n",
      "181\n",
      "35\n",
      "122\n",
      "264\n",
      "319\n",
      "229\n",
      "13\n",
      "63\n",
      "41\n",
      "5\n",
      "74\n",
      "29\n",
      "52\n",
      "116\n",
      "161\n",
      "106\n",
      "107\n",
      "24\n",
      "159\n",
      "53\n",
      "17\n",
      "125\n",
      "404\n",
      "25\n",
      "56\n",
      "578\n",
      "706\n",
      "1127\n",
      "1701\n",
      "52\n",
      "1\n",
      "92\n",
      "154\n",
      "6\n",
      "904\n",
      "359\n",
      "14\n",
      "52\n",
      "12\n",
      "253\n",
      "44\n",
      "249\n",
      "457\n",
      "431\n",
      "332\n",
      "958\n",
      "187\n",
      "526\n",
      "14\n",
      "358\n",
      "341\n",
      "147\n",
      "82\n",
      "117\n",
      "20\n",
      "44\n",
      "438\n",
      "37\n",
      "1073\n",
      "219\n",
      "601\n",
      "1074\n",
      "2086\n",
      "218\n",
      "55\n",
      "420\n",
      "289\n",
      "748\n",
      "40\n",
      "52\n",
      "1621\n",
      "168\n",
      "196\n",
      "247\n",
      "26\n",
      "1253\n",
      "1370\n",
      "146\n",
      "2328\n",
      "120\n",
      "353\n",
      "145\n",
      "193\n",
      "169\n",
      "17\n",
      "18\n",
      "370\n",
      "10\n",
      "34\n",
      "124\n",
      "119\n",
      "40\n",
      "2305\n",
      "49\n",
      "1073\n",
      "1169\n",
      "13\n",
      "45\n",
      "16\n",
      "4\n",
      "12\n",
      "61\n",
      "14\n",
      "7\n",
      "15\n",
      "50\n",
      "26\n",
      "24\n",
      "63\n",
      "43\n",
      "55\n",
      "465\n",
      "28\n",
      "25\n",
      "284\n",
      "670\n",
      "333\n",
      "528\n",
      "301\n",
      "28\n",
      "1960\n",
      "70\n",
      "194\n",
      "155\n",
      "572\n",
      "299\n",
      "113\n",
      "597\n",
      "2002\n",
      "15\n",
      "70\n",
      "41\n",
      "43\n",
      "1155\n",
      "357\n",
      "795\n",
      "27\n",
      "485\n",
      "216\n",
      "480\n",
      "612\n",
      "769\n",
      "21\n",
      "19\n",
      "226\n",
      "243\n",
      "39\n",
      "390\n",
      "178\n",
      "116\n",
      "384\n",
      "39\n",
      "205\n",
      "26\n",
      "556\n",
      "458\n",
      "209\n",
      "493\n",
      "267\n",
      "92\n",
      "70\n",
      "308\n",
      "26\n",
      "195\n",
      "130\n",
      "192\n",
      "109\n",
      "75\n",
      "5760\n",
      "339\n",
      "464\n",
      "0\n",
      "30\n",
      "348\n",
      "157\n",
      "74\n",
      "13\n",
      "147\n",
      "69\n",
      "26\n",
      "18\n",
      "33\n",
      "67\n",
      "144\n",
      "356\n",
      "8\n",
      "3\n",
      "114\n",
      "306\n",
      "479\n",
      "4\n",
      "1296\n",
      "36\n",
      "3044\n",
      "1\n",
      "921\n",
      "863\n",
      "28\n",
      "314\n",
      "1027\n",
      "24\n",
      "2\n",
      "26\n",
      "1336\n",
      "1098\n",
      "2754\n",
      "27\n",
      "112\n",
      "20\n",
      "2530\n",
      "1428\n",
      "18\n",
      "0\n",
      "36\n",
      "21\n",
      "5\n",
      "36\n",
      "0\n",
      "52\n",
      "71\n",
      "6\n",
      "4\n",
      "681\n",
      "988\n",
      "222\n",
      "1178\n",
      "237\n",
      "377\n",
      "888\n",
      "0\n",
      "20\n",
      "18\n",
      "286\n",
      "2933\n",
      "27\n",
      "0\n",
      "1\n",
      "47\n",
      "678\n",
      "1605\n",
      "0\n",
      "28\n",
      "21\n",
      "2\n",
      "2\n",
      "15\n",
      "116\n",
      "327\n",
      "675\n",
      "874\n",
      "261\n",
      "1438\n",
      "29\n",
      "1150\n",
      "108\n",
      "121\n",
      "48\n",
      "1\n",
      "13\n",
      "22\n",
      "131\n",
      "0\n",
      "8\n",
      "18\n",
      "3\n",
      "24\n",
      "17\n",
      "1778\n",
      "0\n",
      "55\n",
      "149\n",
      "561\n",
      "303\n",
      "436\n",
      "414\n",
      "987\n",
      "354\n",
      "224\n",
      "493\n",
      "251\n",
      "334\n",
      "63\n",
      "293\n",
      "8\n",
      "14\n",
      "98\n",
      "18\n",
      "132\n",
      "36\n",
      "389\n",
      "458\n",
      "15\n",
      "155\n",
      "298\n",
      "269\n",
      "744\n",
      "974\n",
      "13\n",
      "520\n",
      "64\n",
      "10\n",
      "48\n",
      "21\n",
      "1113\n",
      "1086\n",
      "298\n",
      "60\n",
      "620\n",
      "457\n",
      "15\n",
      "236\n",
      "185\n",
      "54\n",
      "231\n",
      "5\n",
      "6\n",
      "36\n",
      "295\n",
      "587\n",
      "375\n",
      "340\n",
      "226\n",
      "632\n",
      "20\n",
      "1653\n",
      "26\n",
      "21\n",
      "156\n",
      "77\n",
      "1015\n",
      "12\n",
      "144\n",
      "3\n",
      "228\n",
      "428\n"
     ]
    }
   ],
   "source": [
    "for be in blink_events:\n",
    "    print(be.blink_interval)"
   ],
   "metadata": {
    "collapsed": false,
    "pycharm": {
     "name": "#%%\n"
    }
   }
  },
  {
   "cell_type": "code",
   "execution_count": null,
   "outputs": [],
   "source": [],
   "metadata": {
    "collapsed": false,
    "pycharm": {
     "name": "#%%\n"
    }
   }
  }
 ],
 "metadata": {
  "kernelspec": {
   "display_name": "Python 3",
   "language": "python",
   "name": "python3"
  },
  "language_info": {
   "codemirror_mode": {
    "name": "ipython",
    "version": 3
   },
   "file_extension": ".py",
   "mimetype": "text/x-python",
   "name": "python",
   "nbconvert_exporter": "python",
   "pygments_lexer": "ipython3",
   "version": "3.9.7"
  }
 },
 "nbformat": 4,
 "nbformat_minor": 1
}