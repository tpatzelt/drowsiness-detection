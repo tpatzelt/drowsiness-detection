{
 "cells": [
  {
   "cell_type": "code",
   "execution_count": 1,
   "metadata": {
    "ExecuteTime": {
     "end_time": "2021-05-02T15:32:13.584007Z",
     "start_time": "2021-05-02T15:32:11.653436Z"
    }
   },
   "outputs": [],
   "source": [
    "import json\n",
    "from pathlib import Path\n",
    "import pandas as pd\n",
    "from functools import reduce\n",
    "from itertools import repeat\n",
    "import numpy as np\n",
    "from tqdm import tqdm\n",
    "import matplotlib.pyplot as plt\n",
    "import numpy as np\n",
    "from scipy.signal import savgol_filter\n",
    "\n",
    "from blink_features import add_blink_features_by_eye_state, add_perclos_features_to_df, add_blink_features\n",
    "from response_features import add_karolinska_file_to_feature_df\n",
    "from helpers import print_nan_intersections"
   ]
  },
  {
   "cell_type": "markdown",
   "metadata": {},
   "source": [
    "### get files of data"
   ]
  },
  {
   "cell_type": "code",
   "execution_count": 2,
   "metadata": {
    "ExecuteTime": {
     "end_time": "2021-05-02T15:32:13.599081Z",
     "start_time": "2021-05-02T15:32:13.594812Z"
    }
   },
   "outputs": [],
   "source": [
    "session_identifier = \"karolinska\"\n",
    "files = [str(p) for p in Path(\"sleep_alc_labels\").iterdir()]\n",
    "\n",
    "session_files = sorted([file for file in files if session_identifier in file])\n",
    "# print(\"\\n\".join(session_files))\n",
    "\n",
    "feature_files = sorted([str(p) for p in Path(\"potsdam_aeye_112020\").iterdir()])\n",
    "# with open(feature_files[0]) as fp:\n",
    "#     data = json.loads(fp.read())\n",
    "# print(data[0])"
   ]
  },
  {
   "cell_type": "code",
   "execution_count": 6,
   "metadata": {
    "ExecuteTime": {
     "end_time": "2021-05-02T15:52:11.937597Z",
     "start_time": "2021-05-02T15:43:54.878770Z"
    },
    "scrolled": false
   },
   "outputs": [
    {
     "name": "stdout",
     "output_type": "stream",
     "text": [
      "Extracting file potsdam_aeye_112020/001_1_a.json and response file: sleep_alc_labels/001_1_a_karolinska.csv.\n"
     ]
    },
    {
     "name": "stderr",
     "output_type": "stream",
     "text": [
      "100%|██████████| 168847/168847 [00:14<00:00, 11751.55it/s]\n"
     ]
    },
    {
     "name": "stdout",
     "output_type": "stream",
     "text": [
      "Extracting file potsdam_aeye_112020/001_2_s.json and response file: sleep_alc_labels/001_2_s_karolinska.csv.\n"
     ]
    },
    {
     "name": "stderr",
     "output_type": "stream",
     "text": [
      "100%|██████████| 137537/137537 [00:11<00:00, 11982.50it/s]\n"
     ]
    },
    {
     "name": "stdout",
     "output_type": "stream",
     "text": [
      "Extracting file potsdam_aeye_112020/001_3_b.json and response file: sleep_alc_labels/001_3_b_karolinska.csv.\n"
     ]
    },
    {
     "name": "stderr",
     "output_type": "stream",
     "text": [
      "100%|██████████| 150047/150047 [00:18<00:00, 8052.12it/s] \n"
     ]
    },
    {
     "name": "stdout",
     "output_type": "stream",
     "text": [
      "Extracting file potsdam_aeye_112020/002_1_b.json and response file: sleep_alc_labels/002_1_b_karolinska.csv.\n"
     ]
    },
    {
     "name": "stderr",
     "output_type": "stream",
     "text": [
      "100%|██████████| 175077/175077 [00:18<00:00, 9562.57it/s] \n"
     ]
    },
    {
     "name": "stdout",
     "output_type": "stream",
     "text": [
      "Extracting file potsdam_aeye_112020/002_2_a.json and response file: sleep_alc_labels/002_2_a_karolinska.csv.\n"
     ]
    },
    {
     "name": "stderr",
     "output_type": "stream",
     "text": [
      "100%|██████████| 212082/212082 [00:33<00:00, 6386.03it/s]\n"
     ]
    },
    {
     "name": "stdout",
     "output_type": "stream",
     "text": [
      "Extracting file potsdam_aeye_112020/002_3_s.json and response file: sleep_alc_labels/002_3_s_karolinska.csv.\n"
     ]
    },
    {
     "name": "stderr",
     "output_type": "stream",
     "text": [
      "100%|██████████| 156257/156257 [00:16<00:00, 9333.60it/s] \n"
     ]
    },
    {
     "name": "stdout",
     "output_type": "stream",
     "text": [
      "Extracting file potsdam_aeye_112020/003_1_b.json and response file: sleep_alc_labels/003_1_b_karolinska.csv.\n"
     ]
    },
    {
     "name": "stderr",
     "output_type": "stream",
     "text": [
      "100%|██████████| 165426/165426 [00:17<00:00, 9637.78it/s] \n"
     ]
    },
    {
     "name": "stdout",
     "output_type": "stream",
     "text": [
      "Extracting file potsdam_aeye_112020/003_2_s.json and response file: sleep_alc_labels/003_2_s_karolinska.csv.\n"
     ]
    },
    {
     "name": "stderr",
     "output_type": "stream",
     "text": [
      "100%|██████████| 169153/169153 [00:19<00:00, 8678.87it/s] \n"
     ]
    },
    {
     "name": "stdout",
     "output_type": "stream",
     "text": [
      "Extracting file potsdam_aeye_112020/003_3_a.json and response file: sleep_alc_labels/003_3_a_karolinska.csv.\n"
     ]
    },
    {
     "name": "stderr",
     "output_type": "stream",
     "text": [
      "100%|██████████| 185125/185125 [00:24<00:00, 7441.23it/s]\n"
     ]
    },
    {
     "name": "stdout",
     "output_type": "stream",
     "text": [
      "Extracting file potsdam_aeye_112020/004_1_s.json and response file: sleep_alc_labels/004_1_s_karolinska.csv.\n"
     ]
    },
    {
     "name": "stderr",
     "output_type": "stream",
     "text": [
      "100%|██████████| 169108/169108 [00:27<00:00, 6106.84it/s]\n"
     ]
    },
    {
     "name": "stdout",
     "output_type": "stream",
     "text": [
      "Extracting file potsdam_aeye_112020/004_2_a.json and response file: sleep_alc_labels/004_2_a_karolinska.csv.\n"
     ]
    },
    {
     "name": "stderr",
     "output_type": "stream",
     "text": [
      "100%|██████████| 170013/170013 [00:18<00:00, 8990.67it/s] \n"
     ]
    },
    {
     "name": "stdout",
     "output_type": "stream",
     "text": [
      "Extracting file potsdam_aeye_112020/004_3_b.json and response file: sleep_alc_labels/004_3_b_karolinska.csv.\n"
     ]
    },
    {
     "name": "stderr",
     "output_type": "stream",
     "text": [
      "100%|██████████| 149516/149516 [00:16<00:00, 8908.74it/s] \n"
     ]
    },
    {
     "name": "stdout",
     "output_type": "stream",
     "text": [
      "Extracting file potsdam_aeye_112020/005_1_s.json and response file: sleep_alc_labels/005_1_s_karolinska.csv.\n"
     ]
    },
    {
     "name": "stderr",
     "output_type": "stream",
     "text": [
      "100%|██████████| 160035/160035 [00:21<00:00, 7450.42it/s] \n"
     ]
    },
    {
     "name": "stdout",
     "output_type": "stream",
     "text": [
      "Extracting file potsdam_aeye_112020/005_2_b.json and response file: sleep_alc_labels/005_2_b_karolinska.csv.\n"
     ]
    },
    {
     "name": "stderr",
     "output_type": "stream",
     "text": [
      "100%|██████████| 147373/147373 [00:16<00:00, 8702.58it/s] \n"
     ]
    },
    {
     "name": "stdout",
     "output_type": "stream",
     "text": [
      "Extracting file potsdam_aeye_112020/005_3_a.json and response file: sleep_alc_labels/005_3_a_karolinska.csv.\n"
     ]
    },
    {
     "name": "stderr",
     "output_type": "stream",
     "text": [
      "100%|██████████| 190628/190628 [00:24<00:00, 7756.64it/s] \n"
     ]
    },
    {
     "name": "stdout",
     "output_type": "stream",
     "text": [
      "Extracting file potsdam_aeye_112020/008_1_b.json and response file: sleep_alc_labels/008_1_b_karolinska.csv.\n"
     ]
    },
    {
     "name": "stderr",
     "output_type": "stream",
     "text": [
      "100%|██████████| 167951/167951 [00:18<00:00, 9022.50it/s] \n"
     ]
    },
    {
     "name": "stdout",
     "output_type": "stream",
     "text": [
      "Extracting file potsdam_aeye_112020/008_2_a.json and response file: sleep_alc_labels/008_2_a_karolinska.csv.\n"
     ]
    },
    {
     "name": "stderr",
     "output_type": "stream",
     "text": [
      "100%|██████████| 181733/181733 [00:16<00:00, 10807.54it/s]\n"
     ]
    },
    {
     "name": "stdout",
     "output_type": "stream",
     "text": [
      "Extracting file potsdam_aeye_112020/008_3_s.json and response file: sleep_alc_labels/008_3_s_karolinska.csv.\n"
     ]
    },
    {
     "name": "stderr",
     "output_type": "stream",
     "text": [
      "100%|██████████| 158511/158511 [00:11<00:00, 13373.91it/s]\n"
     ]
    },
    {
     "name": "stdout",
     "output_type": "stream",
     "text": [
      "Extracting file potsdam_aeye_112020/009_1_b.json and response file: sleep_alc_labels/009_1_b_karolinska.csv.\n"
     ]
    },
    {
     "name": "stderr",
     "output_type": "stream",
     "text": [
      "100%|██████████| 161757/161757 [00:22<00:00, 7102.72it/s] \n"
     ]
    },
    {
     "name": "stdout",
     "output_type": "stream",
     "text": [
      "Extracting file potsdam_aeye_112020/011_1_s.json and response file: sleep_alc_labels/011_1_s_karolinska.csv.\n"
     ]
    },
    {
     "name": "stderr",
     "output_type": "stream",
     "text": [
      "100%|██████████| 149883/149883 [00:19<00:00, 7501.72it/s] \n"
     ]
    },
    {
     "name": "stdout",
     "output_type": "stream",
     "text": [
      "Extracting file potsdam_aeye_112020/011_2_b.json and response file: sleep_alc_labels/011_2_b_karolinska.csv.\n"
     ]
    },
    {
     "name": "stderr",
     "output_type": "stream",
     "text": [
      "100%|██████████| 145378/145378 [00:14<00:00, 10072.09it/s]\n"
     ]
    },
    {
     "name": "stdout",
     "output_type": "stream",
     "text": [
      "Extracting file potsdam_aeye_112020/011_3_a.json and response file: sleep_alc_labels/011_3_a_karolinska.csv.\n"
     ]
    },
    {
     "name": "stderr",
     "output_type": "stream",
     "text": [
      "100%|██████████| 162319/162319 [00:16<00:00, 9974.63it/s] \n"
     ]
    },
    {
     "name": "stdout",
     "output_type": "stream",
     "text": [
      "Extracting file potsdam_aeye_112020/014_1_b.json and response file: sleep_alc_labels/014_1_b_karolinska.csv.\n"
     ]
    },
    {
     "name": "stderr",
     "output_type": "stream",
     "text": [
      "100%|██████████| 147355/147355 [00:23<00:00, 6217.99it/s]\n"
     ]
    }
   ],
   "source": [
    "def session_file_to_df(filepath: str, filepath_response: str) -> pd.DataFrame:\n",
    "    print(\n",
    "        f\"Extracting file {filepath} and response file: {filepath_response}.\")\n",
    "    with open(filepath) as fp:\n",
    "        data = json.loads(fp.read())\n",
    "\n",
    "    # join data\n",
    "    df_eye_closure = pd.DataFrame([item[\"eye_closure\"] for item in data])\n",
    "    df_eye_closure[\n",
    "        df_eye_closure <\n",
    "        0] = 0  # some values are negative and need to be set to zero\n",
    "    df_eye_state = pd.DataFrame([item[\"eye_state\"] for item in data])\n",
    "    df_closure_and_state = df_eye_closure.join(df_eye_state,\n",
    "                                               rsuffix=\"_eye_state\",\n",
    "                                               rsuffix=\"_eye_state\",\n",
    "                                               lsuffix=\"_eye_closure\")\n",
    "\n",
    "    # add meta data\n",
    "    filename = Path(filepath).stem\n",
    "    subject_id, session_id, session_type = filename.split(\"_\")\n",
    "    df_closure_and_state[\"subject_id\"] = subject_id\n",
    "    df_closure_and_state[\"session_id\"] = session_id\n",
    "    df_closure_and_state[\"session_type\"] = session_type\n",
    "\n",
    "    # add blink features by eye state\n",
    "    df_closure_and_state = add_blink_features_by_eye_state(\n",
    "        feature_df=df_closure_and_state, interval_in_sec=240)\n",
    "\n",
    "    # add karolinksa response\n",
    "    df_closure_and_state = add_karolinska_file_to_feature_df(\n",
    "        filepath=filepath_response, feature_df=df_closure_and_state)\n",
    "\n",
    "    # assign dtypes\n",
    "    df_closure_and_state[\"subject_id\"] = df_closure_and_state[\n",
    "        \"subject_id\"].astype(\"float\").astype(\"Int8\", copy=False)\n",
    "    df_closure_and_state[\"session_id\"] = df_closure_and_state[\n",
    "        \"session_id\"].astype(\"float\").astype(\"Int8\", copy=False)\n",
    "    df_closure_and_state[\"session_type\"] = df_closure_and_state[\n",
    "        \"session_type\"].apply(lambda x: (ord(x) - 97)).astype(\"float\").astype(\n",
    "            \"Int8\", copy=False)\n",
    "    df_closure_and_state[[\n",
    "        \"combined_eye_state\", \"left_image_eye_state\", \"right_image_eye_state\"\n",
    "    ]] = df_closure_and_state[[\n",
    "        \"combined_eye_state\", \"left_image_eye_state\", \"right_image_eye_state\"\n",
    "    ]].astype(\"float\").astype(\"Int8\", copy=False)\n",
    "    # df_closure_and_state[\"perclos_combined_60s_interval\"] = df_closure_and_state[\"perclos_combined_60s_interval\"].astype(\"Int16\", copy=False)\n",
    "    # df_closure_and_state['max_blink_duration_60s_interval'] = df_closure_and_state['max_blink_duration_60s_interval'].astype(\"Int16\", copy=False)\n",
    "    # df_closure_and_state['min_blink_duration_60s_interval'] = df_closure_and_state['min_blink_duration_60s_interval'].astype(\"Int16\", copy=False)\n",
    "    # df_closure_and_state['mean_blink_duration_60s_interval'] = df_closure_and_state['mean_blink_duration_60s_interval'].astype(\"Float16\", copy=False)\n",
    "    # df_closure_and_state['blink_counts_60s_interval'] = df_closure_and_state['blink_counts_60s_interval'].astype(\"Int16\", copy=False)\n",
    "    # df_closure_and_state[\"num_blinks\"] = df_closure_and_state[\"num_blinks\"].astype(\"float\").astype(\"Int8\", copy=False)\n",
    "\n",
    "    # create multi-index\n",
    "    multi_index = pd.MultiIndex.from_product(\n",
    "        [[filename], df_closure_and_state.index], names=[\"filename\", \"frame\"])\n",
    "    df_closure_and_state.index = multi_index\n",
    "\n",
    "    return df_closure_and_state\n",
    "\n",
    "\n",
    "feature_df = pd.concat(\n",
    "    list(map(session_file_to_df, feature_files, session_files)))"
   ]
  },
  {
   "cell_type": "markdown",
   "metadata": {},
   "source": [
    "#### save data of alle subjects and session"
   ]
  },
  {
   "cell_type": "code",
   "execution_count": 4,
   "metadata": {
    "ExecuteTime": {
     "end_time": "2021-05-02T15:41:36.804372Z",
     "start_time": "2021-05-02T15:41:36.797856Z"
    }
   },
   "outputs": [
    {
     "name": "stdout",
     "output_type": "stream",
     "text": [
      "<class 'pandas.core.frame.DataFrame'>\n",
      "MultiIndex: 3781111 entries, ('001_1_a', 0) to ('014_1_b', 147354)\n",
      "Data columns (total 15 columns):\n",
      " #   Column                                     Dtype  \n",
      "---  ------                                     -----  \n",
      " 0   combined_eye_closure                       float64\n",
      " 1   left_image_eye_closure                     float64\n",
      " 2   right_image_eye_closure                    float64\n",
      " 3   combined_eye_state                         Int8   \n",
      " 4   left_image_eye_state                       Int8   \n",
      " 5   right_image_eye_state                      Int8   \n",
      " 6   subject_id                                 Int8   \n",
      " 7   session_id                                 Int8   \n",
      " 8   session_type                               Int8   \n",
      " 9   num_blinks                                 Int16  \n",
      " 10  mean_blink_length                          float64\n",
      " 11  mean_opening_velocity                      float64\n",
      " 12  mean_closing_velocity                      float64\n",
      " 13  karolinska_response_nearest_interpolation  Int8   \n",
      " 14  karolinska_response_linear_interpolation   Int8   \n",
      "dtypes: Int16(1), Int8(8), float64(6)\n",
      "memory usage: 271.2 MB\n"
     ]
    }
   ],
   "source": [
    "feature_df.info(memory_usage=\"deep\")"
   ]
  },
  {
   "cell_type": "code",
   "execution_count": 5,
   "metadata": {
    "ExecuteTime": {
     "end_time": "2021-05-02T15:41:37.152524Z",
     "start_time": "2021-05-02T15:41:36.838565Z"
    }
   },
   "outputs": [],
   "source": [
    "feature_df.to_pickle(\"./all_features_240s.pkl\")"
   ]
  },
  {
   "cell_type": "code",
   "execution_count": 6,
   "metadata": {
    "ExecuteTime": {
     "end_time": "2021-04-01T15:00:20.084528Z",
     "start_time": "2021-04-01T15:00:20.066805Z"
    }
   },
   "outputs": [
    {
     "ename": "SyntaxError",
     "evalue": "'break' outside loop (<ipython-input-6-6aaf1f276005>, line 4)",
     "output_type": "error",
     "traceback": [
      "\u001B[0;36m  File \u001B[0;32m\"<ipython-input-6-6aaf1f276005>\"\u001B[0;36m, line \u001B[0;32m4\u001B[0m\n\u001B[0;31mSyntaxError\u001B[0m\u001B[0;31m:\u001B[0m 'break' outside loop\n"
     ]
    }
   ],
   "source": [
    "break"
   ]
  },
  {
   "cell_type": "code",
   "execution_count": null,
   "metadata": {
    "ExecuteTime": {
     "end_time": "2021-04-01T15:00:20.092653Z",
     "start_time": "2021-04-01T14:53:16.842Z"
    }
   },
   "outputs": [],
   "source": [
    "feature_df[\"num_blinks\"].astype(\"Int16\")"
   ]
  },
  {
   "cell_type": "markdown",
   "metadata": {},
   "source": [
    "### alternative way of calculating blink features without eye state (not working)"
   ]
  },
  {
   "cell_type": "code",
   "execution_count": null,
   "metadata": {
    "ExecuteTime": {
     "end_time": "2021-04-01T15:00:20.093304Z",
     "start_time": "2021-04-01T14:53:16.843Z"
    }
   },
   "outputs": [],
   "source": [
    "opening = df.slope <= 0\n",
    "closing = -opening\n",
    "\n",
    "mean_velocity = []\n",
    "blink_lengths = []\n",
    "indices_to_track = []\n",
    "\n",
    "all_indices = []\n",
    "status = True\n",
    "for index in df.index:\n",
    "    if opening[index] == status:\n",
    "        indices_to_track.append(index)\n",
    "    else:\n",
    "        if indices_to_track:\n",
    "            all_indices.append(indices_to_track)\n",
    "\n",
    "            mean_slope = (np.mean(\n",
    "                df[\"slope\"][indices_to_track[0]:indices_to_track[-1] + 1]))\n",
    "            length = len(indices_to_track)\n",
    "            mean_velocity.extend([mean_slope] * length)\n",
    "            blink_lengths.extend([length] * length)\n",
    "\n",
    "        indices_to_track = list()\n",
    "        indices_to_track.append(index)\n",
    "        status = opening[index]\n",
    "mean_slope = np.mean(df[\"slope\"][indices_to_track[0]:indices_to_track[-1] + 1])\n",
    "length = len(indices_to_track)\n",
    "\n",
    "mean_velocity.extend([mean_slope] * length)\n",
    "blink_lengths.extend([length] * length)\n",
    "all_indices.append(indices_to_track)"
   ]
  },
  {
   "cell_type": "code",
   "execution_count": null,
   "metadata": {
    "ExecuteTime": {
     "end_time": "2021-04-01T15:00:20.093888Z",
     "start_time": "2021-04-01T14:53:16.845Z"
    }
   },
   "outputs": [],
   "source": [
    "print(len(df))"
   ]
  },
  {
   "cell_type": "code",
   "execution_count": null,
   "metadata": {
    "ExecuteTime": {
     "end_time": "2021-04-01T15:00:20.094546Z",
     "start_time": "2021-04-01T14:53:16.847Z"
    }
   },
   "outputs": [],
   "source": [
    "df[\"mean_velocity\"] = mean_velocity\n",
    "df[\"opening\"] = opening\n",
    "df[\"blink_length\"] = blink_lengths"
   ]
  },
  {
   "cell_type": "code",
   "execution_count": null,
   "metadata": {
    "ExecuteTime": {
     "end_time": "2021-04-01T15:00:20.095167Z",
     "start_time": "2021-04-01T14:53:16.849Z"
    }
   },
   "outputs": [],
   "source": [
    "df"
   ]
  },
  {
   "cell_type": "code",
   "execution_count": null,
   "metadata": {
    "ExecuteTime": {
     "end_time": "2021-04-01T15:00:20.095985Z",
     "start_time": "2021-04-01T14:53:16.851Z"
    }
   },
   "outputs": [],
   "source": [
    "copy = df.copy()"
   ]
  },
  {
   "cell_type": "code",
   "execution_count": null,
   "metadata": {
    "ExecuteTime": {
     "end_time": "2021-04-01T15:00:20.096694Z",
     "start_time": "2021-04-01T14:53:16.853Z"
    }
   },
   "outputs": [],
   "source": [
    "df = copy.copy()"
   ]
  },
  {
   "cell_type": "code",
   "execution_count": null,
   "metadata": {
    "ExecuteTime": {
     "end_time": "2021-04-01T15:00:20.097446Z",
     "start_time": "2021-04-01T14:53:16.855Z"
    }
   },
   "outputs": [],
   "source": [
    "# mean opening velocity, mean closing velocity, mean opening time, mean closing time\n",
    "open_close_tuples = []\n",
    "for i, indices in enumerate(all_indices):\n",
    "    opening = df[\"opening\"][indices[0]]\n",
    "    if not opening:\n",
    "        is_blink = np.any(df[\"values\"][indices] > .8)\n",
    "        if is_blink:\n",
    "            closing_indices = indices\n",
    "            try:\n",
    "                opening_indices = all_indices[i + 1]\n",
    "            except IndexError:\n",
    "                continue\n",
    "            open_close_tuples.append((closing_indices, opening_indices))"
   ]
  },
  {
   "cell_type": "code",
   "execution_count": null,
   "metadata": {
    "ExecuteTime": {
     "end_time": "2021-04-01T15:00:20.098184Z",
     "start_time": "2021-04-01T14:53:16.857Z"
    }
   },
   "outputs": [],
   "source": [
    "df[\"opening_velocity\"] = pd.NA\n",
    "df[\"closing_velocity\"] = pd.NA\n",
    "df[\"opening_time\"] = pd.NA\n",
    "df[\"closing_time\"] = pd.NA"
   ]
  },
  {
   "cell_type": "code",
   "execution_count": null,
   "metadata": {
    "ExecuteTime": {
     "end_time": "2021-04-01T15:00:20.099154Z",
     "start_time": "2021-04-01T14:53:16.859Z"
    }
   },
   "outputs": [],
   "source": [
    "for closing_ind, opening_ind in open_close_tuples:\n",
    "    # open_and_close_ind = closing_ind + opening_ind\n",
    "    opening_start_idx = opening_ind[0]\n",
    "    closing_start_idx = closing_ind[0]\n",
    "    df.loc[opening_start_idx,\n",
    "           \"opening_velocity\"] = df[\"mean_velocity\"][opening_start_idx]\n",
    "    df.loc[closing_start_idx,\n",
    "           \"closing_velocity\"] = df[\"mean_velocity\"][closing_start_idx]\n",
    "    df.loc[opening_start_idx,\n",
    "           \"opening_time\"] = df[\"blink_length\"][opening_start_idx]\n",
    "    df.loc[closing_start_idx,\n",
    "           \"closing_time\"] = df[\"blink_length\"][closing_start_idx]"
   ]
  },
  {
   "cell_type": "code",
   "execution_count": null,
   "metadata": {
    "ExecuteTime": {
     "end_time": "2021-04-01T15:00:20.099971Z",
     "start_time": "2021-04-01T14:53:16.861Z"
    }
   },
   "outputs": [],
   "source": [
    "# count actual blinks\n",
    "total_blinks = len(open_close_tuples)\n",
    "total_time_min = len(df) / 30 / 60\n",
    "blink_per_min = total_blinks / total_time_min\n",
    "print(\n",
    "    f\"{total_blinks} blinks in {total_time_min} mins. Resulting in {blink_per_min} blinks/min.\"\n",
    ")"
   ]
  },
  {
   "cell_type": "code",
   "execution_count": null,
   "metadata": {
    "ExecuteTime": {
     "end_time": "2021-04-01T15:00:20.100818Z",
     "start_time": "2021-04-01T14:53:16.863Z"
    }
   },
   "outputs": [],
   "source": [
    "bins = [x / 11 for x in range(12)]\n",
    "state_hist = (df[\"values\"]).plot(kind=\"hist\",\n",
    "                                 title=\"eye value distribution\",\n",
    "                                 grid=True,\n",
    "                                 bins=50)"
   ]
  },
  {
   "cell_type": "markdown",
   "metadata": {},
   "source": [
    "use given eye state signal"
   ]
  },
  {
   "cell_type": "code",
   "execution_count": null,
   "metadata": {
    "ExecuteTime": {
     "end_time": "2021-04-01T15:00:20.101680Z",
     "start_time": "2021-04-01T14:53:16.865Z"
    }
   },
   "outputs": [],
   "source": [
    "eye_state = feature_df[\"combined_eye_state\"].astype(pd.Int16Dtype())"
   ]
  },
  {
   "cell_type": "code",
   "execution_count": null,
   "metadata": {
    "ExecuteTime": {
     "end_time": "2021-04-01T15:00:20.102589Z",
     "start_time": "2021-04-01T14:53:16.867Z"
    }
   },
   "outputs": [],
   "source": [
    "eye_state"
   ]
  },
  {
   "cell_type": "code",
   "execution_count": null,
   "metadata": {
    "ExecuteTime": {
     "end_time": "2021-04-01T15:00:20.103587Z",
     "start_time": "2021-04-01T14:53:16.869Z"
    }
   },
   "outputs": [],
   "source": [
    "eye_state.dropna().plot()"
   ]
  },
  {
   "cell_type": "code",
   "execution_count": null,
   "metadata": {
    "ExecuteTime": {
     "end_time": "2021-04-01T15:00:20.104496Z",
     "start_time": "2021-04-01T14:53:16.872Z"
    }
   },
   "outputs": [],
   "source": [
    "eye_state[eye_state == 1].diff()"
   ]
  },
  {
   "cell_type": "code",
   "execution_count": null,
   "metadata": {
    "ExecuteTime": {
     "end_time": "2021-04-01T15:00:20.105406Z",
     "start_time": "2021-04-01T14:53:16.874Z"
    }
   },
   "outputs": [],
   "source": [
    "plt.rcParams[\"figure.figsize\"] = 7, 4\n",
    "\n",
    "pd.Series(\n",
    "    eye_state[eye_state == 1].index).diff().hist(bins=range(0, 1000, 100))"
   ]
  },
  {
   "cell_type": "code",
   "execution_count": null,
   "metadata": {
    "ExecuteTime": {
     "end_time": "2021-04-01T15:00:20.107725Z",
     "start_time": "2021-04-01T14:53:16.876Z"
    }
   },
   "outputs": [],
   "source": [
    "both_df = feature_df[[\"combined_eye_closure\", \"combined_eye_state\"]]"
   ]
  },
  {
   "cell_type": "code",
   "execution_count": null,
   "metadata": {
    "ExecuteTime": {
     "end_time": "2021-04-01T15:00:20.108992Z",
     "start_time": "2021-04-01T14:53:16.878Z"
    }
   },
   "outputs": [],
   "source": [
    "both_df[\"combined_eye_closure\"][both_df.combined_eye_state == 5].hist(bins=20)"
   ]
  },
  {
   "cell_type": "code",
   "execution_count": null,
   "metadata": {
    "ExecuteTime": {
     "end_time": "2021-04-01T15:00:20.110254Z",
     "start_time": "2021-04-01T14:53:16.880Z"
    }
   },
   "outputs": [],
   "source": [
    "both_df[\"combined_eye_closure\"][168485:168550].plot()"
   ]
  },
  {
   "cell_type": "code",
   "execution_count": null,
   "metadata": {
    "ExecuteTime": {
     "end_time": "2021-04-01T15:00:20.111373Z",
     "start_time": "2021-04-01T14:53:16.882Z"
    }
   },
   "outputs": [],
   "source": [
    "plt.plot(both_df[\"combined_eye_closure\"][200:300])"
   ]
  },
  {
   "cell_type": "code",
   "execution_count": null,
   "metadata": {
    "ExecuteTime": {
     "end_time": "2021-04-01T15:00:20.112491Z",
     "start_time": "2021-04-01T14:53:16.884Z"
    }
   },
   "outputs": [],
   "source": [
    "both_df[55470:55476]"
   ]
  },
  {
   "cell_type": "code",
   "execution_count": null,
   "metadata": {
    "ExecuteTime": {
     "end_time": "2021-04-01T15:00:20.113909Z",
     "start_time": "2021-04-01T14:53:16.886Z"
    }
   },
   "outputs": [],
   "source": [
    "n = 2\n",
    "sub_df = both_df[\"combined_eye_state\"][both_df[\"combined_eye_state\"] ==\n",
    "                                       1].sample(n=n)\n",
    "for idx in sub_df.index:\n",
    "    plt.plot(both_df[\"combined_eye_closure\"][idx - 50:idx + 70])\n",
    "    plt.vlines(idx, ymin=0, ymax=1, colors=\"red\", label=str(idx))\n",
    "    plt.legend()\n",
    "    plt.show()"
   ]
  },
  {
   "cell_type": "code",
   "execution_count": null,
   "metadata": {
    "ExecuteTime": {
     "end_time": "2021-04-01T15:00:20.115159Z",
     "start_time": "2021-04-01T14:53:16.888Z"
    }
   },
   "outputs": [],
   "source": [
    "#print(start_idx, closed_idx, end_idx)\n",
    "# plt.plot(both_df[\"combined_eye_closure\"][start_idx - 10:closed_idx + 10])\n",
    "# plt.vlines(start_idx, ymin=0, ymax=1, colors=\"red\", label=\"start/end of blink\")\n",
    "# plt.vlines(closed_idx, ymin=0, ymax=1, colors=\"green\", label=\"max closed\")\n",
    "# plt.vlines(end_idx, ymin=0, ymax=1, colors=\"red\")\n",
    "# #plt.legend()\n",
    "# plt.show()"
   ]
  },
  {
   "cell_type": "code",
   "execution_count": null,
   "metadata": {
    "pycharm": {
     "name": "#%%\n"
    }
   },
   "outputs": [],
   "source": []
  },
  {
   "cell_type": "code",
   "execution_count": null,
   "metadata": {
    "pycharm": {
     "name": "#%%\n"
    }
   },
   "outputs": [],
   "source": []
  }
 ],
 "metadata": {
  "kernelspec": {
   "display_name": "Python 3",
   "language": "python",
   "name": "python3"
  },
  "language_info": {
   "codemirror_mode": {
    "name": "ipython",
    "version": 3
   },
   "file_extension": ".py",
   "mimetype": "text/x-python",
   "name": "python",
   "nbconvert_exporter": "python",
   "pygments_lexer": "ipython3",
   "version": "3.6.9"
  },
  "varInspector": {
   "cols": {
    "lenName": 16,
    "lenType": 16,
    "lenVar": 40
   },
   "kernels_config": {
    "python": {
     "delete_cmd_postfix": "",
     "delete_cmd_prefix": "del ",
     "library": "var_list.py",
     "varRefreshCmd": "print(var_dic_list())"
    },
    "r": {
     "delete_cmd_postfix": ") ",
     "delete_cmd_prefix": "rm(",
     "library": "var_list.r",
     "varRefreshCmd": "cat(var_dic_list()) "
    }
   },
   "position": {
    "height": "293px",
    "left": "1550px",
    "right": "20px",
    "top": "120px",
    "width": "350px"
   },
   "types_to_exclude": [
    "module",
    "function",
    "builtin_function_or_method",
    "instance",
    "_Feature"
   ],
   "window_display": true
  }
 },
 "nbformat": 4,
 "nbformat_minor": 1
}