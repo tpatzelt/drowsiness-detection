{
 "cells": [
  {
   "cell_type": "code",
   "execution_count": 1,
   "metadata": {},
   "outputs": [],
   "source": [
    "import json\n",
    "from pathlib import Path\n",
    "import pandas as pd"
   ]
  },
  {
   "cell_type": "markdown",
   "metadata": {},
   "source": [
    "### Eye Closure Signal Files\n",
    "\n",
    "file pattern: {subject_id}{session_id}{session_type}.json"
   ]
  },
  {
   "cell_type": "markdown",
   "metadata": {},
   "source": [
    "### general\n",
    "* 9 subjects\n",
    "* 3 session with each subject except subject 9 and 14\n",
    "* all 3 session types for each except subject 9 and 14 only type 'b'\n",
    "* index 0 corresponds to the first frame of the experiment (?)\n",
    "* some entries can be none if no eye is detected (?)\n"
   ]
  },
  {
   "cell_type": "code",
   "execution_count": 2,
   "metadata": {},
   "outputs": [
    {
     "name": "stdout",
     "output_type": "stream",
     "text": [
      "001_1_a.json\n",
      "001_2_s.json\n",
      "001_3_b.json\n",
      "002_1_b.json\n",
      "002_2_a.json\n",
      "002_3_s.json\n",
      "003_1_b.json\n",
      "003_2_s.json\n",
      "003_3_a.json\n",
      "004_1_s.json\n",
      "004_2_a.json\n",
      "004_3_b.json\n",
      "005_1_s.json\n",
      "005_2_b.json\n",
      "005_3_a.json\n",
      "008_1_b.json\n",
      "008_2_a.json\n",
      "008_3_s.json\n",
      "009_1_b.json\n",
      "011_1_s.json\n",
      "011_2_b.json\n",
      "011_3_a.json\n",
      "014_1_b.json\n"
     ]
    }
   ],
   "source": [
    "files = [str(p) for p in Path(\"potsdam_aeye_112020/\").iterdir()]\n",
    "for name in sorted(files):\n",
    "    print(name.split(\"/\")[1])\n"
   ]
  },
  {
   "cell_type": "markdown",
   "metadata": {},
   "source": [
    "### Take a look at the data"
   ]
  },
  {
   "cell_type": "markdown",
   "metadata": {},
   "source": [
    "### one sample:\n",
    "* eye_closure for left and right image + combined \n",
    "* eye_state for left and right image + combined\n"
   ]
  },
  {
   "cell_type": "code",
   "execution_count": 3,
   "metadata": {},
   "outputs": [
    {
     "name": "stdout",
     "output_type": "stream",
     "text": [
      "{'eye_closure': {'combined': 0.0923540217333425, 'left_image': 0.09224510959999555, 'right_image': 0.09246293386668947}, 'eye_state': {'combined': 0, 'left_image': 0, 'right_image': 0}, 'index': 0}\n"
     ]
    }
   ],
   "source": [
    "with open(files[0]) as fp:\n",
    "    data = json.loads(fp.read())\n",
    "print(data[0])\n"
   ]
  },
  {
   "cell_type": "code",
   "execution_count": 13,
   "metadata": {},
   "outputs": [],
   "source": [
    "df_eye_closure = pd.DataFrame([item[\"eye_closure\"] for item in data])\n",
    "df_eye_state = pd.DataFrame([item[\"eye_state\"] for item in data], dtype=\"category\")\n"
   ]
  },
  {
   "cell_type": "code",
   "execution_count": 9,
   "metadata": {},
   "outputs": [
    {
     "data": {
      "text/html": [
       "<div>\n",
       "<style scoped>\n",
       "    .dataframe tbody tr th:only-of-type {\n",
       "        vertical-align: middle;\n",
       "    }\n",
       "\n",
       "    .dataframe tbody tr th {\n",
       "        vertical-align: top;\n",
       "    }\n",
       "\n",
       "    .dataframe thead th {\n",
       "        text-align: right;\n",
       "    }\n",
       "</style>\n",
       "<table border=\"1\" class=\"dataframe\">\n",
       "  <thead>\n",
       "    <tr style=\"text-align: right;\">\n",
       "      <th></th>\n",
       "      <th>combined</th>\n",
       "      <th>left_image</th>\n",
       "      <th>right_image</th>\n",
       "    </tr>\n",
       "  </thead>\n",
       "  <tbody>\n",
       "    <tr>\n",
       "      <th>count</th>\n",
       "      <td>144841.000000</td>\n",
       "      <td>144802.000000</td>\n",
       "      <td>144827.000000</td>\n",
       "    </tr>\n",
       "    <tr>\n",
       "      <th>mean</th>\n",
       "      <td>0.214411</td>\n",
       "      <td>0.237528</td>\n",
       "      <td>0.191215</td>\n",
       "    </tr>\n",
       "    <tr>\n",
       "      <th>std</th>\n",
       "      <td>0.111007</td>\n",
       "      <td>0.109668</td>\n",
       "      <td>0.116549</td>\n",
       "    </tr>\n",
       "    <tr>\n",
       "      <th>min</th>\n",
       "      <td>-0.143261</td>\n",
       "      <td>-0.131216</td>\n",
       "      <td>-0.218212</td>\n",
       "    </tr>\n",
       "    <tr>\n",
       "      <th>25%</th>\n",
       "      <td>0.162611</td>\n",
       "      <td>0.186806</td>\n",
       "      <td>0.134355</td>\n",
       "    </tr>\n",
       "    <tr>\n",
       "      <th>50%</th>\n",
       "      <td>0.191154</td>\n",
       "      <td>0.214813</td>\n",
       "      <td>0.168381</td>\n",
       "    </tr>\n",
       "    <tr>\n",
       "      <th>75%</th>\n",
       "      <td>0.224351</td>\n",
       "      <td>0.250020</td>\n",
       "      <td>0.206127</td>\n",
       "    </tr>\n",
       "    <tr>\n",
       "      <th>max</th>\n",
       "      <td>1.000000</td>\n",
       "      <td>1.000000</td>\n",
       "      <td>1.000000</td>\n",
       "    </tr>\n",
       "  </tbody>\n",
       "</table>\n",
       "</div>"
      ],
      "text/plain": [
       "            combined     left_image    right_image\n",
       "count  144841.000000  144802.000000  144827.000000\n",
       "mean        0.214411       0.237528       0.191215\n",
       "std         0.111007       0.109668       0.116549\n",
       "min        -0.143261      -0.131216      -0.218212\n",
       "25%         0.162611       0.186806       0.134355\n",
       "50%         0.191154       0.214813       0.168381\n",
       "75%         0.224351       0.250020       0.206127\n",
       "max         1.000000       1.000000       1.000000"
      ]
     },
     "execution_count": 9,
     "metadata": {},
     "output_type": "execute_result"
    }
   ],
   "source": [
    "df_eye_closure.describe()"
   ]
  },
  {
   "cell_type": "code",
   "execution_count": 6,
   "metadata": {},
   "outputs": [
    {
     "name": "stdout",
     "output_type": "stream",
     "text": [
      "[0.0, 2.0, 1.0, NaN, 5.0, 3.0, 4.0]\n",
      "Categories (6, float64): [0.0, 2.0, 1.0, 5.0, 3.0, 4.0]\n"
     ]
    },
    {
     "data": {
      "text/html": [
       "<div>\n",
       "<style scoped>\n",
       "    .dataframe tbody tr th:only-of-type {\n",
       "        vertical-align: middle;\n",
       "    }\n",
       "\n",
       "    .dataframe tbody tr th {\n",
       "        vertical-align: top;\n",
       "    }\n",
       "\n",
       "    .dataframe thead th {\n",
       "        text-align: right;\n",
       "    }\n",
       "</style>\n",
       "<table border=\"1\" class=\"dataframe\">\n",
       "  <thead>\n",
       "    <tr style=\"text-align: right;\">\n",
       "      <th></th>\n",
       "      <th>combined</th>\n",
       "      <th>left_image</th>\n",
       "      <th>right_image</th>\n",
       "    </tr>\n",
       "  </thead>\n",
       "  <tbody>\n",
       "    <tr>\n",
       "      <th>count</th>\n",
       "      <td>144844.0</td>\n",
       "      <td>144844.0</td>\n",
       "      <td>144844.0</td>\n",
       "    </tr>\n",
       "    <tr>\n",
       "      <th>unique</th>\n",
       "      <td>6.0</td>\n",
       "      <td>6.0</td>\n",
       "      <td>6.0</td>\n",
       "    </tr>\n",
       "    <tr>\n",
       "      <th>top</th>\n",
       "      <td>0.0</td>\n",
       "      <td>0.0</td>\n",
       "      <td>0.0</td>\n",
       "    </tr>\n",
       "    <tr>\n",
       "      <th>freq</th>\n",
       "      <td>142551.0</td>\n",
       "      <td>142672.0</td>\n",
       "      <td>142676.0</td>\n",
       "    </tr>\n",
       "  </tbody>\n",
       "</table>\n",
       "</div>"
      ],
      "text/plain": [
       "        combined  left_image  right_image\n",
       "count   144844.0    144844.0     144844.0\n",
       "unique       6.0         6.0          6.0\n",
       "top          0.0         0.0          0.0\n",
       "freq    142551.0    142672.0     142676.0"
      ]
     },
     "execution_count": 6,
     "metadata": {},
     "output_type": "execute_result"
    }
   ],
   "source": [
    "print(df_eye_state[\"combined\"].unique())\n",
    "df_eye_state.describe()"
   ]
  },
  {
   "cell_type": "code",
   "execution_count": null,
   "metadata": {},
   "outputs": [],
   "source": [
    "df_eye_state"
   ]
  },
  {
   "cell_type": "code",
   "execution_count": 7,
   "metadata": {},
   "outputs": [],
   "source": [
    "df_closure_and_state = df_eye_closure.join(df_eye_state, rsuffix=\"_eye_state\", lsuffix=\"_eye_closure\")"
   ]
  },
  {
   "cell_type": "markdown",
   "metadata": {},
   "source": [
    "### Questions:\n",
    "- What does it mean if the eye_closure value is negative? -- shouldnt be the case\n",
    "- What does the 'eye_state' represent? --> documentation (should be available in moodle soon)\n",
    "- What are session types: a,b,s ? (alcohol, baseline, sleep deprived)\n",
    "- Why are some entries None ? -> no eyes in the image\n"
   ]
  },
  {
   "cell_type": "markdown",
   "metadata": {},
   "source": [
    "### Further steps\n",
    "\n",
    "- labels are not fiven for all frames -> how to interpolate labels? \n",
    "    * split frames between end of first block and beginning of second block into the labels which are closer\n",
    "    * linear interpolation\n",
    "- calculate features like blink properties and time of closed pair of eyes\n",
    "    - train linear classifier on these features\n",
    "- train neural network on eye closure signal and compare to linear classifier"
   ]
  },
  {
   "cell_type": "markdown",
   "metadata": {},
   "source": [
    "## Target data "
   ]
  },
  {
   "cell_type": "code",
   "execution_count": 21,
   "metadata": {
    "scrolled": true
   },
   "outputs": [
    {
     "name": "stdout",
     "output_type": "stream",
     "text": [
      "sleep_alc_labels/001_1_a_pvt_reaction_times.csv\n",
      "sleep_alc_labels/001_1_a_alcohol_measurements.csv\n",
      "sleep_alc_labels/001_1_a_karolinska.csv\n",
      "sleep_alc_labels/001_1_a_alcohol_consumptions.csv\n",
      "sleep_alc_labels/001_1_a_pvt_scores.csv\n"
     ]
    }
   ],
   "source": [
    "session_identifier = \"001_1_a\"\n",
    "files = [str(p) for p in Path(\"sleep_alc_labels/\").iterdir()]\n",
    "    \n",
    "session_files = [file for file in files if session_identifier in file]\n",
    "print(\"\\n\".join(session_files))"
   ]
  },
  {
   "cell_type": "code",
   "execution_count": 43,
   "metadata": {},
   "outputs": [],
   "source": [
    "df_pvt_reaction_times = pd.read_csv(\"sleep_alc_labels/001_1_a_pvt_reaction_times.csv\")\n",
    "df_alcohol_measurement = pd.read_csv(\"sleep_alc_labels/001_1_a_alcohol_measurements.csv\")\n",
    "df_karolinka = pd.read_csv(\"sleep_alc_labels/001_1_a_karolinska.csv\")\n",
    "df_alcohol_consumptions = pd.read_csv(\"sleep_alc_labels/001_1_a_alcohol_consumptions.csv\")\n",
    "df_pvt_scores = pd.read_csv(\"sleep_alc_labels/001_1_a_pvt_scores.csv\")"
   ]
  },
  {
   "cell_type": "code",
   "execution_count": 57,
   "metadata": {},
   "outputs": [
    {
     "data": {
      "text/html": [
       "<div>\n",
       "<style scoped>\n",
       "    .dataframe tbody tr th:only-of-type {\n",
       "        vertical-align: middle;\n",
       "    }\n",
       "\n",
       "    .dataframe tbody tr th {\n",
       "        vertical-align: top;\n",
       "    }\n",
       "\n",
       "    .dataframe thead th {\n",
       "        text-align: right;\n",
       "    }\n",
       "</style>\n",
       "<table border=\"1\" class=\"dataframe\">\n",
       "  <thead>\n",
       "    <tr style=\"text-align: right;\">\n",
       "      <th></th>\n",
       "      <th>frame_begin</th>\n",
       "      <th>frame_end</th>\n",
       "    </tr>\n",
       "  </thead>\n",
       "  <tbody>\n",
       "    <tr>\n",
       "      <th>0</th>\n",
       "      <td>13397</td>\n",
       "      <td>14760</td>\n",
       "    </tr>\n",
       "    <tr>\n",
       "      <th>1</th>\n",
       "      <td>38835</td>\n",
       "      <td>40104</td>\n",
       "    </tr>\n",
       "  </tbody>\n",
       "</table>\n",
       "</div>"
      ],
      "text/plain": [
       "   frame_begin  frame_end\n",
       "0        13397      14760\n",
       "1        38835      40104"
      ]
     },
     "execution_count": 57,
     "metadata": {},
     "output_type": "execute_result"
    }
   ],
   "source": [
    "df_alcohol_consumptions.head(2)"
   ]
  },
  {
   "cell_type": "code",
   "execution_count": 49,
   "metadata": {},
   "outputs": [
    {
     "data": {
      "text/html": [
       "<div>\n",
       "<style scoped>\n",
       "    .dataframe tbody tr th:only-of-type {\n",
       "        vertical-align: middle;\n",
       "    }\n",
       "\n",
       "    .dataframe tbody tr th {\n",
       "        vertical-align: top;\n",
       "    }\n",
       "\n",
       "    .dataframe thead th {\n",
       "        text-align: right;\n",
       "    }\n",
       "</style>\n",
       "<table border=\"1\" class=\"dataframe\">\n",
       "  <thead>\n",
       "    <tr style=\"text-align: right;\">\n",
       "      <th></th>\n",
       "      <th>frame_begin</th>\n",
       "      <th>frame_end</th>\n",
       "      <th>promille</th>\n",
       "    </tr>\n",
       "  </thead>\n",
       "  <tbody>\n",
       "    <tr>\n",
       "      <th>0</th>\n",
       "      <td>9480</td>\n",
       "      <td>13377</td>\n",
       "      <td>0.00</td>\n",
       "    </tr>\n",
       "    <tr>\n",
       "      <th>1</th>\n",
       "      <td>37520</td>\n",
       "      <td>38814</td>\n",
       "      <td>0.08</td>\n",
       "    </tr>\n",
       "  </tbody>\n",
       "</table>\n",
       "</div>"
      ],
      "text/plain": [
       "   frame_begin  frame_end  promille\n",
       "0         9480      13377      0.00\n",
       "1        37520      38814      0.08"
      ]
     },
     "execution_count": 49,
     "metadata": {},
     "output_type": "execute_result"
    }
   ],
   "source": [
    "df_alcohol_measurement.head(2)"
   ]
  },
  {
   "cell_type": "code",
   "execution_count": 1,
   "metadata": {},
   "outputs": [
    {
     "ename": "NameError",
     "evalue": "name 'df_karolinka' is not defined",
     "output_type": "error",
     "traceback": [
      "\u001b[0;31m---------------------------------------------------------------------------\u001b[0m",
      "\u001b[0;31mNameError\u001b[0m                                 Traceback (most recent call last)",
      "\u001b[0;32m<ipython-input-1-0edceb52ee6a>\u001b[0m in \u001b[0;36m<module>\u001b[0;34m\u001b[0m\n\u001b[0;32m----> 1\u001b[0;31m \u001b[0mdf_karolinka\u001b[0m\u001b[0;34m.\u001b[0m\u001b[0mhead\u001b[0m\u001b[0;34m(\u001b[0m\u001b[0;34m)\u001b[0m\u001b[0;34m\u001b[0m\u001b[0;34m\u001b[0m\u001b[0m\n\u001b[0m",
      "\u001b[0;31mNameError\u001b[0m: name 'df_karolinka' is not defined"
     ]
    }
   ],
   "source": [
    "df_karolinka.head()"
   ]
  },
  {
   "cell_type": "code",
   "execution_count": 59,
   "metadata": {},
   "outputs": [
    {
     "data": {
      "text/html": [
       "<div>\n",
       "<style scoped>\n",
       "    .dataframe tbody tr th:only-of-type {\n",
       "        vertical-align: middle;\n",
       "    }\n",
       "\n",
       "    .dataframe tbody tr th {\n",
       "        vertical-align: top;\n",
       "    }\n",
       "\n",
       "    .dataframe thead th {\n",
       "        text-align: right;\n",
       "    }\n",
       "</style>\n",
       "<table border=\"1\" class=\"dataframe\">\n",
       "  <thead>\n",
       "    <tr style=\"text-align: right;\">\n",
       "      <th></th>\n",
       "      <th>frame_begin</th>\n",
       "      <th>frame_end</th>\n",
       "      <th>reaction_time</th>\n",
       "      <th>block_id</th>\n",
       "    </tr>\n",
       "  </thead>\n",
       "  <tbody>\n",
       "    <tr>\n",
       "      <th>0</th>\n",
       "      <td>17639</td>\n",
       "      <td>17767</td>\n",
       "      <td>266.39</td>\n",
       "      <td>1</td>\n",
       "    </tr>\n",
       "    <tr>\n",
       "      <th>1</th>\n",
       "      <td>17767</td>\n",
       "      <td>18107</td>\n",
       "      <td>278.11</td>\n",
       "      <td>1</td>\n",
       "    </tr>\n",
       "    <tr>\n",
       "      <th>2</th>\n",
       "      <td>18107</td>\n",
       "      <td>18265</td>\n",
       "      <td>259.19</td>\n",
       "      <td>1</td>\n",
       "    </tr>\n",
       "    <tr>\n",
       "      <th>3</th>\n",
       "      <td>18265</td>\n",
       "      <td>18514</td>\n",
       "      <td>266.58</td>\n",
       "      <td>1</td>\n",
       "    </tr>\n",
       "    <tr>\n",
       "      <th>4</th>\n",
       "      <td>18514</td>\n",
       "      <td>18703</td>\n",
       "      <td>271.66</td>\n",
       "      <td>1</td>\n",
       "    </tr>\n",
       "    <tr>\n",
       "      <th>...</th>\n",
       "      <td>...</td>\n",
       "      <td>...</td>\n",
       "      <td>...</td>\n",
       "      <td>...</td>\n",
       "    </tr>\n",
       "    <tr>\n",
       "      <th>239</th>\n",
       "      <td>166823</td>\n",
       "      <td>167105</td>\n",
       "      <td>360.59</td>\n",
       "      <td>3</td>\n",
       "    </tr>\n",
       "    <tr>\n",
       "      <th>240</th>\n",
       "      <td>167105</td>\n",
       "      <td>167326</td>\n",
       "      <td>315.04</td>\n",
       "      <td>3</td>\n",
       "    </tr>\n",
       "    <tr>\n",
       "      <th>241</th>\n",
       "      <td>167326</td>\n",
       "      <td>167667</td>\n",
       "      <td>331.77</td>\n",
       "      <td>3</td>\n",
       "    </tr>\n",
       "    <tr>\n",
       "      <th>242</th>\n",
       "      <td>167667</td>\n",
       "      <td>167830</td>\n",
       "      <td>403.87</td>\n",
       "      <td>3</td>\n",
       "    </tr>\n",
       "    <tr>\n",
       "      <th>243</th>\n",
       "      <td>167830</td>\n",
       "      <td>168110</td>\n",
       "      <td>317.64</td>\n",
       "      <td>3</td>\n",
       "    </tr>\n",
       "  </tbody>\n",
       "</table>\n",
       "<p>244 rows × 4 columns</p>\n",
       "</div>"
      ],
      "text/plain": [
       "     frame_begin  frame_end  reaction_time  block_id\n",
       "0          17639      17767         266.39         1\n",
       "1          17767      18107         278.11         1\n",
       "2          18107      18265         259.19         1\n",
       "3          18265      18514         266.58         1\n",
       "4          18514      18703         271.66         1\n",
       "..           ...        ...            ...       ...\n",
       "239       166823     167105         360.59         3\n",
       "240       167105     167326         315.04         3\n",
       "241       167326     167667         331.77         3\n",
       "242       167667     167830         403.87         3\n",
       "243       167830     168110         317.64         3\n",
       "\n",
       "[244 rows x 4 columns]"
      ]
     },
     "execution_count": 59,
     "metadata": {},
     "output_type": "execute_result"
    }
   ],
   "source": [
    "df_pvt_reaction_times"
   ]
  },
  {
   "cell_type": "code",
   "execution_count": 60,
   "metadata": {},
   "outputs": [
    {
     "data": {
      "text/html": [
       "<div>\n",
       "<style scoped>\n",
       "    .dataframe tbody tr th:only-of-type {\n",
       "        vertical-align: middle;\n",
       "    }\n",
       "\n",
       "    .dataframe tbody tr th {\n",
       "        vertical-align: top;\n",
       "    }\n",
       "\n",
       "    .dataframe thead th {\n",
       "        text-align: right;\n",
       "    }\n",
       "</style>\n",
       "<table border=\"1\" class=\"dataframe\">\n",
       "  <thead>\n",
       "    <tr style=\"text-align: right;\">\n",
       "      <th></th>\n",
       "      <th>frame_begin</th>\n",
       "      <th>frame_end</th>\n",
       "      <th>pvt_n_lapses_500ms</th>\n",
       "      <th>pvt_n_lapses_60s</th>\n",
       "      <th>pvt_median_rt</th>\n",
       "      <th>pvt_mean_rt</th>\n",
       "      <th>pvt_mean_log_rt</th>\n",
       "      <th>pvt_mean_slowest_10_percent_rt</th>\n",
       "      <th>pvt_mean_fastest_10_percent_rt</th>\n",
       "    </tr>\n",
       "  </thead>\n",
       "  <tbody>\n",
       "    <tr>\n",
       "      <th>0</th>\n",
       "      <td>14762</td>\n",
       "      <td>35638</td>\n",
       "      <td>1</td>\n",
       "      <td>0</td>\n",
       "      <td>304.860</td>\n",
       "      <td>313.137590</td>\n",
       "      <td>5.738631</td>\n",
       "      <td>398.075556</td>\n",
       "      <td>266.249000</td>\n",
       "    </tr>\n",
       "    <tr>\n",
       "      <th>1</th>\n",
       "      <td>83408</td>\n",
       "      <td>102683</td>\n",
       "      <td>0</td>\n",
       "      <td>0</td>\n",
       "      <td>304.095</td>\n",
       "      <td>311.455976</td>\n",
       "      <td>5.734481</td>\n",
       "      <td>396.156667</td>\n",
       "      <td>265.771000</td>\n",
       "    </tr>\n",
       "    <tr>\n",
       "      <th>2</th>\n",
       "      <td>147900</td>\n",
       "      <td>168111</td>\n",
       "      <td>2</td>\n",
       "      <td>0</td>\n",
       "      <td>310.120</td>\n",
       "      <td>333.161266</td>\n",
       "      <td>5.778298</td>\n",
       "      <td>543.625000</td>\n",
       "      <td>246.265556</td>\n",
       "    </tr>\n",
       "  </tbody>\n",
       "</table>\n",
       "</div>"
      ],
      "text/plain": [
       "   frame_begin  frame_end  pvt_n_lapses_500ms  pvt_n_lapses_60s  \\\n",
       "0        14762      35638                   1                 0   \n",
       "1        83408     102683                   0                 0   \n",
       "2       147900     168111                   2                 0   \n",
       "\n",
       "   pvt_median_rt  pvt_mean_rt  pvt_mean_log_rt  \\\n",
       "0        304.860   313.137590         5.738631   \n",
       "1        304.095   311.455976         5.734481   \n",
       "2        310.120   333.161266         5.778298   \n",
       "\n",
       "   pvt_mean_slowest_10_percent_rt  pvt_mean_fastest_10_percent_rt  \n",
       "0                      398.075556                      266.249000  \n",
       "1                      396.156667                      265.771000  \n",
       "2                      543.625000                      246.265556  "
      ]
     },
     "execution_count": 60,
     "metadata": {},
     "output_type": "execute_result"
    }
   ],
   "source": [
    "df_pvt_scores"
   ]
  },
  {
   "cell_type": "code",
   "execution_count": null,
   "metadata": {},
   "outputs": [],
   "source": []
  },
  {
   "cell_type": "code",
   "execution_count": null,
   "metadata": {},
   "outputs": [],
   "source": []
  }
 ],
 "metadata": {
  "kernelspec": {
   "display_name": "Python 3",
   "language": "python",
   "name": "python3"
  },
  "language_info": {
   "codemirror_mode": {
    "name": "ipython",
    "version": 3
   },
   "file_extension": ".py",
   "mimetype": "text/x-python",
   "name": "python",
   "nbconvert_exporter": "python",
   "pygments_lexer": "ipython3",
   "version": "3.6.9"
  }
 },
 "nbformat": 4,
 "nbformat_minor": 4
}
