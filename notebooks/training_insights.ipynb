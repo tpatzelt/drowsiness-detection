{
 "cells": [
  {
   "cell_type": "code",
   "execution_count": 87,
   "metadata": {
    "pycharm": {
     "name": "#%%\n"
    }
   },
   "outputs": [
    {
     "name": "stderr",
     "output_type": "stream",
     "text": [
      "Intel(R) Extension for Scikit-learn* enabled (https://github.com/intel/scikit-learn-intelex)\n"
     ]
    }
   ],
   "source": [
    "import pickle\n",
    "\n",
    "import matplotlib.pyplot as plt\n",
    "import pandas as pd\n",
    "from yellowbrick.model_selection import LearningCurve\n",
    "from sklearn.metrics import accuracy_score\n",
    "import json\n",
    "import matplotlib.pyplot as plt\n",
    "from sklearnex import patch_sklearn\n",
    "import numpy as np\n",
    "patch_sklearn()\n",
    "# explicitly require this experimental feature\n",
    "from sklearn.experimental import enable_halving_search_cv  # noqa\n",
    "# now you can import normally from model_selection\n",
    "from sklearn.model_selection import train_test_split\n",
    "from drowsiness_detection.data import get_feature_data, preprocess_feature_data, session_type_mapping\n",
    "from drowsiness_detection import config\n",
    "from sklearn.model_selection import StratifiedKFold"
   ]
  },
  {
   "cell_type": "code",
   "execution_count": 60,
   "outputs": [],
   "source": [
    "config.set_paths(30, 60)"
   ],
   "metadata": {
    "collapsed": false,
    "pycharm": {
     "name": "#%%\n"
    }
   }
  },
  {
   "cell_type": "code",
   "execution_count": 61,
   "metadata": {
    "pycharm": {
     "name": "#%%\n"
    }
   },
   "outputs": [
    {
     "data": {
      "text/plain": "   iter  n_resources  mean_fit_time  std_fit_time  mean_score_time  \\\n0     0            1       2.444833      0.147191         0.039136   \n1     0            1       2.270167      0.151969         0.034817   \n2     0            1       2.315185      0.095466         0.043309   \n3     0            1       2.246947      0.129121         0.044954   \n4     0            1       2.163229      0.179993         0.037004   \n\n   std_score_time param_classifier__criterion param_classifier__max_depth  \\\n0        0.019357                     entropy                         175   \n1        0.013703                     entropy                          72   \n2        0.020260                     entropy                          57   \n3        0.021623                     entropy                         138   \n4        0.012346                     entropy                         180   \n\n  param_classifier__max_features param_classifier__n_estimators  ...  \\\n0                           sqrt                              1  ...   \n1                           sqrt                              1  ...   \n2                           sqrt                              1  ...   \n3                           sqrt                              1  ...   \n4                           sqrt                              1  ...   \n\n  split2_train_score  split3_train_score  split4_train_score  \\\n0           0.927130            0.919220            0.924234   \n1           0.919091            0.921554            0.925142   \n2           0.915158            0.927000            0.924709   \n3           0.915590            0.925055            0.922332   \n4           0.919134            0.924580            0.929075   \n\n   split5_train_score  split6_train_score  split7_train_score  \\\n0            0.923931            0.918961            0.923758   \n1            0.926222            0.926222            0.920430   \n2            0.925833            0.919869            0.925617   \n3            0.919004            0.921511            0.921381   \n4            0.927086            0.918140            0.921252   \n\n   split8_train_score  split9_train_score  mean_train_score  std_train_score  \n0            0.914902            0.927479          0.923202         0.004112  \n1            0.920650            0.928646          0.923483         0.003367  \n2            0.922465            0.919440          0.921023         0.004615  \n3            0.924324            0.923502          0.922264         0.002964  \n4            0.925361            0.916328          0.922199         0.004498  \n\n[5 rows x 36 columns]",
      "text/html": "<div>\n<style scoped>\n    .dataframe tbody tr th:only-of-type {\n        vertical-align: middle;\n    }\n\n    .dataframe tbody tr th {\n        vertical-align: top;\n    }\n\n    .dataframe thead th {\n        text-align: right;\n    }\n</style>\n<table border=\"1\" class=\"dataframe\">\n  <thead>\n    <tr style=\"text-align: right;\">\n      <th></th>\n      <th>iter</th>\n      <th>n_resources</th>\n      <th>mean_fit_time</th>\n      <th>std_fit_time</th>\n      <th>mean_score_time</th>\n      <th>std_score_time</th>\n      <th>param_classifier__criterion</th>\n      <th>param_classifier__max_depth</th>\n      <th>param_classifier__max_features</th>\n      <th>param_classifier__n_estimators</th>\n      <th>...</th>\n      <th>split2_train_score</th>\n      <th>split3_train_score</th>\n      <th>split4_train_score</th>\n      <th>split5_train_score</th>\n      <th>split6_train_score</th>\n      <th>split7_train_score</th>\n      <th>split8_train_score</th>\n      <th>split9_train_score</th>\n      <th>mean_train_score</th>\n      <th>std_train_score</th>\n    </tr>\n  </thead>\n  <tbody>\n    <tr>\n      <th>0</th>\n      <td>0</td>\n      <td>1</td>\n      <td>2.444833</td>\n      <td>0.147191</td>\n      <td>0.039136</td>\n      <td>0.019357</td>\n      <td>entropy</td>\n      <td>175</td>\n      <td>sqrt</td>\n      <td>1</td>\n      <td>...</td>\n      <td>0.927130</td>\n      <td>0.919220</td>\n      <td>0.924234</td>\n      <td>0.923931</td>\n      <td>0.918961</td>\n      <td>0.923758</td>\n      <td>0.914902</td>\n      <td>0.927479</td>\n      <td>0.923202</td>\n      <td>0.004112</td>\n    </tr>\n    <tr>\n      <th>1</th>\n      <td>0</td>\n      <td>1</td>\n      <td>2.270167</td>\n      <td>0.151969</td>\n      <td>0.034817</td>\n      <td>0.013703</td>\n      <td>entropy</td>\n      <td>72</td>\n      <td>sqrt</td>\n      <td>1</td>\n      <td>...</td>\n      <td>0.919091</td>\n      <td>0.921554</td>\n      <td>0.925142</td>\n      <td>0.926222</td>\n      <td>0.926222</td>\n      <td>0.920430</td>\n      <td>0.920650</td>\n      <td>0.928646</td>\n      <td>0.923483</td>\n      <td>0.003367</td>\n    </tr>\n    <tr>\n      <th>2</th>\n      <td>0</td>\n      <td>1</td>\n      <td>2.315185</td>\n      <td>0.095466</td>\n      <td>0.043309</td>\n      <td>0.020260</td>\n      <td>entropy</td>\n      <td>57</td>\n      <td>sqrt</td>\n      <td>1</td>\n      <td>...</td>\n      <td>0.915158</td>\n      <td>0.927000</td>\n      <td>0.924709</td>\n      <td>0.925833</td>\n      <td>0.919869</td>\n      <td>0.925617</td>\n      <td>0.922465</td>\n      <td>0.919440</td>\n      <td>0.921023</td>\n      <td>0.004615</td>\n    </tr>\n    <tr>\n      <th>3</th>\n      <td>0</td>\n      <td>1</td>\n      <td>2.246947</td>\n      <td>0.129121</td>\n      <td>0.044954</td>\n      <td>0.021623</td>\n      <td>entropy</td>\n      <td>138</td>\n      <td>sqrt</td>\n      <td>1</td>\n      <td>...</td>\n      <td>0.915590</td>\n      <td>0.925055</td>\n      <td>0.922332</td>\n      <td>0.919004</td>\n      <td>0.921511</td>\n      <td>0.921381</td>\n      <td>0.924324</td>\n      <td>0.923502</td>\n      <td>0.922264</td>\n      <td>0.002964</td>\n    </tr>\n    <tr>\n      <th>4</th>\n      <td>0</td>\n      <td>1</td>\n      <td>2.163229</td>\n      <td>0.179993</td>\n      <td>0.037004</td>\n      <td>0.012346</td>\n      <td>entropy</td>\n      <td>180</td>\n      <td>sqrt</td>\n      <td>1</td>\n      <td>...</td>\n      <td>0.919134</td>\n      <td>0.924580</td>\n      <td>0.929075</td>\n      <td>0.927086</td>\n      <td>0.918140</td>\n      <td>0.921252</td>\n      <td>0.925361</td>\n      <td>0.916328</td>\n      <td>0.922199</td>\n      <td>0.004498</td>\n    </tr>\n  </tbody>\n</table>\n<p>5 rows × 36 columns</p>\n</div>"
     },
     "execution_count": 61,
     "metadata": {},
     "output_type": "execute_result"
    }
   ],
   "source": [
    "with open(\"../logs/4/search_result.pkl\", \"rb\") as fp:\n",
    "    search_result = pickle.load(fp)\n",
    "\n",
    "cv_results = pd.DataFrame.from_dict(search_result.cv_results_)\n",
    "cv_results.head()"
   ]
  },
  {
   "cell_type": "code",
   "execution_count": 62,
   "metadata": {
    "pycharm": {
     "name": "#%%\n"
    }
   },
   "outputs": [
    {
     "name": "stdout",
     "output_type": "stream",
     "text": [
      "{'classifier__criterion': 'entropy', 'classifier__max_depth': 110, 'classifier__max_features': 'sqrt', 'classifier__n_estimators': 16}\n"
     ]
    },
    {
     "data": {
      "text/plain": "    iter  n_resources  mean_fit_time  std_fit_time  mean_score_time  \\\n12   0.0          1.0       2.104659      0.132530         0.037048   \n23   1.0          4.0       4.834700      0.128169         0.045796   \n25   2.0         16.0      15.397169      0.239147         0.058150   \n\n    std_score_time param_classifier__criterion param_classifier__max_depth  \\\n12        0.012661                     entropy                         110   \n23        0.017185                     entropy                         110   \n25        0.023178                     entropy                         110   \n\n   param_classifier__max_features param_classifier__n_estimators  ...  \\\n12                           sqrt                              1  ...   \n23                           sqrt                              4  ...   \n25                           sqrt                             16  ...   \n\n   split2_train_score  split3_train_score  split4_train_score  \\\n12           0.921468            0.928383            0.920214   \n23           0.980335            0.978995            0.978562   \n25           0.999741            0.999827            0.999611   \n\n    split5_train_score  split6_train_score  split7_train_score  \\\n12            0.927086            0.926870            0.926784   \n23            0.977957            0.978562            0.979513   \n25            0.999784            0.999741            0.999870   \n\n    split8_train_score  split9_train_score  mean_train_score  std_train_score  \n12            0.923762            0.922811          0.924252         0.002661  \n23            0.978866            0.980033          0.979440         0.001110  \n25            0.999914            0.999784          0.999801         0.000087  \n\n[3 rows x 36 columns]",
      "text/html": "<div>\n<style scoped>\n    .dataframe tbody tr th:only-of-type {\n        vertical-align: middle;\n    }\n\n    .dataframe tbody tr th {\n        vertical-align: top;\n    }\n\n    .dataframe thead th {\n        text-align: right;\n    }\n</style>\n<table border=\"1\" class=\"dataframe\">\n  <thead>\n    <tr style=\"text-align: right;\">\n      <th></th>\n      <th>iter</th>\n      <th>n_resources</th>\n      <th>mean_fit_time</th>\n      <th>std_fit_time</th>\n      <th>mean_score_time</th>\n      <th>std_score_time</th>\n      <th>param_classifier__criterion</th>\n      <th>param_classifier__max_depth</th>\n      <th>param_classifier__max_features</th>\n      <th>param_classifier__n_estimators</th>\n      <th>...</th>\n      <th>split2_train_score</th>\n      <th>split3_train_score</th>\n      <th>split4_train_score</th>\n      <th>split5_train_score</th>\n      <th>split6_train_score</th>\n      <th>split7_train_score</th>\n      <th>split8_train_score</th>\n      <th>split9_train_score</th>\n      <th>mean_train_score</th>\n      <th>std_train_score</th>\n    </tr>\n  </thead>\n  <tbody>\n    <tr>\n      <th>12</th>\n      <td>0.0</td>\n      <td>1.0</td>\n      <td>2.104659</td>\n      <td>0.132530</td>\n      <td>0.037048</td>\n      <td>0.012661</td>\n      <td>entropy</td>\n      <td>110</td>\n      <td>sqrt</td>\n      <td>1</td>\n      <td>...</td>\n      <td>0.921468</td>\n      <td>0.928383</td>\n      <td>0.920214</td>\n      <td>0.927086</td>\n      <td>0.926870</td>\n      <td>0.926784</td>\n      <td>0.923762</td>\n      <td>0.922811</td>\n      <td>0.924252</td>\n      <td>0.002661</td>\n    </tr>\n    <tr>\n      <th>23</th>\n      <td>1.0</td>\n      <td>4.0</td>\n      <td>4.834700</td>\n      <td>0.128169</td>\n      <td>0.045796</td>\n      <td>0.017185</td>\n      <td>entropy</td>\n      <td>110</td>\n      <td>sqrt</td>\n      <td>4</td>\n      <td>...</td>\n      <td>0.980335</td>\n      <td>0.978995</td>\n      <td>0.978562</td>\n      <td>0.977957</td>\n      <td>0.978562</td>\n      <td>0.979513</td>\n      <td>0.978866</td>\n      <td>0.980033</td>\n      <td>0.979440</td>\n      <td>0.001110</td>\n    </tr>\n    <tr>\n      <th>25</th>\n      <td>2.0</td>\n      <td>16.0</td>\n      <td>15.397169</td>\n      <td>0.239147</td>\n      <td>0.058150</td>\n      <td>0.023178</td>\n      <td>entropy</td>\n      <td>110</td>\n      <td>sqrt</td>\n      <td>16</td>\n      <td>...</td>\n      <td>0.999741</td>\n      <td>0.999827</td>\n      <td>0.999611</td>\n      <td>0.999784</td>\n      <td>0.999741</td>\n      <td>0.999870</td>\n      <td>0.999914</td>\n      <td>0.999784</td>\n      <td>0.999801</td>\n      <td>0.000087</td>\n    </tr>\n  </tbody>\n</table>\n<p>3 rows × 36 columns</p>\n</div>"
     },
     "execution_count": 62,
     "metadata": {},
     "output_type": "execute_result"
    }
   ],
   "source": [
    "best_params = search_result.best_params_\n",
    "print(best_params)\n",
    "best_model_results = cv_results.where((cv_results[\"param_classifier__criterion\"] == \"entropy\") & (\n",
    "        cv_results[\"param_classifier__max_depth\"] == 110) & (cv_results[\n",
    "                                                                 \"param_classifier__max_features\"] == \"sqrt\")).dropna()\n",
    "best_model_results"
   ]
  },
  {
   "cell_type": "code",
   "execution_count": 63,
   "metadata": {
    "pycharm": {
     "name": "#%%\n"
    }
   },
   "outputs": [],
   "source": [
    "best_model_results[\"params\"] = best_model_results[\"params\"].apply(lambda x: json.dumps(x))\n",
    "best_model_results = best_model_results.drop_duplicates(subset=(\"params\", \"iter\"))"
   ]
  },
  {
   "cell_type": "code",
   "execution_count": 64,
   "metadata": {
    "pycharm": {
     "name": "#%%\n"
    }
   },
   "outputs": [
    {
     "data": {
      "text/plain": "<Figure size 576x396 with 1 Axes>",
      "image/png": "[encoded data removed]"
     },
     "metadata": {},
     "output_type": "display_data"
    }
   ],
   "source": [
    "plt.figure()\n",
    "plt.title(\"Learning Curve\")\n",
    "plt.xlabel(\"N estimators\")\n",
    "plt.ylabel(\"Accuracy\")\n",
    "train_sizes = best_model_results[\"param_classifier__n_estimators\"].astype(int)\n",
    "train_scores_mean = best_model_results[\"mean_train_score\"]\n",
    "train_scores_std = best_model_results[\"std_train_score\"]\n",
    "test_scores_mean = best_model_results[\"mean_test_score\"]\n",
    "test_scores_std = best_model_results[\"std_test_score\"]\n",
    "plt.grid()\n",
    "\n",
    "plt.fill_between(train_sizes, train_scores_mean - train_scores_std,\n",
    "                 train_scores_mean + train_scores_std, alpha=0.1,\n",
    "                 color=\"r\")\n",
    "plt.fill_between(train_sizes, test_scores_mean - test_scores_std,\n",
    "                 test_scores_mean + test_scores_std, alpha=0.1, color=\"g\")\n",
    "plt.plot(train_sizes, train_scores_mean, 'o-', color=\"r\",\n",
    "         label=\"Training score\")\n",
    "plt.plot(train_sizes, test_scores_mean, 'o-', color=\"g\",\n",
    "         label=\"Cross-validation score\")\n",
    "\n",
    "plt.legend(loc=\"best\")\n",
    "plt.show()"
   ]
  },
  {
   "cell_type": "code",
   "execution_count": 64,
   "metadata": {
    "pycharm": {
     "name": "#%%\n"
    }
   },
   "outputs": [],
   "source": []
  },
  {
   "cell_type": "code",
   "execution_count": 65,
   "metadata": {
    "pycharm": {
     "name": "#%%\n"
    }
   },
   "outputs": [],
   "source": [
    "best_estimator = search_result.estimator.set_params(**best_params)\n",
    "n_splits = 2\n",
    "seed = 123\n",
    "test_size = .2\n",
    "num_targets = 2\n",
    "exclude_by = 'a'\n"
   ]
  },
  {
   "cell_type": "code",
   "execution_count": 66,
   "metadata": {
    "pycharm": {
     "name": "#%%\n"
    }
   },
   "outputs": [],
   "source": [
    "data = get_feature_data(data_path=config.PATHS.WINDOW_FEATURES)\n",
    "X, y = preprocess_feature_data(feature_data=data,\n",
    "                               exclude_sess_type=session_type_mapping[exclude_by],\n",
    "                               num_targets=num_targets)\n",
    "X_train, X_test, y_train, y_test = train_test_split(X, y, test_size=test_size,\n",
    "                                                    random_state=seed)"
   ]
  },
  {
   "cell_type": "code",
   "execution_count": 67,
   "outputs": [],
   "source": [
    "cv = StratifiedKFold(n_splits=n_splits, random_state=seed,\n",
    "                     shuffle=True)\n",
    "visualizer = LearningCurve(estimator=best_estimator, scoring=\"accuracy\", n_jobs=-1)"
   ],
   "metadata": {
    "collapsed": false,
    "pycharm": {
     "name": "#%%\n"
    }
   }
  },
  {
   "cell_type": "code",
   "execution_count": 68,
   "metadata": {
    "pycharm": {
     "name": "#%%\n"
    }
   },
   "outputs": [
    {
     "ename": "KeyboardInterrupt",
     "evalue": "",
     "output_type": "error",
     "traceback": [
      "\u001B[0;31m---------------------------------------------------------------------------\u001B[0m",
      "\u001B[0;31mKeyboardInterrupt\u001B[0m                         Traceback (most recent call last)",
      "\u001B[0;32m<ipython-input-68-fbc7e6d5c718>\u001B[0m in \u001B[0;36m<module>\u001B[0;34m\u001B[0m\n\u001B[0;32m----> 1\u001B[0;31m \u001B[0mvisualizer\u001B[0m\u001B[0;34m.\u001B[0m\u001B[0mfit\u001B[0m\u001B[0;34m(\u001B[0m\u001B[0mX_train\u001B[0m\u001B[0;34m[\u001B[0m\u001B[0;34m:\u001B[0m\u001B[0;36m100\u001B[0m\u001B[0;34m]\u001B[0m\u001B[0;34m,\u001B[0m \u001B[0my_train\u001B[0m\u001B[0;34m[\u001B[0m\u001B[0;34m:\u001B[0m\u001B[0;36m100\u001B[0m\u001B[0;34m]\u001B[0m\u001B[0;34m)\u001B[0m\u001B[0;34m\u001B[0m\u001B[0;34m\u001B[0m\u001B[0m\n\u001B[0m\u001B[1;32m      2\u001B[0m \u001B[0mvisualizer\u001B[0m\u001B[0;34m.\u001B[0m\u001B[0mshow\u001B[0m\u001B[0;34m(\u001B[0m\u001B[0;34m)\u001B[0m\u001B[0;34m\u001B[0m\u001B[0;34m\u001B[0m\u001B[0m\n",
      "\u001B[0;32m~/PycharmProjects/drowsiness-detection/venv/lib/python3.9/site-packages/yellowbrick/model_selection/learning_curve.py\u001B[0m in \u001B[0;36mfit\u001B[0;34m(self, X, y)\u001B[0m\n\u001B[1;32m    247\u001B[0m \u001B[0;34m\u001B[0m\u001B[0m\n\u001B[1;32m    248\u001B[0m         \u001B[0;31m# compute the learning curve and store the scores on the estimator\u001B[0m\u001B[0;34m\u001B[0m\u001B[0;34m\u001B[0m\u001B[0m\n\u001B[0;32m--> 249\u001B[0;31m         \u001B[0mcurve\u001B[0m \u001B[0;34m=\u001B[0m \u001B[0msk_learning_curve\u001B[0m\u001B[0;34m(\u001B[0m\u001B[0mself\u001B[0m\u001B[0;34m.\u001B[0m\u001B[0mestimator\u001B[0m\u001B[0;34m,\u001B[0m \u001B[0mX\u001B[0m\u001B[0;34m,\u001B[0m \u001B[0my\u001B[0m\u001B[0;34m,\u001B[0m \u001B[0;34m**\u001B[0m\u001B[0msklc_kwargs\u001B[0m\u001B[0;34m)\u001B[0m\u001B[0;34m\u001B[0m\u001B[0;34m\u001B[0m\u001B[0m\n\u001B[0m\u001B[1;32m    250\u001B[0m         \u001B[0mself\u001B[0m\u001B[0;34m.\u001B[0m\u001B[0mtrain_sizes_\u001B[0m\u001B[0;34m,\u001B[0m \u001B[0mself\u001B[0m\u001B[0;34m.\u001B[0m\u001B[0mtrain_scores_\u001B[0m\u001B[0;34m,\u001B[0m \u001B[0mself\u001B[0m\u001B[0;34m.\u001B[0m\u001B[0mtest_scores_\u001B[0m \u001B[0;34m=\u001B[0m \u001B[0mcurve\u001B[0m\u001B[0;34m\u001B[0m\u001B[0;34m\u001B[0m\u001B[0m\n\u001B[1;32m    251\u001B[0m \u001B[0;34m\u001B[0m\u001B[0m\n",
      "\u001B[0;32m~/PycharmProjects/drowsiness-detection/venv/lib/python3.9/site-packages/sklearn/model_selection/_validation.py\u001B[0m in \u001B[0;36mlearning_curve\u001B[0;34m(estimator, X, y, groups, train_sizes, cv, scoring, exploit_incremental_learning, n_jobs, pre_dispatch, verbose, shuffle, random_state, error_score, return_times, fit_params)\u001B[0m\n\u001B[1;32m   1551\u001B[0m                 \u001B[0mtrain_test_proportions\u001B[0m\u001B[0;34m.\u001B[0m\u001B[0mappend\u001B[0m\u001B[0;34m(\u001B[0m\u001B[0;34m(\u001B[0m\u001B[0mtrain\u001B[0m\u001B[0;34m[\u001B[0m\u001B[0;34m:\u001B[0m\u001B[0mn_train_samples\u001B[0m\u001B[0;34m]\u001B[0m\u001B[0;34m,\u001B[0m \u001B[0mtest\u001B[0m\u001B[0;34m)\u001B[0m\u001B[0;34m)\u001B[0m\u001B[0;34m\u001B[0m\u001B[0;34m\u001B[0m\u001B[0m\n\u001B[1;32m   1552\u001B[0m \u001B[0;34m\u001B[0m\u001B[0m\n\u001B[0;32m-> 1553\u001B[0;31m         results = parallel(\n\u001B[0m\u001B[1;32m   1554\u001B[0m             delayed(_fit_and_score)(\n\u001B[1;32m   1555\u001B[0m                 \u001B[0mclone\u001B[0m\u001B[0;34m(\u001B[0m\u001B[0mestimator\u001B[0m\u001B[0;34m)\u001B[0m\u001B[0;34m,\u001B[0m\u001B[0;34m\u001B[0m\u001B[0;34m\u001B[0m\u001B[0m\n",
      "\u001B[0;32m~/PycharmProjects/drowsiness-detection/venv/lib/python3.9/site-packages/joblib/parallel.py\u001B[0m in \u001B[0;36m__call__\u001B[0;34m(self, iterable)\u001B[0m\n\u001B[1;32m   1054\u001B[0m \u001B[0;34m\u001B[0m\u001B[0m\n\u001B[1;32m   1055\u001B[0m             \u001B[0;32mwith\u001B[0m \u001B[0mself\u001B[0m\u001B[0;34m.\u001B[0m\u001B[0m_backend\u001B[0m\u001B[0;34m.\u001B[0m\u001B[0mretrieval_context\u001B[0m\u001B[0;34m(\u001B[0m\u001B[0;34m)\u001B[0m\u001B[0;34m:\u001B[0m\u001B[0;34m\u001B[0m\u001B[0;34m\u001B[0m\u001B[0m\n\u001B[0;32m-> 1056\u001B[0;31m                 \u001B[0mself\u001B[0m\u001B[0;34m.\u001B[0m\u001B[0mretrieve\u001B[0m\u001B[0;34m(\u001B[0m\u001B[0;34m)\u001B[0m\u001B[0;34m\u001B[0m\u001B[0;34m\u001B[0m\u001B[0m\n\u001B[0m\u001B[1;32m   1057\u001B[0m             \u001B[0;31m# Make sure that we get a last message telling us we are done\u001B[0m\u001B[0;34m\u001B[0m\u001B[0;34m\u001B[0m\u001B[0m\n\u001B[1;32m   1058\u001B[0m             \u001B[0melapsed_time\u001B[0m \u001B[0;34m=\u001B[0m \u001B[0mtime\u001B[0m\u001B[0;34m.\u001B[0m\u001B[0mtime\u001B[0m\u001B[0;34m(\u001B[0m\u001B[0;34m)\u001B[0m \u001B[0;34m-\u001B[0m \u001B[0mself\u001B[0m\u001B[0;34m.\u001B[0m\u001B[0m_start_time\u001B[0m\u001B[0;34m\u001B[0m\u001B[0;34m\u001B[0m\u001B[0m\n",
      "\u001B[0;32m~/PycharmProjects/drowsiness-detection/venv/lib/python3.9/site-packages/joblib/parallel.py\u001B[0m in \u001B[0;36mretrieve\u001B[0;34m(self)\u001B[0m\n\u001B[1;32m    933\u001B[0m             \u001B[0;32mtry\u001B[0m\u001B[0;34m:\u001B[0m\u001B[0;34m\u001B[0m\u001B[0;34m\u001B[0m\u001B[0m\n\u001B[1;32m    934\u001B[0m                 \u001B[0;32mif\u001B[0m \u001B[0mgetattr\u001B[0m\u001B[0;34m(\u001B[0m\u001B[0mself\u001B[0m\u001B[0;34m.\u001B[0m\u001B[0m_backend\u001B[0m\u001B[0;34m,\u001B[0m \u001B[0;34m'supports_timeout'\u001B[0m\u001B[0;34m,\u001B[0m \u001B[0;32mFalse\u001B[0m\u001B[0;34m)\u001B[0m\u001B[0;34m:\u001B[0m\u001B[0;34m\u001B[0m\u001B[0;34m\u001B[0m\u001B[0m\n\u001B[0;32m--> 935\u001B[0;31m                     \u001B[0mself\u001B[0m\u001B[0;34m.\u001B[0m\u001B[0m_output\u001B[0m\u001B[0;34m.\u001B[0m\u001B[0mextend\u001B[0m\u001B[0;34m(\u001B[0m\u001B[0mjob\u001B[0m\u001B[0;34m.\u001B[0m\u001B[0mget\u001B[0m\u001B[0;34m(\u001B[0m\u001B[0mtimeout\u001B[0m\u001B[0;34m=\u001B[0m\u001B[0mself\u001B[0m\u001B[0;34m.\u001B[0m\u001B[0mtimeout\u001B[0m\u001B[0;34m)\u001B[0m\u001B[0;34m)\u001B[0m\u001B[0;34m\u001B[0m\u001B[0;34m\u001B[0m\u001B[0m\n\u001B[0m\u001B[1;32m    936\u001B[0m                 \u001B[0;32melse\u001B[0m\u001B[0;34m:\u001B[0m\u001B[0;34m\u001B[0m\u001B[0;34m\u001B[0m\u001B[0m\n\u001B[1;32m    937\u001B[0m                     \u001B[0mself\u001B[0m\u001B[0;34m.\u001B[0m\u001B[0m_output\u001B[0m\u001B[0;34m.\u001B[0m\u001B[0mextend\u001B[0m\u001B[0;34m(\u001B[0m\u001B[0mjob\u001B[0m\u001B[0;34m.\u001B[0m\u001B[0mget\u001B[0m\u001B[0;34m(\u001B[0m\u001B[0;34m)\u001B[0m\u001B[0;34m)\u001B[0m\u001B[0;34m\u001B[0m\u001B[0;34m\u001B[0m\u001B[0m\n",
      "\u001B[0;32m~/PycharmProjects/drowsiness-detection/venv/lib/python3.9/site-packages/joblib/_parallel_backends.py\u001B[0m in \u001B[0;36mwrap_future_result\u001B[0;34m(future, timeout)\u001B[0m\n\u001B[1;32m    540\u001B[0m         AsyncResults.get from multiprocessing.\"\"\"\n\u001B[1;32m    541\u001B[0m         \u001B[0;32mtry\u001B[0m\u001B[0;34m:\u001B[0m\u001B[0;34m\u001B[0m\u001B[0;34m\u001B[0m\u001B[0m\n\u001B[0;32m--> 542\u001B[0;31m             \u001B[0;32mreturn\u001B[0m \u001B[0mfuture\u001B[0m\u001B[0;34m.\u001B[0m\u001B[0mresult\u001B[0m\u001B[0;34m(\u001B[0m\u001B[0mtimeout\u001B[0m\u001B[0;34m=\u001B[0m\u001B[0mtimeout\u001B[0m\u001B[0;34m)\u001B[0m\u001B[0;34m\u001B[0m\u001B[0;34m\u001B[0m\u001B[0m\n\u001B[0m\u001B[1;32m    543\u001B[0m         \u001B[0;32mexcept\u001B[0m \u001B[0mCfTimeoutError\u001B[0m \u001B[0;32mas\u001B[0m \u001B[0me\u001B[0m\u001B[0;34m:\u001B[0m\u001B[0;34m\u001B[0m\u001B[0;34m\u001B[0m\u001B[0m\n\u001B[1;32m    544\u001B[0m             \u001B[0;32mraise\u001B[0m \u001B[0mTimeoutError\u001B[0m \u001B[0;32mfrom\u001B[0m \u001B[0me\u001B[0m\u001B[0;34m\u001B[0m\u001B[0;34m\u001B[0m\u001B[0m\n",
      "\u001B[0;32m/usr/lib/python3.9/concurrent/futures/_base.py\u001B[0m in \u001B[0;36mresult\u001B[0;34m(self, timeout)\u001B[0m\n\u001B[1;32m    439\u001B[0m                     \u001B[0;32mreturn\u001B[0m \u001B[0mself\u001B[0m\u001B[0;34m.\u001B[0m\u001B[0m__get_result\u001B[0m\u001B[0;34m(\u001B[0m\u001B[0;34m)\u001B[0m\u001B[0;34m\u001B[0m\u001B[0;34m\u001B[0m\u001B[0m\n\u001B[1;32m    440\u001B[0m \u001B[0;34m\u001B[0m\u001B[0m\n\u001B[0;32m--> 441\u001B[0;31m                 \u001B[0mself\u001B[0m\u001B[0;34m.\u001B[0m\u001B[0m_condition\u001B[0m\u001B[0;34m.\u001B[0m\u001B[0mwait\u001B[0m\u001B[0;34m(\u001B[0m\u001B[0mtimeout\u001B[0m\u001B[0;34m)\u001B[0m\u001B[0;34m\u001B[0m\u001B[0;34m\u001B[0m\u001B[0m\n\u001B[0m\u001B[1;32m    442\u001B[0m \u001B[0;34m\u001B[0m\u001B[0m\n\u001B[1;32m    443\u001B[0m                 \u001B[0;32mif\u001B[0m \u001B[0mself\u001B[0m\u001B[0;34m.\u001B[0m\u001B[0m_state\u001B[0m \u001B[0;32min\u001B[0m \u001B[0;34m[\u001B[0m\u001B[0mCANCELLED\u001B[0m\u001B[0;34m,\u001B[0m \u001B[0mCANCELLED_AND_NOTIFIED\u001B[0m\u001B[0;34m]\u001B[0m\u001B[0;34m:\u001B[0m\u001B[0;34m\u001B[0m\u001B[0;34m\u001B[0m\u001B[0m\n",
      "\u001B[0;32m/usr/lib/python3.9/threading.py\u001B[0m in \u001B[0;36mwait\u001B[0;34m(self, timeout)\u001B[0m\n\u001B[1;32m    310\u001B[0m         \u001B[0;32mtry\u001B[0m\u001B[0;34m:\u001B[0m    \u001B[0;31m# restore state no matter what (e.g., KeyboardInterrupt)\u001B[0m\u001B[0;34m\u001B[0m\u001B[0;34m\u001B[0m\u001B[0m\n\u001B[1;32m    311\u001B[0m             \u001B[0;32mif\u001B[0m \u001B[0mtimeout\u001B[0m \u001B[0;32mis\u001B[0m \u001B[0;32mNone\u001B[0m\u001B[0;34m:\u001B[0m\u001B[0;34m\u001B[0m\u001B[0;34m\u001B[0m\u001B[0m\n\u001B[0;32m--> 312\u001B[0;31m                 \u001B[0mwaiter\u001B[0m\u001B[0;34m.\u001B[0m\u001B[0macquire\u001B[0m\u001B[0;34m(\u001B[0m\u001B[0;34m)\u001B[0m\u001B[0;34m\u001B[0m\u001B[0;34m\u001B[0m\u001B[0m\n\u001B[0m\u001B[1;32m    313\u001B[0m                 \u001B[0mgotit\u001B[0m \u001B[0;34m=\u001B[0m \u001B[0;32mTrue\u001B[0m\u001B[0;34m\u001B[0m\u001B[0;34m\u001B[0m\u001B[0m\n\u001B[1;32m    314\u001B[0m             \u001B[0;32melse\u001B[0m\u001B[0;34m:\u001B[0m\u001B[0;34m\u001B[0m\u001B[0;34m\u001B[0m\u001B[0m\n",
      "\u001B[0;31mKeyboardInterrupt\u001B[0m: "
     ]
    },
    {
     "data": {
      "text/plain": "<Figure size 576x396 with 1 Axes>",
      "image/png": "[encoded data removed]"
     },
     "metadata": {},
     "output_type": "display_data"
    }
   ],
   "source": [
    "visualizer.fit(X_train[:100], y_train[:100])\n",
    "visualizer.show()"
   ]
  },
  {
   "cell_type": "markdown",
   "source": [
    "plot accuracy while fitting more trees"
   ],
   "metadata": {
    "collapsed": false,
    "pycharm": {
     "name": "#%% md\n"
    }
   }
  },
  {
   "cell_type": "code",
   "execution_count": 69,
   "outputs": [],
   "source": [
    "warm_start_params = best_params.copy()\n",
    "warm_start_params['classifier__n_estimators'] = 0\n",
    "warm_start_params[\"classifier__warm_start\"] = True\n",
    "warm_start_params['classifier__n_jobs'] = -2\n",
    "\n",
    "best_estimator = search_result.estimator.set_params(**warm_start_params)\n"
   ],
   "metadata": {
    "collapsed": false,
    "pycharm": {
     "name": "#%%\n"
    }
   }
  },
  {
   "cell_type": "code",
   "execution_count": 1,
   "outputs": [
    {
     "ename": "NameError",
     "evalue": "name 'best_estimator' is not defined",
     "output_type": "error",
     "traceback": [
      "\u001B[0;31m---------------------------------------------------------------------------\u001B[0m",
      "\u001B[0;31mNameError\u001B[0m                                 Traceback (most recent call last)",
      "\u001B[0;32m<ipython-input-1-9a4a76342d68>\u001B[0m in \u001B[0;36m<module>\u001B[0;34m\u001B[0m\n\u001B[0;32m----> 1\u001B[0;31m \u001B[0mscaler\u001B[0m \u001B[0;34m=\u001B[0m \u001B[0mbest_estimator\u001B[0m\u001B[0;34m.\u001B[0m\u001B[0mnamed_steps\u001B[0m\u001B[0;34m[\u001B[0m\u001B[0;34m'scaler'\u001B[0m\u001B[0;34m]\u001B[0m\u001B[0;34m\u001B[0m\u001B[0;34m\u001B[0m\u001B[0m\n\u001B[0m\u001B[1;32m      2\u001B[0m \u001B[0mclassifier\u001B[0m \u001B[0;34m=\u001B[0m \u001B[0mbest_estimator\u001B[0m\u001B[0;34m.\u001B[0m\u001B[0mnamed_steps\u001B[0m\u001B[0;34m[\u001B[0m\u001B[0;34m'classifier'\u001B[0m\u001B[0;34m]\u001B[0m\u001B[0;34m\u001B[0m\u001B[0;34m\u001B[0m\u001B[0m\n",
      "\u001B[0;31mNameError\u001B[0m: name 'best_estimator' is not defined"
     ]
    }
   ],
   "source": [
    "scaler = best_estimator.named_steps['scaler']\n",
    "classifier = best_estimator.named_steps['classifier']"
   ],
   "metadata": {
    "collapsed": false,
    "pycharm": {
     "name": "#%%\n"
    }
   }
  },
  {
   "cell_type": "code",
   "execution_count": null,
   "outputs": [
    {
     "name": "stdout",
     "output_type": "stream",
     "text": [
      "[   4.            5.55460457    7.71340798   10.71123281   14.87416568\n",
      "   20.65502717   28.68262708   39.83016286   55.31020117   76.80657405\n",
      "  106.65753682  148.11011037  205.673274    285.60842695  396.61046842\n",
      "  550.75358014  764.80458837 1062.04676551 1474.81245444 2048.        ]\n"
     ]
    }
   ],
   "source": [
    "test_errors = []\n",
    "train_errors = []\n",
    "\n",
    "X_train_scaled = scaler.fit_transform(X_train, y_train)\n",
    "X_test_scaled = scaler.transform(X_test)\n",
    "\n",
    "n_estimator_options = np.logspace(2, 11, num=20, base=2)\n",
    "print(n_estimator_options)\n",
    "for added_estimators in n_estimator_options:\n",
    "    classifier.n_estimators += added_estimators\n",
    "    classifier.n_estimators = int(classifier.n_estimators)\n",
    "\n",
    "    classifier.fit(X_train_scaled, y_train)\n",
    "    y_hat_train = classifier.predict(X_train_scaled)\n",
    "    y_hat_test = classifier.predict(X_test_scaled)\n",
    "\n",
    "    train_errors.append(accuracy_score(y_train, y_hat_train))\n",
    "    test_errors.append(accuracy_score(y_test, y_hat_test))\n"
   ],
   "metadata": {
    "collapsed": false,
    "pycharm": {
     "name": "#%%\n",
     "is_executing": true
    }
   }
  },
  {
   "cell_type": "code",
   "execution_count": null,
   "outputs": [],
   "source": [
    "_ = plt.plot(n_estimator_options, train_errors, '-r')"
   ],
   "metadata": {
    "collapsed": false,
    "pycharm": {
     "name": "#%%\n",
     "is_executing": true
    }
   }
  },
  {
   "cell_type": "code",
   "execution_count": null,
   "outputs": [],
   "source": [
    "_ = plt.plot(n_estimator_options, test_errors, '-r')\n"
   ],
   "metadata": {
    "collapsed": false,
    "pycharm": {
     "name": "#%%\n",
     "is_executing": true
    }
   }
  },
  {
   "cell_type": "code",
   "execution_count": null,
   "outputs": [],
   "source": [],
   "metadata": {
    "collapsed": false,
    "pycharm": {
     "name": "#%%\n"
    }
   }
  }
 ],
 "metadata": {
  "kernelspec": {
   "display_name": "Python 3",
   "language": "python",
   "name": "python3"
  },
  "language_info": {
   "codemirror_mode": {
    "name": "ipython",
    "version": 3
   },
   "file_extension": ".py",
   "mimetype": "text/x-python",
   "name": "python",
   "nbconvert_exporter": "python",
   "pygments_lexer": "ipython3",
   "version": "3.9.7"
  }
 },
 "nbformat": 4,
 "nbformat_minor": 1
}