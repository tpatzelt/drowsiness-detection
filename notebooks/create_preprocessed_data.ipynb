{
 "cells": [
  {
   "cell_type": "code",
   "execution_count": 3,
   "outputs": [],
   "source": [
    "\n",
    "import numpy as np\n",
    "from sklearn.metrics import RocCurveDisplay\n",
    "from drowsiness_detection import config\n",
    "from dataclasses import dataclass\n",
    "from drowsiness_detection.data import load_preprocessed_train_val_test_splits, session_type_mapping, load_nn_data"
   ],
   "metadata": {
    "collapsed": false,
    "pycharm": {
     "name": "#%%\n"
    }
   }
  },
  {
   "cell_type": "code",
   "execution_count": 4,
   "outputs": [],
   "source": [
    "prepr_path = config.SOURCES_ROOT_PATH.parent.joinpath(\"data/preprocessed/60sec\")"
   ],
   "metadata": {
    "collapsed": false,
    "pycharm": {
     "name": "#%%\n"
    }
   }
  },
  {
   "cell_type": "code",
   "execution_count": 5,
   "outputs": [],
   "source": [
    "\n",
    "\n",
    "# data = load_engineered_60_sec_data()"
   ],
   "metadata": {
    "collapsed": false,
    "pycharm": {
     "name": "#%%\n"
    }
   }
  },
  {
   "cell_type": "code",
   "execution_count": 6,
   "outputs": [
    {
     "data": {
      "text/plain": "PosixPath('/home/tim/IM/data/preprocessed/60sec')"
     },
     "execution_count": 6,
     "metadata": {},
     "output_type": "execute_result"
    }
   ],
   "source": [
    "# X_train, X_test, y_train, y_test, _ = load_preprocessed_train_test_splits(\n",
    "#     data_path=config.PATHS.WINDOW_FEATURES,\n",
    "#     exclude_sess_type=session_type_mapping[\"a\"],\n",
    "#     num_targets=2,\n",
    "#     seed=42,\n",
    "#     test_size=.2,\n",
    "#     split_by_subjects=True,\n",
    "# )\n",
    "prepr_path = config.SOURCES_ROOT_PATH.parent.joinpath(\"data/preprocessed/60sec\")\n",
    "prepr_path.mkdir(exist_ok=1)\n",
    "\n",
    "prepr_path"
   ],
   "metadata": {
    "collapsed": false,
    "pycharm": {
     "name": "#%%\n"
    }
   }
  },
  {
   "cell_type": "code",
   "execution_count": 41,
   "outputs": [],
   "source": [
    "seed = 44\n",
    "num_fold = 3\n"
   ],
   "metadata": {
    "collapsed": false,
    "pycharm": {
     "name": "#%%\n"
    }
   }
  },
  {
   "cell_type": "code",
   "execution_count": 42,
   "outputs": [],
   "source": [
    "config.set_paths(30, 60)"
   ],
   "metadata": {
    "collapsed": false,
    "pycharm": {
     "name": "#%%\n"
    }
   }
  },
  {
   "cell_type": "markdown",
   "source": [],
   "metadata": {
    "collapsed": false,
    "pycharm": {
     "name": "#%% md\n"
    }
   }
  },
  {
   "cell_type": "code",
   "execution_count": 43,
   "outputs": [],
   "source": [
    "X_train, X_val, X_test, y_train, y_val, y_test, (\n",
    "train_ids, val_ids, test_ids) = load_preprocessed_train_val_test_splits(\n",
    "    data_path=config.PATHS.WINDOW_FEATURES,\n",
    "    exclude_sess_type=session_type_mapping[\"a\"],\n",
    "    num_targets=2,\n",
    "    seed=seed,\n",
    "    test_size=.2,\n",
    "    split_by_subjects=True,\n",
    ")"
   ],
   "metadata": {
    "collapsed": false,
    "pycharm": {
     "name": "#%%\n"
    }
   }
  },
  {
   "cell_type": "code",
   "execution_count": 44,
   "outputs": [
    {
     "name": "stdout",
     "output_type": "stream",
     "text": [
      "[27 50 31 46 33 20 12 22 24 41 42 44 52  8  5  1 15 45 48 40 11 43 23 26\n",
      " 21 32  9] [19  2 39 29 38 47 53 10  4  7] [ 6 16 36 28 18 14 13  3 17]\n"
     ]
    }
   ],
   "source": [
    "print(train_ids, val_ids, test_ids)\n",
    "# fold 1: [31 39 46 23 47 16 45  6 29 43 22 21 48  3 42 10 15  8 19 40 24  2 26 36\n",
    "# 11 17 33  4] [ 1  5 14 20 12 32 44 52 53] [27 28 41 13  9  7 38 18 50]\n",
    "\n",
    "# fold 2: [15  2  1 20  6  5 22  9 24 41 18  3 27 32  4 10 50 13 11 47 48 29 40 45\n",
    "# 39] [33 52 17 12 28 53 16 23 44 36] [38 21 46  7 19  8 14 26 31 43 42]\n",
    "\n",
    "# fold 3: [27 50 31 46 33 20 12 22 24 41 42 44 52  8  5  1 15 45 48 40 11 43 23 26\n",
    "# 21 32  9] [19  2 39 29 38 47 53 10  4  7] [ 6 16 36 28 18 14 13  3 17]"
   ],
   "metadata": {
    "collapsed": false,
    "pycharm": {
     "name": "#%%\n"
    }
   }
  },
  {
   "cell_type": "code",
   "execution_count": 45,
   "outputs": [],
   "source": [
    "\n",
    "import random\n",
    "from drowsiness_detection.data import  get_feature_data, preprocess_feature_data\n",
    "exclude_sess_type = session_type_mapping[\"a\"]\n",
    "data_path = config.PATHS.WINDOW_FEATURES\n",
    "num_targets = 2\n",
    "\n",
    "np.random.seed(seed)\n",
    "random.seed(seed)\n",
    "\n",
    "data = get_feature_data(data_path=data_path)\n",
    "X, y, subject_data = preprocess_feature_data(feature_data=data,\n",
    "                                             exclude_sess_type=exclude_sess_type,\n",
    "                                             num_targets=num_targets)\n",
    "# subject data is sess_type + subject id"
   ],
   "metadata": {
    "collapsed": false,
    "pycharm": {
     "name": "#%%\n"
    }
   }
  },
  {
   "cell_type": "code",
   "execution_count": 46,
   "outputs": [
    {
     "name": "stdout",
     "output_type": "stream",
     "text": [
      "len(X_train)=18828\n",
      "len(X_val)=6490\n",
      "len(X_test)=6818\n"
     ]
    }
   ],
   "source": [
    "print(f\"{len(X_train)=}\")\n",
    "print(f\"{len(X_val)=}\")\n",
    "print(f\"{len(X_test)=}\")\n"
   ],
   "metadata": {
    "collapsed": false,
    "pycharm": {
     "name": "#%%\n"
    }
   }
  },
  {
   "cell_type": "code",
   "execution_count": 47,
   "outputs": [
    {
     "name": "stdout",
     "output_type": "stream",
     "text": [
      "len(subject_data[np.isin(subject_data[:,1], train_ids)])=18828\n",
      "len(subject_data[np.isin(subject_data[:,1], val_ids)])=6490\n",
      "len(subject_data[np.isin(subject_data[:,1], test_ids)])=6818\n"
     ]
    }
   ],
   "source": [
    "print(f\"{len(subject_data[np.isin(subject_data[:,1], train_ids)])=}\")\n",
    "print(f\"{len(subject_data[np.isin(subject_data[:,1], val_ids)])=}\")\n",
    "print(f\"{len(subject_data[np.isin(subject_data[:,1], test_ids)])=}\")\n"
   ],
   "metadata": {
    "collapsed": false,
    "pycharm": {
     "name": "#%%\n"
    }
   }
  },
  {
   "cell_type": "code",
   "execution_count": 48,
   "outputs": [],
   "source": [
    "engineered_feature_data_path = prepr_path.joinpath(\"engineered_features\")\n",
    "engineered_feature_data_path.mkdir(exist_ok=1)"
   ],
   "metadata": {
    "collapsed": false,
    "pycharm": {
     "name": "#%%\n"
    }
   }
  },
  {
   "cell_type": "code",
   "execution_count": 49,
   "outputs": [],
   "source": [
    "np.save(str(engineered_feature_data_path.joinpath(f\"X_train_{num_fold}.npy\")), X_train)\n",
    "np.save(str(engineered_feature_data_path.joinpath(f\"X_val_{num_fold}.npy\")), X_val)\n",
    "np.save(str(engineered_feature_data_path.joinpath(f\"X_test_{num_fold}.npy\")), X_test)\n",
    "\n",
    "np.save(str(engineered_feature_data_path.joinpath(f\"y_train_{num_fold}.npy\")), y_train)\n",
    "np.save(str(engineered_feature_data_path.joinpath(f\"y_val_{num_fold}.npy\")), y_val)\n",
    "np.save(str(engineered_feature_data_path.joinpath(f\"y_test_{num_fold}.npy\")), y_test)"
   ],
   "metadata": {
    "collapsed": false,
    "pycharm": {
     "name": "#%%\n"
    }
   }
  },
  {
   "cell_type": "code",
   "execution_count": 49,
   "outputs": [],
   "source": [],
   "metadata": {
    "collapsed": false,
    "pycharm": {
     "name": "#%%\n"
    }
   }
  },
  {
   "cell_type": "code",
   "execution_count": 50,
   "outputs": [],
   "source": [
    "raw_feature_data_path = prepr_path.joinpath(\"raw_features\")\n",
    "raw_feature_data_path.mkdir(exist_ok=1)"
   ],
   "metadata": {
    "collapsed": false,
    "pycharm": {
     "name": "#%%\n"
    }
   }
  },
  {
   "cell_type": "code",
   "execution_count": 51,
   "outputs": [],
   "source": [
    "X,y, subject_data = load_nn_data(data_path=config.PATHS.WINDOW_DATA)"
   ],
   "metadata": {
    "collapsed": false,
    "pycharm": {
     "name": "#%%\n"
    }
   }
  },
  {
   "cell_type": "code",
   "execution_count": 52,
   "outputs": [],
   "source": [
    "train_mask = np.isin(subject_data[:,1],train_ids)\n",
    "val_mask = np.isin(subject_data[:,1],val_ids)\n",
    "test_mask = np.isin(subject_data[:,1],test_ids)\n"
   ],
   "metadata": {
    "collapsed": false,
    "pycharm": {
     "name": "#%%\n"
    }
   }
  },
  {
   "cell_type": "code",
   "execution_count": 53,
   "outputs": [],
   "source": [
    "X_train = X[train_mask]\n",
    "X_val = X[val_mask]\n",
    "X_test = X[test_mask]\n",
    "\n",
    "y_train = y[train_mask]\n",
    "y_val = y[val_mask]\n",
    "y_test = y[test_mask]"
   ],
   "metadata": {
    "collapsed": false,
    "pycharm": {
     "name": "#%%\n"
    }
   }
  },
  {
   "cell_type": "code",
   "execution_count": 54,
   "outputs": [],
   "source": [
    "np.save(str(raw_feature_data_path.joinpath(f\"X_train_{num_fold}.npy\")), X_train)\n",
    "np.save(str(raw_feature_data_path.joinpath(f\"X_val_{num_fold}.npy\")), X_val)\n",
    "np.save(str(raw_feature_data_path.joinpath(f\"X_test_{num_fold}.npy\")), X_test)\n",
    "\n",
    "np.save(str(raw_feature_data_path.joinpath(f\"y_train_{num_fold}.npy\")), y_train)\n",
    "np.save(str(raw_feature_data_path.joinpath(f\"y_val_{num_fold}.npy\")), y_val)\n",
    "np.save(str(raw_feature_data_path.joinpath(f\"y_test_{num_fold}.npy\")), y_test)"
   ],
   "metadata": {
    "collapsed": false,
    "pycharm": {
     "name": "#%%\n"
    }
   }
  },
  {
   "cell_type": "code",
   "execution_count": null,
   "outputs": [],
   "source": [],
   "metadata": {
    "collapsed": false,
    "pycharm": {
     "name": "#%%\n"
    }
   }
  }
 ],
 "metadata": {
  "kernelspec": {
   "display_name": "Python 3",
   "language": "python",
   "name": "python3"
  },
  "language_info": {
   "codemirror_mode": {
    "name": "ipython",
    "version": 2
   },
   "file_extension": ".py",
   "mimetype": "text/x-python",
   "name": "python",
   "nbconvert_exporter": "python",
   "pygments_lexer": "ipython2",
   "version": "2.7.6"
  }
 },
 "nbformat": 4,
 "nbformat_minor": 0
}