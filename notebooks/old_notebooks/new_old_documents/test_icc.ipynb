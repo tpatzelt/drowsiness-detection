{
 "cells": [
  {
   "cell_type": "code",
   "execution_count": 33,
   "metadata": {
    "ExecuteTime": {
     "end_time": "2021-05-27T15:29:13.171063Z",
     "start_time": "2021-05-27T15:29:13.161780Z"
    }
   },
   "outputs": [],
   "source": [
    "from icc import icc\n",
    "import numpy as np"
   ]
  },
  {
   "cell_type": "code",
   "execution_count": 40,
   "metadata": {
    "ExecuteTime": {
     "end_time": "2021-05-27T15:29:25.597714Z",
     "start_time": "2021-05-27T15:29:25.590081Z"
    }
   },
   "outputs": [
    {
     "data": {
      "text/plain": [
       "array([[1, 1],\n",
       "       [2, 2],\n",
       "       [3, 3],\n",
       "       [3, 4]])"
      ]
     },
     "execution_count": 40,
     "metadata": {},
     "output_type": "execute_result"
    }
   ],
   "source": [
    "obs1 = [1,2,3,3]\n",
    "obs2 = [1,2,3,4]\n",
    "Y = np.vstack([obs1,obs2]).T\n",
    "Y"
   ]
  },
  {
   "cell_type": "code",
   "execution_count": 41,
   "metadata": {
    "ExecuteTime": {
     "end_time": "2021-05-27T15:29:25.846515Z",
     "start_time": "2021-05-27T15:29:25.834905Z"
    }
   },
   "outputs": [
    {
     "data": {
      "text/plain": [
       "(0.9032258064516129,\n",
       " 19.666666666666668,\n",
       " 3,\n",
       " 4,\n",
       " 0.007396654628821997,\n",
       " 0.49795339548079304,\n",
       " 0.9889076586288083)"
      ]
     },
     "execution_count": 41,
     "metadata": {},
     "output_type": "execute_result"
    }
   ],
   "source": [
    "icc(ratings=Y, model=\"oneway\", type=\"agreement\", unit=\"single\")"
   ]
  },
  {
   "cell_type": "code",
   "execution_count": 42,
   "metadata": {
    "ExecuteTime": {
     "end_time": "2021-05-27T15:29:26.066984Z",
     "start_time": "2021-05-27T15:29:26.049756Z"
    }
   },
   "outputs": [
    {
     "data": {
      "text/plain": [
       "(0.9032258064516129,\n",
       " 19.666666666666668,\n",
       " 3,\n",
       " 3,\n",
       " 0.01780477044576756,\n",
       " 0.35897912031804896,\n",
       " 0.9890972735284568)"
      ]
     },
     "execution_count": 42,
     "metadata": {},
     "output_type": "execute_result"
    }
   ],
   "source": [
    "icc(ratings=Y, model=\"twoway\", type=\"consistency\", unit=\"single\")"
   ]
  },
  {
   "cell_type": "code",
   "execution_count": null,
   "metadata": {},
   "outputs": [],
   "source": [
    "p"
   ]
  }
 ],
 "metadata": {
  "kernelspec": {
   "display_name": "Python 3",
   "language": "python",
   "name": "python3"
  },
  "language_info": {
   "codemirror_mode": {
    "name": "ipython",
    "version": 3
   },
   "file_extension": ".py",
   "mimetype": "text/x-python",
   "name": "python",
   "nbconvert_exporter": "python",
   "pygments_lexer": "ipython3",
   "version": "3.6.9"
  },
  "varInspector": {
   "cols": {
    "lenName": 16,
    "lenType": 16,
    "lenVar": 40
   },
   "kernels_config": {
    "python": {
     "delete_cmd_postfix": "",
     "delete_cmd_prefix": "del ",
     "library": "var_list.py",
     "varRefreshCmd": "print(var_dic_list())"
    },
    "r": {
     "delete_cmd_postfix": ") ",
     "delete_cmd_prefix": "rm(",
     "library": "var_list.r",
     "varRefreshCmd": "cat(var_dic_list()) "
    }
   },
   "types_to_exclude": [
    "module",
    "function",
    "builtin_function_or_method",
    "instance",
    "_Feature"
   ],
   "window_display": false
  }
 },
 "nbformat": 4,
 "nbformat_minor": 4
}
