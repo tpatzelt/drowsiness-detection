{
 "cells": [
  {
   "cell_type": "code",
   "execution_count": 19,
   "outputs": [],
   "source": [
    "from drowsiness_detection import config\n",
    "from drowsiness_detection.data import load_experiment_objects_nn\n",
    "from drowsiness_detection.run_grid_search_experiment import load_experiment_data\n",
    "from sklearn.linear_model import RidgeClassifier, RidgeClassifierCV\n",
    "import numpy as np\n",
    "from sktime.transformations.panel.rocket import MiniRocketMultivariate\n"
   ],
   "metadata": {
    "collapsed": false,
    "pycharm": {
     "name": "#%%\n"
    }
   }
  },
  {
   "cell_type": "code",
   "execution_count": 20,
   "outputs": [
    {
     "name": "stdout",
     "output_type": "stream",
     "text": [
      "loading from experiment with id:  115\n",
      "X_train shape: (25642, 1800, 7), y_train shape: (25642,)\n",
      "X_test shape: (6494, 1800, 7), y_test shape: (6494,)\n"
     ]
    }
   ],
   "source": [
    "experiment_id = 115\n",
    "exp_config, _, _, _ = load_experiment_objects_nn(\n",
    "    experiment_id=experiment_id,\n",
    "    log_dir=\"../logs/\")\n",
    "window_size = exp_config[\"window_in_sec\"]\n",
    "config.set_paths(30, window_size)\n",
    "\n",
    "# load data\n",
    "X_train, X_test, y_train, y_test, _ = load_experiment_data(\n",
    "    exclude_by=exp_config[\"exclude_by\"],\n",
    "    num_targets=exp_config[\"num_targets\"],\n",
    "    seed=exp_config[\"seed\"],\n",
    "    test_size=exp_config[\"test_size\"],\n",
    "    split_by_subjects=exp_config[\"split_by_subjects\"],\n",
    "    use_dummy_data=exp_config[\"use_dummy_data\"],\n",
    "    nn_experiment=exp_config[\"nn_experiment\"],\n",
    "    feature_col_indices=exp_config[\"feature_col_indices\"])\n"
   ],
   "metadata": {
    "collapsed": false,
    "pycharm": {
     "name": "#%%\n"
    }
   }
  },
  {
   "cell_type": "code",
   "execution_count": 21,
   "outputs": [],
   "source": [
    "X_test = np.swapaxes(X_test, 1,2)\n",
    "X_train = np.swapaxes(X_train, 1,2)"
   ],
   "metadata": {
    "collapsed": false,
    "pycharm": {
     "name": "#%%\n"
    }
   }
  },
  {
   "cell_type": "code",
   "execution_count": 22,
   "outputs": [
    {
     "name": "stdout",
     "output_type": "stream",
     "text": [
      "(6494, 7, 1800)\n"
     ]
    }
   ],
   "source": [
    "num_samples = None\n",
    "X_test, y_test = X_test[:num_samples], y_test[:num_samples]\n",
    "X_train, y_train = X_train[:num_samples], y_train[:num_samples]\n",
    "print(X_test.shape)"
   ],
   "metadata": {
    "collapsed": false,
    "pycharm": {
     "name": "#%%\n"
    }
   }
  },
  {
   "cell_type": "code",
   "execution_count": 23,
   "outputs": [
    {
     "name": "stdout",
     "output_type": "stream",
     "text": [
      "(25642, 9996)\n"
     ]
    }
   ],
   "source": [
    "minirocket_multi = MiniRocketMultivariate()\n",
    "minirocket_multi.fit(X_train)\n",
    "X_train_transform = minirocket_multi.transform(X_train)\n",
    "print(X_train_transform.shape)"
   ],
   "metadata": {
    "collapsed": false,
    "pycharm": {
     "name": "#%%\n"
    }
   }
  },
  {
   "cell_type": "code",
   "execution_count": null,
   "outputs": [
    {
     "name": "stderr",
     "output_type": "stream",
     "text": [
      "/home/tim/IM/venv/lib/python3.9/site-packages/sklearn/linear_model/_base.py:141: FutureWarning: 'normalize' was deprecated in version 1.0 and will be removed in 1.2.\n",
      "If you wish to scale the data, use Pipeline with a StandardScaler in a preprocessing stage. To reproduce the previous behavior:\n",
      "\n",
      "from sklearn.pipeline import make_pipeline\n",
      "\n",
      "model = make_pipeline(StandardScaler(with_mean=False), RidgeClassifier())\n",
      "\n",
      "If you wish to pass a sample_weight parameter, you need to pass it as a fit parameter to each step of the pipeline as follows:\n",
      "\n",
      "kwargs = {s[0] + '__sample_weight': sample_weight for s in model.steps}\n",
      "model.fit(X, y, **kwargs)\n",
      "\n",
      "Set parameter alpha to: original_alpha * n_samples. \n",
      "  warnings.warn(\n"
     ]
    }
   ],
   "source": [
    "classifier = RidgeClassifier(alpha=0.001, normalize=True)\n",
    "classifier.fit(X_train_transform, y_train)\n"
   ],
   "metadata": {
    "collapsed": false,
    "pycharm": {
     "name": "#%%\n",
     "is_executing": true
    }
   }
  },
  {
   "cell_type": "code",
   "execution_count": null,
   "outputs": [],
   "source": [
    "X_test_transform = minirocket_multi.transform(X_test)\n"
   ],
   "metadata": {
    "collapsed": false,
    "pycharm": {
     "name": "#%%\n",
     "is_executing": true
    }
   }
  },
  {
   "cell_type": "code",
   "execution_count": null,
   "outputs": [],
   "source": [
    "y_pred = classifier.predict(X_test_transform)\n",
    "print(np.mean(y_test == y_pred))"
   ],
   "metadata": {
    "collapsed": false,
    "pycharm": {
     "name": "#%%\n",
     "is_executing": true
    }
   }
  },
  {
   "cell_type": "code",
   "execution_count": null,
   "outputs": [],
   "source": [],
   "metadata": {
    "collapsed": false,
    "pycharm": {
     "name": "#%%\n",
     "is_executing": true
    }
   }
  }
 ],
 "metadata": {
  "kernelspec": {
   "display_name": "Python 3",
   "language": "python",
   "name": "python3"
  },
  "language_info": {
   "codemirror_mode": {
    "name": "ipython",
    "version": 2
   },
   "file_extension": ".py",
   "mimetype": "text/x-python",
   "name": "python",
   "nbconvert_exporter": "python",
   "pygments_lexer": "ipython2",
   "version": "2.7.6"
  }
 },
 "nbformat": 4,
 "nbformat_minor": 0
}