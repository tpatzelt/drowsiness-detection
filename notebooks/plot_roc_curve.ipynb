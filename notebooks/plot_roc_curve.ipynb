{
 "cells": [
  {
   "cell_type": "code",
   "execution_count": 14,
   "metadata": {
    "collapsed": true,
    "pycharm": {
     "name": "#%%\n"
    }
   },
   "outputs": [
    {
     "name": "stderr",
     "output_type": "stream",
     "text": [
      "Intel(R) Extension for Scikit-learn* enabled (https://github.com/intel/scikit-learn-intelex)\n"
     ]
    }
   ],
   "source": [
    "\n",
    "\n",
    "import time\n",
    "\n",
    "import matplotlib.pyplot as plt\n",
    "import numpy as np\n",
    "from sklearn.ensemble import RandomForestClassifier\n",
    "from sklearn.preprocessing import StandardScaler\n",
    "from sklearn.metrics import accuracy_score\n",
    "from sklearnex import patch_sklearn\n",
    "\n",
    "patch_sklearn()\n",
    "from drowsiness_detection.visualize import plot_roc_over_sessions, plot_roc_over_subjects, plot_roc_over_n_folds\n",
    "import pickle\n",
    "# explicitly require this experimental feature\n",
    "from sklearn.experimental import enable_halving_search_cv  # noqa\n",
    "# now you can import normally from model_selection\n",
    "from sklearn.model_selection import train_test_split\n",
    "from drowsiness_detection.data import (get_feature_data, preprocess_feature_data,\n",
    "                                       session_type_mapping)\n",
    "from drowsiness_detection import config\n",
    "from sklearn.model_selection import StratifiedKFold\n",
    "import pandas as pd\n",
    "from sklearn.metrics import RocCurveDisplay"
   ]
  },
  {
   "cell_type": "code",
   "execution_count": null,
   "outputs": [],
   "source": [
    "# fixed experiment params\n",
    "seed = 123\n",
    "test_size = .2\n",
    "num_targets = 2\n",
    "exclude_by = 'a'"
   ],
   "metadata": {
    "collapsed": false,
    "pycharm": {
     "name": "#%%\n"
    }
   }
  },
  {
   "cell_type": "code",
   "execution_count": 21,
   "outputs": [
    {
     "ename": "ValueError",
     "evalue": "Expected 'estimator' to be a binary classifier, but got Pipeline fit on multiclass (3 classes) data",
     "output_type": "error",
     "traceback": [
      "\u001B[0;31m---------------------------------------------------------------------------\u001B[0m",
      "\u001B[0;31mValueError\u001B[0m                                Traceback (most recent call last)",
      "\u001B[0;32m<ipython-input-21-c681841c0e54>\u001B[0m in \u001B[0;36m<module>\u001B[0;34m\u001B[0m\n\u001B[1;32m     16\u001B[0m                                                         random_state=seed)\n\u001B[1;32m     17\u001B[0m \u001B[0;34m\u001B[0m\u001B[0m\n\u001B[0;32m---> 18\u001B[0;31m     \u001B[0mRocCurveDisplay\u001B[0m\u001B[0;34m.\u001B[0m\u001B[0mfrom_estimator\u001B[0m\u001B[0;34m(\u001B[0m\u001B[0mestimator\u001B[0m\u001B[0;34m=\u001B[0m\u001B[0mbest_estimator\u001B[0m\u001B[0;34m,\u001B[0m \u001B[0mX\u001B[0m\u001B[0;34m=\u001B[0m\u001B[0mX_test\u001B[0m\u001B[0;34m,\u001B[0m \u001B[0my\u001B[0m\u001B[0;34m=\u001B[0m\u001B[0my_test\u001B[0m\u001B[0;34m,\u001B[0m \u001B[0mname\u001B[0m\u001B[0;34m=\u001B[0m\u001B[0;34m\"RF-60s\"\u001B[0m\u001B[0;34m,\u001B[0m \u001B[0max\u001B[0m\u001B[0;34m=\u001B[0m\u001B[0max\u001B[0m\u001B[0;34m)\u001B[0m\u001B[0;34m\u001B[0m\u001B[0;34m\u001B[0m\u001B[0m\n\u001B[0m",
      "\u001B[0;32m~/IM/venv/lib/python3.9/site-packages/sklearn/metrics/_plot/roc_curve.py\u001B[0m in \u001B[0;36mfrom_estimator\u001B[0;34m(cls, estimator, X, y, sample_weight, drop_intermediate, response_method, pos_label, name, ax, **kwargs)\u001B[0m\n\u001B[1;32m    229\u001B[0m         \u001B[0mname\u001B[0m \u001B[0;34m=\u001B[0m \u001B[0mestimator\u001B[0m\u001B[0;34m.\u001B[0m\u001B[0m__class__\u001B[0m\u001B[0;34m.\u001B[0m\u001B[0m__name__\u001B[0m \u001B[0;32mif\u001B[0m \u001B[0mname\u001B[0m \u001B[0;32mis\u001B[0m \u001B[0;32mNone\u001B[0m \u001B[0;32melse\u001B[0m \u001B[0mname\u001B[0m\u001B[0;34m\u001B[0m\u001B[0;34m\u001B[0m\u001B[0m\n\u001B[1;32m    230\u001B[0m \u001B[0;34m\u001B[0m\u001B[0m\n\u001B[0;32m--> 231\u001B[0;31m         y_pred, pos_label = _get_response(\n\u001B[0m\u001B[1;32m    232\u001B[0m             \u001B[0mX\u001B[0m\u001B[0;34m,\u001B[0m\u001B[0;34m\u001B[0m\u001B[0;34m\u001B[0m\u001B[0m\n\u001B[1;32m    233\u001B[0m             \u001B[0mestimator\u001B[0m\u001B[0;34m,\u001B[0m\u001B[0;34m\u001B[0m\u001B[0;34m\u001B[0m\u001B[0m\n",
      "\u001B[0;32m~/IM/venv/lib/python3.9/site-packages/sklearn/metrics/_plot/base.py\u001B[0m in \u001B[0;36m_get_response\u001B[0;34m(X, estimator, response_method, pos_label)\u001B[0m\n\u001B[1;32m    106\u001B[0m         \u001B[0my_pred_shape\u001B[0m \u001B[0;34m=\u001B[0m \u001B[0my_pred\u001B[0m\u001B[0;34m.\u001B[0m\u001B[0mshape\u001B[0m\u001B[0;34m[\u001B[0m\u001B[0;36m1\u001B[0m\u001B[0;34m]\u001B[0m\u001B[0;34m\u001B[0m\u001B[0;34m\u001B[0m\u001B[0m\n\u001B[1;32m    107\u001B[0m         \u001B[0;32mif\u001B[0m \u001B[0my_pred_shape\u001B[0m \u001B[0;34m!=\u001B[0m \u001B[0;36m2\u001B[0m\u001B[0;34m:\u001B[0m\u001B[0;34m\u001B[0m\u001B[0;34m\u001B[0m\u001B[0m\n\u001B[0;32m--> 108\u001B[0;31m             raise ValueError(\n\u001B[0m\u001B[1;32m    109\u001B[0m                 \u001B[0;34mf\"{classification_error} fit on multiclass ({y_pred_shape} classes)\"\u001B[0m\u001B[0;34m\u001B[0m\u001B[0;34m\u001B[0m\u001B[0m\n\u001B[1;32m    110\u001B[0m                 \u001B[0;34m\" data\"\u001B[0m\u001B[0;34m\u001B[0m\u001B[0;34m\u001B[0m\u001B[0m\n",
      "\u001B[0;31mValueError\u001B[0m: Expected 'estimator' to be a binary classifier, but got Pipeline fit on multiclass (3 classes) data"
     ]
    },
    {
     "data": {
      "text/plain": "<Figure size 432x288 with 1 Axes>",
      "image/png": "[encoded data removed]"
     },
     "metadata": {
      "needs_background": "light"
     },
     "output_type": "display_data"
    }
   ],
   "source": [
    "fig, ax = plt.subplots()\n",
    "\n",
    "for window_size in [10,30,60]:\n",
    "    config.set_paths(30, window_size)\n",
    "\n",
    "    # load hyperparameter results\n",
    "    with open(\"../logs/19/best_model.pkl\", \"rb\") as fp:\n",
    "        best_estimator = pickle.load(fp)\n",
    "\n",
    "    # load data\n",
    "    data = get_feature_data(data_path=config.PATHS.WINDOW_FEATURES)\n",
    "    X, y = preprocess_feature_data(feature_data=data,\n",
    "                                   exclude_sess_type=session_type_mapping[exclude_by],\n",
    "                                   num_targets=num_targets)\n",
    "    X_train, X_test, y_train, y_test = train_test_split(X, y, test_size=test_size,\n",
    "                                                        random_state=seed)\n",
    "\n",
    "    RocCurveDisplay.from_estimator(estimator=best_estimator, X=X_test, y=y_test, name=\"RF-60s\", ax=ax)"
   ],
   "metadata": {
    "collapsed": false,
    "pycharm": {
     "name": "#%%\n"
    }
   }
  },
  {
   "cell_type": "code",
   "execution_count": 4,
   "outputs": [
    {
     "data": {
      "text/plain": "   mean_fit_time  std_fit_time  mean_score_time  std_score_time  \\\n0     342.219069     61.175934          0.75365        0.142029   \n\n  param_classifier__criterion param_classifier__max_depth  \\\n0                     entropy                          35   \n\n  param_classifier__max_features param_classifier__n_estimators  \\\n0                           sqrt                            512   \n\n                                              params  split0_test_score  ...  \\\n0  {'classifier__criterion': 'entropy', 'classifi...           0.652189  ...   \n\n   split2_train_score  split3_train_score  split4_train_score  \\\n0            0.999763            0.999802            0.999763   \n\n   split5_train_score  split6_train_score  split7_train_score  \\\n0            0.999763            0.999763            0.999802   \n\n   split8_train_score  split9_train_score  mean_train_score  std_train_score  \n0            0.999802            0.999802           0.99979         0.000025  \n\n[1 rows x 34 columns]",
      "text/html": "<div>\n<style scoped>\n    .dataframe tbody tr th:only-of-type {\n        vertical-align: middle;\n    }\n\n    .dataframe tbody tr th {\n        vertical-align: top;\n    }\n\n    .dataframe thead th {\n        text-align: right;\n    }\n</style>\n<table border=\"1\" class=\"dataframe\">\n  <thead>\n    <tr style=\"text-align: right;\">\n      <th></th>\n      <th>mean_fit_time</th>\n      <th>std_fit_time</th>\n      <th>mean_score_time</th>\n      <th>std_score_time</th>\n      <th>param_classifier__criterion</th>\n      <th>param_classifier__max_depth</th>\n      <th>param_classifier__max_features</th>\n      <th>param_classifier__n_estimators</th>\n      <th>params</th>\n      <th>split0_test_score</th>\n      <th>...</th>\n      <th>split2_train_score</th>\n      <th>split3_train_score</th>\n      <th>split4_train_score</th>\n      <th>split5_train_score</th>\n      <th>split6_train_score</th>\n      <th>split7_train_score</th>\n      <th>split8_train_score</th>\n      <th>split9_train_score</th>\n      <th>mean_train_score</th>\n      <th>std_train_score</th>\n    </tr>\n  </thead>\n  <tbody>\n    <tr>\n      <th>0</th>\n      <td>342.219069</td>\n      <td>61.175934</td>\n      <td>0.75365</td>\n      <td>0.142029</td>\n      <td>entropy</td>\n      <td>35</td>\n      <td>sqrt</td>\n      <td>512</td>\n      <td>{'classifier__criterion': 'entropy', 'classifi...</td>\n      <td>0.652189</td>\n      <td>...</td>\n      <td>0.999763</td>\n      <td>0.999802</td>\n      <td>0.999763</td>\n      <td>0.999763</td>\n      <td>0.999763</td>\n      <td>0.999802</td>\n      <td>0.999802</td>\n      <td>0.999802</td>\n      <td>0.99979</td>\n      <td>0.000025</td>\n    </tr>\n  </tbody>\n</table>\n<p>1 rows × 34 columns</p>\n</div>"
     },
     "execution_count": 4,
     "metadata": {},
     "output_type": "execute_result"
    }
   ],
   "source": [],
   "metadata": {
    "collapsed": false,
    "pycharm": {
     "name": "#%%\n"
    }
   }
  },
  {
   "cell_type": "code",
   "execution_count": null,
   "outputs": [],
   "source": [],
   "metadata": {
    "collapsed": false,
    "pycharm": {
     "name": "#%%\n"
    }
   }
  }
 ],
 "metadata": {
  "kernelspec": {
   "display_name": "Python 3",
   "language": "python",
   "name": "python3"
  },
  "language_info": {
   "codemirror_mode": {
    "name": "ipython",
    "version": 2
   },
   "file_extension": ".py",
   "mimetype": "text/x-python",
   "name": "python",
   "nbconvert_exporter": "python",
   "pygments_lexer": "ipython2",
   "version": "2.7.6"
  }
 },
 "nbformat": 4,
 "nbformat_minor": 0
}