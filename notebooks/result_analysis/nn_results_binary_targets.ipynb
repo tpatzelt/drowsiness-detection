{
 "cells": [
  {
   "cell_type": "code",
   "execution_count": 1,
   "outputs": [],
   "source": [
    "from drowsiness_detection import config\n",
    "import dill as pickle\n",
    "config.set_paths(30, 60)\n",
    "import numpy as np\n",
    "import matplotlib.pyplot as plt\n",
    "from typing import Union\n",
    "from drowsiness_detection.data import (load_experiment_objects, load_experiment_config,\n",
    "    load_experiment_search_results, load_experiment_objects_nn, load_preprocessed_train_val_test_splits_nn, session_type_mapping)\n",
    "from csv import DictReader\n",
    "from drowsiness_detection.visualize import plot_search_results\n",
    "import tensorflow as tf\n",
    "plt.rcParams[\"figure.figsize\"] = 14, 7"
   ],
   "metadata": {
    "collapsed": false,
    "pycharm": {
     "name": "#%%\n"
    }
   }
  },
  {
   "cell_type": "code",
   "execution_count": 2,
   "outputs": [],
   "source": [
    "# fixed experiment params\n",
    "# EXPERIMENT_IDS = (31, 32)\n",
    "EXPERIMENT_IDS = (96,)\n"
   ],
   "metadata": {
    "collapsed": false,
    "pycharm": {
     "name": "#%%\n"
    }
   }
  },
  {
   "cell_type": "code",
   "execution_count": 3,
   "outputs": [
    {
     "name": "stdout",
     "output_type": "stream",
     "text": [
      "loading from experiment with id:  93\n"
     ]
    }
   ],
   "source": [
    "exp_config, best_model, search_results, history = load_experiment_objects_nn(experiment_id=93,\n",
    "                                                                             log_dir=\"../../logs_to_keep/\")"
   ],
   "metadata": {
    "collapsed": false,
    "pycharm": {
     "name": "#%%\n"
    }
   }
  },
  {
   "cell_type": "code",
   "execution_count": 4,
   "outputs": [],
   "source": [
    "# plot_search_results(search_results)"
   ],
   "metadata": {
    "collapsed": false,
    "pycharm": {
     "name": "#%%\n"
    }
   }
  },
  {
   "cell_type": "code",
   "execution_count": 6,
   "outputs": [],
   "source": [
    "X_train, X_val, X_test, y_train, y_val, y_test = load_preprocessed_train_val_test_splits_nn(\n",
    "        data_path=config.PATHS.WINDOW_DATA,\n",
    "        exclude_sess_type=session_type_mapping[exp_config[\"exclude_by\"]],\n",
    "        num_targets=exp_config[\"num_targets\"],\n",
    "        seed=exp_config[\"seed\"],\n",
    "        test_size=exp_config[\"test_size\"],\n",
    "feature_col_indices=exp_config[\"feature_col_indices\"])\n",
    "\n",
    "X_train = np.concatenate([X_val, X_train])\n",
    "y_train = np.concatenate([y_val, y_train])"
   ],
   "metadata": {
    "collapsed": false,
    "pycharm": {
     "name": "#%%\n"
    }
   }
  },
  {
   "cell_type": "code",
   "execution_count": 7,
   "outputs": [
    {
     "name": "stdout",
     "output_type": "stream",
     "text": [
      "X_train shape: (25642, 1800, 7), y_train shape: (25642,)\n",
      "X_test shape: (6494, 1800, 7), y_test shape: (6494,)\n",
      "X_val shape: (6819, 1800, 7), y_val shape: (6819,)\n"
     ]
    }
   ],
   "source": [
    "print(f\"X_train shape: {X_train.shape}, y_train shape: {y_train.shape}\")\n",
    "print(f\"X_test shape: {X_test.shape}, y_test shape: {y_test.shape}\")\n",
    "print(f\"X_val shape: {X_val.shape}, y_val shape: {y_val.shape}\")\n"
   ],
   "metadata": {
    "collapsed": false,
    "pycharm": {
     "name": "#%%\n"
    }
   }
  },
  {
   "cell_type": "code",
   "execution_count": 8,
   "outputs": [],
   "source": [
    "# y_pred = best_model.predict(X_test)\n",
    "# np.mean(y_test == (y_pred>.5).astype(float))"
   ],
   "metadata": {
    "collapsed": false,
    "pycharm": {
     "name": "#%%\n"
    }
   }
  },
  {
   "cell_type": "code",
   "execution_count": 15,
   "outputs": [],
   "source": [
    "\n",
    "import pandas as pd\n",
    "df= pd.DataFrame.from_dict(search_results.cv_results_)\n",
    "df = df[[\n",
    "       'param_classifier__dropout_rate', 'param_classifier__kernel_size',\n",
    "       'param_classifier__num_conv_layers', 'param_classifier__num_filters',\n",
    "       'param_classifier__pooling', 'param_classifier__stride',\n",
    "       'mean_test_score',\n",
    "       'rank_test_score','mean_train_score']]"
   ],
   "metadata": {
    "collapsed": false,
    "pycharm": {
     "name": "#%%\n"
    }
   }
  },
  {
   "cell_type": "code",
   "execution_count": 17,
   "outputs": [
    {
     "data": {
      "text/plain": "   param_classifier__dropout_rate param_classifier__kernel_size  \\\n29                       0.033476                             5   \n17                       0.263466                             5   \n6                         0.03727                             5   \n11                       0.337574                             3   \n4                        0.220265                             5   \n26                       0.064443                             3   \n27                       0.156911                             5   \n19                       0.415554                             3   \n14                       0.324743                             3   \n3                        0.406928                             3   \n23                       0.378893                             5   \n20                       0.342361                             5   \n28                       0.464712                             3   \n21                       0.172611                             3   \n13                       0.272487                             3   \n8                        0.228869                             5   \n1                         0.45732                             3   \n2                        0.313696                             3   \n25                       0.331648                             5   \n24                       0.236624                             3   \n22                       0.334318                             3   \n9                        0.284376                             3   \n5                         0.09212                             3   \n16                       0.439907                             3   \n15                       0.448006                             3   \n12                       0.127528                             3   \n7                        0.201644                             5   \n10                       0.443602                             5   \n0                        0.494506                             5   \n18                       0.222275                             5   \n\n   param_classifier__num_conv_layers param_classifier__num_filters  \\\n29                                 4                           101   \n17                                 1                            34   \n6                                  3                            34   \n11                                 1                           120   \n4                                  3                            78   \n26                                 2                           108   \n27                                 2                            99   \n19                                 3                            44   \n14                                 2                            99   \n3                                  2                           126   \n23                                 2                           127   \n20                                 3                            98   \n28                                 3                            45   \n21                                 4                            64   \n13                                 2                            39   \n8                                  4                            59   \n1                                  1                            34   \n2                                  2                           120   \n25                                 1                            58   \n24                                 2                           110   \n22                                 2                            95   \n9                                  4                            67   \n5                                  1                            59   \n16                                 4                           105   \n15                                 1                            71   \n12                                 2                            19   \n7                                  2                           110   \n10                                 4                           126   \n0                                  3                            63   \n18                                 3                            33   \n\n   param_classifier__pooling param_classifier__stride  mean_test_score  \\\n29                   average                        3         0.697610   \n17                   average                        5         0.680305   \n6                        max                        3         0.666813   \n11                   average                        3         0.666227   \n4                        max                        5         0.650975   \n26                       max                        5         0.650242   \n27                   average                        5         0.642616   \n19                       max                        5         0.641003   \n14                   average                        3         0.636164   \n3                    average                        3         0.633231   \n23                   average                        3         0.632791   \n20                   average                        3         0.631324   \n28                   average                        5         0.627511   \n21                   average                        5         0.625458   \n13                   average                        5         0.619006   \n8                    average                        3         0.615633   \n1                        max                        3         0.560493   \n2                    average                        3         0.560493   \n25                       max                        5         0.560493   \n24                       max                        5         0.560493   \n22                       max                        3         0.560493   \n9                        max                        3         0.560493   \n5                        max                        5         0.560493   \n16                       max                        5         0.560493   \n15                       max                        5         0.560493   \n12                       max                        3         0.560493   \n7                        max                        5         0.560493   \n10                       max                        5         0.560493   \n0                        max                        5         0.560493   \n18                       max                        3         0.531016   \n\n    rank_test_score  mean_train_score  \n29                1          0.938320  \n17                2          0.822132  \n6                 3          0.831164  \n11                4          0.797376  \n4                 5          0.735005  \n26                6          0.867556  \n27                7          0.882856  \n19                8          0.669288  \n14                9          0.880890  \n3                10          0.871275  \n23               11          0.846836  \n20               12          0.877756  \n28               13          0.809860  \n21               14          0.856293  \n13               15          0.843277  \n8                16          0.897678  \n1                17          0.624608  \n2                17          0.624608  \n25               17          0.624608  \n24               17          0.624608  \n22               17          0.624608  \n9                17          0.624608  \n5                17          0.624608  \n16               17          0.624608  \n15               17          0.624608  \n12               17          0.624608  \n7                17          0.624608  \n10               17          0.624608  \n0                17          0.624608  \n18               30          0.748234  ",
      "text/html": "<div>\n<style scoped>\n    .dataframe tbody tr th:only-of-type {\n        vertical-align: middle;\n    }\n\n    .dataframe tbody tr th {\n        vertical-align: top;\n    }\n\n    .dataframe thead th {\n        text-align: right;\n    }\n</style>\n<table border=\"1\" class=\"dataframe\">\n  <thead>\n    <tr style=\"text-align: right;\">\n      <th></th>\n      <th>param_classifier__dropout_rate</th>\n      <th>param_classifier__kernel_size</th>\n      <th>param_classifier__num_conv_layers</th>\n      <th>param_classifier__num_filters</th>\n      <th>param_classifier__pooling</th>\n      <th>param_classifier__stride</th>\n      <th>mean_test_score</th>\n      <th>rank_test_score</th>\n      <th>mean_train_score</th>\n    </tr>\n  </thead>\n  <tbody>\n    <tr>\n      <th>29</th>\n      <td>0.033476</td>\n      <td>5</td>\n      <td>4</td>\n      <td>101</td>\n      <td>average</td>\n      <td>3</td>\n      <td>0.697610</td>\n      <td>1</td>\n      <td>0.938320</td>\n    </tr>\n    <tr>\n      <th>17</th>\n      <td>0.263466</td>\n      <td>5</td>\n      <td>1</td>\n      <td>34</td>\n      <td>average</td>\n      <td>5</td>\n      <td>0.680305</td>\n      <td>2</td>\n      <td>0.822132</td>\n    </tr>\n    <tr>\n      <th>6</th>\n      <td>0.03727</td>\n      <td>5</td>\n      <td>3</td>\n      <td>34</td>\n      <td>max</td>\n      <td>3</td>\n      <td>0.666813</td>\n      <td>3</td>\n      <td>0.831164</td>\n    </tr>\n    <tr>\n      <th>11</th>\n      <td>0.337574</td>\n      <td>3</td>\n      <td>1</td>\n      <td>120</td>\n      <td>average</td>\n      <td>3</td>\n      <td>0.666227</td>\n      <td>4</td>\n      <td>0.797376</td>\n    </tr>\n    <tr>\n      <th>4</th>\n      <td>0.220265</td>\n      <td>5</td>\n      <td>3</td>\n      <td>78</td>\n      <td>max</td>\n      <td>5</td>\n      <td>0.650975</td>\n      <td>5</td>\n      <td>0.735005</td>\n    </tr>\n    <tr>\n      <th>26</th>\n      <td>0.064443</td>\n      <td>3</td>\n      <td>2</td>\n      <td>108</td>\n      <td>max</td>\n      <td>5</td>\n      <td>0.650242</td>\n      <td>6</td>\n      <td>0.867556</td>\n    </tr>\n    <tr>\n      <th>27</th>\n      <td>0.156911</td>\n      <td>5</td>\n      <td>2</td>\n      <td>99</td>\n      <td>average</td>\n      <td>5</td>\n      <td>0.642616</td>\n      <td>7</td>\n      <td>0.882856</td>\n    </tr>\n    <tr>\n      <th>19</th>\n      <td>0.415554</td>\n      <td>3</td>\n      <td>3</td>\n      <td>44</td>\n      <td>max</td>\n      <td>5</td>\n      <td>0.641003</td>\n      <td>8</td>\n      <td>0.669288</td>\n    </tr>\n    <tr>\n      <th>14</th>\n      <td>0.324743</td>\n      <td>3</td>\n      <td>2</td>\n      <td>99</td>\n      <td>average</td>\n      <td>3</td>\n      <td>0.636164</td>\n      <td>9</td>\n      <td>0.880890</td>\n    </tr>\n    <tr>\n      <th>3</th>\n      <td>0.406928</td>\n      <td>3</td>\n      <td>2</td>\n      <td>126</td>\n      <td>average</td>\n      <td>3</td>\n      <td>0.633231</td>\n      <td>10</td>\n      <td>0.871275</td>\n    </tr>\n    <tr>\n      <th>23</th>\n      <td>0.378893</td>\n      <td>5</td>\n      <td>2</td>\n      <td>127</td>\n      <td>average</td>\n      <td>3</td>\n      <td>0.632791</td>\n      <td>11</td>\n      <td>0.846836</td>\n    </tr>\n    <tr>\n      <th>20</th>\n      <td>0.342361</td>\n      <td>5</td>\n      <td>3</td>\n      <td>98</td>\n      <td>average</td>\n      <td>3</td>\n      <td>0.631324</td>\n      <td>12</td>\n      <td>0.877756</td>\n    </tr>\n    <tr>\n      <th>28</th>\n      <td>0.464712</td>\n      <td>3</td>\n      <td>3</td>\n      <td>45</td>\n      <td>average</td>\n      <td>5</td>\n      <td>0.627511</td>\n      <td>13</td>\n      <td>0.809860</td>\n    </tr>\n    <tr>\n      <th>21</th>\n      <td>0.172611</td>\n      <td>3</td>\n      <td>4</td>\n      <td>64</td>\n      <td>average</td>\n      <td>5</td>\n      <td>0.625458</td>\n      <td>14</td>\n      <td>0.856293</td>\n    </tr>\n    <tr>\n      <th>13</th>\n      <td>0.272487</td>\n      <td>3</td>\n      <td>2</td>\n      <td>39</td>\n      <td>average</td>\n      <td>5</td>\n      <td>0.619006</td>\n      <td>15</td>\n      <td>0.843277</td>\n    </tr>\n    <tr>\n      <th>8</th>\n      <td>0.228869</td>\n      <td>5</td>\n      <td>4</td>\n      <td>59</td>\n      <td>average</td>\n      <td>3</td>\n      <td>0.615633</td>\n      <td>16</td>\n      <td>0.897678</td>\n    </tr>\n    <tr>\n      <th>1</th>\n      <td>0.45732</td>\n      <td>3</td>\n      <td>1</td>\n      <td>34</td>\n      <td>max</td>\n      <td>3</td>\n      <td>0.560493</td>\n      <td>17</td>\n      <td>0.624608</td>\n    </tr>\n    <tr>\n      <th>2</th>\n      <td>0.313696</td>\n      <td>3</td>\n      <td>2</td>\n      <td>120</td>\n      <td>average</td>\n      <td>3</td>\n      <td>0.560493</td>\n      <td>17</td>\n      <td>0.624608</td>\n    </tr>\n    <tr>\n      <th>25</th>\n      <td>0.331648</td>\n      <td>5</td>\n      <td>1</td>\n      <td>58</td>\n      <td>max</td>\n      <td>5</td>\n      <td>0.560493</td>\n      <td>17</td>\n      <td>0.624608</td>\n    </tr>\n    <tr>\n      <th>24</th>\n      <td>0.236624</td>\n      <td>3</td>\n      <td>2</td>\n      <td>110</td>\n      <td>max</td>\n      <td>5</td>\n      <td>0.560493</td>\n      <td>17</td>\n      <td>0.624608</td>\n    </tr>\n    <tr>\n      <th>22</th>\n      <td>0.334318</td>\n      <td>3</td>\n      <td>2</td>\n      <td>95</td>\n      <td>max</td>\n      <td>3</td>\n      <td>0.560493</td>\n      <td>17</td>\n      <td>0.624608</td>\n    </tr>\n    <tr>\n      <th>9</th>\n      <td>0.284376</td>\n      <td>3</td>\n      <td>4</td>\n      <td>67</td>\n      <td>max</td>\n      <td>3</td>\n      <td>0.560493</td>\n      <td>17</td>\n      <td>0.624608</td>\n    </tr>\n    <tr>\n      <th>5</th>\n      <td>0.09212</td>\n      <td>3</td>\n      <td>1</td>\n      <td>59</td>\n      <td>max</td>\n      <td>5</td>\n      <td>0.560493</td>\n      <td>17</td>\n      <td>0.624608</td>\n    </tr>\n    <tr>\n      <th>16</th>\n      <td>0.439907</td>\n      <td>3</td>\n      <td>4</td>\n      <td>105</td>\n      <td>max</td>\n      <td>5</td>\n      <td>0.560493</td>\n      <td>17</td>\n      <td>0.624608</td>\n    </tr>\n    <tr>\n      <th>15</th>\n      <td>0.448006</td>\n      <td>3</td>\n      <td>1</td>\n      <td>71</td>\n      <td>max</td>\n      <td>5</td>\n      <td>0.560493</td>\n      <td>17</td>\n      <td>0.624608</td>\n    </tr>\n    <tr>\n      <th>12</th>\n      <td>0.127528</td>\n      <td>3</td>\n      <td>2</td>\n      <td>19</td>\n      <td>max</td>\n      <td>3</td>\n      <td>0.560493</td>\n      <td>17</td>\n      <td>0.624608</td>\n    </tr>\n    <tr>\n      <th>7</th>\n      <td>0.201644</td>\n      <td>5</td>\n      <td>2</td>\n      <td>110</td>\n      <td>max</td>\n      <td>5</td>\n      <td>0.560493</td>\n      <td>17</td>\n      <td>0.624608</td>\n    </tr>\n    <tr>\n      <th>10</th>\n      <td>0.443602</td>\n      <td>5</td>\n      <td>4</td>\n      <td>126</td>\n      <td>max</td>\n      <td>5</td>\n      <td>0.560493</td>\n      <td>17</td>\n      <td>0.624608</td>\n    </tr>\n    <tr>\n      <th>0</th>\n      <td>0.494506</td>\n      <td>5</td>\n      <td>3</td>\n      <td>63</td>\n      <td>max</td>\n      <td>5</td>\n      <td>0.560493</td>\n      <td>17</td>\n      <td>0.624608</td>\n    </tr>\n    <tr>\n      <th>18</th>\n      <td>0.222275</td>\n      <td>5</td>\n      <td>3</td>\n      <td>33</td>\n      <td>max</td>\n      <td>3</td>\n      <td>0.531016</td>\n      <td>30</td>\n      <td>0.748234</td>\n    </tr>\n  </tbody>\n</table>\n</div>"
     },
     "execution_count": 17,
     "metadata": {},
     "output_type": "execute_result"
    }
   ],
   "source": [
    "df.sort_values(by=[\"rank_test_score\"])"
   ],
   "metadata": {
    "collapsed": false,
    "pycharm": {
     "name": "#%%\n"
    }
   }
  },
  {
   "cell_type": "code",
   "execution_count": null,
   "outputs": [],
   "source": [],
   "metadata": {
    "collapsed": false,
    "pycharm": {
     "name": "#%%\n"
    }
   }
  },
  {
   "cell_type": "code",
   "execution_count": null,
   "outputs": [],
   "source": [],
   "metadata": {
    "collapsed": false,
    "pycharm": {
     "name": "#%%\n"
    }
   }
  },
  {
   "cell_type": "markdown",
   "source": [
    "## Plot ROC Curve of best model for 10, 20 and 60 seconds data"
   ],
   "metadata": {
    "collapsed": false,
    "pycharm": {
     "name": "#%% md\n"
    }
   }
  },
  {
   "cell_type": "code",
   "execution_count": 8,
   "outputs": [
    {
     "ename": "NameError",
     "evalue": "name 'plot_roc_curve_from_log_dir' is not defined",
     "output_type": "error",
     "traceback": [
      "\u001B[0;31m---------------------------------------------------------------------------\u001B[0m",
      "\u001B[0;31mNameError\u001B[0m                                 Traceback (most recent call last)",
      "\u001B[0;32m<ipython-input-8-d2dd85db4b6d>\u001B[0m in \u001B[0;36m<module>\u001B[0;34m\u001B[0m\n\u001B[1;32m      2\u001B[0m \u001B[0;34m\u001B[0m\u001B[0m\n\u001B[1;32m      3\u001B[0m \u001B[0;32mfor\u001B[0m \u001B[0mexperiment_id\u001B[0m \u001B[0;32min\u001B[0m \u001B[0mEXPERIMENT_IDS\u001B[0m\u001B[0;34m:\u001B[0m\u001B[0;34m\u001B[0m\u001B[0;34m\u001B[0m\u001B[0m\n\u001B[0;32m----> 4\u001B[0;31m     \u001B[0mplot_roc_curve_from_log_dir\u001B[0m\u001B[0;34m(\u001B[0m\u001B[0mexperiment_id\u001B[0m\u001B[0;34m=\u001B[0m\u001B[0mexperiment_id\u001B[0m\u001B[0;34m,\u001B[0m \u001B[0max\u001B[0m\u001B[0;34m=\u001B[0m\u001B[0max\u001B[0m\u001B[0;34m,\u001B[0m \u001B[0mpos_label\u001B[0m\u001B[0;34m=\u001B[0m\u001B[0;36m1\u001B[0m\u001B[0;34m)\u001B[0m\u001B[0;34m\u001B[0m\u001B[0;34m\u001B[0m\u001B[0m\n\u001B[0m",
      "\u001B[0;31mNameError\u001B[0m: name 'plot_roc_curve_from_log_dir' is not defined"
     ]
    },
    {
     "data": {
      "text/plain": "<Figure size 1008x504 with 1 Axes>",
      "image/png": "[encoded data removed]"
     },
     "metadata": {
      "needs_background": "light"
     },
     "output_type": "display_data"
    }
   ],
   "source": [
    "fig, ax = plt.subplots()\n",
    "\n",
    "for experiment_id in EXPERIMENT_IDS:\n",
    "    plot_roc_curve_from_log_dir(experiment_id=experiment_id, ax=ax, pos_label=1)"
   ],
   "metadata": {
    "collapsed": false,
    "pycharm": {
     "name": "#%%\n"
    }
   }
  },
  {
   "cell_type": "markdown",
   "source": [
    "### Plot learning curve of best model for 10, 20 and 60 seconds data\n"
   ],
   "metadata": {
    "collapsed": false,
    "pycharm": {
     "name": "#%% md\n"
    }
   }
  },
  {
   "cell_type": "code",
   "execution_count": null,
   "outputs": [],
   "source": [
    "% load_ext autoreload\n",
    "% autoreload 2"
   ],
   "metadata": {
    "collapsed": false,
    "pycharm": {
     "name": "#%%\n"
    }
   }
  },
  {
   "cell_type": "code",
   "execution_count": null,
   "outputs": [],
   "source": [
    "plt.rcParams[\"figure.figsize\"] = 10, 20\n",
    "\n",
    "n_estimator_options = np.logspace(2, 9, num=10, base=2)\n",
    "_, axes = plt.subplots(len(EXPERIMENT_IDS), 1)\n",
    "for experiment_id, ax in zip(EXPERIMENT_IDS, axes):\n",
    "    plot_learning_curve_from_log_dir(experiment_id=experiment_id,\n",
    "                                     n_estimator_options=n_estimator_options, ax=ax)\n"
   ],
   "metadata": {
    "collapsed": false,
    "pycharm": {
     "name": "#%%\n"
    }
   }
  },
  {
   "cell_type": "markdown",
   "source": [
    "### Plot classification report of best model for 10, 20 and 60 seconds data\n"
   ],
   "metadata": {
    "collapsed": false,
    "pycharm": {
     "name": "#%% md\n"
    }
   }
  },
  {
   "cell_type": "code",
   "execution_count": null,
   "outputs": [],
   "source": [
    "for experiment_id in EXPERIMENT_IDS:\n",
    "    exp_config, best_estimator, _ = load_experiment_objects(experiment_id=experiment_id)\n",
    "\n",
    "    window_size = exp_config[\"window_in_sec\"]\n",
    "    exp_config.set_paths(30, window_size)\n",
    "\n",
    "    # load data\n",
    "    X_train, X_test, y_train, y_test = load_preprocessed_train_test_splits(\n",
    "        data_path=exp_config.PATHS.WINDOW_FEATURES,\n",
    "        exclude_sess_type=session_type_mapping[exp_config[\"exclude_by\"]],\n",
    "        num_targets=exp_config[\"num_targets\"],\n",
    "        seed=exp_config[\"seed\"],\n",
    "        test_size=exp_config[\"test_size\"])\n",
    "\n",
    "    y_hat = best_estimator.predict(X_test)\n",
    "    report = classification_report(y_true=y_test, y_pred=y_hat,\n",
    "                                   target_names=label_names_dict[exp_config[\"num_targets\"]])\n",
    "    print(report)"
   ],
   "metadata": {
    "collapsed": false,
    "pycharm": {
     "name": "#%%\n"
    }
   }
  },
  {
   "cell_type": "code",
   "execution_count": null,
   "metadata": {
    "pycharm": {
     "name": "#%%\n"
    }
   },
   "outputs": [],
   "source": []
  }
 ],
 "metadata": {
  "kernelspec": {
   "display_name": "Python 3",
   "language": "python",
   "name": "python3"
  },
  "language_info": {
   "codemirror_mode": {
    "name": "ipython",
    "version": 3
   },
   "file_extension": ".py",
   "mimetype": "text/x-python",
   "name": "python",
   "nbconvert_exporter": "python",
   "pygments_lexer": "ipython3",
   "version": "3.9.7"
  }
 },
 "nbformat": 4,
 "nbformat_minor": 1
}