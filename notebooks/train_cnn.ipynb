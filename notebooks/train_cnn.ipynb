{
 "cells": [
  {
   "cell_type": "code",
   "execution_count": 3,
   "outputs": [],
   "source": [
    "from drowsiness_detection.data import load_raw_60_sec_data\n",
    "import numpy as np\n",
    "from drowsiness_detection import config\n",
    "from joblib import dump\n",
    "import time\n",
    "from drowsiness_detection.models import build_cnn_model"
   ],
   "metadata": {
    "collapsed": false,
    "pycharm": {
     "name": "#%%\n"
    }
   }
  },
  {
   "cell_type": "code",
   "execution_count": 2,
   "outputs": [],
   "source": [
    "data = load_raw_60_sec_data()\n",
    "\n",
    "data.X_train = np.concatenate([data.X_train, data.X_val])\n",
    "data.y_train = np.concatenate([data.y_train, data.y_val])\n"
   ],
   "metadata": {
    "collapsed": false,
    "pycharm": {
     "name": "#%%\n"
    }
   }
  },
  {
   "cell_type": "code",
   "execution_count": 20,
   "outputs": [
    {
     "name": "stdout",
     "output_type": "stream",
     "text": [
      "Model: \"model_1\"\n",
      "_________________________________________________________________\n",
      " Layer (type)                Output Shape              Param #   \n",
      "=================================================================\n",
      " input_2 (InputLayer)        [(None, 1800, 7)]         0         \n",
      "                                                                 \n",
      " conv1d_2 (Conv1D)           (None, 600, 44)           1584      \n",
      "                                                                 \n",
      " batch_normalization_2 (Batc  (None, 600, 44)          176       \n",
      " hNormalization)                                                 \n",
      "                                                                 \n",
      " re_lu_2 (ReLU)              (None, 600, 44)           0         \n",
      "                                                                 \n",
      " conv1d_3 (Conv1D)           (None, 200, 44)           9724      \n",
      "                                                                 \n",
      " batch_normalization_3 (Batc  (None, 200, 44)          176       \n",
      " hNormalization)                                                 \n",
      "                                                                 \n",
      " re_lu_3 (ReLU)              (None, 200, 44)           0         \n",
      "                                                                 \n",
      " global_max_pooling1d_1 (Glo  (None, 44)               0         \n",
      " balMaxPooling1D)                                                \n",
      "                                                                 \n",
      " dense_2 (Dense)             (None, 32)                1440      \n",
      "                                                                 \n",
      " dropout_1 (Dropout)         (None, 32)                0         \n",
      "                                                                 \n",
      " dense_3 (Dense)             (None, 1)                 33        \n",
      "                                                                 \n",
      "=================================================================\n",
      "Total params: 13,133\n",
      "Trainable params: 12,957\n",
      "Non-trainable params: 176\n",
      "_________________________________________________________________\n",
      "None\n"
     ]
    }
   ],
   "source": [
    "model_name = \"cnn\"\n",
    "\n",
    "best_params = {\n",
    "    \"input_shape\": (20, 1800, 7),\n",
    "    \"dropout_rate\": 0.725,\n",
    "    \"kernel_size\": 5,\n",
    "    \"learning_rate\": 0.009,\n",
    "    \"num_conv_layers\": 2,\n",
    "    \"num_filters\": 44,\n",
    "    \"pooling\": \"max\",\n",
    "    \"stride\": 3\n",
    "  }\n",
    "model = build_cnn_model(**best_params)"
   ],
   "metadata": {
    "collapsed": false,
    "pycharm": {
     "name": "#%%\n"
    }
   }
  },
  {
   "cell_type": "code",
   "execution_count": 18,
   "outputs": [
    {
     "name": "stdout",
     "output_type": "stream",
     "text": [
      "Epoch 1/150\n",
      "1283/1283 [==============================] - 17s 13ms/step - loss: 0.6551 - accuracy: 0.5308 - val_loss: 0.6677 - val_accuracy: 0.5991\n",
      "Epoch 2/150\n",
      "1283/1283 [==============================] - 18s 14ms/step - loss: 0.6518 - accuracy: 0.5222 - val_loss: 0.6929 - val_accuracy: 0.4613\n",
      "Epoch 3/150\n",
      "1283/1283 [==============================] - 17s 13ms/step - loss: 0.6516 - accuracy: 0.5263 - val_loss: 0.6515 - val_accuracy: 0.5991\n",
      "Epoch 4/150\n",
      "1283/1283 [==============================] - 17s 13ms/step - loss: 0.6476 - accuracy: 0.5068 - val_loss: 0.7017 - val_accuracy: 0.5410\n",
      "Epoch 5/150\n",
      "1283/1283 [==============================] - 17s 13ms/step - loss: 0.6431 - accuracy: 0.5222 - val_loss: 0.7098 - val_accuracy: 0.4026\n",
      "Epoch 6/150\n",
      "1283/1283 [==============================] - 17s 13ms/step - loss: 0.6377 - accuracy: 0.5121 - val_loss: 0.6908 - val_accuracy: 0.6063\n",
      "Epoch 7/150\n",
      "1283/1283 [==============================] - 18s 14ms/step - loss: 0.6338 - accuracy: 0.5263 - val_loss: 0.6974 - val_accuracy: 0.4322\n",
      "Epoch 8/150\n",
      "1283/1283 [==============================] - 17s 13ms/step - loss: 0.6262 - accuracy: 0.5399 - val_loss: 1.1272 - val_accuracy: 0.6074\n",
      "Epoch 9/150\n",
      "1283/1283 [==============================] - 17s 13ms/step - loss: 0.6173 - accuracy: 0.5683 - val_loss: 0.7155 - val_accuracy: 0.4009\n",
      "Epoch 10/150\n",
      "1283/1283 [==============================] - 17s 13ms/step - loss: 0.6096 - accuracy: 0.5775 - val_loss: 0.6767 - val_accuracy: 0.5175\n",
      "Epoch 11/150\n",
      "1283/1283 [==============================] - 17s 13ms/step - loss: 0.5954 - accuracy: 0.6086 - val_loss: 0.7042 - val_accuracy: 0.4637\n",
      "Epoch 12/150\n",
      "1283/1283 [==============================] - 17s 13ms/step - loss: 0.5909 - accuracy: 0.6170 - val_loss: 0.7105 - val_accuracy: 0.5971\n",
      "Epoch 13/150\n",
      "1283/1283 [==============================] - 17s 13ms/step - loss: 0.5784 - accuracy: 0.6338 - val_loss: 0.7044 - val_accuracy: 0.5373\n",
      "Epoch 14/150\n",
      "1283/1283 [==============================] - 17s 14ms/step - loss: 0.5750 - accuracy: 0.6276 - val_loss: 0.8004 - val_accuracy: 0.4010\n",
      "Epoch 15/150\n",
      "1283/1283 [==============================] - 17s 13ms/step - loss: 0.5727 - accuracy: 0.6334 - val_loss: 1.8918 - val_accuracy: 0.4009\n",
      "Epoch 16/150\n",
      "1283/1283 [==============================] - 18s 14ms/step - loss: 0.5687 - accuracy: 0.6354 - val_loss: 0.7375 - val_accuracy: 0.4295\n",
      "Epoch 17/150\n",
      "1283/1283 [==============================] - 18s 14ms/step - loss: 0.5621 - accuracy: 0.6380 - val_loss: 0.6960 - val_accuracy: 0.5113\n",
      "Epoch 18/150\n",
      "1283/1283 [==============================] - 18s 14ms/step - loss: 0.5531 - accuracy: 0.6458 - val_loss: 1.2498 - val_accuracy: 0.4009\n",
      "Epoch 19/150\n",
      "1283/1283 [==============================] - 17s 13ms/step - loss: 0.5472 - accuracy: 0.6484 - val_loss: 0.7523 - val_accuracy: 0.5608\n",
      "Epoch 20/150\n",
      "1283/1283 [==============================] - 17s 13ms/step - loss: 0.5478 - accuracy: 0.6460 - val_loss: 0.7360 - val_accuracy: 0.5672\n",
      "Epoch 21/150\n",
      "1283/1283 [==============================] - 17s 13ms/step - loss: 0.5473 - accuracy: 0.6486 - val_loss: 0.8030 - val_accuracy: 0.4602\n",
      "Epoch 22/150\n",
      "1283/1283 [==============================] - 17s 13ms/step - loss: 0.5411 - accuracy: 0.6487 - val_loss: 0.7262 - val_accuracy: 0.5070\n",
      "Epoch 23/150\n",
      "1283/1283 [==============================] - 18s 14ms/step - loss: 0.5420 - accuracy: 0.6491 - val_loss: 1.1570 - val_accuracy: 0.4010\n",
      "Epoch 24/150\n",
      "1283/1283 [==============================] - 17s 13ms/step - loss: 0.5386 - accuracy: 0.6542 - val_loss: 0.7098 - val_accuracy: 0.4922\n",
      "Epoch 25/150\n",
      "1283/1283 [==============================] - 17s 13ms/step - loss: 0.5356 - accuracy: 0.6592 - val_loss: 0.7481 - val_accuracy: 0.4936\n",
      "Epoch 26/150\n",
      "1283/1283 [==============================] - 16s 13ms/step - loss: 0.5294 - accuracy: 0.6645 - val_loss: 1.0526 - val_accuracy: 0.4009\n",
      "Epoch 27/150\n",
      "1283/1283 [==============================] - 17s 13ms/step - loss: 0.5273 - accuracy: 0.6677 - val_loss: 0.7736 - val_accuracy: 0.4335\n",
      "Epoch 28/150\n",
      "1283/1283 [==============================] - 17s 13ms/step - loss: 0.5286 - accuracy: 0.6732 - val_loss: 0.7482 - val_accuracy: 0.6629\n",
      "Epoch 29/150\n",
      "1283/1283 [==============================] - 17s 13ms/step - loss: 0.5300 - accuracy: 0.6639 - val_loss: 0.6862 - val_accuracy: 0.5942\n",
      "Epoch 30/150\n",
      "1283/1283 [==============================] - 17s 14ms/step - loss: 0.5230 - accuracy: 0.6711 - val_loss: 0.7041 - val_accuracy: 0.5283\n",
      "Epoch 31/150\n",
      "1283/1283 [==============================] - 17s 13ms/step - loss: 0.5117 - accuracy: 0.6783 - val_loss: 0.7934 - val_accuracy: 0.5478\n",
      "Epoch 32/150\n",
      "1283/1283 [==============================] - 17s 13ms/step - loss: 0.5165 - accuracy: 0.6757 - val_loss: 0.8299 - val_accuracy: 0.4691\n",
      "Epoch 33/150\n",
      "1283/1283 [==============================] - 17s 13ms/step - loss: 0.5192 - accuracy: 0.6743 - val_loss: 0.7990 - val_accuracy: 0.6119\n",
      "Epoch 34/150\n",
      "1283/1283 [==============================] - 17s 13ms/step - loss: 0.5217 - accuracy: 0.6691 - val_loss: 0.7491 - val_accuracy: 0.5284\n",
      "Epoch 35/150\n",
      "1283/1283 [==============================] - 18s 14ms/step - loss: 0.5118 - accuracy: 0.6785 - val_loss: 0.8192 - val_accuracy: 0.6364\n",
      "Epoch 36/150\n",
      "1283/1283 [==============================] - 16s 12ms/step - loss: 0.5095 - accuracy: 0.6799 - val_loss: 0.7640 - val_accuracy: 0.4814\n",
      "Epoch 37/150\n",
      "1283/1283 [==============================] - 16s 12ms/step - loss: 0.5082 - accuracy: 0.6776 - val_loss: 0.7944 - val_accuracy: 0.4988\n",
      "Epoch 38/150\n",
      "1283/1283 [==============================] - 16s 12ms/step - loss: 0.5074 - accuracy: 0.6847 - val_loss: 0.7597 - val_accuracy: 0.5446\n",
      "Epoch 39/150\n",
      "1283/1283 [==============================] - 16s 13ms/step - loss: 0.5019 - accuracy: 0.6902 - val_loss: 0.7374 - val_accuracy: 0.5249\n",
      "Epoch 40/150\n",
      "1283/1283 [==============================] - 16s 12ms/step - loss: 0.4961 - accuracy: 0.6933 - val_loss: 0.8112 - val_accuracy: 0.5079\n",
      "Epoch 41/150\n",
      "1283/1283 [==============================] - 16s 12ms/step - loss: 0.4950 - accuracy: 0.6923 - val_loss: 0.7543 - val_accuracy: 0.5044\n",
      "Epoch 42/150\n",
      "1283/1283 [==============================] - 16s 13ms/step - loss: 0.4977 - accuracy: 0.6881 - val_loss: 0.9198 - val_accuracy: 0.5894\n",
      "Epoch 43/150\n",
      "1283/1283 [==============================] - 17s 13ms/step - loss: 0.4909 - accuracy: 0.6938 - val_loss: 0.8245 - val_accuracy: 0.5426\n",
      "Epoch 44/150\n",
      "1283/1283 [==============================] - 16s 12ms/step - loss: 0.4899 - accuracy: 0.6899 - val_loss: 0.7585 - val_accuracy: 0.5532\n",
      "Epoch 45/150\n",
      "1283/1283 [==============================] - 16s 13ms/step - loss: 0.4859 - accuracy: 0.6957 - val_loss: 1.1135 - val_accuracy: 0.4043\n",
      "Epoch 46/150\n",
      "1283/1283 [==============================] - 17s 14ms/step - loss: 0.4822 - accuracy: 0.7008 - val_loss: 0.9163 - val_accuracy: 0.5779\n",
      "Epoch 47/150\n",
      "1283/1283 [==============================] - 21s 16ms/step - loss: 0.4808 - accuracy: 0.6988 - val_loss: 1.0512 - val_accuracy: 0.4168\n",
      "Epoch 48/150\n",
      "1283/1283 [==============================] - 16s 12ms/step - loss: 0.4844 - accuracy: 0.6924 - val_loss: 0.9058 - val_accuracy: 0.6063\n",
      "Epoch 49/150\n",
      "1283/1283 [==============================] - 16s 13ms/step - loss: 0.4747 - accuracy: 0.7035 - val_loss: 0.9377 - val_accuracy: 0.4516\n",
      "Epoch 50/150\n",
      "1283/1283 [==============================] - 16s 12ms/step - loss: 0.4756 - accuracy: 0.7023 - val_loss: 1.0844 - val_accuracy: 0.5842\n",
      "Epoch 51/150\n",
      "1283/1283 [==============================] - 17s 14ms/step - loss: 0.4775 - accuracy: 0.7040 - val_loss: 1.3955 - val_accuracy: 0.6513\n",
      "Epoch 52/150\n",
      "1283/1283 [==============================] - 26s 21ms/step - loss: 0.4701 - accuracy: 0.7054 - val_loss: 0.7746 - val_accuracy: 0.5338\n",
      "Epoch 53/150\n",
      "1283/1283 [==============================] - 19s 15ms/step - loss: 0.4706 - accuracy: 0.7037 - val_loss: 0.9109 - val_accuracy: 0.4657\n",
      "Epoch 54/150\n",
      "1283/1283 [==============================] - 20s 16ms/step - loss: 0.4719 - accuracy: 0.6978 - val_loss: 0.8378 - val_accuracy: 0.5869\n",
      "Epoch 55/150\n",
      "1283/1283 [==============================] - 16s 12ms/step - loss: 0.4668 - accuracy: 0.7051 - val_loss: 1.0315 - val_accuracy: 0.5740\n",
      "Epoch 56/150\n",
      "1283/1283 [==============================] - 17s 14ms/step - loss: 0.4654 - accuracy: 0.7060 - val_loss: 0.9985 - val_accuracy: 0.5886\n",
      "Epoch 57/150\n",
      "1283/1283 [==============================] - 17s 13ms/step - loss: 0.4610 - accuracy: 0.7126 - val_loss: 0.9788 - val_accuracy: 0.5892\n",
      "Epoch 58/150\n",
      "1283/1283 [==============================] - 16s 13ms/step - loss: 0.4571 - accuracy: 0.7104 - val_loss: 0.8761 - val_accuracy: 0.5244\n",
      "Epoch 59/150\n",
      "1283/1283 [==============================] - 16s 13ms/step - loss: 0.4560 - accuracy: 0.7126 - val_loss: 1.0208 - val_accuracy: 0.5110\n",
      "Epoch 60/150\n",
      "1283/1283 [==============================] - 18s 14ms/step - loss: 0.4535 - accuracy: 0.7182 - val_loss: 1.0822 - val_accuracy: 0.4793\n",
      "Epoch 61/150\n",
      "1283/1283 [==============================] - 17s 13ms/step - loss: 0.4474 - accuracy: 0.7205 - val_loss: 0.9970 - val_accuracy: 0.5695\n",
      "Epoch 62/150\n",
      "1283/1283 [==============================] - 17s 13ms/step - loss: 0.4480 - accuracy: 0.7156 - val_loss: 0.7835 - val_accuracy: 0.5327\n",
      "Epoch 63/150\n",
      "1283/1283 [==============================] - 16s 12ms/step - loss: 0.4476 - accuracy: 0.7221 - val_loss: 1.0868 - val_accuracy: 0.5996\n",
      "Epoch 64/150\n",
      "1283/1283 [==============================] - 16s 12ms/step - loss: 0.4428 - accuracy: 0.7161 - val_loss: 1.0248 - val_accuracy: 0.5041\n",
      "Epoch 65/150\n",
      "1283/1283 [==============================] - 16s 12ms/step - loss: 0.4391 - accuracy: 0.7205 - val_loss: 1.1741 - val_accuracy: 0.5820\n",
      "Epoch 66/150\n",
      "1283/1283 [==============================] - 16s 12ms/step - loss: 0.4445 - accuracy: 0.7177 - val_loss: 1.0498 - val_accuracy: 0.5999\n",
      "Epoch 67/150\n",
      "1283/1283 [==============================] - 16s 12ms/step - loss: 0.4447 - accuracy: 0.7191 - val_loss: 0.9057 - val_accuracy: 0.5983\n",
      "Epoch 68/150\n",
      "1283/1283 [==============================] - 17s 14ms/step - loss: 0.4380 - accuracy: 0.7273 - val_loss: 0.8556 - val_accuracy: 0.5062\n",
      "Epoch 69/150\n",
      "1283/1283 [==============================] - 17s 14ms/step - loss: 0.4369 - accuracy: 0.7223 - val_loss: 1.0238 - val_accuracy: 0.5435\n",
      "Epoch 70/150\n",
      "1283/1283 [==============================] - 18s 14ms/step - loss: 0.4400 - accuracy: 0.7169 - val_loss: 0.9135 - val_accuracy: 0.5147\n",
      "Epoch 71/150\n",
      "1283/1283 [==============================] - 16s 13ms/step - loss: 0.4358 - accuracy: 0.7239 - val_loss: 1.1975 - val_accuracy: 0.5320\n",
      "Epoch 72/150\n",
      "1283/1283 [==============================] - 21s 17ms/step - loss: 0.4477 - accuracy: 0.7191 - val_loss: 1.2558 - val_accuracy: 0.6208\n",
      "Epoch 73/150\n",
      "1283/1283 [==============================] - 17s 13ms/step - loss: 0.4374 - accuracy: 0.7208 - val_loss: 1.2574 - val_accuracy: 0.6227\n",
      "Epoch 74/150\n",
      "1283/1283 [==============================] - 18s 14ms/step - loss: 0.4242 - accuracy: 0.7289 - val_loss: 0.9828 - val_accuracy: 0.5360\n",
      "Epoch 75/150\n",
      "1283/1283 [==============================] - 16s 13ms/step - loss: 0.4283 - accuracy: 0.7485 - val_loss: 0.9805 - val_accuracy: 0.5227\n",
      "Epoch 76/150\n",
      "1283/1283 [==============================] - 20s 16ms/step - loss: 0.4188 - accuracy: 0.7554 - val_loss: 1.1046 - val_accuracy: 0.5203\n",
      "Epoch 77/150\n",
      "1283/1283 [==============================] - 19s 15ms/step - loss: 0.4234 - accuracy: 0.7535 - val_loss: 1.1521 - val_accuracy: 0.5940\n",
      "Epoch 78/150\n",
      "1283/1283 [==============================] - 20s 15ms/step - loss: 0.4259 - accuracy: 0.7400 - val_loss: 1.1113 - val_accuracy: 0.5566\n",
      "Epoch 79/150\n",
      "1283/1283 [==============================] - 18s 14ms/step - loss: 0.4207 - accuracy: 0.7674 - val_loss: 1.0623 - val_accuracy: 0.5680\n",
      "Epoch 80/150\n",
      "1283/1283 [==============================] - 17s 13ms/step - loss: 0.4198 - accuracy: 0.7693 - val_loss: 1.1953 - val_accuracy: 0.5073\n",
      "Epoch 81/150\n",
      "1283/1283 [==============================] - 17s 13ms/step - loss: 0.4172 - accuracy: 0.7363 - val_loss: 1.0725 - val_accuracy: 0.5039\n",
      "Epoch 82/150\n",
      "1283/1283 [==============================] - 18s 14ms/step - loss: 0.4194 - accuracy: 0.7825 - val_loss: 0.9295 - val_accuracy: 0.6019\n",
      "Epoch 83/150\n",
      "1283/1283 [==============================] - 17s 13ms/step - loss: 0.4176 - accuracy: 0.7684 - val_loss: 0.9370 - val_accuracy: 0.5395\n",
      "Epoch 84/150\n",
      "1283/1283 [==============================] - 17s 13ms/step - loss: 0.4246 - accuracy: 0.7620 - val_loss: 1.1850 - val_accuracy: 0.6033\n",
      "Epoch 85/150\n",
      "1283/1283 [==============================] - 17s 13ms/step - loss: 0.4112 - accuracy: 0.7576 - val_loss: 1.0124 - val_accuracy: 0.5552\n",
      "Epoch 86/150\n",
      "1283/1283 [==============================] - 17s 13ms/step - loss: 0.4147 - accuracy: 0.7725 - val_loss: 1.0122 - val_accuracy: 0.5648\n",
      "Epoch 87/150\n",
      "1283/1283 [==============================] - 17s 13ms/step - loss: 0.4108 - accuracy: 0.7647 - val_loss: 1.2902 - val_accuracy: 0.5769\n",
      "Epoch 88/150\n",
      "1283/1283 [==============================] - 17s 13ms/step - loss: 0.4147 - accuracy: 0.7577 - val_loss: 1.2225 - val_accuracy: 0.5450\n",
      "Epoch 89/150\n",
      "1283/1283 [==============================] - 17s 13ms/step - loss: 0.4120 - accuracy: 0.7664 - val_loss: 1.0371 - val_accuracy: 0.5002\n",
      "Epoch 90/150\n",
      "1283/1283 [==============================] - 17s 13ms/step - loss: 0.4092 - accuracy: 0.7631 - val_loss: 1.1187 - val_accuracy: 0.6164\n",
      "Epoch 91/150\n",
      "1283/1283 [==============================] - 18s 14ms/step - loss: 0.4108 - accuracy: 0.7637 - val_loss: 1.2023 - val_accuracy: 0.5849\n",
      "Epoch 92/150\n",
      "1283/1283 [==============================] - 20s 16ms/step - loss: 0.4066 - accuracy: 0.7733 - val_loss: 1.2015 - val_accuracy: 0.5389\n",
      "Epoch 93/150\n",
      "1283/1283 [==============================] - 19s 15ms/step - loss: 0.4065 - accuracy: 0.7765 - val_loss: 1.2714 - val_accuracy: 0.5484\n",
      "Epoch 94/150\n",
      "1283/1283 [==============================] - 18s 14ms/step - loss: 0.4078 - accuracy: 0.7705 - val_loss: 1.1166 - val_accuracy: 0.5563\n",
      "Epoch 95/150\n",
      "1283/1283 [==============================] - 18s 14ms/step - loss: 0.4081 - accuracy: 0.7586 - val_loss: 1.4452 - val_accuracy: 0.4970\n",
      "Epoch 96/150\n",
      "1283/1283 [==============================] - 18s 14ms/step - loss: 0.4051 - accuracy: 0.7867 - val_loss: 1.5775 - val_accuracy: 0.5142\n",
      "Epoch 97/150\n",
      "1283/1283 [==============================] - 22s 17ms/step - loss: 0.4024 - accuracy: 0.7797 - val_loss: 1.4154 - val_accuracy: 0.5523\n",
      "Epoch 98/150\n",
      "1283/1283 [==============================] - 20s 15ms/step - loss: 0.4020 - accuracy: 0.7737 - val_loss: 1.3403 - val_accuracy: 0.5791\n",
      "Epoch 99/150\n",
      "1283/1283 [==============================] - 17s 13ms/step - loss: 0.4064 - accuracy: 0.7682 - val_loss: 1.2278 - val_accuracy: 0.5360\n",
      "Epoch 100/150\n",
      "1283/1283 [==============================] - 16s 13ms/step - loss: 0.4085 - accuracy: 0.7712 - val_loss: 1.1924 - val_accuracy: 0.5668\n",
      "Epoch 101/150\n",
      "1283/1283 [==============================] - 16s 13ms/step - loss: 0.3995 - accuracy: 0.7656 - val_loss: 1.3395 - val_accuracy: 0.5691\n",
      "Epoch 102/150\n",
      "1283/1283 [==============================] - 16s 13ms/step - loss: 0.4038 - accuracy: 0.7756 - val_loss: 1.4536 - val_accuracy: 0.5025\n",
      "Epoch 103/150\n",
      "1283/1283 [==============================] - 16s 13ms/step - loss: 0.3979 - accuracy: 0.7710 - val_loss: 1.2471 - val_accuracy: 0.5660\n",
      "Epoch 104/150\n",
      "1283/1283 [==============================] - 16s 12ms/step - loss: 0.4022 - accuracy: 0.7792 - val_loss: 1.2272 - val_accuracy: 0.6162\n",
      "Epoch 105/150\n",
      "1283/1283 [==============================] - 17s 13ms/step - loss: 0.3883 - accuracy: 0.7846 - val_loss: 1.3788 - val_accuracy: 0.5966\n",
      "Epoch 106/150\n",
      "1283/1283 [==============================] - 16s 13ms/step - loss: 0.4001 - accuracy: 0.7819 - val_loss: 1.3025 - val_accuracy: 0.5292\n",
      "Epoch 107/150\n",
      "1283/1283 [==============================] - 17s 13ms/step - loss: 0.4001 - accuracy: 0.7462 - val_loss: 1.5997 - val_accuracy: 0.4408\n",
      "Epoch 108/150\n",
      "1283/1283 [==============================] - 17s 13ms/step - loss: 0.3922 - accuracy: 0.7762 - val_loss: 1.3790 - val_accuracy: 0.5637\n",
      "Epoch 109/150\n",
      "1283/1283 [==============================] - 17s 14ms/step - loss: 0.3945 - accuracy: 0.7670 - val_loss: 1.3986 - val_accuracy: 0.5446\n",
      "Epoch 110/150\n",
      "1283/1283 [==============================] - 22s 17ms/step - loss: 0.3936 - accuracy: 0.7847 - val_loss: 1.4117 - val_accuracy: 0.5452\n",
      "Epoch 111/150\n",
      "1283/1283 [==============================] - 16s 13ms/step - loss: 0.3922 - accuracy: 0.7855 - val_loss: 1.3853 - val_accuracy: 0.5551\n",
      "Epoch 112/150\n",
      "1283/1283 [==============================] - 17s 13ms/step - loss: 0.3905 - accuracy: 0.7851 - val_loss: 1.1928 - val_accuracy: 0.5390\n",
      "Epoch 113/150\n",
      "1283/1283 [==============================] - 16s 13ms/step - loss: 0.3954 - accuracy: 0.7982 - val_loss: 1.4459 - val_accuracy: 0.5497\n",
      "Epoch 114/150\n",
      "1283/1283 [==============================] - 16s 13ms/step - loss: 0.3901 - accuracy: 0.7910 - val_loss: 1.4426 - val_accuracy: 0.6094\n",
      "Epoch 115/150\n",
      "1283/1283 [==============================] - 16s 13ms/step - loss: 0.3880 - accuracy: 0.7825 - val_loss: 1.3781 - val_accuracy: 0.6139\n",
      "Epoch 116/150\n",
      "1283/1283 [==============================] - 16s 13ms/step - loss: 0.3871 - accuracy: 0.7656 - val_loss: 1.0222 - val_accuracy: 0.5968\n",
      "Epoch 117/150\n",
      "1283/1283 [==============================] - 16s 13ms/step - loss: 0.3868 - accuracy: 0.7892 - val_loss: 1.3606 - val_accuracy: 0.5731\n",
      "Epoch 118/150\n",
      "1283/1283 [==============================] - 18s 14ms/step - loss: 0.3896 - accuracy: 0.7858 - val_loss: 1.7114 - val_accuracy: 0.4613\n",
      "Epoch 119/150\n",
      "1283/1283 [==============================] - 20s 15ms/step - loss: 0.3866 - accuracy: 0.7767 - val_loss: 1.3141 - val_accuracy: 0.5697\n",
      "Epoch 120/150\n",
      "1283/1283 [==============================] - 16s 13ms/step - loss: 0.3927 - accuracy: 0.7637 - val_loss: 1.2411 - val_accuracy: 0.6264\n",
      "Epoch 121/150\n",
      "1283/1283 [==============================] - 17s 13ms/step - loss: 0.3859 - accuracy: 0.7834 - val_loss: 1.4505 - val_accuracy: 0.5641\n",
      "Epoch 122/150\n",
      "1283/1283 [==============================] - 17s 13ms/step - loss: 0.3906 - accuracy: 0.7904 - val_loss: 1.4853 - val_accuracy: 0.5041\n",
      "Epoch 123/150\n",
      "1283/1283 [==============================] - 23s 18ms/step - loss: 0.3867 - accuracy: 0.7863 - val_loss: 1.1318 - val_accuracy: 0.5426\n",
      "Epoch 124/150\n",
      "1283/1283 [==============================] - 20s 15ms/step - loss: 0.3851 - accuracy: 0.7758 - val_loss: 1.4510 - val_accuracy: 0.6000\n",
      "Epoch 125/150\n",
      "1283/1283 [==============================] - 20s 15ms/step - loss: 0.3850 - accuracy: 0.7686 - val_loss: 1.5033 - val_accuracy: 0.5172\n",
      "Epoch 126/150\n",
      "1283/1283 [==============================] - 18s 14ms/step - loss: 0.3862 - accuracy: 0.7834 - val_loss: 1.2400 - val_accuracy: 0.6010\n",
      "Epoch 127/150\n",
      "1283/1283 [==============================] - 18s 14ms/step - loss: 0.3821 - accuracy: 0.7828 - val_loss: 1.1811 - val_accuracy: 0.5186\n",
      "Epoch 128/150\n",
      "1283/1283 [==============================] - 17s 14ms/step - loss: 0.3873 - accuracy: 0.7811 - val_loss: 1.1185 - val_accuracy: 0.5130\n",
      "Epoch 129/150\n",
      "1283/1283 [==============================] - 17s 13ms/step - loss: 0.3847 - accuracy: 0.7899 - val_loss: 1.2983 - val_accuracy: 0.5708\n",
      "Epoch 130/150\n",
      "1283/1283 [==============================] - 17s 13ms/step - loss: 0.3838 - accuracy: 0.7872 - val_loss: 1.2873 - val_accuracy: 0.5641\n",
      "Epoch 131/150\n",
      "1283/1283 [==============================] - 16s 13ms/step - loss: 0.3823 - accuracy: 0.7936 - val_loss: 1.5388 - val_accuracy: 0.6274\n",
      "Epoch 132/150\n",
      "1283/1283 [==============================] - 16s 13ms/step - loss: 0.3800 - accuracy: 0.7847 - val_loss: 1.5199 - val_accuracy: 0.5732\n",
      "Epoch 133/150\n",
      "1283/1283 [==============================] - 16s 12ms/step - loss: 0.3810 - accuracy: 0.8015 - val_loss: 1.3713 - val_accuracy: 0.4822\n",
      "Epoch 134/150\n",
      "1283/1283 [==============================] - 16s 12ms/step - loss: 0.3765 - accuracy: 0.7789 - val_loss: 1.3838 - val_accuracy: 0.5233\n",
      "Epoch 135/150\n",
      "1283/1283 [==============================] - 16s 12ms/step - loss: 0.3854 - accuracy: 0.7841 - val_loss: 1.3254 - val_accuracy: 0.5395\n",
      "Epoch 136/150\n",
      "1283/1283 [==============================] - 16s 12ms/step - loss: 0.3731 - accuracy: 0.7882 - val_loss: 1.4355 - val_accuracy: 0.5450\n",
      "Epoch 137/150\n",
      "1283/1283 [==============================] - 16s 12ms/step - loss: 0.3740 - accuracy: 0.7778 - val_loss: 1.3142 - val_accuracy: 0.5367\n",
      "Epoch 138/150\n",
      "1283/1283 [==============================] - 16s 12ms/step - loss: 0.3761 - accuracy: 0.7917 - val_loss: 1.2751 - val_accuracy: 0.5929\n",
      "Epoch 139/150\n",
      "1283/1283 [==============================] - 16s 12ms/step - loss: 0.3795 - accuracy: 0.7833 - val_loss: 1.0768 - val_accuracy: 0.5625\n",
      "Epoch 140/150\n",
      "1283/1283 [==============================] - 16s 12ms/step - loss: 0.3780 - accuracy: 0.7909 - val_loss: 1.2779 - val_accuracy: 0.5520\n",
      "Epoch 141/150\n",
      "1283/1283 [==============================] - 17s 14ms/step - loss: 0.3772 - accuracy: 0.7719 - val_loss: 1.2575 - val_accuracy: 0.5386\n",
      "Epoch 142/150\n",
      "1283/1283 [==============================] - 16s 12ms/step - loss: 0.3752 - accuracy: 0.7822 - val_loss: 1.3928 - val_accuracy: 0.5749\n",
      "Epoch 143/150\n",
      "1283/1283 [==============================] - 16s 13ms/step - loss: 0.3744 - accuracy: 0.7887 - val_loss: 1.3220 - val_accuracy: 0.5355\n",
      "Epoch 144/150\n",
      "1283/1283 [==============================] - 17s 13ms/step - loss: 0.3730 - accuracy: 0.7924 - val_loss: 1.3801 - val_accuracy: 0.5668\n",
      "Epoch 145/150\n",
      "1283/1283 [==============================] - 17s 13ms/step - loss: 0.3744 - accuracy: 0.7863 - val_loss: 1.5572 - val_accuracy: 0.5390\n",
      "Epoch 146/150\n",
      "1283/1283 [==============================] - 16s 12ms/step - loss: 0.3732 - accuracy: 0.7932 - val_loss: 1.5181 - val_accuracy: 0.5725\n",
      "Epoch 147/150\n",
      "1283/1283 [==============================] - 17s 13ms/step - loss: 0.3743 - accuracy: 0.8021 - val_loss: 1.3809 - val_accuracy: 0.5876\n",
      "Epoch 148/150\n",
      "1283/1283 [==============================] - 22s 17ms/step - loss: 0.3772 - accuracy: 0.7899 - val_loss: 1.2957 - val_accuracy: 0.5822\n",
      "Epoch 149/150\n",
      "1283/1283 [==============================] - 21s 17ms/step - loss: 0.3724 - accuracy: 0.7911 - val_loss: 1.3621 - val_accuracy: 0.5929\n",
      "Epoch 150/150\n",
      "1283/1283 [==============================] - 19s 14ms/step - loss: 0.3732 - accuracy: 0.7911 - val_loss: 1.6108 - val_accuracy: 0.5517\n"
     ]
    }
   ],
   "source": [
    "history = model.fit(x=data.X_train, y=data.y_train, validation_data=(data.X_test, data.y_test) , verbose=1, class_weight={0: 0.84, 1: 1.14},\n",
    "                    epochs=150, batch_size=20)\n"
   ],
   "metadata": {
    "collapsed": false,
    "pycharm": {
     "name": "#%%\n"
    }
   }
  },
  {
   "cell_type": "code",
   "execution_count": 21,
   "outputs": [],
   "source": [
    "time_string = time.strftime('%Y%m%d-%H%M%S')\n",
    "model.save(str(config.MODEL_DIR_PATH.joinpath(f\"{model_name}_{time_string}.h5\")))\n"
   ],
   "metadata": {
    "collapsed": false,
    "pycharm": {
     "name": "#%%\n"
    }
   }
  },
  {
   "cell_type": "code",
   "execution_count": 17,
   "outputs": [
    {
     "name": "stdout",
     "output_type": "stream",
     "text": [
      "INFO:tensorflow:Assets written to: ram://8c12d3b6-f35a-4fd1-8f21-eb8a5ff2afaa/assets\n"
     ]
    },
    {
     "data": {
      "text/plain": "['/home/tim/IM/data/models/60sec/histories/cnn_20220728-151804.joblib']"
     },
     "execution_count": 17,
     "metadata": {},
     "output_type": "execute_result"
    }
   ],
   "source": [
    "dump(history, str(config.MODEL_DIR_PATH.joinpath(f\"histories/{model_name}_{time_string}.joblib\")))"
   ],
   "metadata": {
    "collapsed": false,
    "pycharm": {
     "name": "#%%\n"
    }
   }
  },
  {
   "cell_type": "code",
   "execution_count": 10,
   "outputs": [],
   "source": [
    "y_pred_test = model.predict(data.X_test)\n",
    "y_pred_train = model.predict(data.X_train)"
   ],
   "metadata": {
    "collapsed": false,
    "pycharm": {
     "name": "#%%\n"
    }
   }
  },
  {
   "cell_type": "code",
   "execution_count": 11,
   "outputs": [
    {
     "name": "stdout",
     "output_type": "stream",
     "text": [
      "0.44231875344246974\n"
     ]
    }
   ],
   "source": [
    "print(np.mean((y_pred_test > .5) == data.y_test))\n"
   ],
   "metadata": {
    "collapsed": false,
    "pycharm": {
     "name": "#%%\n"
    }
   }
  },
  {
   "cell_type": "code",
   "execution_count": 12,
   "outputs": [],
   "source": [
    "np.save(str(config.PREDICTION_DIR_PATH.joinpath(f\"{model_name}_y_pred_test_{time.strftime('%Y%m%d-%H%M%S')}.npy\")), y_pred_test)\n",
    "np.save(str(config.PREDICTION_DIR_PATH.joinpath(f\"{model_name}_y_pred_train_{time.strftime('%Y%m%d-%H%M%S')}.npy\")), y_pred_train)\n"
   ],
   "metadata": {
    "collapsed": false,
    "pycharm": {
     "name": "#%%\n"
    }
   }
  },
  {
   "cell_type": "code",
   "execution_count": null,
   "outputs": [],
   "source": [],
   "metadata": {
    "collapsed": false,
    "pycharm": {
     "name": "#%%\n"
    }
   }
  }
 ],
 "metadata": {
  "kernelspec": {
   "display_name": "Python 3",
   "language": "python",
   "name": "python3"
  },
  "language_info": {
   "codemirror_mode": {
    "name": "ipython",
    "version": 2
   },
   "file_extension": ".py",
   "mimetype": "text/x-python",
   "name": "python",
   "nbconvert_exporter": "python",
   "pygments_lexer": "ipython2",
   "version": "2.7.6"
  }
 },
 "nbformat": 4,
 "nbformat_minor": 0
}