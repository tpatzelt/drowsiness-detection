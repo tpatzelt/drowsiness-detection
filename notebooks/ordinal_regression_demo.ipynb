{
 "cells": [
  {
   "cell_type": "code",
   "execution_count": null,
   "metadata": {
    "collapsed": true
   },
   "outputs": [],
   "source": []
  },
  {
   "cell_type": "code",
   "execution_count": 1,
   "outputs": [],
   "source": [
    "import numpy as np\n",
    "import pandas as pd\n",
    "import scipy.stats as stats\n",
    "\n",
    "from statsmodels.miscmodels.ordinal_model import OrderedModel"
   ],
   "metadata": {
    "collapsed": false,
    "pycharm": {
     "name": "#%%\n"
    }
   }
  },
  {
   "cell_type": "code",
   "execution_count": 2,
   "outputs": [],
   "source": [
    "url = \"https://stats.idre.ucla.edu/stat/data/ologit.dta\"\n",
    "data_student = pd.read_stata(url)"
   ],
   "metadata": {
    "collapsed": false,
    "pycharm": {
     "name": "#%%\n"
    }
   }
  },
  {
   "cell_type": "code",
   "execution_count": 3,
   "outputs": [
    {
     "data": {
      "text/plain": "             apply  pared  public   gpa\n0      very likely      0       0  3.26\n1  somewhat likely      1       0  3.21\n2         unlikely      1       1  3.94\n3  somewhat likely      0       0  2.81\n4  somewhat likely      0       0  2.53",
      "text/html": "<div>\n<style scoped>\n    .dataframe tbody tr th:only-of-type {\n        vertical-align: middle;\n    }\n\n    .dataframe tbody tr th {\n        vertical-align: top;\n    }\n\n    .dataframe thead th {\n        text-align: right;\n    }\n</style>\n<table border=\"1\" class=\"dataframe\">\n  <thead>\n    <tr style=\"text-align: right;\">\n      <th></th>\n      <th>apply</th>\n      <th>pared</th>\n      <th>public</th>\n      <th>gpa</th>\n    </tr>\n  </thead>\n  <tbody>\n    <tr>\n      <th>0</th>\n      <td>very likely</td>\n      <td>0</td>\n      <td>0</td>\n      <td>3.26</td>\n    </tr>\n    <tr>\n      <th>1</th>\n      <td>somewhat likely</td>\n      <td>1</td>\n      <td>0</td>\n      <td>3.21</td>\n    </tr>\n    <tr>\n      <th>2</th>\n      <td>unlikely</td>\n      <td>1</td>\n      <td>1</td>\n      <td>3.94</td>\n    </tr>\n    <tr>\n      <th>3</th>\n      <td>somewhat likely</td>\n      <td>0</td>\n      <td>0</td>\n      <td>2.81</td>\n    </tr>\n    <tr>\n      <th>4</th>\n      <td>somewhat likely</td>\n      <td>0</td>\n      <td>0</td>\n      <td>2.53</td>\n    </tr>\n  </tbody>\n</table>\n</div>"
     },
     "execution_count": 3,
     "metadata": {},
     "output_type": "execute_result"
    }
   ],
   "source": [
    "data_student.head(5)"
   ],
   "metadata": {
    "collapsed": false,
    "pycharm": {
     "name": "#%%\n"
    }
   }
  },
  {
   "cell_type": "code",
   "execution_count": 4,
   "outputs": [
    {
     "data": {
      "text/plain": "apply     category\npared         int8\npublic        int8\ngpa        float32\ndtype: object"
     },
     "execution_count": 4,
     "metadata": {},
     "output_type": "execute_result"
    }
   ],
   "source": [
    "data_student.dtypes"
   ],
   "metadata": {
    "collapsed": false,
    "pycharm": {
     "name": "#%%\n"
    }
   }
  },
  {
   "cell_type": "code",
   "execution_count": 5,
   "outputs": [
    {
     "data": {
      "text/plain": "CategoricalDtype(categories=['unlikely', 'somewhat likely', 'very likely'], ordered=True)"
     },
     "execution_count": 5,
     "metadata": {},
     "output_type": "execute_result"
    }
   ],
   "source": [
    "data_student['apply'].dtype"
   ],
   "metadata": {
    "collapsed": false,
    "pycharm": {
     "name": "#%%\n"
    }
   }
  },
  {
   "cell_type": "code",
   "execution_count": null,
   "outputs": [],
   "source": [],
   "metadata": {
    "collapsed": false,
    "pycharm": {
     "name": "#%%\n"
    }
   }
  },
  {
   "cell_type": "code",
   "execution_count": 6,
   "outputs": [
    {
     "name": "stdout",
     "output_type": "stream",
     "text": [
      "Optimization terminated successfully.\n",
      "         Current function value: 0.896869\n",
      "         Iterations: 17\n",
      "         Function evaluations: 21\n",
      "         Gradient evaluations: 21\n"
     ]
    },
    {
     "data": {
      "text/plain": "<class 'statsmodels.iolib.summary.Summary'>\n\"\"\"\n                             OrderedModel Results                             \n==============================================================================\nDep. Variable:                  apply   Log-Likelihood:                -358.75\nModel:                   OrderedModel   AIC:                             727.5\nMethod:            Maximum Likelihood   BIC:                             747.5\nDate:                Sat, 08 Jan 2022                                         \nTime:                        17:11:07                                         \nNo. Observations:                 400                                         \nDf Residuals:                     395                                         \nDf Model:                           5                                         \n===============================================================================================\n                                  coef    std err          z      P>|z|      [0.025      0.975]\n-----------------------------------------------------------------------------------------------\npared                           0.5981      0.158      3.789      0.000       0.289       0.908\npublic                          0.0102      0.173      0.059      0.953      -0.329       0.349\ngpa                             0.3582      0.157      2.285      0.022       0.051       0.665\nunlikely/somewhat likely        1.2968      0.468      2.774      0.006       0.381       2.213\nsomewhat likely/very likely     0.1873      0.074      2.530      0.011       0.042       0.332\n===============================================================================================\n\"\"\"",
      "text/html": "<table class=\"simpletable\">\n<caption>OrderedModel Results</caption>\n<tr>\n  <th>Dep. Variable:</th>           <td>apply</td>       <th>  Log-Likelihood:    </th> <td> -358.75</td>\n</tr>\n<tr>\n  <th>Model:</th>               <td>OrderedModel</td>    <th>  AIC:               </th> <td>   727.5</td>\n</tr>\n<tr>\n  <th>Method:</th>           <td>Maximum Likelihood</td> <th>  BIC:               </th> <td>   747.5</td>\n</tr>\n<tr>\n  <th>Date:</th>              <td>Sat, 08 Jan 2022</td>  <th>                     </th>     <td> </td>   \n</tr>\n<tr>\n  <th>Time:</th>                  <td>17:11:07</td>      <th>                     </th>     <td> </td>   \n</tr>\n<tr>\n  <th>No. Observations:</th>       <td>   400</td>       <th>                     </th>     <td> </td>   \n</tr>\n<tr>\n  <th>Df Residuals:</th>           <td>   395</td>       <th>                     </th>     <td> </td>   \n</tr>\n<tr>\n  <th>Df Model:</th>               <td>     5</td>       <th>                     </th>     <td> </td>   \n</tr>\n</table>\n<table class=\"simpletable\">\n<tr>\n               <td></td>                  <th>coef</th>     <th>std err</th>      <th>z</th>      <th>P>|z|</th>  <th>[0.025</th>    <th>0.975]</th>  \n</tr>\n<tr>\n  <th>pared</th>                       <td>    0.5981</td> <td>    0.158</td> <td>    3.789</td> <td> 0.000</td> <td>    0.289</td> <td>    0.908</td>\n</tr>\n<tr>\n  <th>public</th>                      <td>    0.0102</td> <td>    0.173</td> <td>    0.059</td> <td> 0.953</td> <td>   -0.329</td> <td>    0.349</td>\n</tr>\n<tr>\n  <th>gpa</th>                         <td>    0.3582</td> <td>    0.157</td> <td>    2.285</td> <td> 0.022</td> <td>    0.051</td> <td>    0.665</td>\n</tr>\n<tr>\n  <th>unlikely/somewhat likely</th>    <td>    1.2968</td> <td>    0.468</td> <td>    2.774</td> <td> 0.006</td> <td>    0.381</td> <td>    2.213</td>\n</tr>\n<tr>\n  <th>somewhat likely/very likely</th> <td>    0.1873</td> <td>    0.074</td> <td>    2.530</td> <td> 0.011</td> <td>    0.042</td> <td>    0.332</td>\n</tr>\n</table>"
     },
     "execution_count": 6,
     "metadata": {},
     "output_type": "execute_result"
    }
   ],
   "source": [
    "mod_prob = OrderedModel(data_student['apply'],\n",
    "                        data_student[['pared', 'public', 'gpa']],\n",
    "                        distr='probit')\n",
    "\n",
    "res_prob = mod_prob.fit(method='bfgs')\n",
    "res_prob.summary()"
   ],
   "metadata": {
    "collapsed": false,
    "pycharm": {
     "name": "#%%\n"
    }
   }
  },
  {
   "cell_type": "code",
   "execution_count": null,
   "outputs": [],
   "source": [],
   "metadata": {
    "collapsed": false,
    "pycharm": {
     "name": "#%%\n"
    }
   }
  }
 ],
 "metadata": {
  "kernelspec": {
   "display_name": "Python 3",
   "language": "python",
   "name": "python3"
  },
  "language_info": {
   "codemirror_mode": {
    "name": "ipython",
    "version": 2
   },
   "file_extension": ".py",
   "mimetype": "text/x-python",
   "name": "python",
   "nbconvert_exporter": "python",
   "pygments_lexer": "ipython2",
   "version": "2.7.6"
  }
 },
 "nbformat": 4,
 "nbformat_minor": 0
}