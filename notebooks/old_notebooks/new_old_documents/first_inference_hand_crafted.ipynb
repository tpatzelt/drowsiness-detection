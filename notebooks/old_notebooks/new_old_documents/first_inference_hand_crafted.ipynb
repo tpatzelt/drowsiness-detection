{
 "cells": [
  {
   "cell_type": "code",
   "execution_count": 1,
   "metadata": {
    "ExecuteTime": {
     "end_time": "2021-04-23T13:49:20.517010Z",
     "start_time": "2021-04-23T13:49:18.392796Z"
    }
   },
   "outputs": [],
   "source": [
    "from tensorflow.keras import backend as K\n",
    "import pandas as pd\n",
    "import numpy as np\n",
    "import matplotlib.pyplot as plt\n",
    "\n",
    "pd.set_option(\"display.precision\", 2)\n",
    "from pathlib import Path\n",
    "from tqdm import tqdm\n",
    "import tensorflow as tf\n",
    "import tensorflow.keras as keras\n",
    "from sklearn.model_selection import train_test_split\n",
    "from tensorflow.keras.layers import Dense, Input\n",
    "from tensorflow.keras.models import Sequential\n",
    "from tensorflow.keras.utils import to_categorical\n",
    "import random\n",
    "import math\n",
    "\n",
    "from helpers import ordinal_to_label, digitize, plot_confusion_matrix, plot_model_history, label_to_one_hot_like, one_hot_like_to_label, plot_cm_matrix\n"
   ]
  },
  {
   "cell_type": "code",
   "execution_count": 2,
   "metadata": {
    "ExecuteTime": {
     "end_time": "2021-04-23T13:49:20.522305Z",
     "start_time": "2021-04-23T13:49:20.518340Z"
    }
   },
   "outputs": [
    {
     "name": "stdout",
     "output_type": "stream",
     "text": [
      "Num GPUs Available:  0\n"
     ]
    }
   ],
   "source": [
    "print(\"Num GPUs Available: \", len(tf.config.list_physical_devices('GPU')))"
   ]
  },
  {
   "cell_type": "code",
   "execution_count": 3,
   "metadata": {
    "ExecuteTime": {
     "end_time": "2021-04-23T13:49:20.545951Z",
     "start_time": "2021-04-23T13:49:20.524106Z"
    }
   },
   "outputs": [],
   "source": [
    "np.set_printoptions(precision=2)\n",
    "plt.rcParams[\"figure.figsize\"] = (10, 10)"
   ]
  },
  {
   "cell_type": "markdown",
   "metadata": {},
   "source": [
    "### load data"
   ]
  },
  {
   "cell_type": "code",
   "execution_count": 4,
   "metadata": {
    "ExecuteTime": {
     "end_time": "2021-04-23T13:49:20.825812Z",
     "start_time": "2021-04-23T13:49:20.548366Z"
    }
   },
   "outputs": [
    {
     "data": {
      "text/html": [
       "<div>\n",
       "<style scoped>\n",
       "    .dataframe tbody tr th:only-of-type {\n",
       "        vertical-align: middle;\n",
       "    }\n",
       "\n",
       "    .dataframe tbody tr th {\n",
       "        vertical-align: top;\n",
       "    }\n",
       "\n",
       "    .dataframe thead th {\n",
       "        text-align: right;\n",
       "    }\n",
       "</style>\n",
       "<table border=\"1\" class=\"dataframe\">\n",
       "  <thead>\n",
       "    <tr style=\"text-align: right;\">\n",
       "      <th></th>\n",
       "      <th></th>\n",
       "      <th>combined_eye_closure</th>\n",
       "      <th>left_image_eye_closure</th>\n",
       "      <th>right_image_eye_closure</th>\n",
       "      <th>combined_eye_state</th>\n",
       "      <th>left_image_eye_state</th>\n",
       "      <th>right_image_eye_state</th>\n",
       "      <th>subject_id</th>\n",
       "      <th>session_id</th>\n",
       "      <th>session_type</th>\n",
       "      <th>num_blinks</th>\n",
       "      <th>mean_blink_length</th>\n",
       "      <th>mean_opening_velocity</th>\n",
       "      <th>mean_closing_velocity</th>\n",
       "      <th>karolinska_response_nearest_interpolation</th>\n",
       "      <th>karolinska_response_linear_interpolation</th>\n",
       "    </tr>\n",
       "    <tr>\n",
       "      <th>filename</th>\n",
       "      <th>frame</th>\n",
       "      <th></th>\n",
       "      <th></th>\n",
       "      <th></th>\n",
       "      <th></th>\n",
       "      <th></th>\n",
       "      <th></th>\n",
       "      <th></th>\n",
       "      <th></th>\n",
       "      <th></th>\n",
       "      <th></th>\n",
       "      <th></th>\n",
       "      <th></th>\n",
       "      <th></th>\n",
       "      <th></th>\n",
       "      <th></th>\n",
       "    </tr>\n",
       "  </thead>\n",
       "  <tbody>\n",
       "    <tr>\n",
       "      <th rowspan=\"5\" valign=\"top\">001_1_a</th>\n",
       "      <th>0</th>\n",
       "      <td>0.26</td>\n",
       "      <td>0.25</td>\n",
       "      <td>0.28</td>\n",
       "      <td>0</td>\n",
       "      <td>0</td>\n",
       "      <td>0</td>\n",
       "      <td>1</td>\n",
       "      <td>1</td>\n",
       "      <td>0</td>\n",
       "      <td>0</td>\n",
       "      <td>0.0</td>\n",
       "      <td>0.0</td>\n",
       "      <td>0.0</td>\n",
       "      <td>6</td>\n",
       "      <td>6</td>\n",
       "    </tr>\n",
       "    <tr>\n",
       "      <th>1</th>\n",
       "      <td>0.27</td>\n",
       "      <td>0.22</td>\n",
       "      <td>0.31</td>\n",
       "      <td>0</td>\n",
       "      <td>0</td>\n",
       "      <td>0</td>\n",
       "      <td>1</td>\n",
       "      <td>1</td>\n",
       "      <td>0</td>\n",
       "      <td>0</td>\n",
       "      <td>0.0</td>\n",
       "      <td>0.0</td>\n",
       "      <td>0.0</td>\n",
       "      <td>6</td>\n",
       "      <td>6</td>\n",
       "    </tr>\n",
       "    <tr>\n",
       "      <th>2</th>\n",
       "      <td>0.27</td>\n",
       "      <td>0.23</td>\n",
       "      <td>0.32</td>\n",
       "      <td>0</td>\n",
       "      <td>0</td>\n",
       "      <td>0</td>\n",
       "      <td>1</td>\n",
       "      <td>1</td>\n",
       "      <td>0</td>\n",
       "      <td>0</td>\n",
       "      <td>0.0</td>\n",
       "      <td>0.0</td>\n",
       "      <td>0.0</td>\n",
       "      <td>6</td>\n",
       "      <td>6</td>\n",
       "    </tr>\n",
       "    <tr>\n",
       "      <th>3</th>\n",
       "      <td>0.27</td>\n",
       "      <td>0.22</td>\n",
       "      <td>0.32</td>\n",
       "      <td>0</td>\n",
       "      <td>0</td>\n",
       "      <td>0</td>\n",
       "      <td>1</td>\n",
       "      <td>1</td>\n",
       "      <td>0</td>\n",
       "      <td>0</td>\n",
       "      <td>0.0</td>\n",
       "      <td>0.0</td>\n",
       "      <td>0.0</td>\n",
       "      <td>6</td>\n",
       "      <td>6</td>\n",
       "    </tr>\n",
       "    <tr>\n",
       "      <th>4</th>\n",
       "      <td>0.26</td>\n",
       "      <td>0.22</td>\n",
       "      <td>0.31</td>\n",
       "      <td>0</td>\n",
       "      <td>0</td>\n",
       "      <td>0</td>\n",
       "      <td>1</td>\n",
       "      <td>1</td>\n",
       "      <td>0</td>\n",
       "      <td>0</td>\n",
       "      <td>0.0</td>\n",
       "      <td>0.0</td>\n",
       "      <td>0.0</td>\n",
       "      <td>6</td>\n",
       "      <td>6</td>\n",
       "    </tr>\n",
       "  </tbody>\n",
       "</table>\n",
       "</div>"
      ],
      "text/plain": [
       "                combined_eye_closure  left_image_eye_closure  \\\n",
       "filename frame                                                 \n",
       "001_1_a  0                      0.26                    0.25   \n",
       "         1                      0.27                    0.22   \n",
       "         2                      0.27                    0.23   \n",
       "         3                      0.27                    0.22   \n",
       "         4                      0.26                    0.22   \n",
       "\n",
       "                right_image_eye_closure  combined_eye_state  \\\n",
       "filename frame                                                \n",
       "001_1_a  0                         0.28                   0   \n",
       "         1                         0.31                   0   \n",
       "         2                         0.32                   0   \n",
       "         3                         0.32                   0   \n",
       "         4                         0.31                   0   \n",
       "\n",
       "                left_image_eye_state  right_image_eye_state  subject_id  \\\n",
       "filename frame                                                            \n",
       "001_1_a  0                         0                      0           1   \n",
       "         1                         0                      0           1   \n",
       "         2                         0                      0           1   \n",
       "         3                         0                      0           1   \n",
       "         4                         0                      0           1   \n",
       "\n",
       "                session_id  session_type  num_blinks  mean_blink_length  \\\n",
       "filename frame                                                            \n",
       "001_1_a  0               1             0           0                0.0   \n",
       "         1               1             0           0                0.0   \n",
       "         2               1             0           0                0.0   \n",
       "         3               1             0           0                0.0   \n",
       "         4               1             0           0                0.0   \n",
       "\n",
       "                mean_opening_velocity  mean_closing_velocity  \\\n",
       "filename frame                                                 \n",
       "001_1_a  0                        0.0                    0.0   \n",
       "         1                        0.0                    0.0   \n",
       "         2                        0.0                    0.0   \n",
       "         3                        0.0                    0.0   \n",
       "         4                        0.0                    0.0   \n",
       "\n",
       "                karolinska_response_nearest_interpolation  \\\n",
       "filename frame                                              \n",
       "001_1_a  0                                              6   \n",
       "         1                                              6   \n",
       "         2                                              6   \n",
       "         3                                              6   \n",
       "         4                                              6   \n",
       "\n",
       "                karolinska_response_linear_interpolation  \n",
       "filename frame                                            \n",
       "001_1_a  0                                             6  \n",
       "         1                                             6  \n",
       "         2                                             6  \n",
       "         3                                             6  \n",
       "         4                                             6  "
      ]
     },
     "execution_count": 4,
     "metadata": {},
     "output_type": "execute_result"
    }
   ],
   "source": [
    "df = pd.read_pickle(\"./all_session.pkl\")\n",
    "df.head()"
   ]
  },
  {
   "cell_type": "code",
   "execution_count": 5,
   "metadata": {
    "ExecuteTime": {
     "end_time": "2021-04-23T13:49:20.829972Z",
     "start_time": "2021-04-23T13:49:20.827185Z"
    }
   },
   "outputs": [
    {
     "name": "stdout",
     "output_type": "stream",
     "text": [
      "Index(['combined_eye_closure', 'left_image_eye_closure',\n",
      "       'right_image_eye_closure', 'combined_eye_state', 'left_image_eye_state',\n",
      "       'right_image_eye_state', 'subject_id', 'session_id', 'session_type',\n",
      "       'num_blinks', 'mean_blink_length', 'mean_opening_velocity',\n",
      "       'mean_closing_velocity', 'karolinska_response_nearest_interpolation',\n",
      "       'karolinska_response_linear_interpolation'],\n",
      "      dtype='object')\n"
     ]
    }
   ],
   "source": [
    "# columns\n",
    "print(df.columns)"
   ]
  },
  {
   "cell_type": "markdown",
   "metadata": {},
   "source": [
    "### train and test split"
   ]
  },
  {
   "cell_type": "code",
   "execution_count": 6,
   "metadata": {
    "ExecuteTime": {
     "end_time": "2021-04-23T13:49:21.009446Z",
     "start_time": "2021-04-23T13:49:20.831230Z"
    }
   },
   "outputs": [
    {
     "name": "stdout",
     "output_type": "stream",
     "text": [
      "['011', '001'] ['008', '004', '009', '005', '014', '002', '003']\n"
     ]
    }
   ],
   "source": [
    "# filter out alcohol sessions\n",
    "unique_indices = list(\n",
    "    filter(lambda x: not \"a\" in x,\n",
    "           df.index.get_level_values('filename').unique()))\n",
    "subjects = list(set([filename.split(\"_\")[0] for filename in unique_indices]))\n",
    "random.shuffle(subjects)\n",
    "\n",
    "test_size = .2\n",
    "split_index = math.ceil(test_size * len(subjects))\n",
    "test_subjects = subjects[:split_index]\n",
    "train_subjects = subjects[split_index:]\n",
    "print(test_subjects, train_subjects)\n",
    "val_subjects = train_subjects[:2]\n",
    "train_subjects = train_subjects[2:]"
   ]
  },
  {
   "cell_type": "code",
   "execution_count": 7,
   "metadata": {
    "ExecuteTime": {
     "end_time": "2021-04-23T13:49:21.014043Z",
     "start_time": "2021-04-23T13:49:21.011077Z"
    }
   },
   "outputs": [],
   "source": [
    "train_subjects = [\"001\", \"002\", \"003\", \"004\", \"009\"]\n",
    "val_subjects = [\"005\", \"008\"]\n",
    "test_subjecst = [\"011\", \"014\"]"
   ]
  },
  {
   "cell_type": "code",
   "execution_count": 8,
   "metadata": {
    "ExecuteTime": {
     "end_time": "2021-04-23T13:49:25.834851Z",
     "start_time": "2021-04-23T13:49:21.017076Z"
    }
   },
   "outputs": [],
   "source": [
    "# create boolean index mask\n",
    "test_subject_mask = df.index.to_frame().filename.str.contains(\n",
    "    \"|\".join(test_subjects))\n",
    "train_subject_mask = df.index.to_frame().filename.str.contains(\n",
    "    \"|\".join(train_subjects))\n",
    "val_subject_mask = df.index.to_frame().filename.str.contains(\n",
    "    \"|\".join(val_subjects))"
   ]
  },
  {
   "cell_type": "code",
   "execution_count": 9,
   "metadata": {
    "ExecuteTime": {
     "end_time": "2021-04-23T13:49:26.923842Z",
     "start_time": "2021-04-23T13:49:25.836315Z"
    }
   },
   "outputs": [
    {
     "name": "stdout",
     "output_type": "stream",
     "text": [
      "X_train.shape = (1336295, 4)\n",
      "X_test.shape = (544460, 4)\n",
      "y_train.shape = (1336295, 1)\n",
      "y_test.shape = (544460, 1)\n"
     ]
    }
   ],
   "source": [
    "test_df = df[test_subject_mask]\n",
    "test_df = test_df.copy()\n",
    "test_df = test_df[test_df[\"session_type\"] != 0]\n",
    "test_df = test_df.dropna()\n",
    "#test_df = test_df.sample(frac=1)\n",
    "# print(len(test_df))\n",
    "\n",
    "train_df = df[train_subject_mask]\n",
    "train_df = train_df.copy()\n",
    "train_df = train_df[train_df[\"session_type\"] != 0]\n",
    "train_df = train_df.dropna()\n",
    "#treain_df = train_df.sample(frac=1)\n",
    "#print(len(train_df))\n",
    "\n",
    "val_df = df[val_subject_mask]\n",
    "val_df = val_df.copy()\n",
    "val_df = val_df[val_df[\"session_type\"] != 0]\n",
    "val_df = val_df.dropna()\n",
    "#treain_df = train_df.sample(frac=1)\n",
    "#print(len(train_df))\n",
    "\n",
    "feature_columns = [\n",
    "       'num_blinks', 'mean_blink_length', 'mean_opening_velocity',\n",
    "       'mean_closing_velocity']\n",
    "target_columns = [\"karolinska_response_linear_interpolation\"]\n",
    "\n",
    "X_train = train_df[feature_columns].astype(float).to_numpy()\n",
    "X_test = test_df[feature_columns].astype(float).to_numpy()\n",
    "X_val = val_df[feature_columns].astype(float).to_numpy()\n",
    "\n",
    "y_train = train_df[target_columns].astype(float).to_numpy()\n",
    "y_test = test_df[target_columns].astype(float).to_numpy()\n",
    "y_val = val_df[target_columns].astype(float).to_numpy()\n",
    "\n",
    "print(f\"X_train.shape = {X_train.shape}\")\n",
    "print(f\"X_test.shape = {X_test.shape}\")\n",
    "print(f\"y_train.shape = {y_train.shape}\")\n",
    "print(f\"y_test.shape = {y_test.shape}\")"
   ]
  },
  {
   "cell_type": "code",
   "execution_count": 10,
   "metadata": {
    "ExecuteTime": {
     "end_time": "2021-04-23T13:49:26.930644Z",
     "start_time": "2021-04-23T13:49:26.925256Z"
    }
   },
   "outputs": [],
   "source": [
    "# set labels to [0, 8]\n",
    "y_train = y_train - 1\n",
    "y_test = y_test - 1\n",
    "y_val = y_val -1 "
   ]
  },
  {
   "cell_type": "code",
   "execution_count": 11,
   "metadata": {
    "ExecuteTime": {
     "end_time": "2021-04-23T13:49:27.718454Z",
     "start_time": "2021-04-23T13:49:26.931741Z"
    }
   },
   "outputs": [],
   "source": [
    "# normalize\n",
    "norm_layer = tf.keras.layers.experimental.preprocessing.Normalization()\n",
    "norm_layer.adapt(X_train)\n",
    "X_train = norm_layer(X_train)\n",
    "X_test = norm_layer(X_test)\n",
    "X_val = norm_layer(X_val)"
   ]
  },
  {
   "cell_type": "code",
   "execution_count": 12,
   "metadata": {
    "ExecuteTime": {
     "end_time": "2021-04-23T13:49:28.157979Z",
     "start_time": "2021-04-23T13:49:27.719768Z"
    }
   },
   "outputs": [
    {
     "data": {
      "image/png": "[encoded data removed]",
      "text/plain": [
       "<Figure size 720x720 with 3 Axes>"
      ]
     },
     "metadata": {
      "needs_background": "light"
     },
     "output_type": "display_data"
    }
   ],
   "source": [
    "f, (ax1, ax2, ax3) = plt.subplots(3, 1)\n",
    "bins = [x - .5 for x in range(0,10)]\n",
    "ax1.hist(y_test, bins=bins)\n",
    "ax1.set_title(\"test set\")\n",
    "ax2.hist(y_train, bins=bins)\n",
    "ax2.set_title(\"train set\")\n",
    "ax3.hist(y_test, bins=bins)\n",
    "ax3.set_title(\"val set\")\n",
    "\n",
    "plt.xticks(range(1, 9))\n",
    "plt.show()"
   ]
  },
  {
   "cell_type": "code",
   "execution_count": 19,
   "metadata": {
    "ExecuteTime": {
     "end_time": "2021-04-23T13:50:33.249651Z",
     "start_time": "2021-04-23T13:50:33.241883Z"
    }
   },
   "outputs": [],
   "source": [
    "BATCH_SIZE = 2000\n",
    "EPOCHS = 2"
   ]
  },
  {
   "cell_type": "code",
   "execution_count": 20,
   "metadata": {
    "ExecuteTime": {
     "end_time": "2021-04-23T13:50:33.936851Z",
     "start_time": "2021-04-23T13:50:33.934138Z"
    }
   },
   "outputs": [],
   "source": [
    "callback = tf.keras.callbacks.EarlyStopping(monitor='loss', patience=2)\n"
   ]
  },
  {
   "cell_type": "code",
   "execution_count": 21,
   "metadata": {
    "ExecuteTime": {
     "end_time": "2021-04-23T13:50:36.631069Z",
     "start_time": "2021-04-23T13:50:34.541186Z"
    },
    "scrolled": false
   },
   "outputs": [
    {
     "name": "stdout",
     "output_type": "stream",
     "text": [
      "Model: \"sequential_2\"\n",
      "_________________________________________________________________\n",
      "Layer (type)                 Output Shape              Param #   \n",
      "=================================================================\n",
      "dense_2 (Dense)              (None, 1)                 5         \n",
      "=================================================================\n",
      "Total params: 5\n",
      "Trainable params: 5\n",
      "Non-trainable params: 0\n",
      "_________________________________________________________________\n",
      "Epoch 1/2\n",
      "669/669 [==============================] - 1s 1ms/step - loss: 3.6083 - casted_accuracy: 0.1177 - mae: 3.6083 - val_loss: 2.7964 - val_casted_accuracy: 0.0289 - val_mae: 2.7964\n",
      "Epoch 2/2\n",
      "669/669 [==============================] - 1s 877us/step - loss: 2.3517 - casted_accuracy: 0.1347 - mae: 2.3517 - val_loss: 2.5462 - val_casted_accuracy: 0.0137 - val_mae: 2.5462\n",
      "273/273 [==============================] - 0s 502us/step - loss: 2.4683 - casted_accuracy: 0.0717 - mae: 2.4683\n",
      "test loss, test acc: [2.4682750701904297, 0.07166299968957901, 2.4682750701904297]\n",
      "INFO:tensorflow:Assets written to: ./models/regression_model_mae_sgd_2000_2_246/assets\n"
     ]
    }
   ],
   "source": [
    "def casted_accuracy(y_true, y_pred):\n",
    "    y_true = tf.cast(y_true, tf.int32)\n",
    "    y_pred = tf.cast(tf.add(y_pred,0.5), tf.int32)\n",
    "    return tf.divide(\n",
    "        tf.reduce_sum(tf.cast(tf.equal(y_pred, y_true), tf.int32)),\n",
    "        tf.size(y_true))\n",
    "\n",
    "\n",
    "\n",
    "loss = \"mae\"\n",
    "optimizer = \"sgd\"\n",
    "#optimizer = tf.keras.optimizers.Adam()\n",
    "\n",
    "regression_model = Sequential()\n",
    "regression_model.add(Dense(1, input_dim=X_train.shape[-1]))\n",
    "regression_model.compile(loss=loss,\n",
    "                         optimizer=optimizer,\n",
    "                         metrics=[casted_accuracy, \"mae\"])\n",
    "regression_model.summary()\n",
    "with tf.device(\"cpu:0\"):\n",
    "    regression_history = regression_model.fit(X_train,\n",
    "                                              y_train,\n",
    "                                              epochs=EPOCHS,\n",
    "                                              batch_size=BATCH_SIZE,\n",
    "                                              validation_data=(X_val, y_val),\n",
    "                                              callbacks=[callback])\n",
    "    results = regression_model.evaluate(X_test, y_test, batch_size=BATCH_SIZE)\n",
    "    print(\"test loss, test acc:\", results)\n",
    "regression_model.save(f\"./models/regression_model_{loss}_{optimizer}_{BATCH_SIZE}_{EPOCHS}_{int(results[-1] * 100)}\")"
   ]
  },
  {
   "cell_type": "code",
   "execution_count": 22,
   "metadata": {
    "ExecuteTime": {
     "end_time": "2021-04-23T13:50:37.481997Z",
     "start_time": "2021-04-23T13:50:37.305251Z"
    }
   },
   "outputs": [
    {
     "data": {
      "image/png": "[encoded data removed]",
      "text/plain": [
       "<Figure size 720x720 with 1 Axes>"
      ]
     },
     "metadata": {
      "needs_background": "light"
     },
     "output_type": "display_data"
    }
   ],
   "source": [
    "plot_model_history(regression_history)"
   ]
  },
  {
   "cell_type": "code",
   "execution_count": 23,
   "metadata": {
    "ExecuteTime": {
     "end_time": "2021-04-23T13:50:43.243803Z",
     "start_time": "2021-04-23T13:50:43.224818Z"
    }
   },
   "outputs": [
    {
     "name": "stdout",
     "output_type": "stream",
     "text": [
      "num_blinks [0.76]\n",
      "mean_blink_length [0.59]\n",
      "mean_opening_velocity [-0.27]\n",
      "mean_closing_velocity [-0.03]\n",
      "bias [3.92]\n"
     ]
    }
   ],
   "source": [
    "for name, weigth in zip(feature_columns, regression_model.weights[0].numpy()):\n",
    "    print(name, weigth)\n",
    "\n",
    "print(\"bias\", regression_model.weights[1].numpy())"
   ]
  },
  {
   "cell_type": "code",
   "execution_count": 24,
   "metadata": {
    "ExecuteTime": {
     "end_time": "2021-04-23T13:50:43.934926Z",
     "start_time": "2021-04-23T13:50:43.931999Z"
    }
   },
   "outputs": [
    {
     "name": "stdout",
     "output_type": "stream",
     "text": [
      "Test MAE: 2.4682750701904297\n",
      "Test Accuracy 0.07166299968957901\n"
     ]
    }
   ],
   "source": [
    "print(f\"Test MAE: {results[0]}\")\n",
    "print(f\"Test Accuracy {results[1]}\")"
   ]
  },
  {
   "cell_type": "code",
   "execution_count": 25,
   "metadata": {
    "ExecuteTime": {
     "end_time": "2021-04-23T13:50:49.395158Z",
     "start_time": "2021-04-23T13:50:44.578716Z"
    }
   },
   "outputs": [
    {
     "name": "stdout",
     "output_type": "stream",
     "text": [
      "Confusion matrix, without normalization\n"
     ]
    },
    {
     "data": {
      "image/png": "[encoded data removed]",
      "text/plain": [
       "<Figure size 720x720 with 2 Axes>"
      ]
     },
     "metadata": {
      "needs_background": "light"
     },
     "output_type": "display_data"
    }
   ],
   "source": [
    "plot_cm_matrix(regression_model, X_test, y_test, output_kind=\"digitize\")"
   ]
  },
  {
   "cell_type": "code",
   "execution_count": null,
   "metadata": {},
   "outputs": [],
   "source": []
  },
  {
   "cell_type": "markdown",
   "metadata": {},
   "source": [
    "### ordinal regression with sigmoid and one-hot-like encoding"
   ]
  },
  {
   "cell_type": "code",
   "execution_count": null,
   "metadata": {
    "ExecuteTime": {
     "end_time": "2021-04-23T13:50:03.253920Z",
     "start_time": "2021-04-23T13:49:18.430Z"
    }
   },
   "outputs": [],
   "source": [
    "y_test_one_hot = label_to_one_hot_like(y_test.astype(int))\n",
    "y_train_one_hot = label_to_one_hot_like(y_train.astype(int))\n",
    "y_val_one_hot = label_to_one_hot_like(y_val.astype(int))"
   ]
  },
  {
   "cell_type": "code",
   "execution_count": null,
   "metadata": {
    "ExecuteTime": {
     "end_time": "2021-04-23T13:50:03.254975Z",
     "start_time": "2021-04-23T13:49:18.433Z"
    }
   },
   "outputs": [],
   "source": [
    "def one_hot_like_accuracy(y_true, y_pred, threshold=.5):\n",
    "    threshold = keras.backend.constant(threshold)\n",
    "    y_pred = keras.backend.sum(keras.backend.cast(keras.backend.greater(\n",
    "        y_pred, threshold),\n",
    "                                                  dtype=tf.int64),\n",
    "                               axis=1)\n",
    "    y_true = keras.backend.sum(keras.backend.cast(keras.backend.greater(\n",
    "        y_true, threshold),\n",
    "                                                  dtype=tf.int64),\n",
    "                               axis=1)\n",
    "    return tf.divide(\n",
    "        tf.reduce_sum(tf.cast(tf.equal(y_pred, y_true), tf.int32)),\n",
    "        tf.size(y_true))\n",
    "\n",
    "loss = 'categorical_crossentropy'\n",
    "optimizer = 'adam'\n",
    "one_hot_model = Sequential()\n",
    "one_hot_model.add(Dense(8, input_dim=X_train.shape[-1], activation='sigmoid'))\n",
    "one_hot_model.compile(loss=loss,\n",
    "                      optimizer=optimizer,\n",
    "                      metrics=[one_hot_like_accuracy])\n",
    "one_hot_model.summary()\n",
    "with tf.device(\"cpu:0\"):\n",
    "    one_hot_history = one_hot_model.fit(X_train,\n",
    "                                        y_train_one_hot,\n",
    "                                        epochs=EPOCHS,\n",
    "                                        batch_size=BATCH_SIZE,\n",
    "                                        validation_data=(X_val, y_val_one_hot),\n",
    "                                        callbacks=[callback])\n",
    "    results = one_hot_model.evaluate(X_test,\n",
    "                                     y_test_one_hot,\n",
    "                                     batch_size=BATCH_SIZE)\n",
    "    print(\"test loss, test acc: \", results)\n",
    "    \n",
    "one_hot_model.save(f\"./models/one_hot_model_{loss}_{optimizer}_{BATCH_SIZE}_{EPOCHS}_{int(results[-1] * 100)}\")"
   ]
  },
  {
   "cell_type": "code",
   "execution_count": null,
   "metadata": {
    "ExecuteTime": {
     "end_time": "2021-04-23T13:50:03.255768Z",
     "start_time": "2021-04-23T13:49:18.435Z"
    }
   },
   "outputs": [],
   "source": [
    "plot_model_history(one_hot_history)"
   ]
  },
  {
   "cell_type": "code",
   "execution_count": null,
   "metadata": {
    "ExecuteTime": {
     "end_time": "2021-04-23T13:50:03.257302Z",
     "start_time": "2021-04-23T13:49:18.436Z"
    }
   },
   "outputs": [],
   "source": [
    "y_pred_raw = one_hot_model.predict(X_test)\n",
    "print(y_pred_raw.shape)"
   ]
  },
  {
   "cell_type": "code",
   "execution_count": null,
   "metadata": {
    "ExecuteTime": {
     "end_time": "2021-04-23T13:50:03.258280Z",
     "start_time": "2021-04-23T13:49:18.438Z"
    }
   },
   "outputs": [],
   "source": [
    "thresholds = np.linspace(.1, .9, 20)\n",
    "accs = []\n",
    "for threshold in thresholds:\n",
    "    acc = one_hot_like_accuracy(y_test_one_hot,\n",
    "                                y_pred_raw,\n",
    "                                threshold=threshold)\n",
    "#     print(threshold, acc)\n",
    "    accs.append(acc)\n",
    "\n",
    "best_threshold = thresholds[np.argmax(accs)]\n",
    "print(f\"max acc with threshold of {best_threshold}\")\n",
    "plt.plot(thresholds, accs)\n",
    "plt.title(\"accuracy vs thresholds for assigning class\")\n",
    "plt.show()"
   ]
  },
  {
   "cell_type": "code",
   "execution_count": null,
   "metadata": {
    "ExecuteTime": {
     "end_time": "2021-04-23T13:50:03.259177Z",
     "start_time": "2021-04-23T13:49:18.440Z"
    }
   },
   "outputs": [],
   "source": [
    "plot_cm_matrix(one_hot_model,\n",
    "               X_test,\n",
    "               y_test,\n",
    "               output_kind=\"one-hot-like\",\n",
    "               threshold=best_threshold,\n",
    "               normalize=False)"
   ]
  },
  {
   "cell_type": "code",
   "execution_count": null,
   "metadata": {
    "ExecuteTime": {
     "end_time": "2021-04-23T13:50:03.260101Z",
     "start_time": "2021-04-23T13:49:18.442Z"
    }
   },
   "outputs": [],
   "source": [
    "preds = one_hot_like_to_label(y_pred_raw, threshold=best_threshold).numpy()\n",
    "plt.hist(preds, bins=bins)\n",
    "plt.show()"
   ]
  },
  {
   "cell_type": "markdown",
   "metadata": {
    "ExecuteTime": {
     "end_time": "2021-04-08T14:37:08.520212Z",
     "start_time": "2021-04-08T14:37:05.710419Z"
    }
   },
   "source": [
    "### coral model"
   ]
  },
  {
   "cell_type": "code",
   "execution_count": null,
   "metadata": {
    "ExecuteTime": {
     "end_time": "2021-04-23T13:50:03.261074Z",
     "start_time": "2021-04-23T13:49:18.444Z"
    }
   },
   "outputs": [],
   "source": [
    "import coral_ordinal as coral\n",
    "\n",
    "NUM_CLASSES = 9\n",
    "\n",
    "loss = coral.OrdinalCrossEntropy(num_classes = NUM_CLASSES)\n",
    "optimizer = tf.keras.optimizers.Adam()\n",
    "\n",
    "ordinal_model = Sequential()\n",
    "ordinal_model.add(Input(shape=X_train.shape[-1]))\n",
    "#ordinal_model.add(Dense(10))\n",
    "ordinal_model.add(coral.CoralOrdinal(num_classes = NUM_CLASSES))\n",
    "\n",
    "ordinal_model.compile(optimizer=optimizer,\n",
    "                      loss = loss,\n",
    "                      metrics = [coral.MeanAbsoluteErrorLabels()])\n",
    "ordinal_model.summary()\n",
    "\n",
    "with tf.device(\"cpu:0\"):\n",
    "    ordinal_history = ordinal_model.fit(X_train,\n",
    "                                        y_train,\n",
    "                                        epochs=2,\n",
    "                                        batch_size=BATCH_SIZE,\n",
    "                                        validation_data=(X_val, y_val),\n",
    "                                        callbacks=[callback])\n",
    "    results = ordinal_model.evaluate(X_test,\n",
    "                                     y_test,\n",
    "                                     batch_size=BATCH_SIZE)\n",
    "    print(\"test loss, test acc: \", results)\n",
    "    \n",
    "ordinal_model.save(f\"./models/ordinal_model_{loss}_{optimizer}_{BATCH_SIZE}_{EPOCHS}_{int(results[-1] * 100)}\")"
   ]
  },
  {
   "cell_type": "code",
   "execution_count": null,
   "metadata": {
    "ExecuteTime": {
     "end_time": "2021-04-23T13:50:03.261970Z",
     "start_time": "2021-04-23T13:49:18.446Z"
    }
   },
   "outputs": [],
   "source": [
    "plot_model_history(ordinal_history)"
   ]
  },
  {
   "cell_type": "code",
   "execution_count": null,
   "metadata": {
    "ExecuteTime": {
     "end_time": "2021-04-23T13:50:03.262758Z",
     "start_time": "2021-04-23T13:49:18.447Z"
    }
   },
   "outputs": [],
   "source": [
    "plot_cm_matrix(ordinal_model, X_test, y_test, output_kind=\"cum_logits\")"
   ]
  },
  {
   "cell_type": "code",
   "execution_count": null,
   "metadata": {
    "ExecuteTime": {
     "end_time": "2021-04-23T13:50:03.264185Z",
     "start_time": "2021-04-23T13:49:18.449Z"
    },
    "scrolled": true
   },
   "outputs": [],
   "source": [
    "def ordinal_accuracy(y_true, y_pred):\n",
    "    y_true = tf.squeeze(y_true)\n",
    "    labels = ordinal_to_label(y_pred)\n",
    "    print(labels.shape, y_true.shape)\n",
    "    acc = np.mean(labels == y_true)\n",
    "    return acc\n",
    "\n",
    "num_samples = 10000\n",
    "res = ordinal_model.predict(x=X_test[:num_samples])\n",
    "ordinal_accuracy(y_test[:num_samples], res)"
   ]
  },
  {
   "cell_type": "code",
   "execution_count": null,
   "metadata": {
    "ExecuteTime": {
     "end_time": "2021-04-23T13:50:03.265047Z",
     "start_time": "2021-04-23T13:49:18.451Z"
    }
   },
   "outputs": [],
   "source": [
    "l = ordinal_to_label(res)"
   ]
  },
  {
   "cell_type": "code",
   "execution_count": null,
   "metadata": {
    "ExecuteTime": {
     "end_time": "2021-04-23T13:50:03.265928Z",
     "start_time": "2021-04-23T13:49:18.453Z"
    }
   },
   "outputs": [],
   "source": [
    "sum(np.squeeze(y_test)[:10000]  == l)"
   ]
  },
  {
   "cell_type": "code",
   "execution_count": null,
   "metadata": {
    "ExecuteTime": {
     "end_time": "2021-04-23T13:50:03.266728Z",
     "start_time": "2021-04-23T13:49:18.454Z"
    }
   },
   "outputs": [],
   "source": [
    "# The output layer is the last layer in the model.\n",
    "last_layer = len(ordinal_model.layers) - 1\n",
    "\n",
    "# Check bias terms: these should be in descending order.\n",
    "ordinal_model.layers[last_layer].get_weights()[1]"
   ]
  },
  {
   "cell_type": "code",
   "execution_count": null,
   "metadata": {
    "ExecuteTime": {
     "end_time": "2021-04-23T13:50:03.267618Z",
     "start_time": "2021-04-23T13:49:18.456Z"
    }
   },
   "outputs": [],
   "source": [
    "plt.plot(ordinal_model.layers[last_layer].get_weights()[1])\n",
    "plt.show()"
   ]
  },
  {
   "cell_type": "markdown",
   "metadata": {},
   "source": [
    "# Different notes\n",
    "\n",
    "### session types mapping:  \n",
    "a -> 0  \n",
    "b -> 1  \n",
    "s -> 18"
   ]
  },
  {
   "cell_type": "code",
   "execution_count": null,
   "metadata": {
    "ExecuteTime": {
     "end_time": "2021-04-09T11:14:50.763620Z",
     "start_time": "2021-04-09T11:14:50.725537Z"
    }
   },
   "outputs": [],
   "source": []
  },
  {
   "cell_type": "code",
   "execution_count": null,
   "metadata": {
    "ExecuteTime": {
     "end_time": "2021-04-23T13:50:03.268953Z",
     "start_time": "2021-04-23T13:49:18.460Z"
    }
   },
   "outputs": [],
   "source": [
    "list(\"123\")"
   ]
  },
  {
   "cell_type": "code",
   "execution_count": null,
   "metadata": {},
   "outputs": [],
   "source": []
  }
 ],
 "metadata": {
  "kernelspec": {
   "display_name": "Python 3",
   "language": "python",
   "name": "python3"
  },
  "language_info": {
   "codemirror_mode": {
    "name": "ipython",
    "version": 3
   },
   "file_extension": ".py",
   "mimetype": "text/x-python",
   "name": "python",
   "nbconvert_exporter": "python",
   "pygments_lexer": "ipython3",
   "version": "3.6.9"
  },
  "varInspector": {
   "cols": {
    "lenName": 16,
    "lenType": 16,
    "lenVar": 40
   },
   "kernels_config": {
    "python": {
     "delete_cmd_postfix": "",
     "delete_cmd_prefix": "del ",
     "library": "var_list.py",
     "varRefreshCmd": "print(var_dic_list())"
    },
    "r": {
     "delete_cmd_postfix": ") ",
     "delete_cmd_prefix": "rm(",
     "library": "var_list.r",
     "varRefreshCmd": "cat(var_dic_list()) "
    }
   },
   "position": {
    "height": "605px",
    "left": "1550px",
    "right": "20px",
    "top": "120px",
    "width": "350px"
   },
   "types_to_exclude": [
    "module",
    "function",
    "builtin_function_or_method",
    "instance",
    "_Feature"
   ],
   "window_display": true
  }
 },
 "nbformat": 4,
 "nbformat_minor": 1
}
