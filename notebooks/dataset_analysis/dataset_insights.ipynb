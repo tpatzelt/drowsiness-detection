{
 "cells": [
  {
   "cell_type": "code",
   "execution_count": 15,
   "metadata": {
    "collapsed": true,
    "pycharm": {
     "name": "#%%\n"
    }
   },
   "outputs": [
    {
     "name": "stderr",
     "output_type": "stream",
     "text": [
      "Intel(R) Extension for Scikit-learn* enabled (https://github.com/intel/scikit-learn-intelex)\n"
     ]
    }
   ],
   "source": [
    "from drowsiness_detection.run_grid_search_experiment import base\n",
    "from pprint import pprint\n",
    "from sklearnex import patch_sklearn\n",
    "\n",
    "patch_sklearn()\n",
    "# explicitly require this experimental feature\n",
    "from sklearn.experimental import enable_halving_search_cv  # noqa\n",
    "# now you can import normally from model_selection\n",
    "from sklearn.model_selection import HalvingRandomSearchCV\n",
    "from sklearn.pipeline import Pipeline\n",
    "import pickle\n",
    "import matplotlib.pyplot as plt\n",
    "from sklearn.model_selection import train_test_split\n",
    "from drowsiness_detection.helpers import spec_to_config_space\n",
    "from sklearn.dummy import DummyClassifier\n",
    "from sklearn.preprocessing import MinMaxScaler\n",
    "from pathlib import Path\n",
    "from sacred import Experiment\n",
    "from sacred.observers import FileStorageObserver\n",
    "from sklearn.ensemble import RandomForestClassifier\n",
    "from sklearn.linear_model import LogisticRegression\n",
    "from drowsiness_detection import config\n",
    "from sklearn.model_selection import StratifiedKFold\n",
    "\n",
    "from drowsiness_detection.data import session_type_mapping, get_feature_data, \\\n",
    "    preprocess_feature_data"
   ]
  },
  {
   "cell_type": "code",
   "execution_count": 13,
   "outputs": [
    {
     "name": "stdout",
     "output_type": "stream",
     "text": [
      "{'exclude_by': 'a',\n",
      " 'grid_search_params': {'error_score': 0,\n",
      "                        'factor': None,\n",
      "                        'max_resources': None,\n",
      "                        'n_jobs': -1,\n",
      "                        'resource': None,\n",
      "                        'scoring': None,\n",
      "                        'verbose': 1},\n",
      " 'hyperparameter_specs': None,\n",
      " 'model_name': None,\n",
      " 'n_splits': 10,\n",
      " 'recording_frequency': None,\n",
      " 'seed': 123,\n",
      " 'test_size': 0.2,\n",
      " 'window_in_sec': None}\n"
     ]
    }
   ],
   "source": [
    "config.set_paths(30,10)\n",
    "\n",
    "base_config = base()\n",
    "pprint(base_config)"
   ],
   "metadata": {
    "collapsed": false,
    "pycharm": {
     "name": "#%%\n"
    }
   }
  },
  {
   "cell_type": "code",
   "execution_count": 14,
   "outputs": [],
   "source": [
    "data = get_feature_data(data_path=config.PATHS.WINDOW_FEATURES)\n",
    "X, y = preprocess_feature_data(feature_data=data,\n",
    "                                   exclude_sess_type=session_type_mapping[base_config[\"exclude_by\"]])\n",
    "X_train, X_test, y_train, y_test = train_test_split(X, y, test_size=base_config[\"test_size\"],\n",
    "                                                        random_state=base_config[\"seed\"])"
   ],
   "metadata": {
    "collapsed": false,
    "pycharm": {
     "name": "#%%\n"
    }
   }
  },
  {
   "cell_type": "code",
   "execution_count": 30,
   "outputs": [
    {
     "name": "stdout",
     "output_type": "stream",
     "text": [
      "0 is drowsy, 1 is not drowsy\n"
     ]
    },
    {
     "data": {
      "text/plain": "<Figure size 432x288 with 2 Axes>",
      "image/png": "[encoded data removed]"
     },
     "metadata": {
      "needs_background": "light"
     },
     "output_type": "display_data"
    }
   ],
   "source": [
    "# cv = StratifiedKFold(n_splits=base_config[\"n_splits\"])\n",
    "print(\"0 is drowsy, 1 is not drowsy\")\n",
    "fig, (ax1, ax2) = plt.subplots(1,2)\n",
    "ax1.hist(y_train)\n",
    "ax1.set_title(\"Training Labels\")\n",
    "ax2.hist(y_test)\n",
    "ax2.set_title(\"Test Labels\")\n",
    "plt.show()"
   ],
   "metadata": {
    "collapsed": false,
    "pycharm": {
     "name": "#%%\n"
    }
   }
  },
  {
   "cell_type": "code",
   "execution_count": null,
   "outputs": [],
   "source": [],
   "metadata": {
    "collapsed": false,
    "pycharm": {
     "name": "#%%\n"
    }
   }
  }
 ],
 "metadata": {
  "kernelspec": {
   "display_name": "Python 3",
   "language": "python",
   "name": "python3"
  },
  "language_info": {
   "codemirror_mode": {
    "name": "ipython",
    "version": 2
   },
   "file_extension": ".py",
   "mimetype": "text/x-python",
   "name": "python",
   "nbconvert_exporter": "python",
   "pygments_lexer": "ipython2",
   "version": "2.7.6"
  }
 },
 "nbformat": 4,
 "nbformat_minor": 0
}