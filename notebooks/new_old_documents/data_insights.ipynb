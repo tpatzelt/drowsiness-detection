{
 "cells": [
  {
   "cell_type": "code",
   "execution_count": 1,
   "metadata": {
    "ExecuteTime": {
     "end_time": "2021-04-01T15:13:02.369323Z",
     "start_time": "2021-04-01T15:13:02.014539Z"
    }
   },
   "outputs": [],
   "source": [
    "import pandas as pd\n",
    "import numpy as np\n",
    "import matplotlib.pyplot as plt\n",
    "\n",
    "pd.set_option(\"display.precision\", 2)"
   ]
  },
  {
   "cell_type": "markdown",
   "metadata": {},
   "source": [
    "### get some insights in the distribution of the data"
   ]
  },
  {
   "cell_type": "code",
   "execution_count": 3,
   "metadata": {
    "ExecuteTime": {
     "end_time": "2021-04-01T15:13:28.662089Z",
     "start_time": "2021-04-01T15:13:09.291380Z"
    }
   },
   "outputs": [
    {
     "name": "stdout",
     "output_type": "stream",
     "text": [
      "Index(['combined_eye_closure', 'left_image_eye_closure',\n",
      "       'right_image_eye_closure', 'combined_eye_state', 'left_image_eye_state',\n",
      "       'right_image_eye_state', 'subject_id', 'session_id', 'session_type',\n",
      "       'num_blinks', 'mean_blink_length', 'mean_opening_velocity',\n",
      "       'mean_closing_velocity', 'karolinska_response_nearest_interpolation',\n",
      "       'karolinska_response_linear_interpolation'],\n",
      "      dtype='object')\n"
     ]
    },
    {
     "data": {
      "text/html": [
       "<div>\n",
       "<style scoped>\n",
       "    .dataframe tbody tr th:only-of-type {\n",
       "        vertical-align: middle;\n",
       "    }\n",
       "\n",
       "    .dataframe tbody tr th {\n",
       "        vertical-align: top;\n",
       "    }\n",
       "\n",
       "    .dataframe thead th {\n",
       "        text-align: right;\n",
       "    }\n",
       "</style>\n",
       "<table border=\"1\" class=\"dataframe\">\n",
       "  <thead>\n",
       "    <tr style=\"text-align: right;\">\n",
       "      <th></th>\n",
       "      <th>combined_eye_closure</th>\n",
       "      <th>left_image_eye_closure</th>\n",
       "      <th>right_image_eye_closure</th>\n",
       "      <th>combined_eye_state</th>\n",
       "      <th>left_image_eye_state</th>\n",
       "      <th>right_image_eye_state</th>\n",
       "      <th>subject_id</th>\n",
       "      <th>session_id</th>\n",
       "      <th>session_type</th>\n",
       "      <th>num_blinks</th>\n",
       "      <th>mean_blink_length</th>\n",
       "      <th>mean_opening_velocity</th>\n",
       "      <th>mean_closing_velocity</th>\n",
       "      <th>karolinska_response_nearest_interpolation</th>\n",
       "      <th>karolinska_response_linear_interpolation</th>\n",
       "    </tr>\n",
       "  </thead>\n",
       "  <tbody>\n",
       "    <tr>\n",
       "      <th>count</th>\n",
       "      <td>3.43e+06</td>\n",
       "      <td>3.43e+06</td>\n",
       "      <td>3.43e+06</td>\n",
       "      <td>3.43e+06</td>\n",
       "      <td>3.43e+06</td>\n",
       "      <td>3.43e+06</td>\n",
       "      <td>3.78e+06</td>\n",
       "      <td>3.78e+06</td>\n",
       "      <td>3.78e+06</td>\n",
       "      <td>3.78e+06</td>\n",
       "      <td>3.78e+06</td>\n",
       "      <td>3.78e+06</td>\n",
       "      <td>3.78e+06</td>\n",
       "      <td>3.78e+06</td>\n",
       "      <td>3.78e+06</td>\n",
       "    </tr>\n",
       "    <tr>\n",
       "      <th>mean</th>\n",
       "      <td>2.59e-01</td>\n",
       "      <td>2.60e-01</td>\n",
       "      <td>2.57e-01</td>\n",
       "      <td>5.47e-02</td>\n",
       "      <td>5.76e-02</td>\n",
       "      <td>5.36e-02</td>\n",
       "      <td>5.33e+00</td>\n",
       "      <td>1.92e+00</td>\n",
       "      <td>5.61e+00</td>\n",
       "      <td>8.66e+00</td>\n",
       "      <td>1.06e+01</td>\n",
       "      <td>7.61e-02</td>\n",
       "      <td>1.93e-01</td>\n",
       "      <td>5.08e+00</td>\n",
       "      <td>5.08e+00</td>\n",
       "    </tr>\n",
       "    <tr>\n",
       "      <th>std</th>\n",
       "      <td>1.53e-01</td>\n",
       "      <td>1.55e-01</td>\n",
       "      <td>1.54e-01</td>\n",
       "      <td>3.32e-01</td>\n",
       "      <td>3.59e-01</td>\n",
       "      <td>3.50e-01</td>\n",
       "      <td>3.63e+00</td>\n",
       "      <td>8.28e-01</td>\n",
       "      <td>7.95e+00</td>\n",
       "      <td>8.86e+00</td>\n",
       "      <td>6.32e+00</td>\n",
       "      <td>3.42e-02</td>\n",
       "      <td>9.19e-02</td>\n",
       "      <td>2.44e+00</td>\n",
       "      <td>2.44e+00</td>\n",
       "    </tr>\n",
       "    <tr>\n",
       "      <th>min</th>\n",
       "      <td>0.00e+00</td>\n",
       "      <td>0.00e+00</td>\n",
       "      <td>0.00e+00</td>\n",
       "      <td>0.00e+00</td>\n",
       "      <td>0.00e+00</td>\n",
       "      <td>0.00e+00</td>\n",
       "      <td>1.00e+00</td>\n",
       "      <td>1.00e+00</td>\n",
       "      <td>0.00e+00</td>\n",
       "      <td>0.00e+00</td>\n",
       "      <td>0.00e+00</td>\n",
       "      <td>0.00e+00</td>\n",
       "      <td>0.00e+00</td>\n",
       "      <td>1.00e+00</td>\n",
       "      <td>1.00e+00</td>\n",
       "    </tr>\n",
       "    <tr>\n",
       "      <th>25%</th>\n",
       "      <td>1.62e-01</td>\n",
       "      <td>1.65e-01</td>\n",
       "      <td>1.62e-01</td>\n",
       "      <td>0.00e+00</td>\n",
       "      <td>0.00e+00</td>\n",
       "      <td>0.00e+00</td>\n",
       "      <td>2.00e+00</td>\n",
       "      <td>1.00e+00</td>\n",
       "      <td>0.00e+00</td>\n",
       "      <td>3.00e+00</td>\n",
       "      <td>8.75e+00</td>\n",
       "      <td>6.22e-02</td>\n",
       "      <td>1.36e-01</td>\n",
       "      <td>3.00e+00</td>\n",
       "      <td>3.00e+00</td>\n",
       "    </tr>\n",
       "    <tr>\n",
       "      <th>50%</th>\n",
       "      <td>2.41e-01</td>\n",
       "      <td>2.44e-01</td>\n",
       "      <td>2.37e-01</td>\n",
       "      <td>0.00e+00</td>\n",
       "      <td>0.00e+00</td>\n",
       "      <td>0.00e+00</td>\n",
       "      <td>4.00e+00</td>\n",
       "      <td>2.00e+00</td>\n",
       "      <td>1.00e+00</td>\n",
       "      <td>6.00e+00</td>\n",
       "      <td>1.06e+01</td>\n",
       "      <td>7.66e-02</td>\n",
       "      <td>2.01e-01</td>\n",
       "      <td>5.00e+00</td>\n",
       "      <td>5.00e+00</td>\n",
       "    </tr>\n",
       "    <tr>\n",
       "      <th>75%</th>\n",
       "      <td>3.15e-01</td>\n",
       "      <td>3.19e-01</td>\n",
       "      <td>3.14e-01</td>\n",
       "      <td>0.00e+00</td>\n",
       "      <td>0.00e+00</td>\n",
       "      <td>0.00e+00</td>\n",
       "      <td>8.00e+00</td>\n",
       "      <td>3.00e+00</td>\n",
       "      <td>1.80e+01</td>\n",
       "      <td>1.20e+01</td>\n",
       "      <td>1.24e+01</td>\n",
       "      <td>9.22e-02</td>\n",
       "      <td>2.60e-01</td>\n",
       "      <td>7.00e+00</td>\n",
       "      <td>7.00e+00</td>\n",
       "    </tr>\n",
       "    <tr>\n",
       "      <th>max</th>\n",
       "      <td>1.00e+00</td>\n",
       "      <td>1.00e+00</td>\n",
       "      <td>1.00e+00</td>\n",
       "      <td>5.00e+00</td>\n",
       "      <td>5.00e+00</td>\n",
       "      <td>5.00e+00</td>\n",
       "      <td>1.40e+01</td>\n",
       "      <td>3.00e+00</td>\n",
       "      <td>1.80e+01</td>\n",
       "      <td>1.30e+02</td>\n",
       "      <td>2.38e+02</td>\n",
       "      <td>8.32e-01</td>\n",
       "      <td>5.19e-01</td>\n",
       "      <td>9.00e+00</td>\n",
       "      <td>9.00e+00</td>\n",
       "    </tr>\n",
       "  </tbody>\n",
       "</table>\n",
       "</div>"
      ],
      "text/plain": [
       "       combined_eye_closure  left_image_eye_closure  right_image_eye_closure  \\\n",
       "count              3.43e+06                3.43e+06                 3.43e+06   \n",
       "mean               2.59e-01                2.60e-01                 2.57e-01   \n",
       "std                1.53e-01                1.55e-01                 1.54e-01   \n",
       "min                0.00e+00                0.00e+00                 0.00e+00   \n",
       "25%                1.62e-01                1.65e-01                 1.62e-01   \n",
       "50%                2.41e-01                2.44e-01                 2.37e-01   \n",
       "75%                3.15e-01                3.19e-01                 3.14e-01   \n",
       "max                1.00e+00                1.00e+00                 1.00e+00   \n",
       "\n",
       "       combined_eye_state  left_image_eye_state  right_image_eye_state  \\\n",
       "count            3.43e+06              3.43e+06               3.43e+06   \n",
       "mean             5.47e-02              5.76e-02               5.36e-02   \n",
       "std              3.32e-01              3.59e-01               3.50e-01   \n",
       "min              0.00e+00              0.00e+00               0.00e+00   \n",
       "25%              0.00e+00              0.00e+00               0.00e+00   \n",
       "50%              0.00e+00              0.00e+00               0.00e+00   \n",
       "75%              0.00e+00              0.00e+00               0.00e+00   \n",
       "max              5.00e+00              5.00e+00               5.00e+00   \n",
       "\n",
       "       subject_id  session_id  session_type  num_blinks  mean_blink_length  \\\n",
       "count    3.78e+06    3.78e+06      3.78e+06    3.78e+06           3.78e+06   \n",
       "mean     5.33e+00    1.92e+00      5.61e+00    8.66e+00           1.06e+01   \n",
       "std      3.63e+00    8.28e-01      7.95e+00    8.86e+00           6.32e+00   \n",
       "min      1.00e+00    1.00e+00      0.00e+00    0.00e+00           0.00e+00   \n",
       "25%      2.00e+00    1.00e+00      0.00e+00    3.00e+00           8.75e+00   \n",
       "50%      4.00e+00    2.00e+00      1.00e+00    6.00e+00           1.06e+01   \n",
       "75%      8.00e+00    3.00e+00      1.80e+01    1.20e+01           1.24e+01   \n",
       "max      1.40e+01    3.00e+00      1.80e+01    1.30e+02           2.38e+02   \n",
       "\n",
       "       mean_opening_velocity  mean_closing_velocity  \\\n",
       "count               3.78e+06               3.78e+06   \n",
       "mean                7.61e-02               1.93e-01   \n",
       "std                 3.42e-02               9.19e-02   \n",
       "min                 0.00e+00               0.00e+00   \n",
       "25%                 6.22e-02               1.36e-01   \n",
       "50%                 7.66e-02               2.01e-01   \n",
       "75%                 9.22e-02               2.60e-01   \n",
       "max                 8.32e-01               5.19e-01   \n",
       "\n",
       "       karolinska_response_nearest_interpolation  \\\n",
       "count                                   3.78e+06   \n",
       "mean                                    5.08e+00   \n",
       "std                                     2.44e+00   \n",
       "min                                     1.00e+00   \n",
       "25%                                     3.00e+00   \n",
       "50%                                     5.00e+00   \n",
       "75%                                     7.00e+00   \n",
       "max                                     9.00e+00   \n",
       "\n",
       "       karolinska_response_linear_interpolation  \n",
       "count                                  3.78e+06  \n",
       "mean                                   5.08e+00  \n",
       "std                                    2.44e+00  \n",
       "min                                    1.00e+00  \n",
       "25%                                    3.00e+00  \n",
       "50%                                    5.00e+00  \n",
       "75%                                    7.00e+00  \n",
       "max                                    9.00e+00  "
      ]
     },
     "execution_count": 3,
     "metadata": {},
     "output_type": "execute_result"
    }
   ],
   "source": [
    "feature_df = pd.read_pickle(\"./all_session.pkl\")\n",
    "print(feature_df.columns)\n",
    "feature_df.describe()"
   ]
  },
  {
   "cell_type": "markdown",
   "metadata": {},
   "source": [
    "### plot histograms"
   ]
  },
  {
   "cell_type": "code",
   "execution_count": 4,
   "metadata": {
    "ExecuteTime": {
     "end_time": "2021-04-01T15:13:30.497873Z",
     "start_time": "2021-04-01T15:13:28.771666Z"
    }
   },
   "outputs": [
    {
     "data": {
      "image/png": "[encoded data removed]",
      "text/plain": [
       "<Figure size 432x288 with 1 Axes>"
      ]
     },
     "metadata": {
      "needs_background": "light"
     },
     "output_type": "display_data"
    }
   ],
   "source": [
    "bins = [x - .5 for x in range(7)]\n",
    "state_hist = (feature_df[\"combined_eye_state\"]).plot(\n",
    "    kind=\"hist\", title=\"eye state value distribution\", grid=True, bins=bins)"
   ]
  },
  {
   "cell_type": "code",
   "execution_count": 5,
   "metadata": {
    "ExecuteTime": {
     "end_time": "2021-04-01T15:13:30.981911Z",
     "start_time": "2021-04-01T15:13:30.553525Z"
    }
   },
   "outputs": [
    {
     "data": {
      "image/png": "[encoded data removed]",
      "text/plain": [
       "<Figure size 432x288 with 1 Axes>"
      ]
     },
     "metadata": {
      "needs_background": "light"
     },
     "output_type": "display_data"
    }
   ],
   "source": [
    "bins = [x / 20 for x in range(21)]\n",
    "closure_hist = feature_df[\"combined_eye_closure\"].plot(\n",
    "    kind=\"hist\", title=\"eye closure value distribution\", grid=True, bins=bins)"
   ]
  },
  {
   "cell_type": "code",
   "execution_count": 6,
   "metadata": {
    "ExecuteTime": {
     "end_time": "2021-04-01T15:13:32.894918Z",
     "start_time": "2021-04-01T15:13:31.022851Z"
    }
   },
   "outputs": [
    {
     "data": {
      "image/png": "[encoded data removed]",
      "text/plain": [
       "<Figure size 432x288 with 1 Axes>"
      ]
     },
     "metadata": {
      "needs_background": "light"
     },
     "output_type": "display_data"
    }
   ],
   "source": [
    "bins = [x - .5 for x in range(1, 11)]\n",
    "karolinksa_hist_nearest = (\n",
    "    feature_df[\"karolinska_response_nearest_interpolation\"]).plot(\n",
    "        kind=\"hist\",\n",
    "        title=\"karolisnka response (nearest interpolated)\",\n",
    "        grid=True,\n",
    "        bins=bins)"
   ]
  },
  {
   "cell_type": "code",
   "execution_count": 7,
   "metadata": {
    "ExecuteTime": {
     "end_time": "2021-04-01T15:13:35.248300Z",
     "start_time": "2021-04-01T15:13:32.944814Z"
    }
   },
   "outputs": [
    {
     "data": {
      "image/png": "[encoded data removed]",
      "text/plain": [
       "<Figure size 432x288 with 1 Axes>"
      ]
     },
     "metadata": {
      "needs_background": "light"
     },
     "output_type": "display_data"
    }
   ],
   "source": [
    "bins = [x - .5 for x in range(1, 11)]\n",
    "karolinksa_hist_nearest = (\n",
    "    feature_df[\"karolinska_response_linear_interpolation\"]).plot(\n",
    "        kind=\"hist\",\n",
    "        title=\"karolisnka response (linear interpolated)\",\n",
    "        grid=True,\n",
    "        bins=bins)"
   ]
  },
  {
   "cell_type": "code",
   "execution_count": 8,
   "metadata": {
    "ExecuteTime": {
     "end_time": "2021-04-01T15:13:35.343780Z",
     "start_time": "2021-04-01T15:13:35.303479Z"
    }
   },
   "outputs": [
    {
     "data": {
      "text/plain": [
       "4    660755\n",
       "7    649486\n",
       "3    600774\n",
       "2    411692\n",
       "9    391262\n",
       "8    388188\n",
       "5    266472\n",
       "6    207896\n",
       "1    204586\n",
       "Name: karolinska_response_nearest_interpolation, dtype: Int64"
      ]
     },
     "execution_count": 8,
     "metadata": {},
     "output_type": "execute_result"
    }
   ],
   "source": [
    "feature_df[\"karolinska_response_nearest_interpolation\"].value_counts()"
   ]
  },
  {
   "cell_type": "code",
   "execution_count": 14,
   "metadata": {
    "ExecuteTime": {
     "end_time": "2021-04-01T15:15:52.207303Z",
     "start_time": "2021-04-01T15:15:49.175237Z"
    }
   },
   "outputs": [
    {
     "data": {
      "image/png": "[encoded data removed]",
      "text/plain": [
       "<Figure size 432x288 with 1 Axes>"
      ]
     },
     "metadata": {
      "needs_background": "light"
     },
     "output_type": "display_data"
    }
   ],
   "source": [
    "karolinksa_hist_nearest = (feature_df[\"num_blinks\"]).plot(kind=\"hist\",\n",
    "                                                          title=\"num blinks\",\n",
    "                                                          grid=True,\n",
    "                                                          bins=len(feature_df[\"num_blinks\"].unique()))"
   ]
  }
 ],
 "metadata": {
  "kernelspec": {
   "display_name": "Python 3",
   "language": "python",
   "name": "python3"
  },
  "language_info": {
   "codemirror_mode": {
    "name": "ipython",
    "version": 3
   },
   "file_extension": ".py",
   "mimetype": "text/x-python",
   "name": "python",
   "nbconvert_exporter": "python",
   "pygments_lexer": "ipython3",
   "version": "3.6.9"
  },
  "varInspector": {
   "cols": {
    "lenName": 16,
    "lenType": 16,
    "lenVar": 40
   },
   "kernels_config": {
    "python": {
     "delete_cmd_postfix": "",
     "delete_cmd_prefix": "del ",
     "library": "var_list.py",
     "varRefreshCmd": "print(var_dic_list())"
    },
    "r": {
     "delete_cmd_postfix": ") ",
     "delete_cmd_prefix": "rm(",
     "library": "var_list.r",
     "varRefreshCmd": "cat(var_dic_list()) "
    }
   },
   "types_to_exclude": [
    "module",
    "function",
    "builtin_function_or_method",
    "instance",
    "_Feature"
   ],
   "window_display": false
  }
 },
 "nbformat": 4,
 "nbformat_minor": 1
}
