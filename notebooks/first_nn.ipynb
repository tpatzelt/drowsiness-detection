{
 "cells": [
  {
   "cell_type": "code",
   "execution_count": 1,
   "outputs": [],
   "source": [
    "\n",
    "\n",
    "import numpy as np\n",
    "import tensorflow as tf\n",
    "\n",
    "from drowsiness_detection import config\n",
    "from drowsiness_detection.models import build_dummy_tf_classifier, ThreeDStandardScaler,build_dense_model, build_lstm_model, build_cnn_model\n"
   ],
   "metadata": {
    "collapsed": false,
    "pycharm": {
     "name": "#%%\n"
    }
   }
  },
  {
   "cell_type": "code",
   "execution_count": 2,
   "outputs": [
    {
     "data": {
      "text/plain": "PosixPath('/home/tim/Windows/Windows_30_Hz/WindowData/10_sec')"
     },
     "execution_count": 2,
     "metadata": {},
     "output_type": "execute_result"
    }
   ],
   "source": [
    "window_size = 10\n",
    "recording_frequency = 30\n",
    "exclude_by = \"a\"\n",
    "\n",
    "config.set_paths(recording_frequency, window_size)\n",
    "config.PATHS.WINDOW_DATA"
   ],
   "metadata": {
    "collapsed": false,
    "pycharm": {
     "name": "#%%\n"
    }
   }
  },
  {
   "cell_type": "code",
   "execution_count": 3,
   "outputs": [
    {
     "name": "stdout",
     "output_type": "stream",
     "text": [
      "(20, 300, 23) (20,)\n"
     ]
    }
   ],
   "source": [
    "num_samples = 20\n",
    "X = np.random.random(num_samples * 300 * 23).reshape((num_samples, 300, 23))\n",
    "y = np.concatenate((np.zeros((num_samples // 2)), np.ones((num_samples // 2))))\n",
    "print(X.shape, y.shape)"
   ],
   "metadata": {
    "collapsed": false,
    "pycharm": {
     "name": "#%%\n"
    }
   }
  },
  {
   "cell_type": "code",
   "execution_count": 4,
   "outputs": [
    {
     "name": "stdout",
     "output_type": "stream",
     "text": [
      "(20, 300, 23)\n"
     ]
    }
   ],
   "source": [
    "scaler = ThreeDStandardScaler()\n",
    "X_scaled = scaler.fit_transform(X, y)\n",
    "print(X_scaled.shape)"
   ],
   "metadata": {
    "collapsed": false,
    "pycharm": {
     "name": "#%%\n"
    }
   }
  },
  {
   "cell_type": "code",
   "execution_count": 5,
   "outputs": [],
   "source": [
    "from collections import namedtuple\n",
    "\n",
    "Input = namedtuple(\"Input\", \"X y\")\n",
    "input = Input(X_scaled, y)"
   ],
   "metadata": {
    "collapsed": false,
    "pycharm": {
     "name": "#%%\n"
    }
   }
  },
  {
   "cell_type": "code",
   "execution_count": 18,
   "outputs": [],
   "source": [
    "def test_model(model, input: Input = input):\n",
    "    batch_size = 2\n",
    "    epochs = 2\n",
    "    X = tf.convert_to_tensor(input.X, dtype=tf.float64)\n",
    "    y = tf.convert_to_tensor(input.y, dtype=tf.int8)\n",
    "    model.fit(X, y, batch_size=batch_size, epochs=epochs, validation_split=0.1)\n",
    "    score = model.evaluate(X_scaled, y)\n",
    "    print(\"Test loss:\", score[0])\n",
    "    print(\"Test accuracy:\", score[1])"
   ],
   "metadata": {
    "collapsed": false,
    "pycharm": {
     "name": "#%%\n"
    }
   }
  },
  {
   "cell_type": "code",
   "execution_count": 12,
   "outputs": [
    {
     "name": "stdout",
     "output_type": "stream",
     "text": [
      "Activation was set to None which is not supported.\n",
      "Epoch 1/2\n",
      "9/9 [==============================] - 0s 15ms/step - loss: 5.6489 - accuracy: 0.5000 - val_loss: 7.7125 - val_accuracy: 0.5000\n",
      "Epoch 2/2\n",
      "9/9 [==============================] - 0s 5ms/step - loss: 5.6489 - accuracy: 0.5000 - val_loss: 7.7125 - val_accuracy: 0.5000\n",
      "1/1 [==============================] - 0s 93ms/step - loss: 5.8553 - accuracy: 0.5000\n",
      "Test loss: 5.855287551879883\n",
      "Test accuracy: 0.5\n"
     ]
    }
   ],
   "source": [
    "test_model(model=build_dummy_tf_classifier(input_shape=X.shape))"
   ],
   "metadata": {
    "collapsed": false,
    "pycharm": {
     "name": "#%%\n"
    }
   }
  },
  {
   "cell_type": "code",
   "execution_count": null,
   "outputs": [],
   "source": [],
   "metadata": {
    "collapsed": false,
    "pycharm": {
     "name": "#%%\n"
    }
   }
  },
  {
   "cell_type": "code",
   "execution_count": 8,
   "outputs": [
    {
     "name": "stdout",
     "output_type": "stream",
     "text": [
      "Epoch 1/2\n",
      "9/9 [==============================] - 1s 22ms/step - loss: 0.7101 - accuracy: 0.6667 - val_loss: 0.2701 - val_accuracy: 1.0000\n",
      "Epoch 2/2\n",
      "9/9 [==============================] - 0s 7ms/step - loss: 0.0017 - accuracy: 1.0000 - val_loss: 0.3061 - val_accuracy: 1.0000\n",
      "1/1 [==============================] - 0s 97ms/step - loss: 0.0306 - accuracy: 1.0000\n",
      "Test loss: 0.0306137353181839\n",
      "Test accuracy: 1.0\n"
     ]
    }
   ],
   "source": [
    "test_model(model=build_dense_model(input_shape=X.shape))"
   ],
   "metadata": {
    "collapsed": false,
    "pycharm": {
     "name": "#%%\n"
    }
   }
  },
  {
   "cell_type": "code",
   "execution_count": 13,
   "outputs": [
    {
     "name": "stdout",
     "output_type": "stream",
     "text": [
      "Model: \"model_3\"\n",
      "_________________________________________________________________\n",
      " Layer (type)                Output Shape              Param #   \n",
      "=================================================================\n",
      " input_5 (InputLayer)        [(None, 300, 23)]         0         \n",
      "                                                                 \n",
      " reshape (Reshape)           (None, 300, 23, 1)        0         \n",
      "                                                                 \n",
      " conv2d (Conv2D)             (None, 99, 23, 32)        192       \n",
      "                                                                 \n",
      " batch_normalization (BatchN  (None, 99, 23, 32)       128       \n",
      " ormalization)                                                   \n",
      "                                                                 \n",
      " re_lu (ReLU)                (None, 99, 23, 32)        0         \n",
      "                                                                 \n",
      " conv2d_1 (Conv2D)           (None, 95, 23, 32)        5152      \n",
      "                                                                 \n",
      " batch_normalization_1 (Batc  (None, 95, 23, 32)       128       \n",
      " hNormalization)                                                 \n",
      "                                                                 \n",
      " re_lu_1 (ReLU)              (None, 95, 23, 32)        0         \n",
      "                                                                 \n",
      " conv2d_2 (Conv2D)           (None, 91, 23, 32)        5152      \n",
      "                                                                 \n",
      " batch_normalization_2 (Batc  (None, 91, 23, 32)       128       \n",
      " hNormalization)                                                 \n",
      "                                                                 \n",
      " re_lu_2 (ReLU)              (None, 91, 23, 32)        0         \n",
      "                                                                 \n",
      " global_average_pooling2d (G  (None, 32)               0         \n",
      " lobalAveragePooling2D)                                          \n",
      "                                                                 \n",
      " dense_5 (Dense)             (None, 1)                 33        \n",
      "                                                                 \n",
      "=================================================================\n",
      "Total params: 10,913\n",
      "Trainable params: 10,721\n",
      "Non-trainable params: 192\n",
      "_________________________________________________________________\n",
      "Epoch 1/2\n",
      "9/9 [==============================] - 1s 31ms/step - loss: 0.7100 - accuracy: 0.4444 - val_loss: 0.7032 - val_accuracy: 0.0000e+00\n",
      "Epoch 2/2\n",
      "9/9 [==============================] - 0s 15ms/step - loss: 0.6947 - accuracy: 0.4444 - val_loss: 0.7212 - val_accuracy: 0.0000e+00\n",
      "1/1 [==============================] - 0s 172ms/step - loss: 0.6928 - accuracy: 0.5000\n",
      "Test loss: 0.6927796006202698\n",
      "Test accuracy: 0.5\n"
     ]
    }
   ],
   "source": [
    "test_model(model=build_cnn_model(input_shape=X.shape))"
   ],
   "metadata": {
    "collapsed": false,
    "pycharm": {
     "name": "#%%\n"
    }
   }
  },
  {
   "cell_type": "code",
   "execution_count": 14,
   "outputs": [
    {
     "name": "stdout",
     "output_type": "stream",
     "text": [
      "Epoch 1/2\n",
      "9/9 [==============================] - 4s 251ms/step - loss: 0.7312 - accuracy: 0.3889 - val_loss: 0.8542 - val_accuracy: 0.0000e+00\n",
      "Epoch 2/2\n",
      "9/9 [==============================] - 2s 168ms/step - loss: 0.2767 - accuracy: 1.0000 - val_loss: 1.0077 - val_accuracy: 0.0000e+00\n",
      "1/1 [==============================] - 1s 842ms/step - loss: 0.2074 - accuracy: 0.9000\n",
      "Test loss: 0.20741109549999237\n",
      "Test accuracy: 0.8999999761581421\n"
     ]
    }
   ],
   "source": [
    "test_model(model=build_lstm_model(input_shape=X.shape))"
   ],
   "metadata": {
    "collapsed": false,
    "pycharm": {
     "name": "#%%\n"
    }
   }
  },
  {
   "cell_type": "markdown",
   "source": [],
   "metadata": {
    "collapsed": false,
    "pycharm": {
     "name": "#%% md\n"
    }
   }
  }
 ],
 "metadata": {
  "kernelspec": {
   "display_name": "Python 3",
   "language": "python",
   "name": "python3"
  },
  "language_info": {
   "codemirror_mode": {
    "name": "ipython",
    "version": 2
   },
   "file_extension": ".py",
   "mimetype": "text/x-python",
   "name": "python",
   "nbconvert_exporter": "python",
   "pygments_lexer": "ipython2",
   "version": "2.7.6"
  }
 },
 "nbformat": 4,
 "nbformat_minor": 0
}