{
 "cells": [
  {
   "cell_type": "code",
   "execution_count": 2,
   "outputs": [],
   "source": [
    "from drowsiness_detection import config\n",
    "\n",
    "config.set_paths(30, 10)\n",
    "import numpy as np\n",
    "import random\n",
    "import matplotlib.pyplot as plt\n",
    "\n",
    "from drowsiness_detection.data import load_experiment_search_results\n",
    "\n",
    "plt.rcParams[\"figure.figsize\"] = 14, 7"
   ],
   "metadata": {
    "collapsed": false,
    "pycharm": {
     "name": "#%%\n"
    }
   }
  },
  {
   "cell_type": "code",
   "execution_count": 2,
   "outputs": [],
   "source": [
    "# fixed experiment params\n",
    "# EXPERIMENT_IDS = (31, 32)\n",
    "EXPERIMENT_IDS = (27,)\n"
   ],
   "metadata": {
    "collapsed": false,
    "pycharm": {
     "name": "#%%\n"
    }
   }
  },
  {
   "cell_type": "code",
   "execution_count": 3,
   "outputs": [],
   "source": [
    "search_results = load_experiment_search_results(experiment_id=27)"
   ],
   "metadata": {
    "collapsed": false,
    "pycharm": {
     "name": "#%%\n"
    }
   }
  },
  {
   "cell_type": "code",
   "execution_count": 4,
   "outputs": [
    {
     "data": {
      "text/plain": "Pipeline(steps=[('scaler',\n                 <drowsiness_detection.models.ThreeDStandardScaler object at 0x7f21aa669a00>),\n                ('classifier',\n                 <keras.wrappers.scikit_learn.KerasClassifier object at 0x7f21aa669a60>)])"
     },
     "execution_count": 4,
     "metadata": {},
     "output_type": "execute_result"
    }
   ],
   "source": [
    "search_results.estimator"
   ],
   "metadata": {
    "collapsed": false,
    "pycharm": {
     "name": "#%%\n"
    }
   }
  },
  {
   "cell_type": "code",
   "execution_count": 8,
   "outputs": [],
   "source": [
    "from drowsiness_detection.data import load_nn_data, train_test_split_by_subjects\n",
    "\n",
    "\n",
    "\n",
    "\n",
    "X_train, X_val, X_test, y_train, y_val, y_test = load_preprocessed_train_test_splits_nn(data_path=config.PATHS.WINDOW_DATA, exclude_sess_type=\"a\",num_targets=2,seed=45, test_size=0.2)\n"
   ],
   "metadata": {
    "collapsed": false,
    "pycharm": {
     "name": "#%%\n"
    }
   }
  },
  {
   "cell_type": "code",
   "execution_count": 9,
   "outputs": [
    {
     "name": "stdout",
     "output_type": "stream",
     "text": [
      "X_train shape: (20913, 300, 23), y_train shape: (20913,)\n",
      "X_test shape: (7093, 300, 23), y_test shape: (7093,)\n",
      "X_val shape: (7100, 300, 23), y_val shape: (7100,)\n"
     ]
    }
   ],
   "source": [
    "print(f\"X_train shape: {X_train.shape}, y_train shape: {y_train.shape}\")\n",
    "print(f\"X_test shape: {X_test.shape}, y_test shape: {y_test.shape}\")\n",
    "print(f\"X_val shape: {X_val.shape}, y_val shape: {y_val.shape}\")\n"
   ],
   "metadata": {
    "collapsed": false,
    "pycharm": {
     "name": "#%%\n"
    }
   }
  },
  {
   "cell_type": "markdown",
   "source": [
    "## Plot ROC Curve of best model for 10, 20 and 60 seconds data"
   ],
   "metadata": {
    "collapsed": false,
    "pycharm": {
     "name": "#%% md\n"
    }
   }
  },
  {
   "cell_type": "code",
   "execution_count": null,
   "outputs": [],
   "source": [
    "fig, ax = plt.subplots()\n",
    "\n",
    "for experiment_id in EXPERIMENT_IDS:\n",
    "    plot_roc_curve_from_log_dir(experiment_id=experiment_id, ax=ax, pos_label=1)"
   ],
   "metadata": {
    "collapsed": false,
    "pycharm": {
     "name": "#%%\n"
    }
   }
  },
  {
   "cell_type": "markdown",
   "source": [
    "### Plot learning curve of best model for 10, 20 and 60 seconds data\n"
   ],
   "metadata": {
    "collapsed": false,
    "pycharm": {
     "name": "#%% md\n"
    }
   }
  },
  {
   "cell_type": "code",
   "execution_count": null,
   "outputs": [],
   "source": [
    "% load_ext autoreload\n",
    "% autoreload 2"
   ],
   "metadata": {
    "collapsed": false,
    "pycharm": {
     "name": "#%%\n"
    }
   }
  },
  {
   "cell_type": "code",
   "execution_count": null,
   "outputs": [],
   "source": [
    "plt.rcParams[\"figure.figsize\"] = 10, 20\n",
    "\n",
    "n_estimator_options = np.logspace(2, 9, num=10, base=2)\n",
    "_, axes = plt.subplots(len(EXPERIMENT_IDS), 1)\n",
    "for experiment_id, ax in zip(EXPERIMENT_IDS, axes):\n",
    "    plot_learning_curve_from_log_dir(experiment_id=experiment_id,\n",
    "                                     n_estimator_options=n_estimator_options, ax=ax)\n"
   ],
   "metadata": {
    "collapsed": false,
    "pycharm": {
     "name": "#%%\n"
    }
   }
  },
  {
   "cell_type": "markdown",
   "source": [
    "### Plot classification report of best model for 10, 20 and 60 seconds data\n"
   ],
   "metadata": {
    "collapsed": false,
    "pycharm": {
     "name": "#%% md\n"
    }
   }
  },
  {
   "cell_type": "code",
   "execution_count": null,
   "outputs": [],
   "source": [
    "for experiment_id in EXPERIMENT_IDS:\n",
    "    exp_config, best_estimator, _ = load_experiment_objects(experiment_id=experiment_id)\n",
    "\n",
    "    window_size = exp_config[\"window_in_sec\"]\n",
    "    config.set_paths(30, window_size)\n",
    "\n",
    "    # load data\n",
    "    X_train, X_test, y_train, y_test = load_preprocessed_train_test_splits(\n",
    "        data_path=config.PATHS.WINDOW_FEATURES,\n",
    "        exclude_sess_type=session_type_mapping[exp_config[\"exclude_by\"]],\n",
    "        num_targets=exp_config[\"num_targets\"],\n",
    "        seed=exp_config[\"seed\"],\n",
    "        test_size=exp_config[\"test_size\"])\n",
    "\n",
    "    y_hat = best_estimator.predict(X_test)\n",
    "    report = classification_report(y_true=y_test, y_pred=y_hat,\n",
    "                                   target_names=label_names_dict[exp_config[\"num_targets\"]])\n",
    "    print(report)"
   ],
   "metadata": {
    "collapsed": false,
    "pycharm": {
     "name": "#%%\n"
    }
   }
  },
  {
   "cell_type": "code",
   "execution_count": null,
   "metadata": {
    "pycharm": {
     "name": "#%%\n"
    }
   },
   "outputs": [],
   "source": []
  }
 ],
 "metadata": {
  "kernelspec": {
   "display_name": "Python 3",
   "language": "python",
   "name": "python3"
  },
  "language_info": {
   "codemirror_mode": {
    "name": "ipython",
    "version": 3
   },
   "file_extension": ".py",
   "mimetype": "text/x-python",
   "name": "python",
   "nbconvert_exporter": "python",
   "pygments_lexer": "ipython3",
   "version": "3.9.7"
  }
 },
 "nbformat": 4,
 "nbformat_minor": 1
}