{
 "cells": [
  {
   "cell_type": "code",
   "execution_count": 1,
   "outputs": [],
   "source": [
    "\n",
    "\n",
    "import numpy as np\n",
    "import tensorflow as tf\n",
    "\n",
    "from drowsiness_detection import config\n",
    "from drowsiness_detection.models import build_dummy_tf_classifier, ThreeDStandardScaler,build_dense_model, build_lstm_model, build_cnn_model, step_decay\n",
    "import tensorflow.keras as keras\n"
   ],
   "metadata": {
    "collapsed": false,
    "pycharm": {
     "name": "#%%\n"
    }
   }
  },
  {
   "cell_type": "code",
   "execution_count": 2,
   "outputs": [
    {
     "data": {
      "text/plain": "PosixPath('/home/tim/Windows/Windows_30_Hz/WindowData/10_sec')"
     },
     "execution_count": 2,
     "metadata": {},
     "output_type": "execute_result"
    }
   ],
   "source": [
    "window_size = 10\n",
    "recording_frequency = 30\n",
    "exclude_by = \"a\"\n",
    "\n",
    "config.set_paths(recording_frequency, window_size)\n",
    "config.PATHS.WINDOW_DATA"
   ],
   "metadata": {
    "collapsed": false,
    "pycharm": {
     "name": "#%%\n"
    }
   }
  },
  {
   "cell_type": "code",
   "execution_count": 3,
   "outputs": [
    {
     "name": "stdout",
     "output_type": "stream",
     "text": [
      "(20, 300, 7) (20,)\n"
     ]
    }
   ],
   "source": [
    "num_samples = 20\n",
    "X = np.random.random(num_samples * 300 * 7).reshape((num_samples, 300, 7))\n",
    "y = np.concatenate((np.zeros((num_samples // 2)), np.ones((num_samples // 2))))\n",
    "print(X.shape, y.shape)"
   ],
   "metadata": {
    "collapsed": false,
    "pycharm": {
     "name": "#%%\n"
    }
   }
  },
  {
   "cell_type": "code",
   "execution_count": 4,
   "outputs": [
    {
     "name": "stdout",
     "output_type": "stream",
     "text": [
      "(20, 300, 7)\n"
     ]
    }
   ],
   "source": [
    "scaler = ThreeDStandardScaler()\n",
    "X_scaled = scaler.fit_transform(X, y)\n",
    "print(X_scaled.shape)"
   ],
   "metadata": {
    "collapsed": false,
    "pycharm": {
     "name": "#%%\n"
    }
   }
  },
  {
   "cell_type": "code",
   "execution_count": 5,
   "outputs": [],
   "source": [
    "from collections import namedtuple\n",
    "\n",
    "Input = namedtuple(\"Input\", \"X y\")\n",
    "input = Input(X_scaled, y)"
   ],
   "metadata": {
    "collapsed": false,
    "pycharm": {
     "name": "#%%\n"
    }
   }
  },
  {
   "cell_type": "code",
   "execution_count": 6,
   "outputs": [],
   "source": [
    "def test_model(model, input: Input = input):\n",
    "    batch_size = 2\n",
    "    epochs = 2\n",
    "    X = tf.convert_to_tensor(input.X, dtype=tf.float64)\n",
    "    y = tf.convert_to_tensor(input.y, dtype=tf.int8)\n",
    "\n",
    "    lrate = keras.callbacks.LearningRateScheduler(step_decay)\n",
    "    callbacks_list = [lrate]\n",
    "\n",
    "    model.fit(X, y, batch_size=batch_size, epochs=epochs, validation_split=0.1, callbacks=callbacks_list)\n",
    "    score = model.evaluate(X_scaled, y)\n",
    "    print(\"Test loss:\", score[0])\n",
    "    print(\"Test accuracy:\", score[1])"
   ],
   "metadata": {
    "collapsed": false,
    "pycharm": {
     "name": "#%%\n"
    }
   }
  },
  {
   "cell_type": "code",
   "execution_count": 7,
   "outputs": [
    {
     "name": "stdout",
     "output_type": "stream",
     "text": [
      "Activation was set to None which is not supported.\n",
      "Epoch 1/2\n",
      "9/9 [==============================] - 0s 16ms/step - loss: 6.1416 - accuracy: 0.5556 - val_loss: 15.4249 - val_accuracy: 0.0000e+00\n",
      "Epoch 2/2\n",
      "9/9 [==============================] - 0s 2ms/step - loss: 6.1416 - accuracy: 0.5556 - val_loss: 15.4249 - val_accuracy: 0.0000e+00\n",
      "1/1 [==============================] - 0s 65ms/step - loss: 7.0699 - accuracy: 0.5000\n",
      "Test loss: 7.0698957443237305\n",
      "Test accuracy: 0.5\n"
     ]
    }
   ],
   "source": [
    "test_model(model=build_dummy_tf_classifier(input_shape=X.shape))"
   ],
   "metadata": {
    "collapsed": false,
    "pycharm": {
     "name": "#%%\n"
    }
   }
  },
  {
   "cell_type": "code",
   "execution_count": 8,
   "outputs": [
    {
     "name": "stdout",
     "output_type": "stream",
     "text": [
      "Model: \"sequential\"\n",
      "_________________________________________________________________\n",
      "Layer (type)                 Output Shape              Param #   \n",
      "=================================================================\n",
      "flatten_1 (Flatten)          (None, 2100)              0         \n",
      "_________________________________________________________________\n",
      "dense_1 (Dense)              (None, 64)                134464    \n",
      "_________________________________________________________________\n",
      "dense_2 (Dense)              (None, 1)                 65        \n",
      "=================================================================\n",
      "Total params: 134,529\n",
      "Trainable params: 134,529\n",
      "Non-trainable params: 0\n",
      "_________________________________________________________________\n",
      "None\n",
      "Epoch 1/2\n",
      "9/9 [==============================] - 0s 11ms/step - loss: 1.7747 - accuracy: 0.4444 - val_loss: 1.1392 - val_accuracy: 1.0000\n",
      "Epoch 2/2\n",
      "9/9 [==============================] - 0s 2ms/step - loss: 1.1858e-04 - accuracy: 0.4444 - val_loss: 1.7335 - val_accuracy: 1.0000\n",
      "1/1 [==============================] - 0s 65ms/step - loss: 0.1734 - accuracy: 0.5000\n",
      "Test loss: 0.17339317500591278\n",
      "Test accuracy: 0.5\n"
     ]
    }
   ],
   "source": [
    "test_model(model=build_dense_model(input_shape=X.shape))"
   ],
   "metadata": {
    "collapsed": false,
    "pycharm": {
     "name": "#%%\n"
    }
   }
  },
  {
   "cell_type": "code",
   "execution_count": 9,
   "outputs": [
    {
     "name": "stdout",
     "output_type": "stream",
     "text": [
      "Model: \"model_1\"\n",
      "_________________________________________________________________\n",
      "Layer (type)                 Output Shape              Param #   \n",
      "=================================================================\n",
      "input_3 (InputLayer)         [(None, 300, 7)]          0         \n",
      "_________________________________________________________________\n",
      "conv1d (Conv1D)              (None, 300, 32)           1152      \n",
      "_________________________________________________________________\n",
      "batch_normalization (BatchNo (None, 300, 32)           128       \n",
      "_________________________________________________________________\n",
      "re_lu (ReLU)                 (None, 300, 32)           0         \n",
      "_________________________________________________________________\n",
      "conv1d_1 (Conv1D)            (None, 300, 32)           5152      \n",
      "_________________________________________________________________\n",
      "batch_normalization_1 (Batch (None, 300, 32)           128       \n",
      "_________________________________________________________________\n",
      "re_lu_1 (ReLU)               (None, 300, 32)           0         \n",
      "_________________________________________________________________\n",
      "global_max_pooling1d (Global (None, 32)                0         \n",
      "_________________________________________________________________\n",
      "dense_3 (Dense)              (None, 32)                1056      \n",
      "_________________________________________________________________\n",
      "dropout (Dropout)            (None, 32)                0         \n",
      "_________________________________________________________________\n",
      "dense_4 (Dense)              (None, 1)                 33        \n",
      "=================================================================\n",
      "Total params: 7,649\n",
      "Trainable params: 7,521\n",
      "Non-trainable params: 128\n",
      "_________________________________________________________________\n",
      "None\n",
      "Epoch 1/2\n",
      "1/9 [==>...........................] - ETA: 4s - loss: 1.3436 - accuracy: 0.5000WARNING:tensorflow:5 out of the last 7 calls to <function Model.make_test_function.<locals>.test_function at 0x7f15781da5e0> triggered tf.function retracing. Tracing is expensive and the excessive number of tracings could be due to (1) creating @tf.function repeatedly in a loop, (2) passing tensors with different shapes, (3) passing Python objects instead of tensors. For (1), please define your @tf.function outside of the loop. For (2), @tf.function has experimental_relax_shapes=True option that relaxes argument shapes that can avoid unnecessary retracing. For (3), please refer to https://www.tensorflow.org/guide/function#controlling_retracing and https://www.tensorflow.org/api_docs/python/tf/function for  more details.\n",
      "9/9 [==============================] - 1s 17ms/step - loss: 1.5521 - accuracy: 0.5556 - val_loss: 2.0252 - val_accuracy: 0.0000e+00\n",
      "Epoch 2/2\n",
      "9/9 [==============================] - 0s 4ms/step - loss: 1.1069 - accuracy: 0.6111 - val_loss: 0.3237 - val_accuracy: 1.0000\n",
      "WARNING:tensorflow:6 out of the last 9 calls to <function Model.make_test_function.<locals>.test_function at 0x7f15781da5e0> triggered tf.function retracing. Tracing is expensive and the excessive number of tracings could be due to (1) creating @tf.function repeatedly in a loop, (2) passing tensors with different shapes, (3) passing Python objects instead of tensors. For (1), please define your @tf.function outside of the loop. For (2), @tf.function has experimental_relax_shapes=True option that relaxes argument shapes that can avoid unnecessary retracing. For (3), please refer to https://www.tensorflow.org/guide/function#controlling_retracing and https://www.tensorflow.org/api_docs/python/tf/function for  more details.\n",
      "1/1 [==============================] - 0s 106ms/step - loss: 0.6451 - accuracy: 0.5000\n",
      "Test loss: 0.64506995677948\n",
      "Test accuracy: 0.5\n"
     ]
    }
   ],
   "source": [
    "test_model(model=build_cnn_model(input_shape=X.shape, pooling=\"max\"))"
   ],
   "metadata": {
    "collapsed": false,
    "pycharm": {
     "name": "#%%\n"
    }
   }
  },
  {
   "cell_type": "code",
   "execution_count": 10,
   "outputs": [
    {
     "name": "stdout",
     "output_type": "stream",
     "text": [
      "Model: \"model_2\"\n",
      "_________________________________________________________________\n",
      "Layer (type)                 Output Shape              Param #   \n",
      "=================================================================\n",
      "input_4 (InputLayer)         [(None, 300, 7)]          0         \n",
      "_________________________________________________________________\n",
      "lstm (LSTM)                  (None, 300, 128)          69632     \n",
      "_________________________________________________________________\n",
      "lstm_1 (LSTM)                (None, 128)               131584    \n",
      "_________________________________________________________________\n",
      "flatten_2 (Flatten)          (None, 128)               0         \n",
      "_________________________________________________________________\n",
      "dropout_1 (Dropout)          (None, 128)               0         \n",
      "_________________________________________________________________\n",
      "dense_5 (Dense)              (None, 1)                 129       \n",
      "=================================================================\n",
      "Total params: 201,345\n",
      "Trainable params: 201,345\n",
      "Non-trainable params: 0\n",
      "_________________________________________________________________\n",
      "None\n",
      "Epoch 1/2\n",
      "9/9 [==============================] - 4s 243ms/step - loss: 1.0189 - accuracy: 0.4444 - val_loss: 0.3565 - val_accuracy: 1.0000\n",
      "Epoch 2/2\n",
      "9/9 [==============================] - 2s 194ms/step - loss: 0.7918 - accuracy: 0.4444 - val_loss: 0.4411 - val_accuracy: 1.0000\n",
      "1/1 [==============================] - 1s 641ms/step - loss: 1.1200 - accuracy: 0.4500\n",
      "Test loss: 1.120003342628479\n",
      "Test accuracy: 0.44999998807907104\n"
     ]
    }
   ],
   "source": [
    "test_model(model=build_lstm_model(input_shape=X.shape))"
   ],
   "metadata": {
    "collapsed": false,
    "pycharm": {
     "name": "#%%\n"
    }
   }
  },
  {
   "cell_type": "markdown",
   "source": [
    "use real data"
   ],
   "metadata": {
    "collapsed": false,
    "pycharm": {
     "name": "#%% md\n"
    }
   }
  },
  {
   "cell_type": "code",
   "execution_count": 10,
   "outputs": [],
   "source": [],
   "metadata": {
    "collapsed": false,
    "pycharm": {
     "name": "#%%\n"
    }
   }
  },
  {
   "cell_type": "markdown",
   "source": [],
   "metadata": {
    "collapsed": false,
    "pycharm": {
     "name": "#%% md\n"
    }
   }
  }
 ],
 "metadata": {
  "kernelspec": {
   "display_name": "Python 3",
   "language": "python",
   "name": "python3"
  },
  "language_info": {
   "codemirror_mode": {
    "name": "ipython",
    "version": 2
   },
   "file_extension": ".py",
   "mimetype": "text/x-python",
   "name": "python",
   "nbconvert_exporter": "python",
   "pygments_lexer": "ipython2",
   "version": "2.7.6"
  }
 },
 "nbformat": 4,
 "nbformat_minor": 0
}