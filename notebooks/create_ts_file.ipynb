{
 "cells": [
  {
   "cell_type": "code",
   "execution_count": 15,
   "outputs": [],
   "source": [
    "from sktime.datasets import load_from_tsfile_to_dataframe\n",
    "import numpy as np\n",
    "\n",
    "import numpy as np\n",
    "from sklearn.linear_model import RidgeClassifier, RidgeClassifierCV\n",
    "from sklearn.pipeline import Pipeline\n",
    "from sktime.transformations.panel.rocket import MiniRocketMultivariate\n",
    "\n",
    "from drowsiness_detection import config\n",
    "from drowsiness_detection.models import ThreeDStandardScaler\n",
    "from drowsiness_detection.run_grid_search_experiment import load_experiment_data\n",
    "from sklearn.model_selection import GridSearchCV\n",
    "from sklearn.model_selection import PredefinedSplit\n",
    "\n",
    "config.set_paths(30, 10)\n",
    "\n"
   ],
   "metadata": {
    "collapsed": false,
    "pycharm": {
     "name": "#%%\n"
    }
   }
  },
  {
   "cell_type": "code",
   "execution_count": 16,
   "outputs": [
    {
     "name": "stdout",
     "output_type": "stream",
     "text": [
      "X_train shape: (28012, 300, 7), y_train shape: (28012,)\n",
      "X_test shape: (7094, 300, 7), y_test shape: (7094,)\n"
     ]
    }
   ],
   "source": [
    "# load data\n",
    "X_train, X_test, y_train, y_test, cv_splits = load_experiment_data(\n",
    "    exclude_by=\"a\",\n",
    "    num_targets=2,\n",
    "    seed=45,\n",
    "    test_size=.2,\n",
    "    split_by_subjects=True,\n",
    "    use_dummy_data=False,\n",
    "    nn_experiment=True,\n",
    "    feature_col_indices=(5, 8, 9, 14, 15, 16, 19),\n",
    "    model_name=\"mvts_transformer\")"
   ],
   "metadata": {
    "collapsed": false,
    "pycharm": {
     "name": "#%%\n"
    }
   }
  },
  {
   "cell_type": "code",
   "execution_count": 46,
   "outputs": [],
   "source": [
    "X_val = X_train[cv_splits == 1]\n",
    "X_train = X_train[cv_splits == -1]\n",
    "y_val = y_train[cv_splits == 1]\n",
    "y_train = y_train[cv_splits==-1]\n"
   ],
   "metadata": {
    "collapsed": false,
    "pycharm": {
     "name": "#%%\n"
    }
   }
  },
  {
   "cell_type": "code",
   "execution_count": 17,
   "outputs": [],
   "source": [
    "header = \"\"\"\n",
    "@problemName drowsiness-detection\n",
    "@timeStamps false\n",
    "@univariate false\n",
    "@targetlabel true 0 1\n",
    "@data\n",
    "\n",
    "\"\"\"\n",
    "def array_to_ts_file(data, labels, name):\n",
    "    with open(f\"{config.SOURCES_ROOT_PATH.parent}/data/ts_files/drowsiness_{name}.ts\", \"w\") as fp:\n",
    "        fp.write(header)\n",
    "        for i in range(data.shape[0]):\n",
    "            sample = data[i]\n",
    "            np.savetxt(fp, sample.T, fmt='%.18f', delimiter=\",\", newline=\":\")\n",
    "            fp.write(str(labels[i]))\n",
    "            fp.write(\"\\n\")"
   ],
   "metadata": {
    "collapsed": false,
    "pycharm": {
     "name": "#%%\n"
    }
   }
  },
  {
   "cell_type": "code",
   "execution_count": 18,
   "outputs": [
    {
     "name": "stdout",
     "output_type": "stream",
     "text": [
      "CPU times: user 46.3 s, sys: 3.12 s, total: 49.4 s\n",
      "Wall time: 50.9 s\n"
     ]
    }
   ],
   "source": [
    "%%time\n",
    "array_to_ts_file(X_train, y_train, \"TRAIN\")\n",
    "array_to_ts_file(X_test, y_test, \"TEST\")\n",
    "\n"
   ],
   "metadata": {
    "collapsed": false,
    "pycharm": {
     "name": "#%%\n"
    }
   }
  },
  {
   "cell_type": "code",
   "execution_count": 48,
   "outputs": [],
   "source": [
    "array_to_ts_file(X_val, y_val, \"VAL\")\n"
   ],
   "metadata": {
    "collapsed": false,
    "pycharm": {
     "name": "#%%\n"
    }
   }
  },
  {
   "cell_type": "code",
   "execution_count": 26,
   "outputs": [],
   "source": [
    "df, labels = load_from_tsfile_to_dataframe(\"drowsiness_TRAIN.ts\", return_separate_X_and_y=True)\n"
   ],
   "metadata": {
    "collapsed": false,
    "pycharm": {
     "name": "#%%\n"
    }
   }
  },
  {
   "cell_type": "code",
   "execution_count": 29,
   "outputs": [
    {
     "data": {
      "text/plain": "                                               dim_0  \\\n0  0      0.0\n1      0.0\n2      0.0\n3      0.0\n4 ...   \n1  0      0.0\n1      0.0\n2      0.0\n3      0.0\n4 ...   \n2  0      0.0\n1      0.0\n2      0.0\n3      0.0\n4 ...   \n3  0      0.0\n1      0.0\n2      0.0\n3      0.0\n4 ...   \n4  0      0.0\n1      0.0\n2      0.0\n3      0.0\n4 ...   \n\n                                               dim_1  \\\n0  0       0.000000\n1     -15.008540\n2     -11.25...   \n1  0       7.504267\n1      18.760635\n2      12.50...   \n2  0       7.502229\n1      -5.001406\n2       7.50...   \n3  0       6.252714\n1       0.000000\n2      22.51...   \n4  0     -12.507121\n1     -10.005696\n2       7.50...   \n\n                                               dim_2  \\\n0  0       0.000000\n1       8.697372\n2       1.24...   \n1  0     -16.149847\n1       7.453803\n2       7.45...   \n2  0      -2.484224\n1       4.968349\n2       4.96...   \n3  0     -26.090376\n1     -24.848209\n2     -17.39...   \n4  0     -17.379965\n1     -16.138313\n2     -19.86...   \n\n                                               dim_3  \\\n0  0      643.000000\n1      640.200012\n2      641...   \n1  0      641.200012\n1      643.299988\n2      643...   \n2  0      601.799988\n1      601.299988\n2      603...   \n3  0      663.599976\n1      664.299988\n2      662...   \n4  0      638.400024\n1      640.099976\n2      639...   \n\n                                               dim_4  \\\n0  0      511.899994\n1      513.700012\n2      513...   \n1  0      540.599976\n1      538.599976\n2      538...   \n2  0      471.600006\n1      470.600006\n2      469...   \n3  0      493.600006\n1      492.399994\n2      495...   \n4  0      444.200012\n1      441.899994\n2      447...   \n\n                                               dim_5  \\\n0  0      0.429663\n1      0.426461\n2      0.42437...   \n1  0      0.396403\n1      0.391243\n2      0.40187...   \n2  0      0.353105\n1      0.352039\n2      0.35167...   \n3  0      0.336619\n1      0.335555\n2      0.32910...   \n4  0      0.323776\n1      0.324087\n2      0.32386...   \n\n                                               dim_6  \n0  0      0.0\n1      0.0\n2      0.0\n3      0.0\n4 ...  \n1  0      0.0\n1      0.0\n2      0.0\n3      0.0\n4 ...  \n2  0      0.0\n1      0.0\n2      0.0\n3      0.0\n4 ...  \n3  0      0.0\n1      0.0\n2      0.0\n3      0.0\n4 ...  \n4  0      0.0\n1      0.0\n2      0.0\n3      0.0\n4 ...  ",
      "text/html": "<div>\n<style scoped>\n    .dataframe tbody tr th:only-of-type {\n        vertical-align: middle;\n    }\n\n    .dataframe tbody tr th {\n        vertical-align: top;\n    }\n\n    .dataframe thead th {\n        text-align: right;\n    }\n</style>\n<table border=\"1\" class=\"dataframe\">\n  <thead>\n    <tr style=\"text-align: right;\">\n      <th></th>\n      <th>dim_0</th>\n      <th>dim_1</th>\n      <th>dim_2</th>\n      <th>dim_3</th>\n      <th>dim_4</th>\n      <th>dim_5</th>\n      <th>dim_6</th>\n    </tr>\n  </thead>\n  <tbody>\n    <tr>\n      <th>0</th>\n      <td>0      0.0\n1      0.0\n2      0.0\n3      0.0\n4 ...</td>\n      <td>0       0.000000\n1     -15.008540\n2     -11.25...</td>\n      <td>0       0.000000\n1       8.697372\n2       1.24...</td>\n      <td>0      643.000000\n1      640.200012\n2      641...</td>\n      <td>0      511.899994\n1      513.700012\n2      513...</td>\n      <td>0      0.429663\n1      0.426461\n2      0.42437...</td>\n      <td>0      0.0\n1      0.0\n2      0.0\n3      0.0\n4 ...</td>\n    </tr>\n    <tr>\n      <th>1</th>\n      <td>0      0.0\n1      0.0\n2      0.0\n3      0.0\n4 ...</td>\n      <td>0       7.504267\n1      18.760635\n2      12.50...</td>\n      <td>0     -16.149847\n1       7.453803\n2       7.45...</td>\n      <td>0      641.200012\n1      643.299988\n2      643...</td>\n      <td>0      540.599976\n1      538.599976\n2      538...</td>\n      <td>0      0.396403\n1      0.391243\n2      0.40187...</td>\n      <td>0      0.0\n1      0.0\n2      0.0\n3      0.0\n4 ...</td>\n    </tr>\n    <tr>\n      <th>2</th>\n      <td>0      0.0\n1      0.0\n2      0.0\n3      0.0\n4 ...</td>\n      <td>0       7.502229\n1      -5.001406\n2       7.50...</td>\n      <td>0      -2.484224\n1       4.968349\n2       4.96...</td>\n      <td>0      601.799988\n1      601.299988\n2      603...</td>\n      <td>0      471.600006\n1      470.600006\n2      469...</td>\n      <td>0      0.353105\n1      0.352039\n2      0.35167...</td>\n      <td>0      0.0\n1      0.0\n2      0.0\n3      0.0\n4 ...</td>\n    </tr>\n    <tr>\n      <th>3</th>\n      <td>0      0.0\n1      0.0\n2      0.0\n3      0.0\n4 ...</td>\n      <td>0       6.252714\n1       0.000000\n2      22.51...</td>\n      <td>0     -26.090376\n1     -24.848209\n2     -17.39...</td>\n      <td>0      663.599976\n1      664.299988\n2      662...</td>\n      <td>0      493.600006\n1      492.399994\n2      495...</td>\n      <td>0      0.336619\n1      0.335555\n2      0.32910...</td>\n      <td>0      0.0\n1      0.0\n2      0.0\n3      0.0\n4 ...</td>\n    </tr>\n    <tr>\n      <th>4</th>\n      <td>0      0.0\n1      0.0\n2      0.0\n3      0.0\n4 ...</td>\n      <td>0     -12.507121\n1     -10.005696\n2       7.50...</td>\n      <td>0     -17.379965\n1     -16.138313\n2     -19.86...</td>\n      <td>0      638.400024\n1      640.099976\n2      639...</td>\n      <td>0      444.200012\n1      441.899994\n2      447...</td>\n      <td>0      0.323776\n1      0.324087\n2      0.32386...</td>\n      <td>0      0.0\n1      0.0\n2      0.0\n3      0.0\n4 ...</td>\n    </tr>\n  </tbody>\n</table>\n</div>"
     },
     "execution_count": 29,
     "metadata": {},
     "output_type": "execute_result"
    }
   ],
   "source": [
    "df.head()"
   ],
   "metadata": {
    "collapsed": false,
    "pycharm": {
     "name": "#%%\n"
    }
   }
  },
  {
   "cell_type": "code",
   "execution_count": 33,
   "outputs": [
    {
     "data": {
      "text/plain": "(20563,)"
     },
     "execution_count": 33,
     "metadata": {},
     "output_type": "execute_result"
    }
   ],
   "source": [
    "labels.shape\n"
   ],
   "metadata": {
    "collapsed": false,
    "pycharm": {
     "name": "#%%\n"
    }
   }
  },
  {
   "cell_type": "code",
   "execution_count": 50,
   "outputs": [],
   "source": [
    "from mvts_transformer.src.datasets.utils import load_from_tsfile_to_dataframe\n"
   ],
   "metadata": {
    "collapsed": false,
    "pycharm": {
     "name": "#%%\n"
    }
   }
  },
  {
   "cell_type": "code",
   "execution_count": 54,
   "outputs": [
    {
     "name": "stderr",
     "output_type": "stream",
     "text": [
      "8it [04:10, 31.36s/it]\n"
     ]
    },
    {
     "ename": "KeyboardInterrupt",
     "evalue": "",
     "output_type": "error",
     "traceback": [
      "\u001B[0;31m---------------------------------------------------------------------------\u001B[0m",
      "\u001B[0;31mKeyboardInterrupt\u001B[0m                         Traceback (most recent call last)",
      "Input \u001B[0;32mIn [54]\u001B[0m, in \u001B[0;36m<cell line: 1>\u001B[0;34m()\u001B[0m\n\u001B[0;32m----> 1\u001B[0m df, labels \u001B[38;5;241m=\u001B[39m \u001B[43mload_from_tsfile_to_dataframe\u001B[49m\u001B[43m(\u001B[49m\u001B[38;5;124;43mf\u001B[39;49m\u001B[38;5;124;43m\"\u001B[39;49m\u001B[38;5;132;43;01m{\u001B[39;49;00m\u001B[43mconfig\u001B[49m\u001B[38;5;241;43m.\u001B[39;49m\u001B[43mSOURCES_ROOT_PATH\u001B[49m\u001B[38;5;241;43m.\u001B[39;49m\u001B[43mparent\u001B[49m\u001B[38;5;132;43;01m}\u001B[39;49;00m\u001B[38;5;124;43m/data/ts_files/drowsiness_VAL.ts\u001B[39;49m\u001B[38;5;124;43m\"\u001B[39;49m\u001B[43m,\u001B[49m\u001B[43m \u001B[49m\u001B[43mreturn_separate_X_and_y\u001B[49m\u001B[38;5;241;43m=\u001B[39;49m\u001B[38;5;28;43;01mTrue\u001B[39;49;00m\u001B[43m)\u001B[49m\n",
      "File \u001B[0;32m~/IM/mvts_transformer/src/datasets/utils.py:99\u001B[0m, in \u001B[0;36mload_from_tsfile_to_dataframe\u001B[0;34m(full_file_path_and_name, return_separate_X_and_y, replace_missing_vals_with)\u001B[0m\n\u001B[1;32m     96\u001B[0m \u001B[38;5;66;03m# Parse the file\u001B[39;00m\n\u001B[1;32m     97\u001B[0m \u001B[38;5;66;03m# print(full_file_path_and_name)\u001B[39;00m\n\u001B[1;32m     98\u001B[0m \u001B[38;5;28;01mwith\u001B[39;00m \u001B[38;5;28mopen\u001B[39m(full_file_path_and_name, \u001B[38;5;124m'\u001B[39m\u001B[38;5;124mr\u001B[39m\u001B[38;5;124m'\u001B[39m, encoding\u001B[38;5;241m=\u001B[39m\u001B[38;5;124m'\u001B[39m\u001B[38;5;124mutf-8\u001B[39m\u001B[38;5;124m'\u001B[39m) \u001B[38;5;28;01mas\u001B[39;00m file:\n\u001B[0;32m---> 99\u001B[0m     \u001B[38;5;28;01mfor\u001B[39;00m line \u001B[38;5;129;01min\u001B[39;00m tqdm(file):\n\u001B[1;32m    100\u001B[0m         \u001B[38;5;66;03m# print(\".\", end='')\u001B[39;00m\n\u001B[1;32m    101\u001B[0m         \u001B[38;5;66;03m# Strip white space from start/end of line and change to lowercase for use below\u001B[39;00m\n\u001B[1;32m    102\u001B[0m         line \u001B[38;5;241m=\u001B[39m line\u001B[38;5;241m.\u001B[39mstrip()\u001B[38;5;241m.\u001B[39mlower()\n\u001B[1;32m    103\u001B[0m         \u001B[38;5;66;03m# Empty lines are valid at any point in a file\u001B[39;00m\n",
      "File \u001B[0;32m~/IM/mvts_transformer/src/datasets/utils.py:99\u001B[0m, in \u001B[0;36mload_from_tsfile_to_dataframe\u001B[0;34m(full_file_path_and_name, return_separate_X_and_y, replace_missing_vals_with)\u001B[0m\n\u001B[1;32m     96\u001B[0m \u001B[38;5;66;03m# Parse the file\u001B[39;00m\n\u001B[1;32m     97\u001B[0m \u001B[38;5;66;03m# print(full_file_path_and_name)\u001B[39;00m\n\u001B[1;32m     98\u001B[0m \u001B[38;5;28;01mwith\u001B[39;00m \u001B[38;5;28mopen\u001B[39m(full_file_path_and_name, \u001B[38;5;124m'\u001B[39m\u001B[38;5;124mr\u001B[39m\u001B[38;5;124m'\u001B[39m, encoding\u001B[38;5;241m=\u001B[39m\u001B[38;5;124m'\u001B[39m\u001B[38;5;124mutf-8\u001B[39m\u001B[38;5;124m'\u001B[39m) \u001B[38;5;28;01mas\u001B[39;00m file:\n\u001B[0;32m---> 99\u001B[0m     \u001B[38;5;28;01mfor\u001B[39;00m line \u001B[38;5;129;01min\u001B[39;00m tqdm(file):\n\u001B[1;32m    100\u001B[0m         \u001B[38;5;66;03m# print(\".\", end='')\u001B[39;00m\n\u001B[1;32m    101\u001B[0m         \u001B[38;5;66;03m# Strip white space from start/end of line and change to lowercase for use below\u001B[39;00m\n\u001B[1;32m    102\u001B[0m         line \u001B[38;5;241m=\u001B[39m line\u001B[38;5;241m.\u001B[39mstrip()\u001B[38;5;241m.\u001B[39mlower()\n\u001B[1;32m    103\u001B[0m         \u001B[38;5;66;03m# Empty lines are valid at any point in a file\u001B[39;00m\n",
      "File \u001B[0;32m/opt/pycharm-2021.2.2/plugins/python/helpers/pydev/_pydevd_bundle/pydevd_frame.py:884\u001B[0m, in \u001B[0;36mPyDBFrame.trace_dispatch\u001B[0;34m(self, frame, event, arg)\u001B[0m\n\u001B[1;32m    882\u001B[0m \u001B[38;5;28;01mif\u001B[39;00m is_line:\n\u001B[1;32m    883\u001B[0m     \u001B[38;5;28mself\u001B[39m\u001B[38;5;241m.\u001B[39mset_suspend(thread, step_cmd)\n\u001B[0;32m--> 884\u001B[0m     \u001B[38;5;28;43mself\u001B[39;49m\u001B[38;5;241;43m.\u001B[39;49m\u001B[43mdo_wait_suspend\u001B[49m\u001B[43m(\u001B[49m\u001B[43mthread\u001B[49m\u001B[43m,\u001B[49m\u001B[43m \u001B[49m\u001B[43mframe\u001B[49m\u001B[43m,\u001B[49m\u001B[43m \u001B[49m\u001B[43mevent\u001B[49m\u001B[43m,\u001B[49m\u001B[43m \u001B[49m\u001B[43marg\u001B[49m\u001B[43m)\u001B[49m\n\u001B[1;32m    885\u001B[0m \u001B[38;5;28;01melse\u001B[39;00m:  \u001B[38;5;66;03m# return event\u001B[39;00m\n\u001B[1;32m    886\u001B[0m     back \u001B[38;5;241m=\u001B[39m frame\u001B[38;5;241m.\u001B[39mf_back\n",
      "File \u001B[0;32m/opt/pycharm-2021.2.2/plugins/python/helpers/pydev/_pydevd_bundle/pydevd_frame.py:144\u001B[0m, in \u001B[0;36mPyDBFrame.do_wait_suspend\u001B[0;34m(self, *args, **kwargs)\u001B[0m\n\u001B[1;32m    143\u001B[0m \u001B[38;5;28;01mdef\u001B[39;00m \u001B[38;5;21mdo_wait_suspend\u001B[39m(\u001B[38;5;28mself\u001B[39m, \u001B[38;5;241m*\u001B[39margs, \u001B[38;5;241m*\u001B[39m\u001B[38;5;241m*\u001B[39mkwargs):\n\u001B[0;32m--> 144\u001B[0m     \u001B[38;5;28;43mself\u001B[39;49m\u001B[38;5;241;43m.\u001B[39;49m\u001B[43m_args\u001B[49m\u001B[43m[\u001B[49m\u001B[38;5;241;43m0\u001B[39;49m\u001B[43m]\u001B[49m\u001B[38;5;241;43m.\u001B[39;49m\u001B[43mdo_wait_suspend\u001B[49m\u001B[43m(\u001B[49m\u001B[38;5;241;43m*\u001B[39;49m\u001B[43margs\u001B[49m\u001B[43m,\u001B[49m\u001B[43m \u001B[49m\u001B[38;5;241;43m*\u001B[39;49m\u001B[38;5;241;43m*\u001B[39;49m\u001B[43mkwargs\u001B[49m\u001B[43m)\u001B[49m\n",
      "File \u001B[0;32m/opt/pycharm-2021.2.2/plugins/python/helpers/pydev/pydevd.py:1155\u001B[0m, in \u001B[0;36mPyDB.do_wait_suspend\u001B[0;34m(self, thread, frame, event, arg, send_suspend_message, is_unhandled_exception)\u001B[0m\n\u001B[1;32m   1152\u001B[0m         from_this_thread\u001B[38;5;241m.\u001B[39mappend(frame_id)\n\u001B[1;32m   1154\u001B[0m \u001B[38;5;28;01mwith\u001B[39;00m \u001B[38;5;28mself\u001B[39m\u001B[38;5;241m.\u001B[39m_threads_suspended_single_notification\u001B[38;5;241m.\u001B[39mnotify_thread_suspended(thread_id, stop_reason):\n\u001B[0;32m-> 1155\u001B[0m     \u001B[38;5;28;43mself\u001B[39;49m\u001B[38;5;241;43m.\u001B[39;49m\u001B[43m_do_wait_suspend\u001B[49m\u001B[43m(\u001B[49m\u001B[43mthread\u001B[49m\u001B[43m,\u001B[49m\u001B[43m \u001B[49m\u001B[43mframe\u001B[49m\u001B[43m,\u001B[49m\u001B[43m \u001B[49m\u001B[43mevent\u001B[49m\u001B[43m,\u001B[49m\u001B[43m \u001B[49m\u001B[43marg\u001B[49m\u001B[43m,\u001B[49m\u001B[43m \u001B[49m\u001B[43msuspend_type\u001B[49m\u001B[43m,\u001B[49m\u001B[43m \u001B[49m\u001B[43mfrom_this_thread\u001B[49m\u001B[43m)\u001B[49m\n",
      "File \u001B[0;32m/opt/pycharm-2021.2.2/plugins/python/helpers/pydev/pydevd.py:1170\u001B[0m, in \u001B[0;36mPyDB._do_wait_suspend\u001B[0;34m(self, thread, frame, event, arg, suspend_type, from_this_thread)\u001B[0m\n\u001B[1;32m   1167\u001B[0m             \u001B[38;5;28mself\u001B[39m\u001B[38;5;241m.\u001B[39m_call_mpl_hook()\n\u001B[1;32m   1169\u001B[0m         \u001B[38;5;28mself\u001B[39m\u001B[38;5;241m.\u001B[39mprocess_internal_commands()\n\u001B[0;32m-> 1170\u001B[0m         \u001B[43mtime\u001B[49m\u001B[38;5;241;43m.\u001B[39;49m\u001B[43msleep\u001B[49m\u001B[43m(\u001B[49m\u001B[38;5;241;43m0.01\u001B[39;49m\u001B[43m)\u001B[49m\n\u001B[1;32m   1172\u001B[0m \u001B[38;5;28mself\u001B[39m\u001B[38;5;241m.\u001B[39mcancel_async_evaluation(get_current_thread_id(thread), \u001B[38;5;28mstr\u001B[39m(\u001B[38;5;28mid\u001B[39m(frame)))\n\u001B[1;32m   1174\u001B[0m \u001B[38;5;66;03m# process any stepping instructions\u001B[39;00m\n",
      "\u001B[0;31mKeyboardInterrupt\u001B[0m: "
     ]
    }
   ],
   "source": [
    "df, labels = load_from_tsfile_to_dataframe(f\"{config.SOURCES_ROOT_PATH.parent}/data/ts_files/drowsiness_VAL.ts\", return_separate_X_and_y=True)\n"
   ],
   "metadata": {
    "collapsed": false,
    "pycharm": {
     "name": "#%%\n"
    }
   }
  },
  {
   "cell_type": "code",
   "execution_count": 58,
   "outputs": [
    {
     "data": {
      "text/plain": "0        0.000000\n1       -2.484967\n2     -232.199539\n3       57.488182\n4      170.392410\n          ...    \n295      0.000000\n296      0.000000\n297      0.000000\n298      0.000000\n299      0.000000\nLength: 300, dtype: float64"
     },
     "execution_count": 58,
     "metadata": {},
     "output_type": "execute_result"
    }
   ],
   "source": [
    "df.iloc[0,2]"
   ],
   "metadata": {
    "collapsed": false,
    "pycharm": {
     "name": "#%%\n"
    }
   }
  },
  {
   "cell_type": "code",
   "execution_count": 4,
   "outputs": [],
   "source": [
    "from mvts_transformer.src.datasets.data import TSRegressionArchive"
   ],
   "metadata": {
    "collapsed": false,
    "pycharm": {
     "name": "#%%\n"
    }
   }
  },
  {
   "cell_type": "code",
   "execution_count": 10,
   "outputs": [
    {
     "name": "stderr",
     "output_type": "stream",
     "text": [
      "7456it [00:14, 529.41it/s]\n"
     ]
    }
   ],
   "source": [
    "exp_config = {\n",
    "    \"task\" : \"classification\",\n",
    "    \"subsample_factor\": 0\n",
    "}\n",
    "data_loader = TSRegressionArchive(root_dir=f\"{config.SOURCES_ROOT_PATH.parent}/data/ts_files/\", pattern=\"VAL\",config=exp_config)"
   ],
   "metadata": {
    "collapsed": false,
    "pycharm": {
     "name": "#%%\n"
    }
   }
  },
  {
   "cell_type": "code",
   "execution_count": 14,
   "outputs": [
    {
     "data": {
      "text/plain": "      dim_0      dim_1       dim_2       dim_3       dim_4     dim_5  dim_6\n0       0.0   0.000000    0.000000  637.700012  510.600006  0.287283    0.0\n0       0.0   1.250712   -2.484967  639.299988  513.200012  0.301618    0.0\n0       0.0  -6.253456 -232.199539  629.799988  567.799988  0.279901    0.0\n0       0.0  30.015783   57.488182  655.700012  958.599976  0.453259    0.0\n0       0.0  15.008442  170.392410  633.900024  695.400024  0.513857    0.0\n...     ...        ...         ...         ...         ...       ...    ...\n7448    0.0   6.225692   11.149714  486.600006  386.600006  0.059951    0.0\n7448    0.0  -2.490109   -2.478120  485.200012  390.100006  0.053074    0.0\n7448    0.0  23.654440   -6.196422  483.399994  394.399994  0.041793    0.0\n7448    0.0  34.862957  -29.748281  485.500000  398.000000  0.046397    0.0\n7448    0.0   0.000000   12.396056  489.100006  400.399994  0.039092    0.0\n\n[2234700 rows x 7 columns]",
      "text/html": "<div>\n<style scoped>\n    .dataframe tbody tr th:only-of-type {\n        vertical-align: middle;\n    }\n\n    .dataframe tbody tr th {\n        vertical-align: top;\n    }\n\n    .dataframe thead th {\n        text-align: right;\n    }\n</style>\n<table border=\"1\" class=\"dataframe\">\n  <thead>\n    <tr style=\"text-align: right;\">\n      <th></th>\n      <th>dim_0</th>\n      <th>dim_1</th>\n      <th>dim_2</th>\n      <th>dim_3</th>\n      <th>dim_4</th>\n      <th>dim_5</th>\n      <th>dim_6</th>\n    </tr>\n  </thead>\n  <tbody>\n    <tr>\n      <th>0</th>\n      <td>0.0</td>\n      <td>0.000000</td>\n      <td>0.000000</td>\n      <td>637.700012</td>\n      <td>510.600006</td>\n      <td>0.287283</td>\n      <td>0.0</td>\n    </tr>\n    <tr>\n      <th>0</th>\n      <td>0.0</td>\n      <td>1.250712</td>\n      <td>-2.484967</td>\n      <td>639.299988</td>\n      <td>513.200012</td>\n      <td>0.301618</td>\n      <td>0.0</td>\n    </tr>\n    <tr>\n      <th>0</th>\n      <td>0.0</td>\n      <td>-6.253456</td>\n      <td>-232.199539</td>\n      <td>629.799988</td>\n      <td>567.799988</td>\n      <td>0.279901</td>\n      <td>0.0</td>\n    </tr>\n    <tr>\n      <th>0</th>\n      <td>0.0</td>\n      <td>30.015783</td>\n      <td>57.488182</td>\n      <td>655.700012</td>\n      <td>958.599976</td>\n      <td>0.453259</td>\n      <td>0.0</td>\n    </tr>\n    <tr>\n      <th>0</th>\n      <td>0.0</td>\n      <td>15.008442</td>\n      <td>170.392410</td>\n      <td>633.900024</td>\n      <td>695.400024</td>\n      <td>0.513857</td>\n      <td>0.0</td>\n    </tr>\n    <tr>\n      <th>...</th>\n      <td>...</td>\n      <td>...</td>\n      <td>...</td>\n      <td>...</td>\n      <td>...</td>\n      <td>...</td>\n      <td>...</td>\n    </tr>\n    <tr>\n      <th>7448</th>\n      <td>0.0</td>\n      <td>6.225692</td>\n      <td>11.149714</td>\n      <td>486.600006</td>\n      <td>386.600006</td>\n      <td>0.059951</td>\n      <td>0.0</td>\n    </tr>\n    <tr>\n      <th>7448</th>\n      <td>0.0</td>\n      <td>-2.490109</td>\n      <td>-2.478120</td>\n      <td>485.200012</td>\n      <td>390.100006</td>\n      <td>0.053074</td>\n      <td>0.0</td>\n    </tr>\n    <tr>\n      <th>7448</th>\n      <td>0.0</td>\n      <td>23.654440</td>\n      <td>-6.196422</td>\n      <td>483.399994</td>\n      <td>394.399994</td>\n      <td>0.041793</td>\n      <td>0.0</td>\n    </tr>\n    <tr>\n      <th>7448</th>\n      <td>0.0</td>\n      <td>34.862957</td>\n      <td>-29.748281</td>\n      <td>485.500000</td>\n      <td>398.000000</td>\n      <td>0.046397</td>\n      <td>0.0</td>\n    </tr>\n    <tr>\n      <th>7448</th>\n      <td>0.0</td>\n      <td>0.000000</td>\n      <td>12.396056</td>\n      <td>489.100006</td>\n      <td>400.399994</td>\n      <td>0.039092</td>\n      <td>0.0</td>\n    </tr>\n  </tbody>\n</table>\n<p>2234700 rows × 7 columns</p>\n</div>"
     },
     "execution_count": 14,
     "metadata": {},
     "output_type": "execute_result"
    }
   ],
   "source": [
    "data_loader.all_df\n"
   ],
   "metadata": {
    "collapsed": false,
    "pycharm": {
     "name": "#%%\n"
    }
   }
  },
  {
   "cell_type": "code",
   "execution_count": 12,
   "outputs": [],
   "source": [],
   "metadata": {
    "collapsed": false,
    "pycharm": {
     "name": "#%%\n"
    }
   }
  },
  {
   "cell_type": "code",
   "execution_count": null,
   "outputs": [],
   "source": [],
   "metadata": {
    "collapsed": false,
    "pycharm": {
     "name": "#%%\n"
    }
   }
  }
 ],
 "metadata": {
  "kernelspec": {
   "display_name": "Python 3",
   "language": "python",
   "name": "python3"
  },
  "language_info": {
   "codemirror_mode": {
    "name": "ipython",
    "version": 2
   },
   "file_extension": ".py",
   "mimetype": "text/x-python",
   "name": "python",
   "nbconvert_exporter": "python",
   "pygments_lexer": "ipython2",
   "version": "2.7.6"
  }
 },
 "nbformat": 4,
 "nbformat_minor": 0
}