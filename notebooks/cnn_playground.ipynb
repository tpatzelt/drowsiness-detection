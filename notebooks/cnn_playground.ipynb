{
 "cells": [
  {
   "cell_type": "code",
   "execution_count": 1,
   "outputs": [],
   "source": [
    "\n",
    "from contextlib import redirect_stdout\n",
    "\n",
    "import matplotlib.pyplot as plt\n",
    "import numpy as np\n",
    "from sklearn.metrics import classification_report\n",
    "from tensorflow import keras as keras\n",
    "from sklearn.metrics import RocCurveDisplay\n",
    "\n",
    "from drowsiness_detection import config\n",
    "from drowsiness_detection.data import label_names_dict\n",
    "from drowsiness_detection.data import load_experiment_data\n",
    "from drowsiness_detection.models import ThreeDStandardScaler"
   ],
   "metadata": {
    "collapsed": false,
    "pycharm": {
     "name": "#%%\n"
    }
   }
  },
  {
   "cell_type": "code",
   "execution_count": 2,
   "outputs": [],
   "source": [
    "def plot_history(history):\n",
    "    # summarize history for accuracy\n",
    "    plt.plot(history.history['accuracy'])\n",
    "    plt.plot(history.history['val_accuracy'])\n",
    "    plt.title('model accuracy')\n",
    "    plt.ylabel('accuracy')\n",
    "    plt.xlabel('epoch')\n",
    "    plt.legend(['train', 'test'], loc='upper left')\n",
    "    plt.show()\n",
    "    # summarize history for loss\n",
    "    plt.plot(history.history['loss'])\n",
    "    plt.plot(history.history['val_loss'])\n",
    "    plt.title('model loss')\n",
    "    plt.ylabel('loss')\n",
    "    plt.xlabel('epoch')\n",
    "    plt.legend(['train', 'test'], loc='upper left')\n",
    "    plt.show()\n",
    "\n",
    "\n",
    "def save_summary(model, X_test, y_test):\n",
    "    y_hat = model.predict(X_test)\n",
    "    if not y_hat.shape[-1] == 1:\n",
    "        y_hat = np.argmax(y_hat, axis=1)\n",
    "    else:\n",
    "        y_hat = (y_hat > .5)\n",
    "    acc = np.mean(y_hat == y_test)\n",
    "\n",
    "    print(\"mean-prediction\", np.mean(y_hat))\n",
    "    with open(\"summaries.csv\", \"a\") as fp:\n",
    "        fp.write(str(round(acc, 4)) + \"\\n\")\n",
    "        with redirect_stdout(fp):\n",
    "            model.summary()\n",
    "        fp.write(\"\\n\")\n",
    "\n",
    "    report = classification_report(y_true=y_test, y_pred=y_hat,\n",
    "                                   target_names=label_names_dict[2])\n",
    "    print(report)\n"
   ],
   "metadata": {
    "collapsed": false,
    "pycharm": {
     "name": "#%%\n"
    }
   }
  },
  {
   "cell_type": "code",
   "execution_count": 3,
   "outputs": [
    {
     "name": "stdout",
     "output_type": "stream",
     "text": [
      "X_train shape: (26642, 1800, 7), y_train shape: (26642,)\n",
      "X_test shape: (6494, 1800, 7), y_test shape: (6494,)\n"
     ]
    }
   ],
   "source": [
    "# load data\n",
    "config.set_paths(30, 60)\n",
    "X_train, X_test, y_train, y_test, cv_splits = load_experiment_data(\n",
    "    exclude_by=\"a\",\n",
    "    num_targets=2,\n",
    "    seed=45,\n",
    "    test_size=.2,\n",
    "    split_by_subjects=True,\n",
    "    use_dummy_data=False,\n",
    "    nn_experiment=True,\n",
    "    feature_col_indices=(5, 8, 9, 14, 15, 16, 19),\n",
    "    model_name=\"mvts_transformer\")"
   ],
   "metadata": {
    "collapsed": false,
    "pycharm": {
     "name": "#%%\n"
    }
   }
  },
  {
   "cell_type": "code",
   "execution_count": 4,
   "outputs": [],
   "source": [
    "num_samples = None\n",
    "X_train = X_train[:num_samples]\n",
    "X_test = X_test[:num_samples]\n",
    "y_test = y_test[:num_samples]\n",
    "y_train = y_train[:num_samples]\n",
    "\n"
   ],
   "metadata": {
    "collapsed": false,
    "pycharm": {
     "name": "#%%\n"
    }
   }
  },
  {
   "cell_type": "code",
   "execution_count": 5,
   "outputs": [],
   "source": [
    "scaler = ThreeDStandardScaler(feature_axis=-1)\n",
    "\n",
    "X_train_scaled = scaler.fit_transform(X_train, y_train)\n",
    "X_test_scaled = scaler.transform(X_test)"
   ],
   "metadata": {
    "collapsed": false,
    "pycharm": {
     "name": "#%%\n"
    }
   }
  },
  {
   "cell_type": "code",
   "execution_count": 6,
   "outputs": [],
   "source": [
    "# input_shape = (100, 1800, 7)\n",
    "#\n",
    "# num_filters = 64, 16, 4\n",
    "# kernel_sizes = 5, 3, 3\n",
    "# strides = 3, 1, 1\n",
    "#\n",
    "# input_layer = keras.layers.Input(input_shape[1:])\n",
    "# conv_layer1 = keras.layers.Conv1D(filters=num_filters[0], kernel_size=kernel_sizes[0],\n",
    "#                                   strides=strides[0],\n",
    "#                                   padding=\"same\")(input_layer)\n",
    "# conv_layer1 = keras.layers.BatchNormalization()(conv_layer1)\n",
    "# conv_layer1 = keras.layers.ReLU()(conv_layer1)\n",
    "#\n",
    "# conv_layer2 = keras.layers.Conv1D(filters=num_filters[1], kernel_size=kernel_sizes[1],\n",
    "#                                   strides=strides[1],\n",
    "#                                   padding=\"same\")(conv_layer1)\n",
    "# conv_layer2 = keras.layers.BatchNormalization()(conv_layer2)\n",
    "# conv_layer2 = keras.layers.ReLU()(conv_layer2)\n",
    "#\n",
    "# conv_layer3 = keras.layers.Conv1D(filters=num_filters[2], kernel_size=kernel_sizes[2],\n",
    "#                                   strides=strides[2],\n",
    "#                                   padding=\"same\")(conv_layer2)\n",
    "# conv_layer3 = keras.layers.BatchNormalization()(conv_layer3)\n",
    "# conv_layer3 = keras.layers.ReLU()(conv_layer3)\n",
    "#\n",
    "# pool_layer = keras.layers.GlobalMaxPool1D()(conv_layer3)\n",
    "# # pool_layer = keras.layers.GlobalAvgPool1D()(conv_layer3)\n",
    "#\n",
    "# dense_layer = keras.layers.Dense(64, activation='relu')(pool_layer)\n",
    "# dropout_layer = keras.layers.Dropout(0.8)(dense_layer)\n",
    "# output_layer = keras.layers.Dense(1, activation=\"sigmoid\")(dropout_layer)\n",
    "#\n",
    "# model = keras.models.Model(inputs=input_layer, outputs=output_layer)\n",
    "#\n",
    "# optimizer = keras.optimizers.Adam(learning_rate=0.001)\n",
    "# model.compile(loss='binary_crossentropy', optimizer=optimizer, metrics=['accuracy'])\n",
    "# print(model.summary())\n",
    "#\n"
   ],
   "metadata": {
    "collapsed": false,
    "pycharm": {
     "name": "#%%\n"
    }
   }
  },
  {
   "cell_type": "code",
   "execution_count": 7,
   "outputs": [],
   "source": [
    "def build_cnn_model1(input_shape,\n",
    "                    kernel_size=5,\n",
    "                    stride=1,\n",
    "                    num_filters=32,\n",
    "                    num_conv_layers=2,\n",
    "                    padding=\"same\",\n",
    "                    use_batch_norm=True,\n",
    "                    pooling=\"average\",\n",
    "                    dropout_rate=.2, learning_rate=.002):\n",
    "    input_layer = keras.layers.Input(input_shape[1:])\n",
    "    prev_layer = input_layer\n",
    "    for _ in range(num_conv_layers):\n",
    "        conv_layer = keras.layers.Conv1D(filters=num_filters, kernel_size=kernel_size,\n",
    "                                         strides=stride,\n",
    "                                         padding=padding)(prev_layer)\n",
    "        if use_batch_norm:\n",
    "            conv_layer = keras.layers.BatchNormalization()(conv_layer)\n",
    "        conv_layer = keras.layers.ReLU()(conv_layer)\n",
    "        prev_layer = conv_layer\n",
    "\n",
    "    if pooling == \"average\":\n",
    "        pool_layer = keras.layers.GlobalAveragePooling1D()(prev_layer)\n",
    "    elif pooling == \"max\":\n",
    "        pool_layer = keras.layers.GlobalMaxPool1D()(prev_layer)\n",
    "    else:\n",
    "        pool_layer = prev_layer\n",
    "\n",
    "    dense_layer = keras.layers.Dense(32, activation='relu')(pool_layer)\n",
    "    dropout_layer = keras.layers.Dropout(dropout_rate)(dense_layer)\n",
    "    output_layer = keras.layers.Dense(1, activation=\"sigmoid\")(dropout_layer)\n",
    "\n",
    "    model = keras.models.Model(inputs=input_layer, outputs=output_layer)\n",
    "    optimizer = keras.optimizers.Adam(learning_rate=learning_rate)\n",
    "    model.compile(loss='binary_crossentropy', optimizer=optimizer, metrics=['accuracy'])\n",
    "    print(model.summary())\n",
    "    return model\n"
   ],
   "metadata": {
    "collapsed": false,
    "pycharm": {
     "name": "#%%\n"
    }
   }
  },
  {
   "cell_type": "code",
   "execution_count": 8,
   "outputs": [
    {
     "name": "stdout",
     "output_type": "stream",
     "text": [
      "Model: \"model\"\n",
      "_________________________________________________________________\n",
      " Layer (type)                Output Shape              Param #   \n",
      "=================================================================\n",
      " input_1 (InputLayer)        [(None, 1800, 7)]         0         \n",
      "                                                                 \n",
      " conv1d (Conv1D)             (None, 600, 44)           1584      \n",
      "                                                                 \n",
      " batch_normalization (BatchN  (None, 600, 44)          176       \n",
      " ormalization)                                                   \n",
      "                                                                 \n",
      " re_lu (ReLU)                (None, 600, 44)           0         \n",
      "                                                                 \n",
      " conv1d_1 (Conv1D)           (None, 200, 44)           9724      \n",
      "                                                                 \n",
      " batch_normalization_1 (Batc  (None, 200, 44)          176       \n",
      " hNormalization)                                                 \n",
      "                                                                 \n",
      " re_lu_1 (ReLU)              (None, 200, 44)           0         \n",
      "                                                                 \n",
      " global_max_pooling1d (Globa  (None, 44)               0         \n",
      " lMaxPooling1D)                                                  \n",
      "                                                                 \n",
      " dense (Dense)               (None, 32)                1440      \n",
      "                                                                 \n",
      " dropout (Dropout)           (None, 32)                0         \n",
      "                                                                 \n",
      " dense_1 (Dense)             (None, 1)                 33        \n",
      "                                                                 \n",
      "=================================================================\n",
      "Total params: 13,133\n",
      "Trainable params: 12,957\n",
      "Non-trainable params: 176\n",
      "_________________________________________________________________\n",
      "None\n"
     ]
    }
   ],
   "source": [
    "input_shape = (100, 1800, 7)\n",
    "\n",
    "model1 = build_cnn_model1(input_shape=input_shape,\n",
    "                        dropout_rate=0.725,\n",
    "                        kernel_size=5,\n",
    "                        num_conv_layers=2,\n",
    "                        num_filters=44,\n",
    "                        pooling=\"max\",\n",
    "                        stride=3,\n",
    "                        learning_rate=0.009)"
   ],
   "metadata": {
    "collapsed": false,
    "pycharm": {
     "name": "#%%\n"
    }
   }
  },
  {
   "cell_type": "code",
   "execution_count": 9,
   "outputs": [
    {
     "name": "stdout",
     "output_type": "stream",
     "text": [
      "Epoch 1/30\n",
      "1666/1666 [==============================] - 18s 10ms/step - loss: 0.6594 - accuracy: 0.5636 - val_loss: 0.6784 - val_accuracy: 0.5450\n",
      "Epoch 2/30\n",
      "1666/1666 [==============================] - 17s 10ms/step - loss: 0.6464 - accuracy: 0.5342 - val_loss: 0.6733 - val_accuracy: 0.5594\n",
      "Epoch 3/30\n",
      "1666/1666 [==============================] - 17s 10ms/step - loss: 0.6335 - accuracy: 0.5350 - val_loss: 0.6868 - val_accuracy: 0.5222\n",
      "Epoch 4/30\n",
      "1666/1666 [==============================] - 17s 10ms/step - loss: 0.6134 - accuracy: 0.5737 - val_loss: 0.7201 - val_accuracy: 0.5482\n",
      "Epoch 5/30\n",
      "1666/1666 [==============================] - 17s 10ms/step - loss: 0.5757 - accuracy: 0.6325 - val_loss: 0.6854 - val_accuracy: 0.5681\n",
      "Epoch 6/30\n",
      "1666/1666 [==============================] - 17s 10ms/step - loss: 0.5377 - accuracy: 0.6792 - val_loss: 0.7625 - val_accuracy: 0.5557\n",
      "Epoch 7/30\n",
      "1666/1666 [==============================] - 17s 10ms/step - loss: 0.5188 - accuracy: 0.6987 - val_loss: 0.7448 - val_accuracy: 0.5557\n",
      "Epoch 8/30\n",
      "1666/1666 [==============================] - 17s 10ms/step - loss: 0.4932 - accuracy: 0.7276 - val_loss: 0.8117 - val_accuracy: 0.5320\n",
      "Epoch 9/30\n",
      "1666/1666 [==============================] - 17s 10ms/step - loss: 0.4805 - accuracy: 0.7376 - val_loss: 0.9652 - val_accuracy: 0.5550\n",
      "Epoch 10/30\n",
      "1666/1666 [==============================] - 17s 10ms/step - loss: 0.4612 - accuracy: 0.7494 - val_loss: 1.1668 - val_accuracy: 0.5565\n",
      "Epoch 11/30\n",
      "1666/1666 [==============================] - 17s 10ms/step - loss: 0.4557 - accuracy: 0.7504 - val_loss: 1.0423 - val_accuracy: 0.5497\n",
      "Epoch 12/30\n",
      "1666/1666 [==============================] - 17s 10ms/step - loss: 0.4484 - accuracy: 0.7554 - val_loss: 1.4902 - val_accuracy: 0.5573\n",
      "Epoch 13/30\n",
      "1666/1666 [==============================] - 17s 10ms/step - loss: 0.4377 - accuracy: 0.7609 - val_loss: 1.1566 - val_accuracy: 0.5519\n",
      "Epoch 14/30\n",
      "1666/1666 [==============================] - 17s 10ms/step - loss: 0.4227 - accuracy: 0.7757 - val_loss: 1.1745 - val_accuracy: 0.5564\n",
      "Epoch 15/30\n",
      "1666/1666 [==============================] - 17s 10ms/step - loss: 0.4204 - accuracy: 0.7769 - val_loss: 1.4411 - val_accuracy: 0.5565\n",
      "Epoch 16/30\n",
      "1666/1666 [==============================] - 17s 10ms/step - loss: 0.4084 - accuracy: 0.7832 - val_loss: 1.1847 - val_accuracy: 0.5402\n",
      "Epoch 17/30\n",
      "1666/1666 [==============================] - 17s 10ms/step - loss: 0.3976 - accuracy: 0.7910 - val_loss: 1.1815 - val_accuracy: 0.5485\n",
      "Epoch 18/30\n",
      "1666/1666 [==============================] - 17s 10ms/step - loss: 0.3870 - accuracy: 0.7934 - val_loss: 1.1717 - val_accuracy: 0.5605\n",
      "Epoch 19/30\n",
      "1666/1666 [==============================] - 17s 10ms/step - loss: 0.3807 - accuracy: 0.7979 - val_loss: 1.5245 - val_accuracy: 0.5716\n",
      "Epoch 20/30\n",
      "1666/1666 [==============================] - 17s 10ms/step - loss: 0.3785 - accuracy: 0.8036 - val_loss: 1.4215 - val_accuracy: 0.5579\n",
      "Epoch 21/30\n",
      "1666/1666 [==============================] - 17s 10ms/step - loss: 0.3684 - accuracy: 0.8052 - val_loss: 1.4831 - val_accuracy: 0.5653\n",
      "Epoch 22/30\n",
      "1666/1666 [==============================] - 17s 10ms/step - loss: 0.3618 - accuracy: 0.8098 - val_loss: 1.4758 - val_accuracy: 0.5659\n",
      "Epoch 23/30\n",
      "1666/1666 [==============================] - 17s 10ms/step - loss: 0.3616 - accuracy: 0.8092 - val_loss: 1.4651 - val_accuracy: 0.5648\n",
      "Epoch 24/30\n",
      "1666/1666 [==============================] - 17s 10ms/step - loss: 0.3621 - accuracy: 0.8127 - val_loss: 1.6405 - val_accuracy: 0.5540\n",
      "Epoch 25/30\n",
      "1666/1666 [==============================] - 17s 10ms/step - loss: 0.3518 - accuracy: 0.8208 - val_loss: 1.5884 - val_accuracy: 0.5662\n",
      "Epoch 26/30\n",
      "1666/1666 [==============================] - 17s 10ms/step - loss: 0.3450 - accuracy: 0.8178 - val_loss: 1.4643 - val_accuracy: 0.5631\n",
      "Epoch 27/30\n",
      "1666/1666 [==============================] - 17s 10ms/step - loss: 0.3426 - accuracy: 0.8235 - val_loss: 1.6373 - val_accuracy: 0.5673\n",
      "Epoch 28/30\n",
      "1666/1666 [==============================] - 17s 10ms/step - loss: 0.3393 - accuracy: 0.8201 - val_loss: 1.6123 - val_accuracy: 0.5674\n",
      "Epoch 29/30\n",
      "1666/1666 [==============================] - 17s 10ms/step - loss: 0.3409 - accuracy: 0.8258 - val_loss: 1.8722 - val_accuracy: 0.5661\n",
      "Epoch 30/30\n",
      "1666/1666 [==============================] - 17s 10ms/step - loss: 0.3391 - accuracy: 0.8210 - val_loss: 1.7366 - val_accuracy: 0.5617\n"
     ]
    }
   ],
   "source": [
    "history1 = model1.fit(\n",
    "    x=X_train_scaled,\n",
    "    y=y_train,\n",
    "    epochs=30,\n",
    "    class_weight={0: 0.84, 1: 1.14},\n",
    "    batch_size=16,\n",
    "    validation_data=(X_test_scaled, y_test),\n",
    "    # use_multiprocessing=False,\n",
    "    # workers=7\n",
    "\n",
    ")"
   ],
   "metadata": {
    "collapsed": false,
    "pycharm": {
     "name": "#%%\n"
    }
   }
  },
  {
   "cell_type": "markdown",
   "source": [],
   "metadata": {
    "collapsed": false,
    "pycharm": {
     "name": "#%% md\n"
    }
   }
  },
  {
   "cell_type": "code",
   "execution_count": 10,
   "outputs": [],
   "source": [
    "def build_cnn_model2(input_shape,\n",
    "                    kernel_size=5,\n",
    "                    stride=1,\n",
    "                    num_filters=32,\n",
    "                    num_conv_layers=2,\n",
    "                    padding=\"same\",\n",
    "                    use_batch_norm=True,\n",
    "                    pooling=\"average\",\n",
    "                    dropout_rate=.2, learning_rate=.002):\n",
    "    input_layer = keras.layers.Input(input_shape[1:])\n",
    "    prev_layer = input_layer\n",
    "    for _ in range(num_conv_layers):\n",
    "        conv_layer = keras.layers.Conv1D(filters=num_filters, kernel_size=kernel_size,\n",
    "                                         strides=stride,\n",
    "                                         padding=padding)(prev_layer)\n",
    "        if use_batch_norm:\n",
    "            conv_layer = keras.layers.BatchNormalization()(conv_layer)\n",
    "        conv_layer = keras.layers.ReLU()(conv_layer)\n",
    "        prev_layer = conv_layer\n",
    "\n",
    "    if pooling == \"average\":\n",
    "        pool_layer = keras.layers.GlobalAveragePooling1D()(prev_layer)\n",
    "    elif pooling == \"max\":\n",
    "        pool_layer = keras.layers.GlobalMaxPool1D()(prev_layer)\n",
    "    else:\n",
    "        pool_layer = prev_layer\n",
    "\n",
    "    dense_layer = keras.layers.Dense(32, activation='relu')(pool_layer)\n",
    "    dropout_layer = keras.layers.Dropout(dropout_rate)(dense_layer)\n",
    "    output_layer = keras.layers.Dense(2, activation=\"softmax\")(dropout_layer)\n",
    "\n",
    "    model = keras.models.Model(inputs=input_layer, outputs=output_layer)\n",
    "    optimizer = keras.optimizers.Adam(learning_rate=learning_rate)\n",
    "    model.compile(loss='categorical_crossentropy', optimizer=optimizer, metrics=['accuracy'])\n",
    "    print(model.summary())\n",
    "    return model\n"
   ],
   "metadata": {
    "collapsed": false,
    "pycharm": {
     "name": "#%%\n"
    }
   }
  },
  {
   "cell_type": "code",
   "execution_count": 11,
   "outputs": [
    {
     "name": "stdout",
     "output_type": "stream",
     "text": [
      "Model: \"model_1\"\n",
      "_________________________________________________________________\n",
      " Layer (type)                Output Shape              Param #   \n",
      "=================================================================\n",
      " input_2 (InputLayer)        [(None, 1800, 7)]         0         \n",
      "                                                                 \n",
      " conv1d_2 (Conv1D)           (None, 600, 44)           1584      \n",
      "                                                                 \n",
      " batch_normalization_2 (Batc  (None, 600, 44)          176       \n",
      " hNormalization)                                                 \n",
      "                                                                 \n",
      " re_lu_2 (ReLU)              (None, 600, 44)           0         \n",
      "                                                                 \n",
      " conv1d_3 (Conv1D)           (None, 200, 44)           9724      \n",
      "                                                                 \n",
      " batch_normalization_3 (Batc  (None, 200, 44)          176       \n",
      " hNormalization)                                                 \n",
      "                                                                 \n",
      " re_lu_3 (ReLU)              (None, 200, 44)           0         \n",
      "                                                                 \n",
      " global_max_pooling1d_1 (Glo  (None, 44)               0         \n",
      " balMaxPooling1D)                                                \n",
      "                                                                 \n",
      " dense_2 (Dense)             (None, 32)                1440      \n",
      "                                                                 \n",
      " dropout_1 (Dropout)         (None, 32)                0         \n",
      "                                                                 \n",
      " dense_3 (Dense)             (None, 2)                 66        \n",
      "                                                                 \n",
      "=================================================================\n",
      "Total params: 13,166\n",
      "Trainable params: 12,990\n",
      "Non-trainable params: 176\n",
      "_________________________________________________________________\n",
      "None\n"
     ]
    }
   ],
   "source": [
    "input_shape = (100, 1800, 7)\n",
    "\n",
    "model2 = build_cnn_model2(input_shape=input_shape,\n",
    "                        dropout_rate=0.725,\n",
    "                        kernel_size=5,\n",
    "                        num_conv_layers=2,\n",
    "                        num_filters=44,\n",
    "                        pooling=\"max\",\n",
    "                        stride=3,\n",
    "                        learning_rate=0.009)"
   ],
   "metadata": {
    "collapsed": false,
    "pycharm": {
     "name": "#%%\n"
    }
   }
  },
  {
   "cell_type": "code",
   "execution_count": 12,
   "outputs": [],
   "source": [
    "from tensorflow.keras.utils import to_categorical\n",
    "\n",
    "y_train_one_hot = to_categorical(y_train, 2)\n",
    "y_test_one_hot = to_categorical(y_test, 2)\n"
   ],
   "metadata": {
    "collapsed": false,
    "pycharm": {
     "name": "#%%\n"
    }
   }
  },
  {
   "cell_type": "code",
   "execution_count": 13,
   "outputs": [
    {
     "name": "stdout",
     "output_type": "stream",
     "text": [
      "Epoch 1/30\n",
      "1666/1666 [==============================] - 18s 10ms/step - loss: 0.6631 - accuracy: 0.5557 - val_loss: 0.6818 - val_accuracy: 0.5233\n",
      "Epoch 2/30\n",
      "1666/1666 [==============================] - 17s 10ms/step - loss: 0.6273 - accuracy: 0.5665 - val_loss: 0.6937 - val_accuracy: 0.5699\n",
      "Epoch 3/30\n",
      "1666/1666 [==============================] - 17s 10ms/step - loss: 0.6052 - accuracy: 0.6165 - val_loss: 0.6840 - val_accuracy: 0.5702\n",
      "Epoch 4/30\n",
      "1666/1666 [==============================] - 17s 10ms/step - loss: 0.5872 - accuracy: 0.6376 - val_loss: 0.7695 - val_accuracy: 0.5617\n",
      "Epoch 5/30\n",
      "1666/1666 [==============================] - 17s 10ms/step - loss: 0.5724 - accuracy: 0.6658 - val_loss: 0.7615 - val_accuracy: 0.5454\n",
      "Epoch 6/30\n",
      "1666/1666 [==============================] - 17s 10ms/step - loss: 0.5438 - accuracy: 0.6946 - val_loss: 0.7870 - val_accuracy: 0.5568\n",
      "Epoch 7/30\n",
      "1666/1666 [==============================] - 17s 10ms/step - loss: 0.5271 - accuracy: 0.7113 - val_loss: 0.7607 - val_accuracy: 0.5658\n",
      "Epoch 8/30\n",
      "1666/1666 [==============================] - 17s 10ms/step - loss: 0.5221 - accuracy: 0.7097 - val_loss: 0.9080 - val_accuracy: 0.5413\n",
      "Epoch 9/30\n",
      "1666/1666 [==============================] - 17s 10ms/step - loss: 0.5068 - accuracy: 0.7259 - val_loss: 1.0528 - val_accuracy: 0.5567\n",
      "Epoch 10/30\n",
      "1666/1666 [==============================] - 17s 10ms/step - loss: 0.5019 - accuracy: 0.7283 - val_loss: 0.9902 - val_accuracy: 0.5519\n",
      "Epoch 11/30\n",
      "1666/1666 [==============================] - 17s 10ms/step - loss: 0.4898 - accuracy: 0.7358 - val_loss: 1.3019 - val_accuracy: 0.5730\n",
      "Epoch 12/30\n",
      "1666/1666 [==============================] - 17s 10ms/step - loss: 0.4845 - accuracy: 0.7448 - val_loss: 0.9266 - val_accuracy: 0.5467\n",
      "Epoch 13/30\n",
      "1666/1666 [==============================] - 17s 10ms/step - loss: 0.4824 - accuracy: 0.7464 - val_loss: 0.9298 - val_accuracy: 0.5493\n",
      "Epoch 14/30\n",
      "1666/1666 [==============================] - 17s 10ms/step - loss: 0.4749 - accuracy: 0.7474 - val_loss: 1.3491 - val_accuracy: 0.5485\n",
      "Epoch 15/30\n",
      "1666/1666 [==============================] - 16s 10ms/step - loss: 0.4719 - accuracy: 0.7512 - val_loss: 1.2519 - val_accuracy: 0.5741\n",
      "Epoch 16/30\n",
      "1666/1666 [==============================] - 17s 10ms/step - loss: 0.4648 - accuracy: 0.7607 - val_loss: 1.4364 - val_accuracy: 0.5548\n",
      "Epoch 17/30\n",
      "1666/1666 [==============================] - 17s 10ms/step - loss: 0.4630 - accuracy: 0.7574 - val_loss: 1.7038 - val_accuracy: 0.5676\n",
      "Epoch 18/30\n",
      "1666/1666 [==============================] - 17s 10ms/step - loss: 0.4561 - accuracy: 0.7605 - val_loss: 1.0607 - val_accuracy: 0.5253\n",
      "Epoch 19/30\n",
      "1666/1666 [==============================] - 17s 10ms/step - loss: 0.4478 - accuracy: 0.7688 - val_loss: 1.2069 - val_accuracy: 0.5422\n",
      "Epoch 20/30\n",
      "1666/1666 [==============================] - 17s 10ms/step - loss: 0.4496 - accuracy: 0.7651 - val_loss: 1.3132 - val_accuracy: 0.5320\n",
      "Epoch 21/30\n",
      "1666/1666 [==============================] - 17s 10ms/step - loss: 0.4405 - accuracy: 0.7740 - val_loss: 1.3806 - val_accuracy: 0.5534\n",
      "Epoch 22/30\n",
      "1666/1666 [==============================] - 17s 10ms/step - loss: 0.4369 - accuracy: 0.7745 - val_loss: 1.8813 - val_accuracy: 0.5721\n",
      "Epoch 23/30\n",
      "1666/1666 [==============================] - 17s 10ms/step - loss: 0.4305 - accuracy: 0.7790 - val_loss: 1.4621 - val_accuracy: 0.5522\n",
      "Epoch 24/30\n",
      "1666/1666 [==============================] - 17s 10ms/step - loss: 0.4202 - accuracy: 0.7884 - val_loss: 1.4683 - val_accuracy: 0.5537\n",
      "Epoch 25/30\n",
      "1666/1666 [==============================] - 17s 10ms/step - loss: 0.4259 - accuracy: 0.7844 - val_loss: 1.2941 - val_accuracy: 0.5439\n",
      "Epoch 26/30\n",
      "1666/1666 [==============================] - 17s 10ms/step - loss: 0.4185 - accuracy: 0.7870 - val_loss: 1.5187 - val_accuracy: 0.5705\n",
      "Epoch 27/30\n",
      "1666/1666 [==============================] - 17s 10ms/step - loss: 0.4119 - accuracy: 0.7901 - val_loss: 1.2607 - val_accuracy: 0.5570\n",
      "Epoch 28/30\n",
      "1666/1666 [==============================] - 17s 10ms/step - loss: 0.4163 - accuracy: 0.7885 - val_loss: 1.5455 - val_accuracy: 0.5674\n",
      "Epoch 29/30\n",
      "1666/1666 [==============================] - 17s 10ms/step - loss: 0.4064 - accuracy: 0.7942 - val_loss: 1.7691 - val_accuracy: 0.5681\n",
      "Epoch 30/30\n",
      "1666/1666 [==============================] - 17s 10ms/step - loss: 0.4138 - accuracy: 0.7899 - val_loss: 2.2272 - val_accuracy: 0.5747\n"
     ]
    }
   ],
   "source": [
    "history2 = model2.fit(\n",
    "    x=X_train_scaled,\n",
    "    y=y_train_one_hot,\n",
    "    epochs=30,\n",
    "    class_weight={0: 0.84, 1: 1.14},\n",
    "    batch_size=16,\n",
    "    validation_data=(X_test_scaled, y_test_one_hot),\n",
    "    # use_multiprocessing=False,\n",
    "    # workers=7\n",
    "\n",
    ")\n"
   ],
   "metadata": {
    "collapsed": false,
    "pycharm": {
     "name": "#%%\n"
    }
   }
  },
  {
   "cell_type": "code",
   "execution_count": 14,
   "outputs": [
    {
     "name": "stdout",
     "output_type": "stream",
     "text": [
      "mean-prediction 0.42115799199260856\n",
      "              precision    recall  f1-score   support\n",
      "\n",
      "  not drowsy       0.60      0.63      0.61      3633\n",
      "      drowsy       0.50      0.48      0.49      2861\n",
      "\n",
      "    accuracy                           0.56      6494\n",
      "   macro avg       0.55      0.55      0.55      6494\n",
      "weighted avg       0.56      0.56      0.56      6494\n",
      "\n",
      "mean-prediction 0.34631967970434246\n",
      "              precision    recall  f1-score   support\n",
      "\n",
      "  not drowsy       0.60      0.70      0.65      3633\n",
      "      drowsy       0.52      0.41      0.46      2861\n",
      "\n",
      "    accuracy                           0.57      6494\n",
      "   macro avg       0.56      0.56      0.55      6494\n",
      "weighted avg       0.57      0.57      0.57      6494\n",
      "\n"
     ]
    }
   ],
   "source": [
    "save_summary(model1, X_test=X_test_scaled, y_test=y_test)\n",
    "save_summary(model2, X_test=X_test_scaled, y_test=y_test)"
   ],
   "metadata": {
    "collapsed": false,
    "pycharm": {
     "name": "#%%\n"
    }
   }
  },
  {
   "cell_type": "code",
   "execution_count": 15,
   "outputs": [
    {
     "data": {
      "text/plain": "<Figure size 432x288 with 1 Axes>",
      "image/png": "[encoded data removed]"
     },
     "metadata": {
      "needs_background": "light"
     },
     "output_type": "display_data"
    },
    {
     "data": {
      "text/plain": "<Figure size 432x288 with 1 Axes>",
      "image/png": "[encoded data removed]"
     },
     "metadata": {
      "needs_background": "light"
     },
     "output_type": "display_data"
    },
    {
     "data": {
      "text/plain": "<Figure size 432x288 with 1 Axes>",
      "image/png": "[encoded data removed]"
     },
     "metadata": {
      "needs_background": "light"
     },
     "output_type": "display_data"
    },
    {
     "data": {
      "text/plain": "<Figure size 432x288 with 1 Axes>",
      "image/png": "[encoded data removed]"
     },
     "metadata": {
      "needs_background": "light"
     },
     "output_type": "display_data"
    }
   ],
   "source": [
    "plot_history(history1)\n",
    "plot_history(history2)"
   ],
   "metadata": {
    "collapsed": false,
    "pycharm": {
     "name": "#%%\n"
    }
   }
  },
  {
   "cell_type": "code",
   "execution_count": 16,
   "outputs": [
    {
     "data": {
      "text/plain": "<sklearn.metrics._plot.roc_curve.RocCurveDisplay at 0x7f10ac94b5e0>"
     },
     "execution_count": 16,
     "metadata": {},
     "output_type": "execute_result"
    },
    {
     "data": {
      "text/plain": "<Figure size 432x288 with 1 Axes>",
      "image/png": "[encoded data removed]"
     },
     "metadata": {
      "needs_background": "light"
     },
     "output_type": "display_data"
    },
    {
     "data": {
      "text/plain": "<Figure size 432x288 with 1 Axes>",
      "image/png": "[encoded data removed]"
     },
     "metadata": {
      "needs_background": "light"
     },
     "output_type": "display_data"
    }
   ],
   "source": [
    "y_hat = model1.predict(X_test_scaled)\n",
    "\n",
    "RocCurveDisplay.from_predictions(y_pred=y_hat, y_true=y_test, pos_label=1)\n",
    "\n",
    "y_hat = model2.predict(X_test_scaled)\n",
    "y_hat = np.argmax(y_hat, axis=1)\n",
    "\n",
    "RocCurveDisplay.from_predictions(y_pred=y_hat, y_true=y_test, pos_label=1)"
   ],
   "metadata": {
    "collapsed": false,
    "pycharm": {
     "name": "#%%\n"
    }
   }
  },
  {
   "cell_type": "code",
   "execution_count": 16,
   "outputs": [],
   "source": [],
   "metadata": {
    "collapsed": false,
    "pycharm": {
     "name": "#%%\n"
    }
   }
  },
  {
   "cell_type": "code",
   "execution_count": 16,
   "outputs": [],
   "source": [],
   "metadata": {
    "collapsed": false,
    "pycharm": {
     "name": "#%%\n"
    }
   }
  }
 ],
 "metadata": {
  "kernelspec": {
   "display_name": "Python 3",
   "language": "python",
   "name": "python3"
  },
  "language_info": {
   "codemirror_mode": {
    "name": "ipython",
    "version": 2
   },
   "file_extension": ".py",
   "mimetype": "text/x-python",
   "name": "python",
   "nbconvert_exporter": "python",
   "pygments_lexer": "ipython2",
   "version": "2.7.6"
  }
 },
 "nbformat": 4,
 "nbformat_minor": 0
}