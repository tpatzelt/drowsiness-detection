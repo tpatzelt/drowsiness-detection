{
 "cells": [
  {
   "cell_type": "code",
   "execution_count": 34,
   "outputs": [
    {
     "name": "stderr",
     "output_type": "stream",
     "text": [
      "Intel(R) Extension for Scikit-learn* enabled (https://github.com/intel/scikit-learn-intelex)\n"
     ]
    }
   ],
   "source": [
    "import pickle\n",
    "\n",
    "import pandas as pd\n",
    "from yellowbrick.model_selection import LearningCurve\n",
    "from sklearn.metrics import accuracy_score\n",
    "import json\n",
    "import matplotlib.pyplot as plt\n",
    "from sklearnex import patch_sklearn\n",
    "import numpy as np\n",
    "\n",
    "patch_sklearn()\n",
    "from copy import deepcopy\n",
    "# explicitly require this experimental feature\n",
    "from sklearn.experimental import enable_halving_search_cv  # noqa\n",
    "# now you can import normally from model_selection\n",
    "from sklearn.model_selection import train_test_split\n",
    "from drowsiness_detection.data import (get_feature_data, preprocess_feature_data,\n",
    "                                       session_type_mapping)\n",
    "from drowsiness_detection import config\n",
    "from sklearn.model_selection import StratifiedKFold"
   ],
   "metadata": {
    "collapsed": false,
    "pycharm": {
     "name": "#%%\n"
    }
   }
  },
  {
   "cell_type": "code",
   "execution_count": 47,
   "outputs": [],
   "source": [
    "WINDOW_SIZE = 60\n",
    "config.set_paths(30, WINDOW_SIZE)"
   ],
   "metadata": {
    "collapsed": false,
    "pycharm": {
     "name": "#%%\n"
    }
   }
  },
  {
   "cell_type": "code",
   "execution_count": 48,
   "outputs": [
    {
     "data": {
      "text/plain": "   mean_fit_time  std_fit_time  mean_score_time  std_score_time  \\\n0     342.219069     61.175934          0.75365        0.142029   \n\n  param_classifier__criterion param_classifier__max_depth  \\\n0                     entropy                          35   \n\n  param_classifier__max_features param_classifier__n_estimators  \\\n0                           sqrt                            512   \n\n                                              params  split0_test_score  ...  \\\n0  {'classifier__criterion': 'entropy', 'classifi...           0.652189  ...   \n\n   split2_train_score  split3_train_score  split4_train_score  \\\n0            0.999763            0.999802            0.999763   \n\n   split5_train_score  split6_train_score  split7_train_score  \\\n0            0.999763            0.999763            0.999802   \n\n   split8_train_score  split9_train_score  mean_train_score  std_train_score  \n0            0.999802            0.999802           0.99979         0.000025  \n\n[1 rows x 34 columns]",
      "text/html": "<div>\n<style scoped>\n    .dataframe tbody tr th:only-of-type {\n        vertical-align: middle;\n    }\n\n    .dataframe tbody tr th {\n        vertical-align: top;\n    }\n\n    .dataframe thead th {\n        text-align: right;\n    }\n</style>\n<table border=\"1\" class=\"dataframe\">\n  <thead>\n    <tr style=\"text-align: right;\">\n      <th></th>\n      <th>mean_fit_time</th>\n      <th>std_fit_time</th>\n      <th>mean_score_time</th>\n      <th>std_score_time</th>\n      <th>param_classifier__criterion</th>\n      <th>param_classifier__max_depth</th>\n      <th>param_classifier__max_features</th>\n      <th>param_classifier__n_estimators</th>\n      <th>params</th>\n      <th>split0_test_score</th>\n      <th>...</th>\n      <th>split2_train_score</th>\n      <th>split3_train_score</th>\n      <th>split4_train_score</th>\n      <th>split5_train_score</th>\n      <th>split6_train_score</th>\n      <th>split7_train_score</th>\n      <th>split8_train_score</th>\n      <th>split9_train_score</th>\n      <th>mean_train_score</th>\n      <th>std_train_score</th>\n    </tr>\n  </thead>\n  <tbody>\n    <tr>\n      <th>0</th>\n      <td>342.219069</td>\n      <td>61.175934</td>\n      <td>0.75365</td>\n      <td>0.142029</td>\n      <td>entropy</td>\n      <td>35</td>\n      <td>sqrt</td>\n      <td>512</td>\n      <td>{'classifier__criterion': 'entropy', 'classifi...</td>\n      <td>0.652189</td>\n      <td>...</td>\n      <td>0.999763</td>\n      <td>0.999802</td>\n      <td>0.999763</td>\n      <td>0.999763</td>\n      <td>0.999763</td>\n      <td>0.999802</td>\n      <td>0.999802</td>\n      <td>0.999802</td>\n      <td>0.99979</td>\n      <td>0.000025</td>\n    </tr>\n  </tbody>\n</table>\n<p>1 rows × 34 columns</p>\n</div>"
     },
     "execution_count": 48,
     "metadata": {},
     "output_type": "execute_result"
    }
   ],
   "source": [
    "# load hyperparameter results\n",
    "with open(\"../logs/19/search_result.pkl\", \"rb\") as fp:\n",
    "    search_result = pickle.load(fp)\n",
    "\n",
    "cv_results = pd.DataFrame.from_dict(search_result.cv_results_)\n",
    "cv_results.head()"
   ],
   "metadata": {
    "collapsed": false,
    "pycharm": {
     "name": "#%%\n"
    }
   }
  },
  {
   "cell_type": "code",
   "execution_count": 49,
   "outputs": [
    {
     "name": "stdout",
     "output_type": "stream",
     "text": [
      "{'classifier__criterion': 'entropy', 'classifier__max_depth': 35, 'classifier__max_features': 'sqrt', 'classifier__n_estimators': 512}\n"
     ]
    },
    {
     "data": {
      "text/plain": "   mean_fit_time  std_fit_time  mean_score_time  std_score_time  \\\n0     342.219069     61.175934          0.75365        0.142029   \n\n  param_classifier__criterion param_classifier__max_depth  \\\n0                     entropy                          35   \n\n  param_classifier__max_features param_classifier__n_estimators  \\\n0                           sqrt                            512   \n\n                                              params  split0_test_score  ...  \\\n0  {'classifier__criterion': 'entropy', 'classifi...           0.652189  ...   \n\n   split2_train_score  split3_train_score  split4_train_score  \\\n0            0.999763            0.999802            0.999763   \n\n   split5_train_score  split6_train_score  split7_train_score  \\\n0            0.999763            0.999763            0.999802   \n\n   split8_train_score  split9_train_score  mean_train_score  std_train_score  \n0            0.999802            0.999802           0.99979         0.000025  \n\n[1 rows x 34 columns]",
      "text/html": "<div>\n<style scoped>\n    .dataframe tbody tr th:only-of-type {\n        vertical-align: middle;\n    }\n\n    .dataframe tbody tr th {\n        vertical-align: top;\n    }\n\n    .dataframe thead th {\n        text-align: right;\n    }\n</style>\n<table border=\"1\" class=\"dataframe\">\n  <thead>\n    <tr style=\"text-align: right;\">\n      <th></th>\n      <th>mean_fit_time</th>\n      <th>std_fit_time</th>\n      <th>mean_score_time</th>\n      <th>std_score_time</th>\n      <th>param_classifier__criterion</th>\n      <th>param_classifier__max_depth</th>\n      <th>param_classifier__max_features</th>\n      <th>param_classifier__n_estimators</th>\n      <th>params</th>\n      <th>split0_test_score</th>\n      <th>...</th>\n      <th>split2_train_score</th>\n      <th>split3_train_score</th>\n      <th>split4_train_score</th>\n      <th>split5_train_score</th>\n      <th>split6_train_score</th>\n      <th>split7_train_score</th>\n      <th>split8_train_score</th>\n      <th>split9_train_score</th>\n      <th>mean_train_score</th>\n      <th>std_train_score</th>\n    </tr>\n  </thead>\n  <tbody>\n    <tr>\n      <th>0</th>\n      <td>342.219069</td>\n      <td>61.175934</td>\n      <td>0.75365</td>\n      <td>0.142029</td>\n      <td>entropy</td>\n      <td>35</td>\n      <td>sqrt</td>\n      <td>512</td>\n      <td>{'classifier__criterion': 'entropy', 'classifi...</td>\n      <td>0.652189</td>\n      <td>...</td>\n      <td>0.999763</td>\n      <td>0.999802</td>\n      <td>0.999763</td>\n      <td>0.999763</td>\n      <td>0.999763</td>\n      <td>0.999802</td>\n      <td>0.999802</td>\n      <td>0.999802</td>\n      <td>0.99979</td>\n      <td>0.000025</td>\n    </tr>\n  </tbody>\n</table>\n<p>1 rows × 34 columns</p>\n</div>"
     },
     "execution_count": 49,
     "metadata": {},
     "output_type": "execute_result"
    }
   ],
   "source": [
    "best_params = search_result.best_params_\n",
    "print(best_params)\n",
    "best_model_results = cv_results.where(\n",
    "    (cv_results[\"param_classifier__criterion\"] == best_params[\"classifier__criterion\"]) & (\n",
    "            cv_results[\"param_classifier__max_depth\"] == best_params[\"classifier__max_depth\"]) & (\n",
    "            cv_results[\n",
    "                \"param_classifier__max_features\"] == best_params[\n",
    "                \"classifier__max_features\"])).dropna()\n",
    "best_model_results"
   ],
   "metadata": {
    "collapsed": false,
    "pycharm": {
     "name": "#%%\n"
    }
   }
  },
  {
   "cell_type": "code",
   "execution_count": 49,
   "outputs": [],
   "source": [],
   "metadata": {
    "collapsed": false,
    "pycharm": {
     "name": "#%%\n"
    }
   }
  },
  {
   "cell_type": "code",
   "execution_count": 50,
   "outputs": [
    {
     "data": {
      "text/plain": "   mean_fit_time  std_fit_time  mean_score_time  std_score_time  \\\n0     342.219069     61.175934          0.75365        0.142029   \n\n  param_classifier__criterion param_classifier__max_depth  \\\n0                     entropy                          35   \n\n  param_classifier__max_features param_classifier__n_estimators  \\\n0                           sqrt                            512   \n\n                                              params  split0_test_score  ...  \\\n0  {\"classifier__criterion\": \"entropy\", \"classifi...           0.652189  ...   \n\n   split2_train_score  split3_train_score  split4_train_score  \\\n0            0.999763            0.999802            0.999763   \n\n   split5_train_score  split6_train_score  split7_train_score  \\\n0            0.999763            0.999763            0.999802   \n\n   split8_train_score  split9_train_score  mean_train_score  std_train_score  \n0            0.999802            0.999802           0.99979         0.000025  \n\n[1 rows x 34 columns]",
      "text/html": "<div>\n<style scoped>\n    .dataframe tbody tr th:only-of-type {\n        vertical-align: middle;\n    }\n\n    .dataframe tbody tr th {\n        vertical-align: top;\n    }\n\n    .dataframe thead th {\n        text-align: right;\n    }\n</style>\n<table border=\"1\" class=\"dataframe\">\n  <thead>\n    <tr style=\"text-align: right;\">\n      <th></th>\n      <th>mean_fit_time</th>\n      <th>std_fit_time</th>\n      <th>mean_score_time</th>\n      <th>std_score_time</th>\n      <th>param_classifier__criterion</th>\n      <th>param_classifier__max_depth</th>\n      <th>param_classifier__max_features</th>\n      <th>param_classifier__n_estimators</th>\n      <th>params</th>\n      <th>split0_test_score</th>\n      <th>...</th>\n      <th>split2_train_score</th>\n      <th>split3_train_score</th>\n      <th>split4_train_score</th>\n      <th>split5_train_score</th>\n      <th>split6_train_score</th>\n      <th>split7_train_score</th>\n      <th>split8_train_score</th>\n      <th>split9_train_score</th>\n      <th>mean_train_score</th>\n      <th>std_train_score</th>\n    </tr>\n  </thead>\n  <tbody>\n    <tr>\n      <th>0</th>\n      <td>342.219069</td>\n      <td>61.175934</td>\n      <td>0.75365</td>\n      <td>0.142029</td>\n      <td>entropy</td>\n      <td>35</td>\n      <td>sqrt</td>\n      <td>512</td>\n      <td>{\"classifier__criterion\": \"entropy\", \"classifi...</td>\n      <td>0.652189</td>\n      <td>...</td>\n      <td>0.999763</td>\n      <td>0.999802</td>\n      <td>0.999763</td>\n      <td>0.999763</td>\n      <td>0.999763</td>\n      <td>0.999802</td>\n      <td>0.999802</td>\n      <td>0.999802</td>\n      <td>0.99979</td>\n      <td>0.000025</td>\n    </tr>\n  </tbody>\n</table>\n<p>1 rows × 34 columns</p>\n</div>"
     },
     "execution_count": 50,
     "metadata": {},
     "output_type": "execute_result"
    }
   ],
   "source": [
    "best_model_results[\"params\"] = best_model_results[\"params\"].apply(lambda x: json.dumps(x))\n",
    "try:\n",
    "    best_model_results = best_model_results.drop_duplicates(subset=(\"params\", \"iter\"))\n",
    "except KeyError:\n",
    "    best_model_results = best_model_results.drop_duplicates(subset=(\"params\"))\n",
    "\n",
    "best_model_results"
   ],
   "metadata": {
    "collapsed": false,
    "pycharm": {
     "name": "#%%\n"
    }
   }
  },
  {
   "cell_type": "code",
   "execution_count": 51,
   "outputs": [
    {
     "data": {
      "text/plain": "<Figure size 576x396 with 1 Axes>",
      "image/png": "[encoded data removed]"
     },
     "metadata": {},
     "output_type": "display_data"
    }
   ],
   "source": [
    "def plot_learning_curve(search_cv_results: pd.DataFrame, ax=None, show_legend=True,\n",
    "                        title: str = \"Learning Curve\"):\n",
    "    if ax is None:\n",
    "        fig, ax = plt.subplots()\n",
    "    ax.set_title(label=title)\n",
    "    ax.set_xlabel(\"N estimators\")\n",
    "    ax.set_ylabel(\"Accuracy\")\n",
    "    train_sizes = search_cv_results[\"param_classifier__n_estimators\"].astype(int)\n",
    "    train_scores_mean = search_cv_results[\"mean_train_score\"]\n",
    "    test_scores_mean = search_cv_results[\"mean_test_score\"]\n",
    "    plt.grid()\n",
    "\n",
    "    # train_scores_std = search_cv_results[\"std_train_score\"]\n",
    "    # test_scores_std = search_cv_results[\"std_test_score\"]\n",
    "    # plt.fill_between(train_sizes, train_scores_mean - train_scores_std,\n",
    "    #                  train_scores_mean + train_scores_std, alpha=0.1,\n",
    "    #                  color=\"r\")\n",
    "    # plt.fill_between(train_sizes, test_scores_mean - test_scores_std,\n",
    "    #                  test_scores_mean + test_scores_std, alpha=0.1, color=\"g\")\n",
    "\n",
    "    ax.plot(train_sizes, train_scores_mean, '-',  # color=\"r\",\n",
    "            label=\"Training score\")\n",
    "    ax.plot(train_sizes, test_scores_mean, '-',  # color=\"g\",\n",
    "            label=\"Cross-validation score\")\n",
    "    if show_legend:\n",
    "        plt.legend(loc=\"best\")\n",
    "\n",
    "\n",
    "plot_learning_curve(search_cv_results=best_model_results,\n",
    "                    title=\"Learning Curve of best estimator during cv search\")\n",
    "plt.show()"
   ],
   "metadata": {
    "collapsed": false,
    "pycharm": {
     "name": "#%%\n"
    }
   }
  },
  {
   "cell_type": "code",
   "execution_count": 51,
   "outputs": [],
   "source": [],
   "metadata": {
    "collapsed": false,
    "pycharm": {
     "name": "#%%\n"
    }
   }
  },
  {
   "cell_type": "code",
   "execution_count": 52,
   "outputs": [],
   "source": [
    "best_estimator = search_result.estimator.set_params(**best_params)\n",
    "n_splits = 10\n",
    "seed = 123\n",
    "test_size = .2\n",
    "num_targets = 2\n",
    "exclude_by = 'a'\n"
   ],
   "metadata": {
    "collapsed": false,
    "pycharm": {
     "name": "#%%\n"
    }
   }
  },
  {
   "cell_type": "code",
   "execution_count": 53,
   "outputs": [],
   "source": [
    "data = get_feature_data(data_path=config.PATHS.WINDOW_FEATURES)\n",
    "X, y = preprocess_feature_data(feature_data=data,\n",
    "                               exclude_sess_type=session_type_mapping[exclude_by],\n",
    "                               num_targets=num_targets)\n",
    "X_train, X_test, y_train, y_test = train_test_split(X, y, test_size=test_size,\n",
    "                                                    random_state=seed)"
   ],
   "metadata": {
    "collapsed": false,
    "pycharm": {
     "name": "#%%\n"
    }
   }
  },
  {
   "cell_type": "code",
   "execution_count": 54,
   "outputs": [],
   "source": [
    "cv = StratifiedKFold(n_splits=n_splits, random_state=seed,\n",
    "                     shuffle=True)\n",
    "visualizer = LearningCurve(estimator=best_estimator, scoring=\"accuracy\", n_jobs=-2)"
   ],
   "metadata": {
    "collapsed": false,
    "pycharm": {
     "name": "#%%\n"
    }
   }
  },
  {
   "cell_type": "code",
   "execution_count": 22,
   "outputs": [
    {
     "data": {
      "text/plain": "<AxesSubplot:title={'center':'Learning Curve for RandomForestClassifier'}, xlabel='Training Instances', ylabel='Score'>"
     },
     "execution_count": 22,
     "metadata": {},
     "output_type": "execute_result"
    }
   ],
   "source": [
    "num_samples = -1\n",
    "visualizer.fit(X_train[:num_samples], y_train[:num_samples])\n",
    "visualizer.show()  # was working for small number of samples, check again\n",
    "\n",
    "# use yellowbrick to retrain random forest with exact same conditions as in cv search and plot learning curve"
   ],
   "metadata": {
    "collapsed": false,
    "pycharm": {
     "name": "#%%\n"
    }
   }
  },
  {
   "cell_type": "markdown",
   "source": [
    "plot accuracy while fitting more trees"
   ],
   "metadata": {
    "collapsed": false,
    "pycharm": {
     "name": "#%% md\n"
    }
   }
  },
  {
   "cell_type": "code",
   "execution_count": 55,
   "outputs": [],
   "source": [
    "scaler = best_estimator.named_steps['scaler']\n",
    "num_samples = -1\n",
    "\n",
    "X_train_scaled = scaler.fit_transform(X_train, y_train)[:num_samples]\n",
    "X_test_scaled = scaler.transform(X_test)[:num_samples]\n",
    "\n"
   ],
   "metadata": {
    "collapsed": false,
    "pycharm": {
     "name": "#%%\n"
    }
   }
  },
  {
   "cell_type": "code",
   "execution_count": 57,
   "outputs": [
    {
     "name": "stdout",
     "output_type": "stream",
     "text": [
      "{'classifier__criterion': 'entropy', 'classifier__max_depth': 80, 'classifier__max_features': 'sqrt', 'classifier__n_estimators': 1, 'classifier__warm_start': True, 'classifier__n_jobs': -2}\n"
     ]
    }
   ],
   "source": [
    "warm_start_params = best_params.copy()\n",
    "warm_start_params['classifier__n_estimators'] = 1\n",
    "warm_start_params[\"classifier__warm_start\"] = True\n",
    "warm_start_params['classifier__n_jobs'] = -2\n",
    "warm_start_params[\"classifier__max_depth\"] = 80\n",
    "\n",
    "print(warm_start_params)\n",
    "best_estimator = search_result.estimator.set_params(**warm_start_params)\n"
   ],
   "metadata": {
    "collapsed": false,
    "pycharm": {
     "name": "#%%\n"
    }
   }
  },
  {
   "cell_type": "code",
   "execution_count": 58,
   "outputs": [
    {
     "name": "stdout",
     "output_type": "stream",
     "text": [
      "[  4.           6.85795186  11.75787594  20.1587368   34.56191164\n",
      "  59.25598159 101.59366733 174.18112002 298.63143413 512.        ]\n"
     ]
    }
   ],
   "source": [
    "test_errors = []\n",
    "train_errors = []\n",
    "\n",
    "classifier = deepcopy(best_estimator.named_steps['classifier'])\n",
    "\n",
    "n_estimator_options = np.logspace(2, 9, num=10, base=2)\n",
    "print(n_estimator_options)\n",
    "for added_estimators in n_estimator_options:\n",
    "    # print(f\" number of estimators: old -> {classifier.n_estimators}, new: {int(added_estimators)}\")\n",
    "    classifier.n_estimators = int(added_estimators)\n",
    "\n",
    "    classifier.fit(X_train_scaled, y_train[:num_samples])\n",
    "    y_hat_train = classifier.predict(X_train_scaled)\n",
    "    y_hat_test = classifier.predict(X_test_scaled)\n",
    "\n",
    "    train_errors.append(accuracy_score(y_train[:num_samples], y_hat_train))\n",
    "    test_errors.append(accuracy_score(y_test[:num_samples], y_hat_test))\n"
   ],
   "metadata": {
    "collapsed": false,
    "pycharm": {
     "name": "#%%\n"
    }
   }
  },
  {
   "cell_type": "code",
   "execution_count": 59,
   "outputs": [
    {
     "data": {
      "text/plain": "<Figure size 576x396 with 1 Axes>",
      "image/png": "[encoded data removed]"
     },
     "metadata": {},
     "output_type": "display_data"
    }
   ],
   "source": [
    "    best_model_results = best_model_results.drop_duplicates(subset=(\"params\", \"iter\"))\n",
    "def plot_learning_curve_from_errors(train_errors, test_errors, n_estimator_options, ax=None):\n",
    "    if ax is None:\n",
    "        fig, ax = plt.subplots()\n",
    "    ax.set_title(f\"Learning Curve of Random Forest Classifier (window size {WINDOW_SIZE} sec.)\")\n",
    "    ax.plot(n_estimator_options, train_errors, '-r', label=\"train\")\n",
    "    ax.plot(n_estimator_options, test_errors, '-g', label=\"test\")\n",
    "    ax.set_xlabel(\"Number of Estimators\")\n",
    "    ax.set_ylabel(\"Accuracy\")\n",
    "    _ = ax.legend()\n",
    "\n",
    "\n",
    "plot_learning_curve_from_errors(train_errors=train_errors, test_errors=test_errors,\n",
    "                                n_estimator_options=n_estimator_options)"
   ],
   "metadata": {
    "collapsed": false,
    "pycharm": {
     "name": "#%%\n"
    }
   }
  },
  {
   "cell_type": "markdown",
   "source": [
    "### plot learning curve from cv results for all models\n"
   ],
   "metadata": {
    "collapsed": false,
    "pycharm": {
     "name": "#%% md\n"
    }
   }
  },
  {
   "cell_type": "code",
   "execution_count": 88,
   "outputs": [
    {
     "data": {
      "text/plain": "      iter  n_resources  mean_fit_time  std_fit_time  mean_score_time  \\\n0        0            1       1.889948      0.059151         0.056839   \n1        0            1       1.910338      0.044870         0.059813   \n2        0            1       1.869183      0.059332         0.058031   \n3        0            1       1.868916      0.097252         0.059173   \n4        0            1       1.911403      0.059779         0.061906   \n...    ...          ...            ...           ...              ...   \n4499     6          729     485.018025      3.983984         0.973069   \n4500     6          729     484.073645      3.784699         0.981158   \n4501     6          729     461.465038     65.996746         0.888021   \n4502     7         2187    1447.962617     10.710534         3.763025   \n4503     7         2187    1296.428564    230.577699         3.094151   \n\n      std_score_time param_classifier__criterion param_classifier__max_depth  \\\n0           0.032940                     entropy                          70   \n1           0.018304                     entropy                          30   \n2           0.026924                     entropy                          24   \n3           0.022890                     entropy                          56   \n4           0.023934                     entropy                          73   \n...              ...                         ...                         ...   \n4499        0.127142                     entropy                          17   \n4500        0.144075                     entropy                          17   \n4501        0.213941                     entropy                          18   \n4502        1.068874                     entropy                          17   \n4503        0.707879                     entropy                          18   \n\n     param_classifier__max_features param_classifier__n_estimators  ...  \\\n0                              sqrt                              1  ...   \n1                              sqrt                              1  ...   \n2                              sqrt                              1  ...   \n3                              sqrt                              1  ...   \n4                              sqrt                              1  ...   \n...                             ...                            ...  ...   \n4499                           sqrt                            729  ...   \n4500                           sqrt                            729  ...   \n4501                           sqrt                            729  ...   \n4502                           sqrt                           2187  ...   \n4503                           sqrt                           2187  ...   \n\n     split2_train_score  split3_train_score  split4_train_score  \\\n0              0.859901            0.854204            0.858720   \n1              0.857883            0.856301            0.866355   \n2              0.843640            0.846409            0.847405   \n3              0.862077            0.860851            0.857731   \n4              0.859624            0.862868            0.862834   \n...                 ...                 ...                 ...   \n4499           0.984451            0.983106            0.985006   \n4500           0.982987            0.983581            0.984412   \n4501           0.993630            0.993274            0.993749   \n4502           0.984174            0.982829            0.983819   \n4503           0.994224            0.993353            0.994382   \n\n      split5_train_score  split6_train_score  split7_train_score  \\\n0               0.866949            0.865327            0.858245   \n1               0.856306            0.857335            0.863507   \n2               0.850965            0.845901            0.847919   \n3               0.859946            0.865406            0.863032   \n4               0.859313            0.859828            0.859907   \n...                  ...                 ...                 ...   \n4499            0.981920            0.983977            0.982671   \n4500            0.983027            0.982038            0.983937   \n4501            0.992958            0.992958            0.993314   \n4502            0.983383            0.983423            0.983304   \n4503            0.993393            0.993353            0.993393   \n\n      split8_train_score  split9_train_score  mean_train_score  \\\n0               0.863626            0.858997          0.861246   \n1               0.863032            0.859986          0.859596   \n2               0.847484            0.859115          0.848055   \n3               0.858997            0.868887          0.861697   \n4               0.862201            0.860817          0.861451   \n...                  ...                 ...               ...   \n4499            0.982632            0.984808          0.983474   \n4500            0.982632            0.984491          0.983510   \n4501            0.993433            0.994263          0.993464   \n4502            0.983858            0.985362          0.983985   \n4503            0.994184            0.994263          0.993785   \n\n      std_train_score  \n0            0.003693  \n1            0.003575  \n2            0.004332  \n3            0.003165  \n4            0.001660  \n...               ...  \n4499         0.001005  \n4500         0.000899  \n4501         0.000394  \n4502         0.000771  \n4503         0.000408  \n\n[4504 rows x 36 columns]",
      "text/html": "<div>\n<style scoped>\n    .dataframe tbody tr th:only-of-type {\n        vertical-align: middle;\n    }\n\n    .dataframe tbody tr th {\n        vertical-align: top;\n    }\n\n    .dataframe thead th {\n        text-align: right;\n    }\n</style>\n<table border=\"1\" class=\"dataframe\">\n  <thead>\n    <tr style=\"text-align: right;\">\n      <th></th>\n      <th>iter</th>\n      <th>n_resources</th>\n      <th>mean_fit_time</th>\n      <th>std_fit_time</th>\n      <th>mean_score_time</th>\n      <th>std_score_time</th>\n      <th>param_classifier__criterion</th>\n      <th>param_classifier__max_depth</th>\n      <th>param_classifier__max_features</th>\n      <th>param_classifier__n_estimators</th>\n      <th>...</th>\n      <th>split2_train_score</th>\n      <th>split3_train_score</th>\n      <th>split4_train_score</th>\n      <th>split5_train_score</th>\n      <th>split6_train_score</th>\n      <th>split7_train_score</th>\n      <th>split8_train_score</th>\n      <th>split9_train_score</th>\n      <th>mean_train_score</th>\n      <th>std_train_score</th>\n    </tr>\n  </thead>\n  <tbody>\n    <tr>\n      <th>0</th>\n      <td>0</td>\n      <td>1</td>\n      <td>1.889948</td>\n      <td>0.059151</td>\n      <td>0.056839</td>\n      <td>0.032940</td>\n      <td>entropy</td>\n      <td>70</td>\n      <td>sqrt</td>\n      <td>1</td>\n      <td>...</td>\n      <td>0.859901</td>\n      <td>0.854204</td>\n      <td>0.858720</td>\n      <td>0.866949</td>\n      <td>0.865327</td>\n      <td>0.858245</td>\n      <td>0.863626</td>\n      <td>0.858997</td>\n      <td>0.861246</td>\n      <td>0.003693</td>\n    </tr>\n    <tr>\n      <th>1</th>\n      <td>0</td>\n      <td>1</td>\n      <td>1.910338</td>\n      <td>0.044870</td>\n      <td>0.059813</td>\n      <td>0.018304</td>\n      <td>entropy</td>\n      <td>30</td>\n      <td>sqrt</td>\n      <td>1</td>\n      <td>...</td>\n      <td>0.857883</td>\n      <td>0.856301</td>\n      <td>0.866355</td>\n      <td>0.856306</td>\n      <td>0.857335</td>\n      <td>0.863507</td>\n      <td>0.863032</td>\n      <td>0.859986</td>\n      <td>0.859596</td>\n      <td>0.003575</td>\n    </tr>\n    <tr>\n      <th>2</th>\n      <td>0</td>\n      <td>1</td>\n      <td>1.869183</td>\n      <td>0.059332</td>\n      <td>0.058031</td>\n      <td>0.026924</td>\n      <td>entropy</td>\n      <td>24</td>\n      <td>sqrt</td>\n      <td>1</td>\n      <td>...</td>\n      <td>0.843640</td>\n      <td>0.846409</td>\n      <td>0.847405</td>\n      <td>0.850965</td>\n      <td>0.845901</td>\n      <td>0.847919</td>\n      <td>0.847484</td>\n      <td>0.859115</td>\n      <td>0.848055</td>\n      <td>0.004332</td>\n    </tr>\n    <tr>\n      <th>3</th>\n      <td>0</td>\n      <td>1</td>\n      <td>1.868916</td>\n      <td>0.097252</td>\n      <td>0.059173</td>\n      <td>0.022890</td>\n      <td>entropy</td>\n      <td>56</td>\n      <td>sqrt</td>\n      <td>1</td>\n      <td>...</td>\n      <td>0.862077</td>\n      <td>0.860851</td>\n      <td>0.857731</td>\n      <td>0.859946</td>\n      <td>0.865406</td>\n      <td>0.863032</td>\n      <td>0.858997</td>\n      <td>0.868887</td>\n      <td>0.861697</td>\n      <td>0.003165</td>\n    </tr>\n    <tr>\n      <th>4</th>\n      <td>0</td>\n      <td>1</td>\n      <td>1.911403</td>\n      <td>0.059779</td>\n      <td>0.061906</td>\n      <td>0.023934</td>\n      <td>entropy</td>\n      <td>73</td>\n      <td>sqrt</td>\n      <td>1</td>\n      <td>...</td>\n      <td>0.859624</td>\n      <td>0.862868</td>\n      <td>0.862834</td>\n      <td>0.859313</td>\n      <td>0.859828</td>\n      <td>0.859907</td>\n      <td>0.862201</td>\n      <td>0.860817</td>\n      <td>0.861451</td>\n      <td>0.001660</td>\n    </tr>\n    <tr>\n      <th>...</th>\n      <td>...</td>\n      <td>...</td>\n      <td>...</td>\n      <td>...</td>\n      <td>...</td>\n      <td>...</td>\n      <td>...</td>\n      <td>...</td>\n      <td>...</td>\n      <td>...</td>\n      <td>...</td>\n      <td>...</td>\n      <td>...</td>\n      <td>...</td>\n      <td>...</td>\n      <td>...</td>\n      <td>...</td>\n      <td>...</td>\n      <td>...</td>\n      <td>...</td>\n      <td>...</td>\n    </tr>\n    <tr>\n      <th>4499</th>\n      <td>6</td>\n      <td>729</td>\n      <td>485.018025</td>\n      <td>3.983984</td>\n      <td>0.973069</td>\n      <td>0.127142</td>\n      <td>entropy</td>\n      <td>17</td>\n      <td>sqrt</td>\n      <td>729</td>\n      <td>...</td>\n      <td>0.984451</td>\n      <td>0.983106</td>\n      <td>0.985006</td>\n      <td>0.981920</td>\n      <td>0.983977</td>\n      <td>0.982671</td>\n      <td>0.982632</td>\n      <td>0.984808</td>\n      <td>0.983474</td>\n      <td>0.001005</td>\n    </tr>\n    <tr>\n      <th>4500</th>\n      <td>6</td>\n      <td>729</td>\n      <td>484.073645</td>\n      <td>3.784699</td>\n      <td>0.981158</td>\n      <td>0.144075</td>\n      <td>entropy</td>\n      <td>17</td>\n      <td>sqrt</td>\n      <td>729</td>\n      <td>...</td>\n      <td>0.982987</td>\n      <td>0.983581</td>\n      <td>0.984412</td>\n      <td>0.983027</td>\n      <td>0.982038</td>\n      <td>0.983937</td>\n      <td>0.982632</td>\n      <td>0.984491</td>\n      <td>0.983510</td>\n      <td>0.000899</td>\n    </tr>\n    <tr>\n      <th>4501</th>\n      <td>6</td>\n      <td>729</td>\n      <td>461.465038</td>\n      <td>65.996746</td>\n      <td>0.888021</td>\n      <td>0.213941</td>\n      <td>entropy</td>\n      <td>18</td>\n      <td>sqrt</td>\n      <td>729</td>\n      <td>...</td>\n      <td>0.993630</td>\n      <td>0.993274</td>\n      <td>0.993749</td>\n      <td>0.992958</td>\n      <td>0.992958</td>\n      <td>0.993314</td>\n      <td>0.993433</td>\n      <td>0.994263</td>\n      <td>0.993464</td>\n      <td>0.000394</td>\n    </tr>\n    <tr>\n      <th>4502</th>\n      <td>7</td>\n      <td>2187</td>\n      <td>1447.962617</td>\n      <td>10.710534</td>\n      <td>3.763025</td>\n      <td>1.068874</td>\n      <td>entropy</td>\n      <td>17</td>\n      <td>sqrt</td>\n      <td>2187</td>\n      <td>...</td>\n      <td>0.984174</td>\n      <td>0.982829</td>\n      <td>0.983819</td>\n      <td>0.983383</td>\n      <td>0.983423</td>\n      <td>0.983304</td>\n      <td>0.983858</td>\n      <td>0.985362</td>\n      <td>0.983985</td>\n      <td>0.000771</td>\n    </tr>\n    <tr>\n      <th>4503</th>\n      <td>7</td>\n      <td>2187</td>\n      <td>1296.428564</td>\n      <td>230.577699</td>\n      <td>3.094151</td>\n      <td>0.707879</td>\n      <td>entropy</td>\n      <td>18</td>\n      <td>sqrt</td>\n      <td>2187</td>\n      <td>...</td>\n      <td>0.994224</td>\n      <td>0.993353</td>\n      <td>0.994382</td>\n      <td>0.993393</td>\n      <td>0.993353</td>\n      <td>0.993393</td>\n      <td>0.994184</td>\n      <td>0.994263</td>\n      <td>0.993785</td>\n      <td>0.000408</td>\n    </tr>\n  </tbody>\n</table>\n<p>4504 rows × 36 columns</p>\n</div>"
     },
     "execution_count": 88,
     "metadata": {},
     "output_type": "execute_result"
    }
   ],
   "source": [
    "cv_results[\"params\"] = cv_results[\"params\"].apply(lambda x: json.dumps(x))\n",
    "cv_results\n"
   ],
   "metadata": {
    "collapsed": false,
    "pycharm": {
     "name": "#%%\n"
    }
   }
  },
  {
   "cell_type": "code",
   "execution_count": 87,
   "outputs": [
    {
     "data": {
      "text/plain": "<Figure size 576x396 with 1 Axes>",
      "image/png": "[encoded data removed]"
     },
     "metadata": {},
     "output_type": "display_data"
    }
   ],
   "source": [
    "fig, ax = plt.subplots()\n",
    "i = 0\n",
    "for param, group in cv_results.groupby(\"params\"):\n",
    "    # group = group.drop_duplicates(subset=(\"iter\"))\n",
    "    if len(group) < 10:\n",
    "        continue\n",
    "    plot_learning_curve(search_cv_results=group, ax=ax, show_legend=True)\n",
    "    break\n",
    "    # i += 1\n",
    "    # if i == 100:\n",
    "    #     break\n",
    "plt.show()"
   ],
   "metadata": {
    "collapsed": false,
    "pycharm": {
     "name": "#%%\n"
    }
   }
  },
  {
   "cell_type": "code",
   "execution_count": 92,
   "outputs": [
    {
     "data": {
      "text/plain": "array([1], dtype=object)"
     },
     "execution_count": 92,
     "metadata": {},
     "output_type": "execute_result"
    }
   ],
   "source": [
    "group[\"param_classifier__n_estimators\"].unique()"
   ],
   "metadata": {
    "collapsed": false,
    "pycharm": {
     "name": "#%%\n"
    }
   }
  },
  {
   "cell_type": "code",
   "execution_count": null,
   "outputs": [],
   "source": [
    "_ = plt.plot(n_estimator_options, test_errors, '-r')\n"
   ],
   "metadata": {
    "collapsed": false,
    "pycharm": {
     "name": "#%%\n",
     "is_executing": true
    }
   }
  },
  {
   "cell_type": "code",
   "execution_count": null,
   "outputs": [],
   "source": [],
   "metadata": {
    "collapsed": false,
    "pycharm": {
     "name": "#%%\n"
    }
   }
  }
 ],
 "metadata": {
  "kernelspec": {
   "display_name": "Python 3",
   "language": "python",
   "name": "python3"
  },
  "language_info": {
   "codemirror_mode": {
    "name": "ipython",
    "version": 3
   },
   "file_extension": ".py",
   "mimetype": "text/x-python",
   "name": "python",
   "nbconvert_exporter": "python",
   "pygments_lexer": "ipython3",
   "version": "3.9.7"
  }
 },
 "nbformat": 4,
 "nbformat_minor": 1
}