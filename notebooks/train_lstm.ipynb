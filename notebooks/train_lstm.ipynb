{
 "cells": [
  {
   "cell_type": "code",
   "execution_count": 1,
   "outputs": [],
   "source": [
    "from drowsiness_detection.data import load_raw_60_sec_data\n",
    "import numpy as np\n",
    "from drowsiness_detection import config\n",
    "from joblib import dump\n",
    "import time\n",
    "from drowsiness_detection.models import build_lstm_model"
   ],
   "metadata": {
    "collapsed": false,
    "pycharm": {
     "name": "#%%\n"
    }
   }
  },
  {
   "cell_type": "code",
   "execution_count": 2,
   "outputs": [],
   "source": [
    "data = load_raw_60_sec_data()\n",
    "\n",
    "data.X_train = np.concatenate([data.X_train, data.X_val])\n",
    "data.y_train = np.concatenate([data.y_train, data.y_val])\n"
   ],
   "metadata": {
    "collapsed": false,
    "pycharm": {
     "name": "#%%\n"
    }
   }
  },
  {
   "cell_type": "code",
   "execution_count": 3,
   "outputs": [
    {
     "name": "stdout",
     "output_type": "stream",
     "text": [
      "Model: \"model\"\n",
      "_________________________________________________________________\n",
      " Layer (type)                Output Shape              Param #   \n",
      "=================================================================\n",
      " input_1 (InputLayer)        [(None, 1800, 7)]         0         \n",
      "                                                                 \n",
      " lstm (LSTM)                 (None, 82)                29520     \n",
      "                                                                 \n",
      " flatten (Flatten)           (None, 82)                0         \n",
      "                                                                 \n",
      " dropout (Dropout)           (None, 82)                0         \n",
      "                                                                 \n",
      " dense (Dense)               (None, 1)                 83        \n",
      "                                                                 \n",
      "=================================================================\n",
      "Total params: 29,603\n",
      "Trainable params: 29,603\n",
      "Non-trainable params: 0\n",
      "_________________________________________________________________\n",
      "None\n"
     ]
    }
   ],
   "source": [
    "model_name = \"lstm\"\n",
    "\n",
    "best_params = {\n",
    "    \"input_shape\": (20, 1800, 7),\n",
    "    \"dropout_rate\": 0.8953608423789001,\n",
    "    \"learning_rate\": 0.0018597842328183852,\n",
    "    \"lstm_units\": 82,\n",
    "    \"num_lstm_layers\": 1\n",
    "  }\n",
    "model = build_lstm_model(**best_params)"
   ],
   "metadata": {
    "collapsed": false,
    "pycharm": {
     "name": "#%%\n"
    }
   }
  },
  {
   "cell_type": "code",
   "execution_count": 4,
   "outputs": [
    {
     "name": "stdout",
     "output_type": "stream",
     "text": [
      "Epoch 1/25\n",
      "855/855 [==============================] - 635s 740ms/step - loss: 0.6688 - accuracy: 0.6076 - val_loss: 0.6400 - val_accuracy: 0.6941\n",
      "Epoch 2/25\n",
      "855/855 [==============================] - 633s 740ms/step - loss: 0.6301 - accuracy: 0.6502 - val_loss: 0.6095 - val_accuracy: 0.7068\n",
      "Epoch 3/25\n",
      "855/855 [==============================] - 636s 744ms/step - loss: 0.6314 - accuracy: 0.6420 - val_loss: 0.6275 - val_accuracy: 0.6723\n",
      "Epoch 4/25\n",
      "855/855 [==============================] - 651s 762ms/step - loss: 0.6167 - accuracy: 0.6518 - val_loss: 0.6345 - val_accuracy: 0.6658\n",
      "Epoch 5/25\n",
      "855/855 [==============================] - 664s 777ms/step - loss: 0.6421 - accuracy: 0.6235 - val_loss: 0.6438 - val_accuracy: 0.6875\n",
      "Epoch 6/25\n",
      "855/855 [==============================] - 688s 805ms/step - loss: 0.6463 - accuracy: 0.6278 - val_loss: 0.6422 - val_accuracy: 0.6837\n",
      "Epoch 7/25\n",
      "855/855 [==============================] - 693s 810ms/step - loss: 0.6328 - accuracy: 0.6568 - val_loss: 0.6143 - val_accuracy: 0.7222\n",
      "Epoch 8/25\n",
      "855/855 [==============================] - 694s 812ms/step - loss: 0.6306 - accuracy: 0.6579 - val_loss: 0.5989 - val_accuracy: 0.7300\n",
      "Epoch 9/25\n",
      "855/855 [==============================] - 696s 814ms/step - loss: 0.6212 - accuracy: 0.6688 - val_loss: 0.6177 - val_accuracy: 0.7057\n",
      "Epoch 10/25\n",
      "855/855 [==============================] - 695s 813ms/step - loss: 0.6255 - accuracy: 0.6533 - val_loss: 0.6018 - val_accuracy: 0.7239\n",
      "Epoch 11/25\n",
      "855/855 [==============================] - 697s 816ms/step - loss: 0.6064 - accuracy: 0.6638 - val_loss: 0.6211 - val_accuracy: 0.6892\n",
      "Epoch 12/25\n",
      "855/855 [==============================] - 698s 817ms/step - loss: 0.5976 - accuracy: 0.6698 - val_loss: 0.5901 - val_accuracy: 0.7276\n",
      "Epoch 13/25\n",
      "855/855 [==============================] - 699s 818ms/step - loss: 0.5891 - accuracy: 0.6855 - val_loss: 0.5897 - val_accuracy: 0.7272\n",
      "Epoch 14/25\n",
      "855/855 [==============================] - 699s 817ms/step - loss: 0.5932 - accuracy: 0.6810 - val_loss: 0.6247 - val_accuracy: 0.6618\n",
      "Epoch 15/25\n",
      "855/855 [==============================] - 698s 817ms/step - loss: 0.6001 - accuracy: 0.6694 - val_loss: 0.6289 - val_accuracy: 0.6857\n",
      "Epoch 16/25\n",
      "855/855 [==============================] - 703s 822ms/step - loss: 0.6168 - accuracy: 0.6352 - val_loss: 0.6182 - val_accuracy: 0.7000\n",
      "Epoch 17/25\n",
      "855/855 [==============================] - 703s 822ms/step - loss: 0.5872 - accuracy: 0.6750 - val_loss: 0.6361 - val_accuracy: 0.6619\n",
      "Epoch 18/25\n",
      "855/855 [==============================] - 703s 823ms/step - loss: 0.5838 - accuracy: 0.6835 - val_loss: 0.6156 - val_accuracy: 0.6847\n",
      "Epoch 19/25\n",
      "855/855 [==============================] - 705s 825ms/step - loss: 0.5793 - accuracy: 0.6957 - val_loss: 0.6123 - val_accuracy: 0.6968\n",
      "Epoch 20/25\n",
      "855/855 [==============================] - 705s 824ms/step - loss: 0.5786 - accuracy: 0.6932 - val_loss: 0.6313 - val_accuracy: 0.6740\n",
      "Epoch 21/25\n",
      "855/855 [==============================] - 709s 829ms/step - loss: 0.5724 - accuracy: 0.6940 - val_loss: 0.6609 - val_accuracy: 0.6684\n",
      "Epoch 22/25\n",
      "855/855 [==============================] - 707s 826ms/step - loss: 0.5620 - accuracy: 0.7071 - val_loss: 0.6085 - val_accuracy: 0.7182\n",
      "Epoch 23/25\n",
      "855/855 [==============================] - 707s 827ms/step - loss: 0.5743 - accuracy: 0.7011 - val_loss: 0.6077 - val_accuracy: 0.7000\n",
      "Epoch 24/25\n",
      "855/855 [==============================] - 708s 828ms/step - loss: 0.5661 - accuracy: 0.7017 - val_loss: 0.6482 - val_accuracy: 0.6783\n",
      "Epoch 25/25\n",
      "855/855 [==============================] - 701s 819ms/step - loss: 0.5653 - accuracy: 0.7080 - val_loss: 0.6694 - val_accuracy: 0.6438\n"
     ]
    }
   ],
   "source": [
    "epochs = 25\n",
    "batch_size = 30\n",
    "class_weight = {0: 0.84, 1: 1.14}\n",
    "verbose = 1\n",
    "\n",
    "history = model.fit(x=data.X_train, y=data.y_train, validation_data=(data.X_test, data.y_test) , verbose=verbose, class_weight=class_weight,\n",
    "                    epochs=epochs, batch_size=batch_size)\n"
   ],
   "metadata": {
    "collapsed": false,
    "pycharm": {
     "name": "#%%\n"
    }
   }
  },
  {
   "cell_type": "code",
   "execution_count": 5,
   "outputs": [],
   "source": [
    "time_string = time.strftime('%Y%m%d-%H%M%S')\n",
    "model.save(str(config.MODEL_DIR_PATH.joinpath(f\"{model_name}_{time_string}.h5\")))\n"
   ],
   "metadata": {
    "collapsed": false,
    "pycharm": {
     "name": "#%%\n"
    }
   }
  },
  {
   "cell_type": "code",
   "execution_count": 6,
   "outputs": [
    {
     "name": "stderr",
     "output_type": "stream",
     "text": [
      "WARNING:absl:Found untraced functions such as lstm_cell_layer_call_fn, lstm_cell_layer_call_and_return_conditional_losses while saving (showing 2 of 2). These functions will not be directly callable after loading.\n"
     ]
    },
    {
     "name": "stdout",
     "output_type": "stream",
     "text": [
      "INFO:tensorflow:Assets written to: ram://4a57808f-b467-4665-a573-c6aca5f7c70f/assets\n"
     ]
    },
    {
     "name": "stderr",
     "output_type": "stream",
     "text": [
      "INFO:tensorflow:Assets written to: ram://4a57808f-b467-4665-a573-c6aca5f7c70f/assets\n",
      "WARNING:absl:<keras.layers.recurrent.LSTMCell object at 0x7f3476792160> has the same name 'LSTMCell' as a built-in Keras object. Consider renaming <class 'keras.layers.recurrent.LSTMCell'> to avoid naming conflicts when loading with `tf.keras.models.load_model`. If renaming is not possible, pass the object in the `custom_objects` parameter of the load function.\n"
     ]
    },
    {
     "data": {
      "text/plain": "['/home/tim/IM/data/models/60sec/histories/lstm_20220729-022018.joblib']"
     },
     "execution_count": 6,
     "metadata": {},
     "output_type": "execute_result"
    }
   ],
   "source": [
    "dump(history, str(config.MODEL_DIR_PATH.joinpath(f\"histories/{model_name}_{time_string}.joblib\")))"
   ],
   "metadata": {
    "collapsed": false,
    "pycharm": {
     "name": "#%%\n"
    }
   }
  },
  {
   "cell_type": "code",
   "execution_count": 7,
   "outputs": [],
   "source": [
    "y_pred_test = model.predict(data.X_test)\n",
    "y_pred_train = model.predict(data.X_train)"
   ],
   "metadata": {
    "collapsed": false,
    "pycharm": {
     "name": "#%%\n"
    }
   }
  },
  {
   "cell_type": "code",
   "execution_count": 8,
   "outputs": [
    {
     "name": "stdout",
     "output_type": "stream",
     "text": [
      "0.4959856660903333\n"
     ]
    }
   ],
   "source": [
    "print(np.mean((y_pred_test > .5) == data.y_test))\n"
   ],
   "metadata": {
    "collapsed": false,
    "pycharm": {
     "name": "#%%\n"
    }
   }
  },
  {
   "cell_type": "code",
   "execution_count": 9,
   "outputs": [],
   "source": [
    "np.save(str(config.PREDICTION_DIR_PATH.joinpath(f\"{model_name}_y_pred_test_{time.strftime('%Y%m%d-%H%M%S')}.npy\")), y_pred_test)\n",
    "np.save(str(config.PREDICTION_DIR_PATH.joinpath(f\"{model_name}_y_pred_train_{time.strftime('%Y%m%d-%H%M%S')}.npy\")), y_pred_train)\n"
   ],
   "metadata": {
    "collapsed": false,
    "pycharm": {
     "name": "#%%\n"
    }
   }
  },
  {
   "cell_type": "code",
   "execution_count": 9,
   "outputs": [],
   "source": [],
   "metadata": {
    "collapsed": false,
    "pycharm": {
     "name": "#%%\n"
    }
   }
  }
 ],
 "metadata": {
  "kernelspec": {
   "display_name": "Python 3",
   "language": "python",
   "name": "python3"
  },
  "language_info": {
   "codemirror_mode": {
    "name": "ipython",
    "version": 2
   },
   "file_extension": ".py",
   "mimetype": "text/x-python",
   "name": "python",
   "nbconvert_exporter": "python",
   "pygments_lexer": "ipython2",
   "version": "2.7.6"
  }
 },
 "nbformat": 4,
 "nbformat_minor": 0
}