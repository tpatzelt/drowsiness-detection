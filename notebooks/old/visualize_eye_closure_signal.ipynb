{
 "cells": [
  {
   "cell_type": "code",
   "execution_count": 38,
   "metadata": {
    "pycharm": {
     "name": "#%%\n"
    }
   },
   "outputs": [],
   "source": [
    "from drowsiness_detection.visualize import generate_blink_animation, show_frame_slider\n",
    "from drowsiness_detection.data import create_eye_closure_karolinksa_dataset\n",
    "from matplotlib import rc\n",
    "from matplotlib.widgets import Slider\n",
    "\n",
    "rc('animation', html='html5')\n",
    "import matplotlib\n",
    "import matplotlib.pyplot as plt\n",
    "import numpy as np\n"
   ]
  },
  {
   "cell_type": "code",
   "execution_count": 54,
   "metadata": {},
   "outputs": [
    {
     "name": "stdout",
     "output_type": "stream",
     "text": [
      "Extracting file /home/tim/IM/data/potsdam_aeye_112020/001_1_a.json and response file: /home/tim/IM/data/sleep_alc_labels/001_1_a_karolinska.csv.\n"
     ]
    }
   ],
   "source": [
    "gen = create_eye_closure_karolinksa_dataset()\n",
    "data = next(gen)\n",
    "data = data[\"eye_closure\"].to_numpy()[:1000]"
   ]
  },
  {
   "cell_type": "markdown",
   "metadata": {
    "pycharm": {
     "name": "#%%\n"
    }
   },
   "source": [
    "### Save a video of the eye closure signal as test_video.mp4\n"
   ]
  },
  {
   "cell_type": "code",
   "execution_count": 25,
   "metadata": {
    "pycharm": {
     "name": "#%%\n"
    }
   },
   "outputs": [
    {
     "data": {
      "image/png": "[encoded data removed]",
      "text/plain": [
       "<Figure size 864x360 with 1 Axes>"
      ]
     },
     "metadata": {
      "needs_background": "light"
     },
     "output_type": "display_data"
    }
   ],
   "source": [
    "\n",
    "anim = generate_blink_animation(data=data, n_frames=60, name=\"test_video.mp4\")"
   ]
  },
  {
   "cell_type": "markdown",
   "metadata": {},
   "source": [
    "### Create Plot of eye closure signal with interactive slider "
   ]
  },
  {
   "cell_type": "code",
   "execution_count": 26,
   "metadata": {
    "pycharm": {
     "name": "#%%\n"
    }
   },
   "outputs": [],
   "source": [
    "matplotlib.use(\"TkAgg\")\n",
    "slider = show_frame_slider(data=data, n_frames=120)\n",
    "plt.show(block=True)"
   ]
  },
  {
   "cell_type": "markdown",
   "metadata": {},
   "source": [
    "### Create plot of eye closure signal and smoothed eye closure signal"
   ]
  },
  {
   "cell_type": "code",
   "execution_count": 44,
   "metadata": {
    "pycharm": {
     "name": "#%%\n"
    }
   },
   "outputs": [
    {
     "name": "stdout",
     "output_type": "stream",
     "text": [
      "[0.13484236 0.14889128 0.1628312  0.17649385 0.18971829 0.20235192\n",
      " 0.21426557 0.22535909 0.23555446 0.24479617]\n",
      "[0.26446234 0.26638446 0.27353404 0.27267501 0.26480057 0.27378179\n",
      " 0.26371493 0.26287351 0.26116628 0.27449698]\n",
      "300 300\n"
     ]
    }
   ],
   "source": [
    "def apply_convolution_filter(data, window_size: int = 40):\n",
    "    # create a normalized Hanning window\n",
    "    window = np.hanning(window_size)\n",
    "    window = window / window.sum()\n",
    "\n",
    "    # filter the data using convolution\n",
    "    filtered = np.convolve(window, data, mode='same')\n",
    "    return filtered\n",
    "\n",
    "filtered = apply_convolution_filter(data)\n",
    "print(filtered[:10])\n",
    "print(data[:10])\n",
    "print(len(data), len(filtered))"
   ]
  },
  {
   "cell_type": "code",
   "execution_count": 57,
   "metadata": {
    "pycharm": {
     "name": "#%%\n"
    }
   },
   "outputs": [],
   "source": [
    "def show_frame_slider_with_filter(data: np.array, n_frames: int = 60):\n",
    "    \"\"\"Shows a windows of n_frames from data. An interactive slider can\n",
    "    be used to move through the data horizontally.\"\"\"\n",
    "    filtered_data = apply_convolution_filter(data, window_size=5)\n",
    "    \n",
    "    fig, ax = plt.subplots()\n",
    "    plt.subplots_adjust(bottom=0.25)\n",
    "\n",
    "    ax.set_xlim((0, n_frames))\n",
    "    ax.set_ylim((0, 1))\n",
    "    ax.set_xlabel(\"Frames\")\n",
    "    ax.set_ylabel(\"Eye Closure\")\n",
    "\n",
    "    x = np.arange(0, n_frames)\n",
    "    y = data[0:n_frames]\n",
    "    filtered_y = filtered_data[0:n_frames]\n",
    "    line, = ax.plot(x, y, 'r', lw=2)\n",
    "    line_filter, = ax.plot(x, filtered_y, \"g\", lw=2)\n",
    "    vline = ax.axvline(x=n_frames // 2, linestyle=\"-\")\n",
    "\n",
    "    ax_frames = plt.axes([0.25, 0.1, 0.65, 0.03])\n",
    "\n",
    "    allowed_frames = np.arange(n_frames // 2, len(data) - n_frames // 2, step=2)  # does the video frame start at 0 or 1?\n",
    "\n",
    "    sframes = Slider(\n",
    "        ax_frames, \"Frame\", valmin=n_frames // 2, valmax=len(data) - n_frames // 2,\n",
    "        valinit=n_frames // 2, valstep=allowed_frames)\n",
    "\n",
    "    def update(val):\n",
    "        n = val\n",
    "        x = np.arange(n - n_frames // 2, n + n_frames // 2)\n",
    "        y = data[n - n_frames // 2:n + n_frames // 2]\n",
    "        filtered_y = filtered_data[n - n_frames // 2:n + n_frames // 2]\n",
    "        line.set_data(x, y)\n",
    "        line_filter.set_data(x,filtered_y)\n",
    "        ax.set_xlim((n - n_frames // 2, n + n_frames // 2))\n",
    "        vline.set_xdata(n)\n",
    "        fig.canvas.draw_idle()\n",
    "\n",
    "    sframes.on_changed(update)\n",
    "    return sframes"
   ]
  },
  {
   "cell_type": "code",
   "execution_count": 58,
   "metadata": {},
   "outputs": [],
   "source": [
    "slider = show_frame_slider_with_filter(data=data, n_frames=120)\n",
    "plt.show(block=True)"
   ]
  },
  {
   "cell_type": "code",
   "execution_count": null,
   "metadata": {},
   "outputs": [],
   "source": []
  }
 ],
 "metadata": {
  "kernelspec": {
   "display_name": "Python 3",
   "language": "python",
   "name": "python3"
  },
  "language_info": {
   "codemirror_mode": {
    "name": "ipython",
    "version": 3
   },
   "file_extension": ".py",
   "mimetype": "text/x-python",
   "name": "python",
   "nbconvert_exporter": "python",
   "pygments_lexer": "ipython3",
   "version": "3.9.7"
  }
 },
 "nbformat": 4,
 "nbformat_minor": 1
}
