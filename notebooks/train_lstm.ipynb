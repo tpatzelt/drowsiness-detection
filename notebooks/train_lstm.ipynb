{
 "cells": [
  {
   "cell_type": "code",
   "execution_count": 3,
   "outputs": [],
   "source": [
    "from drowsiness_detection.data import load_raw_60_sec_data\n",
    "import numpy as np\n",
    "from drowsiness_detection import config\n",
    "from joblib import dump\n",
    "import time\n",
    "from drowsiness_detection.models import build_lstm_model"
   ],
   "metadata": {
    "collapsed": false,
    "pycharm": {
     "name": "#%%\n"
    }
   }
  },
  {
   "cell_type": "code",
   "execution_count": 2,
   "outputs": [],
   "source": [
    "data = load_raw_60_sec_data()\n",
    "\n",
    "data.X_train = np.concatenate([data.X_train, data.X_val])\n",
    "data.y_train = np.concatenate([data.y_train, data.y_val])\n"
   ],
   "metadata": {
    "collapsed": false,
    "pycharm": {
     "name": "#%%\n"
    }
   }
  },
  {
   "cell_type": "code",
   "execution_count": 4,
   "outputs": [
    {
     "name": "stdout",
     "output_type": "stream",
     "text": [
      "Model: \"model\"\n",
      "_________________________________________________________________\n",
      " Layer (type)                Output Shape              Param #   \n",
      "=================================================================\n",
      " input_1 (InputLayer)        [(None, 1800, 7)]         0         \n",
      "                                                                 \n",
      " conv1d (Conv1D)             (None, 600, 44)           1584      \n",
      "                                                                 \n",
      " batch_normalization (BatchN  (None, 600, 44)          176       \n",
      " ormalization)                                                   \n",
      "                                                                 \n",
      " re_lu (ReLU)                (None, 600, 44)           0         \n",
      "                                                                 \n",
      " conv1d_1 (Conv1D)           (None, 200, 44)           9724      \n",
      "                                                                 \n",
      " batch_normalization_1 (Batc  (None, 200, 44)          176       \n",
      " hNormalization)                                                 \n",
      "                                                                 \n",
      " re_lu_1 (ReLU)              (None, 200, 44)           0         \n",
      "                                                                 \n",
      " global_max_pooling1d (Globa  (None, 44)               0         \n",
      " lMaxPooling1D)                                                  \n",
      "                                                                 \n",
      " dense (Dense)               (None, 32)                1440      \n",
      "                                                                 \n",
      " dropout (Dropout)           (None, 32)                0         \n",
      "                                                                 \n",
      " dense_1 (Dense)             (None, 1)                 33        \n",
      "                                                                 \n",
      "=================================================================\n",
      "Total params: 13,133\n",
      "Trainable params: 12,957\n",
      "Non-trainable params: 176\n",
      "_________________________________________________________________\n",
      "None\n"
     ]
    }
   ],
   "source": [
    "model_name = \"lstm\"\n",
    "\n",
    "best_params = {\n",
    "    \"input_shape\": (20, 1800, 7),\n",
    "    \"dropout_rate\": 0.8953608423789001,\n",
    "    \"learning_rate\": 0.0018597842328183852,\n",
    "    \"lstm_units\": 82,\n",
    "    \"num_lstm_layers\": 1\n",
    "  }\n",
    "model = build_lstm_model(**best_params)"
   ],
   "metadata": {
    "collapsed": false,
    "pycharm": {
     "name": "#%%\n"
    }
   }
  },
  {
   "cell_type": "code",
   "execution_count": null,
   "outputs": [
    {
     "name": "stdout",
     "output_type": "stream",
     "text": [
      "Epoch 1/150\n",
      "1283/1283 [==============================] - 17s 13ms/step - loss: 0.6551 - accuracy: 0.5308 - val_loss: 0.6677 - val_accuracy: 0.5991\n",
      "Epoch 2/150\n",
      "1283/1283 [==============================] - 18s 14ms/step - loss: 0.6518 - accuracy: 0.5222 - val_loss: 0.6929 - val_accuracy: 0.4613\n",
      "Epoch 3/150\n",
      "1283/1283 [==============================] - 17s 13ms/step - loss: 0.6516 - accuracy: 0.5263 - val_loss: 0.6515 - val_accuracy: 0.5991\n",
      "Epoch 4/150\n",
      "1283/1283 [==============================] - 17s 13ms/step - loss: 0.6476 - accuracy: 0.5068 - val_loss: 0.7017 - val_accuracy: 0.5410\n",
      "Epoch 5/150\n",
      "1283/1283 [==============================] - 17s 13ms/step - loss: 0.6431 - accuracy: 0.5222 - val_loss: 0.7098 - val_accuracy: 0.4026\n",
      "Epoch 6/150\n",
      "1283/1283 [==============================] - 17s 13ms/step - loss: 0.6377 - accuracy: 0.5121 - val_loss: 0.6908 - val_accuracy: 0.6063\n",
      "Epoch 7/150\n",
      "1283/1283 [==============================] - 18s 14ms/step - loss: 0.6338 - accuracy: 0.5263 - val_loss: 0.6974 - val_accuracy: 0.4322\n",
      "Epoch 8/150\n",
      "1283/1283 [==============================] - 17s 13ms/step - loss: 0.6262 - accuracy: 0.5399 - val_loss: 1.1272 - val_accuracy: 0.6074\n",
      "Epoch 9/150\n",
      "1283/1283 [==============================] - 17s 13ms/step - loss: 0.6173 - accuracy: 0.5683 - val_loss: 0.7155 - val_accuracy: 0.4009\n",
      "Epoch 10/150\n",
      "1283/1283 [==============================] - 17s 13ms/step - loss: 0.6096 - accuracy: 0.5775 - val_loss: 0.6767 - val_accuracy: 0.5175\n",
      "Epoch 11/150\n",
      "1283/1283 [==============================] - 17s 13ms/step - loss: 0.5954 - accuracy: 0.6086 - val_loss: 0.7042 - val_accuracy: 0.4637\n",
      "Epoch 12/150\n",
      "1283/1283 [==============================] - 17s 13ms/step - loss: 0.5909 - accuracy: 0.6170 - val_loss: 0.7105 - val_accuracy: 0.5971\n",
      "Epoch 13/150\n",
      "1283/1283 [==============================] - 17s 13ms/step - loss: 0.5784 - accuracy: 0.6338 - val_loss: 0.7044 - val_accuracy: 0.5373\n",
      "Epoch 14/150\n",
      "1283/1283 [==============================] - 17s 14ms/step - loss: 0.5750 - accuracy: 0.6276 - val_loss: 0.8004 - val_accuracy: 0.4010\n",
      "Epoch 15/150\n",
      "1283/1283 [==============================] - 17s 13ms/step - loss: 0.5727 - accuracy: 0.6334 - val_loss: 1.8918 - val_accuracy: 0.4009\n",
      "Epoch 16/150\n",
      "1283/1283 [==============================] - 18s 14ms/step - loss: 0.5687 - accuracy: 0.6354 - val_loss: 0.7375 - val_accuracy: 0.4295\n",
      "Epoch 17/150\n",
      "1283/1283 [==============================] - 18s 14ms/step - loss: 0.5621 - accuracy: 0.6380 - val_loss: 0.6960 - val_accuracy: 0.5113\n",
      "Epoch 18/150\n",
      "1283/1283 [==============================] - 18s 14ms/step - loss: 0.5531 - accuracy: 0.6458 - val_loss: 1.2498 - val_accuracy: 0.4009\n",
      "Epoch 19/150\n",
      "1283/1283 [==============================] - 17s 13ms/step - loss: 0.5472 - accuracy: 0.6484 - val_loss: 0.7523 - val_accuracy: 0.5608\n",
      "Epoch 20/150\n",
      " 803/1283 [=================>............] - ETA: 5s - loss: 0.5514 - accuracy: 0.6455"
     ]
    }
   ],
   "source": [
    "epochs = 25\n",
    "batch_size = 30\n",
    "class_weight = {0: 0.84, 1: 1.14}\n",
    "verbose = 1\n",
    "\n",
    "history = model.fit(x=data.X_train, y=data.y_train, validation_data=(data.X_test, data.y_test) , verbose=verbose, class_weight=class_weight,\n",
    "                    epochs=epochs, batch_size=batch_size)\n"
   ],
   "metadata": {
    "collapsed": false,
    "pycharm": {
     "name": "#%%\n",
     "is_executing": true
    }
   }
  },
  {
   "cell_type": "code",
   "execution_count": 7,
   "outputs": [],
   "source": [
    "time_string = time.strftime('%Y%m%d-%H%M%S')\n",
    "model.save(str(config.MODEL_DIR_PATH.joinpath(f\"{model_name}_{time_string}.h5\")))\n"
   ],
   "metadata": {
    "collapsed": false,
    "pycharm": {
     "name": "#%%\n"
    }
   }
  },
  {
   "cell_type": "code",
   "execution_count": 17,
   "outputs": [
    {
     "name": "stdout",
     "output_type": "stream",
     "text": [
      "INFO:tensorflow:Assets written to: ram://8c12d3b6-f35a-4fd1-8f21-eb8a5ff2afaa/assets\n"
     ]
    },
    {
     "data": {
      "text/plain": "['/home/tim/IM/data/models/60sec/histories/cnn_20220728-151804.joblib']"
     },
     "execution_count": 17,
     "metadata": {},
     "output_type": "execute_result"
    }
   ],
   "source": [
    "dump(history, str(config.MODEL_DIR_PATH.joinpath(f\"histories/{model_name}_{time_string}.joblib\")))"
   ],
   "metadata": {
    "collapsed": false,
    "pycharm": {
     "name": "#%%\n"
    }
   }
  },
  {
   "cell_type": "code",
   "execution_count": 10,
   "outputs": [],
   "source": [
    "y_pred_test = model.predict(data.X_test)\n",
    "y_pred_train = model.predict(data.X_train)"
   ],
   "metadata": {
    "collapsed": false,
    "pycharm": {
     "name": "#%%\n"
    }
   }
  },
  {
   "cell_type": "code",
   "execution_count": 11,
   "outputs": [
    {
     "name": "stdout",
     "output_type": "stream",
     "text": [
      "0.44231875344246974\n"
     ]
    }
   ],
   "source": [
    "print(np.mean((y_pred_test > .5) == data.y_test))\n"
   ],
   "metadata": {
    "collapsed": false,
    "pycharm": {
     "name": "#%%\n"
    }
   }
  },
  {
   "cell_type": "code",
   "execution_count": 12,
   "outputs": [],
   "source": [
    "np.save(str(config.PREDICTION_DIR_PATH.joinpath(f\"{model_name}_y_pred_test_{time.strftime('%Y%m%d-%H%M%S')}.npy\")), y_pred_test)\n",
    "np.save(str(config.PREDICTION_DIR_PATH.joinpath(f\"{model_name}_y_pred_train_{time.strftime('%Y%m%d-%H%M%S')}.npy\")), y_pred_train)\n"
   ],
   "metadata": {
    "collapsed": false,
    "pycharm": {
     "name": "#%%\n"
    }
   }
  },
  {
   "cell_type": "code",
   "execution_count": null,
   "outputs": [],
   "source": [],
   "metadata": {
    "collapsed": false,
    "pycharm": {
     "name": "#%%\n"
    }
   }
  }
 ],
 "metadata": {
  "kernelspec": {
   "display_name": "Python 3",
   "language": "python",
   "name": "python3"
  },
  "language_info": {
   "codemirror_mode": {
    "name": "ipython",
    "version": 2
   },
   "file_extension": ".py",
   "mimetype": "text/x-python",
   "name": "python",
   "nbconvert_exporter": "python",
   "pygments_lexer": "ipython2",
   "version": "2.7.6"
  }
 },
 "nbformat": 4,
 "nbformat_minor": 0
}