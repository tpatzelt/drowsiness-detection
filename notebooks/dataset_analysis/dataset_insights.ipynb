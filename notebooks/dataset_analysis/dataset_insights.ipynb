{
 "cells": [
  {
   "cell_type": "code",
   "execution_count": 1,
   "metadata": {
    "collapsed": true,
    "pycharm": {
     "name": "#%%\n"
    }
   },
   "outputs": [
    {
     "name": "stderr",
     "output_type": "stream",
     "text": [
      "Intel(R) Extension for Scikit-learn* enabled (https://github.com/intel/scikit-learn-intelex)\n",
      "Intel(R) Extension for Scikit-learn* enabled (https://github.com/intel/scikit-learn-intelex)\n"
     ]
    }
   ],
   "source": [
    "from pprint import pprint\n",
    "\n",
    "from sklearnex import patch_sklearn\n",
    "\n",
    "from drowsiness_detection.run_grid_search_experiment import base\n",
    "\n",
    "patch_sklearn()\n",
    "# explicitly require this experimental feature\n",
    "from sklearn.experimental import enable_halving_search_cv  # noqa\n",
    "# now you can import normally from model_selection\n",
    "import matplotlib.pyplot as plt\n",
    "from sklearn.model_selection import train_test_split\n",
    "from drowsiness_detection import config\n",
    "\n",
    "from drowsiness_detection.data import (session_type_mapping, get_feature_data,\n",
    "    preprocess_feature_data)"
   ]
  },
  {
   "cell_type": "code",
   "execution_count": 2,
   "outputs": [
    {
     "name": "stdout",
     "output_type": "stream",
     "text": [
      "{'exclude_by': 'a',\n",
      " 'grid_search_params': {'error_score': 0,\n",
      "                        'n_jobs': -1,\n",
      "                        'refit': False,\n",
      "                        'scoring': None,\n",
      "                        'verbose': 1},\n",
      " 'hyperparameter_specs': None,\n",
      " 'model_name': None,\n",
      " 'model_selection_name': 'halving-random',\n",
      " 'n_splits': 10,\n",
      " 'num_targets': 2,\n",
      " 'recording_frequency': None,\n",
      " 'scaler_name': '',\n",
      " 'seed': 123,\n",
      " 'test_size': 0.2,\n",
      " 'use_dummy_data': False,\n",
      " 'window_in_sec': None}\n"
     ]
    }
   ],
   "source": [
    "config.set_paths(30, 10)\n",
    "\n",
    "base_config = base()\n",
    "pprint(base_config)"
   ],
   "metadata": {
    "collapsed": false,
    "pycharm": {
     "name": "#%%\n"
    }
   }
  },
  {
   "cell_type": "code",
   "execution_count": 2,
   "outputs": [],
   "source": [],
   "metadata": {
    "collapsed": false,
    "pycharm": {
     "name": "#%%\n"
    }
   }
  },
  {
   "cell_type": "code",
   "execution_count": 7,
   "outputs": [],
   "source": [
    "data = get_feature_data(data_path=config.PATHS.WINDOW_FEATURES)\n",
    "X, y = preprocess_feature_data(feature_data=data,\n",
    "                               exclude_sess_type=session_type_mapping[base_config[\"exclude_by\"]], num_targets=2)\n",
    "X_train, X_test, y_train, y_test = train_test_split(X, y, test_size=base_config[\"test_size\"],\n",
    "                                                    random_state=base_config[\"seed\"])\n",
    "\n"
   ],
   "metadata": {
    "collapsed": false,
    "pycharm": {
     "name": "#%%\n"
    }
   }
  },
  {
   "cell_type": "code",
   "execution_count": 8,
   "outputs": [
    {
     "name": "stdout",
     "output_type": "stream",
     "text": [
      "0 is not drowsy, 1 is drowsy\n"
     ]
    },
    {
     "data": {
      "text/plain": "<Figure size 432x288 with 2 Axes>",
      "image/png": "[encoded data removed]"
     },
     "metadata": {
      "needs_background": "light"
     },
     "output_type": "display_data"
    }
   ],
   "source": [
    "print(\"0 is not drowsy, 1 is drowsy\")\n",
    "fig, (ax1, ax2) = plt.subplots(1, 2)\n",
    "ax1.hist(y_train)\n",
    "ax1.set_title(\"Training Labels\")\n",
    "ax2.hist(y_test)\n",
    "ax2.set_title(\"Test Labels\")\n",
    "plt.show()"
   ],
   "metadata": {
    "collapsed": false,
    "pycharm": {
     "name": "#%%\n"
    }
   }
  },
  {
   "cell_type": "code",
   "execution_count": null,
   "outputs": [],
   "source": [],
   "metadata": {
    "collapsed": false,
    "pycharm": {
     "name": "#%%\n"
    }
   }
  }
 ],
 "metadata": {
  "kernelspec": {
   "display_name": "Python 3",
   "language": "python",
   "name": "python3"
  },
  "language_info": {
   "codemirror_mode": {
    "name": "ipython",
    "version": 2
   },
   "file_extension": ".py",
   "mimetype": "text/x-python",
   "name": "python",
   "nbconvert_exporter": "python",
   "pygments_lexer": "ipython2",
   "version": "2.7.6"
  }
 },
 "nbformat": 4,
 "nbformat_minor": 0
}