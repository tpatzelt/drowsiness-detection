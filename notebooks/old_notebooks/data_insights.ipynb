{
 "cells": [
  {
   "cell_type": "code",
   "execution_count": 2,
   "metadata": {},
   "outputs": [],
   "source": [
    "import pandas as pd\n",
    "import numpy as np\n",
    "from functools import lru_cache"
   ]
  },
  {
   "cell_type": "markdown",
   "metadata": {},
   "source": [
    "### get some insights in the distribution of the data"
   ]
  },
  {
   "cell_type": "code",
   "execution_count": 4,
   "metadata": {},
   "outputs": [],
   "source": [
    "feature_df = pd.read_pickle(\"./all_session.pkl\")"
   ]
  },
  {
   "cell_type": "code",
   "execution_count": 5,
   "metadata": {},
   "outputs": [
    {
     "data": {
      "text/html": [
       "<div>\n",
       "<style scoped>\n",
       "    .dataframe tbody tr th:only-of-type {\n",
       "        vertical-align: middle;\n",
       "    }\n",
       "\n",
       "    .dataframe tbody tr th {\n",
       "        vertical-align: top;\n",
       "    }\n",
       "\n",
       "    .dataframe thead th {\n",
       "        text-align: right;\n",
       "    }\n",
       "</style>\n",
       "<table border=\"1\" class=\"dataframe\">\n",
       "  <thead>\n",
       "    <tr style=\"text-align: right;\">\n",
       "      <th></th>\n",
       "      <th>combined_eye_closure</th>\n",
       "      <th>left_image_eye_closure</th>\n",
       "      <th>right_image_eye_closure</th>\n",
       "      <th>combined_eye_state</th>\n",
       "      <th>left_image_eye_state</th>\n",
       "      <th>right_image_eye_state</th>\n",
       "      <th>subject_id</th>\n",
       "      <th>session_id</th>\n",
       "      <th>session_type</th>\n",
       "      <th>karolinska_response_nearest_interpolation</th>\n",
       "      <th>karolinska_response_linear_interpolation</th>\n",
       "    </tr>\n",
       "  </thead>\n",
       "  <tbody>\n",
       "    <tr>\n",
       "      <th>count</th>\n",
       "      <td>3.419459e+06</td>\n",
       "      <td>3.419459e+06</td>\n",
       "      <td>3.419459e+06</td>\n",
       "      <td>3.419459e+06</td>\n",
       "      <td>3.419459e+06</td>\n",
       "      <td>3.419459e+06</td>\n",
       "      <td>3.419459e+06</td>\n",
       "      <td>3.419459e+06</td>\n",
       "      <td>3.419459e+06</td>\n",
       "      <td>3.419459e+06</td>\n",
       "      <td>3.419459e+06</td>\n",
       "    </tr>\n",
       "    <tr>\n",
       "      <th>mean</th>\n",
       "      <td>2.572041e-01</td>\n",
       "      <td>2.588607e-01</td>\n",
       "      <td>2.557060e-01</td>\n",
       "      <td>4.893289e-02</td>\n",
       "      <td>4.595318e-02</td>\n",
       "      <td>4.333083e-02</td>\n",
       "      <td>5.376347e+00</td>\n",
       "      <td>1.905337e+00</td>\n",
       "      <td>5.842592e+00</td>\n",
       "      <td>5.131993e+00</td>\n",
       "      <td>5.131993e+00</td>\n",
       "    </tr>\n",
       "    <tr>\n",
       "      <th>std</th>\n",
       "      <td>1.484495e-01</td>\n",
       "      <td>1.531535e-01</td>\n",
       "      <td>1.518298e-01</td>\n",
       "      <td>3.028240e-01</td>\n",
       "      <td>2.937611e-01</td>\n",
       "      <td>2.903665e-01</td>\n",
       "      <td>3.619695e+00</td>\n",
       "      <td>8.319376e-01</td>\n",
       "      <td>8.033923e+00</td>\n",
       "      <td>2.453929e+00</td>\n",
       "      <td>2.453929e+00</td>\n",
       "    </tr>\n",
       "    <tr>\n",
       "      <th>min</th>\n",
       "      <td>0.000000e+00</td>\n",
       "      <td>0.000000e+00</td>\n",
       "      <td>0.000000e+00</td>\n",
       "      <td>0.000000e+00</td>\n",
       "      <td>0.000000e+00</td>\n",
       "      <td>0.000000e+00</td>\n",
       "      <td>1.000000e+00</td>\n",
       "      <td>1.000000e+00</td>\n",
       "      <td>0.000000e+00</td>\n",
       "      <td>1.000000e+00</td>\n",
       "      <td>1.000000e+00</td>\n",
       "    </tr>\n",
       "    <tr>\n",
       "      <th>25%</th>\n",
       "      <td>1.617839e-01</td>\n",
       "      <td>1.646101e-01</td>\n",
       "      <td>1.615132e-01</td>\n",
       "      <td>0.000000e+00</td>\n",
       "      <td>0.000000e+00</td>\n",
       "      <td>0.000000e+00</td>\n",
       "      <td>3.000000e+00</td>\n",
       "      <td>1.000000e+00</td>\n",
       "      <td>0.000000e+00</td>\n",
       "      <td>3.000000e+00</td>\n",
       "      <td>3.000000e+00</td>\n",
       "    </tr>\n",
       "    <tr>\n",
       "      <th>50%</th>\n",
       "      <td>2.404319e-01</td>\n",
       "      <td>2.435232e-01</td>\n",
       "      <td>2.367702e-01</td>\n",
       "      <td>0.000000e+00</td>\n",
       "      <td>0.000000e+00</td>\n",
       "      <td>0.000000e+00</td>\n",
       "      <td>4.000000e+00</td>\n",
       "      <td>2.000000e+00</td>\n",
       "      <td>1.000000e+00</td>\n",
       "      <td>5.000000e+00</td>\n",
       "      <td>5.000000e+00</td>\n",
       "    </tr>\n",
       "    <tr>\n",
       "      <th>75%</th>\n",
       "      <td>3.138556e-01</td>\n",
       "      <td>3.189311e-01</td>\n",
       "      <td>3.131837e-01</td>\n",
       "      <td>0.000000e+00</td>\n",
       "      <td>0.000000e+00</td>\n",
       "      <td>0.000000e+00</td>\n",
       "      <td>8.000000e+00</td>\n",
       "      <td>3.000000e+00</td>\n",
       "      <td>1.800000e+01</td>\n",
       "      <td>7.000000e+00</td>\n",
       "      <td>7.000000e+00</td>\n",
       "    </tr>\n",
       "    <tr>\n",
       "      <th>max</th>\n",
       "      <td>1.000000e+00</td>\n",
       "      <td>1.000000e+00</td>\n",
       "      <td>1.000000e+00</td>\n",
       "      <td>5.000000e+00</td>\n",
       "      <td>5.000000e+00</td>\n",
       "      <td>5.000000e+00</td>\n",
       "      <td>1.400000e+01</td>\n",
       "      <td>3.000000e+00</td>\n",
       "      <td>1.800000e+01</td>\n",
       "      <td>9.000000e+00</td>\n",
       "      <td>9.000000e+00</td>\n",
       "    </tr>\n",
       "  </tbody>\n",
       "</table>\n",
       "</div>"
      ],
      "text/plain": [
       "       combined_eye_closure  left_image_eye_closure  right_image_eye_closure  \\\n",
       "count          3.419459e+06            3.419459e+06             3.419459e+06   \n",
       "mean           2.572041e-01            2.588607e-01             2.557060e-01   \n",
       "std            1.484495e-01            1.531535e-01             1.518298e-01   \n",
       "min            0.000000e+00            0.000000e+00             0.000000e+00   \n",
       "25%            1.617839e-01            1.646101e-01             1.615132e-01   \n",
       "50%            2.404319e-01            2.435232e-01             2.367702e-01   \n",
       "75%            3.138556e-01            3.189311e-01             3.131837e-01   \n",
       "max            1.000000e+00            1.000000e+00             1.000000e+00   \n",
       "\n",
       "       combined_eye_state  left_image_eye_state  right_image_eye_state  \\\n",
       "count        3.419459e+06          3.419459e+06           3.419459e+06   \n",
       "mean         4.893289e-02          4.595318e-02           4.333083e-02   \n",
       "std          3.028240e-01          2.937611e-01           2.903665e-01   \n",
       "min          0.000000e+00          0.000000e+00           0.000000e+00   \n",
       "25%          0.000000e+00          0.000000e+00           0.000000e+00   \n",
       "50%          0.000000e+00          0.000000e+00           0.000000e+00   \n",
       "75%          0.000000e+00          0.000000e+00           0.000000e+00   \n",
       "max          5.000000e+00          5.000000e+00           5.000000e+00   \n",
       "\n",
       "         subject_id    session_id  session_type  \\\n",
       "count  3.419459e+06  3.419459e+06  3.419459e+06   \n",
       "mean   5.376347e+00  1.905337e+00  5.842592e+00   \n",
       "std    3.619695e+00  8.319376e-01  8.033923e+00   \n",
       "min    1.000000e+00  1.000000e+00  0.000000e+00   \n",
       "25%    3.000000e+00  1.000000e+00  0.000000e+00   \n",
       "50%    4.000000e+00  2.000000e+00  1.000000e+00   \n",
       "75%    8.000000e+00  3.000000e+00  1.800000e+01   \n",
       "max    1.400000e+01  3.000000e+00  1.800000e+01   \n",
       "\n",
       "       karolinska_response_nearest_interpolation  \\\n",
       "count                               3.419459e+06   \n",
       "mean                                5.131993e+00   \n",
       "std                                 2.453929e+00   \n",
       "min                                 1.000000e+00   \n",
       "25%                                 3.000000e+00   \n",
       "50%                                 5.000000e+00   \n",
       "75%                                 7.000000e+00   \n",
       "max                                 9.000000e+00   \n",
       "\n",
       "       karolinska_response_linear_interpolation  \n",
       "count                              3.419459e+06  \n",
       "mean                               5.131993e+00  \n",
       "std                                2.453929e+00  \n",
       "min                                1.000000e+00  \n",
       "25%                                3.000000e+00  \n",
       "50%                                5.000000e+00  \n",
       "75%                                7.000000e+00  \n",
       "max                                9.000000e+00  "
      ]
     },
     "execution_count": 5,
     "metadata": {},
     "output_type": "execute_result"
    }
   ],
   "source": [
    "feature_df.describe()"
   ]
  },
  {
   "cell_type": "code",
   "execution_count": 5,
   "metadata": {},
   "outputs": [],
   "source": []
  },
  {
   "cell_type": "code",
   "execution_count": 7,
   "metadata": {},
   "outputs": [
    {
     "data": {
      "text/plain": [
       "<AxesSubplot:>"
      ]
     },
     "execution_count": 7,
     "metadata": {},
     "output_type": "execute_result"
    },
    {
     "data": {
      "image/png": "[encoded data removed]",
      "text/plain": [
       "<Figure size 432x288 with 1 Axes>"
      ]
     },
     "metadata": {
      "needs_background": "light"
     },
     "output_type": "display_data"
    }
   ],
   "source": [
    "feature_df[\"combined_eye_closure\"].hist()"
   ]
  },
  {
   "cell_type": "code",
   "execution_count": null,
   "metadata": {},
   "outputs": [],
   "source": []
  }
 ],
 "metadata": {
  "kernelspec": {
   "display_name": "Python 3",
   "language": "python",
   "name": "python3"
  },
  "language_info": {
   "codemirror_mode": {
    "name": "ipython",
    "version": 3
   },
   "file_extension": ".py",
   "mimetype": "text/x-python",
   "name": "python",
   "nbconvert_exporter": "python",
   "pygments_lexer": "ipython3",
   "version": "3.6.9"
  }
 },
 "nbformat": 4,
 "nbformat_minor": 4
}
